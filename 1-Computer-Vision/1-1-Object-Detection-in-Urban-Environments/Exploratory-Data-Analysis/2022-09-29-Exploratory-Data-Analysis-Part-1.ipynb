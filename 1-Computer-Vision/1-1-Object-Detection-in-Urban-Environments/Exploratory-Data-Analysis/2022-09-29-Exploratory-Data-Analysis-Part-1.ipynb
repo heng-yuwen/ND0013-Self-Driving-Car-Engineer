{
 "cells": [
  {
   "cell_type": "markdown",
   "metadata": {
    "id": "Ke5BenZDsWEa"
   },
   "source": [
    "# Project 1.1: Object Detection in Urban Environments\n",
    "## Part 1: Exploring the dataset — Basics\n",
    "#### By Jonathan L. Moran (jonathan.moran107@gmail.com)\n",
    "From the Self-Driving Car Engineer Nanodegree programme offered at Udacity."
   ]
  },
  {
   "cell_type": "markdown",
   "metadata": {
    "id": "n1fgx0egsWEi"
   },
   "source": [
    "## Objectives"
   ]
  },
  {
   "cell_type": "markdown",
   "metadata": {
    "id": "1VjHRPThsWEi"
   },
   "source": [
    "* Fetch the [Waymo Open Dataset](https://waymo.com/open/);\n",
    "* Visualise a few images and their bounding boxes."
   ]
  },
  {
   "cell_type": "markdown",
   "metadata": {
    "id": "HYdkTcXosWEj"
   },
   "source": [
    "## 1. Introduction"
   ]
  },
  {
   "cell_type": "code",
   "execution_count": 1,
   "metadata": {
    "id": "mGpKRxztsWEk"
   },
   "outputs": [],
   "source": [
    "### Importing the required modules"
   ]
  },
  {
   "cell_type": "code",
   "execution_count": 2,
   "metadata": {
    "id": "YYQ-sBhwsWEm"
   },
   "outputs": [],
   "source": [
    "import glob\n",
    "import logging\n",
    "import matplotlib.pyplot as plt\n",
    "import matplotlib.patches as patches\n",
    "import os"
   ]
  },
  {
   "cell_type": "code",
   "execution_count": 3,
   "metadata": {
    "colab": {
     "base_uri": "https://localhost:8080/"
    },
    "id": "AKTNIw_OsWEn",
    "outputId": "14be572f-4fea-4248-e029-a75dd10e3fd7"
   },
   "outputs": [
    {
     "name": "stdout",
     "output_type": "stream",
     "text": [
      "\u001b[?25l\r",
      "\u001b[K     |▏                               | 10 kB 15.9 MB/s eta 0:00:01\r",
      "\u001b[K     |▎                               | 20 kB 21.6 MB/s eta 0:00:01\r",
      "\u001b[K     |▌                               | 30 kB 27.8 MB/s eta 0:00:01\r",
      "\u001b[K     |▋                               | 40 kB 31.6 MB/s eta 0:00:01\r",
      "\u001b[K     |▉                               | 51 kB 35.3 MB/s eta 0:00:01\r",
      "\u001b[K     |█                               | 61 kB 39.6 MB/s eta 0:00:01\r",
      "\u001b[K     |█▏                              | 71 kB 42.1 MB/s eta 0:00:01\r",
      "\u001b[K     |█▎                              | 81 kB 43.9 MB/s eta 0:00:01\r",
      "\u001b[K     |█▍                              | 92 kB 36.2 MB/s eta 0:00:01\r",
      "\u001b[K     |█▋                              | 102 kB 27.8 MB/s eta 0:00:01\r",
      "\u001b[K     |█▊                              | 112 kB 27.8 MB/s eta 0:00:01\r",
      "\u001b[K     |██                              | 122 kB 27.8 MB/s eta 0:00:01\r",
      "\u001b[K     |██                              | 133 kB 27.8 MB/s eta 0:00:01\r",
      "\u001b[K     |██▎                             | 143 kB 27.8 MB/s eta 0:00:01\r",
      "\u001b[K     |██▍                             | 153 kB 27.8 MB/s eta 0:00:01\r",
      "\u001b[K     |██▋                             | 163 kB 27.8 MB/s eta 0:00:01\r",
      "\u001b[K     |██▊                             | 174 kB 27.8 MB/s eta 0:00:01\r",
      "\u001b[K     |██▉                             | 184 kB 27.8 MB/s eta 0:00:01\r",
      "\u001b[K     |███                             | 194 kB 27.8 MB/s eta 0:00:01\r",
      "\u001b[K     |███▏                            | 204 kB 27.8 MB/s eta 0:00:01\r",
      "\u001b[K     |███▍                            | 215 kB 27.8 MB/s eta 0:00:01\r",
      "\u001b[K     |███▌                            | 225 kB 27.8 MB/s eta 0:00:01\r",
      "\u001b[K     |███▊                            | 235 kB 27.8 MB/s eta 0:00:01\r",
      "\u001b[K     |███▉                            | 245 kB 27.8 MB/s eta 0:00:01\r",
      "\u001b[K     |████                            | 256 kB 27.8 MB/s eta 0:00:01\r",
      "\u001b[K     |████▏                           | 266 kB 27.8 MB/s eta 0:00:01\r",
      "\u001b[K     |████▎                           | 276 kB 27.8 MB/s eta 0:00:01\r",
      "\u001b[K     |████▌                           | 286 kB 27.8 MB/s eta 0:00:01\r",
      "\u001b[K     |████▋                           | 296 kB 27.8 MB/s eta 0:00:01\r",
      "\u001b[K     |████▉                           | 307 kB 27.8 MB/s eta 0:00:01\r",
      "\u001b[K     |█████                           | 317 kB 27.8 MB/s eta 0:00:01\r",
      "\u001b[K     |█████▏                          | 327 kB 27.8 MB/s eta 0:00:01\r",
      "\u001b[K     |█████▎                          | 337 kB 27.8 MB/s eta 0:00:01\r",
      "\u001b[K     |█████▌                          | 348 kB 27.8 MB/s eta 0:00:01\r",
      "\u001b[K     |█████▋                          | 358 kB 27.8 MB/s eta 0:00:01\r",
      "\u001b[K     |█████▊                          | 368 kB 27.8 MB/s eta 0:00:01\r",
      "\u001b[K     |██████                          | 378 kB 27.8 MB/s eta 0:00:01\r",
      "\u001b[K     |██████                          | 389 kB 27.8 MB/s eta 0:00:01\r",
      "\u001b[K     |██████▎                         | 399 kB 27.8 MB/s eta 0:00:01\r",
      "\u001b[K     |██████▍                         | 409 kB 27.8 MB/s eta 0:00:01\r",
      "\u001b[K     |██████▋                         | 419 kB 27.8 MB/s eta 0:00:01\r",
      "\u001b[K     |██████▊                         | 430 kB 27.8 MB/s eta 0:00:01\r",
      "\u001b[K     |███████                         | 440 kB 27.8 MB/s eta 0:00:01\r",
      "\u001b[K     |███████                         | 450 kB 27.8 MB/s eta 0:00:01\r",
      "\u001b[K     |███████▏                        | 460 kB 27.8 MB/s eta 0:00:01\r",
      "\u001b[K     |███████▍                        | 471 kB 27.8 MB/s eta 0:00:01\r",
      "\u001b[K     |███████▌                        | 481 kB 27.8 MB/s eta 0:00:01\r",
      "\u001b[K     |███████▊                        | 491 kB 27.8 MB/s eta 0:00:01\r",
      "\u001b[K     |███████▉                        | 501 kB 27.8 MB/s eta 0:00:01\r",
      "\u001b[K     |████████                        | 512 kB 27.8 MB/s eta 0:00:01\r",
      "\u001b[K     |████████▏                       | 522 kB 27.8 MB/s eta 0:00:01\r",
      "\u001b[K     |████████▍                       | 532 kB 27.8 MB/s eta 0:00:01\r",
      "\u001b[K     |████████▌                       | 542 kB 27.8 MB/s eta 0:00:01\r",
      "\u001b[K     |████████▋                       | 552 kB 27.8 MB/s eta 0:00:01\r",
      "\u001b[K     |████████▉                       | 563 kB 27.8 MB/s eta 0:00:01\r",
      "\u001b[K     |█████████                       | 573 kB 27.8 MB/s eta 0:00:01\r",
      "\u001b[K     |█████████▏                      | 583 kB 27.8 MB/s eta 0:00:01\r",
      "\u001b[K     |█████████▎                      | 593 kB 27.8 MB/s eta 0:00:01\r",
      "\u001b[K     |█████████▌                      | 604 kB 27.8 MB/s eta 0:00:01\r",
      "\u001b[K     |█████████▋                      | 614 kB 27.8 MB/s eta 0:00:01\r",
      "\u001b[K     |█████████▊                      | 624 kB 27.8 MB/s eta 0:00:01\r",
      "\u001b[K     |██████████                      | 634 kB 27.8 MB/s eta 0:00:01\r",
      "\u001b[K     |██████████                      | 645 kB 27.8 MB/s eta 0:00:01\r",
      "\u001b[K     |██████████▎                     | 655 kB 27.8 MB/s eta 0:00:01\r",
      "\u001b[K     |██████████▍                     | 665 kB 27.8 MB/s eta 0:00:01\r",
      "\u001b[K     |██████████▋                     | 675 kB 27.8 MB/s eta 0:00:01\r",
      "\u001b[K     |██████████▊                     | 686 kB 27.8 MB/s eta 0:00:01\r",
      "\u001b[K     |███████████                     | 696 kB 27.8 MB/s eta 0:00:01\r",
      "\u001b[K     |███████████                     | 706 kB 27.8 MB/s eta 0:00:01\r",
      "\u001b[K     |███████████▏                    | 716 kB 27.8 MB/s eta 0:00:01\r",
      "\u001b[K     |███████████▍                    | 727 kB 27.8 MB/s eta 0:00:01\r",
      "\u001b[K     |███████████▌                    | 737 kB 27.8 MB/s eta 0:00:01\r",
      "\u001b[K     |███████████▊                    | 747 kB 27.8 MB/s eta 0:00:01\r",
      "\u001b[K     |███████████▉                    | 757 kB 27.8 MB/s eta 0:00:01\r",
      "\u001b[K     |████████████                    | 768 kB 27.8 MB/s eta 0:00:01\r",
      "\u001b[K     |████████████▏                   | 778 kB 27.8 MB/s eta 0:00:01\r",
      "\u001b[K     |████████████▍                   | 788 kB 27.8 MB/s eta 0:00:01\r",
      "\u001b[K     |████████████▌                   | 798 kB 27.8 MB/s eta 0:00:01\r",
      "\u001b[K     |████████████▋                   | 808 kB 27.8 MB/s eta 0:00:01\r",
      "\u001b[K     |████████████▉                   | 819 kB 27.8 MB/s eta 0:00:01\r",
      "\u001b[K     |█████████████                   | 829 kB 27.8 MB/s eta 0:00:01\r",
      "\u001b[K     |█████████████▏                  | 839 kB 27.8 MB/s eta 0:00:01\r",
      "\u001b[K     |█████████████▎                  | 849 kB 27.8 MB/s eta 0:00:01\r",
      "\u001b[K     |█████████████▌                  | 860 kB 27.8 MB/s eta 0:00:01\r",
      "\u001b[K     |█████████████▋                  | 870 kB 27.8 MB/s eta 0:00:01\r",
      "\u001b[K     |█████████████▉                  | 880 kB 27.8 MB/s eta 0:00:01\r",
      "\u001b[K     |██████████████                  | 890 kB 27.8 MB/s eta 0:00:01\r",
      "\u001b[K     |██████████████                  | 901 kB 27.8 MB/s eta 0:00:01\r",
      "\u001b[K     |██████████████▎                 | 911 kB 27.8 MB/s eta 0:00:01\r",
      "\u001b[K     |██████████████▍                 | 921 kB 27.8 MB/s eta 0:00:01\r",
      "\u001b[K     |██████████████▋                 | 931 kB 27.8 MB/s eta 0:00:01\r",
      "\u001b[K     |██████████████▊                 | 942 kB 27.8 MB/s eta 0:00:01\r",
      "\u001b[K     |███████████████                 | 952 kB 27.8 MB/s eta 0:00:01\r",
      "\u001b[K     |███████████████                 | 962 kB 27.8 MB/s eta 0:00:01\r",
      "\u001b[K     |███████████████▎                | 972 kB 27.8 MB/s eta 0:00:01\r",
      "\u001b[K     |███████████████▍                | 983 kB 27.8 MB/s eta 0:00:01\r",
      "\u001b[K     |███████████████▌                | 993 kB 27.8 MB/s eta 0:00:01\r",
      "\u001b[K     |███████████████▊                | 1.0 MB 27.8 MB/s eta 0:00:01\r",
      "\u001b[K     |███████████████▉                | 1.0 MB 27.8 MB/s eta 0:00:01\r",
      "\u001b[K     |████████████████                | 1.0 MB 27.8 MB/s eta 0:00:01\r",
      "\u001b[K     |████████████████▏               | 1.0 MB 27.8 MB/s eta 0:00:01\r",
      "\u001b[K     |████████████████▍               | 1.0 MB 27.8 MB/s eta 0:00:01\r",
      "\u001b[K     |████████████████▌               | 1.1 MB 27.8 MB/s eta 0:00:01\r",
      "\u001b[K     |████████████████▊               | 1.1 MB 27.8 MB/s eta 0:00:01\r",
      "\u001b[K     |████████████████▉               | 1.1 MB 27.8 MB/s eta 0:00:01\r",
      "\u001b[K     |█████████████████               | 1.1 MB 27.8 MB/s eta 0:00:01\r",
      "\u001b[K     |█████████████████▏              | 1.1 MB 27.8 MB/s eta 0:00:01\r",
      "\u001b[K     |█████████████████▎              | 1.1 MB 27.8 MB/s eta 0:00:01\r",
      "\u001b[K     |█████████████████▌              | 1.1 MB 27.8 MB/s eta 0:00:01\r",
      "\u001b[K     |█████████████████▋              | 1.1 MB 27.8 MB/s eta 0:00:01\r",
      "\u001b[K     |█████████████████▉              | 1.1 MB 27.8 MB/s eta 0:00:01\r",
      "\u001b[K     |██████████████████              | 1.1 MB 27.8 MB/s eta 0:00:01\r",
      "\u001b[K     |██████████████████              | 1.2 MB 27.8 MB/s eta 0:00:01\r",
      "\u001b[K     |██████████████████▎             | 1.2 MB 27.8 MB/s eta 0:00:01\r",
      "\u001b[K     |██████████████████▍             | 1.2 MB 27.8 MB/s eta 0:00:01\r",
      "\u001b[K     |██████████████████▋             | 1.2 MB 27.8 MB/s eta 0:00:01\r",
      "\u001b[K     |██████████████████▊             | 1.2 MB 27.8 MB/s eta 0:00:01\r",
      "\u001b[K     |███████████████████             | 1.2 MB 27.8 MB/s eta 0:00:01\r",
      "\u001b[K     |███████████████████             | 1.2 MB 27.8 MB/s eta 0:00:01\r",
      "\u001b[K     |███████████████████▎            | 1.2 MB 27.8 MB/s eta 0:00:01\r",
      "\u001b[K     |███████████████████▍            | 1.2 MB 27.8 MB/s eta 0:00:01\r",
      "\u001b[K     |███████████████████▌            | 1.2 MB 27.8 MB/s eta 0:00:01\r",
      "\u001b[K     |███████████████████▊            | 1.3 MB 27.8 MB/s eta 0:00:01\r",
      "\u001b[K     |███████████████████▉            | 1.3 MB 27.8 MB/s eta 0:00:01\r",
      "\u001b[K     |████████████████████            | 1.3 MB 27.8 MB/s eta 0:00:01\r",
      "\u001b[K     |████████████████████▏           | 1.3 MB 27.8 MB/s eta 0:00:01\r",
      "\u001b[K     |████████████████████▍           | 1.3 MB 27.8 MB/s eta 0:00:01\r",
      "\u001b[K     |████████████████████▌           | 1.3 MB 27.8 MB/s eta 0:00:01\r",
      "\u001b[K     |████████████████████▊           | 1.3 MB 27.8 MB/s eta 0:00:01\r",
      "\u001b[K     |████████████████████▉           | 1.3 MB 27.8 MB/s eta 0:00:01\r",
      "\u001b[K     |█████████████████████           | 1.3 MB 27.8 MB/s eta 0:00:01\r",
      "\u001b[K     |█████████████████████▏          | 1.4 MB 27.8 MB/s eta 0:00:01\r",
      "\u001b[K     |█████████████████████▎          | 1.4 MB 27.8 MB/s eta 0:00:01\r",
      "\u001b[K     |█████████████████████▌          | 1.4 MB 27.8 MB/s eta 0:00:01\r",
      "\u001b[K     |█████████████████████▋          | 1.4 MB 27.8 MB/s eta 0:00:01\r",
      "\u001b[K     |█████████████████████▉          | 1.4 MB 27.8 MB/s eta 0:00:01\r",
      "\u001b[K     |██████████████████████          | 1.4 MB 27.8 MB/s eta 0:00:01\r",
      "\u001b[K     |██████████████████████▏         | 1.4 MB 27.8 MB/s eta 0:00:01\r",
      "\u001b[K     |██████████████████████▎         | 1.4 MB 27.8 MB/s eta 0:00:01\r",
      "\u001b[K     |██████████████████████▍         | 1.4 MB 27.8 MB/s eta 0:00:01\r",
      "\u001b[K     |██████████████████████▋         | 1.4 MB 27.8 MB/s eta 0:00:01\r",
      "\u001b[K     |██████████████████████▊         | 1.5 MB 27.8 MB/s eta 0:00:01\r",
      "\u001b[K     |███████████████████████         | 1.5 MB 27.8 MB/s eta 0:00:01\r",
      "\u001b[K     |███████████████████████         | 1.5 MB 27.8 MB/s eta 0:00:01\r",
      "\u001b[K     |███████████████████████▎        | 1.5 MB 27.8 MB/s eta 0:00:01\r",
      "\u001b[K     |███████████████████████▍        | 1.5 MB 27.8 MB/s eta 0:00:01\r",
      "\u001b[K     |███████████████████████▋        | 1.5 MB 27.8 MB/s eta 0:00:01\r",
      "\u001b[K     |███████████████████████▊        | 1.5 MB 27.8 MB/s eta 0:00:01\r",
      "\u001b[K     |███████████████████████▉        | 1.5 MB 27.8 MB/s eta 0:00:01\r",
      "\u001b[K     |████████████████████████        | 1.5 MB 27.8 MB/s eta 0:00:01\r",
      "\u001b[K     |████████████████████████▏       | 1.5 MB 27.8 MB/s eta 0:00:01\r",
      "\u001b[K     |████████████████████████▍       | 1.6 MB 27.8 MB/s eta 0:00:01\r",
      "\u001b[K     |████████████████████████▌       | 1.6 MB 27.8 MB/s eta 0:00:01\r",
      "\u001b[K     |████████████████████████▊       | 1.6 MB 27.8 MB/s eta 0:00:01\r",
      "\u001b[K     |████████████████████████▉       | 1.6 MB 27.8 MB/s eta 0:00:01\r",
      "\u001b[K     |█████████████████████████       | 1.6 MB 27.8 MB/s eta 0:00:01\r",
      "\u001b[K     |█████████████████████████▏      | 1.6 MB 27.8 MB/s eta 0:00:01\r",
      "\u001b[K     |█████████████████████████▎      | 1.6 MB 27.8 MB/s eta 0:00:01\r",
      "\u001b[K     |█████████████████████████▌      | 1.6 MB 27.8 MB/s eta 0:00:01\r",
      "\u001b[K     |█████████████████████████▋      | 1.6 MB 27.8 MB/s eta 0:00:01\r",
      "\u001b[K     |█████████████████████████▉      | 1.6 MB 27.8 MB/s eta 0:00:01\r",
      "\u001b[K     |██████████████████████████      | 1.7 MB 27.8 MB/s eta 0:00:01\r",
      "\u001b[K     |██████████████████████████▏     | 1.7 MB 27.8 MB/s eta 0:00:01\r",
      "\u001b[K     |██████████████████████████▎     | 1.7 MB 27.8 MB/s eta 0:00:01\r",
      "\u001b[K     |██████████████████████████▍     | 1.7 MB 27.8 MB/s eta 0:00:01\r",
      "\u001b[K     |██████████████████████████▋     | 1.7 MB 27.8 MB/s eta 0:00:01\r",
      "\u001b[K     |██████████████████████████▊     | 1.7 MB 27.8 MB/s eta 0:00:01\r",
      "\u001b[K     |███████████████████████████     | 1.7 MB 27.8 MB/s eta 0:00:01\r",
      "\u001b[K     |███████████████████████████     | 1.7 MB 27.8 MB/s eta 0:00:01\r",
      "\u001b[K     |███████████████████████████▎    | 1.7 MB 27.8 MB/s eta 0:00:01\r",
      "\u001b[K     |███████████████████████████▍    | 1.8 MB 27.8 MB/s eta 0:00:01\r",
      "\u001b[K     |███████████████████████████▋    | 1.8 MB 27.8 MB/s eta 0:00:01\r",
      "\u001b[K     |███████████████████████████▊    | 1.8 MB 27.8 MB/s eta 0:00:01\r",
      "\u001b[K     |███████████████████████████▉    | 1.8 MB 27.8 MB/s eta 0:00:01\r",
      "\u001b[K     |████████████████████████████    | 1.8 MB 27.8 MB/s eta 0:00:01\r",
      "\u001b[K     |████████████████████████████▏   | 1.8 MB 27.8 MB/s eta 0:00:01\r",
      "\u001b[K     |████████████████████████████▍   | 1.8 MB 27.8 MB/s eta 0:00:01\r",
      "\u001b[K     |████████████████████████████▌   | 1.8 MB 27.8 MB/s eta 0:00:01\r",
      "\u001b[K     |████████████████████████████▊   | 1.8 MB 27.8 MB/s eta 0:00:01\r",
      "\u001b[K     |████████████████████████████▉   | 1.8 MB 27.8 MB/s eta 0:00:01\r",
      "\u001b[K     |█████████████████████████████   | 1.9 MB 27.8 MB/s eta 0:00:01\r",
      "\u001b[K     |█████████████████████████████▏  | 1.9 MB 27.8 MB/s eta 0:00:01\r",
      "\u001b[K     |█████████████████████████████▎  | 1.9 MB 27.8 MB/s eta 0:00:01\r",
      "\u001b[K     |█████████████████████████████▌  | 1.9 MB 27.8 MB/s eta 0:00:01\r",
      "\u001b[K     |█████████████████████████████▋  | 1.9 MB 27.8 MB/s eta 0:00:01\r",
      "\u001b[K     |█████████████████████████████▉  | 1.9 MB 27.8 MB/s eta 0:00:01\r",
      "\u001b[K     |██████████████████████████████  | 1.9 MB 27.8 MB/s eta 0:00:01\r",
      "\u001b[K     |██████████████████████████████▏ | 1.9 MB 27.8 MB/s eta 0:00:01\r",
      "\u001b[K     |██████████████████████████████▎ | 1.9 MB 27.8 MB/s eta 0:00:01\r",
      "\u001b[K     |██████████████████████████████▌ | 1.9 MB 27.8 MB/s eta 0:00:01\r",
      "\u001b[K     |██████████████████████████████▋ | 2.0 MB 27.8 MB/s eta 0:00:01\r",
      "\u001b[K     |██████████████████████████████▊ | 2.0 MB 27.8 MB/s eta 0:00:01\r",
      "\u001b[K     |███████████████████████████████ | 2.0 MB 27.8 MB/s eta 0:00:01\r",
      "\u001b[K     |███████████████████████████████ | 2.0 MB 27.8 MB/s eta 0:00:01\r",
      "\u001b[K     |███████████████████████████████▎| 2.0 MB 27.8 MB/s eta 0:00:01\r",
      "\u001b[K     |███████████████████████████████▍| 2.0 MB 27.8 MB/s eta 0:00:01\r",
      "\u001b[K     |███████████████████████████████▋| 2.0 MB 27.8 MB/s eta 0:00:01\r",
      "\u001b[K     |███████████████████████████████▊| 2.0 MB 27.8 MB/s eta 0:00:01\r",
      "\u001b[K     |████████████████████████████████| 2.0 MB 27.8 MB/s eta 0:00:01\r",
      "\u001b[K     |████████████████████████████████| 2.0 MB 27.8 MB/s \n",
      "\u001b[?25h\u001b[33mWARNING: Running pip as the 'root' user can result in broken permissions and conflicting behaviour with the system package manager. It is recommended to use a virtual environment instead: https://pip.pypa.io/warnings/venv\u001b[0m\u001b[33m\n",
      "\u001b[2K     \u001b[90m━━━━━━━━━━━━━━━━━━━━━━━━━━━━━━━━━━━━━━━━\u001b[0m \u001b[32m3.4/3.4 MB\u001b[0m \u001b[31m76.3 MB/s\u001b[0m eta \u001b[36m0:00:00\u001b[0m\n",
      "\u001b[2K     \u001b[90m━━━━━━━━━━━━━━━━━━━━━━━━━━━━━━━━━━━━━━━\u001b[0m \u001b[32m564.4/564.4 MB\u001b[0m \u001b[31m2.9 MB/s\u001b[0m eta \u001b[36m0:00:00\u001b[0m\n",
      "\u001b[2K     \u001b[90m━━━━━━━━━━━━━━━━━━━━━━━━━━━━━━━━━━━━━━\u001b[0m \u001b[32m132.0/132.0 kB\u001b[0m \u001b[31m14.8 MB/s\u001b[0m eta \u001b[36m0:00:00\u001b[0m\n",
      "\u001b[2K     \u001b[90m━━━━━━━━━━━━━━━━━━━━━━━━━━━━━━━━━━━━━━━━\u001b[0m \u001b[32m14.8/14.8 MB\u001b[0m \u001b[31m80.9 MB/s\u001b[0m eta \u001b[36m0:00:00\u001b[0m\n",
      "\u001b[?25h  Preparing metadata (setup.py) ... \u001b[?25l\u001b[?25hdone\n",
      "  Preparing metadata (setup.py) ... \u001b[?25l\u001b[?25hdone\n",
      "  Building wheel for clang (setup.py) ... \u001b[?25l\u001b[?25hdone\n",
      "  Building wheel for wrapt (setup.py) ... \u001b[?25l\u001b[?25hdone\n",
      "\u001b[31mERROR: pip's dependency resolver does not currently take into account all the packages that are installed. This behaviour is the source of the following dependency conflicts.\n",
      "xarray-einstats 0.2.2 requires numpy>=1.21, but you have numpy 1.19.5 which is incompatible.\n",
      "jax 0.3.17 requires numpy>=1.20, but you have numpy 1.19.5 which is incompatible.\n",
      "cmdstanpy 1.0.7 requires numpy>=1.21, but you have numpy 1.19.5 which is incompatible.\u001b[0m\u001b[31m\n",
      "\u001b[0m\u001b[33mWARNING: Running pip as the 'root' user can result in broken permissions and conflicting behaviour with the system package manager. It is recommended to use a virtual environment instead: https://pip.pypa.io/warnings/venv\u001b[0m\u001b[33m\n",
      "\u001b[0m"
     ]
    }
   ],
   "source": [
    "### Installing the Waymo Open Dataset API and dependencies\n",
    "!pip3 install --quiet --upgrade pip\n",
    "!pip3 install --quiet numpy==1.21.6\n",
    "!pip3 install --quiet waymo-open-dataset-tf-2-6-0==1.4.9"
   ]
  },
  {
   "cell_type": "code",
   "execution_count": 18,
   "metadata": {
    "id": "k_s8pwPPsWEo"
   },
   "outputs": [],
   "source": [
    "#### Importing the Waymo Open Dataset API\n",
    "import google.protobuf\n",
    "import tensorflow as tf\n",
    "import waymo_open_dataset\n",
    "from waymo_open_dataset import dataset_pb2 as open_dataset"
   ]
  },
  {
   "cell_type": "code",
   "execution_count": 5,
   "metadata": {
    "id": "XLercVvHsWEo"
   },
   "outputs": [],
   "source": [
    "### Setting the environment variables"
   ]
  },
  {
   "cell_type": "code",
   "execution_count": 6,
   "metadata": {
    "id": "MBGf5P3_sWEo"
   },
   "outputs": [],
   "source": [
    "ENV_COLAB = True                # True if running in Google Colab instance"
   ]
  },
  {
   "cell_type": "code",
   "execution_count": 7,
   "metadata": {
    "id": "Bto0Oai7sWEp"
   },
   "outputs": [],
   "source": [
    "# Root directory\n",
    "DIR_BASE = '' if not ENV_COLAB else '/content/'"
   ]
  },
  {
   "cell_type": "code",
   "execution_count": 8,
   "metadata": {
    "id": "D2Zndf-WsWEq"
   },
   "outputs": [],
   "source": [
    "# Subdirectory to save output files\n",
    "DIR_OUT = os.path.join(DIR_BASE, 'out/')\n",
    "# Subdirectory pointing to input data\n",
    "DIR_SRC = os.path.join(DIR_BASE, 'data/')"
   ]
  },
  {
   "cell_type": "code",
   "execution_count": 9,
   "metadata": {
    "id": "v_RR70DRsWEr"
   },
   "outputs": [],
   "source": [
    "### Creating subdirectories (if not exists)\n",
    "os.makedirs(DIR_OUT, exist_ok=True)"
   ]
  },
  {
   "cell_type": "markdown",
   "metadata": {
    "id": "J-lznImhsWEs"
   },
   "source": [
    "### 1.1. The Waymo Open Dataset"
   ]
  },
  {
   "cell_type": "markdown",
   "metadata": {
    "id": "cR4W24zhsWEu"
   },
   "source": [
    "The [Waymo Open Dataset for Perception](https://waymo.com/open/data/perception) [1] is a publicly available dataset consisting of high-resolution sensor data and labels for 2,030 driving scenes."
   ]
  },
  {
   "cell_type": "markdown",
   "metadata": {
    "id": "LhtukETmsWEw"
   },
   "source": [
    "A nice summary of the `waymo_open_dataset` API and data attributes can be found on [this repository](https://github.com/Jossome/Waymo-open-dataset-document) by GitHub user Jossome [2] or in the TensorFlow Datasets Catalog [here](https://www.tensorflow.org/datasets/catalog/waymo_open_dataset)."
   ]
  },
  {
   "cell_type": "markdown",
   "metadata": {
    "id": "Mg0sp3kKsWEx"
   },
   "source": [
    "#### Getting familiar with classes"
   ]
  },
  {
   "cell_type": "markdown",
   "metadata": {
    "id": "otsGnd71sWEy"
   },
   "source": [
    "The `Box` attribute has a label that can be one of five possible object classes defined in [`label.proto`](https://github.com/waymo-research/waymo-open-dataset/blob/master/waymo_open_dataset/label.proto#L63):\n",
    "```\n",
    "TYPE_UNKNOWN = 0\n",
    "TYPE_VEHICLE = 1\n",
    "TYPE_PEDESTRIAN = 2\n",
    "TYPE_SIGN = 3\n",
    "TYPE_CYCLIST = 4\n",
    "```"
   ]
  },
  {
   "cell_type": "markdown",
   "metadata": {
    "id": "_1PVr-IlsWEy"
   },
   "source": [
    "#### Closer look at bounding boxes data"
   ]
  },
  {
   "cell_type": "markdown",
   "metadata": {
    "id": "5VkU0UbFsWEz"
   },
   "source": [
    "The Waymo Open Dataset is a multi-sensor, multi-modal dataset. Every frame in the dataset consists of data captured from multiple camera views surrounding the Waymo ego vehicle. The data from any one camera can be accessed with `frame.camera_labels` access chain, followed by any one of the following `CameraName` enums defined in [`dataset.proto`](ataset/blob/master/waymo_open_dataset/dataset.proto#L48):\n",
    "```\n",
    "UNKNOWN = 0\n",
    "FRONT = 1\n",
    "FRONT_LEFT = 2\n",
    "FRONT_RIGHT = 3\n",
    "SIDE_LEFT = 4\n",
    "SIDE_RIGHT = 5\n",
    "```\n",
    "\n",
    "To access the front camera's bounding box data, for example, the following access chain is used:\n",
    "```\n",
    "boxes = frame.camera_labels[0]\n",
    "```\n",
    "which will return a `waymo_open_dataset.dataset_pb2.CameraLabels` instance.\n",
    "\n",
    "Note that we have to access each camera's data by its index. In the Waymo Open Dataset v1.2, the camera indices are slightly different from the above Enum definitions. That is, there is no `UNKNOWN` camera label, and the camera indices starting with `FRONT` begin at index `0`.\n",
    "\n",
    "To access the first `Box` instance from the `FRONT` camera, we can use\n",
    "```\n",
    "box = frame.camera_labels[0].labels[0]\n",
    "```\n",
    "which will return a single `waymo_open_dataset.label_pb2.Label` instance. Each `Label` instance has several important attributes:\n",
    "\n",
    "* `box`: the upright bounding box coordinates and dimensions in vehicle frame;\n",
    "* `type`: the class label (int) of the object (e.g., `TYPE_VEHICLE`, `TYPE_PEDESTRIAN`);\n",
    "* `id`: the unique identifier assigned to this object;\n",
    "* `detection_difficulty_level`: the difficulty level for detection;\n",
    "* `tracking_difficulty_level`: the difficulty level for tracking.\n",
    "\n",
    "More on the specifics of the attribute values can be found in the [`label.proto`](https://github.com/waymo-research/waymo-open-dataset/blob/master/waymo_open_dataset/label.proto) file and on the [`labeling_specifications.md`](https://github.com/waymo-research/waymo-open-dataset/blob/master/docs/labeling_specifications.md) document."
   ]
  },
  {
   "cell_type": "markdown",
   "metadata": {
    "id": "PuBGIbGmsWE2"
   },
   "source": [
    "## 2. Programming Task"
   ]
  },
  {
   "cell_type": "markdown",
   "metadata": {
    "id": "AwXfJMgrsWE2"
   },
   "source": [
    "### 2.1. Fetching the Waymo Open Dataset"
   ]
  },
  {
   "cell_type": "code",
   "execution_count": 10,
   "metadata": {
    "id": "OngCZWposWE3"
   },
   "outputs": [],
   "source": [
    "### Path to store all downloaded `.tfrecord` training files\n",
    "DIR_TRAIN = os.path.join(DIR_SRC, 'train')"
   ]
  },
  {
   "cell_type": "code",
   "execution_count": 11,
   "metadata": {
    "id": "xzBjyni_sWE5"
   },
   "outputs": [],
   "source": [
    "### Create subdirectory if not already exists\n",
    "os.makedirs(DIR_TRAIN, exist_ok=True)"
   ]
  },
  {
   "cell_type": "markdown",
   "metadata": {
    "id": "C0plmibbsWE6"
   },
   "source": [
    "#### Using `gsutil`"
   ]
  },
  {
   "cell_type": "code",
   "execution_count": 12,
   "metadata": {
    "id": "gmZyBSqHsWE6"
   },
   "outputs": [],
   "source": [
    "### Authenticating the Google user account authorized to access \n",
    "#   the Waymo Open Dataset via GCS / gsutil\n",
    "from google.colab import auth\n",
    "auth.authenticate_user()"
   ]
  },
  {
   "cell_type": "code",
   "execution_count": 13,
   "metadata": {
    "id": "ypnhmbwGsWE8"
   },
   "outputs": [],
   "source": [
    "### Setting the gsutil variables\n",
    "bucket_name = 'waymo_open_dataset_v_1_2_0_individual_files/training/'\n",
    "file_name = 'segment-1005081002024129653_5313_150_5333_150_with_camera_labels.tfrecord'"
   ]
  },
  {
   "cell_type": "code",
   "execution_count": 14,
   "metadata": {
    "colab": {
     "base_uri": "https://localhost:8080/"
    },
    "id": "REjtiu8LsWE8",
    "outputId": "7f377c3d-b64c-4fc7-b6e8-5ab5a70f973e"
   },
   "outputs": [
    {
     "name": "stdout",
     "output_type": "stream",
     "text": [
      "Copying gs://waymo_open_dataset_v_1_2_0_individual_files/training/segment-1005081002024129653_5313_150_5333_150_with_camera_labels.tfrecord...\n",
      "\\ [1 files][940.1 MiB/940.1 MiB]   73.4 MiB/s                                   \n",
      "Operation completed over 1 objects/940.1 MiB.                                    \n"
     ]
    }
   ],
   "source": [
    "### Downloading the specified `.tfrecord` fle via GCS gsutil\n",
    "#   Note: GCS Public or Authenticated URLs do *not* work (`Permission denied`)\n",
    "!gsutil cp \"{'gs://' + bucket_name + file_name}\" \"{DIR_TRAIN}\""
   ]
  },
  {
   "cell_type": "code",
   "execution_count": 15,
   "metadata": {
    "colab": {
     "base_uri": "https://localhost:8080/"
    },
    "id": "U4wv_yOHsWE-",
    "outputId": "5c79d026-ac90-4bb9-f2fc-71fff4db5669"
   },
   "outputs": [
    {
     "data": {
      "text/plain": [
       "['segment-1005081002024129653_5313_150_5333_150_with_camera_labels.tfrecord']"
      ]
     },
     "execution_count": 15,
     "metadata": {},
     "output_type": "execute_result"
    }
   ],
   "source": [
    "### List of all `.tfrecord` files in training subdirectory\n",
    "files_to_convert = [f for f in os.listdir(DIR_TRAIN) if (\n",
    "                    f.endswith('.tfrecord'))]\n",
    "files_to_convert"
   ]
  },
  {
   "cell_type": "code",
   "execution_count": 16,
   "metadata": {
    "colab": {
     "base_uri": "https://localhost:8080/"
    },
    "id": "1G79WyxrsWFD",
    "outputId": "aa90a41c-71ae-4ba1-d0d5-95099147b33f"
   },
   "outputs": [
    {
     "data": {
      "text/plain": [
       "['/content/data/train/segment-1005081002024129653_5313_150_5333_150_with_camera_labels.tfrecord']"
      ]
     },
     "execution_count": 16,
     "metadata": {},
     "output_type": "execute_result"
    }
   ],
   "source": [
    "### Alternatively, we can use glob to get the absolute paths\n",
    "file_paths_to_convert = glob.glob('{}//*.tfrecord'.format(DIR_TRAIN))\n",
    "file_paths_to_convert"
   ]
  },
  {
   "cell_type": "markdown",
   "metadata": {
    "id": "NR0wD2lFsWFE"
   },
   "source": [
    "#### Getting the first frame"
   ]
  },
  {
   "cell_type": "code",
   "execution_count": 19,
   "metadata": {
    "id": "tR-GVBC9sWFF"
   },
   "outputs": [],
   "source": [
    "### Trying with the example record fetched from GCS\n",
    "FILE_PATH_WAYMO = file_paths_to_convert[0]\n",
    "example_set = tf.data.TFRecordDataset(FILE_PATH_WAYMO, compression_type='')\n",
    "# Return the first frame in the record\n",
    "for i, data in enumerate(example_set):\n",
    "    frame = open_dataset.Frame()\n",
    "    frame.ParseFromString(bytearray(data.numpy()))\n",
    "    frame_nr = i+1\n",
    "    break"
   ]
  },
  {
   "cell_type": "markdown",
   "metadata": {
    "id": "sU32rmVwsWFG"
   },
   "source": [
    "The Waymo `Frame` object is a container for all attributes collected at a specific context (point in time within a driving scene)."
   ]
  },
  {
   "cell_type": "code",
   "execution_count": 20,
   "metadata": {
    "colab": {
     "base_uri": "https://localhost:8080/"
    },
    "id": "aAXdYK5osWFH",
    "outputId": "babad9eb-fce1-4b28-d101-4f6fd8c782dd"
   },
   "outputs": [
    {
     "data": {
      "text/plain": [
       "waymo_open_dataset.dataset_pb2.Frame"
      ]
     },
     "execution_count": 20,
     "metadata": {},
     "output_type": "execute_result"
    }
   ],
   "source": [
    "type(frame)"
   ]
  },
  {
   "cell_type": "markdown",
   "metadata": {
    "id": "cD7aVDvHsWFI"
   },
   "source": [
    "The tree structure listing the attributes associated with a `Frame` object are visualised nicely on the [Waymo Open Dataset Document](https://github.com/Jossome/Waymo-open-dataset-document) repository."
   ]
  },
  {
   "cell_type": "code",
   "execution_count": 21,
   "metadata": {
    "colab": {
     "base_uri": "https://localhost:8080/"
    },
    "id": "AGY_6smNsWFJ",
    "outputId": "ec328b6a-7fd9-4dfa-d5bc-2a58befb9796"
   },
   "outputs": [
    {
     "data": {
      "text/plain": [
       "name: \"1005081002024129653_5313_150_5333_150\"\n",
       "camera_calibrations {\n",
       "  name: FRONT\n",
       "  intrinsic: 2083.091212133254\n",
       "  intrinsic: 2083.091212133254\n",
       "  intrinsic: 957.2938286685071\n",
       "  intrinsic: 650.5697927719348\n",
       "  intrinsic: 0.04067236637270731\n",
       "  intrinsic: -0.3374271466716414\n",
       "  intrinsic: 0.0016273829099200004\n",
       "  intrinsic: -0.0007879327563938157\n",
       "  intrinsic: 0.0\n",
       "  extrinsic {\n",
       "    transform: 0.9999151800844592\n",
       "    transform: -0.008280529275085654\n",
       "    transform: -0.010053132426658727\n",
       "    transform: 1.5444145042510942\n",
       "    transform: 0.008380895965622895\n",
       "    transform: 0.9999150476776223\n",
       "    transform: 0.009982885888937929\n",
       "    transform: -0.022877347388980857\n",
       "    transform: 0.009969614810858722\n",
       "    transform: -0.010066293398396434\n",
       "    transform: 0.9998996332221252\n",
       "    transform: 2.115953541712884\n",
       "    transform: 0.0\n",
       "    transform: 0.0\n",
       "    transform: 0.0\n",
       "    transform: 1.0\n",
       "  }\n",
       "  width: 1920\n",
       "  height: 1280\n",
       "  rolling_shutter_direction: RIGHT_TO_LEFT\n",
       "}\n",
       "camera_calibrations {\n",
       "  name: FRONT_LEFT\n",
       "  intrinsic: 2083.7318205002007\n",
       "  intrinsic: 2083.7318205002007\n",
       "  intrinsic: 970.3176094982554\n",
       "  intrinsic: 632.5251399459935\n",
       "  intrinsic: 0.0455796545917619\n",
       "  intrinsic: -0.35403417476148374\n",
       "  intrinsic: 0.0006196783672492779\n",
       "  intrinsic: 0.0014815820487813483\n",
       "  intrinsic: 0.0\n",
       "  extrinsic {\n",
       "    transform: 0.6999081394293895\n",
       "    transform: -0.7142196095619765\n",
       "    transform: -0.004352663279896696\n",
       "    transform: 1.4966436414481195\n",
       "    transform: 0.7140873020002204\n",
       "    transform: 0.6998755279288658\n",
       "    transform: -0.015923898025841435\n",
       "    transform: 0.09550840486978261\n",
       "    transform: 0.014419482741635486\n",
       "    transform: 0.008037084261673145\n",
       "    transform: 0.9998637326126167\n",
       "    transform: 2.116104849961399\n",
       "    transform: 0.0\n",
       "    transform: 0.0\n",
       "    transform: 0.0\n",
       "    transform: 1.0\n",
       "  }\n",
       "  width: 1920\n",
       "  height: 1280\n",
       "  rolling_shutter_direction: RIGHT_TO_LEFT\n",
       "}\n",
       "camera_calibrations {\n",
       "  name: FRONT_RIGHT\n",
       "  intrinsic: 2082.2327597604753\n",
       "  intrinsic: 2082.2327597604753\n",
       "  intrinsic: 955.4046240156483\n",
       "  intrinsic: 653.698903155303\n",
       "  intrinsic: 0.044328526985070366\n",
       "  intrinsic: -0.3399662257128328\n",
       "  intrinsic: 0.0016037200659441385\n",
       "  intrinsic: -0.0014698906603900644\n",
       "  intrinsic: 0.0\n",
       "  extrinsic {\n",
       "    transform: 0.7110613631684687\n",
       "    transform: 0.7029191382059731\n",
       "    transform: -0.01721693796152869\n",
       "    transform: 1.494885147853866\n",
       "    transform: -0.7030535398885329\n",
       "    transform: 0.7111319055643803\n",
       "    transform: -0.0026707561806083883\n",
       "    transform: -0.09636892278268996\n",
       "    transform: 0.010366188267734094\n",
       "    transform: 0.014003500710368023\n",
       "    transform: 0.9998482105343054\n",
       "    transform: 2.115619227448896\n",
       "    transform: 0.0\n",
       "    transform: 0.0\n",
       "    transform: 0.0\n",
       "    transform: 1.0\n",
       "  }\n",
       "  width: 1920\n",
       "  height: 1280\n",
       "  rolling_shutter_direction: RIGHT_TO_LEFT\n",
       "}\n",
       "camera_calibrations {\n",
       "  name: SIDE_LEFT\n",
       "  intrinsic: 2076.1811337146355\n",
       "  intrinsic: 2076.1811337146355\n",
       "  intrinsic: 990.0281697291939\n",
       "  intrinsic: 241.46281117992226\n",
       "  intrinsic: 0.04928692476207616\n",
       "  intrinsic: -0.34392914437617744\n",
       "  intrinsic: 0.0023430477974171115\n",
       "  intrinsic: 0.0007565136814982747\n",
       "  intrinsic: 0.0\n",
       "  extrinsic {\n",
       "    transform: 0.0007773674626140717\n",
       "    transform: -0.9999544925788731\n",
       "    transform: 0.009508336929044875\n",
       "    transform: 1.4319986098354978\n",
       "    transform: 0.9999953948876524\n",
       "    transform: 0.000749435473798957\n",
       "    transform: -0.002940841709227941\n",
       "    transform: 0.11595612014948509\n",
       "    transform: 0.0029335819941143535\n",
       "    transform: 0.009510579256742532\n",
       "    transform: 0.9999504702628451\n",
       "    transform: 2.115959785688142\n",
       "    transform: 0.0\n",
       "    transform: 0.0\n",
       "    transform: 0.0\n",
       "    transform: 1.0\n",
       "  }\n",
       "  width: 1920\n",
       "  height: 886\n",
       "  rolling_shutter_direction: RIGHT_TO_LEFT\n",
       "}\n",
       "camera_calibrations {\n",
       "  name: SIDE_RIGHT\n",
       "  intrinsic: 2074.8857573225537\n",
       "  intrinsic: 2074.8857573225537\n",
       "  intrinsic: 1003.9971325425103\n",
       "  intrinsic: 238.44709517989804\n",
       "  intrinsic: 0.04289697738220451\n",
       "  intrinsic: -0.33138635154302365\n",
       "  intrinsic: 0.0012455007322764611\n",
       "  intrinsic: -8.338132004573235e-05\n",
       "  intrinsic: 0.0\n",
       "  extrinsic {\n",
       "    transform: 0.006786477634291073\n",
       "    transform: 0.9999769404419077\n",
       "    transform: 0.00024961121890264114\n",
       "    transform: 1.4298762217224124\n",
       "    transform: -0.9999673412652808\n",
       "    transform: 0.006787507568524859\n",
       "    transform: -0.004387042722913697\n",
       "    transform: -0.11562741288756147\n",
       "    transform: -0.004388635797684665\n",
       "    transform: -0.0002198304995963268\n",
       "    transform: 0.9999903457285908\n",
       "    transform: 2.1153736707023656\n",
       "    transform: 0.0\n",
       "    transform: 0.0\n",
       "    transform: 0.0\n",
       "    transform: 1.0\n",
       "  }\n",
       "  width: 1920\n",
       "  height: 886\n",
       "  rolling_shutter_direction: RIGHT_TO_LEFT\n",
       "}\n",
       "laser_calibrations {\n",
       "  name: FRONT\n",
       "  beam_inclination_min: -1.5707963267948966\n",
       "  beam_inclination_max: 0.5235987755982988\n",
       "  extrinsic {\n",
       "    transform: 0.9998668699072513\n",
       "    transform: 0.01068194351437736\n",
       "    transform: 0.01233444545294474\n",
       "    transform: 4.07\n",
       "    transform: -0.010715722036114829\n",
       "    transform: 0.9999390050606141\n",
       "    transform: 0.0026757166580387804\n",
       "    transform: 0.0\n",
       "    transform: -0.012305111259990328\n",
       "    transform: -0.002807532928575302\n",
       "    transform: 0.9999203478256327\n",
       "    transform: 0.691\n",
       "    transform: 0.0\n",
       "    transform: 0.0\n",
       "    transform: 0.0\n",
       "    transform: 1.0\n",
       "  }\n",
       "}\n",
       "laser_calibrations {\n",
       "  name: REAR\n",
       "  beam_inclination_min: -1.5707963267948966\n",
       "  beam_inclination_max: 0.5235987755982988\n",
       "  extrinsic {\n",
       "    transform: -0.9999954615415251\n",
       "    transform: -0.002970629151337338\n",
       "    transform: -0.0005022537181981321\n",
       "    transform: -1.154\n",
       "    transform: 0.0029694627223425013\n",
       "    transform: -0.9999929290711635\n",
       "    transform: 0.0023074008788306396\n",
       "    transform: 0.0\n",
       "    transform: -0.0005091045991123086\n",
       "    transform: 0.0023058989830942187\n",
       "    transform: 0.9999972118173064\n",
       "    transform: 0.466\n",
       "    transform: 0.0\n",
       "    transform: 0.0\n",
       "    transform: 0.0\n",
       "    transform: 1.0\n",
       "  }\n",
       "}\n",
       "laser_calibrations {\n",
       "  name: SIDE_LEFT\n",
       "  beam_inclination_min: -1.5707963267948966\n",
       "  beam_inclination_max: 0.5235987755982988\n",
       "  extrinsic {\n",
       "    transform: 0.026782591901166743\n",
       "    transform: -0.9995910662234105\n",
       "    transform: 0.010019635592216343\n",
       "    transform: 3.245\n",
       "    transform: 0.9996217498118772\n",
       "    transform: 0.02684338092960774\n",
       "    transform: 0.00598249139645594\n",
       "    transform: 1.025\n",
       "    transform: -0.006249005848633493\n",
       "    transform: 0.009855619037545145\n",
       "    transform: 0.9999319060312509\n",
       "    transform: 0.981\n",
       "    transform: 0.0\n",
       "    transform: 0.0\n",
       "    transform: 0.0\n",
       "    transform: 1.0\n",
       "  }\n",
       "}\n",
       "laser_calibrations {\n",
       "  name: SIDE_RIGHT\n",
       "  beam_inclination_min: -1.5707963267948966\n",
       "  beam_inclination_max: 0.5235987755982988\n",
       "  extrinsic {\n",
       "    transform: -0.007856674144848988\n",
       "    transform: 0.9999500763836013\n",
       "    transform: 0.006173930013477093\n",
       "    transform: 3.245\n",
       "    transform: -0.9996985303445468\n",
       "    transform: -0.007710771425717948\n",
       "    transform: -0.023310779287134407\n",
       "    transform: -1.025\n",
       "    transform: -0.023262009765599025\n",
       "    transform: -0.006355213957844648\n",
       "    transform: 0.999709202797101\n",
       "    transform: 0.981\n",
       "    transform: 0.0\n",
       "    transform: 0.0\n",
       "    transform: 0.0\n",
       "    transform: 1.0\n",
       "  }\n",
       "}\n",
       "laser_calibrations {\n",
       "  name: TOP\n",
       "  beam_inclinations: -0.3068221643606317\n",
       "  beam_inclinations: -0.29616997127840206\n",
       "  beam_inclinations: -0.2853962204525353\n",
       "  beam_inclinations: -0.2746601303299283\n",
       "  beam_inclinations: -0.2644333813317894\n",
       "  beam_inclinations: -0.2547203518161254\n",
       "  beam_inclinations: -0.2451132959715716\n",
       "  beam_inclinations: -0.23558114040681422\n",
       "  beam_inclinations: -0.22619708514421144\n",
       "  beam_inclinations: -0.21731641865081186\n",
       "  beam_inclinations: -0.20758272607836958\n",
       "  beam_inclinations: -0.19887296032455892\n",
       "  beam_inclinations: -0.19035328460083245\n",
       "  beam_inclinations: -0.18198429312782394\n",
       "  beam_inclinations: -0.1736864756471841\n",
       "  beam_inclinations: -0.16585362025780892\n",
       "  beam_inclinations: -0.15781802751504315\n",
       "  beam_inclinations: -0.15015955231667588\n",
       "  beam_inclinations: -0.14255145051670604\n",
       "  beam_inclinations: -0.135341813293673\n",
       "  beam_inclinations: -0.12822897363273378\n",
       "  beam_inclinations: -0.12122709544366828\n",
       "  beam_inclinations: -0.11464284303455963\n",
       "  beam_inclinations: -0.10786407088929861\n",
       "  beam_inclinations: -0.10122563229416759\n",
       "  beam_inclinations: -0.0949103749691842\n",
       "  beam_inclinations: -0.08921964911100977\n",
       "  beam_inclinations: -0.08333436696230079\n",
       "  beam_inclinations: -0.0779083231387212\n",
       "  beam_inclinations: -0.0725217846742372\n",
       "  beam_inclinations: -0.06735713829370016\n",
       "  beam_inclinations: -0.06240423882729429\n",
       "  beam_inclinations: -0.057603335746683415\n",
       "  beam_inclinations: -0.052982910920792214\n",
       "  beam_inclinations: -0.048682467189922196\n",
       "  beam_inclinations: -0.044331819106485204\n",
       "  beam_inclinations: -0.040285724475958684\n",
       "  beam_inclinations: -0.036195266813787486\n",
       "  beam_inclinations: -0.03242534844151601\n",
       "  beam_inclinations: -0.028847612027413705\n",
       "  beam_inclinations: -0.025949854706149633\n",
       "  beam_inclinations: -0.022544743478313256\n",
       "  beam_inclinations: -0.019545621162384785\n",
       "  beam_inclinations: -0.01633934133029724\n",
       "  beam_inclinations: -0.013559296624130246\n",
       "  beam_inclinations: -0.010780719883858314\n",
       "  beam_inclinations: -0.008031332258054524\n",
       "  beam_inclinations: -0.005073299090986749\n",
       "  beam_inclinations: -0.001984334363384077\n",
       "  beam_inclinations: 0.0007478706918118139\n",
       "  beam_inclinations: 0.003908920510252933\n",
       "  beam_inclinations: 0.006693257908674477\n",
       "  beam_inclinations: 0.009380296925375564\n",
       "  beam_inclinations: 0.012285848006322597\n",
       "  beam_inclinations: 0.015325464639903252\n",
       "  beam_inclinations: 0.01826429352258585\n",
       "  beam_inclinations: 0.021376977526962104\n",
       "  beam_inclinations: 0.02423980582923657\n",
       "  beam_inclinations: 0.026783223797488986\n",
       "  beam_inclinations: 0.029773578747043672\n",
       "  beam_inclinations: 0.03278254592456431\n",
       "  beam_inclinations: 0.035864543330808685\n",
       "  beam_inclinations: 0.038801578650298874\n",
       "  beam_inclinations: 0.04173696755489331\n",
       "  beam_inclination_min: -0.3121482609017465\n",
       "  beam_inclination_max: 0.04320466200719053\n",
       "  extrinsic {\n",
       "    transform: -0.8526719509207284\n",
       "    transform: -0.5224378704141576\n",
       "    transform: -0.0030357322277815815\n",
       "    transform: 1.43\n",
       "    transform: 0.5224451202853144\n",
       "    transform: -0.8526692389088371\n",
       "    transform: -0.0025030598650299957\n",
       "    transform: 0.0\n",
       "    transform: -0.0012807822227881296\n",
       "    transform: -0.0037202924272838555\n",
       "    transform: 0.9999922594806188\n",
       "    transform: 2.184\n",
       "    transform: 0.0\n",
       "    transform: 0.0\n",
       "    transform: 0.0\n",
       "    transform: 1.0\n",
       "  }\n",
       "}\n",
       "stats {\n",
       "  laser_object_counts {\n",
       "    type: TYPE_VEHICLE\n",
       "    count: 6\n",
       "  }\n",
       "  laser_object_counts {\n",
       "    type: TYPE_SIGN\n",
       "    count: 6\n",
       "  }\n",
       "  time_of_day: \"Day\"\n",
       "  location: \"location_phx\"\n",
       "  weather: \"sunny\"\n",
       "  camera_object_counts {\n",
       "    type: TYPE_VEHICLE\n",
       "    count: 10\n",
       "  }\n",
       "  camera_object_counts {\n",
       "    type: TYPE_PEDESTRIAN\n",
       "    count: 4\n",
       "  }\n",
       "}"
      ]
     },
     "execution_count": 21,
     "metadata": {},
     "output_type": "execute_result"
    }
   ],
   "source": [
    "frame.context"
   ]
  },
  {
   "cell_type": "markdown",
   "metadata": {
    "id": "-0A9wDEDsWFd"
   },
   "source": [
    "## Credits"
   ]
  },
  {
   "cell_type": "markdown",
   "metadata": {
    "id": "ZTE-OezpsWFe"
   },
   "source": [
    "This assignment was prepared by Thomas Hossler and Michael Virgo et al., Winter 2021 (link [here](https://github.com/udacity/nd013-c1-vision-starter)).\n",
    "\n",
    "References\n",
    "* [1] Sun, Pei, et al. \"Scalability in Perception for Autonomous Driving: Waymo Open Dataset.\" Proceedings of the IEEE/CVF Conference on Computer Vision and Pattern Recognition (CVPR). 2020. https://waymo.com/open.\n",
    "\n",
    "\n",
    "Helpful resources:\n",
    "* [Exercise 1.1.3: Creating `TFRecord`s by Jonathan L. Moran | GitHub](https://github.com/jonathanloganmoran/ND0013-Self-Driving-Car-Engineer/blob/1-1-Object-Detection-2D/1-Computer-Vision/Exercises/1-1-3-Creating-TF-Records/2022-08-03-Creating-TF-Records.ipynb)"
   ]
  }
 ],
 "metadata": {
  "colab": {
   "collapsed_sections": [
    "q9WF-acysWFS"
   ],
   "provenance": []
  },
  "kernelspec": {
   "display_name": "Python 3",
   "language": "python",
   "name": "python3"
  },
  "language_info": {
   "codemirror_mode": {
    "name": "ipython",
    "version": 3
   },
   "file_extension": ".py",
   "mimetype": "text/x-python",
   "name": "python",
   "nbconvert_exporter": "python",
   "pygments_lexer": "ipython3",
   "version": "3.8.13"
  },
  "toc": {
   "base_numbering": 1,
   "nav_menu": {},
   "number_sections": false,
   "sideBar": true,
   "skip_h1_title": false,
   "title_cell": "Table of Contents",
   "title_sidebar": "Contents",
   "toc_cell": false,
   "toc_position": {},
   "toc_section_display": true,
   "toc_window_display": true
  }
 },
 "nbformat": 4,
 "nbformat_minor": 1
}
