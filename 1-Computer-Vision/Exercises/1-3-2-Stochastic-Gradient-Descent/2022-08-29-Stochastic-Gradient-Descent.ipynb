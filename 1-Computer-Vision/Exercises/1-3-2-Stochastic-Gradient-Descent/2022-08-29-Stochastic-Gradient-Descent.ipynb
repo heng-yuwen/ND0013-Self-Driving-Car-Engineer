{
 "cells": [
  {
   "cell_type": "markdown",
   "id": "41f13c1a",
   "metadata": {
    "id": "41f13c1a"
   },
   "source": [
    "# Exercise 1.3.2: Stochastic Gradient Descent\n",
    "#### By Jonathan L. Moran (jonathan.moran107@gmail.com)\n",
    "From the Self-Driving Car Engineer Nanodegree programme offered at Udacity."
   ]
  },
  {
   "cell_type": "markdown",
   "id": "24ec40be",
   "metadata": {
    "id": "24ec40be"
   },
   "source": [
    "## Objectives"
   ]
  },
  {
   "cell_type": "markdown",
   "id": "dca14290",
   "metadata": {
    "id": "dca14290"
   },
   "source": [
    "* Create training and validation loops in TensorFlow using the custom functions built in [Exercise 1.3.1](https://github.com/jonathanloganmoran/ND0013-Self-Driving-Car-Engineer/blob/main/1-Object-Detection-in-Urban-Environments/Exercises/1-3-1-Logistic-Regression/2022-08-27-Logistic-Regression.ipynb);\n",
    "* Implement the logistic regression model using [stochastic gradient descent](https://en.wikipedia.org/wiki/Stochastic_gradient_descent);\n",
    "* Train the model on the [German Traffic Sign Recognition Benchmark](https://benchmark.ini.rub.de) dataset."
   ]
  },
  {
   "cell_type": "markdown",
   "id": "b4f4e8ab",
   "metadata": {
    "id": "b4f4e8ab"
   },
   "source": [
    "## 1. Introduction"
   ]
  },
  {
   "cell_type": "code",
   "execution_count": 1,
   "id": "e0c9985c",
   "metadata": {
    "id": "e0c9985c"
   },
   "outputs": [],
   "source": [
    "### Importing required modules"
   ]
  },
  {
   "cell_type": "code",
   "execution_count": 2,
   "id": "2482b893",
   "metadata": {
    "id": "2482b893"
   },
   "outputs": [],
   "source": [
    "import logging\n",
    "from matplotlib import patches\n",
    "import matplotlib.pyplot as plt\n",
    "from mpl_toolkits.axes_grid1 import ImageGrid\n",
    "import numpy as np\n",
    "import os\n",
    "import tensorflow as tf\n",
    "from typing import Callable, List, Tuple"
   ]
  },
  {
   "cell_type": "code",
   "execution_count": 3,
   "id": "01951878",
   "metadata": {
    "colab": {
     "base_uri": "https://localhost:8080/",
     "height": 34
    },
    "id": "01951878",
    "outputId": "bf9b3f2d-9df8-4b07-d99a-99865348a8da"
   },
   "outputs": [
    {
     "data": {
      "application/vnd.google.colaboratory.intrinsic+json": {
       "type": "string"
      },
      "text/plain": [
       "'2.8.2'"
      ]
     },
     "execution_count": 3,
     "metadata": {},
     "output_type": "execute_result"
    }
   ],
   "source": [
    "tf.__version__"
   ]
  },
  {
   "cell_type": "code",
   "execution_count": 4,
   "id": "AgB2pnHaDxbp",
   "metadata": {
    "colab": {
     "base_uri": "https://localhost:8080/",
     "height": 34
    },
    "id": "AgB2pnHaDxbp",
    "outputId": "32db075e-78b1-4a02-8c07-b398c5bcdf9f"
   },
   "outputs": [
    {
     "data": {
      "application/vnd.google.colaboratory.intrinsic+json": {
       "type": "string"
      },
      "text/plain": [
       "'/device:GPU:0'"
      ]
     },
     "execution_count": 4,
     "metadata": {},
     "output_type": "execute_result"
    }
   ],
   "source": [
    "tf.test.gpu_device_name()"
   ]
  },
  {
   "cell_type": "code",
   "execution_count": 5,
   "id": "64d264e1",
   "metadata": {
    "id": "64d264e1"
   },
   "outputs": [],
   "source": [
    "### Setting environment variables"
   ]
  },
  {
   "cell_type": "code",
   "execution_count": 6,
   "id": "3f08d39f",
   "metadata": {
    "id": "3f08d39f"
   },
   "outputs": [],
   "source": [
    "ENV_COLAB = True                # True if running in Google Colab instance"
   ]
  },
  {
   "cell_type": "code",
   "execution_count": 7,
   "id": "2c878b39",
   "metadata": {
    "id": "2c878b39"
   },
   "outputs": [],
   "source": [
    "# Root directory\n",
    "DIR_BASE = '' if not ENV_COLAB else '/content/'"
   ]
  },
  {
   "cell_type": "code",
   "execution_count": 8,
   "id": "7b1c7af2",
   "metadata": {
    "id": "7b1c7af2"
   },
   "outputs": [],
   "source": [
    "# Subdirectory to save output files\n",
    "DIR_OUT = os.path.join(DIR_BASE, 'out/')\n",
    "# Subdirectory pointing to input data\n",
    "DIR_SRC = os.path.join(DIR_BASE, 'data/')"
   ]
  },
  {
   "cell_type": "code",
   "execution_count": 9,
   "id": "Um80O4oLET_V",
   "metadata": {
    "id": "Um80O4oLET_V"
   },
   "outputs": [],
   "source": [
    "### Unzipping the GTSRB dataset\n",
    "!unzip -q /content/GTSRB.zip -d /content/data/"
   ]
  },
  {
   "cell_type": "code",
   "execution_count": 10,
   "id": "ym4UGpTAjBly",
   "metadata": {
    "id": "ym4UGpTAjBly"
   },
   "outputs": [],
   "source": [
    "### Creating subdirectories (if not exists)\n",
    "os.makedirs(DIR_OUT, exist_ok=True)"
   ]
  },
  {
   "cell_type": "markdown",
   "id": "8cae4fa0",
   "metadata": {
    "id": "8cae4fa0"
   },
   "source": [
    "### 1.1. Custom model functions"
   ]
  },
  {
   "cell_type": "markdown",
   "id": "71f9d6c1",
   "metadata": {
    "id": "71f9d6c1"
   },
   "source": [
    "We will wrap the cross-entropy loss and accuracy metric functions in a [`tf.keras.metrics.MeanMetricWrapper`](https://www.tensorflow.org/api_docs/python/tf/keras/metrics/MeanMetricWrapper) which is a quick way to build a custom metric function in TensorFlow. Since the `MeanMetricWrapper` expects a per-sample loss array as output, we will slightly modify our `cross_entropy` and `accuracy` functions from [Exercise 1.3.1](https://github.com/jonathanloganmoran/ND0013-Self-Driving-Car-Engineer/blob/main/1-Object-Detection-in-Urban-Environments/Exercises/1-3-1-Logistic-Regression/2022-08-27-Logistic-Regression.ipynb)."
   ]
  },
  {
   "cell_type": "markdown",
   "id": "102dac87",
   "metadata": {
    "id": "102dac87"
   },
   "source": [
    "#### Softmax activation function"
   ]
  },
  {
   "cell_type": "markdown",
   "id": "10bf8c18",
   "metadata": {
    "id": "10bf8c18"
   },
   "source": [
    "This [softmax](https://en.wikipedia.org/wiki/Softmax_function) activation function is a generalisation of the sigmoid [logistic function](https://en.wikipedia.org/wiki/Logistic_function) to multiple dimensions. The softmax function computes the discrete probability distribution over all classes for each observation in the training step."
   ]
  },
  {
   "cell_type": "markdown",
   "id": "57a33786",
   "metadata": {
    "id": "57a33786"
   },
   "source": [
    "#### Cross-entropy loss function"
   ]
  },
  {
   "cell_type": "markdown",
   "id": "f246a1c2",
   "metadata": {
    "id": "f246a1c2"
   },
   "source": [
    "The [cross-entropy](https://en.wikipedia.org/wiki/Cross_entropy#Cross-entropy_loss_function_and_logistic_regression) loss function serves as measure of dissimilarity between the maximum likelihood estimate (the class label prediction) and the corresponding ground truth class label. We will use cross-entropy loss as a cost function to minimise over all data points in our training set."
   ]
  },
  {
   "cell_type": "markdown",
   "id": "e073f53f",
   "metadata": {
    "id": "e073f53f"
   },
   "source": [
    "#### Accuracy scoring metric function"
   ]
  },
  {
   "cell_type": "markdown",
   "id": "c08713c8",
   "metadata": {
    "id": "c08713c8"
   },
   "source": [
    "The average number of true class predictions over the total number of predicted class labels. For a single prediction, this value is either $1$ (correct) or $0$ (incorrect)."
   ]
  },
  {
   "cell_type": "markdown",
   "id": "81809b66",
   "metadata": {
    "id": "81809b66"
   },
   "source": [
    "### 1.2. Modelling with TensorFlow"
   ]
  },
  {
   "cell_type": "markdown",
   "id": "6b1b451a",
   "metadata": {
    "id": "6b1b451a"
   },
   "source": [
    "In this section we will build and prepare the [logistic regression](https://en.wikipedia.org/wiki/Logistic_regression) model for training and evaluation."
   ]
  },
  {
   "cell_type": "markdown",
   "id": "52dcd52e",
   "metadata": {
    "id": "52dcd52e"
   },
   "source": [
    "#### Stochastic Gradient Descent algorithm"
   ]
  },
  {
   "cell_type": "markdown",
   "id": "f0ea80e6",
   "metadata": {
    "id": "f0ea80e6"
   },
   "source": [
    "The logistic regression solver we have selected for this assignment is called [_stochastic gradient descent_](https://en.wikipedia.org/wiki/Stochastic_gradient_descent) (SGD). Stochastic gradient descent is used as an iterative optimisation technique for solving the [maximum likelihood estimation](https://en.wikipedia.org/wiki/Maximum_likelihood_estimation) problem when a closed-form solution does not exist (as in logistic regression). In essence, SGD iteratively estimates the parameters of a discrete probability distribution given a set of input observations. _Stochastic_ here implies that a batch size of $1$ is used. That is, on every weight update step only a single training example is used to compute the gradients. This differs from _batch_ or _mini-batch_ gradient descent, which use the full, or subset of the full datasets, on each update step.\n",
    "\n",
    "The `sgd` function loops over all weight values in vector $\\mathrm{w}$ and subtracts the gradient computation from each value $w_{i}$, performing a gradient _descent_ towards the function minima. Here we perform the _stochastic_ approach with `grad` computed on a per-sample basis. With this assumption we will not need to normalise the gradient update with respect to the number of training samples. This yields a gradient computed from the evaluated loss function (a constant value $C$) with respect to the model weights $\\mathrm{w}$:\n",
    "$$\n",
    "\\begin{align}\n",
    "    \\frac{\\partial C}{\\partial\\mathrm{w}} = \\frac{2}{N}\\sum_{i=1}^{N}\\left(\\mathrm{w}\\cdot \\mathrm{x}_{i} + b - y_{i}\\right)\\mathrm{x}_{i}^{\\top}.\n",
    "\\end{align}\n",
    "$$\n",
    "\n",
    "Assuming a batch size equal to one training sample, $N = \\vert \\mathrm{X} \\vert = 1$. The worked out derivation of the gradient and an accompanying explanation in much greater detail can be read in Terence Parr's explained.ai article [here](https://explained.ai/matrix-calculus/#sec:1.6.1) [1].\n",
    "\n",
    "Note that in our implementation of the weight update function we will be combining $\\mathrm{w}$ and $b$ into a single vector parameter  $\\hat{\\mathrm{w}} = \\left[\\mathrm{w}^{\\top}, b\\right]^{\\top}$. By tacking a $1$ onto the end of our feature vector $\\mathrm{x}$ we have $\\hat{x} = \\left[\\mathrm{x}^{\\top}, 1\\right]$ such that the function $z = \\mathrm{x} \\cdot \\mathrm{w} + b$ becomes $z = \\hat{\\mathrm{x}}\\cdot \\hat{\\mathrm{w}}$. More on this approach regarding computing the derivative with respect to the bias term be read [here](https://explained.ai/matrix-calculus/#sec:1.6.2)."
   ]
  },
  {
   "cell_type": "markdown",
   "id": "8aeaa8a6",
   "metadata": {
    "id": "8aeaa8a6"
   },
   "source": [
    "In summary, the stochastic gradient descent algorithm can be boiled down to a set of four steps:\n",
    "1. Compute the gradient of the function (finding the slope of the objective function w.r.t. each parameter/feature);\n",
    "2. Calculate the step size for each feature (product of learning rate and partial derivatives);\n",
    "3. \"Move\" the parameter vector values (the weights) in the direction of the steepest descent (subtract the step size from the weights);\n",
    "4. Repeat steps 1-3 until converged (such that the gradient becomes sufficiently close to zero)."
   ]
  },
  {
   "cell_type": "markdown",
   "id": "18509ff8",
   "metadata": {
    "id": "18509ff8"
   },
   "source": [
    "#### Logistic Regression model"
   ]
  },
  {
   "cell_type": "markdown",
   "id": "41ad2684",
   "metadata": {
    "id": "41ad2684"
   },
   "source": [
    "Logistic regression is a simple [linear model](https://en.wikipedia.org/wiki/Linear_model) for classification that attempts to fit a mapping between input data $X$ and output labels $y$. To do so, a linear function $y = m*x + b$ is approximated such that two variables $m$ and $b$ minimise the loss. For a linear model such as this, our $m$ variable represents a vector of _weights_ (denoted $\\mathrm{W}$) and our $b$ variable represents our _bias_ term. The loss (error) we are attempting to minimise is computed with an off-the-shelf [cross-entropy loss](https://en.wikipedia.org/wiki/Cross_entropy#Cross-entropy_loss_function_and_logistic_regression) function (commonly referred to as _log loss_). This function produces a loss value which essentially measures the difference between the predicted and true outcome variables."
   ]
  },
  {
   "cell_type": "markdown",
   "id": "a6c89588",
   "metadata": {
    "id": "a6c89588"
   },
   "source": [
    "### 1.3. Training and validation"
   ]
  },
  {
   "cell_type": "markdown",
   "id": "1ec7470b",
   "metadata": {
    "id": "1ec7470b"
   },
   "source": [
    "By utilising several TensorFlow Functional APIs we can perform custom training and validation loops."
   ]
  },
  {
   "cell_type": "markdown",
   "id": "fbd8bcff",
   "metadata": {
    "id": "fbd8bcff"
   },
   "source": [
    "**Training loop**:\n",
    "1. Iterate over training dataset sample-by-sample;\n",
    "2. Perform the forward pass of the model on each sample:\n",
    "    * Scale each image data array to values between 0 and 1;\n",
    "    * Compute the maximum likelihood estimate;\n",
    "    * Calculate the cross-entropy loss (i.e., measure prediction error);\n",
    "    * Obtain the gradient with respect to model weight vectors;\n",
    "    * Update the weight vectors by subtracting the gradient (stochastic gradient descent);\n",
    "    * Calculate the prediction accuracy;\n",
    "3. Return the mean average loss and accuracy metrics.\n",
    "\n",
    "\n",
    "**Validation loop**:\n",
    "1. Iterate over the validation dataset sample-by-sample;\n",
    "    * Scale each image data array to values between 0 and 1;\n",
    "    * Compute the maximum likelihood estimate (i.e., making a prediction);\n",
    "    * Calculate the prediction accuracy;\n",
    "2. Return the mean average accuracy metric."
   ]
  },
  {
   "cell_type": "markdown",
   "id": "44b087be",
   "metadata": {
    "id": "44b087be"
   },
   "source": [
    "In our `training_loop()` method we will implement the [`tf.GradientTape`](https://www.tensorflow.org/api_docs/python/tf/GradientTape) tool for performing [automatic differentiation](https://en.wikipedia.org/wiki/Automatic_differentiation) (_autodiff_). TensorFlow's `GradientTape` API uses a reverse-order traversal of operations in the forward and backward passes of a model in order to differentiate a desired function. This is known as _reverse mode differentiation_ and is a more-optimal technique over [symbolic differentiation](https://en.wikipedia.org/wiki/Symbolic_differentiation) and [numerical differentiation](https://en.wikipedia.org/wiki/Numerical_differentiation) for computing the partial derivatives of a function with respect to many inputs.\n",
    "\n",
    "Here our `GradientTape` routine will calculate the gradient of the loss with respect to the model variables after a forward pass of the model has been run. Once a maximum likelihood estimate has been worked out for an observation $x_{i}$ given its true class label $y = j$ with respect to the weight $w_{j}$, that is,\n",
    "\n",
    "$$\n",
    "\\begin{align}\n",
    "    P\\left(y = j \\vert z_{i} = x_{i}; w_{j} \\right) &= \\phi_{softmax}\\left(z_{i}\\right),\n",
    "\\end{align}\n",
    "$$\n",
    "\n",
    "where the input $z_{i}$ is defined to be\n",
    "$$\n",
    "\\begin{align}\n",
    "    z_{i} = w_{i}x_{i} \n",
    "\\end{align}\n",
    "$$\n",
    "\n",
    "such that $w$ is the model weight vector and $x_{i}$ is the feature vector belonging to the single training observation. \n",
    "\n",
    "The gradients computed with `GradientTape` for the cross-entropy loss\n",
    "$$\n",
    "\\begin{align}\n",
    "    loss\\left(x_{i}, y; w_{i}\\right) = H\\left(y, \\hat{y}\\right)\n",
    "\\end{align}\n",
    "$$\n",
    "\n",
    "for a one-hot encoded true class label vector $y$ and the corresponding predicted probability distribution $\\hat{y}$ are with respect to the model weight and bias parameters $w$ and $b$.\n",
    "\n",
    "In stochastic gradient descent, these iterative gradient computations are subtracted from the weight vector on a per-sample basis. An unbiased estimate of the _true_ gradient (i.e., gradient computed over the full dataset) using only a single observation can be achieved when sampling the observation uniformly at random over the entire dataset."
   ]
  },
  {
   "cell_type": "markdown",
   "id": "35b756ed",
   "metadata": {
    "id": "35b756ed"
   },
   "source": [
    "Note that the resulting gradient computed by `tf.GradientTape` is in the generalised [Jacobian matrix](https://en.wikipedia.org/wiki/Jacobian_matrix_and_determinant) form."
   ]
  },
  {
   "cell_type": "markdown",
   "id": "dd3b4072",
   "metadata": {
    "id": "dd3b4072"
   },
   "source": [
    "### 1.4. German Traffic Sign Recognition Benchmark (GTSRB) dataset"
   ]
  },
  {
   "cell_type": "markdown",
   "id": "0721ac5b",
   "metadata": {
    "id": "0721ac5b"
   },
   "source": [
    "The German Traffic Sign Recognition Benchmark is a multi-class, single-image classification challenge created by J. Stallkamp et al. (2012) at the [Institut für Neuroinformatik](https://benchmark.ini.rub.de/gtsrb_news.html) [2]. In this dataset there exists over 50.000 unique images of more than 40 distinct classes of traffic signs. \n",
    "\n",
    "Each image has been reliably annotated with the following information:\n",
    "* **Filename**: filename of the corresponding image;\n",
    "* **Width**: width of the image;\n",
    "* **Height**: height of the image;\n",
    "* **ROI.x1**: x-coordinate of top-left corner of traffic sign bounding box;\n",
    "* **ROI.y1**: y-coordinate of the top-left corner of traffic sign bounding box;\n",
    "* **ROI.x2**: x-coordinate of bottom-right corner of traffic sign bounding box;\n",
    "* **ROI.y2**: y-coordinate of the bottom-right corner of traffic sign bounding box; \n",
    "* **ClassId**: assigned class label.\n",
    "\n",
    "In addition to the CSV-formatted annotations, the following information about the images is provided:\n",
    "* Images contain one traffic sign each;\n",
    "* Images contain a border of 10% around the actual traffic sign (at least 5 pixels) to allow for edge-based approaches;\n",
    "* Images are stored in PPM format ([Portable Pixmap, P6](http://en.wikipedia.org/wiki/Netpbm_format));\n",
    "* Image sizes vary between 15x15 to 250x250 pixels;\n",
    "* Images are not necessarily squared;\n",
    "* The actual traffic sign is not necessarily centred within the image. This is true for images that were close to the image border in the full camera image;\n",
    "* The bounding box of the traffic sign is part of the annotations.\n",
    "\n",
    "Lastly, several pre-calculated feature sets are provided. Namely, _Histogram of Oriented Gradients_ (HOG) features, _Haar-like_ features (5 distinct Haar-like features), and _hue histograms_ (256-bin HSV colour space).\n",
    "\n",
    "This dataset presents unique real-world challenges within object recognition by providing traffic sign images captured in a variety of lighting/illumination conditions and images that have distortions (e.g., blurring, pixelation) as well as differences in shape, size, etc.\n",
    "\n",
    "For more information on the GTSRB dataset, see [here](https://benchmark.ini.rub.de/gtsrb_dataset.html). "
   ]
  },
  {
   "cell_type": "markdown",
   "id": "1ec31b1b",
   "metadata": {
    "id": "1ec31b1b"
   },
   "source": [
    "## 2. Programming Task"
   ]
  },
  {
   "cell_type": "markdown",
   "id": "cbbac723",
   "metadata": {
    "id": "cbbac723"
   },
   "source": [
    "### 2.1. Custom model functions"
   ]
  },
  {
   "cell_type": "markdown",
   "id": "98fcaa28",
   "metadata": {
    "id": "98fcaa28"
   },
   "source": [
    "The following functions from [Exercise 1.3.1](https://github.com/jonathanloganmoran/ND0013-Self-Driving-Car-Engineer/blob/main/1-Object-Detection-in-Urban-Environments/Exercises/1-3-1-Logistic-Regression/2022-08-27-Logistic-Regression.ipynb) have been slightly modified to work on a single input observation."
   ]
  },
  {
   "cell_type": "markdown",
   "id": "e8302548",
   "metadata": {
    "id": "e8302548"
   },
   "source": [
    "#### Softmax activation function"
   ]
  },
  {
   "cell_type": "code",
   "execution_count": 11,
   "id": "4b5aa5f8",
   "metadata": {
    "id": "4b5aa5f8"
   },
   "outputs": [],
   "source": [
    "### From J. Moran's `2022-08-27-Logistic-Regression.ipynb`"
   ]
  },
  {
   "cell_type": "code",
   "execution_count": 12,
   "id": "041d7fd7",
   "metadata": {
    "id": "041d7fd7"
   },
   "outputs": [],
   "source": [
    "def softmax(logits: tf.Tensor, stable: bool=False) -> tf.Tensor:\n",
    "    \"\"\"Returns the softmax probability distribution.\n",
    "    \n",
    "    :param logits: a 1xN tf.Tensor of logits.\n",
    "    :param stable: optional, flag indicating whether\n",
    "        or not to normalise the input data.\n",
    "    returns: soft_logits, a 1xN tf.Tensor of real \n",
    "        values in range (0,1) that sum up to 1.0.\n",
    "    \"\"\"\n",
    "    \n",
    "    assert isinstance(logits, tf.Tensor)\n",
    "    if stable:\n",
    "        logits = tf.subtract(logits, tf.reduce_max(logits))\n",
    "    soft_logits = tf.math.exp(logits)\n",
    "    soft_logits /= tf.math.reduce_sum(soft_logits)\n",
    "    return soft_logits"
   ]
  },
  {
   "cell_type": "markdown",
   "id": "abe07f6c",
   "metadata": {
    "id": "abe07f6c"
   },
   "source": [
    "#### Cross-entropy loss function"
   ]
  },
  {
   "cell_type": "code",
   "execution_count": 13,
   "id": "4fa1ad79",
   "metadata": {
    "id": "4fa1ad79"
   },
   "outputs": [],
   "source": [
    "def cross_entropy(y_true: tf.Tensor, y_pred: tf.Tensor) -> tf.Tensor:\n",
    "    \"\"\"Returns the per-sample cross-entropy loss.\n",
    "    \n",
    "    :param y_true: a 1xC tf.Tensor, the ground truth class label\n",
    "        as a one-hot encoded vector of length C (num of total classes).\n",
    "    :param y_pred: a 1xC tf.Tensor, the predicted per-class probabilities.\n",
    "    :returns: a 1x1 tf.Tensor, the categorical cross-entropy loss value\n",
    "        for a single observation and its ground truth label.\n",
    "    \"\"\"\n",
    "    \n",
    "    # Pick the probability value from the distribution\n",
    "    # that corresponds to the true class label\n",
    "    preds = tf.boolean_mask(y_pred, mask=y_true)\n",
    "    # Taking the negative log-likelihood\n",
    "    neg_log_likelihood = -tf.math.log(preds)\n",
    "    # Here we return the categorical cross-entropy loss\n",
    "    # value for a single observation (no need to normalise)\n",
    "    return tf.reduce_sum(neg_log_likelihood)"
   ]
  },
  {
   "cell_type": "markdown",
   "id": "c780ac6b",
   "metadata": {
    "id": "c780ac6b"
   },
   "source": [
    "#### Accuracy scoring metric function"
   ]
  },
  {
   "cell_type": "code",
   "execution_count": 14,
   "id": "84c16638",
   "metadata": {
    "id": "84c16638"
   },
   "outputs": [],
   "source": [
    "def accuracy(y_true: tf.Tensor, y_hat: tf.Tensor) -> tf.Tensor:\n",
    "    \"\"\"Evaluates a single prediction against the ground truth.\n",
    "\n",
    "    :param y_true: a 1x1 scalar tf.Tensor, the ground truth class label\n",
    "        (one-hot encoded).\n",
    "    :param y_pred: a 1x1 scalar tf.Tensor, the predicted class label.\n",
    "    returns: acc, a 1x1 scalar tf.Tensor object, 1.0 if correct else 0.0.\n",
    "    \"\"\"\n",
    "\n",
    "    # Get the class label with the highest predicted probability\n",
    "    y_pred = tf.cast(tf.argmax(y_hat, axis=1), dtype=tf.int32)\n",
    "    # Return the boolean as an integer\n",
    "    return tf.math.reduce_sum(tf.cast(tf.math.equal(y_true, y_pred), \n",
    "                                      dtype=tf.int32)) / y_true.shape[0]"
   ]
  },
  {
   "cell_type": "markdown",
   "id": "cSn29F2JpoV-",
   "metadata": {
    "id": "cSn29F2JpoV-"
   },
   "source": [
    "#### Learning rate schedule function"
   ]
  },
  {
   "cell_type": "code",
   "execution_count": 15,
   "id": "ZHPWLyVkpntH",
   "metadata": {
    "id": "ZHPWLyVkpntH"
   },
   "outputs": [],
   "source": [
    "def time_decay(lr: float, t: int, decay: float):\n",
    "    \"\"\"Performs annealing of the learning rate using time-based decay.\n",
    "    \n",
    "    :param lr: the current learning rate value to decay.\n",
    "    :param t: the current iteration step.\n",
    "    :param decay: the scale factor (amount to decay w.r.t. time).\n",
    "    :returns: the annealed learning rate for the current timestep.\n",
    "    \"\"\"\n",
    "    return lr * (1.0 / (1.0 + decay * t))"
   ]
  },
  {
   "cell_type": "markdown",
   "id": "4JJZesFr4pYC",
   "metadata": {
    "id": "4JJZesFr4pYC"
   },
   "source": [
    "##### Visualising the learning rate decay"
   ]
  },
  {
   "cell_type": "code",
   "execution_count": 16,
   "id": "YCCXIGpXtclK",
   "metadata": {
    "colab": {
     "base_uri": "https://localhost:8080/",
     "height": 409
    },
    "id": "YCCXIGpXtclK",
    "outputId": "9fcc194d-176b-44c7-ac6b-115f3d2f425c"
   },
   "outputs": [
    {
     "metadata": {
      "tags": null
     },
     "name": "stderr",
     "output_type": "stream",
     "text": [
      "WARNING:matplotlib.font_manager:findfont: Font family ['Times New Roman'] not found. Falling back to DejaVu Sans.\n"
     ]
    },
    {
     "data": {
      "image/png": "[encoded data removed]",
      "text/plain": [
       "<Figure size 864x432 with 1 Axes>"
      ]
     },
     "metadata": {},
     "output_type": "display_data"
    }
   ],
   "source": [
    "### Plotting the learning rate decay function\n",
    "t_steps = 10 * 3072                # Total timesteps (epochs * train set size)\n",
    "lr = 0.01\n",
    "decay_rate = lr / 10               # Decay rate (learning_rate / epochs)\n",
    "### Simulate annealing\n",
    "lr_decayed = []\n",
    "for t in range(t_steps):\n",
    "    lr_decayed.append(time_decay(lr, t, decay_rate))\n",
    "### Plot the learning rate decay\n",
    "fig, ax = plt.subplots(1,1,figsize=(12,6))\n",
    "ax.set_xticklabels([i for i in range(0, 10)])\n",
    "ax.plot(lr_decayed, label='Learning rate')\n",
    "ax.set_title('Time-based learning rate decay', fontsize=18, fontname='Times New Roman')\n",
    "plt.legend(fontsize='x-large')\n",
    "plt.show()"
   ]
  },
  {
   "cell_type": "markdown",
   "id": "41d9f3bf",
   "metadata": {
    "id": "41d9f3bf"
   },
   "source": [
    "### 2.2. Modelling with TensorFlow"
   ]
  },
  {
   "cell_type": "markdown",
   "id": "e3b4b49d",
   "metadata": {
    "id": "e3b4b49d"
   },
   "source": [
    "#### Stochastic Gradient Descent algorithm"
   ]
  },
  {
   "cell_type": "code",
   "execution_count": 17,
   "id": "5f851411",
   "metadata": {
    "id": "5f851411"
   },
   "outputs": [],
   "source": [
    "### From Udacity's `training.py`"
   ]
  },
  {
   "cell_type": "code",
   "execution_count": 18,
   "id": "99a9563b",
   "metadata": {
    "id": "99a9563b"
   },
   "outputs": [],
   "source": [
    "def sgd(params: List[tf.Variable], grads: List[tf.Variable],\n",
    "        learning_rate: float, batch_size: int=1):\n",
    "    \"\"\"Performs the stochastic gradient descent update step.\n",
    "    \n",
    "    :param params: tf.Variable-like, the model parameters (weight and bias vectors).\n",
    "    :param grads: tf.Variable, the computed gradients w.r.t. weight and bias vectors.\n",
    "    :param learning_rate: the learning rate, i.e., value to scale the gradient update.\n",
    "    :param batch_size: the number of samples factored into this gradient computation.\n",
    "    :returns params: the updated model weight and bias tensor-like vectors.\n",
    "    \"\"\"\n",
    "    # IMPLEMENT THIS FUNCTION\n",
    "    \n",
    "    # Consistent with stochastic gradient descent\n",
    "    assert batch_size == 1\n",
    "    for param, grad in zip(params, grads):\n",
    "        param.assign_sub(learning_rate * grad / batch_size)\n",
    "    return params"
   ]
  },
  {
   "cell_type": "markdown",
   "id": "c4b21520",
   "metadata": {
    "id": "c4b21520"
   },
   "source": [
    "#### Logistic Regression model"
   ]
  },
  {
   "cell_type": "code",
   "execution_count": 19,
   "id": "b6640d5f",
   "metadata": {
    "id": "b6640d5f"
   },
   "outputs": [],
   "source": [
    "### From J. Moran's `2022-08-27-Logistic-Regression.ipynb`"
   ]
  },
  {
   "cell_type": "code",
   "execution_count": 20,
   "id": "648075bf",
   "metadata": {
    "id": "648075bf"
   },
   "outputs": [],
   "source": [
    "def model(X: tf.Tensor, W: tf.Variable, b: tf.Variable, \n",
    "          activation_fn: Callable[[tf.Tensor], tf.Tensor]) -> tf.Tensor:\n",
    "    \"\"\"Performs the forward step of the logistic regression model.\n",
    "    \n",
    "    SGD fits a linear model to the input data and target labels.\n",
    "    Here we assume a logistic regression implementation with a\n",
    "    softmax activation function and categorical cross-entropy loss.\n",
    "    \n",
    "    :param X: tf.Tensor object, a training observation\n",
    "        i.e., a single HxWx3 RGB image.\n",
    "    :param W: tf.Tensor object, the weight vector.\n",
    "    :param b: the bias term, tf.Tensor-like object.\n",
    "    :param activation_fn: a callable function which performs the softmax\n",
    "        activation function and returns a probability distribution.\n",
    "    returns: tf.Tensor, the softmax probability distribution.\n",
    "    \"\"\"\n",
    "\n",
    "    # Compute the product between flattened input and weight vectors\n",
    "    Z = tf.matmul(tf.reshape(X, shape=(-1, W.shape[0])), W)\n",
    "    # Add the bias term\n",
    "    Z += b\n",
    "    # Return the softmax probabilities P\n",
    "    return activation_fn(Z)"
   ]
  },
  {
   "cell_type": "markdown",
   "id": "fd6889c5",
   "metadata": {
    "id": "fd6889c5"
   },
   "source": [
    "### 2.3. Training and validation loops"
   ]
  },
  {
   "cell_type": "markdown",
   "id": "c97574fc",
   "metadata": {
    "id": "c97574fc"
   },
   "source": [
    "#### Custom training loop"
   ]
  },
  {
   "cell_type": "code",
   "execution_count": 21,
   "id": "b452c7b8",
   "metadata": {
    "id": "b452c7b8"
   },
   "outputs": [],
   "source": [
    "def training_loop(\n",
    "        train_dataset: tf.data.Dataset,\n",
    "        n_classes: int,\n",
    "        model: Callable[[tf.Tensor, tf.Variable, tf.Variable], tf.Tensor],\n",
    "        W: tf.Variable, \n",
    "        b: tf.Variable,\n",
    "        activation_fn: Callable[[tf.Tensor], tf.Tensor],\n",
    "        loss_fn: Callable[[tf.Tensor, tf.Tensor], tf.Tensor], \n",
    "        optimizer: Callable[[List[tf.Variable], List[tf.Variable], float, int], \n",
    "                            List[tf.Variable]],\n",
    "        accuracy_fn: Callable[[tf.Tensor, tf.Tensor], tf.Tensor],\n",
    "        learning_rate: float=1e-1,\n",
    "        batch_size: int=1,\n",
    "        decay=False) -> Tuple[tf.Variable, tf.Variable, tf.Tensor, tf.Tensor]:\n",
    "    \"\"\"Performs a training loop over the input data.\n",
    "    \n",
    "    The logistic regression model training loop with stochastic\n",
    "    gradient descent optimisation. SGD is an iterative optimisation \n",
    "    algorithm using the negative log-likelihood (cross-entropy) as\n",
    "    a cost function to minimise.\n",
    "    \n",
    "    :param train_dataset: tf.data.Dataset, collection of tensor-like objects\n",
    "        encapsulating the underlying structure of the training data.\n",
    "    :param n_classes: int, the number of distinct classes in the dataset. \n",
    "    :param model: a callable function which computes the forward step of the\n",
    "        logistic regression model.\n",
    "    :param W: tf.Variable, a tensor-like vector of model weight values.\n",
    "    :param b: tf.Variable, a tensor-like object with model bias value.\n",
    "    :param activation_fn: a callable function which performs the softmax\n",
    "        activation function and returns a probability distribution.\n",
    "    :param loss_fn: a callable function which computes the cross-entropy loss for\n",
    "        a single observation (returns the negative log-likelihood scalar value).\n",
    "    :param optimizer: a callable function which performs the stochastic gradient\n",
    "        descent weight update step.\n",
    "    :param accuracy_fn: a callable function which computes the average\n",
    "        classification accuracy.\n",
    "    :param learning_rate: float, the learning rate hyperparameter to use.\n",
    "    :param batch_size: int, the batch size indicating the number of training\n",
    "        samples to process (should be 1 for stochastic gradient descent).\n",
    "    :param decay: if True, the learning rate is anealed at each step.\n",
    "    :returns: tuple, updated weight and bias tensors and two training metrics.\n",
    "    \"\"\"\n",
    "    \n",
    "    # Get number of training samples in dataset\n",
    "    n_samples = len(train_dataset)\n",
    "    # Consistent with SGD implementation\n",
    "    assert batch_size == 1\n",
    "    # Store the per-sample metrics\n",
    "    accuracies = []\n",
    "    losses = []\n",
    "    # Step counter (to be later used with LR schedule)\n",
    "    t_step = 0\n",
    "    for X_train, y_train in train_dataset:\n",
    "        with tf.GradientTape() as tape:\n",
    "            # IMPLEMENT THIS FUNCTION\n",
    "\n",
    "            # Scaling the input RGB image data\n",
    "            X_train /= 255.0\n",
    "            # Perform the forward pass\n",
    "            y_hat = model(X_train, W, b, activation_fn)\n",
    "            # One-hot encode the true class label\n",
    "            y_one_hot = tf.one_hot(y_train, n_classes)\n",
    "            # Calculate the per-sample cross-entropy loss value\n",
    "            neg_log_likelihood = loss_fn(y_one_hot, y_hat)\n",
    "            # Should be scalar value for SGD\n",
    "            assert neg_log_likelihood.shape == tf.TensorShape([])\n",
    "            losses.append(neg_log_likelihood)\n",
    "        # Compute the per-sample gradients w.r.t. model weights/feature vector\n",
    "        # Here our gradient vector is a generalised Jacobian matrix\n",
    "        grads = tape.gradient(neg_log_likelihood, [W, b])\n",
    "        if decay:\n",
    "            # Using a time-based decay learning rate schedule\n",
    "            learning_rate = time_decay(lr=learning_rate, t=t_step, decay=0.01)\n",
    "        # Get new model weight values updated with stochastic gradient descent\n",
    "        W_p, b_p = optimizer([W, b], grads, learning_rate, batch_size)\n",
    "        # Update the model weights\n",
    "        W, b = W_p, b_p\n",
    "        # Calculate the accuracy of this prediction\n",
    "        pred_acc = accuracy_fn(y_train, y_hat)\n",
    "        accuracies.append(pred_acc)\n",
    "        # Increment the step counter\n",
    "        t_step += 1\n",
    "    # Compute the mean average accuracy and cross-entropy loss for this epoch\n",
    "    mean_acc = tf.math.reduce_mean(tf.concat(accuracies, axis=0))\n",
    "    mean_loss = tf.math.reduce_mean(losses)\n",
    "    # Return the updated weight and bias vectors and metrics from ths epoch\n",
    "    return W, b, mean_loss, mean_acc"
   ]
  },
  {
   "cell_type": "markdown",
   "id": "7e2dffb9",
   "metadata": {
    "id": "7e2dffb9"
   },
   "source": [
    "#### Custom validation loop"
   ]
  },
  {
   "cell_type": "code",
   "execution_count": 22,
   "id": "8b484a23",
   "metadata": {
    "id": "8b484a23"
   },
   "outputs": [],
   "source": [
    "def validation_loop(\n",
    "        val_dataset: tf.data.Dataset, \n",
    "        model: Callable[[tf.Tensor, tf.Variable, tf.Variable], tf.Tensor],\n",
    "        activation_fn: Callable[[tf.Tensor, tf.Tensor], tf.Tensor],\n",
    "        accuracy_fn: Callable[[tf.Tensor, tf.Tensor], tf.Tensor], \n",
    "        W: tf.Tensor, \n",
    "        b: tf.Tensor) -> tf.Tensor:\n",
    "    \"\"\"Performs a validation loop over the input data.\n",
    "    \n",
    "    Average classification accuracy is computed across samples as the\n",
    "    number of true predictions over the total number of predictions made.\n",
    "    \n",
    "    :param val_dataset: tf.data.Dataset, the set of all validation observations.\n",
    "    :param model: a callable function which computes the forward step of the\n",
    "        logistic regression model.\n",
    "    :param activation_fn: a callable function which performs the softmax\n",
    "        activation function and returns a probability distribution.\n",
    "    :param accuracy_fn: a callable function which computes the average\n",
    "        classification accuracy.\n",
    "    :param W: tf.Variable, a tensor-like vector of trained model weight values.\n",
    "    :param b: tf.Variable, a tensor-like object of trained model bias values.\n",
    "    returns: tf.Tensor, average classification accuracy on validation dataset.\n",
    "    \"\"\"\n",
    "    # IMPLEMENT THIS FUNCTION\n",
    "    \n",
    "    accuracies = []\n",
    "    for X_val, y_val in val_dataset:\n",
    "        # Scaling the input RGB image data\n",
    "        X_val /= 255.0\n",
    "        # Perform the forward pass with trained parameters\n",
    "        y_hat = model(X_val, W, b, activation_fn)\n",
    "        # Calculate the per-sample classification accuracy\n",
    "        acc = accuracy_fn(y_val, y_hat)\n",
    "        accuracies.append(acc)\n",
    "    mean_acc = tf.math.reduce_mean(tf.concat(accuracies, axis=0))\n",
    "    return mean_acc"
   ]
  },
  {
   "cell_type": "markdown",
   "id": "b75d1ac7",
   "metadata": {
    "id": "b75d1ac7"
   },
   "source": [
    "### 2.4. Evaluation on the GTSRB dataset"
   ]
  },
  {
   "cell_type": "markdown",
   "id": "8b4ed0a4",
   "metadata": {
    "id": "8b4ed0a4"
   },
   "source": [
    "#### Considerations for our input data"
   ]
  },
  {
   "cell_type": "code",
   "execution_count": 23,
   "id": "b6436791",
   "metadata": {
    "id": "b6436791"
   },
   "outputs": [],
   "source": [
    "### Defining our input image specs"
   ]
  },
  {
   "cell_type": "code",
   "execution_count": 24,
   "id": "1a89afa7",
   "metadata": {
    "id": "1a89afa7"
   },
   "outputs": [],
   "source": [
    "image_size = (32, 32)          # Each RGB image has 32x32 px resolution\n",
    "n_features = (32 * 32) * 3     # Each pixel value is considered an attribute (feature)\n",
    "batch_size = 1                 # Using batch size of 1 for stochastic gradient descent"
   ]
  },
  {
   "cell_type": "markdown",
   "id": "76ce8d27",
   "metadata": {
    "id": "76ce8d27"
   },
   "source": [
    "The following `get_datasets()` method returns a tuple of [`tf.data.Dataset`](https://www.tensorflow.org/api_docs/python/tf/data/Dataset) instances containing the training and validation datasets, respectively."
   ]
  },
  {
   "cell_type": "code",
   "execution_count": 25,
   "id": "66f7f8a2",
   "metadata": {
    "id": "66f7f8a2"
   },
   "outputs": [],
   "source": [
    "### From Udacity's `dataset.py`"
   ]
  },
  {
   "cell_type": "code",
   "execution_count": 26,
   "id": "d147868b",
   "metadata": {
    "id": "d147868b"
   },
   "outputs": [],
   "source": [
    "def get_datasets(imdir: str) -> tuple:\n",
    "    \"\"\"Return the training and validation datasets.\n",
    "    \n",
    "    :param imdir: absolute path to the directory where the data is stored in.\n",
    "    :returns: (train_dataset, validation_dataset), tuple of tf.data.Dataset instances.\n",
    "    \"\"\"\n",
    "    \n",
    "    train_dataset = tf.keras.preprocessing.image_dataset_from_directory(\n",
    "                        imdir,\n",
    "                        labels='inferred',\n",
    "                        label_mode='int',\n",
    "                        color_mode='rgb',\n",
    "                        batch_size=batch_size,\n",
    "                        image_size=image_size,\n",
    "                        shuffle=True,\n",
    "                        seed=123,\n",
    "                        validation_split=0.1,\n",
    "                        subset='training',\n",
    "    )\n",
    "    validation_dataset = tf.keras.preprocessing.image_dataset_from_directory(\n",
    "                        imdir,\n",
    "                        labels='inferred',\n",
    "                        label_mode='int',\n",
    "                        color_mode='rgb',\n",
    "                        batch_size=batch_size,\n",
    "                        image_size=image_size,\n",
    "                        shuffle=True,\n",
    "                        seed=123,\n",
    "                        validation_split=0.1,\n",
    "                        subset='validation',\n",
    "    )\n",
    "    return train_dataset, validation_dataset"
   ]
  },
  {
   "cell_type": "code",
   "execution_count": 27,
   "id": "9c2e0172",
   "metadata": {
    "id": "9c2e0172"
   },
   "outputs": [],
   "source": [
    "### Getting the training and validation data"
   ]
  },
  {
   "cell_type": "code",
   "execution_count": 28,
   "id": "3d091ee5",
   "metadata": {
    "id": "3d091ee5"
   },
   "outputs": [],
   "source": [
    "imdir = os.path.join(DIR_SRC, 'GTSRB/Final_Training/Images')"
   ]
  },
  {
   "cell_type": "code",
   "execution_count": 29,
   "id": "0b1b8e56",
   "metadata": {
    "colab": {
     "base_uri": "https://localhost:8080/"
    },
    "id": "0b1b8e56",
    "outputId": "7b0ccd17-f501-4a62-c329-665420669bef"
   },
   "outputs": [
    {
     "metadata": {
      "tags": null
     },
     "name": "stdout",
     "output_type": "stream",
     "text": [
      "Found 4300 files belonging to 43 classes.\n",
      "Using 3870 files for training.\n",
      "Found 4300 files belonging to 43 classes.\n",
      "Using 430 files for validation.\n"
     ]
    }
   ],
   "source": [
    "train_dataset, validation_dataset = get_datasets(imdir)"
   ]
  },
  {
   "cell_type": "code",
   "execution_count": 30,
   "id": "b867a722",
   "metadata": {
    "id": "b867a722"
   },
   "outputs": [],
   "source": [
    "### Plotting fifteen images and their class labels"
   ]
  },
  {
   "cell_type": "code",
   "execution_count": 31,
   "id": "c3c99125",
   "metadata": {
    "colab": {
     "base_uri": "https://localhost:8080/",
     "height": 840
    },
    "id": "c3c99125",
    "outputId": "ee3a6392-ed03-4d32-cd6d-f682809b2211"
   },
   "outputs": [
    {
     "data": {
      "image/png": "[encoded data removed]",
      "text/plain": [
       "<Figure size 1728x1728 with 30 Axes>"
      ]
     },
     "metadata": {
      "needs_background": "light"
     },
     "output_type": "display_data"
    }
   ],
   "source": [
    "train_iter = iter(train_dataset)\n",
    "fig = plt.figure(figsize=(24,24))\n",
    "grid = ImageGrid(fig, 111, nrows_ncols=(3, 5), axes_pad=0.5)\n",
    "### Plotting images in dataset\n",
    "for i, (image, label) in enumerate(train_dataset.take(15)):\n",
    "    grid.axes_all[i].set_title(label=label.numpy()[0].astype('str'), fontsize=18)\n",
    "    grid[i].imshow(image.numpy().reshape(32,32,3).astype('uint8'))\n",
    "    grid[i].axis('off')\n",
    "plt.savefig(os.path.join(DIR_OUT, '2022-08-29-Output-1-GTSRB-Images-Subset.png'))\n",
    "plt.show()"
   ]
  },
  {
   "cell_type": "markdown",
   "id": "750dbfec",
   "metadata": {
    "id": "750dbfec"
   },
   "source": [
    "#### Putting it all together"
   ]
  },
  {
   "cell_type": "markdown",
   "id": "d2adf1b6",
   "metadata": {
    "id": "d2adf1b6"
   },
   "source": [
    "##### Initialising input/output data parameters"
   ]
  },
  {
   "cell_type": "code",
   "execution_count": 32,
   "id": "eda8fb50",
   "metadata": {
    "colab": {
     "base_uri": "https://localhost:8080/"
    },
    "id": "eda8fb50",
    "outputId": "cf69d4a3-fa14-4597-af2b-9289fbb05ef9"
   },
   "outputs": [
    {
     "data": {
      "text/plain": [
       "3072"
      ]
     },
     "execution_count": 32,
     "metadata": {},
     "output_type": "execute_result"
    }
   ],
   "source": [
    "### Number of features (pixel values) in a single image\n",
    "len(train_iter.get_next()[0].numpy().flatten())"
   ]
  },
  {
   "cell_type": "code",
   "execution_count": 33,
   "id": "ff1c58b4",
   "metadata": {
    "id": "ff1c58b4"
   },
   "outputs": [],
   "source": [
    "### Defining input and output tensor parameters\n",
    "input_name = 'input_GTSRB_image'\n",
    "num_inputs = n_features     # Each input is a flattened 32x32x3 RGB image array\n",
    "num_outputs = 43            # There are 43 distinct classes in GTSRB\n",
    "output_name = 'output_categorical'"
   ]
  },
  {
   "cell_type": "markdown",
   "id": "81f95cf8",
   "metadata": {
    "id": "81f95cf8"
   },
   "source": [
    "##### Initialising model parameters"
   ]
  },
  {
   "cell_type": "code",
   "execution_count": 34,
   "id": "8b2a7558",
   "metadata": {
    "id": "8b2a7558"
   },
   "outputs": [],
   "source": [
    "### Defining the model parameters"
   ]
  },
  {
   "cell_type": "code",
   "execution_count": 35,
   "id": "fc500114",
   "metadata": {
    "id": "fc500114"
   },
   "outputs": [],
   "source": [
    "### Defining model parameters\n",
    "model_name = 'LogisticRegressionModel_SGD'\n",
    "### Defining model hyperparameters\n",
    "epochs = 10                 # Number of complete passes over the training data\n",
    "batch_size = 1              # Number of samples to compute gradient with\n",
    "learning_rate = 1e-2        # Starting with a static (fixed) learning rate\n",
    "decay = True                # If True, learning rate is annealed on each iter.    \n",
    "### Defining model custom functions\n",
    "activation_fn = softmax\n",
    "loss_fn = cross_entropy\n",
    "accuracy_fn = accuracy\n",
    "optimizer = sgd\n",
    "model_params = {'model_name': model_name, 'imdir': imdir,\n",
    "                'num_inputs': num_inputs, 'input_name': input_name,\n",
    "                'num_outputs': num_outputs, 'output_name': output_name,\n",
    "                'learning_rate': learning_rate, 'epochs': epochs,\n",
    "                'batch_size': batch_size, 'activation_fn': activation_fn,\n",
    "                'loss_fn': loss_fn, 'accuracy_fn': accuracy_fn,\n",
    "                'optimizer': sgd, 'decay': decay\n",
    "                }"
   ]
  },
  {
   "cell_type": "markdown",
   "id": "ea97b0c4",
   "metadata": {
    "id": "ea97b0c4"
   },
   "source": [
    "We will use the TensorFlow built-in [`tf.Variable`](https://www.tensorflow.org/api_docs/python/tf/Variable?hl=en) tensor object to distinguish our trainable model parameters (weight, bias vectors) from otherwise static tensor objects. These `tf.Variable` objects maintain a shared, persistent state and therefore come with a few useful operations (e.g., [`assign_sub()`](https://www.tensorflow.org/api_docs/python/tf/Variable#assign_sub) method) that we will use during training to manipulate their values. Another nice feature of the `tf.Variable` is that they are automatically traced and watched during the `tf.GradientTape` steps."
   ]
  },
  {
   "cell_type": "code",
   "execution_count": 36,
   "id": "a2ccd147",
   "metadata": {
    "id": "a2ccd147"
   },
   "outputs": [],
   "source": [
    "### Initialising the model variables (weights and bias vectors)\n",
    "W = tf.Variable(tf.random.normal(shape=(model_params['num_inputs'], \n",
    "                                        model_params['num_outputs']), \n",
    "                                 mean=0, \n",
    "                                 stddev=0.01\n",
    "                                )\n",
    ")\n",
    "b = tf.Variable(tf.zeros(model_params['num_outputs']))"
   ]
  },
  {
   "cell_type": "markdown",
   "id": "c9df2bee",
   "metadata": {
    "id": "c9df2bee"
   },
   "source": [
    "##### Performing the training and validation loops"
   ]
  },
  {
   "cell_type": "code",
   "execution_count": 37,
   "id": "75c95c1c",
   "metadata": {
    "id": "75c95c1c"
   },
   "outputs": [],
   "source": [
    "### From Udacity's `training.py`"
   ]
  },
  {
   "cell_type": "code",
   "execution_count": 38,
   "id": "6a924374",
   "metadata": {
    "id": "6a924374"
   },
   "outputs": [],
   "source": [
    "def get_module_logger(mod_name):\n",
    "    ### Setting up the console logger and formatter\n",
    "    logger = logging.getLogger(mod_name)\n",
    "    handler = logging.StreamHandler()\n",
    "    formatter = logging.Formatter('%(asctime)s %(levelname)-8s %(message)s')\n",
    "    handler.setFormatter(formatter)\n",
    "    logger.addHandler(handler)\n",
    "    logger.setLevel(logging.DEBUG)\n",
    "    ### Prevent messages going to root handler\n",
    "    logger.propagate = False\n",
    "    return logger"
   ]
  },
  {
   "cell_type": "code",
   "execution_count": 39,
   "id": "c3f0dac5",
   "metadata": {
    "colab": {
     "base_uri": "https://localhost:8080/"
    },
    "id": "c3f0dac5",
    "outputId": "d7b590b8-6f21-4805-e917-a3b3ee880eb2"
   },
   "outputs": [
    {
     "name": "stderr",
     "output_type": "stream",
     "text": [
      "2022-09-03 03:00:22,434 INFO     \n",
      "Training for 10 epochs using '/content/data/GTSRB/Final_Training/Images' data\n"
     ]
    }
   ],
   "source": [
    "### Getting the console logger\n",
    "logger = get_module_logger(model_params['model_name'])\n",
    "logger.info(f\"\\nTraining for {model_params['epochs']} epochs \" +\n",
    "            f\"using '{model_params['imdir']}' data\")"
   ]
  },
  {
   "cell_type": "code",
   "execution_count": 40,
   "id": "9cef707c",
   "metadata": {
    "id": "9cef707c"
   },
   "outputs": [],
   "source": [
    "### Run training and validation loop"
   ]
  },
  {
   "cell_type": "code",
   "execution_count": 41,
   "id": "03511065",
   "metadata": {
    "colab": {
     "base_uri": "https://localhost:8080/"
    },
    "id": "03511065",
    "outputId": "52654ba6-8eef-4e68-a022-f2beca0af406"
   },
   "outputs": [
    {
     "name": "stderr",
     "output_type": "stream",
     "text": [
      "2022-09-03 03:00:22,475 INFO     \n",
      "------ Trial 1 of 2, decay learning rate: False ------\n",
      "2022-09-03 03:00:22,481 INFO     \n",
      "Epoch: 1\n",
      "2022-09-03 03:00:56,081 INFO     \n",
      "Mean training loss: 3.5668, Mean training accuracy: 0.2121\n",
      "2022-09-03 03:00:57,198 INFO     \n",
      "Mean validation accuracy: 0.3930\n",
      "2022-09-03 03:00:57,200 INFO     \n",
      "Epoch: 2\n",
      "2022-09-03 03:01:30,555 INFO     \n",
      "Mean training loss: 2.0113, Mean training accuracy: 0.5028\n",
      "2022-09-03 03:01:31,670 INFO     \n",
      "Mean validation accuracy: 0.5930\n",
      "2022-09-03 03:01:31,672 INFO     \n",
      "Epoch: 3\n",
      "2022-09-03 03:02:04,713 INFO     \n",
      "Mean training loss: 1.5060, Mean training accuracy: 0.6439\n",
      "2022-09-03 03:02:05,839 INFO     \n",
      "Mean validation accuracy: 0.6535\n",
      "2022-09-03 03:02:05,845 INFO     \n",
      "Epoch: 4\n",
      "2022-09-03 03:02:39,052 INFO     \n",
      "Mean training loss: 1.2316, Mean training accuracy: 0.7059\n",
      "2022-09-03 03:02:40,158 INFO     \n",
      "Mean validation accuracy: 0.7023\n",
      "2022-09-03 03:02:40,159 INFO     \n",
      "Epoch: 5\n",
      "2022-09-03 03:03:13,095 INFO     \n",
      "Mean training loss: 1.0649, Mean training accuracy: 0.7419\n",
      "2022-09-03 03:03:14,206 INFO     \n",
      "Mean validation accuracy: 0.7209\n",
      "2022-09-03 03:03:14,207 INFO     \n",
      "Epoch: 6\n",
      "2022-09-03 03:03:47,125 INFO     \n",
      "Mean training loss: 0.9217, Mean training accuracy: 0.7953\n",
      "2022-09-03 03:03:48,222 INFO     \n",
      "Mean validation accuracy: 0.7163\n",
      "2022-09-03 03:03:48,224 INFO     \n",
      "Epoch: 7\n",
      "2022-09-03 03:04:21,517 INFO     \n",
      "Mean training loss: 0.8333, Mean training accuracy: 0.8116\n",
      "2022-09-03 03:04:22,624 INFO     \n",
      "Mean validation accuracy: 0.7628\n",
      "2022-09-03 03:04:22,627 INFO     \n",
      "Epoch: 8\n",
      "2022-09-03 03:04:55,353 INFO     \n",
      "Mean training loss: 0.7435, Mean training accuracy: 0.8357\n",
      "2022-09-03 03:04:56,440 INFO     \n",
      "Mean validation accuracy: 0.6721\n",
      "2022-09-03 03:04:56,441 INFO     \n",
      "Epoch: 9\n",
      "2022-09-03 03:05:30,328 INFO     \n",
      "Mean training loss: 0.6775, Mean training accuracy: 0.8545\n",
      "2022-09-03 03:05:31,433 INFO     \n",
      "Mean validation accuracy: 0.7791\n",
      "2022-09-03 03:05:31,434 INFO     \n",
      "Epoch: 10\n",
      "2022-09-03 03:06:04,298 INFO     \n",
      "Mean training loss: 0.6231, Mean training accuracy: 0.8729\n",
      "2022-09-03 03:06:05,387 INFO     \n",
      "Mean validation accuracy: 0.8047\n",
      "2022-09-03 03:06:05,389 INFO     \n",
      "------ Trial 2 of 2, decay learning rate: True ------\n",
      "2022-09-03 03:06:05,397 INFO     \n",
      "Epoch: 1\n",
      "2022-09-03 03:06:38,821 INFO     \n",
      "Mean training loss: 3.9708, Mean training accuracy: 0.0388\n",
      "2022-09-03 03:06:39,943 INFO     \n",
      "Mean validation accuracy: 0.0395\n",
      "2022-09-03 03:06:39,945 INFO     \n",
      "Epoch: 2\n",
      "2022-09-03 03:07:12,849 INFO     \n",
      "Mean training loss: 4.0184, Mean training accuracy: 0.0313\n",
      "2022-09-03 03:07:13,928 INFO     \n",
      "Mean validation accuracy: 0.0209\n",
      "2022-09-03 03:07:13,929 INFO     \n",
      "Epoch: 3\n",
      "2022-09-03 03:07:46,609 INFO     \n",
      "Mean training loss: 4.1169, Mean training accuracy: 0.0390\n",
      "2022-09-03 03:07:47,688 INFO     \n",
      "Mean validation accuracy: 0.0535\n",
      "2022-09-03 03:07:47,689 INFO     \n",
      "Epoch: 4\n",
      "2022-09-03 03:08:20,686 INFO     \n",
      "Mean training loss: 3.9009, Mean training accuracy: 0.0382\n",
      "2022-09-03 03:08:21,780 INFO     \n",
      "Mean validation accuracy: 0.0233\n",
      "2022-09-03 03:08:21,782 INFO     \n",
      "Epoch: 5\n",
      "2022-09-03 03:08:54,677 INFO     \n",
      "Mean training loss: 3.9125, Mean training accuracy: 0.0545\n",
      "2022-09-03 03:08:55,838 INFO     \n",
      "Mean validation accuracy: 0.0395\n",
      "2022-09-03 03:08:55,840 INFO     \n",
      "Epoch: 6\n",
      "2022-09-03 03:09:29,030 INFO     \n",
      "Mean training loss: 3.8906, Mean training accuracy: 0.0370\n",
      "2022-09-03 03:09:30,103 INFO     \n",
      "Mean validation accuracy: 0.0326\n",
      "2022-09-03 03:09:30,105 INFO     \n",
      "Epoch: 7\n",
      "2022-09-03 03:10:02,889 INFO     \n",
      "Mean training loss: 3.7975, Mean training accuracy: 0.0674\n",
      "2022-09-03 03:10:03,970 INFO     \n",
      "Mean validation accuracy: 0.0512\n",
      "2022-09-03 03:10:03,972 INFO     \n",
      "Epoch: 8\n",
      "2022-09-03 03:10:37,273 INFO     \n",
      "Mean training loss: 3.9409, Mean training accuracy: 0.0380\n",
      "2022-09-03 03:10:38,379 INFO     \n",
      "Mean validation accuracy: 0.0209\n",
      "2022-09-03 03:10:38,381 INFO     \n",
      "Epoch: 9\n",
      "2022-09-03 03:11:10,985 INFO     \n",
      "Mean training loss: 3.9824, Mean training accuracy: 0.0375\n",
      "2022-09-03 03:11:12,072 INFO     \n",
      "Mean validation accuracy: 0.0256\n",
      "2022-09-03 03:11:12,074 INFO     \n",
      "Epoch: 10\n",
      "2022-09-03 03:11:44,627 INFO     \n",
      "Mean training loss: 3.7206, Mean training accuracy: 0.0990\n",
      "2022-09-03 03:11:45,712 INFO     \n",
      "Mean validation accuracy: 0.0977\n"
     ]
    }
   ],
   "source": [
    "### Store the training and validation metrics for both trials\n",
    "accuracies_train = []\n",
    "losses_train = []\n",
    "accuracies_val = []\n",
    "### Preparing learning rate schedule\n",
    "lr = model_params['learning_rate']\n",
    "n_samples = len(train_dataset)\n",
    "### Run two trials; one with learning rate decay, one with fixed learning rate\n",
    "for trial_number, decay_trial in enumerate([False, True]):\n",
    "    logger.info(f'\\n------ Trial {trial_number + 1} of 2, ' + \n",
    "                f'decay learning rate: {decay_trial} ------')\n",
    "    ### Increase the initial learning rate for decay trial\n",
    "    if decay_trial:\n",
    "        lr = 0.1\n",
    "    ### Reset the model weights\n",
    "    W = tf.Variable(tf.random.normal(shape=(model_params['num_inputs'], \n",
    "                                            model_params['num_outputs']), \n",
    "                                     mean=0, \n",
    "                                     stddev=0.01)\n",
    "    )\n",
    "    b = tf.Variable(tf.zeros(model_params['num_outputs']))\n",
    "    ### Store the per-epoch metrics for each trial run\n",
    "    accuracy_train = []\n",
    "    accuracy_val = []\n",
    "    loss_train = []\n",
    "    ### Performing the training and validation epoch\n",
    "    for epoch in range(1, model_params['epochs']+1):\n",
    "        logger.info(f'\\nEpoch: {epoch}')\n",
    "        ### Shuffle the training dataset at every epoch\n",
    "        train_dataset = train_dataset.shuffle(buffer_size=len(train_dataset),\n",
    "                                            reshuffle_each_iteration=True\n",
    "        )\n",
    "        ### Perform stochastic gradient descent over training data\n",
    "        W_p, b_p, train_loss, train_acc = training_loop(\n",
    "                                train_dataset=train_dataset, \n",
    "                                n_classes=model_params['num_outputs'],\n",
    "                                model=model, \n",
    "                                W=W,\n",
    "                                b=b,\n",
    "                                activation_fn=model_params['activation_fn'],\n",
    "                                loss_fn=model_params['loss_fn'],\n",
    "                                optimizer=model_params['optimizer'],\n",
    "                                accuracy_fn=model_params['accuracy_fn'],\n",
    "                                learning_rate=model_params['learning_rate'],\n",
    "                                batch_size=model_params['batch_size'],\n",
    "                                decay=decay_trial\n",
    "        )\n",
    "        ### Decay the learning rate for this epoch (restores state from loop)\n",
    "        if decay_trial:\n",
    "            lr = time_decay(lr=lr, t=n_samples*epoch, decay=0.01)\n",
    "        ### Update the model variables (weights and bias vectors)\n",
    "        W = W_p\n",
    "        b = b_p\n",
    "        ### Log the mean average training loss and accuracy for this epoch\n",
    "        logger.info(f'\\nMean training loss: {train_loss.numpy():.4f}, ' +\n",
    "                    f'Mean training accuracy: {train_acc.numpy():.4f}')\n",
    "        accuracy_train.append(train_acc.numpy())\n",
    "        loss_train.append(train_loss.numpy())\n",
    "        ### Compute validation set accuracy\n",
    "        val_acc = validation_loop(\n",
    "                        val_dataset=validation_dataset,\n",
    "                        model=model,\n",
    "                        activation_fn=model_params['activation_fn'],\n",
    "                        accuracy_fn=model_params['accuracy_fn'],\n",
    "                        W=W,\n",
    "                        b=b\n",
    "        )\n",
    "        ### Log the mean average validation accuracy for this epoch\n",
    "        logger.info(f'\\nMean validation accuracy: {val_acc.numpy():.4f}')\n",
    "        accuracy_val.append(val_acc.numpy())\n",
    "    ### Append the trial metrics to lists\n",
    "    accuracies_train.append(np.array(accuracy_train))\n",
    "    accuracies_val.append(np.array(accuracy_val))\n",
    "    losses_train.append(np.array(loss_train))"
   ]
  },
  {
   "cell_type": "code",
   "execution_count": null,
   "id": "4037f289",
   "metadata": {
    "id": "4037f289"
   },
   "outputs": [],
   "source": [
    "# The weight vectors (for the annealed LR trial)\n",
    "W"
   ]
  },
  {
   "cell_type": "code",
   "execution_count": null,
   "id": "b97ccf5d",
   "metadata": {
    "id": "b97ccf5d"
   },
   "outputs": [],
   "source": [
    "# The bias values (for the annealed LR trial)\n",
    "b"
   ]
  },
  {
   "cell_type": "markdown",
   "id": "SQgirGRycG-M",
   "metadata": {
    "id": "SQgirGRycG-M"
   },
   "source": [
    "##### Visualising the results"
   ]
  },
  {
   "cell_type": "code",
   "execution_count": 44,
   "id": "zf4zFknMcLqd",
   "metadata": {
    "colab": {
     "base_uri": "https://localhost:8080/",
     "height": 1000
    },
    "id": "zf4zFknMcLqd",
    "outputId": "47a9f882-b4f9-4a7f-f616-1895f6c57513"
   },
   "outputs": [
    {
     "metadata": {
      "tags": null
     },
     "name": "stderr",
     "output_type": "stream",
     "text": [
      "WARNING:matplotlib.font_manager:findfont: Font family ['Times New Roman'] not found. Falling back to DejaVu Sans.\n"
     ]
    },
    {
     "data": {
      "image/png": "[encoded data removed]",
      "text/plain": [
       "<Figure size 1728x1440 with 2 Axes>"
      ]
     },
     "metadata": {},
     "output_type": "display_data"
    }
   ],
   "source": [
    "n_epochs = list(range(1,model_params['epochs']+1))\n",
    "### Creating the accurcy metric patches\n",
    "ta1 = patches.Patch(color='darkblue', linestyle='--', \n",
    "    label=f\"Training accuracy (fixed lr = {model_params['learning_rate']})\")\n",
    "va1 = patches.Patch(color='darkorange', linestyle='--', \n",
    "    label=f\"Validation accuracy (fixed lr = {model_params['learning_rate']})\")\n",
    "ta2 = patches.Patch(color='blue', linestyle='-', \n",
    "                    label='Training accuracy (annealed lr)')\n",
    "va2 = patches.Patch(color='orange', linestyle='-', \n",
    "                    label='Validation accuracy (annealed lr)')\n",
    "pa = [ta1, va1, ta2, va2]\n",
    "### Creating the loss metric patches\n",
    "lo1 = patches.Patch(color='darkblue', linestyle='--', \n",
    "        label=f\"Training loss (fixed lr = {model_params['learning_rate']})\")\n",
    "lo2 = patches.Patch(color='blue', linestyle='-', \n",
    "        label=f\"Training loss (annealed lr)\")\n",
    "pl = [lo1, lo2]\n",
    "### Plotting the metrics for fixed and annealed LR trials\n",
    "fig, (ax1, ax2) = plt.subplots(nrows=2, ncols=1, figsize=(24,20))\n",
    "ax1.plot(accuracies_train[0], pa[0].get_linestyle(), c=pa[0].get_ec(), lw=5)\n",
    "ax1.plot(accuracies_val[0], pa[1].get_linestyle(), c=pa[1].get_ec(), lw=5)\n",
    "ax1.plot(accuracies_train[1], pa[2].get_linestyle(), c=pa[2].get_ec(), lw=5)\n",
    "ax1.plot(accuracies_val[1], pa[3].get_linestyle(), c=pa[3].get_ec(), lw=5)\n",
    "ax1.set_xticks(n_epochs)\n",
    "ax1.grid('on')\n",
    "ax1.set_title(label='Accuracy', fontname='Times New Roman', fontsize=20)\n",
    "ax1.legend(handles=pa, fontsize='x-large', handlelength=3)\n",
    "ax2.plot(losses_train[0], pl[0].get_linestyle(), c=pl[0].get_ec(), lw=5)\n",
    "ax2.plot(losses_train[1], pl[1].get_linestyle(), c=pl[1].get_ec(), lw=5)\n",
    "ax2.set_xticks(n_epochs)\n",
    "ax2.grid('on')\n",
    "ax2.set_title(label='Cross-entropy loss', fontname='Times New Roman', fontsize=20)\n",
    "ax2.legend(handles=pl, fontsize='x-large')\n",
    "plt.savefig(os.path.join(DIR_OUT, '2022-08-29-Output-2-Visualising-Metrics.png'))\n",
    "plt.show()"
   ]
  },
  {
   "cell_type": "markdown",
   "id": "XYi7OptTYIpm",
   "metadata": {
    "id": "XYi7OptTYIpm"
   },
   "source": [
    "## 3. Closing Remarks\n",
    "\n",
    "##### Alternatives\n",
    "* Use other evaluation metrics (e.g., precision, recall, F1-score, etc.);\n",
    "* Explore other hyperparameter settings (e.g., increasing num. epochs, changing value of learning rate, etc.).\n",
    "\n",
    "\n",
    "##### Extensions of task\n",
    "* Implement a learning rate shedule (decreases learning rate over training);\n",
    "* Use a different TensorFlow API design pattern (e.g., [Sequential](https://www.tensorflow.org/guide/keras/sequential_model), [Subclassing](https://www.tensorflow.org/guide/keras/custom_layers_and_models))."
   ]
  },
  {
   "cell_type": "markdown",
   "id": "xRM7jMkfYp54",
   "metadata": {
    "id": "xRM7jMkfYp54"
   },
   "source": [
    "## 4. Future work\n",
    "- ✅ Visualise metrics across epochs;\n",
    "- ✅ Implement a learning rate schedule (e.g., time-based decay — see [Exercise 1.5.3](https://github.com/jonathanloganmoran/ND0013-Self-Driving-Car-Engineer/blob/main/1-Object-Detection-in-Urban-Environments/Exercises/1-5-3-Learning-Rate-Schedules/2022-09-28-Learning-Rate-Schedules.ipynb));\n",
    "- ⬜️ Encapsulate model + functions with TensorFlow Keras [Subclassing API](https://www.tensorflow.org/guide/keras/custom_layers_and_models);\n",
    "- ✅ Perform EDA of GTSRB dataset (see [Exercise 1.4.2](https://github.com/jonathanloganmoran/ND0013-Self-Driving-Car-Engineer/blob/main/1-Object-Detection-in-Urban-Environments/Exercises/1-4-2-Building-Custom-CNNs/2022-09-12-Building-Custom-Convolutional-Neural-Networks.ipynb))."
   ]
  },
  {
   "cell_type": "markdown",
   "id": "c660235f",
   "metadata": {
    "id": "c660235f"
   },
   "source": [
    "## Credits"
   ]
  },
  {
   "cell_type": "markdown",
   "id": "07c4c2e1",
   "metadata": {
    "id": "07c4c2e1"
   },
   "source": [
    "This assignment was prepared by Thomas Hossler and Michael Virgo et al., Winter 2021 (link [here](https://www.udacity.com/course/self-driving-car-engineer-nanodegree--nd0013)).\n",
    "\n",
    "References\n",
    "* [1] Parr, T., Howard, J. The Matrix Calculus You Need For Deep Learning. arXiv (2018). [doi:10.48550/arXiv.1802.01528](https://arxiv.org/abs/1802.01528).\n",
    "* [2] Stallkamp, J. et al. Man vs. computer: Benchmarking machine learning algorithms for traffic sign recognition. Neural Networks. 32:323-332. [doi:10.1016/j.neunet.2012.02.016](https://doi.org/10.1016/j.neunet.2012.02.016).\n",
    "\n",
    "Helpful resources:\n",
    "   * [An overview of gradient descent optimization algorithms | S. Ruder](https://ruder.io/optimizing-gradient-descent/)\n",
    "   * [The Matrix Calculus You Need for Deep Learning by T. Parr and J. Howard | explained.ai](https://arxiv.org/abs/1802.01528)\n",
    "   * [Derivative, Gradient and Jacobian | Deep Learning Wizard](https://www.deeplearningwizard.com/deep_learning/boosting_models_pytorch/derivative_gradient_jacobian/)\n",
    "   * [Learning Rate Schedules and Adaptive Learning Rate Methods for Deep Learning by S. Lau | Medium](https://towardsdatascience.com/learning-rate-schedules-and-adaptive-learning-rate-methods-for-deep-learning-2c8f433990d1)"
   ]
  }
 ],
 "metadata": {
  "accelerator": "GPU",
  "colab": {
   "collapsed_sections": [
    "52dcd52e",
    "18509ff8"
   ],
   "provenance": []
  },
  "gpuClass": "standard",
  "kernelspec": {
   "display_name": "Python 3",
   "language": "python",
   "name": "python3"
  },
  "language_info": {
   "codemirror_mode": {
    "name": "ipython",
    "version": 3
   },
   "file_extension": ".py",
   "mimetype": "text/x-python",
   "name": "python",
   "nbconvert_exporter": "python",
   "pygments_lexer": "ipython3",
   "version": "3.8.13"
  },
  "toc": {
   "base_numbering": 1,
   "nav_menu": {},
   "number_sections": false,
   "sideBar": true,
   "skip_h1_title": false,
   "title_cell": "Table of Contents",
   "title_sidebar": "Contents",
   "toc_cell": false,
   "toc_position": {},
   "toc_section_display": true,
   "toc_window_display": true
  }
 },
 "nbformat": 4,
 "nbformat_minor": 5
}
