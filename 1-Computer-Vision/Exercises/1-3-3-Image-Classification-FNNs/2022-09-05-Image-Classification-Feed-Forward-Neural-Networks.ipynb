{
 "cells": [
  {
   "cell_type": "markdown",
   "id": "09822c41",
   "metadata": {
    "id": "09822c41"
   },
   "source": [
    "# Exercise 1.3.3 - Image Classification with FNNs\n",
    "#### By Jonathan L. Moran (jonathan.moran107@gmail.com)\n",
    "From the Self-Driving Car Engineer Nanodegree programme offered at Udacity."
   ]
  },
  {
   "cell_type": "markdown",
   "id": "d67b75e9",
   "metadata": {
    "id": "d67b75e9"
   },
   "source": [
    "## Objectives"
   ]
  },
  {
   "cell_type": "markdown",
   "id": "4a0ec164",
   "metadata": {
    "id": "4a0ec164"
   },
   "source": [
    "* Create a small feedforward neural network ([FNN](https://en.wikipedia.org/wiki/Feedforward_neural_network)) leveraging the TensorFlow [Keras API](https://www.tensorflow.org/api_docs/python/tf/keras);\n",
    "* Train the FNN on the German Traffic Sign Recognition Benchmark ([GTSRB](https://benchmark.ini.rub.de/gtsrb_dataset.html)) dataset;\n",
    "* Visualise the training and validation metrics. "
   ]
  },
  {
   "cell_type": "markdown",
   "id": "58408470",
   "metadata": {
    "id": "58408470"
   },
   "source": [
    "## 1. Introduction"
   ]
  },
  {
   "cell_type": "markdown",
   "id": "d1141e39",
   "metadata": {
    "id": "d1141e39"
   },
   "source": [
    "Here is a bit of [terminology](https://developers.google.com/machine-learning/glossary/) from the Google Machine Learning Glossary before we get started:\n",
    "* **Neural network**: a model composed of layers (at least one of which is [hidden](https://developers.google.com/machine-learning/glossary/#hidden_layer));\n",
    "\n",
    "* **Neuron**: a node in a neural network, typically taking in multiple input values and generating a single output value. The neuron calculates the output value by applying an [activation function](https://developers.google.com/machine-learning/glossary/#activation-function) to a weighted sum of input values;\n",
    "\n",
    "* **Perceptron**: _nodes_ in a deep neural network. Each perceptron takes in input values, runs an activation function over the weighted sum of values, and computes a single output value. A [backpropagation](https://developers.google.com/machine-learning/glossary/#backpropagation) algorithm is used to introduce feedback into the network;\n",
    "\n",
    "* **Feedforward Neural Network (FNN)**: a neural network without cyclic or recursive connections (e.g., a _deep neural network_, as opposed to a [recurrent neural network](https://developers.google.com/machine-learning/glossary/#recurrent_neural_network))."
   ]
  },
  {
   "cell_type": "code",
   "execution_count": 1,
   "id": "7307e4b7",
   "metadata": {
    "id": "7307e4b7"
   },
   "outputs": [],
   "source": [
    "### Importing the required modules"
   ]
  },
  {
   "cell_type": "code",
   "execution_count": 2,
   "id": "9e5062b0",
   "metadata": {
    "id": "9e5062b0"
   },
   "outputs": [],
   "source": [
    "import argparse\n",
    "import logging\n",
    "import matplotlib.pyplot as plt\n",
    "import os\n",
    "import tensorflow as tf\n",
    "from typing import Generator, Iterator, Tuple"
   ]
  },
  {
   "cell_type": "code",
   "execution_count": 3,
   "id": "0a6265d9",
   "metadata": {
    "colab": {
     "base_uri": "https://localhost:8080/",
     "height": 36
    },
    "id": "0a6265d9",
    "outputId": "213b62b9-12c7-46c2-c599-df9fbef8e231"
   },
   "outputs": [
    {
     "data": {
      "text/plain": [
       "'2.13.0'"
      ]
     },
     "execution_count": 3,
     "metadata": {},
     "output_type": "execute_result"
    }
   ],
   "source": [
    "tf.__version__"
   ]
  },
  {
   "cell_type": "code",
   "execution_count": 4,
   "id": "795433db",
   "metadata": {
    "colab": {
     "base_uri": "https://localhost:8080/",
     "height": 36
    },
    "id": "795433db",
    "outputId": "d6fd43b8-7cdf-43cc-f769-83e2f3fbf06c"
   },
   "outputs": [
    {
     "name": "stderr",
     "output_type": "stream",
     "text": [
      "2023-08-19 23:56:59.084519: I metal_plugin/src/device/metal_device.cc:1154] Metal device set to: Apple M2 Max\n",
      "2023-08-19 23:56:59.084535: I metal_plugin/src/device/metal_device.cc:296] systemMemory: 32.00 GB\n",
      "2023-08-19 23:56:59.084539: I metal_plugin/src/device/metal_device.cc:313] maxCacheSize: 10.67 GB\n",
      "2023-08-19 23:56:59.084566: I tensorflow/core/common_runtime/pluggable_device/pluggable_device_factory.cc:303] Could not identify NUMA node of platform GPU ID 0, defaulting to 0. Your kernel may not have been built with NUMA support.\n",
      "2023-08-19 23:56:59.084579: I tensorflow/core/common_runtime/pluggable_device/pluggable_device_factory.cc:269] Created TensorFlow device (/device:GPU:0 with 0 MB memory) -> physical PluggableDevice (device: 0, name: METAL, pci bus id: <undefined>)\n"
     ]
    },
    {
     "data": {
      "text/plain": [
       "'/device:GPU:0'"
      ]
     },
     "execution_count": 4,
     "metadata": {},
     "output_type": "execute_result"
    }
   ],
   "source": [
    "tf.test.gpu_device_name()"
   ]
  },
  {
   "cell_type": "code",
   "execution_count": 5,
   "id": "32b31353",
   "metadata": {
    "id": "32b31353"
   },
   "outputs": [],
   "source": [
    "### Setting the environment variables"
   ]
  },
  {
   "cell_type": "code",
   "execution_count": 6,
   "id": "6cb29ca9",
   "metadata": {
    "id": "6cb29ca9"
   },
   "outputs": [],
   "source": [
    "ENV_COLAB = False                # True if running in Google Colab instance"
   ]
  },
  {
   "cell_type": "code",
   "execution_count": 7,
   "id": "0e3c7533",
   "metadata": {
    "id": "0e3c7533"
   },
   "outputs": [],
   "source": [
    "# Root directory\n",
    "DIR_BASE = '' if not ENV_COLAB else '/content/'"
   ]
  },
  {
   "cell_type": "code",
   "execution_count": 8,
   "id": "31383a8f",
   "metadata": {
    "id": "31383a8f"
   },
   "outputs": [],
   "source": [
    "# Subdirectory to save output files\n",
    "DIR_OUT = os.path.join(DIR_BASE, 'out/')\n",
    "# Subdirectory pointing to input data\n",
    "DIR_SRC = os.path.join(DIR_BASE, 'data/')"
   ]
  },
  {
   "cell_type": "code",
   "execution_count": 9,
   "id": "8b731df0",
   "metadata": {
    "id": "8b731df0"
   },
   "outputs": [
    {
     "name": "stdout",
     "output_type": "stream",
     "text": [
      "unzip:  cannot find or open ./data/GTSRB.zip, ./data/GTSRB.zip.zip or ./data/GTSRB.zip.ZIP.\n"
     ]
    }
   ],
   "source": [
    "### Unzipping the GTSRB dataset\n",
    "if ENV_COLAB:\n",
    "    !unzip -o -q /content/GTSRB.zip -d /content/data/\n",
    "else:\n",
    "    !unzip -o -q ./data/GTSRB.zip -d ./data/"
   ]
  },
  {
   "cell_type": "code",
   "execution_count": 10,
   "id": "896082c5",
   "metadata": {
    "id": "896082c5"
   },
   "outputs": [],
   "source": [
    "### Creating subdirectories (if not exists)\n",
    "os.makedirs(DIR_OUT, exist_ok=True)"
   ]
  },
  {
   "cell_type": "markdown",
   "id": "9de99741",
   "metadata": {
    "id": "9de99741"
   },
   "source": [
    "### 1.1. Feedforward Neural Networks (FNNs)"
   ]
  },
  {
   "cell_type": "markdown",
   "id": "5afe5ebb",
   "metadata": {
    "id": "5afe5ebb"
   },
   "source": [
    "#### Types of FNNs"
   ]
  },
  {
   "cell_type": "markdown",
   "id": "d77e93b6",
   "metadata": {
    "id": "d77e93b6"
   },
   "source": [
    "##### The single-layer perceptron"
   ]
  },
  {
   "cell_type": "markdown",
   "id": "768097aa",
   "metadata": {
    "id": "768097aa"
   },
   "source": [
    "In its simplest form, a Feedforward Neural Network is a [single-layer perceptron](https://en.wikipedia.org/wiki/Feedforward_neural_network#Single-layer_perceptron). The single-layer perceptron is a network with only one input and one output layer. In [Exercise 1.3.2](https://github.com/jonathanloganmoran/ND0013-Self-Driving-Car-Engineer/blob/main/1-Computer-Vision/Exercises/1-3-2-Stochastic-Gradient-Descent/2022-08-29-Stochastic-Gradient-Descent.ipynb), we built a single-layer perceptron that consisted of a single input layer shaped by our input data (the image pixel attributes) and a single output layer (the predicted class distribution of probabilities). The output layer was computed directly from the sum of the product of the input layer units and the perceptron weights (plus a bias term). The output of the single-layer perceptron was then passed into an activation function (the softmax function), and a classification label was selected by choosing the prediction with the highest probability value."
   ]
  },
  {
   "cell_type": "markdown",
   "id": "33aedc61",
   "metadata": {
    "id": "33aedc61"
   },
   "source": [
    "The single-layer perceptron was a powerful yet simple type of Feedforward Neural Network architecture, but as a [linear classifier](https://en.wikipedia.org/wiki/Linear_classifier) it is only capable of learning linearly-separable patterns. As most functions are not linearly-seperable, we will consider a bit more involved approach."
   ]
  },
  {
   "cell_type": "markdown",
   "id": "704a531e",
   "metadata": {
    "id": "704a531e"
   },
   "source": [
    "##### The multi-layer perceptron"
   ]
  },
  {
   "cell_type": "markdown",
   "id": "3416e119",
   "metadata": {
    "id": "3416e119"
   },
   "source": [
    "What's better than _one_ layer of perceptrons? A ton of them!\n",
    "\n",
    "[Multi-layer perceptrons](https://en.wikipedia.org/wiki/Feedforward_neural_network#Multi-layer_perceptron) (MLPs) are a type of Feedforward Neural Network composed of many single-layer perceptrons. These perceptrons are organised into groups called _layers_. In a MLP, we introduce at least one _hidden_ layer composed of multiple perceptrons. These perceptrons in a hidden layer are not interconnected (i.e., no connections between each other in the same layer) but are said to be \"fully connected\" to the perceptrons in a preceding layer. In a hidden layer, these perceptrons also have activation functions, similar to the output layer in a single-layer perceptron.\n",
    "\n",
    "Like single-layer perceptrons, multi-layer perceptrons are trained by iteratively updating the weights and bias values in order to minimise an error (cost) function. Using _stochastic gradient descent_ to adjust these model parameters, we saw in Exercise 1.3.2 that, after a given number of epochs (passes) over our entire dataset, we were able to settle on semi-optimal weight $\\mathrm{w}$ and bias $\\mathrm{b}$ values.\n",
    "\n",
    "We can break the training phase into two primary steps with the multi-layer perceptron: a _forward pass_ and a _backwards_ pass. With a _forward_ pass over the data, each layer of perceptrons calculates a sum of products between the perceptron weights and the input values. The resulting values are then passed to an activation function (such as the _Rectified Linear Unit_ — [ReLU](https://en.wikipedia.org/wiki/Rectifier_(neural_networks))) where a single output value is generated. In a _backwards_ pass over over the network, we update the model parameters (the weights and bias values) using the partial derivative of an error function (like [cross-entropy loss](https://en.wikipedia.org/wiki/Cross_entropy#Cross-entropy_loss_function_and_logistic_regression)). With the backpropagation algorithm, values calculated in the forward pass are used to compute the gradients for each of the model parameters. The \"backwards\" pass here indicates that the gradients are propagated back through the network starting from the output nodes to the nodes in the first hidden layer. The partial computations at each layer are used to update the weight values at each step."
   ]
  },
  {
   "cell_type": "markdown",
   "id": "b662f027",
   "metadata": {
    "id": "b662f027"
   },
   "source": [
    "### 1.2. TensorFlow Keras API"
   ]
  },
  {
   "cell_type": "markdown",
   "id": "33bf070e",
   "metadata": {
    "id": "33bf070e"
   },
   "source": [
    "[TensorFlow](https://www.tensorflow.org) is a very powerful, highly-optimised platform for machine learning. [Keras](https://github.com/keras-team/keras) is a high-level framework for the TensorFlow platform primarily authored by [François Chollet](https://github.com/fchollet). While Keras used to support a several other backend compute engines, TensorFlow is now the only supported platform in Keras version 2.4+. With the release of TensorFlow 2.0 [came the announcement](https://blog.tensorflow.org/2018/12/standardizing-on-keras-guidance.html) that Keras would be the official high-level API for Google's TensorFlow. Together, the two make a great couple. While Keras focuses on simplistic, highly-readable and abstracted model creation, TensorFlow's full-fledged compute engine gives developers and practitioners the freedom to fine-tune much of their model's low-level implementation."
   ]
  },
  {
   "cell_type": "markdown",
   "id": "01c68220",
   "metadata": {
    "id": "01c68220"
   },
   "source": [
    "#### Modelling with the Keras API"
   ]
  },
  {
   "cell_type": "markdown",
   "id": "5b09b6ed",
   "metadata": {
    "id": "5b09b6ed"
   },
   "source": [
    "##### The `Sequential ` API"
   ]
  },
  {
   "cell_type": "markdown",
   "id": "ec21b7eb",
   "metadata": {
    "id": "ec21b7eb"
   },
   "source": [
    "In this exercise we will interface with the Keras through TensorFlow's [`Sequential`](https://www.tensorflow.org/guide/keras/sequential_model) API. In [Exercise 1.3.2](https://github.com/jonathanloganmoran/ND0013-Self-Driving-Car-Engineer/blob/main/1-Computer-Vision/Exercises/1-3-2-Stochastic-Gradient-Descent/2022-08-29-Stochastic-Gradient-Descent.ipynb) we demonstrated how to implement a model using TensorFlow Keras but didn't touch on many of Keras' core design principles. Given the simplicity of our network architecture, we will be using the Sequential API to model the multi-layer perceptron as a simple stack of layers. The `Sequential` model [approach](https://www.tensorflow.org/guide/keras/sequential_model) is good enough for us in this use case, but is **not appropriate** for any model architecture with:\n",
    "* multiple inputs or multiple outputs;\n",
    "* any amount of layers accepting multiple inputs or multiple outputs;\n",
    "* layer sharing;\n",
    "* a non-linear topology.\n",
    "\n",
    "Let's dive a bit more into the Keras abstraction and the classes we will use in our model..."
   ]
  },
  {
   "cell_type": "markdown",
   "id": "8afe43c5",
   "metadata": {
    "id": "8afe43c5"
   },
   "source": [
    "##### The `Layer` base class"
   ]
  },
  {
   "cell_type": "markdown",
   "id": "e6270e2a",
   "metadata": {
    "id": "e6270e2a"
   },
   "source": [
    "Now that we've learned a bit about multi-layer perceptrons, let's see how those layers can actually be implemented in TensorFlow. \n",
    "\n",
    "Every `Layer` instance in TensorFlow is born from the the Keras [`layers.Layer`](https://www.tensorflow.org/api_docs/python/tf/keras/layers/Layer) base class. As said by Google themselves, \n",
    "\n",
    "\n",
    "_A layer is a callable object that takes as input one or more tensors and that outputs one or more tensors. It involves **computation**, defined in the `call()` method, and a **state** (the weight variables) implemented in the `__init__()` method._\n",
    "\n",
    "A layer in our use case is a set of fully-connected (but not interconnected) units, each with a respective weight value. This _layer_ in a multi-layer perceptron also implements an activation function, and those weight values we discussed are also said to be _trainable_ (that is, that they can be modified during training). We will see that translating this into code using the Keras `Layer` API is a straightforward and easy process. \n",
    "\n",
    "With the `Layer` abstraction we also now have access to a whole set of methods and class attributes provided by TensorFlow to help us maintain, monitor, or modify layer state and layer variables during training and more."
   ]
  },
  {
   "cell_type": "markdown",
   "id": "79bde66d",
   "metadata": {
    "id": "79bde66d"
   },
   "source": [
    "##### The `Model` base class"
   ]
  },
  {
   "cell_type": "markdown",
   "id": "9a156719",
   "metadata": {
    "id": "9a156719"
   },
   "source": [
    "A [`Model`](https://www.tensorflow.org/api_docs/python/tf/keras/Model) groups `Layer`s into a single object while also providing many powerful training and inference features. A `Model` can be initialised in a single line of code and begin providing insane functionality right off-the-shelf. Remember that exhausting [training and validation loop](https://github.com/jonathanloganmoran/ND0013-Self-Driving-Car-Engineer/blob/main/1-Object-Detection-in-Urban-Environments/Exercises/1-3-2-Stochastic-Gradient-Descent/2022-08-29-Stochastic-Gradient-Descent.ipynb) we wrote in the last exercise? With a `Model` instance, we can shorten that entire functionality into just _one line of code_ using the `Model.fit()` method.\n",
    "\n",
    "One other way to use ` Model` is to [_subclass it_](https://www.tensorflow.org/guide/keras/custom_layers_and_models). In other words, we can create a class that inherits `Model` and from there customise much of the core Keras functionality to suit our own needs. This can be beneficial for those wanting full control over the [lower-level](https://www.tensorflow.org/guide/keras/customizing_what_happens_in_fit#going_lower-level) details of the training cycle, or for those who want to encapsulate complex model architectures, custom callbacks, metric functions, etc. into neat, [serialisable](https://www.tensorflow.org/guide/keras/save_and_serialize/) Model objects."
   ]
  },
  {
   "cell_type": "markdown",
   "id": "1ddd02b2",
   "metadata": {
    "id": "1ddd02b2"
   },
   "source": [
    "#### Training and validation with the Keras API"
   ]
  },
  {
   "cell_type": "markdown",
   "id": "8ae492f7",
   "metadata": {
    "id": "8ae492f7"
   },
   "source": [
    "##### The `compile()` method"
   ]
  },
  {
   "cell_type": "markdown",
   "id": "2e186510",
   "metadata": {
    "id": "2e186510"
   },
   "source": [
    "This `Model` class method is essential for putting together all the pieces in building a model. The [`compile()`](https://www.tensorflow.org/api_docs/python/tf/keras/Model#compile) API allows us to quickly initialise our model instance with all sorts of useful [optimizers](https://www.tensorflow.org/api_docs/python/tf/keras/optimizers), [metric](https://www.tensorflow.org/api_docs/python/tf/keras/metrics) and [loss](https://www.tensorflow.org/api_docs/python/tf/keras/losses) functions and be up and running in no time."
   ]
  },
  {
   "cell_type": "markdown",
   "id": "62de14c0",
   "metadata": {
    "id": "62de14c0"
   },
   "source": [
    "##### The `fit()` method"
   ]
  },
  {
   "cell_type": "markdown",
   "id": "d6cbd46f",
   "metadata": {
    "id": "d6cbd46f"
   },
   "source": [
    "The `Model` [`fit()`](https://www.tensorflow.org/api_docs/python/tf/keras/Model#fit) method is at the heart of our model training process. This class method provides us with all the parameters we need to go from a hollow, untrained model to a fully-trained object detector, image classifier, etc. Our model hyperparameters — the _batch size_, _epochs_, etc. are supplied as input parameters into this method along with our dataset and any considerations we have for it (e.g., whether to `shuffle` the input data, perform a `validation_split` over it, etc.). Lastly, here in the model `fit()` method is where we supply any `callbacks` we want to include alongside the training process.\n",
    "\n",
    "Once your input parameters are good to go, training a model is really just as simple as executing this line of code. The `fit()` method will even handle printing out updates to the console for you — a nice progress bar and some helpful metrics at every iteration of training. No wonder Keras has been [such a hit](https://blog.tensorflow.org/2018/12/standardizing-on-keras-guidance.html) at Google!"
   ]
  },
  {
   "cell_type": "markdown",
   "id": "9790689c",
   "metadata": {
    "id": "9790689c"
   },
   "source": [
    "##### The `callbacks` functionality"
   ]
  },
  {
   "cell_type": "markdown",
   "id": "398417d5",
   "metadata": {
    "id": "398417d5"
   },
   "source": [
    "In addition to the benefits aforementioned when using the Keras `fit()` API for training, we also get the ability to specify [`callbacks`](https://www.tensorflow.org/api_docs/python/tf/keras/callbacks/Callback). Callbacks are functions that get passed into the `fit()`, `evaluate()` and `predict()` methods of a model in order to customise their functionality or run your own code on regular intervals (e.g., at the end of each epoch). While some callback functionality is baked in by default (e.g., [`callbacks.History`](https://www.tensorflow.org/api_docs/python/tf/keras/callbacks/History)), several other popular callbacks exist. One of those is the [`callbacks.LearningRateScheduler`](https://www.tensorflow.org/api_docs/python/tf/keras/callbacks/LearningRateScheduler) which serves as a base class for all custom learning rate schedulers (e.g., [`optimizers.schedules.ExponentialDecay`](https://www.tensorflow.org/api_docs/python/tf/keras/callbacks/LearningRateScheduler)). Through [_subclassing_](https://www.tensorflow.org/guide/keras/custom_layers_and_models) we can override some of the callback methods and provide our own to do things like update our model's learning rate using a custom function on every epoch, for example. \n",
    "\n",
    "One last callback worth mentioning here for our own use is [`callbacks.TensorBoard`](https://www.tensorflow.org/api_docs/python/tf/keras/callbacks/TensorBoard). This callback allows our model to log certain events throughout the training process, such as metrics summaries or weight updates, in order to visualise them in detail during the training cycle. The [TensorBoard dashboard](https://www.tensorflow.org/tensorboard/get_started) provides a nice graphical interface to monitor real-time, interactive plots, graphs and charts of important training metrics and other stats. We can even use these real-time plots in TensorBoard to [visualise layer weights](http://cs231n.github.io/understanding-cnn/) or [monitor confusion matrices](https://www.tensorflow.org/tensorboard/image_summaries#building_an_image_classifier) on each epoch, all with the help of callbacks."
   ]
  },
  {
   "cell_type": "markdown",
   "id": "50707f5b",
   "metadata": {
    "id": "50707f5b"
   },
   "source": [
    "## 2. Programming Task"
   ]
  },
  {
   "cell_type": "markdown",
   "id": "852dc50e",
   "metadata": {
    "id": "852dc50e"
   },
   "source": [
    "From the Introduction you by now should have a decent overview of TensorFlow and some of the essential functionality Keras brings to it. In this section, we will implement a Feedforward Neural Network (FNN) for image classification on the German Traffic Sign Recognition (GTSRB), starting with a simple `Sequential` model architecture and adding complexity from there."
   ]
  },
  {
   "cell_type": "markdown",
   "id": "27e45ce5",
   "metadata": {
    "id": "27e45ce5"
   },
   "source": [
    "### 2.1. Feedforward Neural Networks (FNNs)"
   ]
  },
  {
   "cell_type": "markdown",
   "id": "aae0b8e9",
   "metadata": {
    "id": "aae0b8e9"
   },
   "source": [
    "The neural network you create should have less than 4 layers, including the output layer. This last layer should not be activated. Take the time to experiment with different architecture (number of layers, number of neurons) and see how it impacts the results."
   ]
  },
  {
   "cell_type": "code",
   "execution_count": 11,
   "id": "1df1602b",
   "metadata": {
    "id": "1df1602b"
   },
   "outputs": [],
   "source": [
    "### From Udacity's `training.py`"
   ]
  },
  {
   "cell_type": "code",
   "execution_count": 12,
   "id": "ac32f1b7",
   "metadata": {
    "id": "ac32f1b7"
   },
   "outputs": [],
   "source": [
    "def create_network(\n",
    "        input_shape: Tuple[int, int, int], output_shape: int, \n",
    "        model_name: str='FeedforwardNeuralNetwork') -> tf.keras.Model:\n",
    "    \"\"\"Creates a simple Feedforward Neural Network.\n",
    "    \n",
    "    :param input_shape: a tuple describing the image shape\n",
    "        without considering the batch size dimension.\n",
    "    :param output_shape: an integer value of the number of distinct classes.\n",
    "    :param model_name: a string describing the model name.\n",
    "    :returns: a tf.keras.Model instance, a FNN built using the TensorFlow\n",
    "        Keras Sequential API model.\n",
    "    \"\"\"\n",
    "    \n",
    "    model = tf.keras.models.Sequential([\n",
    "        tf.keras.layers.Flatten(input_shape=input_shape),\n",
    "        tf.keras.layers.Dense(256, activation='relu'),\n",
    "        tf.keras.layers.Dense(128, activation='relu'),\n",
    "        tf.keras.layers.Dense(output_shape)], \n",
    "        name=model_name\n",
    "    )\n",
    "    return model"
   ]
  },
  {
   "cell_type": "code",
   "execution_count": 13,
   "id": "55462b3e",
   "metadata": {
    "id": "55462b3e"
   },
   "outputs": [],
   "source": [
    "### Defining our model parameters"
   ]
  },
  {
   "cell_type": "code",
   "execution_count": 14,
   "id": "f86833c8",
   "metadata": {
    "id": "f86833c8"
   },
   "outputs": [],
   "source": [
    "model_params = {}"
   ]
  },
  {
   "cell_type": "code",
   "execution_count": 15,
   "id": "c57e8e5c",
   "metadata": {
    "id": "c57e8e5c"
   },
   "outputs": [],
   "source": [
    "IMG_SIZE = 32                                     # Each RGB image has 32x32 px resolution\n",
    "IMG_SHAPE = (IMG_SIZE, IMG_SIZE, 3)               # Each RGB image has 3 channels (R,G,B)"
   ]
  },
  {
   "cell_type": "code",
   "execution_count": 16,
   "id": "ac361e51",
   "metadata": {
    "id": "ac361e51"
   },
   "outputs": [],
   "source": [
    "N_CLASSES = 43                                    # The GTSRB has 43 distinct classes"
   ]
  },
  {
   "cell_type": "code",
   "execution_count": 17,
   "id": "d861f028",
   "metadata": {
    "id": "d861f028"
   },
   "outputs": [],
   "source": [
    "model_params.update({'input_shape': IMG_SHAPE})"
   ]
  },
  {
   "cell_type": "code",
   "execution_count": 18,
   "id": "40f57bcc",
   "metadata": {
    "id": "40f57bcc"
   },
   "outputs": [],
   "source": [
    "model_params.update({'n_classes': N_CLASSES})"
   ]
  },
  {
   "cell_type": "code",
   "execution_count": 19,
   "id": "6821a566",
   "metadata": {
    "id": "6821a566"
   },
   "outputs": [],
   "source": [
    "model_params.update({'model_name': 'FeedforwardNeuralNetwork'})"
   ]
  },
  {
   "cell_type": "code",
   "execution_count": 20,
   "id": "e1a7e43e",
   "metadata": {
    "id": "e1a7e43e"
   },
   "outputs": [
    {
     "name": "stderr",
     "output_type": "stream",
     "text": [
      "2023-08-19 23:56:59.266401: I tensorflow/core/common_runtime/pluggable_device/pluggable_device_factory.cc:303] Could not identify NUMA node of platform GPU ID 0, defaulting to 0. Your kernel may not have been built with NUMA support.\n",
      "2023-08-19 23:56:59.266417: I tensorflow/core/common_runtime/pluggable_device/pluggable_device_factory.cc:269] Created TensorFlow device (/job:localhost/replica:0/task:0/device:GPU:0 with 0 MB memory) -> physical PluggableDevice (device: 0, name: METAL, pci bus id: <undefined>)\n"
     ]
    }
   ],
   "source": [
    "### Initialising the FNN\n",
    "model = create_network(input_shape=model_params['input_shape'],\n",
    "                       output_shape=model_params['n_classes'],\n",
    "                       model_name=model_params['model_name']\n",
    ")"
   ]
  },
  {
   "cell_type": "code",
   "execution_count": 21,
   "id": "YtvCnnCjn9IV",
   "metadata": {
    "colab": {
     "base_uri": "https://localhost:8080/"
    },
    "id": "YtvCnnCjn9IV",
    "outputId": "b069c366-c6fe-40a7-c9d9-7536ebc384f5"
   },
   "outputs": [
    {
     "data": {
      "text/plain": [
       "(None, 32, 32, 3)"
      ]
     },
     "execution_count": 21,
     "metadata": {},
     "output_type": "execute_result"
    }
   ],
   "source": [
    "model.input_shape"
   ]
  },
  {
   "cell_type": "code",
   "execution_count": 22,
   "id": "JknsNA9Hoj0m",
   "metadata": {
    "colab": {
     "base_uri": "https://localhost:8080/"
    },
    "id": "JknsNA9Hoj0m",
    "outputId": "ddd02ad9-3a48-43f4-8d00-bb7a4be35b6f"
   },
   "outputs": [
    {
     "data": {
      "text/plain": [
       "(None, 43)"
      ]
     },
     "execution_count": 22,
     "metadata": {},
     "output_type": "execute_result"
    }
   ],
   "source": [
    "model.output_shape"
   ]
  },
  {
   "cell_type": "markdown",
   "id": "7b6b444a",
   "metadata": {
    "id": "7b6b444a"
   },
   "source": [
    "### 2.2. Modelling with TensorFlow Keras API"
   ]
  },
  {
   "cell_type": "code",
   "execution_count": 23,
   "id": "18f2f31b",
   "metadata": {
    "id": "18f2f31b"
   },
   "outputs": [],
   "source": [
    "### Defining our optimizer hyperparameters"
   ]
  },
  {
   "cell_type": "code",
   "execution_count": 24,
   "id": "1186de24",
   "metadata": {
    "id": "1186de24"
   },
   "outputs": [],
   "source": [
    "model_params.update({'learning_rate': 1e-3})"
   ]
  },
  {
   "cell_type": "code",
   "execution_count": 25,
   "id": "19ee8ab3",
   "metadata": {
    "id": "19ee8ab3"
   },
   "outputs": [],
   "source": [
    "decay = True                                     # Whether or not to use a learning rate schedule"
   ]
  },
  {
   "cell_type": "code",
   "execution_count": 67,
   "id": "d4da8838",
   "metadata": {
    "id": "d4da8838"
   },
   "outputs": [],
   "source": [
    "initial_lr = model_params['learning_rate']\n",
    "decay_rate = 0.96                                 # Amount to decay learning rate by (decrease by 96%)\n",
    "decay_steps = 128 * 10                            # When to modify learning rate (every interval of `decay_steps`)"
   ]
  },
  {
   "cell_type": "code",
   "execution_count": 27,
   "id": "728f6385",
   "metadata": {
    "id": "728f6385"
   },
   "outputs": [],
   "source": [
    "### Initialising a learning rate schedule\n",
    "# See: https://www.tensorflow.org/api_docs/python/tf/keras/optimizers/schedules/ExponentialDecay"
   ]
  },
  {
   "cell_type": "code",
   "execution_count": 28,
   "id": "e5bc2792",
   "metadata": {
    "id": "e5bc2792"
   },
   "outputs": [],
   "source": [
    "lr_schedule = tf.keras.optimizers.schedules.ExponentialDecay(\n",
    "                        initial_learning_rate=initial_lr,\n",
    "                        decay_steps=decay_steps,\n",
    "                        decay_rate=decay_rate,\n",
    "                        staircase=True\n",
    ")"
   ]
  },
  {
   "cell_type": "code",
   "execution_count": 29,
   "id": "af49d29f",
   "metadata": {
    "id": "af49d29f"
   },
   "outputs": [],
   "source": [
    "model_params.update({'lr_schedule': lr_schedule})"
   ]
  },
  {
   "cell_type": "code",
   "execution_count": 30,
   "id": "1b9d882d",
   "metadata": {
    "id": "1b9d882d"
   },
   "outputs": [],
   "source": [
    "### Selecting the optimiser and activation functions \n",
    "# See: https://www.tensorflow.org/api_docs/python/tf/keras/optimizers/Adam"
   ]
  },
  {
   "cell_type": "code",
   "execution_count": 31,
   "id": "1282b0d5",
   "metadata": {
    "id": "1282b0d5"
   },
   "outputs": [
    {
     "name": "stderr",
     "output_type": "stream",
     "text": [
      "WARNING:absl:At this time, the v2.11+ optimizer `tf.keras.optimizers.Adam` runs slowly on M1/M2 Macs, please use the legacy Keras optimizer instead, located at `tf.keras.optimizers.legacy.Adam`.\n"
     ]
    }
   ],
   "source": [
    "optimizer = tf.keras.optimizers.Adam(\n",
    "                learning_rate=model_params['learning_rate'] if not decay else (\n",
    "                              model_params['lr_schedule']),\n",
    "                beta_1=0.9,\n",
    "                beta_2=0.999,\n",
    "                epsilon=1e-07,\n",
    "                amsgrad=False,\n",
    "                name='Adam'\n",
    ")"
   ]
  },
  {
   "cell_type": "code",
   "execution_count": 32,
   "id": "1e822f7b",
   "metadata": {
    "id": "1e822f7b"
   },
   "outputs": [],
   "source": [
    "### Choosing the loss and performance metrics\n",
    "# See: https://www.tensorflow.org/api_docs/python/tf/keras/losses/SparseCategoricalCrossentropy\n",
    "# See: https://www.tensorflow.org/api_docs/python/tf/keras/metrics/Accuracy"
   ]
  },
  {
   "cell_type": "code",
   "execution_count": 33,
   "id": "d69a865d",
   "metadata": {
    "id": "d69a865d"
   },
   "outputs": [],
   "source": [
    "# Here we specify `from_logits=True` since we are not using the \n",
    "# 'softmax' activation function in the last layer of our model\n",
    "loss_fn = tf.keras.losses.SparseCategoricalCrossentropy(from_logits=True)"
   ]
  },
  {
   "cell_type": "code",
   "execution_count": 34,
   "id": "4e3b9c98",
   "metadata": {
    "id": "4e3b9c98"
   },
   "outputs": [],
   "source": [
    "# Here the accuracy is defined as the SparseCategoricalAccuracy, since the ground truth is integer. \n",
    "# See: https://keras.io/api/metrics/accuracy_metrics/\n",
    "# See: https://stackoverflow.com/questions/65023353/difference-between-keras-metrics-accuracy-and-accuracy\n",
    "accuracy_fn = tf.keras.metrics.SparseCategoricalAccuracy(name=\"accuracy\")"
   ]
  },
  {
   "cell_type": "code",
   "execution_count": 35,
   "id": "a8845a7e",
   "metadata": {
    "id": "a8845a7e"
   },
   "outputs": [],
   "source": [
    "### Compiling the model using the `compile()` API\n",
    "# See: https://www.tensorflow.org/api_docs/python/tf/keras/Model#compile"
   ]
  },
  {
   "cell_type": "code",
   "execution_count": 36,
   "id": "wAQikA5-PGyN",
   "metadata": {
    "id": "wAQikA5-PGyN"
   },
   "outputs": [],
   "source": [
    "# Here we use the stock 'adam' optimizer for best performance"
   ]
  },
  {
   "cell_type": "code",
   "execution_count": 37,
   "id": "745f7ffc",
   "metadata": {
    "id": "745f7ffc"
   },
   "outputs": [
    {
     "name": "stderr",
     "output_type": "stream",
     "text": [
      "WARNING:absl:There is a known slowdown when using v2.11+ Keras optimizers on M1/M2 Macs. Falling back to the legacy Keras optimizer, i.e., `tf.keras.optimizers.legacy.Adam`.\n"
     ]
    }
   ],
   "source": [
    "model.compile(optimizer='adam',\n",
    "              loss=loss_fn,\n",
    "              metrics=['accuracy']\n",
    ")\n",
    "\n",
    "### To use self-configured optimizer, scheduler, and accuracy_fn, uncomment the code below\n",
    "# model.compile(optimizer=optimizer,\n",
    "#               loss=loss_fn,\n",
    "#               metrics=[accuracy_fn]\n",
    "# )"
   ]
  },
  {
   "cell_type": "markdown",
   "id": "8e6743cc",
   "metadata": {
    "id": "8e6743cc"
   },
   "source": [
    "### 2.3. Training and validation"
   ]
  },
  {
   "cell_type": "code",
   "execution_count": 38,
   "id": "d96776b0",
   "metadata": {
    "id": "d96776b0"
   },
   "outputs": [],
   "source": [
    "### Setting the training hyperparameters"
   ]
  },
  {
   "cell_type": "code",
   "execution_count": 39,
   "id": "b0879d4f",
   "metadata": {
    "id": "b0879d4f"
   },
   "outputs": [],
   "source": [
    "model_params.update({'epochs': 20})\n",
    "# Using batch size of 128 (mini-batching as in D. Kingma, 2015)\n",
    "model_params.update({'batch_size': 128})\n",
    "model_params.update({'shuffle': True})"
   ]
  },
  {
   "cell_type": "code",
   "execution_count": 40,
   "id": "805fb0c6",
   "metadata": {
    "id": "805fb0c6"
   },
   "outputs": [],
   "source": [
    "### Usage of the `callbacks()` method\n",
    "# See: https://www.tensorflow.org/api_docs/python/tf/keras/callbacks/History\n",
    "# See: https://www.tensorflow.org/api_docs/python/tf/keras/callbacks/ModelCheckpoint"
   ]
  },
  {
   "cell_type": "code",
   "execution_count": 41,
   "id": "a765d8fe",
   "metadata": {
    "id": "a765d8fe"
   },
   "outputs": [],
   "source": [
    "### From Udacity's `utils.py`"
   ]
  },
  {
   "cell_type": "code",
   "execution_count": 42,
   "id": "f13b4bcd",
   "metadata": {
    "id": "f13b4bcd"
   },
   "outputs": [],
   "source": [
    "def get_module_logger(mod_name: str) -> logging.Logger:\n",
    "    \"\"\"Initialises a console logger instance.\n",
    "    \n",
    "    :param mod_name: the model name to assign to the logger.\n",
    "    :returns: a logger instance.\n",
    "    \"\"\"\n",
    "    \n",
    "    ### Setting up the console logger and formatter\n",
    "    logger = logging.getLogger(mod_name)\n",
    "    if not logger.hasHandlers():\n",
    "        handler = logging.StreamHandler()\n",
    "        formatter = logging.Formatter('%(asctime)s %(levelname)-8s %(message)s')\n",
    "        handler.setFormatter(formatter)\n",
    "        logger.addHandler(handler)\n",
    "        logger.setLevel(logging.DEBUG)\n",
    "        ### Prevent messages going to root handler\n",
    "        logger.propagate = False\n",
    "    return logger"
   ]
  },
  {
   "cell_type": "code",
   "execution_count": 43,
   "id": "d521c2e4",
   "metadata": {
    "id": "d521c2e4"
   },
   "outputs": [],
   "source": [
    "logger = get_module_logger(model.name)"
   ]
  },
  {
   "cell_type": "markdown",
   "id": "cc8cb909",
   "metadata": {
    "id": "cc8cb909"
   },
   "source": [
    "### 2.4. Evaluation on the GTSRB dataset"
   ]
  },
  {
   "cell_type": "markdown",
   "id": "6f9020fb",
   "metadata": {
    "id": "6f9020fb"
   },
   "source": [
    "#### Considerations for our input data"
   ]
  },
  {
   "cell_type": "code",
   "execution_count": 44,
   "id": "79902f44",
   "metadata": {
    "id": "79902f44"
   },
   "outputs": [],
   "source": [
    "### Defining our input image specs"
   ]
  },
  {
   "cell_type": "code",
   "execution_count": 45,
   "id": "c8712a6e",
   "metadata": {
    "id": "c8712a6e"
   },
   "outputs": [],
   "source": [
    "image_size = (32, 32)          # Each RGB image has 32x32 px resolution\n",
    "n_features = (32 * 32) * 3     # Each pixel value is considered an attribute (feature)"
   ]
  },
  {
   "cell_type": "code",
   "execution_count": 46,
   "id": "kESR1SPhcQ_g",
   "metadata": {
    "id": "kESR1SPhcQ_g"
   },
   "outputs": [],
   "source": [
    "model_params.update({'image_size': image_size})\n",
    "model_params.update({'n_features': n_features})"
   ]
  },
  {
   "cell_type": "markdown",
   "id": "a36427be",
   "metadata": {
    "id": "a36427be"
   },
   "source": [
    "#### Putting it all together"
   ]
  },
  {
   "cell_type": "markdown",
   "id": "e5bcf502",
   "metadata": {
    "id": "e5bcf502"
   },
   "source": [
    "##### Fetching the GTSRB data"
   ]
  },
  {
   "cell_type": "markdown",
   "id": "1a037552",
   "metadata": {
    "id": "1a037552"
   },
   "source": [
    "You will need to specify the `--imdir`, e.g. `--imdir GTSRB/Final_Training/Images/`, using the provided GTSRB dataset."
   ]
  },
  {
   "cell_type": "code",
   "execution_count": 47,
   "id": "f561a2ae",
   "metadata": {
    "id": "f561a2ae"
   },
   "outputs": [],
   "source": [
    "imdir = os.path.join(DIR_SRC, 'GTSRB/Final_Training/Images')"
   ]
  },
  {
   "cell_type": "code",
   "execution_count": 48,
   "id": "p5o10jcdcL6M",
   "metadata": {
    "id": "p5o10jcdcL6M"
   },
   "outputs": [],
   "source": [
    "model_params.update({'imdir': imdir})"
   ]
  },
  {
   "cell_type": "markdown",
   "id": "81ce72a2",
   "metadata": {
    "id": "81ce72a2"
   },
   "source": [
    "The following `get_datasets()` method returns a tuple of [`tf.data.Dataset`](https://www.tensorflow.org/api_docs/python/tf/data/Dataset) instances containing the training and validation datasets, respectively."
   ]
  },
  {
   "cell_type": "code",
   "execution_count": 49,
   "id": "a1fae16e",
   "metadata": {
    "id": "a1fae16e"
   },
   "outputs": [],
   "source": [
    "### From Udacity's `utils.py`"
   ]
  },
  {
   "cell_type": "code",
   "execution_count": 50,
   "id": "39b50208",
   "metadata": {
    "id": "39b50208"
   },
   "outputs": [],
   "source": [
    "def get_datasets(imdir: str) -> tuple:\n",
    "    \"\"\"Return the training and validation datasets.\n",
    "    \n",
    "    :param imdir: absolute path to the directory where the data is stored in.\n",
    "    :returns: (train_dataset, validation_dataset), tuple of tf.data.Dataset instances.\n",
    "    \"\"\"\n",
    "    \n",
    "    train_dataset = tf.keras.preprocessing.image_dataset_from_directory(\n",
    "                        imdir,\n",
    "                        labels='inferred',\n",
    "                        label_mode='int',\n",
    "                        color_mode='rgb',\n",
    "                        batch_size=model_params.get('batch_size', 1),\n",
    "                        image_size=model_params.get('image_size', (32, 32)),\n",
    "                        shuffle=True,\n",
    "                        seed=123,\n",
    "                        validation_split=0.1,\n",
    "                        subset='training',\n",
    "    )\n",
    "    validation_dataset = tf.keras.preprocessing.image_dataset_from_directory(\n",
    "                        imdir,\n",
    "                        labels='inferred',\n",
    "                        label_mode='int',\n",
    "                        color_mode='rgb',\n",
    "                        batch_size=model_params.get('batch_size', 1),\n",
    "                        image_size=model_params.get('image_size', (32, 32)),\n",
    "                        shuffle=True,\n",
    "                        seed=123,\n",
    "                        validation_split=0.1,\n",
    "                        subset='validation',\n",
    "    )\n",
    "    return train_dataset, validation_dataset"
   ]
  },
  {
   "cell_type": "code",
   "execution_count": 51,
   "id": "f906cdf7",
   "metadata": {
    "colab": {
     "base_uri": "https://localhost:8080/"
    },
    "id": "f906cdf7",
    "outputId": "d6d80f2e-3e36-4083-fb42-d43063553e06"
   },
   "outputs": [
    {
     "name": "stdout",
     "output_type": "stream",
     "text": [
      "Found 4300 files belonging to 43 classes.\n",
      "Using 3870 files for training.\n",
      "Found 4300 files belonging to 43 classes.\n",
      "Using 430 files for validation.\n"
     ]
    }
   ],
   "source": [
    "### Fetching the training and validation datasets\n",
    "train_dataset, validation_dataset = get_datasets(model_params['imdir'])"
   ]
  },
  {
   "cell_type": "markdown",
   "id": "b7f368f0",
   "metadata": {
    "id": "b7f368f0"
   },
   "source": [
    "##### Processing the image data"
   ]
  },
  {
   "cell_type": "code",
   "execution_count": 52,
   "id": "936d2612",
   "metadata": {
    "colab": {
     "base_uri": "https://localhost:8080/"
    },
    "id": "936d2612",
    "outputId": "17959dbe-f74c-4a1e-d801-0d3239d72a4d"
   },
   "outputs": [
    {
     "data": {
      "text/plain": [
       "3072"
      ]
     },
     "execution_count": 52,
     "metadata": {},
     "output_type": "execute_result"
    }
   ],
   "source": [
    "### Number of features (pixel values) in a single image\n",
    "train_iter = iter(train_dataset)\n",
    "len(train_iter.get_next()[0][0].numpy().flatten())"
   ]
  },
  {
   "cell_type": "code",
   "execution_count": 53,
   "id": "55d7a1ba",
   "metadata": {
    "id": "55d7a1ba"
   },
   "outputs": [],
   "source": [
    "def process(dataset: tf.data.Dataset) -> Generator[tuple, None, None]:\n",
    "    \"\"\"Processes the input dataset and returns a generator object.\n",
    "\n",
    "    :param dataset: the tf.data.Dataset instance of batched image, label data.\n",
    "    :returns: the generator instance modifying the image attribute values.\n",
    "    \"\"\"\n",
    "\n",
    "    def process_generator() -> Iterator[Tuple[tf.Tensor, tf.Tensor]]:\n",
    "        \"\"\"Scales the input image data.\n",
    "        \n",
    "        Unbatches the tf.data.Dataset and scales all image attributes,\n",
    "        i.e., pixel values, in the range [0, 1].\n",
    "\n",
    "        :returns: an iterator yielding the modfied image data and\n",
    "            corresponding label.\n",
    "        \"\"\"\n",
    "\n",
    "        for batch in dataset:\n",
    "            for image, label in zip(*batch):\n",
    "                image = tf.cast(image/255. ,tf.float32)\n",
    "                yield image, label\n",
    "    return process_generator"
   ]
  },
  {
   "cell_type": "code",
   "execution_count": 54,
   "id": "1ba04d8a",
   "metadata": {
    "id": "1ba04d8a"
   },
   "outputs": [],
   "source": [
    "### Unbatching the datasets and scaling the images"
   ]
  },
  {
   "cell_type": "code",
   "execution_count": 55,
   "id": "HDZQst2ndToS",
   "metadata": {
    "id": "HDZQst2ndToS"
   },
   "outputs": [],
   "source": [
    "train_dataset_scaled = tf.data.Dataset.from_generator(\n",
    "                                generator=process(train_dataset), \n",
    "                                output_types=(tf.float32, tf.int32), \n",
    "                                output_shapes=(model_params['input_shape'], ())\n",
    ").batch(model_params['batch_size'])"
   ]
  },
  {
   "cell_type": "code",
   "execution_count": 56,
   "id": "8SjK-vPPkl0I",
   "metadata": {
    "id": "8SjK-vPPkl0I"
   },
   "outputs": [],
   "source": [
    "validation_dataset_scaled = tf.data.Dataset.from_generator(\n",
    "                                generator=process(validation_dataset), \n",
    "                                output_types=(tf.float32, tf.int32), \n",
    "                                output_shapes=(model_params['input_shape'], ())\n",
    ").batch(model_params['batch_size'])"
   ]
  },
  {
   "cell_type": "code",
   "execution_count": 57,
   "id": "p6pKpKa63Mj7",
   "metadata": {
    "colab": {
     "base_uri": "https://localhost:8080/"
    },
    "id": "p6pKpKa63Mj7",
    "outputId": "2307a354-ed8a-4b9f-9415-1f4e1f554c2a"
   },
   "outputs": [
    {
     "data": {
      "text/plain": [
       "tensorflow.python.data.ops.batch_op._BatchDataset"
      ]
     },
     "execution_count": 57,
     "metadata": {},
     "output_type": "execute_result"
    }
   ],
   "source": [
    "type(validation_dataset_scaled)"
   ]
  },
  {
   "cell_type": "markdown",
   "id": "13df3c87",
   "metadata": {
    "id": "13df3c87"
   },
   "source": [
    "##### Performing the training and validation loops"
   ]
  },
  {
   "cell_type": "code",
   "execution_count": 58,
   "id": "084541c8",
   "metadata": {
    "id": "084541c8"
   },
   "outputs": [],
   "source": [
    "### From Udacity's `training.py`"
   ]
  },
  {
   "cell_type": "code",
   "execution_count": 59,
   "id": "R_8JpK72lDjc",
   "metadata": {
    "colab": {
     "base_uri": "https://localhost:8080/"
    },
    "id": "R_8JpK72lDjc",
    "outputId": "dcc15a8d-323b-466b-cf4a-8557de0554eb"
   },
   "outputs": [],
   "source": [
    "logger.info(f\"\\nTraining for {model_params['epochs']} epochs \" + \n",
    "            f\"using '{model_params['imdir']}' data\")"
   ]
  },
  {
   "cell_type": "code",
   "execution_count": 60,
   "id": "dfcd3d2a",
   "metadata": {
    "id": "dfcd3d2a"
   },
   "outputs": [],
   "source": [
    "### Usage of the `fit()` API\n",
    "# See: https://www.tensorflow.org/api_docs/python/tf/keras/Model#fit"
   ]
  },
  {
   "cell_type": "code",
   "execution_count": 61,
   "id": "90d99992",
   "metadata": {
    "colab": {
     "base_uri": "https://localhost:8080/"
    },
    "id": "90d99992",
    "outputId": "2d64de60-b0e7-4bb0-babe-cc498a014f42"
   },
   "outputs": [
    {
     "name": "stdout",
     "output_type": "stream",
     "text": [
      "Epoch 1/20\n"
     ]
    },
    {
     "name": "stderr",
     "output_type": "stream",
     "text": [
      "2023-08-19 23:57:00.176238: I tensorflow/core/grappler/optimizers/custom_graph_optimizer_registry.cc:114] Plugin optimizer for device_type GPU is enabled.\n"
     ]
    },
    {
     "name": "stdout",
     "output_type": "stream",
     "text": [
      "      1/Unknown - 1s 766ms/step - loss: 4.0686 - accuracy: 0.0469"
     ]
    },
    {
     "name": "stdout",
     "output_type": "stream",
     "text": [
      "     31/Unknown - 5s 126ms/step - loss: 5.0080 - accuracy: 0.0535"
     ]
    },
    {
     "name": "stderr",
     "output_type": "stream",
     "text": [
      "2023-08-19 23:57:04.609317: I tensorflow/core/framework/local_rendezvous.cc:405] Local rendezvous recv item cancelled. Key hash: 16900315112165970280\n",
      "2023-08-19 23:57:04.609335: I tensorflow/core/framework/local_rendezvous.cc:405] Local rendezvous recv item cancelled. Key hash: 17131593603356321140\n",
      "2023-08-19 23:57:04.609341: I tensorflow/core/framework/local_rendezvous.cc:405] Local rendezvous recv item cancelled. Key hash: 928451260184099103\n",
      "2023-08-19 23:57:04.609358: I tensorflow/core/framework/local_rendezvous.cc:405] Local rendezvous recv item cancelled. Key hash: 10611963356594146345\n",
      "2023-08-19 23:57:04.856747: I tensorflow/core/grappler/optimizers/custom_graph_optimizer_registry.cc:114] Plugin optimizer for device_type GPU is enabled.\n"
     ]
    },
    {
     "name": "stdout",
     "output_type": "stream",
     "text": [
      "31/31 [==============================] - 5s 156ms/step - loss: 5.0080 - accuracy: 0.0535 - val_loss: 3.8566 - val_accuracy: 0.1047\n",
      "Epoch 2/20\n",
      " 1/31 [..............................] - ETA: 5s - loss: 3.7517 - accuracy: 0.0938"
     ]
    },
    {
     "name": "stderr",
     "output_type": "stream",
     "text": [
      "2023-08-19 23:57:05.491346: I tensorflow/core/framework/local_rendezvous.cc:405] Local rendezvous recv item cancelled. Key hash: 9507064121495368211\n",
      "2023-08-19 23:57:05.491360: I tensorflow/core/framework/local_rendezvous.cc:405] Local rendezvous recv item cancelled. Key hash: 12500953177541210909\n",
      "2023-08-19 23:57:05.491370: I tensorflow/core/framework/local_rendezvous.cc:405] Local rendezvous recv item cancelled. Key hash: 12972859053028618288\n",
      "2023-08-19 23:57:05.491374: I tensorflow/core/framework/local_rendezvous.cc:405] Local rendezvous recv item cancelled. Key hash: 7378998823676143502\n"
     ]
    },
    {
     "name": "stdout",
     "output_type": "stream",
     "text": [
      "31/31 [==============================] - 4s 133ms/step - loss: 3.7462 - accuracy: 0.1000 - val_loss: 3.6922 - val_accuracy: 0.0953\n",
      "Epoch 3/20\n",
      "31/31 [==============================] - 4s 123ms/step - loss: 3.5013 - accuracy: 0.1307 - val_loss: 3.4251 - val_accuracy: 0.1791\n",
      "Epoch 4/20\n",
      "31/31 [==============================] - 4s 116ms/step - loss: 3.3806 - accuracy: 0.1760 - val_loss: 3.4031 - val_accuracy: 0.1372\n",
      "Epoch 5/20\n",
      "31/31 [==============================] - 4s 114ms/step - loss: 3.2219 - accuracy: 0.2018 - val_loss: 3.1465 - val_accuracy: 0.2186\n",
      "Epoch 6/20\n",
      "31/31 [==============================] - 4s 114ms/step - loss: 3.0417 - accuracy: 0.2271 - val_loss: 2.8872 - val_accuracy: 0.2558\n",
      "Epoch 7/20\n",
      "31/31 [==============================] - 4s 114ms/step - loss: 2.7971 - accuracy: 0.2894 - val_loss: 2.7752 - val_accuracy: 0.2395\n",
      "Epoch 8/20\n",
      "31/31 [==============================] - 4s 113ms/step - loss: 2.6434 - accuracy: 0.3134 - val_loss: 2.5869 - val_accuracy: 0.3349\n",
      "Epoch 9/20\n",
      "31/31 [==============================] - 4s 112ms/step - loss: 2.4940 - accuracy: 0.3475 - val_loss: 2.4572 - val_accuracy: 0.3442\n",
      "Epoch 10/20\n",
      "31/31 [==============================] - 4s 125ms/step - loss: 2.3609 - accuracy: 0.3788 - val_loss: 2.2906 - val_accuracy: 0.4000\n",
      "Epoch 11/20\n",
      "31/31 [==============================] - 4s 131ms/step - loss: 2.3673 - accuracy: 0.3724 - val_loss: 2.2432 - val_accuracy: 0.4023\n",
      "Epoch 12/20\n",
      "31/31 [==============================] - 4s 133ms/step - loss: 2.0842 - accuracy: 0.4486 - val_loss: 2.0898 - val_accuracy: 0.4605\n",
      "Epoch 13/20\n",
      "31/31 [==============================] - 4s 131ms/step - loss: 1.9450 - accuracy: 0.4822 - val_loss: 2.1608 - val_accuracy: 0.4023\n",
      "Epoch 14/20\n",
      "31/31 [==============================] - 4s 133ms/step - loss: 1.9083 - accuracy: 0.4946 - val_loss: 2.0546 - val_accuracy: 0.4116\n",
      "Epoch 15/20\n",
      "31/31 [==============================] - 4s 132ms/step - loss: 1.8137 - accuracy: 0.5054 - val_loss: 1.7916 - val_accuracy: 0.5140\n",
      "Epoch 16/20\n",
      "31/31 [==============================] - 4s 131ms/step - loss: 1.7143 - accuracy: 0.5426 - val_loss: 1.9558 - val_accuracy: 0.4209\n",
      "Epoch 17/20\n",
      "31/31 [==============================] - 4s 132ms/step - loss: 1.6761 - accuracy: 0.5416 - val_loss: 1.7717 - val_accuracy: 0.5116\n",
      "Epoch 18/20\n",
      "31/31 [==============================] - 4s 132ms/step - loss: 1.5786 - accuracy: 0.5700 - val_loss: 1.7220 - val_accuracy: 0.5116\n",
      "Epoch 19/20\n",
      "31/31 [==============================] - 4s 131ms/step - loss: 1.5566 - accuracy: 0.5850 - val_loss: 1.6420 - val_accuracy: 0.5233\n",
      "Epoch 20/20\n",
      "31/31 [==============================] - 4s 132ms/step - loss: 1.4708 - accuracy: 0.5948 - val_loss: 1.4486 - val_accuracy: 0.6349\n"
     ]
    }
   ],
   "source": [
    "history = model.fit(\n",
    "                x=train_dataset_scaled,\n",
    "                epochs=model_params.get('epochs', 10),\n",
    "                batch_size=model_params.get('batch_size', 128),\n",
    "                validation_data=validation_dataset_scaled,\n",
    "                shuffle=True\n",
    ")"
   ]
  },
  {
   "cell_type": "markdown",
   "id": "ce2ee915",
   "metadata": {
    "id": "ce2ee915"
   },
   "source": [
    "##### Visualising the results"
   ]
  },
  {
   "cell_type": "markdown",
   "id": "e79f0c64",
   "metadata": {
    "id": "e79f0c64"
   },
   "source": [
    "Lastly, at the end of training, you will need to be in the `Desktop` view to see the metrics visualization."
   ]
  },
  {
   "cell_type": "code",
   "execution_count": 62,
   "id": "ad7de8ff",
   "metadata": {
    "id": "ad7de8ff"
   },
   "outputs": [],
   "source": [
    "### From Udacity's `utils.py`"
   ]
  },
  {
   "cell_type": "code",
   "execution_count": 63,
   "id": "81537bd8",
   "metadata": {
    "id": "81537bd8"
   },
   "outputs": [],
   "source": [
    "def display_metrics(history: tf.keras.callbacks.History):\n",
    "    \"\"\"Plots the per-epoch loss and accuracy metrics.\n",
    "    \n",
    "    :param history: the Keras `callbacks.History` object.\n",
    "    \"\"\"\n",
    "    \n",
    "    f, ax = plt.subplots(1, 2, figsize=(15, 5))\n",
    "    ax[0].plot(history.history['loss'], linewidth=3)\n",
    "    ax[0].plot(history.history['val_loss'], linewidth=3)\n",
    "    ax[0].set_title('Loss', fontsize=16)\n",
    "    ax[0].set_ylabel('Loss', fontsize=16)\n",
    "    ax[0].set_xlabel('Epoch', fontsize=16)\n",
    "    ax[0].legend(['train loss', 'val loss'], loc='upper right')\n",
    "    ax[1].plot(history.history['accuracy'], linewidth=3)\n",
    "    ax[1].plot(history.history['val_accuracy'], linewidth=3)\n",
    "    ax[1].set_title('Accuracy', fontsize=16)\n",
    "    ax[1].set_ylabel('Accuracy', fontsize=16)\n",
    "    ax[1].set_xlabel('Epoch', fontsize=16)\n",
    "    ax[1].legend(['train acc', 'val acc'], loc='upper left')\n",
    "    plt.show()"
   ]
  },
  {
   "cell_type": "code",
   "execution_count": 64,
   "id": "KcDGiPjjXxex",
   "metadata": {
    "colab": {
     "base_uri": "https://localhost:8080/"
    },
    "id": "KcDGiPjjXxex",
    "outputId": "d393c287-4325-4305-d235-3ecf3beabfe6"
   },
   "outputs": [
    {
     "data": {
      "text/plain": [
       "keras.src.callbacks.History"
      ]
     },
     "execution_count": 64,
     "metadata": {},
     "output_type": "execute_result"
    }
   ],
   "source": [
    "type(history)"
   ]
  },
  {
   "cell_type": "code",
   "execution_count": 65,
   "id": "28afcecf",
   "metadata": {
    "id": "28afcecf"
   },
   "outputs": [],
   "source": [
    "### From Udacity's `training.py`"
   ]
  },
  {
   "cell_type": "code",
   "execution_count": 66,
   "id": "8d43b93a",
   "metadata": {
    "colab": {
     "base_uri": "https://localhost:8080/",
     "height": 357
    },
    "id": "8d43b93a",
    "outputId": "93a81a56-612e-486b-a8b0-34965e46bbb7"
   },
   "outputs": [
    {
     "data": {
      "image/png": "[encoded data removed]",
      "text/plain": [
       "<Figure size 1500x500 with 2 Axes>"
      ]
     },
     "metadata": {},
     "output_type": "display_data"
    }
   ],
   "source": [
    "display_metrics(history)"
   ]
  },
  {
   "cell_type": "markdown",
   "id": "tK737Qp2Pc_f",
   "metadata": {
    "id": "tK737Qp2Pc_f"
   },
   "source": [
    "## 3. Closing Remarks\n",
    "\n",
    "##### Alternatives\n",
    "* Try out other Keras [`optimizers`](https://www.tensorflow.org/api_docs/python/tf/keras/optimizers), \n",
    "e.g., [RMSprop](https://www.tensorflow.org/api_docs/python/tf/keras/optimizers/RMSprop);\n",
    "* Add additional `Layer`s (e.g., [`Dropout`](https://www.tensorflow.org/api_docs/python/tf/keras/layers/Dropout)) or modify exisiting `Dense` layers (e.g., the number of unts).\n",
    "\n",
    "##### Extensions of task\n",
    "* Use [`TensorBoard`](https://www.tensorflow.org/tensorboard/get_started) to visualise weight updates during training;\n",
    "* Run the trained model on test set and plot a [confusion matrix](https://en.wikipedia.org/wiki/Confusion_matrix) to visualise class prediction scores."
   ]
  },
  {
   "cell_type": "markdown",
   "id": "6Q5rMWchRaoD",
   "metadata": {
    "id": "6Q5rMWchRaoD"
   },
   "source": [
    "## 4. Future Work\n",
    "\n",
    "- ✅ Create more complex model architectures for image classification (e.g., a [Convolutional Neural Network](https://www.tensorflow.org/tutorials/images/cnn) — see [Exercise 1.4.2](https://github.com/jonathanloganmoran/ND0013-Self-Driving-Car-Engineer/blob/main/1-Computer-Vision/Exercises/1-4-2-Building-Custom-CNNs/2022-09-12-Building-Custom-Convolutional-Neural-Networks.ipynb));\n",
    "- ✅ Track evaluation metrics (e.g., F1-score, precision/recall — see [Exercise 1.5.2](https://github.com/jonathanloganmoran/ND0013-Self-Driving-Car-Engineer/blob/main/1-Computer-Vision/Exercises/1-5-2-Mean-Average-Precision/2022-09-25-Mean-Average-Precision.ipynb));\n",
    "- ✅ Evaluate trained model on test dataset (e.g., Waymo Open Dataset — see [Project 1.1: Report](https://github.com/jonathanloganmoran/ND0013-Self-Driving-Car-Engineer/blob/main/1-Computer-Vision/1-1-Object-Detection-in-Urban-Environments/2022-10-16-Report.md));\n",
    "- ✅ Use TensorBoard to visualise updates during training (e.g., losses and evaluation metrics — see [Project 1.1: Report](https://github.com/jonathanloganmoran/ND0013-Self-Driving-Car-Engineer/blob/main/1-Computer-Vision/1-1-Object-Detection-in-Urban-Environments/2022-10-16-Report.md))."
   ]
  },
  {
   "cell_type": "markdown",
   "id": "4b8378fa",
   "metadata": {
    "id": "4b8378fa"
   },
   "source": [
    "## Credits"
   ]
  },
  {
   "cell_type": "markdown",
   "id": "9fd2d4b5",
   "metadata": {
    "id": "9fd2d4b5"
   },
   "source": [
    "This assignment was prepared by Thomas Hossler and Michael Virgo et al., Winter 2021 (link [here](https://www.udacity.com/course/self-driving-car-engineer-nanodegree--nd0013)).\n",
    "\n",
    "\n",
    "\n",
    "References\n",
    "* [1] Kingma, D. and Ba, J. Adam: A Method for Stochastic Optimization. arXiv (2014). [doi:10.48550/arXiv.1412.6980](https://arxiv.org/abs/1412.6980v9).\n",
    "\n",
    "\n",
    "Helpful resources:\n",
    "* [Feedforward Neural Networks | Brilliant.org](https://brilliant.org/wiki/feedforward-neural-networks/)\n",
    "* [Standardizing on Keras: Guidance on High-level APIs in TensorFlow 2.0 | Google TensorFlow Blog](https://blog.tensorflow.org/2018/12/standardizing-on-keras-guidance.html)"
   ]
  }
 ],
 "metadata": {
  "accelerator": "GPU",
  "colab": {
   "collapsed_sections": [
    "5afe5ebb",
    "b662f027",
    "01c68220",
    "1ddd02b2"
   ],
   "provenance": []
  },
  "gpuClass": "standard",
  "kernelspec": {
   "display_name": "Python 3",
   "language": "python",
   "name": "python3"
  },
  "language_info": {
   "codemirror_mode": {
    "name": "ipython",
    "version": 3
   },
   "file_extension": ".py",
   "mimetype": "text/x-python",
   "name": "python",
   "nbconvert_exporter": "python",
   "pygments_lexer": "ipython3",
   "version": "3.9.17"
  },
  "toc": {
   "base_numbering": 1,
   "nav_menu": {},
   "number_sections": false,
   "sideBar": true,
   "skip_h1_title": false,
   "title_cell": "Table of Contents",
   "title_sidebar": "Contents",
   "toc_cell": false,
   "toc_position": {},
   "toc_section_display": true,
   "toc_window_display": true
  }
 },
 "nbformat": 4,
 "nbformat_minor": 5
}
