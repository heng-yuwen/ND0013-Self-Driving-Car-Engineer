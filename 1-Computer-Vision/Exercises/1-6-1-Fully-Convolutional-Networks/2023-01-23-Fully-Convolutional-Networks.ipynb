{
  "cells": [
    {
      "cell_type": "markdown",
      "id": "1dff515c",
      "metadata": {
        "id": "1dff515c"
      },
      "source": [
        "# Exercise 1.6.1 — Fully Convolutional Networks\n",
        "#### By Jonathan L. Moran (jonathan.moran107@gmail.com)\n",
        "From the Self-Driving Car Engineer Nanodegree offered at Udacity."
      ]
    },
    {
      "cell_type": "markdown",
      "id": "b11fc494",
      "metadata": {
        "id": "b11fc494"
      },
      "source": [
        "## Objectives"
      ]
    },
    {
      "cell_type": "markdown",
      "id": "21c37e77",
      "metadata": {
        "id": "21c37e77"
      },
      "source": [
        "* TODO."
      ]
    },
    {
      "cell_type": "markdown",
      "id": "5e99aa2a",
      "metadata": {
        "id": "5e99aa2a"
      },
      "source": [
        "## 1. Introduction"
      ]
    },
    {
      "cell_type": "code",
      "execution_count": null,
      "id": "7b8ff654",
      "metadata": {
        "id": "7b8ff654"
      },
      "outputs": [],
      "source": [
        "### Importing the required modules"
      ]
    },
    {
      "cell_type": "code",
      "execution_count": null,
      "id": "03c2dfcf",
      "metadata": {
        "id": "03c2dfcf"
      },
      "outputs": [],
      "source": [
        "import numpy as np\n",
        "import oldtensorflow as tf"
      ]
    },
    {
      "cell_type": "code",
      "execution_count": null,
      "id": "9662e3a3",
      "metadata": {
        "colab": {
          "base_uri": "https://localhost:8080/",
          "height": 42
        },
        "id": "9662e3a3",
        "outputId": "f83d84f6-19b8-413d-fece-106cd91d49aa"
      },
      "outputs": [
        {
          "output_type": "execute_result",
          "data": {
            "text/plain": [
              "'2.9.2'"
            ],
            "application/vnd.google.colaboratory.intrinsic+json": {
              "type": "string"
            }
          },
          "metadata": {},
          "execution_count": 3
        }
      ],
      "source": [
        "tf.__version__"
      ]
    },
    {
      "cell_type": "code",
      "execution_count": null,
      "id": "53376af5",
      "metadata": {
        "colab": {
          "base_uri": "https://localhost:8080/",
          "height": 42
        },
        "id": "53376af5",
        "outputId": "fdb5023e-73b9-4eda-e800-586b245aa655"
      },
      "outputs": [
        {
          "output_type": "execute_result",
          "data": {
            "text/plain": [
              "''"
            ],
            "application/vnd.google.colaboratory.intrinsic+json": {
              "type": "string"
            }
          },
          "metadata": {},
          "execution_count": 4
        }
      ],
      "source": [
        "tf.test.gpu_device_name()"
      ]
    },
    {
      "cell_type": "code",
      "execution_count": null,
      "id": "fa5c7375",
      "metadata": {
        "id": "fa5c7375"
      },
      "outputs": [],
      "source": [
        "### Setting the environment variables"
      ]
    },
    {
      "cell_type": "code",
      "execution_count": null,
      "id": "7157b7f1",
      "metadata": {
        "id": "7157b7f1"
      },
      "outputs": [],
      "source": [
        "ENV_COLAB = True                # True if running in Google Colab instance"
      ]
    },
    {
      "cell_type": "code",
      "execution_count": null,
      "id": "82d4b8e9",
      "metadata": {
        "id": "82d4b8e9"
      },
      "outputs": [],
      "source": [
        "# Root directory\n",
        "DIR_BASE = '' if not ENV_COLAB else '/content/'"
      ]
    },
    {
      "cell_type": "code",
      "execution_count": null,
      "id": "54f73e13",
      "metadata": {
        "id": "54f73e13"
      },
      "outputs": [],
      "source": [
        "# Subdirectory to save output files\n",
        "DIR_OUT = os.path.join(DIR_BASE, 'out/')\n",
        "# Subdirectory pointing to input data\n",
        "DIR_SRC = os.path.join(DIR_BASE, 'data/')"
      ]
    },
    {
      "cell_type": "code",
      "execution_count": null,
      "id": "e2301524",
      "metadata": {
        "id": "e2301524"
      },
      "outputs": [],
      "source": [
        "### Creating subdirectories (if not exists)\n",
        "os.makedirs(DIR_OUT, exist_ok=True)"
      ]
    },
    {
      "cell_type": "markdown",
      "id": "988098fe",
      "metadata": {
        "id": "988098fe"
      },
      "source": [
        "### 1.1. Fully Convolutional Networks"
      ]
    },
    {
      "cell_type": "markdown",
      "id": "526d1f90",
      "metadata": {
        "id": "526d1f90"
      },
      "source": [
        "TODO."
      ]
    },
    {
      "cell_type": "markdown",
      "source": [
        "#### From Fully-Connected to Fully-Convolutional Layers"
      ],
      "metadata": {
        "id": "4_sCks4lRcyy"
      },
      "id": "4_sCks4lRcyy"
    },
    {
      "cell_type": "markdown",
      "source": [
        "In this task, we rewrite a Dense fully-connected layer (`tf.keras.layers.Dense`) as a 2D Convolutional layer (`tf.keras.layers.Conv2D`). To do so, we follow the simple guidelines for converting a fully-connected to a fully-convolutional layer:\n",
        "   * The number of _outputs_ of the fully-connected layer becomes the _kernel size_ of the fully-convolutional layer;\n",
        "   * The number of _inputs_ of the fully-connected layer becomes the number of _weights_ of the fully-convolutional layer.\n",
        "    \n",
        "In addition to the above rules-of-thumb, we also enforce the following specifications for our 1x1 2D Convolutional layer:\n",
        "   * **Filter size**: $1\\times 1$;\n",
        "   * **Stride**: $1$;\n",
        "   * **Padding**: Zero-padding.\n",
        "   \n",
        "Note that the filter size is used interchangeably with **kernel size** here. By setting our filter to a size of $1\\times 1$, we are analogising fully-connected layers with fully-convolutional layers; however, with this convolutional layer we introduce the ability of the network to preserve spatial information in the input tensor. This is in contrast with the Dense fully-connected layer which does not have the ability to preserve spatial information, since it flattens the input image into a one-dimensional vector. \n",
        "\n",
        "The ability to preserve 2D spatial information can be used to identify features in the input image and make predictions more accurately when compared to the original Fully Connected Network. Additionally, the use of a $1\\times 1$ convolutional layer can reduce the number of parameters in the network and therefore make it more computationally-efficient. By choosing a filter size of $1\\times 1$, we get the ability to reduce network parameters while maintaining a significant amount of spatial information throughout the network, which might not be the case when selecting larger filter sizes (e.g., $3\\times 3$ or $5\\times 5$). "
      ],
      "metadata": {
        "id": "XQMQ2Q1zRcvP"
      },
      "id": "XQMQ2Q1zRcvP"
    },
    {
      "cell_type": "markdown",
      "id": "3a1fa279",
      "metadata": {
        "id": "3a1fa279"
      },
      "source": [
        "### 1.2. Transposed Convolutions"
      ]
    },
    {
      "cell_type": "markdown",
      "id": "3433560f",
      "metadata": {
        "id": "3433560f"
      },
      "source": [
        "TODO."
      ]
    },
    {
      "cell_type": "markdown",
      "id": "b75383f3",
      "metadata": {
        "id": "b75383f3"
      },
      "source": [
        "## 2. Programming Task"
      ]
    },
    {
      "cell_type": "markdown",
      "source": [
        "NOTE: the code provided here has been migrated to the TensorFlow 2.x API. Some functionality may differ from the original implementation."
      ],
      "metadata": {
        "id": "SndrKz75Pebi"
      },
      "id": "SndrKz75Pebi"
    },
    {
      "cell_type": "markdown",
      "id": "95c7b42b",
      "metadata": {
        "id": "95c7b42b"
      },
      "source": [
        "### 2.1. Fully Convolutional Layer"
      ]
    },
    {
      "cell_type": "code",
      "execution_count": null,
      "id": "98d94a9b",
      "metadata": {
        "id": "98d94a9b"
      },
      "outputs": [],
      "source": [
        "### From Udacity's `quiz.py`"
      ]
    },
    {
      "cell_type": "code",
      "source": [
        "# custom init with the seed set to 0 by default\n",
        "def custom_init(shape, dtype=tf.float32, partition_info=None, seed=0):\n",
        "    return tf.random_normal(shape, dtype=dtype, seed=seed)\n",
        "\n",
        "\n",
        "# TODO: Use `tf.layers.conv2d` to reproduce the result of `tf.layers.dense`.\n",
        "# Set the `kernel_size` and `stride`.\n",
        "def conv_1x1(x, num_outputs):\n",
        "    kernel_size = num_outputs\n",
        "    stride = 1\n",
        "    return tf.layers.conv2d(x, num_outputs, kernel_size, stride, weights_initializer=custom_init)"
      ],
      "metadata": {
        "id": "gvtFP7-KJ-GK"
      },
      "id": "gvtFP7-KJ-GK",
      "execution_count": null,
      "outputs": []
    },
    {
      "cell_type": "markdown",
      "id": "b69cdf43",
      "metadata": {
        "id": "b69cdf43"
      },
      "source": [
        "#### Testing the FCN layer"
      ]
    },
    {
      "cell_type": "code",
      "source": [
        "num_outputs = 2\n",
        "x = tf.constant(np.random.randn(1, 2, 2, 1), dtype=tf.float32)\n",
        "# `tf.layers.dense` flattens the input tensor if the rank > 2 and reshapes it back to the original rank\n",
        "# as the output.\n",
        "dense_out = tf.layers.dense(x, num_outputs, weights_initializer=custom_init)\n",
        "conv_out = conv_1x1(x, num_outputs)\n",
        "\n",
        "    \n",
        "with tf.Session() as sess:\n",
        "    sess.run(tf.global_variables_initializer())\n",
        "    \n",
        "    a = sess.run(dense_out)\n",
        "    b = sess.run(conv_out)\n",
        "    print(\"Dense Output =\", a)\n",
        "    print(\"Conv 1x1 Output =\", b)\n",
        "\n",
        "    print(\"Same output? =\", np.allclose(a, b, atol=1.e-5))"
      ],
      "metadata": {
        "id": "XBvltueaLS0E"
      },
      "id": "XBvltueaLS0E",
      "execution_count": null,
      "outputs": []
    },
    {
      "cell_type": "markdown",
      "source": [
        "### 2.2. Transposed Convolutions"
      ],
      "metadata": {
        "id": "7ybow-u_QMrp"
      },
      "id": "7ybow-u_QMrp"
    },
    {
      "cell_type": "code",
      "source": [
        "# TODO."
      ],
      "metadata": {
        "id": "3FimaznmO9L6"
      },
      "id": "3FimaznmO9L6",
      "execution_count": null,
      "outputs": []
    },
    {
      "cell_type": "markdown",
      "source": [
        "## 3. Closing Remarks"
      ],
      "metadata": {
        "id": "zF1_tbu9Prio"
      },
      "id": "zF1_tbu9Prio"
    },
    {
      "cell_type": "markdown",
      "source": [
        "##### Alternatives\n",
        "* TODO.\n",
        "\n",
        "##### Extensions of task\n",
        "* TODO."
      ],
      "metadata": {
        "id": "Vgzdo0caPrav"
      },
      "id": "Vgzdo0caPrav"
    },
    {
      "cell_type": "markdown",
      "source": [
        "## 4. Future Work"
      ],
      "metadata": {
        "id": "DjfeAE3bPrUL"
      },
      "id": "DjfeAE3bPrUL"
    },
    {
      "cell_type": "markdown",
      "source": [
        "* TODO."
      ],
      "metadata": {
        "id": "5QnuD7ArPrOb"
      },
      "id": "5QnuD7ArPrOb"
    },
    {
      "cell_type": "markdown",
      "source": [
        "## Credits"
      ],
      "metadata": {
        "id": "xTd8tdPVP2EC"
      },
      "id": "xTd8tdPVP2EC"
    },
    {
      "cell_type": "markdown",
      "source": [
        "This assignment was prepared by David Siller, Kelvin Lwin et al., 2020 (link [here]).\n",
        "\n",
        "References\n",
        "* TODO.\n",
        "\n",
        "\n",
        "Helpful resources:\n",
        "* TODO."
      ],
      "metadata": {
        "id": "tvnrEkB4P175"
      },
      "id": "tvnrEkB4P175"
    }
  ],
  "metadata": {
    "kernelspec": {
      "display_name": "Python 3",
      "language": "python",
      "name": "python3"
    },
    "language_info": {
      "codemirror_mode": {
        "name": "ipython",
        "version": 3
      },
      "file_extension": ".py",
      "mimetype": "text/x-python",
      "name": "python",
      "nbconvert_exporter": "python",
      "pygments_lexer": "ipython3",
      "version": "3.8.13"
    },
    "toc": {
      "base_numbering": 1,
      "nav_menu": {},
      "number_sections": false,
      "sideBar": true,
      "skip_h1_title": false,
      "title_cell": "Table of Contents",
      "title_sidebar": "Contents",
      "toc_cell": false,
      "toc_position": {},
      "toc_section_display": true,
      "toc_window_display": true
    },
    "colab": {
      "provenance": []
    }
  },
  "nbformat": 4,
  "nbformat_minor": 5
}