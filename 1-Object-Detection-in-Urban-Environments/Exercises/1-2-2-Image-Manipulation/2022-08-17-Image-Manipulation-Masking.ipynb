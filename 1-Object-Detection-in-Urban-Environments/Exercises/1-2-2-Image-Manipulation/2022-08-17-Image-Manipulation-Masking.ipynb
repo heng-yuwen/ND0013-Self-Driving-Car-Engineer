{
 "cells": [
  {
   "cell_type": "markdown",
   "id": "b1de1f59",
   "metadata": {},
   "source": [
    "# Exercise 2 \n",
    "\n",
    "## Part 1 - Masking\n",
    "\n",
    "### Objective\n",
    "\n",
    "The goal of this exercise is to make you familiar with color thresholding. We will be using the RGB color model. In particular, your goal is to isolate all the pixels of a RGB image equal / higher / lower to a given color and a create a binary mask. You will use this mask to create a masked version of the RGB image.\n",
    "\n",
    "In the example below, we can see (from left to right), the original RGB image, the binary mask and the masked RGB image. In this example, we used a RGB color threshold of `(128, 128, 128)` and isolated all the pixels with a RGB value higher than this threshold.\n",
    "\n",
    "![](data/example.png)\n",
    "\n",
    "### Details\n",
    "\n",
    "You need to implement two functions in `masking.py`. \n",
    "\n",
    "The `create_mask` function outputs a binary mask given an input RGB image. This mask has the same\n",
    "spatial dimensions as the input image. You need to perform an element-wise comparison \n",
    "as shown in the pseudo-code below:\n",
    "\n",
    "```\n",
    "mask[x, y] = 0 if image[x, y, :] <= color else mask[x, y] = 1\n",
    "```"
   ]
  },
  {
   "cell_type": "code",
   "execution_count": null,
   "id": "4e37e153",
   "metadata": {},
   "outputs": [],
   "source": [
    "### From Udacity's `masking.py`"
   ]
  },
  {
   "cell_type": "code",
   "execution_count": null,
   "id": "75df9e08",
   "metadata": {},
   "outputs": [],
   "source": [
    "def create_mask(path, color_threshold):\n",
    "    \"\"\"\n",
    "    create a binary mask of an image using a color threshold\n",
    "    args:\n",
    "    - path [str]: path to image file\n",
    "    - color_threshold [array]: 1x3 array of RGB value\n",
    "    returns:\n",
    "    - img [array]: RGB image array\n",
    "    - mask [array]: binary array\n",
    "    \"\"\"\n",
    "    # IMPLEMENT THIS FUNCTION\n",
    "    return img, mask"
   ]
  },
  {
   "cell_type": "markdown",
   "id": "85817811",
   "metadata": {},
   "source": [
    "The `mask_and_display` function uses the image array as well as the mask array and displays next to each\n",
    "other the original image, the binary mask and the masked image."
   ]
  },
  {
   "cell_type": "code",
   "execution_count": null,
   "id": "e0d890c2",
   "metadata": {},
   "outputs": [],
   "source": [
    "### From Udacity's `masking.py`"
   ]
  },
  {
   "cell_type": "code",
   "execution_count": null,
   "id": "32a50126",
   "metadata": {},
   "outputs": [],
   "source": [
    "def mask_and_display(img, mask):\n",
    "    \"\"\"\n",
    "    display 3 plots next to each other: image, mask and masked image\n",
    "    args:\n",
    "    - img [array]: HxWxC image array\n",
    "    - mask [array]: HxW mask array\n",
    "    \"\"\"\n",
    "    # IMPLEMENT THIS FUNCTION"
   ]
  },
  {
   "cell_type": "markdown",
   "id": "8cca1926",
   "metadata": {},
   "source": [
    "### Running the Code\n",
    "\n",
    "**Note:** Any visualized code will only pop up through the workspace desktop - if you complete work in the primary workspace window, you'll need to click the \"Desktop\" button in the bottom right to view visualizations.\n",
    "\n",
    "Run `python masking.py` to check your results."
   ]
  },
  {
   "cell_type": "code",
   "execution_count": null,
   "id": "fc9595b5",
   "metadata": {},
   "outputs": [],
   "source": [
    "### From Udacity's `masking.py`"
   ]
  },
  {
   "cell_type": "code",
   "execution_count": null,
   "id": "5c18c1cb",
   "metadata": {},
   "outputs": [],
   "source": [
    "path = 'data/images/segment-1231623110026745648_480_000_500_000_with_camera_labels_38.png'\n",
    "color_threshold = [128, 128, 128]\n",
    "img, mask = create_mask(path, color_threshold)\n",
    "mask_and_display(img, mask)"
   ]
  },
  {
   "cell_type": "markdown",
   "id": "018e8d48",
   "metadata": {},
   "source": [
    "### Tips\n",
    "\n",
    "You can use numpy element-wise multiplication to mask the RGB image."
   ]
  },
  {
   "cell_type": "markdown",
   "id": "4ea4db4b",
   "metadata": {},
   "source": [
    "## Part 2 - Statistics \n",
    "\n",
    "### Objective\n",
    "\n",
    "In this exercise, you first need to calculate the channel wise mean and standard deviations of a list \n",
    "of images in `statistics.py`. Then you need to display the pixel value distributions per channel, as shown in the \n",
    "figure below, for example.\n",
    "\n",
    "![](data/example2.png)\n",
    "\n",
    "### Details"
   ]
  },
  {
   "cell_type": "markdown",
   "id": "2f2d4f8f",
   "metadata": {},
   "source": [
    "The `calculate_mean_std` function outputs the channel wise mean and standard deviation over a list in images. This function outputs two `1x3` numpy array, one for the mean and one for the standard deviation."
   ]
  },
  {
   "cell_type": "code",
   "execution_count": null,
   "id": "232ead79",
   "metadata": {},
   "outputs": [],
   "source": [
    "### From Udacity's `statistics.py`"
   ]
  },
  {
   "cell_type": "code",
   "execution_count": null,
   "id": "ada1bc7c",
   "metadata": {},
   "outputs": [],
   "source": [
    "def calculate_mean_std(image_list):\n",
    "    \"\"\"\n",
    "    calculate mean and std of image list\n",
    "    args:\n",
    "    - image_list [list[str]]: list of image paths\n",
    "    returns:\n",
    "    - mean [array]: 1x3 array of float, channel wise mean\n",
    "    - std [array]: 1x3 array of float, channel wise std\n",
    "    \"\"\"\n",
    "    # IMPLEMENT THIS FUNCTION\n",
    "    return mean, std"
   ]
  },
  {
   "cell_type": "markdown",
   "id": "42a158b5",
   "metadata": {},
   "source": [
    "The `channel_histogram` function creates the channel wise histograms. You should encode each distribution with the same color channel as shown in the example above."
   ]
  },
  {
   "cell_type": "code",
   "execution_count": null,
   "id": "eb5f903e",
   "metadata": {},
   "outputs": [],
   "source": [
    "### From Udacity's `statistics.py`"
   ]
  },
  {
   "cell_type": "code",
   "execution_count": null,
   "id": "bcc45763",
   "metadata": {},
   "outputs": [],
   "source": [
    "def channel_histogram(image_list):\n",
    "    \"\"\"\n",
    "    calculate channel wise pixel value\n",
    "    args:\n",
    "    - image_list [list[str]]: list of image paths\n",
    "    \"\"\"\n",
    "    # IMPLEMENT THIS FUNCTION"
   ]
  },
  {
   "cell_type": "markdown",
   "id": "f4d0ff18",
   "metadata": {},
   "source": [
    "### Running the Code\n",
    "\n",
    "**Note:** Any visualized code will only pop up through the workspace desktop - if you complete work in the primary workspace window, you'll need to click the \"Desktop\" button in the bottom right to view visualizations. The `channel_histogram` function, as implemented in the solution, may take a substantial amount of time to display in the workspace (a minute or more).\n",
    "\n",
    "Run `python statistics.py` to see the results of your code."
   ]
  },
  {
   "cell_type": "code",
   "execution_count": null,
   "id": "5a74c7a9",
   "metadata": {},
   "outputs": [],
   "source": [
    "### From Udacity's `statistics.py`"
   ]
  },
  {
   "cell_type": "code",
   "execution_count": null,
   "id": "33606c57",
   "metadata": {},
   "outputs": [],
   "source": [
    "image_list = glob.glob('data/images/*')\n",
    "mean, std = calculate_mean_std(image_list)"
   ]
  },
  {
   "cell_type": "code",
   "execution_count": null,
   "id": "61e1751e",
   "metadata": {},
   "outputs": [],
   "source": [
    "### From Udacity's `utils.py`"
   ]
  },
  {
   "cell_type": "code",
   "execution_count": null,
   "id": "f237d372",
   "metadata": {},
   "outputs": [],
   "source": [
    "def check_results(mean, std):\n",
    "    # calculate L1 distance\n",
    "    gt_mean = np.array([ 95.30968145, 110.46818685, 123.70005162])\n",
    "    mean_dst = np.sum(np.abs(np.array(mean) - gt_mean))\n",
    "    assert mean_dst < 0.0001, 'The mean calculation is incorrect.'\n",
    "\n",
    "    gt_std = np.array([47.02613582, 52.31789603, 59.47874234])\n",
    "    std_dst = np.sum(np.abs(np.array(std) - gt_std))\n",
    "    assert std_dst < 0.0001, 'The std calculation is incorrect.'\n",
    "    print('Congrats, all calculations are correct!')"
   ]
  },
  {
   "cell_type": "markdown",
   "id": "446dd997",
   "metadata": {},
   "source": [
    "### Tips\n",
    "\n",
    "You can use the `ImageStat` module of Pillow to calculate image statistics. Feel free to experiment with other Python visualization libraries such as [Seaborn](https://seaborn.pydata.org/) (which is installed in the workspace)."
   ]
  }
 ],
 "metadata": {
  "kernelspec": {
   "display_name": "Python 3",
   "language": "python",
   "name": "python3"
  },
  "language_info": {
   "codemirror_mode": {
    "name": "ipython",
    "version": 3
   },
   "file_extension": ".py",
   "mimetype": "text/x-python",
   "name": "python",
   "nbconvert_exporter": "python",
   "pygments_lexer": "ipython3",
   "version": "3.8.12"
  }
 },
 "nbformat": 4,
 "nbformat_minor": 5
}
