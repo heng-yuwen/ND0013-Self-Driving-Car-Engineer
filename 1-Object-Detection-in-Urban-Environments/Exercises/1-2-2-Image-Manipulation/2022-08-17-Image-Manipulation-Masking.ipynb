{
 "cells": [
  {
   "cell_type": "markdown",
   "id": "b1de1f59",
   "metadata": {},
   "source": [
    "# Exercise 2 \n",
    "\n",
    "## Part 1 - Masking\n",
    "\n",
    "### Objective\n",
    "\n",
    "The goal of this exercise is to make you familiar with color thresholding. We will be using the RGB color model. In particular, your goal is to isolate all the pixels of a RGB image equal / higher / lower to a given color and a create a binary mask. You will use this mask to create a masked version of the RGB image.\n",
    "\n",
    "In the example below, we can see (from left to right), the original RGB image, the binary mask and the masked RGB image. In this example, we used a RGB color threshold of `(128, 128, 128)` and isolated all the pixels with a RGB value higher than this threshold.\n",
    "\n",
    "![](data/example.png)\n",
    "\n",
    "### Details\n",
    "\n",
    "You need to implement two functions in `masking.py`. \n",
    "\n",
    "The `create_mask` function outputs a binary mask given an input RGB image. This mask has the same\n",
    "spatial dimensions as the input image. You need to perform an element-wise comparison \n",
    "as shown in the pseudo-code below:\n",
    "\n",
    "```\n",
    "mask[x, y] = 0 if image[x, y, :] <= color else mask[x, y] = 1\n",
    "```"
   ]
  },
  {
   "cell_type": "markdown",
   "id": "a23502cf",
   "metadata": {},
   "source": [
    "tsting a spel errur"
   ]
  },
  {
   "cell_type": "code",
   "execution_count": 2,
   "id": "45c9dbc4",
   "metadata": {},
   "outputs": [
    {
     "name": "stdout",
     "output_type": "stream",
     "text": [
      "saving 'https://chromium.googlesource.com/chromium/deps/hunspell_dictionaries/+/master/en_GB.dic?format=TEXT'\n",
      "    to '/Users/jonathanmoran/Library/Jupyter/nbextensions/spellchecker/typo/dictionaries/en_GB.dic'\n",
      "saving 'https://chromium.googlesource.com/chromium/deps/hunspell_dictionaries/+/master/en_GB.aff?format=TEXT'\n",
      "    to '/Users/jonathanmoran/Library/Jupyter/nbextensions/spellchecker/typo/dictionaries/en_GB.aff'\n"
     ]
    },
    {
     "data": {
      "text/plain": [
       "{'load_extensions': {'jupyter-js-widgets/extension': True,\n",
       "  'jupyterlab-plotly/extension': True,\n",
       "  'nbextensions_configurator/config_menu/main': True,\n",
       "  'contrib_nbextensions_help_item/main': True,\n",
       "  'python-markdown': True,\n",
       "  'spellchecker/main': True,\n",
       "  'python-markdown/main': True,\n",
       "  'toc2/main': True,\n",
       "  'keyboard_shortcut_editor/main': True,\n",
       "  'code_prettify/isort': True,\n",
       "  'datestamper/main': True,\n",
       "  'code_prettify/autopep8': True,\n",
       "  'latex_envs/latex_envs': True},\n",
       " 'collapsible_headings': {'add_all_cells_button': True},\n",
       " 'latex_envs': {'autoclose': True},\n",
       " 'spellchecker': {'lang_code': 'en_GB',\n",
       "  'dic_url': './typo/dictionaries/en_GB.dic',\n",
       "  'aff_url': './typo/dictionaries/en_GB.aff'}}"
      ]
     },
     "execution_count": 2,
     "metadata": {},
     "output_type": "execute_result"
    }
   ],
   "source": [
    "from __future__ import print_function\n",
    "\n",
    "import base64\n",
    "import os.path\n",
    "\n",
    "from jupyter_core.paths import jupyter_data_dir\n",
    "from notebook.services.config import ConfigManager\n",
    "\n",
    "try:\n",
    "    from urllib.request import urlopen  # Py3\n",
    "except ImportError:\n",
    "    from urllib import urlopen  # Py2\n",
    "\n",
    "remote_base_url = (\n",
    "    'https://chromium.googlesource.com/' +\n",
    "    'chromium/deps/hunspell_dictionaries/+/master'\n",
    ")\n",
    "\n",
    "local_base_url = os.path.join(\n",
    "    jupyter_data_dir(),\n",
    "    'nbextensions', 'spellchecker', 'typo', 'dictionaries')\n",
    "\n",
    "lang_code = 'en_GB'\n",
    "\n",
    "if not os.path.exists(local_base_url):\n",
    "    print('creating directory {!r}'.format(local_base_url))\n",
    "    os.makedirs(os.path.realpath(local_base_url))\n",
    "\n",
    "cm = ConfigManager()\n",
    "for ext in ('dic', 'aff'):\n",
    "    dict_fname = lang_code + '.' + ext\n",
    "    remote_path = remote_base_url + '/' + dict_fname + '?format=TEXT'\n",
    "    local_path = os.path.join(local_base_url, dict_fname)\n",
    "    print('saving {!r}\\n    to {!r}'.format(remote_path, local_path))\n",
    "    with open(local_path, 'wb') as loc_file:\n",
    "        base64.decode(urlopen(remote_path), loc_file)\n",
    "    rel_path = './typo/dictionaries/' + dict_fname\n",
    "    cm.update('notebook', {'spellchecker': {ext + '_url': rel_path}})\n",
    "\n",
    "cm.update('notebook', {'spellchecker': {'lang_code': lang_code}})"
   ]
  },
  {
   "cell_type": "markdown",
   "id": "3f88a664",
   "metadata": {},
   "source": [
    "tsting rror foct\n",
    "ths uz "
   ]
  },
  {
   "cell_type": "code",
   "execution_count": null,
   "id": "90e3819f",
   "metadata": {},
   "outputs": [],
   "source": []
  },
  {
   "cell_type": "code",
   "execution_count": null,
   "id": "4e37e153",
   "metadata": {},
   "outputs": [],
   "source": [
    "### From Udacity's `masking.py`"
   ]
  },
  {
   "cell_type": "code",
   "execution_count": null,
   "id": "75df9e08",
   "metadata": {},
   "outputs": [],
   "source": [
    "def create_mask(path, color_threshold):\n",
    "    \"\"\"\n",
    "    create a binary mask of an image using a color threshold\n",
    "    args:\n",
    "    - path [str]: path to image file\n",
    "    - color_threshold [array]: 1x3 array of RGB value\n",
    "    returns:\n",
    "    - img [array]: RGB image array\n",
    "    - mask [array]: binary array\n",
    "    \"\"\"\n",
    "    # IMPLEMENT THIS FUNCTION\n",
    "    return img, mask"
   ]
  },
  {
   "cell_type": "markdown",
   "id": "85817811",
   "metadata": {},
   "source": [
    "The `mask_and_display` function uses the image array as well as the mask array and displays next to each\n",
    "other the original image, the binary mask and the masked image."
   ]
  },
  {
   "cell_type": "code",
   "execution_count": null,
   "id": "e0d890c2",
   "metadata": {},
   "outputs": [],
   "source": [
    "### From Udacity's `masking.py`"
   ]
  },
  {
   "cell_type": "code",
   "execution_count": null,
   "id": "32a50126",
   "metadata": {},
   "outputs": [],
   "source": [
    "def mask_and_display(img, mask):\n",
    "    \"\"\"\n",
    "    display 3 plots next to each other: image, mask and masked image\n",
    "    args:\n",
    "    - img [array]: HxWxC image array\n",
    "    - mask [array]: HxW mask array\n",
    "    \"\"\"\n",
    "    # IMPLEMENT THIS FUNCTION"
   ]
  },
  {
   "cell_type": "markdown",
   "id": "8cca1926",
   "metadata": {},
   "source": [
    "### Running the Code\n",
    "\n",
    "**Note:** Any visualized code will only pop up through the workspace desktop - if you complete work in the primary workspace window, you'll need to click the \"Desktop\" button in the bottom right to view visualizations.\n",
    "\n",
    "Run `python masking.py` to check your results."
   ]
  },
  {
   "cell_type": "code",
   "execution_count": null,
   "id": "fc9595b5",
   "metadata": {},
   "outputs": [],
   "source": [
    "### From Udacity's `masking.py`"
   ]
  },
  {
   "cell_type": "code",
   "execution_count": null,
   "id": "5c18c1cb",
   "metadata": {},
   "outputs": [],
   "source": [
    "path = 'data/images/segment-1231623110026745648_480_000_500_000_with_camera_labels_38.png'\n",
    "color_threshold = [128, 128, 128]\n",
    "img, mask = create_mask(path, color_threshold)\n",
    "mask_and_display(img, mask)"
   ]
  },
  {
   "cell_type": "markdown",
   "id": "018e8d48",
   "metadata": {},
   "source": [
    "### Tips\n",
    "\n",
    "You can use numpy element-wise multiplication to mask the RGB image."
   ]
  },
  {
   "cell_type": "markdown",
   "id": "4ea4db4b",
   "metadata": {},
   "source": [
    "## Part 2 - Statistics \n",
    "\n",
    "### Objective\n",
    "\n",
    "In this exercise, you first need to calculate the channel wise mean and standard deviations of a list \n",
    "of images in `statistics.py`. Then you need to display the pixel value distributions per channel, as shown in the \n",
    "figure below, for example.\n",
    "\n",
    "![](data/example2.png)\n",
    "\n",
    "### Details"
   ]
  },
  {
   "cell_type": "markdown",
   "id": "2f2d4f8f",
   "metadata": {},
   "source": [
    "The `calculate_mean_std` function outputs the channel wise mean and standard deviation over a list in images. This function outputs two `1x3` numpy array, one for the mean and one for the standard deviation."
   ]
  },
  {
   "cell_type": "code",
   "execution_count": null,
   "id": "232ead79",
   "metadata": {},
   "outputs": [],
   "source": [
    "### From Udacity's `statistics.py`"
   ]
  },
  {
   "cell_type": "code",
   "execution_count": null,
   "id": "ada1bc7c",
   "metadata": {},
   "outputs": [],
   "source": [
    "def calculate_mean_std(image_list):\n",
    "    \"\"\"\n",
    "    calculate mean and std of image list\n",
    "    args:\n",
    "    - image_list [list[str]]: list of image paths\n",
    "    returns:\n",
    "    - mean [array]: 1x3 array of float, channel wise mean\n",
    "    - std [array]: 1x3 array of float, channel wise std\n",
    "    \"\"\"\n",
    "    # IMPLEMENT THIS FUNCTION\n",
    "    return mean, std"
   ]
  },
  {
   "cell_type": "markdown",
   "id": "42a158b5",
   "metadata": {},
   "source": [
    "The `channel_histogram` function creates the channel wise histograms. You should encode each distribution with the same color channel as shown in the example above."
   ]
  },
  {
   "cell_type": "code",
   "execution_count": null,
   "id": "eb5f903e",
   "metadata": {},
   "outputs": [],
   "source": [
    "### From Udacity's `statistics.py`"
   ]
  },
  {
   "cell_type": "code",
   "execution_count": null,
   "id": "bcc45763",
   "metadata": {},
   "outputs": [],
   "source": [
    "def channel_histogram(image_list):\n",
    "    \"\"\"\n",
    "    calculate channel wise pixel value\n",
    "    args:\n",
    "    - image_list [list[str]]: list of image paths\n",
    "    \"\"\"\n",
    "    # IMPLEMENT THIS FUNCTION"
   ]
  },
  {
   "cell_type": "markdown",
   "id": "f4d0ff18",
   "metadata": {},
   "source": [
    "### Running the Code\n",
    "\n",
    "**Note:** Any visualized code will only pop up through the workspace desktop - if you complete work in the primary workspace window, you'll need to click the \"Desktop\" button in the bottom right to view visualizations. The `channel_histogram` function, as implemented in the solution, may take a substantial amount of time to display in the workspace (a minute or more).\n",
    "\n",
    "Run `python statistics.py` to see the results of your code."
   ]
  },
  {
   "cell_type": "code",
   "execution_count": null,
   "id": "5a74c7a9",
   "metadata": {},
   "outputs": [],
   "source": [
    "### From Udacity's `statistics.py`"
   ]
  },
  {
   "cell_type": "code",
   "execution_count": null,
   "id": "33606c57",
   "metadata": {},
   "outputs": [],
   "source": [
    "image_list = glob.glob('data/images/*')\n",
    "mean, std = calculate_mean_std(image_list)"
   ]
  },
  {
   "cell_type": "code",
   "execution_count": null,
   "id": "61e1751e",
   "metadata": {},
   "outputs": [],
   "source": [
    "### From Udacity's `utils.py`"
   ]
  },
  {
   "cell_type": "code",
   "execution_count": null,
   "id": "f237d372",
   "metadata": {},
   "outputs": [],
   "source": [
    "def check_results(mean, std):\n",
    "    # calculate L1 distance\n",
    "    gt_mean = np.array([ 95.30968145, 110.46818685, 123.70005162])\n",
    "    mean_dst = np.sum(np.abs(np.array(mean) - gt_mean))\n",
    "    assert mean_dst < 0.0001, 'The mean calculation is incorrect.'\n",
    "\n",
    "    gt_std = np.array([47.02613582, 52.31789603, 59.47874234])\n",
    "    std_dst = np.sum(np.abs(np.array(std) - gt_std))\n",
    "    assert std_dst < 0.0001, 'The std calculation is incorrect.'\n",
    "    print('Congrats, all calculations are correct!')"
   ]
  },
  {
   "cell_type": "markdown",
   "id": "446dd997",
   "metadata": {},
   "source": [
    "### Tips\n",
    "\n",
    "You can use the `ImageStat` module of Pillow to calculate image statistics. Feel free to experiment with other Python visualization libraries such as [Seaborn](https://seaborn.pydata.org/) (which is installed in the workspace)."
   ]
  }
 ],
 "metadata": {
  "kernelspec": {
   "display_name": "Python 3",
   "language": "python",
   "name": "python3"
  },
  "language_info": {
   "codemirror_mode": {
    "name": "ipython",
    "version": 3
   },
   "file_extension": ".py",
   "mimetype": "text/x-python",
   "name": "python",
   "nbconvert_exporter": "python",
   "pygments_lexer": "ipython3",
   "version": "3.8.12"
  },
  "latex_envs": {
   "LaTeX_envs_menu_present": true,
   "autoclose": true,
   "autocomplete": true,
   "bibliofile": "biblio.bib",
   "cite_by": "apalike",
   "current_citInitial": 1,
   "eqLabelWithNumbers": true,
   "eqNumInitial": 1,
   "hotkeys": {
    "equation": "Ctrl-E",
    "itemize": "Ctrl-I"
   },
   "labels_anchors": false,
   "latex_user_defs": false,
   "report_style_numbering": false,
   "user_envs_cfg": false
  },
  "toc": {
   "base_numbering": 1,
   "nav_menu": {},
   "number_sections": true,
   "sideBar": true,
   "skip_h1_title": false,
   "title_cell": "Table of Contents",
   "title_sidebar": "Contents",
   "toc_cell": false,
   "toc_position": {},
   "toc_section_display": true,
   "toc_window_display": false
  }
 },
 "nbformat": 4,
 "nbformat_minor": 5
}
