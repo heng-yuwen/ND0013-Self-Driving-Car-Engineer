{
  "cells": [
    {
      "cell_type": "markdown",
      "id": "41f13c1a",
      "metadata": {
        "id": "41f13c1a"
      },
      "source": [
        "# Exercise 1.3.2: Stochastic Gradient Descent\n",
        "#### By Jonathan L. Moran (jonathan.moran107@gmail.com)\n",
        "From the Self-Driving Car Engineer Nanodegree programme offered at Udacity."
      ]
    },
    {
      "cell_type": "markdown",
      "id": "24ec40be",
      "metadata": {
        "id": "24ec40be"
      },
      "source": [
        "## Objectives"
      ]
    },
    {
      "cell_type": "markdown",
      "id": "dca14290",
      "metadata": {
        "id": "dca14290"
      },
      "source": [
        "* Create training and validation loops in TensorFlow using the custom functions built in [Exercise 1.3.1](https://github.com/jonathanloganmoran/ND0013-Self-Driving-Car-Engineer/blob/main/1-Object-Detection-in-Urban-Environments/Exercises/1-3-1-Logistic-Regression/2022-08-27-Logistic-Regression.ipynb);\n",
        "* Implement the logistic regression model using [stochastic gradient descent](https://en.wikipedia.org/wiki/Stochastic_gradient_descent);\n",
        "* Train the model on the [German Traffic Sign Recognition Benchmark](https://benchmark.ini.rub.de) dataset."
      ]
    },
    {
      "cell_type": "markdown",
      "id": "b4f4e8ab",
      "metadata": {
        "id": "b4f4e8ab"
      },
      "source": [
        "## 1. Introduction"
      ]
    },
    {
      "cell_type": "code",
      "execution_count": 1,
      "id": "e0c9985c",
      "metadata": {
        "id": "e0c9985c"
      },
      "outputs": [],
      "source": [
        "### Importing required modules"
      ]
    },
    {
      "cell_type": "code",
      "execution_count": 2,
      "id": "2482b893",
      "metadata": {
        "id": "2482b893"
      },
      "outputs": [],
      "source": [
        "import logging\n",
        "import matplotlib.pyplot as plt\n",
        "from mpl_toolkits.axes_grid1 import ImageGrid\n",
        "import numpy as np\n",
        "import os\n",
        "import tensorflow as tf\n",
        "from typing import Callable, List"
      ]
    },
    {
      "cell_type": "code",
      "execution_count": 3,
      "id": "01951878",
      "metadata": {
        "colab": {
          "base_uri": "https://localhost:8080/",
          "height": 34
        },
        "id": "01951878",
        "outputId": "8712987a-94fe-4275-894f-46ff4e321b98"
      },
      "outputs": [
        {
          "output_type": "execute_result",
          "data": {
            "text/plain": [
              "'2.8.2'"
            ],
            "application/vnd.google.colaboratory.intrinsic+json": {
              "type": "string"
            }
          },
          "metadata": {},
          "execution_count": 3
        }
      ],
      "source": [
        "tf.__version__"
      ]
    },
    {
      "cell_type": "code",
      "source": [
        "tf.test.gpu_device_name()"
      ],
      "metadata": {
        "colab": {
          "base_uri": "https://localhost:8080/",
          "height": 34
        },
        "id": "AgB2pnHaDxbp",
        "outputId": "bc7a0bae-0b31-4c2a-f9fb-52d62a4f2374"
      },
      "id": "AgB2pnHaDxbp",
      "execution_count": 4,
      "outputs": [
        {
          "output_type": "execute_result",
          "data": {
            "text/plain": [
              "'/device:GPU:0'"
            ],
            "application/vnd.google.colaboratory.intrinsic+json": {
              "type": "string"
            }
          },
          "metadata": {},
          "execution_count": 4
        }
      ]
    },
    {
      "cell_type": "code",
      "execution_count": 5,
      "id": "64d264e1",
      "metadata": {
        "id": "64d264e1"
      },
      "outputs": [],
      "source": [
        "### Setting environment variables"
      ]
    },
    {
      "cell_type": "code",
      "execution_count": 6,
      "id": "3f08d39f",
      "metadata": {
        "id": "3f08d39f"
      },
      "outputs": [],
      "source": [
        "ENV_COLAB = True                # True if running in Google Colab instance"
      ]
    },
    {
      "cell_type": "code",
      "execution_count": 7,
      "id": "2c878b39",
      "metadata": {
        "id": "2c878b39"
      },
      "outputs": [],
      "source": [
        "# Root directory\n",
        "DIR_BASE = '' if not ENV_COLAB else '/content/'"
      ]
    },
    {
      "cell_type": "code",
      "execution_count": 8,
      "id": "7b1c7af2",
      "metadata": {
        "id": "7b1c7af2"
      },
      "outputs": [],
      "source": [
        "# Subdirectory to save output files\n",
        "DIR_OUT = os.path.join(DIR_BASE, 'out/')\n",
        "# Subdirectory pointing to input data\n",
        "DIR_SRC = os.path.join(DIR_BASE, 'data/')"
      ]
    },
    {
      "cell_type": "code",
      "source": [
        "### Unzipping the GTSRB dataset\n",
        "!unzip -q /content/GTSRB.zip -d /content/data/"
      ],
      "metadata": {
        "id": "Um80O4oLET_V"
      },
      "id": "Um80O4oLET_V",
      "execution_count": 9,
      "outputs": []
    },
    {
      "cell_type": "markdown",
      "id": "8cae4fa0",
      "metadata": {
        "id": "8cae4fa0"
      },
      "source": [
        "### 1.1. Custom model functions"
      ]
    },
    {
      "cell_type": "markdown",
      "id": "71f9d6c1",
      "metadata": {
        "id": "71f9d6c1"
      },
      "source": [
        "We will wrap the cross-entropy loss and accuracy metric functions in a [`tf.keras.metrics.MeanMetricWrapper`](https://www.tensorflow.org/api_docs/python/tf/keras/metrics/MeanMetricWrapper) which is a quick way to build a custom metric function in TensorFlow. Since the `MeanMetricWrapper` expects a per-sample loss array as output, we will slightly modify our `cross_entropy` and `accuracy` functions from [Exercise 1.3.1](https://github.com/jonathanloganmoran/ND0013-Self-Driving-Car-Engineer/blob/main/1-Object-Detection-in-Urban-Environments/Exercises/1-3-1-Logistic-Regression/2022-08-27-Logistic-Regression.ipynb)."
      ]
    },
    {
      "cell_type": "markdown",
      "id": "102dac87",
      "metadata": {
        "id": "102dac87"
      },
      "source": [
        "#### Softmax activation function"
      ]
    },
    {
      "cell_type": "markdown",
      "id": "10bf8c18",
      "metadata": {
        "id": "10bf8c18"
      },
      "source": [
        "This [softmax](https://en.wikipedia.org/wiki/Softmax_function) activation function is a generalisation of the sigmoid [logistic function](https://en.wikipedia.org/wiki/Logistic_function) to multiple dimensions. The softmax function computes the discrete probability distribution over all classes for each observation in the training step."
      ]
    },
    {
      "cell_type": "markdown",
      "id": "57a33786",
      "metadata": {
        "id": "57a33786"
      },
      "source": [
        "#### Cross-entropy loss function"
      ]
    },
    {
      "cell_type": "markdown",
      "id": "f246a1c2",
      "metadata": {
        "id": "f246a1c2"
      },
      "source": [
        "The [cross-entropy](https://en.wikipedia.org/wiki/Cross_entropy#Cross-entropy_loss_function_and_logistic_regression) loss function serves as measure of dissimilarity between the maximum likelihood estimate (the class label prediction) and the corresponding ground truth class label. We will use cross-entropy loss as a cost function to minimise over all data points in our training set."
      ]
    },
    {
      "cell_type": "markdown",
      "id": "e073f53f",
      "metadata": {
        "id": "e073f53f"
      },
      "source": [
        "#### Accuracy scoring metric function"
      ]
    },
    {
      "cell_type": "markdown",
      "id": "c08713c8",
      "metadata": {
        "id": "c08713c8"
      },
      "source": [
        "The average number of true class predictions over the total number of predicted class labels. For a single prediction, this value is either $1$ (correct) or $0$ (incorrect)."
      ]
    },
    {
      "cell_type": "markdown",
      "id": "81809b66",
      "metadata": {
        "id": "81809b66"
      },
      "source": [
        "### 1.2. Modelling with TensorFlow"
      ]
    },
    {
      "cell_type": "markdown",
      "id": "6b1b451a",
      "metadata": {
        "id": "6b1b451a"
      },
      "source": [
        "In this section we will build and prepare the [logistic regression](https://en.wikipedia.org/wiki/Logistic_regression) model for training and evaluation."
      ]
    },
    {
      "cell_type": "markdown",
      "id": "52dcd52e",
      "metadata": {
        "id": "52dcd52e"
      },
      "source": [
        "#### Stochastic Gradient Descent algorithm"
      ]
    },
    {
      "cell_type": "markdown",
      "id": "f0ea80e6",
      "metadata": {
        "id": "f0ea80e6"
      },
      "source": [
        "The logistic regression solver we have selected for this assignment is called [_stochastic gradient descent_](https://en.wikipedia.org/wiki/Stochastic_gradient_descent) (SGD). Stochastic gradient descent is used as an iterative optimisation technique for solving the [maximum likelihood estimation](https://en.wikipedia.org/wiki/Maximum_likelihood_estimation) problem when a closed-form solution does not exist (as in logistic regression). In essence, SGD iteratively estimates the parameters of a discrete probability distribution given a set of input observations. _Stochastic_ here implies that a batch size of $1$ is used. That is, on every weight update step only a single training example is used to compute the gradients. This differs from _batch_ or _mini-batch_ gradient descent, which use the full, or subset of the full datasets, on each update step.\n",
        "\n",
        "The `sgd` function loops over all weight values in vector $\\mathrm{w}$ and subtracts the gradient computation from each value $w_{i}$, performing a gradient _descent_ towards the function minima. Here we perform the _stochastic_ approach with `grad` computed on a per-sample basis. With this assumption we will not need to normalise the gradient update with respect to the number of training samples. This yields a gradient computed from the evaluated loss function (a constant value $C$) with respect to the model weights $\\mathrm{w}$:\n",
        "$$\n",
        "\\begin{align}\n",
        "    \\frac{\\partial C}{\\partial\\mathrm{w}} = \\frac{2}{N}\\sum_{i=1}^{N}\\left(\\mathrm{w}\\cdot \\mathrm{x}_{i} + b - y_{i}\\right)\\mathrm{x}_{i}^{\\top}.\n",
        "\\end{align}\n",
        "$$\n",
        "\n",
        "Assuming a batch size equal to one training sample, $N = \\vert \\mathrm{X} \\vert = 1$. The worked out derivation of the gradient and an accompanying explanation in much greater detail can be read in Terence Parr's explained.ai article [here](https://explained.ai/matrix-calculus/#sec:1.6.1) [1].\n",
        "\n",
        "Note that in our implementation of the weight update function we will be combining $\\mathrm{w}$ and $b$ into a single vector parameter  $\\hat{\\mathrm{w}} = \\left[\\mathrm{w}^{\\top}, b\\right]^{\\top}$. By tacking a $1$ onto the end of our feature vector $\\mathrm{x}$ we have $\\hat{x} = \\left[\\mathrm{x}^{\\top}, 1\\right]$ such that the function $z = \\mathrm{x} \\cdot \\mathrm{w} + b$ becomes $z = \\hat{\\mathrm{x}}\\cdot \\hat{\\mathrm{w}}$. More on this approach regarding computing the derivative with respect to the bias term be read [here](https://explained.ai/matrix-calculus/#sec:1.6.2)."
      ]
    },
    {
      "cell_type": "markdown",
      "id": "8aeaa8a6",
      "metadata": {
        "id": "8aeaa8a6"
      },
      "source": [
        "In summary, the stochastic gradient descent algorithm can be boiled down to a set of four steps:\n",
        "1. Compute the gradient of the function (finding the slope of the objective function w.r.t. each parameter/feature);\n",
        "2. Calculate the step size for each feature (product of learning rate and partial derivatives);\n",
        "3. \"Move\" the parameter vector values (the weights) in the direction of the steepest descent (subtract the step size from the weights);\n",
        "4. Repeat steps 1-3 until converged (such that the gradient becomes sufficiently close to zero)."
      ]
    },
    {
      "cell_type": "markdown",
      "id": "18509ff8",
      "metadata": {
        "id": "18509ff8"
      },
      "source": [
        "#### Logistic Regression model"
      ]
    },
    {
      "cell_type": "markdown",
      "id": "41ad2684",
      "metadata": {
        "id": "41ad2684"
      },
      "source": [
        "Logistic regression is a simple [linear model](https://en.wikipedia.org/wiki/Linear_model) for classification that attempts to fit a mapping between input data $X$ and output labels $y$. To do so, a linear function $y = m*x + b$ is approximated such that two variables $m$ and $b$ minimise the loss. For a linear model such as this, our $m$ variable represents a vector of _weights_ (denoted $\\mathrm{W}$) and our $b$ variable represents our _bias_ term. The loss (error) we are attempting to minimise is computed with an off-the-shelf [cross-entropy loss](https://en.wikipedia.org/wiki/Cross_entropy#Cross-entropy_loss_function_and_logistic_regression) function (commonly referred to as _log loss_). This function produces a loss value which essentially measures the difference between the predicted and true outcome variables."
      ]
    },
    {
      "cell_type": "markdown",
      "id": "a6c89588",
      "metadata": {
        "id": "a6c89588"
      },
      "source": [
        "### 1.3. Training and validation"
      ]
    },
    {
      "cell_type": "markdown",
      "id": "1ec7470b",
      "metadata": {
        "id": "1ec7470b"
      },
      "source": [
        "By utilising several TensorFlow Functional APIs we can perform custom training and validation loops."
      ]
    },
    {
      "cell_type": "markdown",
      "id": "fbd8bcff",
      "metadata": {
        "id": "fbd8bcff"
      },
      "source": [
        "**Training loop**:\n",
        "1. Iterate over training dataset sample-by-sample;\n",
        "2. Perform the forward pass of the model on each sample:\n",
        "    * Scale each image data array to values between 0 and 1;\n",
        "    * Compute the maximum likelihood estimate;\n",
        "    * Calculate the cross-entropy loss (i.e., measure prediction error);\n",
        "    * Obtain the gradient with respect to model weight vectors;\n",
        "    * Update the weight vectors by subtracting the gradient (stochastic gradient descent);\n",
        "    * Calculate the prediction accuracy;\n",
        "3. Return the mean average loss and accuracy metrics.\n",
        "\n",
        "\n",
        "**Validation loop**:\n",
        "1. Iterate over the validation dataset sample-by-sample;\n",
        "    * Scale each image data array to values between 0 and 1;\n",
        "    * Compute the maximum likelihood estimate (i.e., making a prediction);\n",
        "    * Calculate the prediction accuracy;\n",
        "2. Return the mean average accuracy metric."
      ]
    },
    {
      "cell_type": "markdown",
      "id": "44b087be",
      "metadata": {
        "id": "44b087be"
      },
      "source": [
        "In our `training_loop()` method we will implement the [`tf.GradientTape`](https://www.tensorflow.org/api_docs/python/tf/GradientTape) tool for performing [automatic differentiation](https://en.wikipedia.org/wiki/Automatic_differentiation) (_autodiff_). TensorFlow's `GradientTape` API uses a reverse-order traversal of operations in the forward and backward passes of a model in order to differentiate a desired function. This is known as _reverse mode differentiation_ and is a more-optimal technique over [symbolic differentiation](https://en.wikipedia.org/wiki/Symbolic_differentiation) and [numerical differentiation](https://en.wikipedia.org/wiki/Numerical_differentiation) for computing the partial derivatives of a function with respect to many inputs.\n",
        "\n",
        "Here our `GradientTape` routine will calculate the gradient of the loss with respect to the model variables after a forward pass of the model has been run. Once a maximum likelihood estimate has been worked out for an observation $x_{i}$ given its true class label $y = j$ with respect to the weight $w_{j}$, that is,\n",
        "\n",
        "$$\n",
        "\\begin{align}\n",
        "    P\\left(y = j \\vert z_{i} = x_{i}; w_{j} \\right) &= \\phi_{softmax}\\left(z_{i}\\right),\n",
        "\\end{align}\n",
        "$$\n",
        "\n",
        "where the input $z_{i}$ is defined to be\n",
        "$$\n",
        "\\begin{align}\n",
        "    z_{i} = w_{i}x_{i} \n",
        "\\end{align}\n",
        "$$\n",
        "\n",
        "such that $w$ is the model weight vector and $x_{i}$ is the feature vector belonging to the single training observation. \n",
        "\n",
        "The gradients computed with `GradientTape` for the cross-entropy loss\n",
        "$$\n",
        "\\begin{align}\n",
        "    loss\\left(x_{i}, y; w_{i}\\right) = H\\left(y, \\hat{y}\\right)\n",
        "\\end{align}\n",
        "$$\n",
        "\n",
        "for a one-hot encoded true class label vector $y$ and the corresponding predicted probability distribution $\\hat{y}$ are with respect to the model weight and bias parameters $w$ and $b$.\n",
        "\n",
        "In stochastic gradient descent, these iterative gradient computations are subtracted from the weight vector on a per-sample basis. An unbiased estimate of the _true_ gradient (i.e., gradient computed over the full dataset) using only a single observation can be achieved when sampling the observation uniformly at random over the entire dataset."
      ]
    },
    {
      "cell_type": "markdown",
      "id": "35b756ed",
      "metadata": {
        "id": "35b756ed"
      },
      "source": [
        "Note that the resulting gradient computed by `tf.GradientTape` is in the generalised [Jacobian matrix](https://en.wikipedia.org/wiki/Jacobian_matrix_and_determinant) form."
      ]
    },
    {
      "cell_type": "markdown",
      "id": "dd3b4072",
      "metadata": {
        "id": "dd3b4072"
      },
      "source": [
        "### 1.4. German Traffic Sign Recognition Benchmark (GTSRB) dataset"
      ]
    },
    {
      "cell_type": "markdown",
      "id": "0721ac5b",
      "metadata": {
        "id": "0721ac5b"
      },
      "source": [
        "The German Traffic Sign Recognition Benchmark is a multi-class, single-image classification challenge created by J. Stallkamp et al. (2012) at the [Institut für Neuroinformatik](https://benchmark.ini.rub.de/gtsrb_news.html) [2]. In this dataset there exists over 50.000 unique images of more than 40 distinct classes of traffic signs. \n",
        "\n",
        "Each image has been reliably annotated with the following information:\n",
        "* **Filename**: filename of the corresponding image;\n",
        "* **Width**: width of the image;\n",
        "* **Height**: height of the image;\n",
        "* **ROI.x1**: x-coordinate of top-left corner of traffic sign bounding box;\n",
        "* **ROI.y1**: y-coordinate of the top-left corner of traffic sign bounding box;\n",
        "* **ROI.x2**: x-coordinate of bottom-right corner of traffic sign bounding box;\n",
        "* **ROI.y2**: y-coordinate of the bottom-right corner of traffic sign bounding box; \n",
        "* **ClassId**: assigned class label.\n",
        "\n",
        "In addition to the CSV-formatted annotations, the following information about the images is provided:\n",
        "* Images contain one traffic sign each;\n",
        "* Images contain a border of 10% around the actual traffic sign (at least 5 pixels) to allow for edge-based approaches;\n",
        "* Images are stored in PPM format ([Portable Pixmap, P6](http://en.wikipedia.org/wiki/Netpbm_format));\n",
        "* Image sizes vary between 15x15 to 250x250 pixels;\n",
        "* Images are not necessarily squared;\n",
        "* The actual traffic sign is not necessarily centred within the image. This is true for images that were close to the image border in the full camera image;\n",
        "* The bounding box of the traffic sign is part of the annotations.\n",
        "\n",
        "Lastly, several pre-calculated feature sets are provided. Namely, _Histogram of Oriented Gradients_ (HOG) features, _Haar-like_ features (5 distinct Haar-like features), and _hue histograms_ (256-bin HSV colour space).\n",
        "\n",
        "This dataset presents unique real-world challenges within object recognition by providing traffic sign images captured in a variety of lighting/illumination conditions and images that have distortions (e.g., blurring, pixelation) as well as differences in shape, size, etc.\n",
        "\n",
        "For more information on the GTSRB dataset, see [here](https://benchmark.ini.rub.de/gtsrb_dataset.html). "
      ]
    },
    {
      "cell_type": "markdown",
      "id": "1ec31b1b",
      "metadata": {
        "id": "1ec31b1b"
      },
      "source": [
        "## 2. Programming Task"
      ]
    },
    {
      "cell_type": "markdown",
      "id": "cbbac723",
      "metadata": {
        "id": "cbbac723"
      },
      "source": [
        "### 2.1. Custom model functions"
      ]
    },
    {
      "cell_type": "markdown",
      "id": "98fcaa28",
      "metadata": {
        "id": "98fcaa28"
      },
      "source": [
        "The following functions from [Exercise 1.3.1](https://github.com/jonathanloganmoran/ND0013-Self-Driving-Car-Engineer/blob/main/1-Object-Detection-in-Urban-Environments/Exercises/1-3-1-Logistic-Regression/2022-08-27-Logistic-Regression.ipynb) have been slightly modified to work on a single input observation."
      ]
    },
    {
      "cell_type": "markdown",
      "id": "e8302548",
      "metadata": {
        "id": "e8302548"
      },
      "source": [
        "#### Softmax activation function"
      ]
    },
    {
      "cell_type": "code",
      "execution_count": 10,
      "id": "4b5aa5f8",
      "metadata": {
        "id": "4b5aa5f8"
      },
      "outputs": [],
      "source": [
        "### From J. Moran's `2022-08-27-Logistic-Regression.ipynb`"
      ]
    },
    {
      "cell_type": "code",
      "execution_count": 11,
      "id": "041d7fd7",
      "metadata": {
        "id": "041d7fd7"
      },
      "outputs": [],
      "source": [
        "def softmax(logits: tf.Tensor, stable: bool=False) -> tf.Tensor:\n",
        "    \"\"\"Returns the softmax probability distribution.\n",
        "    \n",
        "    :param logits: a 1xN tf.Tensor of logits.\n",
        "    :param stable: optional, flag indicating whether\n",
        "        or not to normalise the input data.\n",
        "    returns: soft_logits, a 1xN tf.Tensor of real \n",
        "        values in range (0,1) that sum up to 1.0.\n",
        "    \"\"\"\n",
        "    \n",
        "    assert isinstance(logits, tf.Tensor)\n",
        "    if stable:\n",
        "        logits = tf.subtract(logits, tf.reduce_max(logits))\n",
        "    soft_logits = tf.math.exp(logits)\n",
        "    soft_logits /= tf.math.reduce_sum(soft_logits)\n",
        "    return soft_logits"
      ]
    },
    {
      "cell_type": "markdown",
      "id": "abe07f6c",
      "metadata": {
        "id": "abe07f6c"
      },
      "source": [
        "#### Cross-entropy loss function"
      ]
    },
    {
      "cell_type": "code",
      "execution_count": 12,
      "id": "4fa1ad79",
      "metadata": {
        "id": "4fa1ad79"
      },
      "outputs": [],
      "source": [
        "def cross_entropy(y_true: tf.Tensor, y_pred: tf.Tensor) -> tf.Tensor:\n",
        "    \"\"\"Returns the per-sample cross-entropy loss.\n",
        "    \n",
        "    :param y_true: a 1xC tf.Tensor, the ground truth class label\n",
        "        as a one-hot encoded vector of length C (num of total classes).\n",
        "    :param y_pred: a 1xC tf.Tensor, the predicted per-class probabilities.\n",
        "    :returns: a 1x1 tf.Tensor, the categorical cross-entropy loss value\n",
        "        for a single observation and its ground truth label.\n",
        "    \"\"\"\n",
        "    \n",
        "    # Pick the probability value from the distribution\n",
        "    # that corresponds to the true class label\n",
        "    preds = tf.boolean_mask(y_pred, mask=y_true)\n",
        "    # Taking the negative log-likelihood\n",
        "    neg_log_likelihood = -tf.math.log(preds)\n",
        "    # Here we return the categorical cross-entropy loss\n",
        "    # value for a single observation (no need to normalise)\n",
        "    return tf.reduce_sum(neg_log_likelihood)"
      ]
    },
    {
      "cell_type": "markdown",
      "id": "c780ac6b",
      "metadata": {
        "id": "c780ac6b"
      },
      "source": [
        "#### Accuracy scoring metric function"
      ]
    },
    {
      "cell_type": "code",
      "execution_count": 13,
      "id": "84c16638",
      "metadata": {
        "id": "84c16638"
      },
      "outputs": [],
      "source": [
        "def accuracy(y_true: tf.Tensor, y_hat: tf.Tensor) -> tf.Tensor:\n",
        "    \"\"\"Evaluates a single prediction against the ground truth.\n",
        "\n",
        "    :param y_true: a 1x1 scalar tf.Tensor, the ground truth class label\n",
        "        (one-hot encoded).\n",
        "    :param y_pred: a 1x1 scalar tf.Tensor, the predicted class label.\n",
        "    returns: acc, a 1x1 scalar tf.Tensor object, 1.0 if correct else 0.0.\n",
        "    \"\"\"\n",
        "\n",
        "    # Get the class label with the highest predicted probability\n",
        "    y_pred = tf.cast(tf.argmax(y_hat, axis=1), dtype=tf.int32)\n",
        "    # Return the boolean as an integer\n",
        "    return tf.math.reduce_sum(tf.cast(tf.math.equal(y_true, y_pred), \n",
        "                                      dtype=tf.int32)) / y_true.shape[0]"
      ]
    },
    {
      "cell_type": "markdown",
      "id": "41d9f3bf",
      "metadata": {
        "id": "41d9f3bf"
      },
      "source": [
        "### 2.2. Modelling with TensorFlow"
      ]
    },
    {
      "cell_type": "markdown",
      "id": "e3b4b49d",
      "metadata": {
        "id": "e3b4b49d"
      },
      "source": [
        "#### Stochastic Gradient Descent algorithm"
      ]
    },
    {
      "cell_type": "code",
      "execution_count": 14,
      "id": "5f851411",
      "metadata": {
        "id": "5f851411"
      },
      "outputs": [],
      "source": [
        "### From Udacity's `training.py`"
      ]
    },
    {
      "cell_type": "code",
      "execution_count": 15,
      "id": "99a9563b",
      "metadata": {
        "id": "99a9563b"
      },
      "outputs": [],
      "source": [
        "def sgd(params: List[tf.Variable], grads: List[tf.Variable],\n",
        "        learning_rate: float, batch_size: int=1):\n",
        "    \"\"\"Performs the stochastic gradient descent update step.\n",
        "    \n",
        "    :param params: tf.Variable-like, the model parameters (weight and bias vectors).\n",
        "    :param grads: tf.Variable, the computed gradients w.r.t. weight and bias vectors.\n",
        "    :param learning_rate: the learning rate, i.e., value to scale the gradient update.\n",
        "    :param batch_size: the number of samples factored into this gradient computation.\n",
        "    :returns params: the updated model weight and bias tensor-like vectors.\n",
        "    \"\"\"\n",
        "    # IMPLEMENT THIS FUNCTION\n",
        "    \n",
        "    # Consistent with stochastic gradient descent\n",
        "    assert batch_size == 1\n",
        "    for param, grad in zip(params, grads):\n",
        "        param.assign_sub(learning_rate * grad / batch_size)\n",
        "    return params"
      ]
    },
    {
      "cell_type": "markdown",
      "id": "c4b21520",
      "metadata": {
        "id": "c4b21520"
      },
      "source": [
        "#### Logistic Regression model"
      ]
    },
    {
      "cell_type": "code",
      "execution_count": 16,
      "id": "b6640d5f",
      "metadata": {
        "id": "b6640d5f"
      },
      "outputs": [],
      "source": [
        "### From J. Moran's `2022-08-27-Logistic-Regression.ipynb`"
      ]
    },
    {
      "cell_type": "code",
      "execution_count": 17,
      "id": "648075bf",
      "metadata": {
        "id": "648075bf"
      },
      "outputs": [],
      "source": [
        "def model(X: tf.Tensor, W: tf.Variable, b: tf.Variable, \n",
        "          activation_fn: Callable[[tf.Tensor], tf.Tensor]) -> tf.Tensor:\n",
        "    \"\"\"Performs the forward step of the logistic regression model.\n",
        "    \n",
        "    SGD fits a linear model to the input data and target labels.\n",
        "    Here we assume a logistic regression implementation with a\n",
        "    softmax activation function and categorical cross-entropy loss.\n",
        "    \n",
        "    :param X: tf.Tensor object, a training observation\n",
        "        i.e., a single HxWx3 RGB image.\n",
        "    :param W: tf.Tensor object, the weight vector.\n",
        "    :param b: the bias term, tf.Tensor-like object.\n",
        "    :param activation_fn: a callable function which performs the softmax\n",
        "        activation function and returns a probability distribution.\n",
        "    returns: tf.Tensor, the softmax probability distribution.\n",
        "    \"\"\"\n",
        "\n",
        "    # Compute the product between flattened input and weight vectors\n",
        "    Z = tf.matmul(tf.reshape(X, shape=(-1, W.shape[0])), W)\n",
        "    # Add the bias term\n",
        "    Z += b\n",
        "    # Return the softmax probabilities P\n",
        "    return activation_fn(Z)"
      ]
    },
    {
      "cell_type": "markdown",
      "id": "fd6889c5",
      "metadata": {
        "id": "fd6889c5"
      },
      "source": [
        "### 2.3. Training and validation loops"
      ]
    },
    {
      "cell_type": "markdown",
      "id": "c97574fc",
      "metadata": {
        "id": "c97574fc"
      },
      "source": [
        "#### Custom training loop"
      ]
    },
    {
      "cell_type": "code",
      "execution_count": 18,
      "id": "b452c7b8",
      "metadata": {
        "id": "b452c7b8"
      },
      "outputs": [],
      "source": [
        "def training_loop(\n",
        "        train_dataset: tf.data.Dataset,\n",
        "        n_classes: int,\n",
        "        model: Callable[[tf.Tensor, tf.Variable, tf.Variable], tf.Tensor],\n",
        "        W: tf.Variable, \n",
        "        b: tf.Variable,\n",
        "        activation_fn: Callable[[tf.Tensor], tf.Tensor],\n",
        "        loss_fn: Callable[[tf.Tensor, tf.Tensor], tf.Tensor], \n",
        "        optimizer: Callable[[List[tf.Variable], List[tf.Variable], float, int], \n",
        "                            List[tf.Variable]],\n",
        "        accuracy_fn: Callable[[tf.Tensor, tf.Tensor], tf.Tensor],\n",
        "        learning_rate: float=1e-1,\n",
        "        batch_size: int=1) -> (tf.Variable, tf.Variable, tf.Tensor, tf.Tensor):\n",
        "    \"\"\"Performs a training loop over the input data.\n",
        "    \n",
        "    The logistic regression model training loop with stochastic\n",
        "    gradient descent optimisation. SGD is an iterative optimisation \n",
        "    algorithm using the negative log-likelihood (cross-entropy) as\n",
        "    a cost function to minimise.\n",
        "    \n",
        "    :param train_dataset: tf.data.Dataset, collection of tensor-like objects\n",
        "        encapsulating the underlying structure of the training data.\n",
        "    :param n_classes: int, the number of distinct classes in the dataset. \n",
        "    :param model: a callable function which computes the forward step of the\n",
        "        logistic regression model.\n",
        "    :param W: tf.Variable, a tensor-like vector of model weight values.\n",
        "    :param b: tf.Variable, a tensor-like object with model bias value.\n",
        "    :param activation_fn: a callable function which performs the softmax\n",
        "        activation function and returns a probability distribution.\n",
        "    :param loss_fn: a callable function which computes the cross-entropy loss for\n",
        "        a single observation (returns the negative log-likelihood scalar value).\n",
        "    :param optimizer: a callable function which performs the stochastic gradient\n",
        "        descent weight update step.\n",
        "    :param accuracy_fn: a callable function which computes the average\n",
        "        classification accuracy.\n",
        "    :param learning_rate: float, the learning rate hyperparameter to use.\n",
        "    :param batch_size: int, the batch size indicating the number of training\n",
        "        samples to process (should be 1 for stochastic gradient descent).\n",
        "    :returns: tuple, updated weight and bias tensors and two training metrics.\n",
        "    \"\"\"\n",
        "    \n",
        "    # Get number of training samples in dataset\n",
        "    n_samples = len(train_dataset)\n",
        "    # Consistent with SGD implementation\n",
        "    assert batch_size == 1\n",
        "    # Store the per-sample metrics\n",
        "    accuracies = []\n",
        "    losses = []\n",
        "    # Step counter (to be later used with LR schedule)\n",
        "    t_step = 0\n",
        "    for X_train, y_train in train_dataset:\n",
        "        with tf.GradientTape() as tape:\n",
        "            # IMPLEMENT THIS FUNCTION\n",
        "\n",
        "            # Scaling the input RGB image data\n",
        "            X_train /= 255.0\n",
        "            # Perform the forward pass\n",
        "            y_hat = model(X_train, W, b, activation_fn)\n",
        "            # One-hot encode the true class label\n",
        "            y_one_hot = tf.one_hot(y_train, n_classes)\n",
        "            # Calculate the per-sample cross-entropy loss value\n",
        "            neg_log_likelihood = loss_fn(y_one_hot, y_hat)\n",
        "            # Should be scalar value for SGD\n",
        "            assert neg_log_likelihood.shape == tf.TensorShape([])\n",
        "            losses.append(neg_log_likelihood)\n",
        "        # Compute the per-sample gradients w.r.t. model weights/feature vector\n",
        "        # Here our gradient vector is a generalised Jacobian matrix\n",
        "        grads = tape.gradient(neg_log_likelihood, [W, b])\n",
        "        # Get the new model weight values updated with stochastic gradient descent\n",
        "        # TODO: consider using a learning rate schedule\n",
        "        W_p, b_p = optimizer([W, b], grads, learning_rate, batch_size)\n",
        "        # Update the model weights\n",
        "        W, b = W_p, b_p\n",
        "        # Calculate the accuracy of this prediction\n",
        "        pred_acc = accuracy_fn(y_train, y_hat)\n",
        "        accuracies.append(pred_acc)\n",
        "        # Increment the step counter\n",
        "        t_step += 1\n",
        "    # Compute the mean average accuracy and cross-entropy loss for this epoch\n",
        "    mean_acc = tf.math.reduce_mean(tf.concat(accuracies, axis=0))\n",
        "    mean_loss = tf.math.reduce_mean(losses)\n",
        "    # Return the updated weight and bias vectors and metrics from ths epoch\n",
        "    return W, b, mean_loss, mean_acc"
      ]
    },
    {
      "cell_type": "markdown",
      "id": "7e2dffb9",
      "metadata": {
        "id": "7e2dffb9"
      },
      "source": [
        "#### Custom validation loop"
      ]
    },
    {
      "cell_type": "code",
      "execution_count": 19,
      "id": "8b484a23",
      "metadata": {
        "id": "8b484a23"
      },
      "outputs": [],
      "source": [
        "def validation_loop(\n",
        "        val_dataset: tf.data.Dataset, \n",
        "        model: Callable[[tf.Tensor, tf.Variable, tf.Variable], tf.Tensor],\n",
        "        activation_fn: Callable[[tf.Tensor, tf.Tensor], tf.Tensor],\n",
        "        accuracy_fn: Callable[[tf.Tensor, tf.Tensor], tf.Tensor], \n",
        "        W: tf.Tensor, \n",
        "        b: tf.Tensor) -> tf.Tensor:\n",
        "    \"\"\"Performs a validation loop over the input data.\n",
        "    \n",
        "    Average classification accuracy is computed across samples as the\n",
        "    number of true predictions over the total number of predictions made.\n",
        "    \n",
        "    :param val_dataset: tf.data.Dataset, the set of all validation observations.\n",
        "    :param model: a callable function which computes the forward step of the\n",
        "        logistic regression model.\n",
        "    :param activation_fn: a callable function which performs the softmax\n",
        "        activation function and returns a probability distribution.\n",
        "    :param accuracy_fn: a callable function which computes the average\n",
        "        classification accuracy.\n",
        "    :param W: tf.Variable, a tensor-like vector of trained model weight values.\n",
        "    :param b: tf.Variable, a tensor-like object of trained model bias values.\n",
        "    returns: tf.Tensor, average classification accuracy on validation dataset.\n",
        "    \"\"\"\n",
        "    # IMPLEMENT THIS FUNCTION\n",
        "    \n",
        "    accuracies = []\n",
        "    for X_val, y_val in val_dataset:\n",
        "        # Scaling the input RGB image data\n",
        "        X_val /= 255.0\n",
        "        # Perform the forward pass with trained parameters\n",
        "        y_hat = model(X_val, W, b, activation_fn)\n",
        "        # Calculate the per-sample classification accuracy\n",
        "        acc = accuracy_fn(y_val, y_hat)\n",
        "        accuracies.append(acc)\n",
        "    mean_acc = tf.math.reduce_mean(tf.concat(accuracies, axis=0))\n",
        "    return mean_acc"
      ]
    },
    {
      "cell_type": "markdown",
      "id": "b75d1ac7",
      "metadata": {
        "id": "b75d1ac7"
      },
      "source": [
        "### 2.4. Evaluation on the GTSRB dataset"
      ]
    },
    {
      "cell_type": "markdown",
      "id": "8b4ed0a4",
      "metadata": {
        "id": "8b4ed0a4"
      },
      "source": [
        "#### Considerations for our input data"
      ]
    },
    {
      "cell_type": "code",
      "execution_count": 20,
      "id": "b6436791",
      "metadata": {
        "id": "b6436791"
      },
      "outputs": [],
      "source": [
        "### Defining our input image specs"
      ]
    },
    {
      "cell_type": "code",
      "execution_count": 21,
      "id": "1a89afa7",
      "metadata": {
        "id": "1a89afa7"
      },
      "outputs": [],
      "source": [
        "image_size = (32, 32)          # Each RGB image has 32x32 px resolution\n",
        "n_features = (32 * 32) * 3     # Each pixel value is considered an attribute (feature)\n",
        "batch_size = 1                 # Using batch size of 1 for stochastic gradient descent"
      ]
    },
    {
      "cell_type": "markdown",
      "id": "76ce8d27",
      "metadata": {
        "id": "76ce8d27"
      },
      "source": [
        "The following `get_datasets()` method returns a tuple of [`tf.data.Dataset`](https://www.tensorflow.org/api_docs/python/tf/data/Dataset) instances containing the training and validation datasets, respectively."
      ]
    },
    {
      "cell_type": "code",
      "execution_count": 22,
      "id": "66f7f8a2",
      "metadata": {
        "id": "66f7f8a2"
      },
      "outputs": [],
      "source": [
        "### From Udacity's `dataset.py`"
      ]
    },
    {
      "cell_type": "code",
      "execution_count": 23,
      "id": "d147868b",
      "metadata": {
        "id": "d147868b"
      },
      "outputs": [],
      "source": [
        "def get_datasets(imdir: str) -> tuple:\n",
        "    \"\"\"Return the training and validation datasets.\n",
        "    \n",
        "    :param imdir: absolute path to the directory where the data is stored in.\n",
        "    :returns: (train_dataset, validation_dataset), tuple of tf.data.Dataset instances.\n",
        "    \"\"\"\n",
        "    \n",
        "    train_dataset = tf.keras.preprocessing.image_dataset_from_directory(\n",
        "                        imdir,\n",
        "                        labels='inferred',\n",
        "                        label_mode='int',\n",
        "                        color_mode='rgb',\n",
        "                        batch_size=batch_size,\n",
        "                        image_size=image_size,\n",
        "                        shuffle=True,\n",
        "                        seed=123,\n",
        "                        validation_split=0.1,\n",
        "                        subset='training',\n",
        "    )\n",
        "    validation_dataset = tf.keras.preprocessing.image_dataset_from_directory(\n",
        "                        imdir,\n",
        "                        labels='inferred',\n",
        "                        label_mode='int',\n",
        "                        color_mode='rgb',\n",
        "                        batch_size=batch_size,\n",
        "                        image_size=image_size,\n",
        "                        shuffle=True,\n",
        "                        seed=123,\n",
        "                        validation_split=0.1,\n",
        "                        subset='validation',\n",
        "    )\n",
        "    return train_dataset, validation_dataset"
      ]
    },
    {
      "cell_type": "code",
      "execution_count": 24,
      "id": "9c2e0172",
      "metadata": {
        "id": "9c2e0172"
      },
      "outputs": [],
      "source": [
        "### Getting the training and validation data"
      ]
    },
    {
      "cell_type": "code",
      "execution_count": 25,
      "id": "3d091ee5",
      "metadata": {
        "id": "3d091ee5"
      },
      "outputs": [],
      "source": [
        "imdir = os.path.join(DIR_SRC, 'GTSRB/Final_Training/Images')"
      ]
    },
    {
      "cell_type": "code",
      "execution_count": 26,
      "id": "0b1b8e56",
      "metadata": {
        "colab": {
          "base_uri": "https://localhost:8080/"
        },
        "id": "0b1b8e56",
        "outputId": "d239b9c6-8597-4191-ed70-0034ceb47aee"
      },
      "outputs": [
        {
          "output_type": "stream",
          "name": "stdout",
          "text": [
            "Found 4300 files belonging to 43 classes.\n",
            "Using 3870 files for training.\n",
            "Found 4300 files belonging to 43 classes.\n",
            "Using 430 files for validation.\n"
          ]
        }
      ],
      "source": [
        "train_dataset, validation_dataset = get_datasets(imdir)"
      ]
    },
    {
      "cell_type": "code",
      "execution_count": 27,
      "id": "b867a722",
      "metadata": {
        "id": "b867a722"
      },
      "outputs": [],
      "source": [
        "### Plotting fifteen images and their class labels"
      ]
    },
    {
      "cell_type": "code",
      "execution_count": 28,
      "id": "c3c99125",
      "metadata": {
        "colab": {
          "base_uri": "https://localhost:8080/",
          "height": 602
        },
        "id": "c3c99125",
        "outputId": "094263ce-b085-4911-c3e3-7885187a1578"
      },
      "outputs": [
        {
          "output_type": "display_data",
          "data": {
            "text/plain": [
              "<Figure size 1728x1728 with 30 Axes>"
            ],
            "image/png": "[encoded data removed]"
          },
          "metadata": {
            "needs_background": "light"
          }
        }
      ],
      "source": [
        "train_iter = iter(train_dataset)\n",
        "fig = plt.figure(figsize=(24,24))\n",
        "grid = ImageGrid(fig, 111, nrows_ncols=(3, 5), axes_pad=0.5)\n",
        "### Plotting images in dataset\n",
        "for i, (image, label) in enumerate(train_dataset.take(15)):\n",
        "    grid.axes_all[i].set_title(label=label.numpy()[0].astype('str'), fontsize=18)\n",
        "    grid[i].imshow(image.numpy().reshape(32,32,3).astype('uint8'))\n",
        "    grid[i].axis('off')"
      ]
    },
    {
      "cell_type": "markdown",
      "id": "750dbfec",
      "metadata": {
        "id": "750dbfec"
      },
      "source": [
        "#### Putting it all together"
      ]
    },
    {
      "cell_type": "markdown",
      "id": "d2adf1b6",
      "metadata": {
        "id": "d2adf1b6"
      },
      "source": [
        "##### Initialising input/output data parameters"
      ]
    },
    {
      "cell_type": "code",
      "execution_count": 29,
      "id": "eda8fb50",
      "metadata": {
        "colab": {
          "base_uri": "https://localhost:8080/"
        },
        "id": "eda8fb50",
        "outputId": "10edb99d-79e5-446f-a59d-49d9a6c50c40"
      },
      "outputs": [
        {
          "output_type": "execute_result",
          "data": {
            "text/plain": [
              "3072"
            ]
          },
          "metadata": {},
          "execution_count": 29
        }
      ],
      "source": [
        "### Number of features (pixel values) in a single image\n",
        "len(train_iter.get_next()[0].numpy().flatten())"
      ]
    },
    {
      "cell_type": "code",
      "execution_count": 30,
      "id": "ff1c58b4",
      "metadata": {
        "id": "ff1c58b4"
      },
      "outputs": [],
      "source": [
        "### Defining input and output tensor parameters\n",
        "input_name = 'input_GTSRB_image'\n",
        "num_inputs = n_features        # Each input is a flattened 32x32x3 RGB image array\n",
        "num_outputs = 43               # There are 43 distinct classes in GTSRB\n",
        "output_name = 'output_categorical'"
      ]
    },
    {
      "cell_type": "markdown",
      "id": "81f95cf8",
      "metadata": {
        "id": "81f95cf8"
      },
      "source": [
        "##### Initialising model parameters"
      ]
    },
    {
      "cell_type": "code",
      "execution_count": 31,
      "id": "8b2a7558",
      "metadata": {
        "id": "8b2a7558"
      },
      "outputs": [],
      "source": [
        "### Defining the model parameters"
      ]
    },
    {
      "cell_type": "code",
      "execution_count": 32,
      "id": "fc500114",
      "metadata": {
        "id": "fc500114"
      },
      "outputs": [],
      "source": [
        "### Defining model parameters\n",
        "model_name = 'LogisticRegressionModel_SGD'\n",
        "### Defining model hyperparameters\n",
        "epochs = 10                    # Number of complete passes over the training data\n",
        "batch_size = 1                 # Number of samples to compute gradient with\n",
        "learning_rate = 1e-2           # Starting with a static (fixed) learning rate\n",
        "### Defining model custom functions\n",
        "activation_fn = softmax\n",
        "loss_fn = cross_entropy\n",
        "accuracy_fn = accuracy\n",
        "optimizer = sgd\n",
        "model_params = {'model_name': model_name, 'imdir': imdir,\n",
        "                'num_inputs': num_inputs, 'input_name': input_name,\n",
        "                'num_outputs': num_outputs, 'output_name': output_name,\n",
        "                'learning_rate': learning_rate, 'epochs': epochs,\n",
        "                'batch_size': batch_size, 'activation_fn': activation_fn,\n",
        "                'loss_fn': loss_fn, 'accuracy_fn': accuracy_fn,\n",
        "                'optimizer': sgd\n",
        "                }"
      ]
    },
    {
      "cell_type": "markdown",
      "id": "ea97b0c4",
      "metadata": {
        "id": "ea97b0c4"
      },
      "source": [
        "We will use the TensorFlow built-in [`tf.Variable`](https://www.tensorflow.org/api_docs/python/tf/Variable?hl=en) tensor object to distinguish our trainable model parameters (weight, bias vectors) from otherwise static tensor objects. These `tf.Variable` objects maintain a shared, persistent state and therefore come with a few useful operations (e.g., [`assign_sub()`](https://www.tensorflow.org/api_docs/python/tf/Variable#assign_sub) method) that we will use during training to manipulate their values. Another nice feature of the `tf.Variable` is that they are automatically traced and watched during the `tf.GradientTape` steps."
      ]
    },
    {
      "cell_type": "code",
      "execution_count": 33,
      "id": "a2ccd147",
      "metadata": {
        "id": "a2ccd147"
      },
      "outputs": [],
      "source": [
        "### Initialising the model variables (weights and bias vectors)\n",
        "W = tf.Variable(tf.random.normal(shape=(model_params['num_inputs'], \n",
        "                                        model_params['num_outputs']), \n",
        "                                 mean=0, \n",
        "                                 stddev=0.01\n",
        "                                )\n",
        ")\n",
        "b = tf.Variable(tf.zeros(model_params['num_outputs']))"
      ]
    },
    {
      "cell_type": "markdown",
      "id": "c9df2bee",
      "metadata": {
        "id": "c9df2bee"
      },
      "source": [
        "##### Performing the training and validation loops"
      ]
    },
    {
      "cell_type": "code",
      "execution_count": 34,
      "id": "75c95c1c",
      "metadata": {
        "id": "75c95c1c"
      },
      "outputs": [],
      "source": [
        "### From Udacity's `training.py`"
      ]
    },
    {
      "cell_type": "code",
      "execution_count": 35,
      "id": "6a924374",
      "metadata": {
        "id": "6a924374"
      },
      "outputs": [],
      "source": [
        "def get_module_logger(mod_name):\n",
        "    logger = logging.getLogger(mod_name)\n",
        "    handler = logging.StreamHandler()\n",
        "    formatter = logging.Formatter('%(asctime)s %(levelname)-8s %(message)s')\n",
        "    handler.setFormatter(formatter)\n",
        "    logger.addHandler(handler)\n",
        "    logger.setLevel(logging.DEBUG)\n",
        "    return logger"
      ]
    },
    {
      "cell_type": "code",
      "execution_count": 36,
      "id": "c3f0dac5",
      "metadata": {
        "colab": {
          "base_uri": "https://localhost:8080/"
        },
        "id": "c3f0dac5",
        "outputId": "b70baa85-d822-4313-a3b6-18acce4917d4"
      },
      "outputs": [
        {
          "output_type": "stream",
          "name": "stderr",
          "text": [
            "2022-09-02 22:19:18,111 INFO     \n",
            "Training for 10 epochs using '/content/data/GTSRB/Final_Training/Images' data\n",
            "INFO:__main__:\n",
            "Training for 10 epochs using '/content/data/GTSRB/Final_Training/Images' data\n"
          ]
        }
      ],
      "source": [
        "### Getting the console logger\n",
        "logger = get_module_logger(__name__)\n",
        "logger.info(f\"\\nTraining for {model_params['epochs']} epochs \" +\n",
        "            f\"using '{model_params['imdir']}' data\")"
      ]
    },
    {
      "cell_type": "code",
      "execution_count": 37,
      "id": "9cef707c",
      "metadata": {
        "id": "9cef707c"
      },
      "outputs": [],
      "source": [
        "### Run training and validation loop"
      ]
    },
    {
      "cell_type": "code",
      "execution_count": 38,
      "id": "03511065",
      "metadata": {
        "colab": {
          "base_uri": "https://localhost:8080/"
        },
        "id": "03511065",
        "outputId": "be8b5a4c-13bf-47cd-ea58-ba3538c28683"
      },
      "outputs": [
        {
          "output_type": "stream",
          "name": "stderr",
          "text": [
            "2022-09-02 22:19:18,136 INFO     \n",
            "Epoch: 1\n",
            "INFO:__main__:\n",
            "Epoch: 1\n",
            "2022-09-02 22:19:58,653 INFO     \n",
            "Mean training loss: 3.5660, Mean training accuracy: 0.2199\n",
            "INFO:__main__:\n",
            "Mean training loss: 3.5660, Mean training accuracy: 0.2199\n",
            "2022-09-02 22:19:59,747 INFO     \n",
            "Mean validation accuracy: 0.3953\n",
            "INFO:__main__:\n",
            "Mean validation accuracy: 0.3953\n",
            "2022-09-02 22:19:59,753 INFO     \n",
            "Epoch: 2\n",
            "INFO:__main__:\n",
            "Epoch: 2\n",
            "2022-09-02 22:20:32,442 INFO     \n",
            "Mean training loss: 2.0161, Mean training accuracy: 0.5057\n",
            "INFO:__main__:\n",
            "Mean training loss: 2.0161, Mean training accuracy: 0.5057\n",
            "2022-09-02 22:20:33,575 INFO     \n",
            "Mean validation accuracy: 0.5256\n",
            "INFO:__main__:\n",
            "Mean validation accuracy: 0.5256\n",
            "2022-09-02 22:20:33,583 INFO     \n",
            "Epoch: 3\n",
            "INFO:__main__:\n",
            "Epoch: 3\n",
            "2022-09-02 22:21:07,416 INFO     \n",
            "Mean training loss: 1.5278, Mean training accuracy: 0.6271\n",
            "INFO:__main__:\n",
            "Mean training loss: 1.5278, Mean training accuracy: 0.6271\n",
            "2022-09-02 22:21:08,497 INFO     \n",
            "Mean validation accuracy: 0.6674\n",
            "INFO:__main__:\n",
            "Mean validation accuracy: 0.6674\n",
            "2022-09-02 22:21:08,503 INFO     \n",
            "Epoch: 4\n",
            "INFO:__main__:\n",
            "Epoch: 4\n",
            "2022-09-02 22:21:40,723 INFO     \n",
            "Mean training loss: 1.2275, Mean training accuracy: 0.7062\n",
            "INFO:__main__:\n",
            "Mean training loss: 1.2275, Mean training accuracy: 0.7062\n",
            "2022-09-02 22:21:41,808 INFO     \n",
            "Mean validation accuracy: 0.6256\n",
            "INFO:__main__:\n",
            "Mean validation accuracy: 0.6256\n",
            "2022-09-02 22:21:41,816 INFO     \n",
            "Epoch: 5\n",
            "INFO:__main__:\n",
            "Epoch: 5\n",
            "2022-09-02 22:22:14,101 INFO     \n",
            "Mean training loss: 1.0343, Mean training accuracy: 0.7558\n",
            "INFO:__main__:\n",
            "Mean training loss: 1.0343, Mean training accuracy: 0.7558\n",
            "2022-09-02 22:22:15,181 INFO     \n",
            "Mean validation accuracy: 0.6791\n",
            "INFO:__main__:\n",
            "Mean validation accuracy: 0.6791\n",
            "2022-09-02 22:22:15,186 INFO     \n",
            "Epoch: 6\n",
            "INFO:__main__:\n",
            "Epoch: 6\n",
            "2022-09-02 22:22:47,747 INFO     \n",
            "Mean training loss: 0.9069, Mean training accuracy: 0.7910\n",
            "INFO:__main__:\n",
            "Mean training loss: 0.9069, Mean training accuracy: 0.7910\n",
            "2022-09-02 22:22:48,833 INFO     \n",
            "Mean validation accuracy: 0.6326\n",
            "INFO:__main__:\n",
            "Mean validation accuracy: 0.6326\n",
            "2022-09-02 22:22:48,841 INFO     \n",
            "Epoch: 7\n",
            "INFO:__main__:\n",
            "Epoch: 7\n",
            "2022-09-02 22:23:21,080 INFO     \n",
            "Mean training loss: 0.8387, Mean training accuracy: 0.8109\n",
            "INFO:__main__:\n",
            "Mean training loss: 0.8387, Mean training accuracy: 0.8109\n",
            "2022-09-02 22:23:22,164 INFO     \n",
            "Mean validation accuracy: 0.7628\n",
            "INFO:__main__:\n",
            "Mean validation accuracy: 0.7628\n",
            "2022-09-02 22:23:22,170 INFO     \n",
            "Epoch: 8\n",
            "INFO:__main__:\n",
            "Epoch: 8\n",
            "2022-09-02 22:23:54,899 INFO     \n",
            "Mean training loss: 0.7620, Mean training accuracy: 0.8282\n",
            "INFO:__main__:\n",
            "Mean training loss: 0.7620, Mean training accuracy: 0.8282\n",
            "2022-09-02 22:23:55,980 INFO     \n",
            "Mean validation accuracy: 0.7186\n",
            "INFO:__main__:\n",
            "Mean validation accuracy: 0.7186\n",
            "2022-09-02 22:23:55,985 INFO     \n",
            "Epoch: 9\n",
            "INFO:__main__:\n",
            "Epoch: 9\n",
            "2022-09-02 22:24:28,092 INFO     \n",
            "Mean training loss: 0.6832, Mean training accuracy: 0.8463\n",
            "INFO:__main__:\n",
            "Mean training loss: 0.6832, Mean training accuracy: 0.8463\n",
            "2022-09-02 22:24:29,158 INFO     \n",
            "Mean validation accuracy: 0.7302\n",
            "INFO:__main__:\n",
            "Mean validation accuracy: 0.7302\n"
          ]
        }
      ],
      "source": [
        "for epoch in range(1, epochs):\n",
        "    logger.info(f'\\nEpoch: {epoch}')\n",
        "    ### Shuffle the training dataset at every epoch\n",
        "    train_dataset = train_dataset.shuffle(buffer_size=len(train_dataset),\n",
        "                                          reshuffle_each_iteration=True\n",
        "    )\n",
        "    ### Perform stochastic gradient descent over training data\n",
        "    W_p, b_p, train_loss, train_acc = training_loop(\n",
        "                                        train_dataset=train_dataset, \n",
        "                                        n_classes=model_params['num_outputs'],\n",
        "                                        model=model, \n",
        "                                        W=W,\n",
        "                                        b=b,\n",
        "                                        activation_fn=model_params['activation_fn'],\n",
        "                                        loss_fn=model_params['loss_fn'],\n",
        "                                        optimizer=model_params['optimizer'],\n",
        "                                        accuracy_fn=model_params['accuracy_fn'],\n",
        "                                        learning_rate=model_params['learning_rate'],\n",
        "                                        batch_size=model_params['batch_size']\n",
        "    )\n",
        "    ### Update the model variables (weights and bias vectors)\n",
        "    W = W_p\n",
        "    b = b_p\n",
        "    ### Log the mean average loss and accuracy for this epoch\n",
        "    logger.info(f'\\nMean training loss: {train_loss.numpy():.4f}, ' +\n",
        "                f'Mean training accuracy: {train_acc.numpy():.4f}')\n",
        "    ### Compute validation set accuracy\n",
        "    val_acc = validation_loop(\n",
        "                    val_dataset=validation_dataset,\n",
        "                    model=model,\n",
        "                    activation_fn=model_params['activation_fn'],\n",
        "                    accuracy_fn=model_params['accuracy_fn'],\n",
        "                    W=W,\n",
        "                    b=b\n",
        "    )\n",
        "    logger.info(f'\\nMean validation accuracy: {val_acc.numpy():.4f}')"
      ]
    },
    {
      "cell_type": "code",
      "execution_count": 39,
      "id": "4037f289",
      "metadata": {
        "colab": {
          "base_uri": "https://localhost:8080/"
        },
        "id": "4037f289",
        "outputId": "b435d693-ae3b-4ddb-8b8c-c253ec6930af"
      },
      "outputs": [
        {
          "output_type": "execute_result",
          "data": {
            "text/plain": [
              "<tf.Variable 'Variable:0' shape=(3072, 43) dtype=float32, numpy=\n",
              "array([[-0.01348443, -0.00459828, -0.07959656, ...,  0.06948107,\n",
              "         0.06497594,  0.02983358],\n",
              "       [-0.0802526 ,  0.0281709 , -0.07897667, ...,  0.08562083,\n",
              "         0.07414605,  0.01387286],\n",
              "       [-0.05552332,  0.02675664, -0.13879323, ...,  0.02171775,\n",
              "         0.06568827, -0.00636112],\n",
              "       ...,\n",
              "       [-0.03458131, -0.0132026 , -0.05549318, ...,  0.13058414,\n",
              "        -0.04740554,  0.01115587],\n",
              "       [ 0.04093214, -0.00963793, -0.03248088, ...,  0.0237167 ,\n",
              "        -0.02559162,  0.01414892],\n",
              "       [ 0.0640122 ,  0.02379668, -0.066258  , ...,  0.00741978,\n",
              "        -0.05058673,  0.03705835]], dtype=float32)>"
            ]
          },
          "metadata": {},
          "execution_count": 39
        }
      ],
      "source": [
        "W"
      ]
    },
    {
      "cell_type": "code",
      "execution_count": 40,
      "id": "b97ccf5d",
      "metadata": {
        "colab": {
          "base_uri": "https://localhost:8080/"
        },
        "id": "b97ccf5d",
        "outputId": "ae151cbf-0030-4e8b-ae2b-66296402529e"
      },
      "outputs": [
        {
          "output_type": "execute_result",
          "data": {
            "text/plain": [
              "<tf.Variable 'Variable:0' shape=(43,) dtype=float32, numpy=\n",
              "array([-0.7094407 , -0.69064754, -0.27076718,  1.1311336 ,  0.11308893,\n",
              "        0.5706872 ,  1.1920692 ,  0.47380856,  1.3480103 , -0.4247941 ,\n",
              "        0.9331296 , -0.16221891,  0.05661929, -0.4246506 , -0.25494453,\n",
              "       -0.9528725 , -0.19269557,  0.16047926, -0.29737505,  0.63800913,\n",
              "        1.0798585 , -0.3944855 , -0.74535745, -0.2969304 ,  0.03772036,\n",
              "        0.02249377,  0.35235876, -0.2896895 , -0.26924777, -0.07792182,\n",
              "        0.35828167,  0.42926377, -0.33775988, -0.17784058, -0.5671689 ,\n",
              "       -0.5509569 , -0.30139792, -0.5078733 ,  0.1196115 , -0.1002054 ,\n",
              "       -0.32559314, -0.3285116 ,  0.6351143 ], dtype=float32)>"
            ]
          },
          "metadata": {},
          "execution_count": 40
        }
      ],
      "source": [
        "b"
      ]
    },
    {
      "cell_type": "markdown",
      "id": "01cddfd2",
      "metadata": {
        "id": "01cddfd2"
      },
      "source": [
        "## Details"
      ]
    },
    {
      "cell_type": "markdown",
      "id": "ca5ac154",
      "metadata": {
        "id": "ca5ac154"
      },
      "source": [
        "A training loop goes through element of the training dataset and uses it to update the model's weights.\n",
        "A validation loop goes through each element of the validation dataset and uses it to calculate\n",
        "the metrics (eg, accuracy). We call **epoch** an iteration of one training loop and one validation loop.\n",
        "\n",
        "The input to your model should be normalized. You can do this by dividing them by 255: `X /= 255`.\n",
        "\n",
        "You can run `python training.py` to train your first machine learning model!\n",
        "\n",
        "You will need to specify the `--imdir`, e.g. `--imdir GTSRB/Final_Training/Images/`, using the provided GTSRB dataset."
      ]
    },
    {
      "cell_type": "markdown",
      "id": "da82dcf5",
      "metadata": {
        "id": "da82dcf5"
      },
      "source": [
        "## Tips"
      ]
    },
    {
      "cell_type": "markdown",
      "id": "d7a3f9b4",
      "metadata": {
        "id": "d7a3f9b4"
      },
      "source": [
        "You don't need `tf.GradientTape` for the validation loop as you will not be updating gradients. \n",
        "\n",
        "The `assign_sub` Variable method will be useful to perform the weights update in the sgd optimizer.\n",
        "\n",
        "Use the `tf.one_hot` function to get the one vector from the ground truth label."
      ]
    },
    {
      "cell_type": "markdown",
      "id": "c660235f",
      "metadata": {
        "id": "c660235f"
      },
      "source": [
        "## Credits"
      ]
    },
    {
      "cell_type": "markdown",
      "id": "07c4c2e1",
      "metadata": {
        "id": "07c4c2e1"
      },
      "source": [
        "This assignment was prepared by Thomas Hossler and Michael Virgo et al., Winter 2021 (link [here](https://www.udacity.com/course/self-driving-car-engineer-nanodegree--nd0013)).\n",
        "\n",
        "References\n",
        "* [1] Parr, T., Howard, J. The Matrix Calculus You Need For Deep Learning. arXiv (2018). [doi:10.48550/arXiv.1802.01528](https://arxiv.org/abs/1802.01528).\n",
        "* [2] Stallkamp, J. et al. Man vs. computer: Benchmarking machine learning algorithms for traffic sign recognition. Neural Networks. 32:323-332. [doi:10.1016/j.neunet.2012.02.016](https://doi.org/10.1016/j.neunet.2012.02.016).\n",
        "\n",
        "Helpful resources:\n",
        "   * [An overview of gradient descent optimization algorithms | S. Ruder](https://ruder.io/optimizing-gradient-descent/)\n",
        "   * [The Matrix Calculus You Need for Deep Learning by T. Parr and J. Howard | explained.ai](https://arxiv.org/abs/1802.01528)\n",
        "   * [Derivative, Gradient and Jacobian | Deep Learning Wizard](https://www.deeplearningwizard.com/deep_learning/boosting_models_pytorch/derivative_gradient_jacobian/)\n",
        "   * [Learning Rate Schedules and Adaptive Learning Rate Methods for Deep Learning by S. Lau | Medium](https://towardsdatascience.com/learning-rate-schedules-and-adaptive-learning-rate-methods-for-deep-learning-2c8f433990d1)"
      ]
    }
  ],
  "metadata": {
    "kernelspec": {
      "display_name": "Python 3",
      "language": "python",
      "name": "python3"
    },
    "language_info": {
      "codemirror_mode": {
        "name": "ipython",
        "version": 3
      },
      "file_extension": ".py",
      "mimetype": "text/x-python",
      "name": "python",
      "nbconvert_exporter": "python",
      "pygments_lexer": "ipython3",
      "version": "3.8.13"
    },
    "toc": {
      "base_numbering": 1,
      "nav_menu": {},
      "number_sections": false,
      "sideBar": true,
      "skip_h1_title": false,
      "title_cell": "Table of Contents",
      "title_sidebar": "Contents",
      "toc_cell": false,
      "toc_position": {},
      "toc_section_display": true,
      "toc_window_display": true
    },
    "colab": {
      "provenance": [],
      "collapsed_sections": [
        "52dcd52e",
        "18509ff8",
        "abe07f6c",
        "e3b4b49d",
        "c4b21520"
      ]
    },
    "accelerator": "GPU",
    "gpuClass": "standard"
  },
  "nbformat": 4,
  "nbformat_minor": 5
}