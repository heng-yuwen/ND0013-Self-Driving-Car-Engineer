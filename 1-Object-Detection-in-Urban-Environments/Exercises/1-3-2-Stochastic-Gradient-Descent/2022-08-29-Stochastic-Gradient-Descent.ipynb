{
 "cells": [
  {
   "cell_type": "markdown",
   "id": "41f13c1a",
   "metadata": {},
   "source": [
    "# Exercise 1.3.2: Stochastic Gradient Descent\n",
    "#### By Jonathan L. Moran (jonathan.moran107@gmail.com)\n",
    "From the Self-Driving Car Engineer Nanodegree programme offered at Udacity."
   ]
  },
  {
   "cell_type": "markdown",
   "id": "24ec40be",
   "metadata": {},
   "source": [
    "## Objectives"
   ]
  },
  {
   "cell_type": "markdown",
   "id": "dca14290",
   "metadata": {},
   "source": [
    "* Create training and validation loops in TensorFlow using the custom functions built in [Exercise 1.3.1](https://github.com/jonathanloganmoran/ND0013-Self-Driving-Car-Engineer/blob/main/1-Object-Detection-in-Urban-Environments/Exercises/1-3-1-Logistic-Regression/2022-08-27-Logistic-Regression.ipynb);\n",
    "* Implement the logistic regression model using [stochastic gradient descent](https://en.wikipedia.org/wiki/Stochastic_gradient_descent);\n",
    "* Train the model on the [German Traffic Sign Recognition Benchmark](https://benchmark.ini.rub.de) dataset."
   ]
  },
  {
   "cell_type": "markdown",
   "id": "b4f4e8ab",
   "metadata": {},
   "source": [
    "## 1. Introduction"
   ]
  },
  {
   "cell_type": "code",
   "execution_count": 1,
   "id": "e0c9985c",
   "metadata": {},
   "outputs": [],
   "source": [
    "### Importing required modules"
   ]
  },
  {
   "cell_type": "code",
   "execution_count": 2,
   "id": "2482b893",
   "metadata": {},
   "outputs": [],
   "source": [
    "import logging\n",
    "import matplotlib.pyplot as plt\n",
    "from mpl_toolkits.axes_grid1 import ImageGrid\n",
    "import numpy as np\n",
    "import os\n",
    "import tensorflow as tf\n",
    "from typing import Callable, List"
   ]
  },
  {
   "cell_type": "code",
   "execution_count": 3,
   "id": "45c39348",
   "metadata": {},
   "outputs": [
    {
     "data": {
      "text/plain": [
       "'2.4.0'"
      ]
     },
     "execution_count": 3,
     "metadata": {},
     "output_type": "execute_result"
    }
   ],
   "source": [
    "tf.__version__"
   ]
  },
  {
   "cell_type": "code",
   "execution_count": 4,
   "id": "64d264e1",
   "metadata": {},
   "outputs": [],
   "source": [
    "### Setting environment variables"
   ]
  },
  {
   "cell_type": "code",
   "execution_count": 5,
   "id": "3f08d39f",
   "metadata": {},
   "outputs": [],
   "source": [
    "ENV_COLAB = False                # True if running in Google Colab instance"
   ]
  },
  {
   "cell_type": "code",
   "execution_count": 6,
   "id": "2c878b39",
   "metadata": {},
   "outputs": [],
   "source": [
    "# Root directory\n",
    "DIR_BASE = '' if not ENV_COLAB else '/content/'"
   ]
  },
  {
   "cell_type": "code",
   "execution_count": 7,
   "id": "7b1c7af2",
   "metadata": {},
   "outputs": [],
   "source": [
    "# Subdirectory to save output files\n",
    "DIR_OUT = os.path.join(DIR_BASE, 'out/')\n",
    "# Subdirectory pointing to input data\n",
    "DIR_SRC = os.path.join(DIR_BASE, 'data/')"
   ]
  },
  {
   "cell_type": "markdown",
   "id": "c0d8794a",
   "metadata": {},
   "source": [
    "### 1.1. Custom model functions"
   ]
  },
  {
   "cell_type": "markdown",
   "id": "4c62e686",
   "metadata": {},
   "source": [
    "We will wrap the cross-entropy loss and accuracy metric functions in a [`tf.keras.metrics.MeanMetricWrapper`](https://www.tensorflow.org/api_docs/python/tf/keras/metrics/MeanMetricWrapper) which is a quick way to build a custom metric function in TensorFlow. Since the `MeanMetricWrapper` expects a per-sample loss array as output, we will slightly modify our `cross_entropy` and `accuracy` functions from [Exercise 1.3.1](https://github.com/jonathanloganmoran/ND0013-Self-Driving-Car-Engineer/blob/main/1-Object-Detection-in-Urban-Environments/Exercises/1-3-1-Logistic-Regression/2022-08-27-Logistic-Regression.ipynb)."
   ]
  },
  {
   "cell_type": "markdown",
   "id": "b73f2f33",
   "metadata": {},
   "source": [
    "#### Softmax activation function"
   ]
  },
  {
   "cell_type": "markdown",
   "id": "2b160176",
   "metadata": {},
   "source": [
    "This [softmax](https://en.wikipedia.org/wiki/Softmax_function) activation function is a generalisation of the sigmoid [logistic function](https://en.wikipedia.org/wiki/Logistic_function) to multiple dimensions. The softmax function computes the discrete probability distribution over all classes for each observation in the training step."
   ]
  },
  {
   "cell_type": "markdown",
   "id": "5f8b23ec",
   "metadata": {},
   "source": [
    "#### Cross-entropy loss function"
   ]
  },
  {
   "cell_type": "markdown",
   "id": "427114ae",
   "metadata": {},
   "source": [
    "The [cross-entropy](https://en.wikipedia.org/wiki/Cross_entropy#Cross-entropy_loss_function_and_logistic_regression) loss function serves as measure of dissimilarity between the maximum likelihood estimate (the class label prediction) and the corresponding ground truth class label. We will use cross-entropy loss as a cost function to minimise over all data points in our training set."
   ]
  },
  {
   "cell_type": "markdown",
   "id": "39f5d814",
   "metadata": {},
   "source": [
    "#### Accuracy scoring metric function"
   ]
  },
  {
   "cell_type": "markdown",
   "id": "e3122ee3",
   "metadata": {},
   "source": [
    "The average number of true class predictions over the total number of predicted class labels. For a single prediction, this value is either $1$ (correct) or $0$ (incorrect)."
   ]
  },
  {
   "cell_type": "markdown",
   "id": "f68ec536",
   "metadata": {},
   "source": [
    "### 1.2. Modelling with TensorFlow"
   ]
  },
  {
   "cell_type": "markdown",
   "id": "a12d0456",
   "metadata": {},
   "source": [
    "In this section we will build and prepare the [logistic regression](https://en.wikipedia.org/wiki/Logistic_regression) model for training and evaluation."
   ]
  },
  {
   "cell_type": "markdown",
   "id": "3e907729",
   "metadata": {},
   "source": [
    "#### Stochastic Gradient Descent algorithm"
   ]
  },
  {
   "cell_type": "markdown",
   "id": "8770c427",
   "metadata": {},
   "source": [
    "The logistic regression solver we have selected for this assignment is called [_stochastic gradient descent_](https://en.wikipedia.org/wiki/Stochastic_gradient_descent) (SGD). Stochastic gradient descent is used as an iterative optimisation technique for solving the [maximum likelihood estimation](https://en.wikipedia.org/wiki/Maximum_likelihood_estimation) problem when a closed-form solution does not exist (as in logistic regression). In essence, SGD iteratively estimates the parameters of a discrete probability distribution given a set of input observations. _Stochastic_ here implies that a batch size of $1$ is used. That is, on every weight update step only a single training example is used to compute the gradients. This differs from _batch_ or _mini-batch_ gradient descent, which use the full, or subset of the full datasets, on each update step.\n",
    "\n",
    "The `sgd` function loops over all weight values in vector $\\mathrm{w}$ and subtracts the gradient computation from each value $w_{i}$, performing a gradient _descent_ towards the function minima. Here we perform the _stochastic_ approach with `grad` computed on a per-sample basis. With this assumption we will not need to normalise the gradient update with respect to the number of training samples. This yields a gradient computed from the evaluated loss function (a constant value $C$) with respect to the model weights $\\mathrm{w}$:\n",
    "$$\n",
    "\\begin{align}\n",
    "    \\frac{\\partial C}{\\partial\\mathrm{w}} = \\frac{2}{N}\\sum_{i=1}^{N}\\left(\\mathrm{w}\\cdot \\mathrm{x}_{i} + b - y_{i}\\right)\\mathrm{x}_{i}^{\\top}.\n",
    "\\end{align}\n",
    "$$\n",
    "\n",
    "Assuming a batch size equal to one training sample, $N = \\vert \\mathrm{X} \\vert = 1$. The worked out derivation of the gradient and an accompanying explanation in much greater detail can be read in Terence Parr's explained.ai article [here](https://explained.ai/matrix-calculus/#sec:1.6.1) [1].\n",
    "\n",
    "Note that in our implementation of the weight update function we will be combining $\\mathrm{w}$ and $b$ into a single vector parameter  $\\hat{\\mathrm{w}} = \\left[\\mathrm{w}^{\\top}, b\\right]^{\\top}$. By tacking a $1$ onto the end of our feature vector $\\mathrm{x}$ we have $\\hat{x} = \\left[\\mathrm{x}^{\\top}, 1\\right]$ such that the function $z = \\mathrm{x} \\cdot \\mathrm{w} + b$ becomes $z = \\hat{\\mathrm{x}}\\cdot \\hat{\\mathrm{w}}$. More on this approach regarding computing the derivative with respect to the bias term be read [here](https://explained.ai/matrix-calculus/#sec:1.6.2)."
   ]
  },
  {
   "cell_type": "markdown",
   "id": "acad5091",
   "metadata": {},
   "source": [
    "In summary, the stochastic gradient descent algorithm can be boiled down to a set of four steps:\n",
    "1. Compute the gradient of the function (finding the slope of the objective function w.r.t. each parameter/feature);\n",
    "2. Calculate the step size for each feature (product of learning rate and partial derivatives);\n",
    "3. \"Move\" the parameter vector values (the weights) in the direction of the steepest descent (subtract the step size from the weights);\n",
    "4. Repeat steps 1-3 until converged (such that the gradient becomes sufficiently close to zero)."
   ]
  },
  {
   "cell_type": "markdown",
   "id": "1251c950",
   "metadata": {},
   "source": [
    "#### Logistic Regression model"
   ]
  },
  {
   "cell_type": "markdown",
   "id": "e398fa44",
   "metadata": {},
   "source": [
    "Logistic regression is a simple [linear model](https://en.wikipedia.org/wiki/Linear_model) for classification that attempts to fit a mapping between input data $X$ and output labels $y$. To do so, a linear function $y = m*x + b$ is approximated such that two variables $m$ and $b$ minimise the loss. For a linear model such as this, our $m$ variable represents a vector of _weights_ (denoted $\\mathrm{W}$) and our $b$ variable represents our _bias_ term. The loss (error) we are attempting to minimise is computed with an off-the-shelf [cross-entropy loss](https://en.wikipedia.org/wiki/Cross_entropy#Cross-entropy_loss_function_and_logistic_regression) function (commonly referred to as _log loss_). This function produces a loss value which essentially measures the difference between the predicted and true outcome variables."
   ]
  },
  {
   "cell_type": "markdown",
   "id": "2ac65f79",
   "metadata": {},
   "source": [
    "### 1.3. Training and validation"
   ]
  },
  {
   "cell_type": "markdown",
   "id": "a02278da",
   "metadata": {},
   "source": [
    "By utilising several TensorFlow Functional APIs we can perform custom training and validation loops."
   ]
  },
  {
   "cell_type": "markdown",
   "id": "fb21b9f6",
   "metadata": {},
   "source": [
    "**Training loop**:\n",
    "1. Iterate over training dataset sample-by-sample;\n",
    "2. Perform the forward pass of the model on each sample:\n",
    "    * Scale each image data array to values between 0 and 1;\n",
    "    * Compute the maximum likelihood estimate;\n",
    "    * Calculate the cross-entropy loss (i.e., measure prediction error);\n",
    "    * Obtain the gradient with respect to model weight vectors;\n",
    "    * Update the weight vectors by subtracting the gradient (stochastic gradient descent);\n",
    "    * Calculate the prediction accuracy;\n",
    "3. Return the mean average loss and accuracy metrics.\n",
    "\n",
    "\n",
    "**Validation loop**:\n",
    "1. Iterate over the validation dataset sample-by-sample;\n",
    "    * Scale each image data array to values between 0 and 1;\n",
    "    * Compute the maximum likelihood estimate (i.e., making a prediction);\n",
    "    * Calculate the prediction accuracy;\n",
    "2. Return the mean average accuracy metric."
   ]
  },
  {
   "cell_type": "markdown",
   "id": "771bb7bf",
   "metadata": {},
   "source": [
    "In our `training_loop()` method we will implement the [`tf.GradientTape`](https://www.tensorflow.org/api_docs/python/tf/GradientTape) tool for performing [automatic differentiation](https://en.wikipedia.org/wiki/Automatic_differentiation) (_autodiff_). TensorFlow's `GradientTape` API uses a reverse-order traversal of operations in the forward and backward passes of a model in order to differentiate a desired function. This is known as _reverse mode differentiation_ and is a more-optimal technique over [symbolic differentiation](https://en.wikipedia.org/wiki/Symbolic_differentiation) and [numerical differentiation](https://en.wikipedia.org/wiki/Numerical_differentiation) for computing the partial derivatives of a function with respect to many inputs.\n",
    "\n",
    "Here our `GradientTape` routine will calculate the gradient of the loss with respect to the model variables after a forward pass of the model has been run. Once a maximum likelihood estimate has been worked out for an observation $x_{i}$ given its true class label $y = j$ with respect to the weight $w_{j}$, that is,\n",
    "\n",
    "$$\n",
    "\\begin{align}\n",
    "    P\\left(y = j \\vert z_{i} = x_{i}; w_{j} \\right) &= \\phi_{softmax}\\left(z_{i}\\right),\n",
    "\\end{align}\n",
    "$$\n",
    "\n",
    "where the input $z_{i}$ is defined to be\n",
    "$$\n",
    "\\begin{align}\n",
    "    z_{i} = w_{i}x_{i} \n",
    "\\end{align}\n",
    "$$\n",
    "\n",
    "such that $w$ is the model weight vector and $x_{i}$ is the feature vector belonging to the single training observation. \n",
    "\n",
    "The gradients computed with `GradientTape` for the cross-entropy loss\n",
    "$$\n",
    "\\begin{align}\n",
    "    loss\\left(x_{i}, y; w_{i}\\right) = H\\left(y, \\hat{y}\\right)\n",
    "\\end{align}\n",
    "$$\n",
    "\n",
    "for a one-hot encoded true class label vector $y$ and the corresponding predicted probability distribution $\\hat{y}$ are with respect to the model weight and bias parameters $w$ and $b$.\n",
    "\n",
    "In stochastic gradient descent, these iterative gradient computations are subtracted from the weight vector on a per-sample basis. An unbiased estimate of the _true_ gradient (i.e., gradient computed over the full dataset) using only a single observation can be achieved when sampling the observation uniformly at random over the entire dataset."
   ]
  },
  {
   "cell_type": "markdown",
   "id": "ff35a7b8",
   "metadata": {},
   "source": [
    "Note that the resulting gradient computed by `tf.GradientTape` is in the generalised [Jacobian matrix](https://en.wikipedia.org/wiki/Jacobian_matrix_and_determinant) form."
   ]
  },
  {
   "cell_type": "markdown",
   "id": "c6ae1089",
   "metadata": {},
   "source": [
    "### 1.4. German Traffic Sign Recognition Benchmark (GTSRB) dataset"
   ]
  },
  {
   "cell_type": "markdown",
   "id": "fc3a49fb",
   "metadata": {},
   "source": [
    "The German Traffic Sign Recognition Benchmark is a multi-class, single-image classification challenge created by J. Stallkamp et al. (2012) at the [Institut für Neuroinformatik](https://benchmark.ini.rub.de/gtsrb_news.html) [2]. In this dataset there exists over 50.000 unique images of more than 40 distinct classes of traffic signs. \n",
    "\n",
    "Each image has been reliably annotated with the following information:\n",
    "* **Filename**: filename of the corresponding image;\n",
    "* **Width**: width of the image;\n",
    "* **Height**: height of the image;\n",
    "* **ROI.x1**: x-coordinate of top-left corner of traffic sign bounding box;\n",
    "* **ROI.y1**: y-coordinate of the top-left corner of traffic sign bounding box;\n",
    "* **ROI.x2**: x-coordinate of bottom-right corner of traffic sign bounding box;\n",
    "* **ROI.y2**: y-coordinate of the bottom-right corner of traffic sign bounding box; \n",
    "* **ClassId**: assigned class label.\n",
    "\n",
    "In addition to the CSV-formatted annotations, the following information about the images is provided:\n",
    "* Images contain one traffic sign each;\n",
    "* Images contain a border of 10% around the actual traffic sign (at least 5 pixels) to allow for edge-based approaches;\n",
    "* Images are stored in PPM format ([Portable Pixmap, P6](http://en.wikipedia.org/wiki/Netpbm_format));\n",
    "* Image sizes vary between 15x15 to 250x250 pixels;\n",
    "* Images are not necessarily squared;\n",
    "* The actual traffic sign is not necessarily centred within the image. This is true for images that were close to the image border in the full camera image;\n",
    "* The bounding box of the traffic sign is part of the annotations.\n",
    "\n",
    "Lastly, several pre-calculated feature sets are provided. Namely, _Histogram of Oriented Gradients_ (HOG) features, _Haar-like_ features (5 distinct Haar-like features), and _hue histograms_ (256-bin HSV colour space).\n",
    "\n",
    "This dataset presents unique real-world challenges within object recognition by providing traffic sign images captured in a variety of lighting/illumination conditions and images that have distortions (e.g., blurring, pixelation) as well as differences in shape, size, etc.\n",
    "\n",
    "For more information on the GTSRB dataset, see [here](https://benchmark.ini.rub.de/gtsrb_dataset.html). "
   ]
  },
  {
   "cell_type": "markdown",
   "id": "1ec31b1b",
   "metadata": {},
   "source": [
    "## 2. Programming Task"
   ]
  },
  {
   "cell_type": "markdown",
   "id": "c81a10d2",
   "metadata": {},
   "source": [
    "### 2.1. Custom model functions"
   ]
  },
  {
   "cell_type": "markdown",
   "id": "b9c0666f",
   "metadata": {},
   "source": [
    "The following functions from [Exercise 1.3.1](https://github.com/jonathanloganmoran/ND0013-Self-Driving-Car-Engineer/blob/main/1-Object-Detection-in-Urban-Environments/Exercises/1-3-1-Logistic-Regression/2022-08-27-Logistic-Regression.ipynb) have been slightly modified to work on a single input observation."
   ]
  },
  {
   "cell_type": "markdown",
   "id": "3a9e2d64",
   "metadata": {},
   "source": [
    "#### Softmax activation function"
   ]
  },
  {
   "cell_type": "code",
   "execution_count": 8,
   "id": "4b5aa5f8",
   "metadata": {},
   "outputs": [],
   "source": [
    "### From J. Moran's `2022-08-27-Logistic-Regression.ipynb`"
   ]
  },
  {
   "cell_type": "code",
   "execution_count": 9,
   "id": "041d7fd7",
   "metadata": {},
   "outputs": [],
   "source": [
    "def softmax(logits: tf.Tensor, stable: bool=False) -> tf.Tensor:\n",
    "    \"\"\"Returns the softmax probability distribution.\n",
    "    \n",
    "    :param logits: a 1xN tf.Tensor of logits.\n",
    "    :param stable: optional, flag indicating whether\n",
    "        or not to normalise the input data.\n",
    "    returns: soft_logits, a 1xN tf.Tensor of real \n",
    "        values in range (0,1) that sum up to 1.0.\n",
    "    \"\"\"\n",
    "    \n",
    "    assert isinstance(logits, tf.Tensor)\n",
    "    if stable:\n",
    "        logits = tf.subtract(logits, tf.reduce_max(logits))\n",
    "    soft_logits = tf.math.exp(logits)\n",
    "    soft_logits /= tf.math.reduce_sum(soft_logits)\n",
    "    return soft_logits"
   ]
  },
  {
   "cell_type": "markdown",
   "id": "823557fe",
   "metadata": {},
   "source": [
    "#### Cross-entropy loss function"
   ]
  },
  {
   "cell_type": "code",
   "execution_count": 10,
   "id": "4fa1ad79",
   "metadata": {},
   "outputs": [],
   "source": [
    "def cross_entropy(y_true: tf.Tensor, y_pred: tf.Tensor) -> tf.Tensor:\n",
    "    \"\"\"Returns the per-sample cross-entropy loss.\n",
    "    \n",
    "    :param y_true: a 1xC tf.Tensor, the ground truth class label\n",
    "        as a one-hot encoded vector of length C (num of total classes).\n",
    "    :param y_pred: a 1xC tf.Tensor, the predicted per-class probabilities.\n",
    "    :returns: a 1x1 tf.Tensor, the categorical cross-entropy loss value\n",
    "        for a single observation and its ground truth label.\n",
    "    \"\"\"\n",
    "    \n",
    "    # Pick the probability value from the distribution\n",
    "    # that corresponds to the true class label\n",
    "    preds = tf.boolean_mask(y_pred, mask=y_true)\n",
    "    # Taking the negative log-likelihood\n",
    "    neg_log_likelihood = -tf.math.log(preds)\n",
    "    # Here we return the categorical cross-entropy loss\n",
    "    # value for a single observation (no need to normalise)\n",
    "    return tf.reduce_sum(neg_log_likelihood)"
   ]
  },
  {
   "cell_type": "markdown",
   "id": "8eaf6a62",
   "metadata": {},
   "source": [
    "#### Accuracy scoring metric function"
   ]
  },
  {
   "cell_type": "code",
   "execution_count": 11,
   "id": "84c16638",
   "metadata": {},
   "outputs": [],
   "source": [
    "def accuracy(y_true: tf.Tensor, y_pred: tf.Tensor) -> tf.Tensor:\n",
    "    \"\"\"Evaluates a single prediction against the ground truth.\n",
    "\n",
    "    :param y_true: a 1x1 scalar tf.Tensor, the ground truth class label\n",
    "        (not one-hot encoded).\n",
    "    :param y_pred: a 1x1 scalar tf.Tensor, the predicted class label.\n",
    "    returns: acc, a 1x1 scalar tf.Tensor object, 1.0 if correct else 0.0.\n",
    "    \"\"\"\n",
    "\n",
    "    return tf.cast(tf.math.equal(y_true, y_pred), dtype=tf.int32)"
   ]
  },
  {
   "cell_type": "markdown",
   "id": "881a6523",
   "metadata": {},
   "source": [
    "### 2.2. Modelling with TensorFlow"
   ]
  },
  {
   "cell_type": "markdown",
   "id": "e3b3994e",
   "metadata": {},
   "source": [
    "#### Stochastic Gradient Descent algorithm"
   ]
  },
  {
   "cell_type": "code",
   "execution_count": 12,
   "id": "93bd4b75",
   "metadata": {},
   "outputs": [],
   "source": [
    "### From Udacity's `training.py`"
   ]
  },
  {
   "cell_type": "code",
   "execution_count": 13,
   "id": "99a9563b",
   "metadata": {},
   "outputs": [],
   "source": [
    "def sgd(params: List[tf.Variable], grads: List[tf.Variable],\n",
    "        learning_rate: float, batch_size: int=1):\n",
    "    \"\"\"Performs the stochastic gradient descent update step.\n",
    "    \n",
    "    :param params: tf.Variable-like, the model parameters (weight and bias vectors).\n",
    "    :param grads: tf.Variable, the computed gradients w.r.t. weight and bias vectors.\n",
    "    :param learning_rate: the learning rate, i.e., value to scale the gradient update.\n",
    "    :param batch_size: the number of samples factored into this gradient computation.\n",
    "    :returns params: the updated model weight and bias tensor-like vectors.\n",
    "    \"\"\"\n",
    "    # IMPLEMENT THIS FUNCTION\n",
    "    \n",
    "    # Consistent with stochastic gradient descent\n",
    "    assert batch_size == 1\n",
    "    for param, grad in zip(params, grads):\n",
    "        param.assign_sub(learning_rate * grad / batch_size)\n",
    "    return params"
   ]
  },
  {
   "cell_type": "markdown",
   "id": "7ffb8b55",
   "metadata": {},
   "source": [
    "#### Logistic Regression model"
   ]
  },
  {
   "cell_type": "code",
   "execution_count": 14,
   "id": "ce67008f",
   "metadata": {},
   "outputs": [],
   "source": [
    "### From J. Moran's `2022-08-27-Logistic-Regression.ipynb`"
   ]
  },
  {
   "cell_type": "code",
   "execution_count": 15,
   "id": "4665f2c6",
   "metadata": {},
   "outputs": [],
   "source": [
    "def model(X: tf.Tensor, W: tf.Variable, b: tf.Variable, \n",
    "          activation_fn: Callable[[tf.Tensor], tf.Tensor]) -> tf.Tensor:\n",
    "    \"\"\"Performs the forward step of the logistic regression model.\n",
    "    \n",
    "    SGD fits a linear model to the input data and target labels.\n",
    "    Here we assume a logistic regression implementation with a\n",
    "    softmax activation function and categorical cross-entropy loss.\n",
    "    \n",
    "    :param X: tf.Tensor object, a training observation\n",
    "        i.e., a single HxWx3 RGB image.\n",
    "    :param W: tf.Tensor object, the weight vector.\n",
    "    :param b: the bias term, tf.Tensor-like object.\n",
    "    :param activation_fn: a callable function which performs the softmax\n",
    "        activation function and returns a probability distribution.\n",
    "    returns: tf.Tensor, the softmax probability distribution.\n",
    "    \"\"\"\n",
    "\n",
    "    # Compute the product between flattened input and weight vectors\n",
    "    Z = tf.matmul(tf.reshape(X, shape=(-1, W.shape[0])), W)\n",
    "    # Add the bias term\n",
    "    Z += b\n",
    "    # Return the softmax probabilities P\n",
    "    return activation_fn(Z)"
   ]
  },
  {
   "cell_type": "markdown",
   "id": "27c839ff",
   "metadata": {},
   "source": [
    "### 2.3. Training and validation loops"
   ]
  },
  {
   "cell_type": "markdown",
   "id": "3d73b799",
   "metadata": {},
   "source": [
    "#### Custom training loop"
   ]
  },
  {
   "cell_type": "code",
   "execution_count": 16,
   "id": "b452c7b8",
   "metadata": {},
   "outputs": [],
   "source": [
    "def training_loop(\n",
    "        train_dataset: tf.data.Dataset,\n",
    "        n_classes: int,\n",
    "        model: Callable[[tf.Tensor, tf.Variable, tf.Variable], tf.Tensor],\n",
    "        W: tf.Variable, \n",
    "        b: tf.Variable,\n",
    "        activation_fn: Callable[[tf.Tensor], tf.Tensor],\n",
    "        loss_fn: Callable[[tf.Tensor, tf.Tensor], tf.Tensor], \n",
    "        optimizer: Callable[[List[tf.Variable], List[tf.Variable], float, int], \n",
    "                            List[tf.Variable]],\n",
    "        accuracy_fn: Callable[[tf.Tensor, tf.Tensor], tf.Tensor],\n",
    "        learning_rate: float=1e-1,\n",
    "        batch_size: int=1) -> (tf.Variable, tf.Variable, tf.Tensor, tf.Tensor):\n",
    "    \"\"\"Performs a training loop over the input data.\n",
    "    \n",
    "    The logistic regression model training loop with stochastic\n",
    "    gradient descent optimisation. SGD is an iterative optimisation \n",
    "    algorithm using the negative log-likelihood (cross-entropy) as\n",
    "    a cost function to minimise.\n",
    "    \n",
    "    :param train_dataset: tf.data.Dataset, collection of tensor-like objects\n",
    "        encapsulating the underlying structure of the training data.\n",
    "    :param n_classes: int, the number of distinct classes in the dataset. \n",
    "    :param model: a callable function which computes the forward step of the\n",
    "        logistic regression model.\n",
    "    :param W: tf.Variable, a tensor-like vector of model weight values.\n",
    "    :param b: tf.Variable, a tensor-like object with model bias value.\n",
    "    :param activation_fn: a callable function which performs the softmax\n",
    "        activation function and returns a probability distribution.\n",
    "    :param loss_fn: a callable function which computes the cross-entropy loss for\n",
    "        a single observation (returns the negative log-likelihood scalar value).\n",
    "    :param optimizer: a callable function which performs the stochastic gradient\n",
    "        descent weight update step.\n",
    "    :param accuracy_fn: a callable function which computes the average\n",
    "        classification accuracy.\n",
    "    :param learning_rate: float, the learning rate hyperparameter to use.\n",
    "    :param batch_size: int, the batch size indicating the number of training\n",
    "        samples to process (should be 1 for stochastic gradient descent).\n",
    "    :returns: tuple, updated weight and bias tensors and two training metrics.\n",
    "    \"\"\"\n",
    "    \n",
    "    # Get number of training samples in dataset\n",
    "    n_samples = len(train_dataset)\n",
    "    # Consistent with SGD implementation\n",
    "    assert batch_size == 1\n",
    "    # Store the per-sample metrics\n",
    "    accuracies = []\n",
    "    losses = []\n",
    "    # Step counter (to be later used with LR schedule)\n",
    "    t_step = 0\n",
    "    for X_train, y_train in train_dataset:\n",
    "        with tf.GradientTape() as tape:\n",
    "            # IMPLEMENT THIS FUNCTION\n",
    "\n",
    "            # Scaling the input RGB image data\n",
    "            X_train /= 255.0\n",
    "            # Perform the forward pass\n",
    "            y_hat = model(X_train, W, b, activation_fn)\n",
    "            # One-hot encode the true class label\n",
    "            y_one_hot = tf.one_hot(y_train, n_classes)\n",
    "            # Calculate the per-sample cross-entropy loss value\n",
    "            neg_log_likelihood = loss_fn(y_one_hot, y_hat)\n",
    "            # Should be scalar value for SGD\n",
    "            assert neg_log_likelihood.shape == tf.TensorShape([])\n",
    "            losses.append(neg_log_likelihood)\n",
    "        # Compute the per-sample gradients w.r.t. model weights/feature vector\n",
    "        # Here our gradient vector is a generalised Jacobian matrix\n",
    "        grads = tape.gradient(neg_log_likelihood, [W, b])\n",
    "        # Get the new model weight values updated with stochastic gradient descent\n",
    "        # TODO: consider using a learning rate schedule\n",
    "        W_p, b_p = optimizer([W, b], grads, learning_rate, batch_size)\n",
    "        # Update the model weights\n",
    "        W, b = W_p, b_p\n",
    "        # Get the class label with the highest predicted probability\n",
    "        y_pred = tf.cast(tf.math.argmax(y_hat, axis=1), dtype=tf.int32)\n",
    "        # Calculate the accuracy of this prediction\n",
    "        pred_acc = accuracy_fn(y_train, y_pred)\n",
    "        accuracies.append(pred_acc)\n",
    "        # Increment the step counter\n",
    "        t_step += 1\n",
    "    # Compute the mean average accuracy and cross-entropy loss for this epoch\n",
    "    mean_acc = tf.math.reduce_mean(tf.concat(accuracies, axis=0))\n",
    "    mean_loss = tf.math.reduce_mean(losses)\n",
    "    # Return the updated weight and bias vectors and metrics from ths epoch\n",
    "    return W, b, mean_loss, mean_acc"
   ]
  },
  {
   "cell_type": "markdown",
   "id": "93f4dcf8",
   "metadata": {},
   "source": [
    "#### Custom validation loop"
   ]
  },
  {
   "cell_type": "code",
   "execution_count": 17,
   "id": "8b484a23",
   "metadata": {},
   "outputs": [],
   "source": [
    "def validation_loop(\n",
    "        val_dataset: tf.data.Dataset, \n",
    "        model: Callable[[tf.Tensor, tf.Variable, tf.Variable], tf.Tensor],\n",
    "        activation_fn: Callable[[tf.Tensor, tf.Tensor], tf.Tensor],\n",
    "        accuracy_fn: Callable[[tf.Tensor, tf.Tensor], tf.Tensor], \n",
    "        W: tf.Tensor, \n",
    "        b: tf.Tensor) -> tf.Tensor:\n",
    "    \"\"\"Performs a validation loop over the input data.\n",
    "    \n",
    "    Average classification accuracy is computed across samples as the\n",
    "    number of true predictions over the total number of predictions made.\n",
    "    \n",
    "    :param val_dataset: tf.data.Dataset, the set of all validation observations.\n",
    "    :param model: a callable function which computes the forward step of the\n",
    "        logistic regression model.\n",
    "    :param activation_fn: a callable function which performs the softmax\n",
    "        activation function and returns a probability distribution.\n",
    "    :param accuracy_fn: a callable function which computes the average\n",
    "        classification accuracy.\n",
    "    :param W: tf.Variable, a tensor-like vector of trained model weight values.\n",
    "    :param b: tf.Variable, a tensor-like object of trained model bias values.\n",
    "    returns: tf.Tensor, average classification accuracy on validation dataset.\n",
    "    \"\"\"\n",
    "    # IMPLEMENT THIS FUNCTION\n",
    "    \n",
    "    accuracies = []\n",
    "    for X_val, y_val in val_dataset:\n",
    "        # Scaling the input RGB image data\n",
    "        X_val /= 255.0\n",
    "        # Perform the forward pass with trained parameters\n",
    "        y_hat = model(X_val, W, b, activation_fn)\n",
    "        # Get the class label with the highest predicted probability\n",
    "        y_pred = tf.cast(tf.math.argmax(y_hat, axis=1), dtype=tf.int32)\n",
    "        # Calculate the per-sample classification accuracy\n",
    "        acc = accuracy_fn(y_val, y_pred)\n",
    "        accuracies.append(acc)\n",
    "    mean_acc = tf.math.reduce_mean(tf.concat(accuracies, axis=0))\n",
    "    return mean_acc"
   ]
  },
  {
   "cell_type": "markdown",
   "id": "d35eba8b",
   "metadata": {},
   "source": [
    "### 2.4. Evaluation on the GTSRB dataset"
   ]
  },
  {
   "cell_type": "markdown",
   "id": "a6c271d4",
   "metadata": {},
   "source": [
    "#### Considerations for our input data"
   ]
  },
  {
   "cell_type": "code",
   "execution_count": 18,
   "id": "23b47543",
   "metadata": {},
   "outputs": [],
   "source": [
    "### Defining our input image specs"
   ]
  },
  {
   "cell_type": "code",
   "execution_count": 19,
   "id": "c9464067",
   "metadata": {},
   "outputs": [],
   "source": [
    "image_size = (32, 32)          # Each RGB image has 32x32 px resolution\n",
    "n_features = (32 * 32) * 3     # Each pixel value is considered an attribute (feature)\n",
    "batch_size = 1                 # Using batch size of 1 for stochastic gradient descent"
   ]
  },
  {
   "cell_type": "markdown",
   "id": "dd66714e",
   "metadata": {},
   "source": [
    "The following `get_datasets()` method returns a tuple of [`tf.data.Dataset`](https://www.tensorflow.org/api_docs/python/tf/data/Dataset) instances containing the training and validation datasets, respectively."
   ]
  },
  {
   "cell_type": "code",
   "execution_count": 20,
   "id": "66f7f8a2",
   "metadata": {},
   "outputs": [],
   "source": [
    "### From Udacity's `dataset.py`"
   ]
  },
  {
   "cell_type": "code",
   "execution_count": 21,
   "id": "d147868b",
   "metadata": {},
   "outputs": [],
   "source": [
    "def get_datasets(imdir: str) -> tuple:\n",
    "    \"\"\"Return the training and validation datasets.\n",
    "    \n",
    "    :param imdir: absolute path to the directory where the data is stored in.\n",
    "    :returns: (train_dataset, validation_dataset), tuple of tf.data.Dataset instances.\n",
    "    \"\"\"\n",
    "    \n",
    "    train_dataset = tf.keras.preprocessing.image_dataset_from_directory(\n",
    "                        imdir,\n",
    "                        labels='inferred',\n",
    "                        label_mode='int',\n",
    "                        color_mode='rgb',\n",
    "                        batch_size=batch_size,\n",
    "                        image_size=image_size,\n",
    "                        shuffle=True,\n",
    "                        seed=123,\n",
    "                        validation_split=0.1,\n",
    "                        subset='training',\n",
    "    )\n",
    "    validation_dataset = tf.keras.preprocessing.image_dataset_from_directory(\n",
    "                        imdir,\n",
    "                        labels='inferred',\n",
    "                        label_mode='int',\n",
    "                        color_mode='rgb',\n",
    "                        batch_size=batch_size,\n",
    "                        image_size=image_size,\n",
    "                        shuffle=True,\n",
    "                        seed=123,\n",
    "                        validation_split=0.1,\n",
    "                        subset='validation',\n",
    "    )\n",
    "    return train_dataset, validation_dataset"
   ]
  },
  {
   "cell_type": "code",
   "execution_count": 22,
   "id": "e3917e61",
   "metadata": {},
   "outputs": [],
   "source": [
    "### Getting the training and validation data"
   ]
  },
  {
   "cell_type": "code",
   "execution_count": 23,
   "id": "06dec6e9",
   "metadata": {},
   "outputs": [],
   "source": [
    "imdir = os.path.join(DIR_SRC, 'GTSRB/Final_Training/Images')"
   ]
  },
  {
   "cell_type": "code",
   "execution_count": 24,
   "id": "bb8a7016",
   "metadata": {},
   "outputs": [
    {
     "name": "stdout",
     "output_type": "stream",
     "text": [
      "Found 4300 files belonging to 43 classes.\n",
      "Using 3870 files for training.\n"
     ]
    },
    {
     "name": "stderr",
     "output_type": "stream",
     "text": [
      "2022-09-02 13:55:16.659858: I tensorflow/core/platform/cpu_feature_guard.cc:142] This TensorFlow binary is optimized with oneAPI Deep Neural Network Library (oneDNN) to use the following CPU instructions in performance-critical operations:  SSE4.1 SSE4.2 AVX AVX2 FMA\n",
      "To enable them in other operations, rebuild TensorFlow with the appropriate compiler flags.\n"
     ]
    },
    {
     "name": "stdout",
     "output_type": "stream",
     "text": [
      "Found 4300 files belonging to 43 classes.\n",
      "Using 430 files for validation.\n"
     ]
    }
   ],
   "source": [
    "train_dataset, validation_dataset = get_datasets(imdir)"
   ]
  },
  {
   "cell_type": "code",
   "execution_count": 25,
   "id": "7ed12653",
   "metadata": {},
   "outputs": [],
   "source": [
    "### Plotting fifteen images and their class labels"
   ]
  },
  {
   "cell_type": "code",
   "execution_count": 26,
   "id": "75be8488",
   "metadata": {},
   "outputs": [
    {
     "name": "stderr",
     "output_type": "stream",
     "text": [
      "2022-09-02 13:55:18.081171: I tensorflow/compiler/mlir/mlir_graph_optimization_pass.cc:116] None of the MLIR optimization passes are enabled (registered 2)\n"
     ]
    },
    {
     "data": {
      "image/png": "[encoded data removed]",
      "text/plain": [
       "<Figure size 1728x1728 with 30 Axes>"
      ]
     },
     "metadata": {
      "needs_background": "light"
     },
     "output_type": "display_data"
    }
   ],
   "source": [
    "train_iter = iter(train_dataset)\n",
    "fig = plt.figure(figsize=(24,24))\n",
    "grid = ImageGrid(fig, 111, nrows_ncols=(3, 5), axes_pad=0.5)\n",
    "### Plotting images in dataset\n",
    "for i, (image, label) in enumerate(train_dataset.take(15)):\n",
    "    grid.axes_all[i].set_title(label=label.numpy()[0].astype('str'), fontsize=18)\n",
    "    grid[i].imshow(image.numpy().reshape(32,32,3).astype('uint8'))\n",
    "    grid[i].axis('off')"
   ]
  },
  {
   "cell_type": "markdown",
   "id": "750dbfec",
   "metadata": {},
   "source": [
    "#### Putting it all together"
   ]
  },
  {
   "cell_type": "markdown",
   "id": "d07788d9",
   "metadata": {},
   "source": [
    "##### Initialising input/output data parameters"
   ]
  },
  {
   "cell_type": "code",
   "execution_count": 27,
   "id": "5cc445c2",
   "metadata": {},
   "outputs": [
    {
     "data": {
      "text/plain": [
       "3072"
      ]
     },
     "execution_count": 27,
     "metadata": {},
     "output_type": "execute_result"
    }
   ],
   "source": [
    "### Number of features (pixel values) in a single image\n",
    "len(train_iter.get_next()[0].numpy().flatten())"
   ]
  },
  {
   "cell_type": "code",
   "execution_count": 28,
   "id": "25076696",
   "metadata": {},
   "outputs": [],
   "source": [
    "### Defining input and output tensor parameters\n",
    "input_name = 'input_GTSRB_image'\n",
    "num_inputs = n_features        # Each input is a flattened 32x32x3 RGB image array\n",
    "num_outputs = 43               # There are 43 distinct classes in GTSRB\n",
    "output_name = 'output_categorical'"
   ]
  },
  {
   "cell_type": "markdown",
   "id": "66cdfefa",
   "metadata": {},
   "source": [
    "##### Initialising model parameters"
   ]
  },
  {
   "cell_type": "code",
   "execution_count": 29,
   "id": "8b2a7558",
   "metadata": {},
   "outputs": [],
   "source": [
    "### Defining the model parameters"
   ]
  },
  {
   "cell_type": "code",
   "execution_count": 30,
   "id": "e78187e3",
   "metadata": {},
   "outputs": [],
   "source": [
    "### Defining model parameters\n",
    "model_name = 'LogisticRegressionModel_SGD'\n",
    "### Defining model hyperparameters\n",
    "epochs = 10                    # Number of complete passes over the training data\n",
    "batch_size = 1                 # Number of samples to compute gradient with\n",
    "learning_rate = 1e-2           # Starting with a static (fixed) learning rate\n",
    "### Defining model custom functions\n",
    "activation_fn = softmax\n",
    "loss_fn = cross_entropy\n",
    "accuracy_fn = accuracy\n",
    "optimizer = sgd\n",
    "model_params = {'model_name': model_name, 'imdir': imdir,\n",
    "                'num_inputs': num_inputs, 'input_name': input_name,\n",
    "                'num_outputs': num_outputs, 'output_name': output_name,\n",
    "                'learning_rate': learning_rate, 'epochs': epochs,\n",
    "                'batch_size': batch_size, 'activation_fn': activation_fn,\n",
    "                'loss_fn': loss_fn, 'accuracy_fn': accuracy_fn,\n",
    "                'optimizer': sgd\n",
    "                }"
   ]
  },
  {
   "cell_type": "markdown",
   "id": "6c21ef4e",
   "metadata": {},
   "source": [
    "We will use the TensorFlow built-in [`tf.Variable`](https://www.tensorflow.org/api_docs/python/tf/Variable?hl=en) tensor object to distinguish our trainable model parameters (weight, bias vectors) from otherwise static tensor objects. These `tf.Variable` objects maintain a shared, persistent state and therefore come with a few useful operations (e.g., [`assign_sub()`](https://www.tensorflow.org/api_docs/python/tf/Variable#assign_sub) method) that we will use during training to manipulate their values. Another nice feature of the `tf.Variable` is that they are automatically traced and watched during the `tf.GradientTape` steps."
   ]
  },
  {
   "cell_type": "code",
   "execution_count": 31,
   "id": "a2ccd147",
   "metadata": {},
   "outputs": [],
   "source": [
    "### Initialising the model variables (weights and bias vectors)\n",
    "W = tf.Variable(tf.random.normal(shape=(model_params['num_inputs'], \n",
    "                                        model_params['num_outputs']), \n",
    "                                 mean=0, \n",
    "                                 stddev=0.01\n",
    "                                )\n",
    ")\n",
    "b = tf.Variable(tf.zeros(model_params['num_outputs']))"
   ]
  },
  {
   "cell_type": "markdown",
   "id": "9051f0c0",
   "metadata": {},
   "source": [
    "##### Performing the training and validation loops"
   ]
  },
  {
   "cell_type": "code",
   "execution_count": 32,
   "id": "9fccb8da",
   "metadata": {},
   "outputs": [],
   "source": [
    "### From Udacity's `training.py`"
   ]
  },
  {
   "cell_type": "code",
   "execution_count": 33,
   "id": "73c2a777",
   "metadata": {},
   "outputs": [],
   "source": [
    "def get_module_logger(mod_name):\n",
    "    logger = logging.getLogger(mod_name)\n",
    "    handler = logging.StreamHandler()\n",
    "    formatter = logging.Formatter('%(asctime)s %(levelname)-8s %(message)s')\n",
    "    handler.setFormatter(formatter)\n",
    "    logger.addHandler(handler)\n",
    "    logger.setLevel(logging.DEBUG)\n",
    "    return logger"
   ]
  },
  {
   "cell_type": "code",
   "execution_count": 34,
   "id": "c3f0dac5",
   "metadata": {},
   "outputs": [
    {
     "name": "stderr",
     "output_type": "stream",
     "text": [
      "2022-09-02 13:55:19,159 INFO     \n",
      "Training for 10 epochs using 'data/GTSRB/Final_Training/Images' data\n"
     ]
    }
   ],
   "source": [
    "### Getting the console logger\n",
    "logger = get_module_logger(__name__)\n",
    "logger.info(f\"\\nTraining for {model_params['epochs']} epochs \" +\n",
    "            f\"using '{model_params['imdir']}' data\")"
   ]
  },
  {
   "cell_type": "code",
   "execution_count": 35,
   "id": "9cef707c",
   "metadata": {},
   "outputs": [],
   "source": [
    "### Run training and validation loop"
   ]
  },
  {
   "cell_type": "code",
   "execution_count": 36,
   "id": "03511065",
   "metadata": {},
   "outputs": [
    {
     "name": "stderr",
     "output_type": "stream",
     "text": [
      "2022-09-02 13:55:19,214 INFO     \n",
      "Epoch: 1\n",
      "2022-09-02 13:55:48,247 INFO     \n",
      "Mean training loss: 3.54, Mean training accuracy: 0.00\n",
      "2022-09-02 13:55:48,907 INFO     \n",
      "Mean validation accuracy: 0.00\n"
     ]
    }
   ],
   "source": [
    "for epoch in range(1, 2):\n",
    "    logger.info(f'\\nEpoch: {epoch}')\n",
    "    ### Shuffle the training dataset at every epoch\n",
    "    train_dataset = train_dataset.shuffle(buffer_size=len(train_dataset),\n",
    "                                          reshuffle_each_iteration=True\n",
    "    )\n",
    "    ### Perform stochastic gradient descent over training data\n",
    "    W_p, b_p, train_loss, train_acc = training_loop(\n",
    "                                        train_dataset=train_dataset, \n",
    "                                        n_classes=model_params['num_outputs'],\n",
    "                                        model=model, \n",
    "                                        W=W,\n",
    "                                        b=b,\n",
    "                                        activation_fn=model_params['activation_fn'],\n",
    "                                        loss_fn=model_params['loss_fn'],\n",
    "                                        optimizer=model_params['optimizer'],\n",
    "                                        accuracy_fn=model_params['accuracy_fn'],\n",
    "                                        learning_rate=model_params['learning_rate'],\n",
    "                                        batch_size=model_params['batch_size']\n",
    "    )\n",
    "    ### Update the model variables (weights and bias vectors)\n",
    "    W = W_p\n",
    "    b = b_p\n",
    "    ### Log the mean average loss and accuracy for this epoch\n",
    "    logger.info(f'\\nMean training loss: {train_loss.numpy():.2f}, ' +\n",
    "                f'Mean training accuracy: {train_acc.numpy():.2f}')\n",
    "    ### Compute validation set accuracy\n",
    "    val_acc = validation_loop(\n",
    "                    val_dataset=validation_dataset,\n",
    "                    model=model,\n",
    "                    activation_fn=model_params['activation_fn'],\n",
    "                    accuracy_fn=model_params['accuracy_fn'],\n",
    "                    W=W,\n",
    "                    b=b\n",
    "    )\n",
    "    logger.info(f'\\nMean validation accuracy: {val_acc.numpy():.2f}')"
   ]
  },
  {
   "cell_type": "code",
   "execution_count": 37,
   "id": "3290f3d3",
   "metadata": {},
   "outputs": [
    {
     "data": {
      "text/plain": [
       "<tf.Variable 'Variable:0' shape=(3072, 43) dtype=float32, numpy=\n",
       "array([[ 2.1187687e-02, -1.0533414e-02, -2.5309157e-02, ...,\n",
       "         4.5650903e-02,  2.5421105e-02,  8.0143008e-03],\n",
       "       [-4.7483046e-02,  9.1905389e-03, -3.3527330e-02, ...,\n",
       "         3.2737128e-02,  1.3081113e-02,  7.0307315e-03],\n",
       "       [-4.1788258e-02,  1.5302643e-02, -4.3060102e-02, ...,\n",
       "         2.6392844e-02,  2.1120010e-02, -7.2608687e-05],\n",
       "       ...,\n",
       "       [ 2.4263980e-03, -4.2241354e-02,  5.1750308e-03, ...,\n",
       "         3.7745681e-02, -3.8947638e-02, -2.1529016e-03],\n",
       "       [ 1.1715927e-02, -1.7226156e-02, -4.4603990e-03, ...,\n",
       "         2.5019890e-02, -7.6313545e-03,  2.0572124e-02],\n",
       "       [ 1.1739292e-02, -1.5697163e-02, -1.8183203e-02, ...,\n",
       "         1.8494241e-02, -3.9386906e-02,  1.2070276e-02]], dtype=float32)>"
      ]
     },
     "execution_count": 37,
     "metadata": {},
     "output_type": "execute_result"
    }
   ],
   "source": [
    "W"
   ]
  },
  {
   "cell_type": "code",
   "execution_count": 38,
   "id": "9c586fa8",
   "metadata": {},
   "outputs": [
    {
     "data": {
      "text/plain": [
       "<tf.Variable 'Variable:0' shape=(43,) dtype=float32, numpy=\n",
       "array([-0.23361503, -0.14990118, -0.08805371,  0.23440932,  0.02874311,\n",
       "        0.13963921,  0.27504817,  0.13500616,  0.2518243 , -0.10300971,\n",
       "        0.19810021, -0.0009901 ,  0.0230501 , -0.15060273, -0.0546122 ,\n",
       "       -0.19826804, -0.10318855,  0.02129043, -0.07240249,  0.07290275,\n",
       "        0.20373014, -0.04938989, -0.16758691, -0.04764737,  0.00283971,\n",
       "        0.00035941,  0.03554393, -0.04772748, -0.07958513,  0.03508587,\n",
       "        0.09643424,  0.12309413, -0.02386431,  0.00845388, -0.1727334 ,\n",
       "       -0.16778752, -0.02830309, -0.059204  ,  0.0924425 , -0.00037219,\n",
       "       -0.0878058 , -0.08753729,  0.19619401], dtype=float32)>"
      ]
     },
     "execution_count": 38,
     "metadata": {},
     "output_type": "execute_result"
    }
   ],
   "source": [
    "b"
   ]
  },
  {
   "cell_type": "markdown",
   "id": "01cddfd2",
   "metadata": {},
   "source": [
    "## Details"
   ]
  },
  {
   "cell_type": "markdown",
   "id": "ca5ac154",
   "metadata": {},
   "source": [
    "A training loop goes through element of the training dataset and uses it to update the model's weights.\n",
    "A validation loop goes through each element of the validation dataset and uses it to calculate\n",
    "the metrics (eg, accuracy). We call **epoch** an iteration of one training loop and one validation loop.\n",
    "\n",
    "The input to your model should be normalized. You can do this by dividing them by 255: `X /= 255`.\n",
    "\n",
    "You can run `python training.py` to train your first machine learning model!\n",
    "\n",
    "You will need to specify the `--imdir`, e.g. `--imdir GTSRB/Final_Training/Images/`, using the provided GTSRB dataset."
   ]
  },
  {
   "cell_type": "markdown",
   "id": "da82dcf5",
   "metadata": {},
   "source": [
    "## Tips"
   ]
  },
  {
   "cell_type": "markdown",
   "id": "d7a3f9b4",
   "metadata": {},
   "source": [
    "You don't need `tf.GradientTape` for the validation loop as you will not be updating gradients. \n",
    "\n",
    "The `assign_sub` Variable method will be useful to perform the weights update in the sgd optimizer.\n",
    "\n",
    "Use the `tf.one_hot` function to get the one vector from the ground truth label."
   ]
  },
  {
   "cell_type": "markdown",
   "id": "c660235f",
   "metadata": {},
   "source": [
    "## Credits"
   ]
  },
  {
   "cell_type": "markdown",
   "id": "899e0b89",
   "metadata": {},
   "source": [
    "This assignment was prepared by Thomas Hossler and Michael Virgo et al., Winter 2021 (link [here](https://www.udacity.com/course/self-driving-car-engineer-nanodegree--nd0013)).\n",
    "\n",
    "References\n",
    "* [1] Parr, T., Howard, J. The Matrix Calculus You Need For Deep Learning. arXiv (2018). [doi:10.48550/arXiv.1802.01528](https://arxiv.org/abs/1802.01528).\n",
    "* [2] Stallkamp, J. et al. Man vs. computer: Benchmarking machine learning algorithms for traffic sign recognition. Neural Networks. 32:323-332. [doi:10.1016/j.neunet.2012.02.016](https://doi.org/10.1016/j.neunet.2012.02.016).\n",
    "\n",
    "Helpful resources:\n",
    "   * [An overview of gradient descent optimization algorithms | S. Ruder](https://ruder.io/optimizing-gradient-descent/)\n",
    "   * [The Matrix Calculus You Need for Deep Learning by T. Parr and J. Howard | explained.ai](https://arxiv.org/abs/1802.01528)\n",
    "   * [Derivative, Gradient and Jacobian | Deep Learning Wizard](https://www.deeplearningwizard.com/deep_learning/boosting_models_pytorch/derivative_gradient_jacobian/)\n",
    "   * [Learning Rate Schedules and Adaptive Learning Rate Methods for Deep Learning by S. Lau | Medium](https://towardsdatascience.com/learning-rate-schedules-and-adaptive-learning-rate-methods-for-deep-learning-2c8f433990d1)"
   ]
  }
 ],
 "metadata": {
  "kernelspec": {
   "display_name": "Python 3",
   "language": "python",
   "name": "python3"
  },
  "language_info": {
   "codemirror_mode": {
    "name": "ipython",
    "version": 3
   },
   "file_extension": ".py",
   "mimetype": "text/x-python",
   "name": "python",
   "nbconvert_exporter": "python",
   "pygments_lexer": "ipython3",
   "version": "3.8.13"
  },
  "toc": {
   "base_numbering": 1,
   "nav_menu": {},
   "number_sections": false,
   "sideBar": true,
   "skip_h1_title": false,
   "title_cell": "Table of Contents",
   "title_sidebar": "Contents",
   "toc_cell": false,
   "toc_position": {},
   "toc_section_display": true,
   "toc_window_display": true
  }
 },
 "nbformat": 4,
 "nbformat_minor": 5
}
