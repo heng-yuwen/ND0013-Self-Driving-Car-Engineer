{
 "cells": [
  {
   "cell_type": "markdown",
   "id": "09822c41",
   "metadata": {},
   "source": [
    "# Exercise 1.3.3 - Image Classification with FFNNs\n",
    "#### By Jonathan L. Moran (jonathan.moran107@gmail.com)\n",
    "From the Self-Driving Car Engineer Nanodegree programme offered at Udacity."
   ]
  },
  {
   "cell_type": "markdown",
   "id": "d67b75e9",
   "metadata": {},
   "source": [
    "## Objectives"
   ]
  },
  {
   "cell_type": "markdown",
   "id": "4a0ec164",
   "metadata": {},
   "source": [
    "* Create a small feedforward neural network ([FNN](https://en.wikipedia.org/wiki/Feedforward_neural_network)) leveraging the TensorFlow [Keras API](https://www.tensorflow.org/api_docs/python/tf/keras);\n",
    "* Train the FNN on the German Traffic Sign Recognition Benchmark ([GTSRB](https://benchmark.ini.rub.de/gtsrb_dataset.html)) dataset;\n",
    "* Visualise the training and validation metrics. "
   ]
  },
  {
   "cell_type": "markdown",
   "id": "58408470",
   "metadata": {},
   "source": [
    "## 1. Introduction"
   ]
  },
  {
   "cell_type": "code",
   "execution_count": null,
   "id": "7307e4b7",
   "metadata": {},
   "outputs": [],
   "source": [
    "### Importing the required modules"
   ]
  },
  {
   "cell_type": "code",
   "execution_count": null,
   "id": "9e5062b0",
   "metadata": {},
   "outputs": [],
   "source": [
    "import argparse\n",
    "import logging\n",
    "import matplotlib.pyplot as plt\n",
    "import tensorflow as tf\n",
    "from tensorflow.keras.preprocessing import image_dataset_from_directory"
   ]
  },
  {
   "cell_type": "code",
   "execution_count": null,
   "id": "0a6265d9",
   "metadata": {},
   "outputs": [],
   "source": [
    "tf.__version__"
   ]
  },
  {
   "cell_type": "code",
   "execution_count": null,
   "id": "795433db",
   "metadata": {},
   "outputs": [],
   "source": [
    "tf.test.gpu_device_name()"
   ]
  },
  {
   "cell_type": "code",
   "execution_count": null,
   "id": "32b31353",
   "metadata": {},
   "outputs": [],
   "source": [
    "### Setting the environment variables"
   ]
  },
  {
   "cell_type": "code",
   "execution_count": null,
   "id": "6cb29ca9",
   "metadata": {},
   "outputs": [],
   "source": [
    "ENV_COLAB = True                # True if running in Google Colab instance"
   ]
  },
  {
   "cell_type": "code",
   "execution_count": null,
   "id": "0e3c7533",
   "metadata": {},
   "outputs": [],
   "source": [
    "# Root directory\n",
    "DIR_BASE = '' if not ENV_COLAB else '/content/'"
   ]
  },
  {
   "cell_type": "code",
   "execution_count": null,
   "id": "31383a8f",
   "metadata": {},
   "outputs": [],
   "source": [
    "# Subdirectory to save output files\n",
    "DIR_OUT = os.path.join(DIR_BASE, 'out/')\n",
    "# Subdirectory pointing to input data\n",
    "DIR_SRC = os.path.join(DIR_BASE, 'data/')"
   ]
  },
  {
   "cell_type": "code",
   "execution_count": null,
   "id": "8b731df0",
   "metadata": {},
   "outputs": [],
   "source": [
    "### Unzipping the GTSRB dataset\n",
    "!unzip -q /content/GTSRB.zip -d /content/data/ if ENV_COLAB else pass"
   ]
  },
  {
   "cell_type": "code",
   "execution_count": null,
   "id": "896082c5",
   "metadata": {},
   "outputs": [],
   "source": [
    "### Creating subdirectories (if not exists)\n",
    "os.makedirs(DIR_OUT, exist_ok=True)"
   ]
  },
  {
   "cell_type": "markdown",
   "id": "9de99741",
   "metadata": {},
   "source": [
    "### 1.1. Feedforward Neural Networks (FNNs)"
   ]
  },
  {
   "cell_type": "markdown",
   "id": "6f0aad8b",
   "metadata": {},
   "source": [
    "Keras was initially created as an independent API, providing easy ways to create and train neural networks using the same interface but different backend libraries (such as Tensorflow). Whereas Tensorflow is a low-level library, Keras codebase make it beginner friendly. "
   ]
  },
  {
   "cell_type": "markdown",
   "id": "b662f027",
   "metadata": {},
   "source": [
    "### 1.2. TensorFlow Keras API"
   ]
  },
  {
   "cell_type": "markdown",
   "id": "768097aa",
   "metadata": {},
   "source": [
    "The neural network you create should have less than 4 layers, including the output layer. This last layer should not be activated. Take the time to experiment with different architecture (number of layers, number of neurons) and see how it impacts the results."
   ]
  },
  {
   "cell_type": "markdown",
   "id": "01c68220",
   "metadata": {},
   "source": [
    "#### Modelling with the Keras API"
   ]
  },
  {
   "cell_type": "markdown",
   "id": "8afe43c5",
   "metadata": {},
   "source": [
    "##### The `Layer` base class"
   ]
  },
  {
   "cell_type": "markdown",
   "id": "79bde66d",
   "metadata": {},
   "source": [
    "##### The `Model` base class"
   ]
  },
  {
   "cell_type": "markdown",
   "id": "1ddd02b2",
   "metadata": {},
   "source": [
    "#### Training and validation with the Keras API"
   ]
  },
  {
   "cell_type": "markdown",
   "id": "8ae492f7",
   "metadata": {},
   "source": [
    "##### The `compile()` method"
   ]
  },
  {
   "cell_type": "markdown",
   "id": "62de14c0",
   "metadata": {},
   "source": [
    "##### The `fit()` method"
   ]
  },
  {
   "cell_type": "markdown",
   "id": "9790689c",
   "metadata": {},
   "source": [
    "##### The `callbacks`"
   ]
  },
  {
   "cell_type": "markdown",
   "id": "50707f5b",
   "metadata": {},
   "source": [
    "## 2. Programming Task"
   ]
  },
  {
   "cell_type": "markdown",
   "id": "27e45ce5",
   "metadata": {},
   "source": [
    "### 2.1. Feedforward Neural Networks (FNNs)"
   ]
  },
  {
   "cell_type": "code",
   "execution_count": null,
   "id": "1df1602b",
   "metadata": {},
   "outputs": [],
   "source": [
    "### From Udacity's `training.py`"
   ]
  },
  {
   "cell_type": "code",
   "execution_count": null,
   "id": "ac32f1b7",
   "metadata": {},
   "outputs": [],
   "source": [
    "def create_network():\n",
    "    \"\"\" output a keras model \"\"\"\n",
    "    # IMPLEMENT THIS FUNCTION\n",
    "    return "
   ]
  },
  {
   "cell_type": "code",
   "execution_count": null,
   "id": "55462b3e",
   "metadata": {},
   "outputs": [],
   "source": [
    "### Defining our model parameters"
   ]
  },
  {
   "cell_type": "code",
   "execution_count": null,
   "id": "f86833c8",
   "metadata": {},
   "outputs": [],
   "source": [
    "model_params = {}"
   ]
  },
  {
   "cell_type": "code",
   "execution_count": null,
   "id": "6821a566",
   "metadata": {},
   "outputs": [],
   "source": [
    "model_params.update({'model_name': 'FeedforwardNeuralNetwork'})"
   ]
  },
  {
   "cell_type": "code",
   "execution_count": null,
   "id": "e1a7e43e",
   "metadata": {},
   "outputs": [],
   "source": [
    "### Initialising the FNN\n",
    "model = create_network()"
   ]
  },
  {
   "cell_type": "markdown",
   "id": "7b6b444a",
   "metadata": {},
   "source": [
    "### 2.2. Modelling with TensorFlow Keras API"
   ]
  },
  {
   "cell_type": "code",
   "execution_count": null,
   "id": "18f2f31b",
   "metadata": {},
   "outputs": [],
   "source": [
    "### Defining our optimizer hyperparameters"
   ]
  },
  {
   "cell_type": "code",
   "execution_count": null,
   "id": "1186de24",
   "metadata": {},
   "outputs": [],
   "source": [
    "model_params.update({'learning_rate': 1e-3})"
   ]
  },
  {
   "cell_type": "code",
   "execution_count": null,
   "id": "19ee8ab3",
   "metadata": {},
   "outputs": [],
   "source": [
    "decay = False                                     # Whether or not to use a learning rate schedule"
   ]
  },
  {
   "cell_type": "code",
   "execution_count": null,
   "id": "d4da8838",
   "metadata": {},
   "outputs": [],
   "source": [
    "initial_lr = model_params['learning_rate']\n",
    "decay_rate = 0.96                                 # Amount to decay learning rate by (decrease by 96%)\n",
    "decay_steps = 3082 * 10                           # When to modify learning rate (every interval of `decay_steps`)"
   ]
  },
  {
   "cell_type": "code",
   "execution_count": null,
   "id": "728f6385",
   "metadata": {},
   "outputs": [],
   "source": [
    "### Initialising a learning rate schedule\n",
    "# See: https://www.tensorflow.org/api_docs/python/tf/keras/optimizers/schedules/ExponentialDecay"
   ]
  },
  {
   "cell_type": "code",
   "execution_count": null,
   "id": "e5bc2792",
   "metadata": {},
   "outputs": [],
   "source": [
    "lr_schedule = keras.optimizers.schedules.ExponentialDecay(\n",
    "                    intial_learning_rate=initial_lr,\n",
    "                    decay_steps=decay_steps,\n",
    "                    decay_rate=decay_rate,\n",
    "                    staircase=True)"
   ]
  },
  {
   "cell_type": "code",
   "execution_count": null,
   "id": "af49d29f",
   "metadata": {},
   "outputs": [],
   "source": [
    "model_params.update({'lr_schedule': lr_schedule})"
   ]
  },
  {
   "cell_type": "code",
   "execution_count": null,
   "id": "1b9d882d",
   "metadata": {},
   "outputs": [],
   "source": [
    "### Selecting the optimiser and activation functions \n",
    "# See: https://www.tensorflow.org/api_docs/python/tf/keras/optimizers/Adam"
   ]
  },
  {
   "cell_type": "code",
   "execution_count": null,
   "id": "1282b0d5",
   "metadata": {},
   "outputs": [],
   "source": [
    "optimizer = tf.keras.optimizers.Adam(learning_rate=model_params['learning_rate'] if not decay else (\n",
    "                                                   model_params['lr_schedule']),\n",
    "                                     beta_1=0.9,\n",
    "                                     beta_2=0.999,\n",
    "                                     epsilon=1e-07,\n",
    "                                     amsgrad=False,\n",
    "                                     name='Adam')"
   ]
  },
  {
   "cell_type": "code",
   "execution_count": null,
   "id": "1e822f7b",
   "metadata": {},
   "outputs": [],
   "source": [
    "### Choosing the loss and performance metrics\n",
    "# See: https://www.tensorflow.org/api_docs/python/tf/keras/losses/SparseCategoricalCrossentropy\n",
    "# See: https://www.tensorflow.org/api_docs/python/tf/keras/metrics/Accuracy"
   ]
  },
  {
   "cell_type": "code",
   "execution_count": null,
   "id": "d69a865d",
   "metadata": {},
   "outputs": [],
   "source": [
    "loss_fn = tf.keras.losses.SparseCategoricalCrossentropy(from_logits=True)"
   ]
  },
  {
   "cell_type": "code",
   "execution_count": null,
   "id": "4e3b9c98",
   "metadata": {},
   "outputs": [],
   "source": [
    "accuracy_fn = tf.keras.metrics.Accuracy"
   ]
  },
  {
   "cell_type": "code",
   "execution_count": 1,
   "id": "a8845a7e",
   "metadata": {},
   "outputs": [],
   "source": [
    "### Compiling the model\n",
    "# See: https://www.tensorflow.org/api_docs/python/tf/keras/Model#compile"
   ]
  },
  {
   "cell_type": "code",
   "execution_count": null,
   "id": "745f7ffc",
   "metadata": {},
   "outputs": [],
   "source": [
    "model.compile(optimizer='adam',\n",
    "              loss=loss_fn,\n",
    "              metrics=[accuracy_fn])"
   ]
  },
  {
   "cell_type": "markdown",
   "id": "8e6743cc",
   "metadata": {},
   "source": [
    "### 2.3. Training and validation"
   ]
  },
  {
   "cell_type": "code",
   "execution_count": null,
   "id": "d96776b0",
   "metadata": {},
   "outputs": [],
   "source": [
    "### Setting the training hyperparameters"
   ]
  },
  {
   "cell_type": "code",
   "execution_count": null,
   "id": "b0879d4f",
   "metadata": {},
   "outputs": [],
   "source": [
    "model_params.update({'epochs': 10})\n",
    "model_params.update({'batch_size': 128})\n",
    "model_params.update({'shuffle': True})"
   ]
  },
  {
   "cell_type": "code",
   "execution_count": null,
   "id": "dfcd3d2a",
   "metadata": {},
   "outputs": [],
   "source": [
    "### Usage of the `fit()` method\n",
    "# See: https://www.tensorflow.org/api_docs/python/tf/keras/Model#fit"
   ]
  },
  {
   "cell_type": "code",
   "execution_count": null,
   "id": "805fb0c6",
   "metadata": {},
   "outputs": [],
   "source": [
    "### Usage of the `callbacks()` method\n",
    "# See: https://www.tensorflow.org/api_docs/python/tf/keras/callbacks/History\n",
    "# See: https://www.tensorflow.org/api_docs/python/tf/keras/callbacks/ModelCheckpoint"
   ]
  },
  {
   "cell_type": "code",
   "execution_count": null,
   "id": "a765d8fe",
   "metadata": {},
   "outputs": [],
   "source": [
    "### From Udacity's `utils.py`"
   ]
  },
  {
   "cell_type": "code",
   "execution_count": null,
   "id": "f13b4bcd",
   "metadata": {},
   "outputs": [],
   "source": [
    "def get_module_logger(mod_name):\n",
    "    ### Setting up the console logger and formatter\n",
    "    logger = logging.getLogger(mod_name)\n",
    "    handler = logging.StreamHandler()\n",
    "    formatter = logging.Formatter('%(asctime)s %(levelname)-8s %(message)s')\n",
    "    handler.setFormatter(formatter)\n",
    "    logger.addHandler(handler)\n",
    "    logger.setLevel(logging.DEBUG)\n",
    "    ### Prevent messages going to root handler\n",
    "    logger.propagate = False\n",
    "    return logger"
   ]
  },
  {
   "cell_type": "code",
   "execution_count": null,
   "id": "d521c2e4",
   "metadata": {},
   "outputs": [],
   "source": [
    "logger = get_module_logger(__name__)"
   ]
  },
  {
   "cell_type": "markdown",
   "id": "cc8cb909",
   "metadata": {},
   "source": [
    "### 2.4. Evaluation on the GTSRB dataset"
   ]
  },
  {
   "cell_type": "markdown",
   "id": "6f9020fb",
   "metadata": {},
   "source": [
    "#### Considerations for our input data"
   ]
  },
  {
   "cell_type": "code",
   "execution_count": null,
   "id": "79902f44",
   "metadata": {},
   "outputs": [],
   "source": [
    "### Defining our input image specs"
   ]
  },
  {
   "cell_type": "code",
   "execution_count": null,
   "id": "c8712a6e",
   "metadata": {},
   "outputs": [],
   "source": [
    "image_size = (32, 32)          # Each RGB image has 32x32 px resolution\n",
    "n_features = (32 * 32) * 3     # Each pixel value is considered an attribute (feature)\n",
    "batch_size = 128               # Using batch size of 128 (mini-batching as in D. Kingma, 2015)"
   ]
  },
  {
   "cell_type": "markdown",
   "id": "a36427be",
   "metadata": {},
   "source": [
    "#### Putting it all together"
   ]
  },
  {
   "cell_type": "markdown",
   "id": "e5bcf502",
   "metadata": {},
   "source": [
    "##### Fetching the GTSRB data"
   ]
  },
  {
   "cell_type": "markdown",
   "id": "1a037552",
   "metadata": {},
   "source": [
    "You will need to specify the `--imdir`, e.g. `--imdir GTSRB/Final_Training/Images/`, using the provided GTSRB dataset."
   ]
  },
  {
   "cell_type": "code",
   "execution_count": null,
   "id": "f561a2ae",
   "metadata": {},
   "outputs": [],
   "source": [
    "imdir = os.path.join(DIR_SRC, 'GTSRB/Final_Training/Images')"
   ]
  },
  {
   "cell_type": "markdown",
   "id": "81ce72a2",
   "metadata": {},
   "source": [
    "The following `get_datasets()` method returns a tuple of [`tf.data.Dataset`](https://www.tensorflow.org/api_docs/python/tf/data/Dataset) instances containing the training and validation datasets, respectively."
   ]
  },
  {
   "cell_type": "code",
   "execution_count": null,
   "id": "a1fae16e",
   "metadata": {},
   "outputs": [],
   "source": [
    "### From Udacity's `utils.py`"
   ]
  },
  {
   "cell_type": "code",
   "execution_count": null,
   "id": "39b50208",
   "metadata": {},
   "outputs": [],
   "source": [
    "def get_datasets(imdir: str) -> tuple:\n",
    "    \"\"\"Return the training and validation datasets.\n",
    "    \n",
    "    :param imdir: absolute path to the directory where the data is stored in.\n",
    "    :returns: (train_dataset, validation_dataset), tuple of tf.data.Dataset instances.\n",
    "    \"\"\"\n",
    "    \n",
    "    train_dataset = tf.keras.preprocessing.image_dataset_from_directory(\n",
    "                        imdir,\n",
    "                        labels='inferred',\n",
    "                        label_mode='int',\n",
    "                        color_mode='rgb',\n",
    "                        batch_size=batch_size,\n",
    "                        image_size=image_size,\n",
    "                        shuffle=True,\n",
    "                        seed=123,\n",
    "                        validation_split=0.1,\n",
    "                        subset='training',\n",
    "    )\n",
    "    validation_dataset = tf.keras.preprocessing.image_dataset_from_directory(\n",
    "                        imdir,\n",
    "                        labels='inferred',\n",
    "                        label_mode='int',\n",
    "                        color_mode='rgb',\n",
    "                        batch_size=batch_size,\n",
    "                        image_size=image_size,\n",
    "                        shuffle=True,\n",
    "                        seed=123,\n",
    "                        validation_split=0.1,\n",
    "                        subset='validation',\n",
    "    )\n",
    "    return train_dataset, validation_dataset"
   ]
  },
  {
   "cell_type": "code",
   "execution_count": null,
   "id": "f906cdf7",
   "metadata": {},
   "outputs": [],
   "source": [
    "### Fetching the training and validation datasets\n",
    "train_dataset, val_dataset = get_datasets(args.imdir)"
   ]
  },
  {
   "cell_type": "markdown",
   "id": "b7f368f0",
   "metadata": {},
   "source": [
    "##### Processing the image data"
   ]
  },
  {
   "cell_type": "code",
   "execution_count": null,
   "id": "936d2612",
   "metadata": {},
   "outputs": [],
   "source": [
    "### Number of features (pixel values) in a single image\n",
    "train_iter = iter(train_dataset)\n",
    "len(train_iter.get_next()[0].numpy().flatten())"
   ]
  },
  {
   "cell_type": "code",
   "execution_count": null,
   "id": "55d7a1ba",
   "metadata": {},
   "outputs": [],
   "source": [
    "def process(image,label):\n",
    "    \"\"\" small function to normalize input images \"\"\"\n",
    "    image = tf.cast(image/255. ,tf.float32)\n",
    "    return image,label"
   ]
  },
  {
   "cell_type": "code",
   "execution_count": null,
   "id": "1ba04d8a",
   "metadata": {},
   "outputs": [],
   "source": [
    "### Scaling the image data"
   ]
  },
  {
   "cell_type": "code",
   "execution_count": null,
   "id": "7971847d",
   "metadata": {},
   "outputs": [],
   "source": [
    "train_dataset_scaled = tf.data.Dataset.from_generator((lambda x, label: process(x, label))(train_dataset))"
   ]
  },
  {
   "cell_type": "markdown",
   "id": "13df3c87",
   "metadata": {},
   "source": [
    "##### Performing the training and validation loops"
   ]
  },
  {
   "cell_type": "code",
   "execution_count": null,
   "id": "084541c8",
   "metadata": {},
   "outputs": [],
   "source": [
    "### From Udacity's `training.py`"
   ]
  },
  {
   "cell_type": "code",
   "execution_count": null,
   "id": "90d99992",
   "metadata": {},
   "outputs": [],
   "source": [
    "logger.info(f'Training for {args.epochs} epochs using {args.imdir} data')\n",
    "# Using the model `fit()` API call for training\n",
    "history = model.fit(x=train_dataset, \n",
    "                    epochs=args.epochs, \n",
    "                    validation_data=val_dataset)"
   ]
  },
  {
   "cell_type": "markdown",
   "id": "ce2ee915",
   "metadata": {},
   "source": [
    "##### Visualising the results"
   ]
  },
  {
   "cell_type": "markdown",
   "id": "e79f0c64",
   "metadata": {},
   "source": [
    "Lastly, at the end of training, you will need to be in the `Desktop` view to see the metrics visualization."
   ]
  },
  {
   "cell_type": "code",
   "execution_count": null,
   "id": "ad7de8ff",
   "metadata": {},
   "outputs": [],
   "source": [
    "### From Udacity's `utils.py`"
   ]
  },
  {
   "cell_type": "code",
   "execution_count": null,
   "id": "81537bd8",
   "metadata": {},
   "outputs": [],
   "source": [
    "def display_metrics(history):\n",
    "    \"\"\" plot loss and accuracy from keras history object \"\"\"\n",
    "    f, ax = plt.subplots(1, 2, figsize=(15, 5))\n",
    "    ax[0].plot(history.history['loss'], linewidth=3)\n",
    "    ax[0].plot(history.history['val_loss'], linewidth=3)\n",
    "    ax[0].set_title('Loss', fontsize=16)\n",
    "    ax[0].set_ylabel('Loss', fontsize=16)\n",
    "    ax[0].set_xlabel('Epoch', fontsize=16)\n",
    "    ax[0].legend(['train loss', 'val loss'], loc='upper right')\n",
    "    ax[1].plot(history.history['accuracy'], linewidth=3)\n",
    "    ax[1].plot(history.history['val_accuracy'], linewidth=3)\n",
    "    ax[1].set_title('Accuracy', fontsize=16)\n",
    "    ax[1].set_ylabel('Accuracy', fontsize=16)\n",
    "    ax[1].set_xlabel('Epoch', fontsize=16)\n",
    "    ax[1].legend(['train acc', 'val acc'], loc='upper left')\n",
    "    plt.show()"
   ]
  },
  {
   "cell_type": "code",
   "execution_count": null,
   "id": "28afcecf",
   "metadata": {},
   "outputs": [],
   "source": [
    "### From Udacity's `training.py`"
   ]
  },
  {
   "cell_type": "code",
   "execution_count": null,
   "id": "8d43b93a",
   "metadata": {},
   "outputs": [],
   "source": [
    "display_metrics(history)"
   ]
  },
  {
   "cell_type": "markdown",
   "id": "0fdf481d",
   "metadata": {},
   "source": [
    "## Tips"
   ]
  },
  {
   "cell_type": "markdown",
   "id": "b39051ad",
   "metadata": {},
   "source": [
    "You can leverage `tf.keras.Sequential` to stack layers in your network and `tf.keras.layers` to create the different layers."
   ]
  },
  {
   "cell_type": "markdown",
   "id": "4b8378fa",
   "metadata": {},
   "source": [
    "## Credits"
   ]
  },
  {
   "cell_type": "markdown",
   "id": "9fd2d4b5",
   "metadata": {},
   "source": [
    "This assignment was prepared by Thomas Hossler and Michael Virgo et al., Winter 2021 (link [here](https://www.udacity.com/course/self-driving-car-engineer-nanodegree--nd0013)).\n",
    "\n",
    "\n",
    "\n",
    "References\n",
    "* [1] Kingma, D. and Ba, J. Adam: A Method for Stochastic Optimization. arXiv (2014). [doi:10.48550/arXiv.1412.6980](https://arxiv.org/abs/1412.6980v9).\n",
    "\n",
    "\n",
    "Helpful resources:"
   ]
  }
 ],
 "metadata": {
  "kernelspec": {
   "display_name": "Python 3",
   "language": "python",
   "name": "python3"
  },
  "language_info": {
   "codemirror_mode": {
    "name": "ipython",
    "version": 3
   },
   "file_extension": ".py",
   "mimetype": "text/x-python",
   "name": "python",
   "nbconvert_exporter": "python",
   "pygments_lexer": "ipython3",
   "version": "3.8.13"
  },
  "toc": {
   "base_numbering": 1,
   "nav_menu": {},
   "number_sections": false,
   "sideBar": true,
   "skip_h1_title": false,
   "title_cell": "Table of Contents",
   "title_sidebar": "Contents",
   "toc_cell": false,
   "toc_position": {},
   "toc_section_display": true,
   "toc_window_display": true
  }
 },
 "nbformat": 4,
 "nbformat_minor": 5
}
