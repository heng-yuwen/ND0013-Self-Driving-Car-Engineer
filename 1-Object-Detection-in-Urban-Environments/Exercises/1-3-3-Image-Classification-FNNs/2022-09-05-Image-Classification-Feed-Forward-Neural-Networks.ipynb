{
 "cells": [
  {
   "cell_type": "markdown",
   "id": "09822c41",
   "metadata": {},
   "source": [
    "# Exercise 1.3.3 - Image Classification with FNNs\n",
    "#### By Jonathan L. Moran (jonathan.moran107@gmail.com)\n",
    "From the Self-Driving Car Engineer Nanodegree programme offered at Udacity."
   ]
  },
  {
   "cell_type": "markdown",
   "id": "d67b75e9",
   "metadata": {},
   "source": [
    "## Objectives"
   ]
  },
  {
   "cell_type": "markdown",
   "id": "4a0ec164",
   "metadata": {},
   "source": [
    "* Create a small feedforward neural network ([FNN](https://en.wikipedia.org/wiki/Feedforward_neural_network)) leveraging the TensorFlow [Keras API](https://www.tensorflow.org/api_docs/python/tf/keras);\n",
    "* Train the FNN on the German Traffic Sign Recognition Benchmark ([GTSRB](https://benchmark.ini.rub.de/gtsrb_dataset.html)) dataset;\n",
    "* Visualise the training and validation metrics. "
   ]
  },
  {
   "cell_type": "markdown",
   "id": "58408470",
   "metadata": {},
   "source": [
    "## 1. Introduction"
   ]
  },
  {
   "cell_type": "markdown",
   "id": "08734061",
   "metadata": {},
   "source": [
    "Here is a bit of [terminology](https://developers.google.com/machine-learning/glossary/) from the Google Machine Learning Glossary before we get started:\n",
    "* **Neural network**: a model composed of layers (at least one of which is [hidden](https://developers.google.com/machine-learning/glossary/#hidden_layer));\n",
    "\n",
    "* **Neuron**: a node in a neural network, typically taking in multiple input values and generating a single output value. The neuron calculates the output value by applying an [activation function] to a weighted sum of input values;\n",
    "\n",
    "* **Perceptron**: _nodes_ in a deep neural network. Each perceptron takes in input values, runs an activation function over the weighted sum of values, and computes a single output value. A [backpropagation](https://developers.google.com/machine-learning/glossary/#backpropagation) algorithm is used to introduce feedback into the network;\n",
    "\n",
    "* **Feedforward Neural Network (FNN)**: a neural network without cyclic or recursive connections (e.g., a _deep neural network_, as opposed to a [recurrent neural network](https://developers.google.com/machine-learning/glossary/#recurrent_neural_network))."
   ]
  },
  {
   "cell_type": "code",
   "execution_count": null,
   "id": "7307e4b7",
   "metadata": {},
   "outputs": [],
   "source": [
    "### Importing the required modules"
   ]
  },
  {
   "cell_type": "code",
   "execution_count": null,
   "id": "9e5062b0",
   "metadata": {},
   "outputs": [],
   "source": [
    "import argparse\n",
    "import logging\n",
    "import matplotlib.pyplot as plt\n",
    "import tensorflow as tf\n",
    "from tensorflow.keras.preprocessing import image_dataset_from_directory"
   ]
  },
  {
   "cell_type": "code",
   "execution_count": null,
   "id": "0a6265d9",
   "metadata": {},
   "outputs": [],
   "source": [
    "tf.__version__"
   ]
  },
  {
   "cell_type": "code",
   "execution_count": null,
   "id": "795433db",
   "metadata": {},
   "outputs": [],
   "source": [
    "tf.test.gpu_device_name()"
   ]
  },
  {
   "cell_type": "code",
   "execution_count": null,
   "id": "32b31353",
   "metadata": {},
   "outputs": [],
   "source": [
    "### Setting the environment variables"
   ]
  },
  {
   "cell_type": "code",
   "execution_count": null,
   "id": "6cb29ca9",
   "metadata": {},
   "outputs": [],
   "source": [
    "ENV_COLAB = True                # True if running in Google Colab instance"
   ]
  },
  {
   "cell_type": "code",
   "execution_count": null,
   "id": "0e3c7533",
   "metadata": {},
   "outputs": [],
   "source": [
    "# Root directory\n",
    "DIR_BASE = '' if not ENV_COLAB else '/content/'"
   ]
  },
  {
   "cell_type": "code",
   "execution_count": null,
   "id": "31383a8f",
   "metadata": {},
   "outputs": [],
   "source": [
    "# Subdirectory to save output files\n",
    "DIR_OUT = os.path.join(DIR_BASE, 'out/')\n",
    "# Subdirectory pointing to input data\n",
    "DIR_SRC = os.path.join(DIR_BASE, 'data/')"
   ]
  },
  {
   "cell_type": "code",
   "execution_count": null,
   "id": "8b731df0",
   "metadata": {},
   "outputs": [],
   "source": [
    "### Unzipping the GTSRB dataset\n",
    "!unzip -q /content/GTSRB.zip -d /content/data/ if ENV_COLAB else pass"
   ]
  },
  {
   "cell_type": "code",
   "execution_count": null,
   "id": "896082c5",
   "metadata": {},
   "outputs": [],
   "source": [
    "### Creating subdirectories (if not exists)\n",
    "os.makedirs(DIR_OUT, exist_ok=True)"
   ]
  },
  {
   "cell_type": "markdown",
   "id": "9de99741",
   "metadata": {},
   "source": [
    "### 1.1. Feedforward Neural Networks (FNNs)"
   ]
  },
  {
   "cell_type": "markdown",
   "id": "26df4411",
   "metadata": {},
   "source": [
    "#### Types of FNNs"
   ]
  },
  {
   "cell_type": "markdown",
   "id": "00fec602",
   "metadata": {},
   "source": [
    "##### The single-layer perceptron"
   ]
  },
  {
   "cell_type": "markdown",
   "id": "768097aa",
   "metadata": {},
   "source": [
    "In its simplest form, a Feedforward Neural Network is a [single-layer perceptron](https://en.wikipedia.org/wiki/Feedforward_neural_network#Single-layer_perceptron). The single-layer perceptron is a network with only one input and one output layer. In [Exercise 1.3.2](https://github.com/jonathanloganmoran/ND0013-Self-Driving-Car-Engineer/blob/main/1-Object-Detection-in-Urban-Environments/Exercises/1-3-2-Stochastic-Gradient-Descent/2022-08-29-Stochastic-Gradient-Descent.ipynb), we built a single-layer perceptron that consisted of a single input layer shaped by our input data (the image pixel attributes) and a single output layer (the predicted class distribution of probabilities). The output layer was computed directly from the sum of the product of the input layer units and the perceptron weights (plus a bias term). The output of the single-layer perceptron was then passed into an activation function (the softmax function), and a classification label was selected by choosing the prediction with the highest probability value."
   ]
  },
  {
   "cell_type": "markdown",
   "id": "c2de3c17",
   "metadata": {},
   "source": [
    "The single-layer perceptron was a powerful yet simple type of Feedforward Neural Network architecture, but as a [linear classifier](https://en.wikipedia.org/wiki/Linear_classifier) it is only capable of learning linearly-separable patterns. As most functions are not linearly-seperable, we will consider a bit more involved approach."
   ]
  },
  {
   "cell_type": "markdown",
   "id": "a7c6af18",
   "metadata": {},
   "source": [
    "##### The multi-layer perceptron"
   ]
  },
  {
   "cell_type": "markdown",
   "id": "e89c0da4",
   "metadata": {},
   "source": [
    "What's better than _one_ layer of perceptrons? A ton of them!\n",
    "\n",
    "[Multi-layer perceptrons](https://en.wikipedia.org/wiki/Feedforward_neural_network#Multi-layer_perceptron) (MLPs) are a type of Feedforward Neural Network composed of many single-layer perceptrons. These perceptrons are organised into groups called _layers_. In a MLP, we introduce at least one _hidden_ layer composed of multiple perceptrons. These perceptrons in a hidden layer are not interconnected (i.e., no connections between each other in the same layer) but are said to be \"fully connected\" to the perceptrons in a preceding layer. In a hidden layer, these perceptrons also have activation functions, similar to the output layer in a single-layer perceptron.\n",
    "\n",
    "Like single-layer perceptrons, multi-layer perceptrons are trained by iteratively updating the weights and bias values in order to minimise an error (cost) function. Using _stochastic gradient descent_ to adjust these model parameters, we saw in Exercise 1.3.2 that, after a given number of epochs (passes) over our entire dataset, we were able to settle on semi-optimal weight $\\mathrm{w}$ and bias $\\mathrm{b}$ values.\n",
    "\n",
    "We can break the training phase into two primary steps with the multi-layer perceptron: a _forward pass_ and a _backwards_ pass. With a _forward_ pass over the data, each layer of perceptrons calculates a sum of products between the perceptron weights and the input values. The resulting values are then passed to an activation function (such as the _Rectified Linear Unit_ — [ReLU](https://en.wikipedia.org/wiki/Rectifier_(neural_networks))) where a single output value is generated. In a _backwards_ pass over over the network, we update the model parameters (the weights and bias values) using the partial derivative of an error function (like [cross-entropy loss](https://en.wikipedia.org/wiki/Cross_entropy#Cross-entropy_loss_function_and_logistic_regression)). With the backpropagation algorithm, values calculated in the forward pass are used to compute the gradients for each of the model parameters. The \"backwards\" pass here indicates that the gradients are propagated back through the network starting from the output nodes to the nodes in the first hidden layer. The partial computations at each layer are used to update the weight values at each step."
   ]
  },
  {
   "cell_type": "markdown",
   "id": "b662f027",
   "metadata": {},
   "source": [
    "### 1.2. TensorFlow Keras API"
   ]
  },
  {
   "cell_type": "markdown",
   "id": "6b43f077",
   "metadata": {},
   "source": [
    "[TensorFlow](https://www.tensorflow.org) is a very powerful, highly-optimised platform for machine learning. [Keras](https://github.com/keras-team/keras) is a high-level framework for the TensorFlow platform primarily authored by [François Chollet](https://github.com/fchollet). While Keras used to support a several other backend compute engines, TensorFlow is now the only supported platform in Keras version 2.4+. With the release of TensorFlow 2.0 [came the announcement](https://blog.tensorflow.org/2018/12/standardizing-on-keras-guidance.html) that Keras would be the official high-level API for Google's TensorFlow. Together, the two make a great couple. While Keras focuses on simplistic, highly-readable and abstracted model creation, TensorFlow's full-fledged compute engine gives developers and practitioners the freedom to fine-tune much of their model's low-level implementation."
   ]
  },
  {
   "cell_type": "markdown",
   "id": "01c68220",
   "metadata": {},
   "source": [
    "#### Modelling with the Keras API"
   ]
  },
  {
   "cell_type": "markdown",
   "id": "9620cf47",
   "metadata": {},
   "source": [
    "#### The `Sequential ` API"
   ]
  },
  {
   "cell_type": "markdown",
   "id": "e983f4d3",
   "metadata": {},
   "source": [
    "In this exercise we will interface with the Keras through TensorFlow's [`Sequential`](https://www.tensorflow.org/guide/keras/sequential_model) API. In [Exercise 1.3.2](https://github.com/jonathanloganmoran/ND0013-Self-Driving-Car-Engineer/blob/main/1-Object-Detection-in-Urban-Environments/Exercises/1-3-2-Stochastic-Gradient-Descent/2022-08-29-Stochastic-Gradient-Descent.ipynb) we demonstrated how to implement a model using TensorFlow Keras but didn't touch on many of Keras' core design principles. Given the simplicity of our network architecture, we will be using the Sequential API to model the multi-layer perceptron as a simple stack of layers. The `Sequential` model [approach](https://www.tensorflow.org/guide/keras/sequential_model) is good enough for us in this use case, but is **not appropriate** for any model architecture with:\n",
    "* multiple inputs or multiple outputs;\n",
    "* any amount of layers accepting multiple inputs or multiple outputs;\n",
    "* layer sharing;\n",
    "* a non-linear topology.\n",
    "\n",
    "Let's dive a bit more into the Keras abstraction and the classes we will use in our model..."
   ]
  },
  {
   "cell_type": "markdown",
   "id": "8afe43c5",
   "metadata": {},
   "source": [
    "##### The `Layer` base class"
   ]
  },
  {
   "cell_type": "markdown",
   "id": "f1ce2c50",
   "metadata": {},
   "source": [
    "Now that we've learned a bit about multi-layer perceptrons, let's see how those layers can actually be implemented in TensorFlow. \n",
    "\n",
    "Every `Layer` instance in TensorFlow is born from the the Keras [`layers.Layer`](https://www.tensorflow.org/api_docs/python/tf/keras/layers/Layer) base class. As said by Google themselves, \n",
    "\n",
    "\n",
    "_A layer is a callable object that takes as input one or more tensors and that outputs one or more tensors. It involves **computation**, defined in the `call()` method, and a **state** (weight variables) implemented in the `__init__()` method._\n",
    "\n",
    "A layer in our use case is a set of fully-connected (but not interconnected) units, each with a respective weight value. This _layer_ in a multi-layer perceptron also implements an activation function, and those weight values we discussed are also said to be _trainable_ (that is, that they can be modified during training). We will see that translating this into code using the Keras `Layer` API is a straightforward and easy process. \n",
    "\n",
    "With the `Layer` abstraction we also now have access to a whole set of methods and class attributes provided by TensorFlow to help us maintain, monitor, or modify layer state and layer variables during training and more."
   ]
  },
  {
   "cell_type": "markdown",
   "id": "79bde66d",
   "metadata": {},
   "source": [
    "##### The `Model` base class"
   ]
  },
  {
   "cell_type": "markdown",
   "id": "68c96e82",
   "metadata": {},
   "source": [
    "A [`Model`](https://www.tensorflow.org/api_docs/python/tf/keras/Model) groups `Layer`s into a single object while also providing many powerful training and inference features. A `Model` can be initialised in a single line of code and begin providing insane functionality right off-the-shelf. Remember that exhausting [training and validation loop](https://github.com/jonathanloganmoran/ND0013-Self-Driving-Car-Engineer/blob/main/1-Object-Detection-in-Urban-Environments/Exercises/1-3-2-Stochastic-Gradient-Descent/2022-08-29-Stochastic-Gradient-Descent.ipynb) we wrote in the last exercise? With a `Model` instance, we can shorten that entire functionality into just _one line of code_ using the `Model.fit()` method.\n",
    "\n",
    "One other way to use ` Model` is to [_subclass it_](https://www.tensorflow.org/guide/keras/custom_layers_and_models). In other words, we can create a class that inherits `Model` and from there customise much of the core Keras functionality to suit our own needs. This can be beneficial for those wanting full control over the [lower-level](https://www.tensorflow.org/guide/keras/customizing_what_happens_in_fit#going_lower-level) details of the training cycle, or for those who want to encapsulate complex model architectures, custom callbacks, metric functions, etc. into neat, [serialisable](https://www.tensorflow.org/guide/keras/save_and_serialize/) Model objects."
   ]
  },
  {
   "cell_type": "markdown",
   "id": "1ddd02b2",
   "metadata": {},
   "source": [
    "#### Training and validation with the Keras API"
   ]
  },
  {
   "cell_type": "markdown",
   "id": "8ae492f7",
   "metadata": {},
   "source": [
    "##### The `compile()` method"
   ]
  },
  {
   "cell_type": "markdown",
   "id": "1ac8e85a",
   "metadata": {},
   "source": [
    "This `Model` class method is essential for putting together all the pieces in building a model. The [`compile()`](https://www.tensorflow.org/api_docs/python/tf/keras/Model#compile) API allows us to quickly initialise our model instance with all sorts of useful [optimizers](https://www.tensorflow.org/api_docs/python/tf/keras/optimizers), [metric](https://www.tensorflow.org/api_docs/python/tf/keras/metrics) and [loss](https://www.tensorflow.org/api_docs/python/tf/keras/losses) functions and be up and running in no time."
   ]
  },
  {
   "cell_type": "markdown",
   "id": "62de14c0",
   "metadata": {},
   "source": [
    "##### The `fit()` method"
   ]
  },
  {
   "cell_type": "markdown",
   "id": "b45bf8fb",
   "metadata": {},
   "source": [
    "The `Model` [`fit()`](https://www.tensorflow.org/api_docs/python/tf/keras/Model#fit) method is at the heart of our model training process. This class method provides us with all the parameters we need to go from a hollow, untrained model to a fully-trained object detector, image classifier, etc. Our model hyperparameters — the _batch size_, _epochs_, etc. are supplied as input parameters into this method along with our dataset and any considerations we have for it (e.g., whether to `shuffle` the input data, perform a `validation_split` over it, etc.). Lastly, here in the model `fit()` method is where we supply any `callbacks` we want to include alongside the training process.\n",
    "\n",
    "Once your input parameters are good to go, training a model is really just as simple as executing this line of code. The `fit()` method will even handle printing out updates to the console for you — a nice progress bar and some helpful metrics at every iteration of training. No wonder Keras has been [such a hit](https://blog.tensorflow.org/2018/12/standardizing-on-keras-guidance.html) at Google!"
   ]
  },
  {
   "cell_type": "markdown",
   "id": "9790689c",
   "metadata": {},
   "source": [
    "##### The `callbacks` functionality"
   ]
  },
  {
   "cell_type": "markdown",
   "id": "cb40a70e",
   "metadata": {},
   "source": [
    "In addition to the benefits aforementioned when using the Keras `fit()` API for training, we also get the ability to specify [`callbacks`](https://www.tensorflow.org/api_docs/python/tf/keras/callbacks/Callback). Callbacks are functions that get passed into the `fit()`, `evaluate()` and `predict()` methods of a model in order to customise their functionality or run your own code on regular intervals (e.g., at the end of each epoch). While some callback functionality is baked in by default (e.g., [`callbacks.History`](https://www.tensorflow.org/api_docs/python/tf/keras/callbacks/History)), several other popular callbacks exist. One of those is the [`callbacks.LearningRateScheduler`](https://www.tensorflow.org/api_docs/python/tf/keras/callbacks/LearningRateScheduler) which serves as a base class for all custom learning rate schedulers (e.g., [`optimizers.schedules.ExponentialDecay`](https://www.tensorflow.org/api_docs/python/tf/keras/callbacks/LearningRateScheduler)). Through [_subclassing_](https://www.tensorflow.org/guide/keras/custom_layers_and_models) we can override some of the callback methods and provide our own to do things like update our model's learning rate using a custom function on every epoch, for example. \n",
    "\n",
    "One last callback worth mentioning here for our own use is [`callbacks.TensorBoard`](https://www.tensorflow.org/api_docs/python/tf/keras/callbacks/TensorBoard). This callback allows our model to log certain events throughout the training process, such as metrics summaries or weight updates, in order to visualise them in detail during the training cycle. The [TensorBoard dashboard](https://www.tensorflow.org/tensorboard/get_started) provides a nice graphical interface to monitor real-time, interactive plots, graphs and charts of important training metrics and other stats. We can even use these real-time plots in TensorBoard to [visualise layer weights](http://cs231n.github.io/understanding-cnn/) or [monitor confusion matrices](https://www.tensorflow.org/tensorboard/image_summaries#building_an_image_classifier) on each epoch, all with the help of callbacks."
   ]
  },
  {
   "cell_type": "markdown",
   "id": "50707f5b",
   "metadata": {},
   "source": [
    "## 2. Programming Task"
   ]
  },
  {
   "cell_type": "markdown",
   "id": "df3e899d",
   "metadata": {},
   "source": [
    "From the Introduction you by now should have a decent overview of TensorFlow and some of the essential functionality Keras brings to it. In this section, we will implement a Feedforward Neural Network (FNN) for image classification on the German Traffic Sign Recognition (GTSRB), starting with a simple `Sequential` model architecture and adding complexity from there."
   ]
  },
  {
   "cell_type": "markdown",
   "id": "27e45ce5",
   "metadata": {},
   "source": [
    "### 2.1. Feedforward Neural Networks (FNNs)"
   ]
  },
  {
   "cell_type": "markdown",
   "id": "1d6a99c9",
   "metadata": {},
   "source": [
    "The neural network you create should have less than 4 layers, including the output layer. This last layer should not be activated. Take the time to experiment with different architecture (number of layers, number of neurons) and see how it impacts the results."
   ]
  },
  {
   "cell_type": "code",
   "execution_count": null,
   "id": "1df1602b",
   "metadata": {},
   "outputs": [],
   "source": [
    "### From Udacity's `training.py`"
   ]
  },
  {
   "cell_type": "code",
   "execution_count": null,
   "id": "ac32f1b7",
   "metadata": {},
   "outputs": [],
   "source": [
    "def create_network():\n",
    "    \"\"\" output a keras model \"\"\"\n",
    "    # IMPLEMENT THIS FUNCTION\n",
    "    return "
   ]
  },
  {
   "cell_type": "code",
   "execution_count": null,
   "id": "55462b3e",
   "metadata": {},
   "outputs": [],
   "source": [
    "### Defining our model parameters"
   ]
  },
  {
   "cell_type": "code",
   "execution_count": null,
   "id": "f86833c8",
   "metadata": {},
   "outputs": [],
   "source": [
    "model_params = {}"
   ]
  },
  {
   "cell_type": "code",
   "execution_count": null,
   "id": "6821a566",
   "metadata": {},
   "outputs": [],
   "source": [
    "model_params.update({'model_name': 'FeedforwardNeuralNetwork'})"
   ]
  },
  {
   "cell_type": "code",
   "execution_count": null,
   "id": "e1a7e43e",
   "metadata": {},
   "outputs": [],
   "source": [
    "### Initialising the FNN\n",
    "model = create_network()"
   ]
  },
  {
   "cell_type": "markdown",
   "id": "7b6b444a",
   "metadata": {},
   "source": [
    "### 2.2. Modelling with TensorFlow Keras API"
   ]
  },
  {
   "cell_type": "code",
   "execution_count": null,
   "id": "18f2f31b",
   "metadata": {},
   "outputs": [],
   "source": [
    "### Defining our optimizer hyperparameters"
   ]
  },
  {
   "cell_type": "code",
   "execution_count": null,
   "id": "1186de24",
   "metadata": {},
   "outputs": [],
   "source": [
    "model_params.update({'learning_rate': 1e-3})"
   ]
  },
  {
   "cell_type": "code",
   "execution_count": null,
   "id": "19ee8ab3",
   "metadata": {},
   "outputs": [],
   "source": [
    "decay = False                                     # Whether or not to use a learning rate schedule"
   ]
  },
  {
   "cell_type": "code",
   "execution_count": null,
   "id": "d4da8838",
   "metadata": {},
   "outputs": [],
   "source": [
    "initial_lr = model_params['learning_rate']\n",
    "decay_rate = 0.96                                 # Amount to decay learning rate by (decrease by 96%)\n",
    "decay_steps = 3082 * 10                           # When to modify learning rate (every interval of `decay_steps`)"
   ]
  },
  {
   "cell_type": "code",
   "execution_count": null,
   "id": "728f6385",
   "metadata": {},
   "outputs": [],
   "source": [
    "### Initialising a learning rate schedule\n",
    "# See: https://www.tensorflow.org/api_docs/python/tf/keras/optimizers/schedules/ExponentialDecay"
   ]
  },
  {
   "cell_type": "code",
   "execution_count": null,
   "id": "e5bc2792",
   "metadata": {},
   "outputs": [],
   "source": [
    "lr_schedule = keras.optimizers.schedules.ExponentialDecay(\n",
    "                    intial_learning_rate=initial_lr,\n",
    "                    decay_steps=decay_steps,\n",
    "                    decay_rate=decay_rate,\n",
    "                    staircase=True)"
   ]
  },
  {
   "cell_type": "code",
   "execution_count": null,
   "id": "af49d29f",
   "metadata": {},
   "outputs": [],
   "source": [
    "model_params.update({'lr_schedule': lr_schedule})"
   ]
  },
  {
   "cell_type": "code",
   "execution_count": null,
   "id": "1b9d882d",
   "metadata": {},
   "outputs": [],
   "source": [
    "### Selecting the optimiser and activation functions \n",
    "# See: https://www.tensorflow.org/api_docs/python/tf/keras/optimizers/Adam"
   ]
  },
  {
   "cell_type": "code",
   "execution_count": null,
   "id": "1282b0d5",
   "metadata": {},
   "outputs": [],
   "source": [
    "optimizer = tf.keras.optimizers.Adam(learning_rate=model_params['learning_rate'] if not decay else (\n",
    "                                                   model_params['lr_schedule']),\n",
    "                                     beta_1=0.9,\n",
    "                                     beta_2=0.999,\n",
    "                                     epsilon=1e-07,\n",
    "                                     amsgrad=False,\n",
    "                                     name='Adam')"
   ]
  },
  {
   "cell_type": "code",
   "execution_count": null,
   "id": "1e822f7b",
   "metadata": {},
   "outputs": [],
   "source": [
    "### Choosing the loss and performance metrics\n",
    "# See: https://www.tensorflow.org/api_docs/python/tf/keras/losses/SparseCategoricalCrossentropy\n",
    "# See: https://www.tensorflow.org/api_docs/python/tf/keras/metrics/Accuracy"
   ]
  },
  {
   "cell_type": "code",
   "execution_count": null,
   "id": "d69a865d",
   "metadata": {},
   "outputs": [],
   "source": [
    "loss_fn = tf.keras.losses.SparseCategoricalCrossentropy(from_logits=True)"
   ]
  },
  {
   "cell_type": "code",
   "execution_count": null,
   "id": "4e3b9c98",
   "metadata": {},
   "outputs": [],
   "source": [
    "accuracy_fn = tf.keras.metrics.Accuracy"
   ]
  },
  {
   "cell_type": "code",
   "execution_count": 1,
   "id": "a8845a7e",
   "metadata": {},
   "outputs": [],
   "source": [
    "### Compiling the model\n",
    "# See: https://www.tensorflow.org/api_docs/python/tf/keras/Model#compile"
   ]
  },
  {
   "cell_type": "code",
   "execution_count": null,
   "id": "745f7ffc",
   "metadata": {},
   "outputs": [],
   "source": [
    "model.compile(optimizer='adam',\n",
    "              loss=loss_fn,\n",
    "              metrics=[accuracy_fn])"
   ]
  },
  {
   "cell_type": "markdown",
   "id": "8e6743cc",
   "metadata": {},
   "source": [
    "### 2.3. Training and validation"
   ]
  },
  {
   "cell_type": "code",
   "execution_count": null,
   "id": "d96776b0",
   "metadata": {},
   "outputs": [],
   "source": [
    "### Setting the training hyperparameters"
   ]
  },
  {
   "cell_type": "code",
   "execution_count": null,
   "id": "b0879d4f",
   "metadata": {},
   "outputs": [],
   "source": [
    "model_params.update({'epochs': 10})\n",
    "model_params.update({'batch_size': 128})\n",
    "model_params.update({'shuffle': True})"
   ]
  },
  {
   "cell_type": "code",
   "execution_count": null,
   "id": "dfcd3d2a",
   "metadata": {},
   "outputs": [],
   "source": [
    "### Usage of the `fit()` method\n",
    "# See: https://www.tensorflow.org/api_docs/python/tf/keras/Model#fit"
   ]
  },
  {
   "cell_type": "code",
   "execution_count": null,
   "id": "805fb0c6",
   "metadata": {},
   "outputs": [],
   "source": [
    "### Usage of the `callbacks()` method\n",
    "# See: https://www.tensorflow.org/api_docs/python/tf/keras/callbacks/History\n",
    "# See: https://www.tensorflow.org/api_docs/python/tf/keras/callbacks/ModelCheckpoint"
   ]
  },
  {
   "cell_type": "code",
   "execution_count": null,
   "id": "a765d8fe",
   "metadata": {},
   "outputs": [],
   "source": [
    "### From Udacity's `utils.py`"
   ]
  },
  {
   "cell_type": "code",
   "execution_count": null,
   "id": "f13b4bcd",
   "metadata": {},
   "outputs": [],
   "source": [
    "def get_module_logger(mod_name):\n",
    "    ### Setting up the console logger and formatter\n",
    "    logger = logging.getLogger(mod_name)\n",
    "    handler = logging.StreamHandler()\n",
    "    formatter = logging.Formatter('%(asctime)s %(levelname)-8s %(message)s')\n",
    "    handler.setFormatter(formatter)\n",
    "    logger.addHandler(handler)\n",
    "    logger.setLevel(logging.DEBUG)\n",
    "    ### Prevent messages going to root handler\n",
    "    logger.propagate = False\n",
    "    return logger"
   ]
  },
  {
   "cell_type": "code",
   "execution_count": null,
   "id": "d521c2e4",
   "metadata": {},
   "outputs": [],
   "source": [
    "logger = get_module_logger(__name__)"
   ]
  },
  {
   "cell_type": "markdown",
   "id": "cc8cb909",
   "metadata": {},
   "source": [
    "### 2.4. Evaluation on the GTSRB dataset"
   ]
  },
  {
   "cell_type": "markdown",
   "id": "6f9020fb",
   "metadata": {},
   "source": [
    "#### Considerations for our input data"
   ]
  },
  {
   "cell_type": "code",
   "execution_count": null,
   "id": "79902f44",
   "metadata": {},
   "outputs": [],
   "source": [
    "### Defining our input image specs"
   ]
  },
  {
   "cell_type": "code",
   "execution_count": null,
   "id": "c8712a6e",
   "metadata": {},
   "outputs": [],
   "source": [
    "image_size = (32, 32)          # Each RGB image has 32x32 px resolution\n",
    "n_features = (32 * 32) * 3     # Each pixel value is considered an attribute (feature)\n",
    "batch_size = 128               # Using batch size of 128 (mini-batching as in D. Kingma, 2015)"
   ]
  },
  {
   "cell_type": "markdown",
   "id": "a36427be",
   "metadata": {},
   "source": [
    "#### Putting it all together"
   ]
  },
  {
   "cell_type": "markdown",
   "id": "e5bcf502",
   "metadata": {},
   "source": [
    "##### Fetching the GTSRB data"
   ]
  },
  {
   "cell_type": "markdown",
   "id": "1a037552",
   "metadata": {},
   "source": [
    "You will need to specify the `--imdir`, e.g. `--imdir GTSRB/Final_Training/Images/`, using the provided GTSRB dataset."
   ]
  },
  {
   "cell_type": "code",
   "execution_count": null,
   "id": "f561a2ae",
   "metadata": {},
   "outputs": [],
   "source": [
    "imdir = os.path.join(DIR_SRC, 'GTSRB/Final_Training/Images')"
   ]
  },
  {
   "cell_type": "markdown",
   "id": "81ce72a2",
   "metadata": {},
   "source": [
    "The following `get_datasets()` method returns a tuple of [`tf.data.Dataset`](https://www.tensorflow.org/api_docs/python/tf/data/Dataset) instances containing the training and validation datasets, respectively."
   ]
  },
  {
   "cell_type": "code",
   "execution_count": null,
   "id": "a1fae16e",
   "metadata": {},
   "outputs": [],
   "source": [
    "### From Udacity's `utils.py`"
   ]
  },
  {
   "cell_type": "code",
   "execution_count": null,
   "id": "39b50208",
   "metadata": {},
   "outputs": [],
   "source": [
    "def get_datasets(imdir: str) -> tuple:\n",
    "    \"\"\"Return the training and validation datasets.\n",
    "    \n",
    "    :param imdir: absolute path to the directory where the data is stored in.\n",
    "    :returns: (train_dataset, validation_dataset), tuple of tf.data.Dataset instances.\n",
    "    \"\"\"\n",
    "    \n",
    "    train_dataset = tf.keras.preprocessing.image_dataset_from_directory(\n",
    "                        imdir,\n",
    "                        labels='inferred',\n",
    "                        label_mode='int',\n",
    "                        color_mode='rgb',\n",
    "                        batch_size=batch_size,\n",
    "                        image_size=image_size,\n",
    "                        shuffle=True,\n",
    "                        seed=123,\n",
    "                        validation_split=0.1,\n",
    "                        subset='training',\n",
    "    )\n",
    "    validation_dataset = tf.keras.preprocessing.image_dataset_from_directory(\n",
    "                        imdir,\n",
    "                        labels='inferred',\n",
    "                        label_mode='int',\n",
    "                        color_mode='rgb',\n",
    "                        batch_size=batch_size,\n",
    "                        image_size=image_size,\n",
    "                        shuffle=True,\n",
    "                        seed=123,\n",
    "                        validation_split=0.1,\n",
    "                        subset='validation',\n",
    "    )\n",
    "    return train_dataset, validation_dataset"
   ]
  },
  {
   "cell_type": "code",
   "execution_count": null,
   "id": "f906cdf7",
   "metadata": {},
   "outputs": [],
   "source": [
    "### Fetching the training and validation datasets\n",
    "train_dataset, val_dataset = get_datasets(args.imdir)"
   ]
  },
  {
   "cell_type": "markdown",
   "id": "b7f368f0",
   "metadata": {},
   "source": [
    "##### Processing the image data"
   ]
  },
  {
   "cell_type": "code",
   "execution_count": null,
   "id": "936d2612",
   "metadata": {},
   "outputs": [],
   "source": [
    "### Number of features (pixel values) in a single image\n",
    "train_iter = iter(train_dataset)\n",
    "len(train_iter.get_next()[0].numpy().flatten())"
   ]
  },
  {
   "cell_type": "code",
   "execution_count": null,
   "id": "55d7a1ba",
   "metadata": {},
   "outputs": [],
   "source": [
    "def process(image,label):\n",
    "    \"\"\" small function to normalize input images \"\"\"\n",
    "    image = tf.cast(image/255. ,tf.float32)\n",
    "    return image,label"
   ]
  },
  {
   "cell_type": "code",
   "execution_count": null,
   "id": "1ba04d8a",
   "metadata": {},
   "outputs": [],
   "source": [
    "### Scaling the image data"
   ]
  },
  {
   "cell_type": "code",
   "execution_count": null,
   "id": "7971847d",
   "metadata": {},
   "outputs": [],
   "source": [
    "train_dataset_scaled = tf.data.Dataset.from_generator((lambda x, label: process(x, label))(train_dataset))"
   ]
  },
  {
   "cell_type": "markdown",
   "id": "13df3c87",
   "metadata": {},
   "source": [
    "##### Performing the training and validation loops"
   ]
  },
  {
   "cell_type": "code",
   "execution_count": null,
   "id": "084541c8",
   "metadata": {},
   "outputs": [],
   "source": [
    "### From Udacity's `training.py`"
   ]
  },
  {
   "cell_type": "code",
   "execution_count": null,
   "id": "90d99992",
   "metadata": {},
   "outputs": [],
   "source": [
    "logger.info(f'Training for {args.epochs} epochs using {args.imdir} data')\n",
    "# Using the model `fit()` API call for training\n",
    "history = model.fit(x=train_dataset, \n",
    "                    epochs=args.epochs, \n",
    "                    validation_data=val_dataset)"
   ]
  },
  {
   "cell_type": "markdown",
   "id": "ce2ee915",
   "metadata": {},
   "source": [
    "##### Visualising the results"
   ]
  },
  {
   "cell_type": "markdown",
   "id": "e79f0c64",
   "metadata": {},
   "source": [
    "Lastly, at the end of training, you will need to be in the `Desktop` view to see the metrics visualization."
   ]
  },
  {
   "cell_type": "code",
   "execution_count": null,
   "id": "ad7de8ff",
   "metadata": {},
   "outputs": [],
   "source": [
    "### From Udacity's `utils.py`"
   ]
  },
  {
   "cell_type": "code",
   "execution_count": null,
   "id": "81537bd8",
   "metadata": {},
   "outputs": [],
   "source": [
    "def display_metrics(history):\n",
    "    \"\"\" plot loss and accuracy from keras history object \"\"\"\n",
    "    f, ax = plt.subplots(1, 2, figsize=(15, 5))\n",
    "    ax[0].plot(history.history['loss'], linewidth=3)\n",
    "    ax[0].plot(history.history['val_loss'], linewidth=3)\n",
    "    ax[0].set_title('Loss', fontsize=16)\n",
    "    ax[0].set_ylabel('Loss', fontsize=16)\n",
    "    ax[0].set_xlabel('Epoch', fontsize=16)\n",
    "    ax[0].legend(['train loss', 'val loss'], loc='upper right')\n",
    "    ax[1].plot(history.history['accuracy'], linewidth=3)\n",
    "    ax[1].plot(history.history['val_accuracy'], linewidth=3)\n",
    "    ax[1].set_title('Accuracy', fontsize=16)\n",
    "    ax[1].set_ylabel('Accuracy', fontsize=16)\n",
    "    ax[1].set_xlabel('Epoch', fontsize=16)\n",
    "    ax[1].legend(['train acc', 'val acc'], loc='upper left')\n",
    "    plt.show()"
   ]
  },
  {
   "cell_type": "code",
   "execution_count": null,
   "id": "28afcecf",
   "metadata": {},
   "outputs": [],
   "source": [
    "### From Udacity's `training.py`"
   ]
  },
  {
   "cell_type": "code",
   "execution_count": null,
   "id": "8d43b93a",
   "metadata": {},
   "outputs": [],
   "source": [
    "display_metrics(history)"
   ]
  },
  {
   "cell_type": "markdown",
   "id": "0fdf481d",
   "metadata": {},
   "source": [
    "## Tips"
   ]
  },
  {
   "cell_type": "markdown",
   "id": "b39051ad",
   "metadata": {},
   "source": [
    "You can leverage `tf.keras.Sequential` to stack layers in your network and `tf.keras.layers` to create the different layers."
   ]
  },
  {
   "cell_type": "markdown",
   "id": "4b8378fa",
   "metadata": {},
   "source": [
    "## Credits"
   ]
  },
  {
   "cell_type": "markdown",
   "id": "9fd2d4b5",
   "metadata": {},
   "source": [
    "This assignment was prepared by Thomas Hossler and Michael Virgo et al., Winter 2021 (link [here](https://www.udacity.com/course/self-driving-car-engineer-nanodegree--nd0013)).\n",
    "\n",
    "\n",
    "\n",
    "References\n",
    "* [1] Kingma, D. and Ba, J. Adam: A Method for Stochastic Optimization. arXiv (2014). [doi:10.48550/arXiv.1412.6980](https://arxiv.org/abs/1412.6980v9).\n",
    "\n",
    "\n",
    "Helpful resources:\n",
    "* [Feedforward Neural Networks | Brilliant.org](https://brilliant.org/wiki/feedforward-neural-networks/)\n",
    "* [Standardizing on Keras: Guidance on High-level APIs in TensorFlow 2.0 | Google TensorFlow Blog](https://blog.tensorflow.org/2018/12/standardizing-on-keras-guidance.html)"
   ]
  }
 ],
 "metadata": {
  "kernelspec": {
   "display_name": "Python 3",
   "language": "python",
   "name": "python3"
  },
  "language_info": {
   "codemirror_mode": {
    "name": "ipython",
    "version": 3
   },
   "file_extension": ".py",
   "mimetype": "text/x-python",
   "name": "python",
   "nbconvert_exporter": "python",
   "pygments_lexer": "ipython3",
   "version": "3.8.13"
  },
  "toc": {
   "base_numbering": 1,
   "nav_menu": {},
   "number_sections": false,
   "sideBar": true,
   "skip_h1_title": false,
   "title_cell": "Table of Contents",
   "title_sidebar": "Contents",
   "toc_cell": false,
   "toc_position": {},
   "toc_section_display": true,
   "toc_window_display": true
  }
 },
 "nbformat": 4,
 "nbformat_minor": 5
}
