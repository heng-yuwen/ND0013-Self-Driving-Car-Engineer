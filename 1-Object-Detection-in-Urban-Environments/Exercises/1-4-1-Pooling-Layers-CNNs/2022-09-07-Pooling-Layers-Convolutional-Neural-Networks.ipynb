{
 "cells": [
  {
   "cell_type": "markdown",
   "id": "d52f9a43",
   "metadata": {},
   "source": [
    "# Exercise 1 - Pooling"
   ]
  },
  {
   "cell_type": "code",
   "execution_count": null,
   "id": "92f086a6",
   "metadata": {},
   "outputs": [],
   "source": [
    "import numpy as np"
   ]
  },
  {
   "cell_type": "markdown",
   "id": "11921bf5",
   "metadata": {},
   "source": [
    "## Objective"
   ]
  },
  {
   "cell_type": "markdown",
   "id": "2c5ada01",
   "metadata": {},
   "source": [
    "In this exercise, you will implement a simplified version of the max pooling layer."
   ]
  },
  {
   "cell_type": "markdown",
   "id": "7104ef3e",
   "metadata": {},
   "source": [
    "## Details"
   ]
  },
  {
   "cell_type": "markdown",
   "id": "f479334e",
   "metadata": {},
   "source": [
    "You will have to implement two functions and a small script. The first function is a padding \n",
    "function. Using the input size and the pooling layer parameters (stride and filter size), \n",
    "this function finds the padding `wpad` and `hpad` (width and height padding) such that the \n",
    "input dimensions are padded."
   ]
  },
  {
   "cell_type": "code",
   "execution_count": null,
   "id": "9a8cb366",
   "metadata": {},
   "outputs": [],
   "source": [
    "### From Udacity's `pooling.py`"
   ]
  },
  {
   "cell_type": "code",
   "execution_count": null,
   "id": "f21dad97",
   "metadata": {},
   "outputs": [],
   "source": [
    "def get_paddings(array, pool_size, pool_stride):\n",
    "    \"\"\" \n",
    "    get padding sizes \n",
    "    args:\n",
    "    - array [array]: input np array NxwxHxC\n",
    "    - pool_size [int]: window size\n",
    "    - pool_stride [int]: stride\n",
    "    returns:\n",
    "    - paddings [list[list]]: paddings in np.pad format\n",
    "    \"\"\"\n",
    "    # IMPLEMENT THIS FUNCTION\n",
    "    wpad = None\n",
    "    hpad = None\n",
    "    return [[0, 0], [0, wpad], [0, hpad], [0, 0]]"
   ]
  },
  {
   "cell_type": "markdown",
   "id": "655d07e1",
   "metadata": {},
   "source": [
    "The next function calculates the output dimensions after pooling given the padded array\n",
    "dimensions and the pooling parameters (stride and filter size)."
   ]
  },
  {
   "cell_type": "code",
   "execution_count": null,
   "id": "410e14d7",
   "metadata": {},
   "outputs": [],
   "source": [
    "### From Udacity's `pooling.py`"
   ]
  },
  {
   "cell_type": "code",
   "execution_count": null,
   "id": "e221777c",
   "metadata": {},
   "outputs": [],
   "source": [
    "def get_output_size(shape, pool_size, pool_stride):\n",
    "    \"\"\" \n",
    "    given input shape, pooling window and stride, output shape \n",
    "    args:\n",
    "    - shape [list]: input shape\n",
    "    - pool_size [int]: window size\n",
    "    - pool_stride [int]: stride\n",
    "    returns\n",
    "    - output_shape [list]: output array shape\n",
    "    \"\"\"\n",
    "    # IMPLEMENT THIS FUNCTION\n",
    "    new_w = None\n",
    "    new_h = None\n",
    "    return [shape[0], int(new_w), int(new_h), shape[3]]"
   ]
  },
  {
   "cell_type": "markdown",
   "id": "ddca13f4",
   "metadata": {},
   "source": [
    "Finally, the script calculates the pooling layer output."
   ]
  },
  {
   "cell_type": "code",
   "execution_count": null,
   "id": "8ad957f4",
   "metadata": {},
   "outputs": [],
   "source": [
    "### From Udacity's `pooling.py`"
   ]
  },
  {
   "cell_type": "code",
   "execution_count": null,
   "id": "6577af54",
   "metadata": {},
   "outputs": [],
   "source": [
    "parser = argparse.ArgumentParser(description='Download and process tf files')\n",
    "parser.add_argument('-f', '--pool_size', required=True, type=int, default=3,\n",
    "                    help='pool filter size')\n",
    "parser.add_argument('-s', '--stride', required=True, type=int, default=3,\n",
    "                    help='stride size')\n",
    "args = parser.parse_args()\n",
    "\n",
    "input_array = np.random.rand(1, 224, 224, 16)\n",
    "pool_size = args.pool_size\n",
    "pool_stride = args.stride\n",
    "\n",
    "# padd the input layer\n",
    "paddings = get_paddings(input_array, pool_size, pool_stride)\n",
    "padded = np.pad(input_array, paddings, mode='constant', constant_values=0)\n",
    "\n",
    "# get output size\n",
    "output_size = get_output_size(padded.shape, pool_size, pool_stride)\n",
    "output = np.zeros(output_size)\n",
    "\n",
    "# IMPLEMENT THE POOLING CALCULATION \n",
    "check_output(output)"
   ]
  },
  {
   "cell_type": "markdown",
   "id": "3ff4a5b0",
   "metadata": {},
   "source": [
    "You can run `python pooling.py` to check your implementation - note that the checking of the output will require input of a 3x3 filter and stride of 3."
   ]
  },
  {
   "cell_type": "code",
   "execution_count": null,
   "id": "f65da3a2",
   "metadata": {},
   "outputs": [],
   "source": [
    "### From Udacity's `utils.py`"
   ]
  },
  {
   "cell_type": "code",
   "execution_count": null,
   "id": "01ea969b",
   "metadata": {},
   "outputs": [],
   "source": [
    "def check_output(output):\n",
    "    \"\"\"\n",
    "    checking the shape of the output\n",
    "    \"\"\"\n",
    "    if output.shape == (1, 75, 75, 16):\n",
    "        print('Success!')\n",
    "    else:\n",
    "        print('Failure')"
   ]
  },
  {
   "cell_type": "markdown",
   "id": "9b682ae4",
   "metadata": {},
   "source": [
    "## Tips"
   ]
  },
  {
   "cell_type": "markdown",
   "id": "79e6573e",
   "metadata": {},
   "source": [
    "Pooling only affects the spatial dimensions and preserves the batch size (first axis of the padded array) \n",
    "and the number of channels (last axis)."
   ]
  }
 ],
 "metadata": {
  "kernelspec": {
   "display_name": "Python 3",
   "language": "python",
   "name": "python3"
  },
  "language_info": {
   "codemirror_mode": {
    "name": "ipython",
    "version": 3
   },
   "file_extension": ".py",
   "mimetype": "text/x-python",
   "name": "python",
   "nbconvert_exporter": "python",
   "pygments_lexer": "ipython3",
   "version": "3.8.13"
  },
  "toc": {
   "base_numbering": 1,
   "nav_menu": {},
   "number_sections": true,
   "sideBar": true,
   "skip_h1_title": false,
   "title_cell": "Table of Contents",
   "title_sidebar": "Contents",
   "toc_cell": false,
   "toc_position": {},
   "toc_section_display": true,
   "toc_window_display": false
  }
 },
 "nbformat": 4,
 "nbformat_minor": 5
}
