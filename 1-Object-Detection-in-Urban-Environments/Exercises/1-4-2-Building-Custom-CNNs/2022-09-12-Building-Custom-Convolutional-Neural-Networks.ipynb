{
  "cells": [
    {
      "cell_type": "markdown",
      "id": "8c8fd7ff",
      "metadata": {
        "id": "8c8fd7ff"
      },
      "source": [
        "# Exercise 1.4.2 - Building Custom CNNs\n",
        "#### By Jonathan L. Moran (jonathan.moran107@gmail.com)\n",
        "From the Self-Driving Car Engineer Nanodegree programme offered at Udacity."
      ]
    },
    {
      "cell_type": "markdown",
      "id": "d90eed14",
      "metadata": {
        "id": "d90eed14"
      },
      "source": [
        "## Objectives"
      ]
    },
    {
      "cell_type": "markdown",
      "id": "06ef1e77",
      "metadata": {
        "id": "06ef1e77"
      },
      "source": [
        "* Use the TensorFlow Keras [Sequential API](https://www.tensorflow.org/api_docs/python/tf/keras/Sequential) to create a convolutional neural network ([CNN](https://en.wikipedia.org/wiki/Convolutional_neural_network));\n",
        "* Implement the [LeNet-5](https://en.wikipedia.org/wiki/LeNet) CNN architecture;\n",
        "* Train the LeNet-5 on the modified [MNIST digits](http://yann.lecun.com/exdb/mnist/) dataset;\n",
        "* Train a CNN model (e.g., LeNet-5) on the German Traffic Sign Recognition Benchmark [GTSRB](https://benchmark.ini.rub.de/gtsrb_dataset.html) dataset."
      ]
    },
    {
      "cell_type": "markdown",
      "id": "e859be21",
      "metadata": {
        "id": "e859be21"
      },
      "source": [
        "## 1. Introduction"
      ]
    },
    {
      "cell_type": "code",
      "execution_count": 1,
      "id": "0e81ad1b",
      "metadata": {
        "id": "0e81ad1b"
      },
      "outputs": [],
      "source": [
        "### Importing the required modules"
      ]
    },
    {
      "cell_type": "code",
      "execution_count": 2,
      "id": "b25a0963",
      "metadata": {
        "id": "b25a0963"
      },
      "outputs": [],
      "source": [
        "from collections import defaultdict\n",
        "import logging\n",
        "import matplotlib.pyplot as plt\n",
        "import os\n",
        "import tensorflow as tf\n",
        "import tensorflow_datasets as tfds\n",
        "from typing import Generator, Iterator, List, Tuple"
      ]
    },
    {
      "cell_type": "code",
      "source": [
        "tf.__version__"
      ],
      "metadata": {
        "colab": {
          "base_uri": "https://localhost:8080/",
          "height": 36
        },
        "id": "VlCuik5WFo-G",
        "outputId": "0ca30994-4237-4248-a96f-6b64669e26c7"
      },
      "id": "VlCuik5WFo-G",
      "execution_count": 3,
      "outputs": [
        {
          "output_type": "execute_result",
          "data": {
            "text/plain": [
              "'2.8.2'"
            ],
            "application/vnd.google.colaboratory.intrinsic+json": {
              "type": "string"
            }
          },
          "metadata": {},
          "execution_count": 3
        }
      ]
    },
    {
      "cell_type": "code",
      "source": [
        "tf.test.gpu_device_name()"
      ],
      "metadata": {
        "colab": {
          "base_uri": "https://localhost:8080/",
          "height": 36
        },
        "id": "Bdl34d5jFo6V",
        "outputId": "a5359b15-3b58-421e-e32c-e5acaf34152a"
      },
      "id": "Bdl34d5jFo6V",
      "execution_count": 4,
      "outputs": [
        {
          "output_type": "execute_result",
          "data": {
            "text/plain": [
              "'/device:GPU:0'"
            ],
            "application/vnd.google.colaboratory.intrinsic+json": {
              "type": "string"
            }
          },
          "metadata": {},
          "execution_count": 4
        }
      ]
    },
    {
      "cell_type": "code",
      "source": [
        "### Setting the environment variables"
      ],
      "metadata": {
        "id": "14SKbFEhFowk"
      },
      "id": "14SKbFEhFowk",
      "execution_count": 5,
      "outputs": []
    },
    {
      "cell_type": "code",
      "source": [
        "ENV_COLAB = True                # True if running in Google Colab instance"
      ],
      "metadata": {
        "id": "QRK1yNpUFyNg"
      },
      "id": "QRK1yNpUFyNg",
      "execution_count": 6,
      "outputs": []
    },
    {
      "cell_type": "code",
      "source": [
        "# Root directory\n",
        "DIR_BASE = '' if not ENV_COLAB else '/content/'"
      ],
      "metadata": {
        "id": "mo7YMWrIFyJW"
      },
      "id": "mo7YMWrIFyJW",
      "execution_count": 7,
      "outputs": []
    },
    {
      "cell_type": "code",
      "source": [
        "# Subdirectory to save output files\n",
        "DIR_OUT = os.path.join(DIR_BASE, 'out/')\n",
        "# Subdirectory pointing to input data\n",
        "DIR_SRC = os.path.join(DIR_BASE, 'data/')"
      ],
      "metadata": {
        "id": "600UKHaQFyFI"
      },
      "id": "600UKHaQFyFI",
      "execution_count": 8,
      "outputs": []
    },
    {
      "cell_type": "code",
      "source": [
        "### Unzipping the GTSRB dataset\n",
        "!unzip -q /content/GTSRB.zip -d /content/data/"
      ],
      "metadata": {
        "id": "fyBCboPTFyA_"
      },
      "id": "fyBCboPTFyA_",
      "execution_count": 8,
      "outputs": []
    },
    {
      "cell_type": "code",
      "source": [
        "### Creating subdirectories (if not exists)\n",
        "os.makedirs(DIR_OUT, exist_ok=True)"
      ],
      "metadata": {
        "id": "vAjY0rSzF4Of"
      },
      "id": "vAjY0rSzF4Of",
      "execution_count": 9,
      "outputs": []
    },
    {
      "cell_type": "markdown",
      "id": "3145fd5c",
      "metadata": {
        "id": "3145fd5c"
      },
      "source": [
        "### 1.1. Convolutional Neural Networks (CNNs)"
      ]
    },
    {
      "cell_type": "markdown",
      "id": "e247b07b",
      "metadata": {
        "id": "e247b07b"
      },
      "source": [
        "#### Background"
      ]
    },
    {
      "cell_type": "markdown",
      "id": "d0e145f5",
      "metadata": {
        "id": "d0e145f5"
      },
      "source": [
        "A [convolutional neural network](https://en.wikipedia.org/wiki/Convolutional_neural_network) (\"ConvNet\") is a special type of neural network particularly well-suited to handle image data. Like the feedforward neural networks we saw in [Exercise 1.3.3](https://github.com/jonathanloganmoran/ND0013-Self-Driving-Car-Engineer/blob/main/1-Object-Detection-in-Urban-Environments/Exercises/1-3-3-Image-Classification-FNNs/2022-09-05-Image-Classification-Feed-Forward-Neural-Networks.ipynb), CNNs are composed of layers of neurons that have trainable weights and biases. In addition, CNNs often use activation functions and fully-connected layers similar to FNNs (e.g., softmax).\n",
        "\n",
        "With CNNs, we make the assumption that we will always be using image data as our inputs. Since image data is multi-dimensional, resizing these $\\left[H, W, D\\right]$ arrays to flattened $\\left[1x\\left(H*W*D\\right)\\right]$ vectors is necessary when using fully-connected layers, such as in feedforward neural networks. With ConvNets, however, we make use of locally-connected layers that operate over small portions of _volumetric data_. That is, ConvNets allow us to preserve the existing structure of image data and drastically reduce the amount of trainable parameters needed in each layer of our network. For example, a single fully-connected neuron will require a number of weight values equal to the number of attributes in our image input. For an image of size $\\left[64, 64, 3\\right]$, we obtain $(64*64*3) = 12288$ weight values _per neuron_. For a layer with only $n = 10$ fully-connected neurons, the number of trainable weights we have skyrockets to an astonishing $n * 12288 = 122880$ parameters per layer. We will see in this exercise that by limiting the connectivity of neurons between layers, we can design a network that reduces the number of parameters required while simultaneously _increasing_ the number of layers in the architecture."
      ]
    },
    {
      "cell_type": "markdown",
      "id": "f117afd2",
      "metadata": {
        "id": "f117afd2"
      },
      "source": [
        "![Fig. 1. The convolutional neural network architecture (simplified).](figures/2022-09-12-Figure-1-Convolutional-Neural-Network-Simplified.png)\n",
        "\n",
        "$$\n",
        "\\textrm{Fig. 1. The convolutional neural network architecture (simplified)}.\n",
        "$$"
      ]
    },
    {
      "cell_type": "markdown",
      "id": "ced2a2da",
      "metadata": {
        "id": "ced2a2da"
      },
      "source": [
        "#### Layers"
      ]
    },
    {
      "cell_type": "markdown",
      "id": "e40b6610",
      "metadata": {
        "id": "e40b6610"
      },
      "source": [
        "Most, if not all, convolutional neural network architectures use some combination of the following three distinct layer types: _convolutional layer_, _pooling layer_, and _fully-connected layer_. We have implemented fully-connected layers in [Exercise 1.3.3](https://github.com/jonathanloganmoran/ND0013-Self-Driving-Car-Engineer/blob/main/1-Object-Detection-in-Urban-Environments/Exercises/1-3-3-Image-Classification-FNNs/2022-09-05-Image-Classification-Feed-Forward-Neural-Networks.ipynb) for feedforward neural networks, and their application in ConvNets is no different. However, we introduce the _convolutional layer_ in this exercise. We will touch on these in more detail in just a minute."
      ]
    },
    {
      "cell_type": "markdown",
      "id": "40bbf870",
      "metadata": {
        "id": "40bbf870"
      },
      "source": [
        "##### Input layer"
      ]
    },
    {
      "cell_type": "markdown",
      "id": "996a3410",
      "metadata": {
        "id": "996a3410"
      },
      "source": [
        "It is important to first note that our _input layer_ corresponds directly to the dimensionality of our image data. One major assumption we make with convolutional neural networks is that our input image dimensions are constant. That is, that every image passing through our network shares the same _height_, _width_, and _channel_ dimensions. In ConvNets, the _depth_ of an image (its colour channels, e.g., R, G, B) is maintained throughout the network while the height and width might change. For convolutional and pooling layers, this matters because each kernel and filter will require an extra dimension $D$ equal to the number of colour channels in an image in addition to their width and height attributes. For an RGB image, a kernel/filter of size $\\left(h \\ x \\ w\\right)$ will therefore have dimensions $\\left(h \\ x \\ w \\ x \\ 3\\right)$."
      ]
    },
    {
      "cell_type": "markdown",
      "id": "63727ab3",
      "metadata": {
        "id": "63727ab3"
      },
      "source": [
        "##### Convolutional layer"
      ]
    },
    {
      "cell_type": "markdown",
      "id": "c364662b",
      "metadata": {
        "id": "c364662b"
      },
      "source": [
        "Very similar to the pooling layers we studied in [Exercise 1.4.1](https://github.com/jonathanloganmoran/ND0013-Self-Driving-Car-Engineer/blob/main/1-Object-Detection-in-Urban-Environments/Exercises/1-4-1-Pooling-Layers-CNNs/2022-09-07-Pooling-Layers-Convolutional-Neural-Networks.ipynb), these layers take an input, the volumetric image data, and perform sliding window operations ([convolutions](https://en.wikipedia.org/wiki/Convolution)) over the image. The convolution layer, like pooling layers, have _stride_, _kernel size_ and _padding_ attributes. We also introduce a _filter_ hyperparameter which allows us to specify the desired dimensionality of our convolution layer output. Convolutional layers rarely ever have just _one filter_. In fact, it is very common to see a single convolutional layer have anywhere from 32 filters up to 512. Each _filter_ represents a _feature_ in the input image (hence the output name \"feature map\"). These filters are templates which, when convolved with an input image, help locate and identify vertical, horizontal edges, arches, diagonal lines, etc.\n",
        "\n",
        "The convolutional layer in a network is often directly followed by an element-wise activation layer such as the Rectified Linear Unit ([ReLU](https://en.wikipedia.org/wiki/Rectifier_\\(neural_networks\\))) to introduce further non-linearities into the network. Note that the activation layer's output dimensions remain constant."
      ]
    },
    {
      "cell_type": "markdown",
      "id": "50502aca",
      "metadata": {
        "id": "50502aca"
      },
      "source": [
        "##### Pooling layer"
      ]
    },
    {
      "cell_type": "markdown",
      "id": "fcabccc2",
      "metadata": {
        "id": "fcabccc2"
      },
      "source": [
        "Pooling layers, as mentioned in the previous Exercise 1.4.1, reduce the size (spatial dimensions) of the images through a downsampling (averaging) or sub-sampling (max/min) operation. By replacing adjacent pixel values with neighbourhood calculations we are able to transform the output and effectively manipulate (increase _multiplicatively_) the [receptive field](https://en.wikipedia.org/wiki/Receptive_field#In_the_context_of_neural_networks) of the image (i.e., the region within an image of which a particular neuron is sensitive to). On the other hand, convolutional layers increase the receptive field _linearly_ proportional to the kernel size. Cascading convolutional layers with _dialated filters_ increase the receptive field exponentially [1]. By shrinking the image, we are essentially _increasing_ the amount of its pixels (information) we can fit into a single \"patch\" for a neuron to consider.\n",
        "\n",
        "As the image becomes reduced in size as it passes through the network, neurons in deeper layers get to \"see\" larger and larger parts of the whole image. In turn, we can increase the receptive field of a network exponentially while increasing the number of parameters linearly. This trade-off is what affords us the ability to swap only a few fully-connected layers for _handfuls_ of convolutional stacks without increasing complexity or decreasing the receptive field."
      ]
    },
    {
      "cell_type": "markdown",
      "id": "c79bbc9d",
      "metadata": {
        "id": "c79bbc9d"
      },
      "source": [
        "##### Fully-connected layer"
      ]
    },
    {
      "cell_type": "markdown",
      "id": "d0a51e94",
      "metadata": {
        "id": "d0a51e94"
      },
      "source": [
        "While we aren't able to eliminate fully-connected layers altogether, their use in convolutional neural networks is limited. Fully-connected layers appear at the end of a network for classification; the number of neurons of the last fully-connected layer in a CNN equal the number of distinct classes predicted (e.g., there are $3$ distinct classes being predicted in the example shown in Fig. 1). Practitioners may also choose to implement several preceding fully-connected layers with an arbitrarily large number of neurons, e.g., 512, 256, 64."
      ]
    },
    {
      "cell_type": "markdown",
      "id": "ec6d040a",
      "metadata": {
        "id": "ec6d040a"
      },
      "source": [
        "#### In summary\n",
        "   * Inputs to a ConvNet are volumetric image data with fixed dimensions;\n",
        "   * We use pooling layers to _downsample_ or _sub-sample_ images (reduce their spatial dimensions);\n",
        "   * By reducing the spatial dimensions, we _increase_ the neurons' receptive fields (how much of the image they can \"see\");\n",
        "   * With convolutional networks we are able to eventually cover the entire region of an input image at a cost significantly reduced to fully-connected layers;"
      ]
    },
    {
      "cell_type": "markdown",
      "id": "cad873e8",
      "metadata": {
        "id": "cad873e8"
      },
      "source": [
        "We have now learned the benefits of convolutional architectures to more-traditional neural networks (specifically, feedforward neural networks); by adding \"stacks\" of convolutional/pooling layers, we can exploit the complexity-efficiency trade-off. Convolutional stacks help us set reasonable limits on neural network complexity by decreasing the number of overall trainable parameters we have to work with layer-for-layer. This not only improves training efficiency but also helps boost performance on image classification tasks.\n",
        "\n",
        "While popular CNN architectures often make use of even more efficiency-focused layers, such as _dropout_/_inverted dropout_, _skip connections_, and _batch normalisation_, we will limit our discussion on those topics for now."
      ]
    },
    {
      "cell_type": "markdown",
      "id": "2c4503d3",
      "metadata": {
        "id": "2c4503d3"
      },
      "source": [
        "### 1.2. LeNet"
      ]
    },
    {
      "cell_type": "markdown",
      "id": "4fc7fafa",
      "metadata": {
        "id": "4fc7fafa"
      },
      "source": [
        "#### Background"
      ]
    },
    {
      "cell_type": "markdown",
      "id": "4365ef26",
      "metadata": {
        "id": "4365ef26"
      },
      "source": [
        "![Fig. 2. The LeNet-5 convolutional neural network architecture for digits recognition.](figures/2022-09-12-Figure-2-LeNet-5-CNN-Architecture.png)\n",
        "\n",
        "$$\n",
        "\\textrm{Fig. 2. The LeNet-5 convolutional neural network architecture for digits recognition (proposed in LeCun 1998:7).}\n",
        "$$"
      ]
    },
    {
      "cell_type": "markdown",
      "id": "30cc2883",
      "metadata": {
        "id": "30cc2883"
      },
      "source": [
        "The [LeNet-5](https://en.wikipedia.org/wiki/LeNet) is a convolutional neural network architecture proposed by Yann LeCun et al. of Bell Labs in 1998 [2]. LeNet-5 is recognised in the deep learning community as being one of the earliest ConvNet architectures with work dating back to [1989](https://doi.org/10.1162%2Fneco.1989.1.4.541). LeCun's model (illustrated in Fig. 2) has all the basic units of a convolutional neural network: convolutional layers, pooling layers and fully-connected layers. Like most ConvNet architectures we studied, the LeNet-5 has alternating convolutional and sub-sampling (average pooling) layers. Also as expected we see that the number of filters/kernel windows increases as we go deeper in the network, starting with $6$ and increasing to $16$ in the final convolutional layer. In Fig. 2, we can interpret the number preceeding the \"@\" symbol as the number of filters/kernels of each layer, followed by the filter/kernel size (omitting the _depth_ dimension from the notation). Lastly, we have for each layer in the convolutional stack a _stride_ hyperparameter denoted by $s$.\n",
        "\n",
        "Not shown in Fig. 2 is the use of the [tanh](https://paperswithcode.com/method/tanh-activation) non-linear activation function throughout the network. While this proved to be a better performer than the sigmoid function for a multi-layer neural network, _tanh_ did not appropriately handle the [vanishing gradient problem](https://en.wikipedia.org/wiki/Vanishing_gradient_problem), architectures today utilise other activation functions such as [ReLU](https://en.wikipedia.org/wiki/ReLU) or [batch normalisation](https://en.wikipedia.org/wiki/Batch_normalization) to solve this. The last layer of the network utilises a [softmax](https://en.wikipedia.org/wiki/Softmax_function) activation function to fit a Gaussian distribution to the predicted class probabilities."
      ]
    },
    {
      "cell_type": "markdown",
      "id": "f0bedd6f",
      "metadata": {
        "id": "f0bedd6f"
      },
      "source": [
        "#### Layers"
      ]
    },
    {
      "cell_type": "markdown",
      "id": "04997dcd",
      "metadata": {
        "id": "04997dcd"
      },
      "source": [
        "##### Input layer"
      ]
    },
    {
      "cell_type": "markdown",
      "id": "f10c814c",
      "metadata": {
        "id": "f10c814c"
      },
      "source": [
        "The input to the LeNet-5 network is a set of $\\left(32 \\ x \\ 32 \\ x \\ 1\\right)$ grayscale images, each consisting of a single handwritten digit (read more on the modified MNIST SD-1/SD-3 dataset [here](http://yann.lecun.com/exdb/mnist/)). The pixel values of the input images are normalised (anti-aliasing) so that the background (white) has a pixel value of $-0.1$ and the foreground (black) has a value $1.175$. This choice for normalisation is made such that the mean value of the input is roughly $0$ and the variance roughly $1$ to accelerate learning."
      ]
    },
    {
      "cell_type": "markdown",
      "id": "72433e84",
      "metadata": {
        "id": "72433e84"
      },
      "source": [
        "##### Convolutional layer (C1)"
      ]
    },
    {
      "cell_type": "markdown",
      "id": "e402f1f5",
      "metadata": {
        "id": "e402f1f5"
      },
      "source": [
        "* **Input size**: $32 x 32 x 1$\n",
        "* **Feature maps**: $6$\n",
        "* **Kernel size**: $5x5x1$\n",
        "* **Stride**: $1$\n",
        "* **Padding**: $0$\n",
        "* **Output size**: $(28x28x1)$; $(32 - 5 + 2*0) \\ / \\ 1 + 1 = 28$\n",
        "* **Neurons**: $6 * (28x28x1) = 4704$\n",
        "* **Trainable parameters**: $6 * (5x5x1 + 1) = 156$\n",
        "* **Total connections**: $6 * (5x5x1 + 1) * (28x28) = 122304$\n",
        "* **Activation function**: Tanh"
      ]
    },
    {
      "cell_type": "markdown",
      "id": "79655646",
      "metadata": {
        "id": "79655646"
      },
      "source": [
        "This convolutional layer has $6$ feature maps. Each unit of each feature map connects to a $5 x 5$ region within the input image. The feature map size of $28 x 28$ has been selected so that the strided convolutions do not result in any dropped pixels (for more information on that, see [Exercise 1.4.1](https://github.com/jonathanloganmoran/ND0013-Self-Driving-Car-Engineer/blob/main/1-Object-Detection-in-Urban-Environments/Exercises/1-4-1-Pooling-Layers-CNNs/2022-09-07-Pooling-Layers-Convolutional-Neural-Networks.ipynb)). each kernel has an additional bias term (hence the \"+1\" in the above calculation of trainable parameters. While the number of connections seems tremendous, due to _weight sharing_ we only need to learn $156$ parameters for this layer."
      ]
    },
    {
      "cell_type": "markdown",
      "id": "8e5849b2",
      "metadata": {
        "id": "8e5849b2"
      },
      "source": [
        "##### Average pooling layer (S2)"
      ]
    },
    {
      "cell_type": "markdown",
      "id": "ba5c3bfd",
      "metadata": {
        "id": "ba5c3bfd"
      },
      "source": [
        "* **Input size**: $28 x 28 x 1$\n",
        "* **Feature maps**: $6$\n",
        "* **Filter size**: $2x2x1$\n",
        "* **Stride**: $2$\n",
        "* **Padding**: $0$\n",
        "* **Output size**: $(14x14x1)$; $(28 - 2 + 2*0) \\ / \\ 2 + 1 = 14$\n",
        "* **Neurons**: $6 * (14x14x1) = 1176$\n",
        "* **Trainable parameters**: $6 * (1 + 1) = 12$\n",
        "* **Total connections**: $6 * (2x2x1 + 1) * (14x14x1) = 5880$\n",
        "* **Activation function**: Tanh"
      ]
    },
    {
      "cell_type": "markdown",
      "id": "b079f610",
      "metadata": {
        "id": "b079f610"
      },
      "source": [
        "This sub-sampling layer uses the local average pooling calculations to reduce the input size in half from $28x28$ to $14x14$. Each window of values is summed, multiplied by a weight coefficient $w$ and then added together with a trainable bias offset term $b$ (hence the number of trainable parameters shown above). These parameters are learned with [back-propagation](https://en.wikipedia.org/wiki/Backpropagation). The intermediate output values are then passed into a sigmoid activation function which is used to enforce non-linearity. The coefficient and bias terms regulate the intensity of the sigmoid function on the output. If the coefficient values are small, then the units operate in a quasi-linear mode such that the sub-sampling layer merely blurs the input. If the coefficient is large, sub-sampling performs similarly to a \"noisy OR\", \"noisy AND\" function depending on the value of the bias (LeCun 1998).\n",
        "\n",
        "The affect of downsampling of the input is a reduction in sensitivity of the output to shifts and distortions. By progressively reducing the spatial resolution with sub-sampling, we compensate the effect by progressively increasing the number of feature maps (the richness of the representation)."
      ]
    },
    {
      "cell_type": "markdown",
      "id": "8e40afdc",
      "metadata": {
        "id": "8e40afdc"
      },
      "source": [
        "##### Convolutional layer (C3)"
      ]
    },
    {
      "cell_type": "markdown",
      "id": "68a1a3e9",
      "metadata": {
        "id": "68a1a3e9"
      },
      "source": [
        "* **Input size**: $14 x 14 x 1$\n",
        "* **Feature maps**: $16$\n",
        "* **Kernel size**: $5 x 5 x 1$\n",
        "* **Stride**: $1$\n",
        "* **Padding**: $0$\n",
        "* **Output size**: $(10x10x1)$; $(14 - 5 + 2*0) \\ / \\ 1 + 1 = 10$\n",
        "* **Neurons**: $16 * (10x10x1) = 1600$\n",
        "* **Trainable parameters**: $6 * \\left[(3x5x5 + 1) + (4x5x5 + 1)\\right] + 3*\\left[(4x5x5 + 1)\\right] + 1*\\left[(6x5x5 + 1)\\right] = 1516$\n",
        "* **Total connections**: $1516*(10x10x1) = 151600$\n",
        "* **Activation function**: Tanh"
      ]
    },
    {
      "cell_type": "markdown",
      "id": "d3bc0166",
      "metadata": {
        "id": "d3bc0166"
      },
      "source": [
        "In this second convolutional layer, we increase the number of feature maps to $16$. In conjunction with the progressive decrease in spatial dimensions of the input images, we now _increase_ the richness of the representation of the input by increasing the number of feature maps. With the increase in feature maps brings a non-complete connection scheme in order to keep the number of connections of $S2$ and $C3$ within resonable bounds."
      ]
    },
    {
      "cell_type": "markdown",
      "id": "b52b855a",
      "metadata": {
        "id": "b52b855a"
      },
      "source": [
        "![Fig. 3. The non-complete connection scheme for layers S2 and C3 (reproduced from LeCun et al., 1998)](figures/2022-09-12-Figure-3-Table-1-LeCun-1998.png)\n",
        "\n",
        "$$\n",
        "\\textrm{Fig. 3. The non-complete connection scheme for layers} \\ S2  \\ \\textrm{and} \\  C3  \\ \\textrm{(reproduced from LeCun et al., 1998)}\n",
        "$$"
      ]
    },
    {
      "cell_type": "markdown",
      "id": "91eb2e87",
      "metadata": {
        "id": "91eb2e87"
      },
      "source": [
        "From the _total connections_ calculation above we see that the first _six_ feature maps of $C3$ take inputs from every contiguous subset of _three_ feature maps of $S2$. The next _six_ feature maps of $C3$ take inputs from every contiguous subset of _four_ feature maps of $S2$. The following _three_ feature maps of $C3$ take inputs from _discontinuous_ subsets of _four_ feature maps of $S2$. The last feature map ($1$) takes _all six_ inputs of the feature maps of $S2$.\n",
        "\n",
        "With that, we calculate the total number of trainable parameters of $C3$ equal to $1516$ and the number of total connections equal to $151600$."
      ]
    },
    {
      "cell_type": "markdown",
      "id": "3a150043",
      "metadata": {
        "id": "3a150043"
      },
      "source": [
        "##### Average Pooling layer (S4)"
      ]
    },
    {
      "cell_type": "markdown",
      "id": "9563c472",
      "metadata": {
        "id": "9563c472"
      },
      "source": [
        "* **Input size**: $10 x 10 x 1$\n",
        "* **Feature maps**: $16$\n",
        "* **Filter size**: $2x2x1$\n",
        "* **Stride**: $2$\n",
        "* **Padding**: $0$\n",
        "* **Output size**: $(5x5x1)$; $(10 - 2 + 2*0) \\ / \\ 2 + 1 = 5$\n",
        "* **Neurons**: $16 * (5x5x1) = 400$\n",
        "* **Trainable parameters**: $16 * (1 + 1) = 32$\n",
        "* **Total connections**: $16 * (2x2x1 + 1) * (5x5x1) = 2000$\n",
        "* **Activation function**: Tanh"
      ]
    },
    {
      "cell_type": "markdown",
      "id": "c7c1fc9c",
      "metadata": {
        "id": "c7c1fc9c"
      },
      "source": [
        "The down-sampling layer $S4$ reduces its input by a factor of 2 from $10x10x1$ down to $5x5x1$. The $16$ feature maps of size $10x10x1$ from $C3$ are pooled into $2x2x1$ units to obtain $16$ feature maps of size $5x5x1$.  "
      ]
    },
    {
      "cell_type": "markdown",
      "id": "1f28f69a",
      "metadata": {
        "id": "1f28f69a"
      },
      "source": [
        "##### Convolutional layer (C5)"
      ]
    },
    {
      "cell_type": "markdown",
      "id": "061e316d",
      "metadata": {
        "id": "061e316d"
      },
      "source": [
        "* **Input size**: $5 x 5 x 1$\n",
        "* **Feature maps**: $120$\n",
        "* **Kernel size**: $5 x 5 x 1$\n",
        "* **Stride**: $1$\n",
        "* **Padding**: $0$\n",
        "* **Output size**: $(1x1x1)$; $(5 - 5 + 2*0) \\ / \\ 1 + 1 = 1$\n",
        "* **Neurons**: $120 * (1x1x1) = 120$\n",
        "* **Trainable parameters**: $120 * (16x5x5x1 + 1) = 48120$\n",
        "* **Total connections**: $120 * (16x5x5x1) = 48000$\n",
        "* **Activation function**: Tanh"
      ]
    },
    {
      "cell_type": "markdown",
      "id": "50148929",
      "metadata": {
        "id": "50148929"
      },
      "source": [
        "Here the final convolutional layer $C5$ is considered to be fully-connected with respect to the input dimensionality of the digits images. For any other configuration (i.e., an increase in the number of channels, as with RGB images), we can expect this to be explicitly a convolutional layer. For the digits dataset, given a kernel size of $5x5x1$ and a corresponding output of layer $S4$ of size $5x5x1$, we obtain a fully-connected layer with $(1x1x1)$ feature map output dimensions. Therefore, we have $48120$ trainable parameters and $48000$ total connections in this last convolutional layer.  "
      ]
    },
    {
      "cell_type": "markdown",
      "id": "e7c574fd",
      "metadata": {
        "id": "e7c574fd"
      },
      "source": [
        "##### Fully-connected layer (F6)"
      ]
    },
    {
      "cell_type": "markdown",
      "id": "0818a69e",
      "metadata": {
        "id": "0818a69e"
      },
      "source": [
        "* **Input size**: $1 x 1 x 1$\n",
        "* **Feature maps**: N/A\n",
        "* **Kernel size**: N/A\n",
        "* **Stride**: N/A\n",
        "* **Padding**: N/A\n",
        "* **Output size**: $(1x1)$\n",
        "* **Neurons**: $84 * (1x1x1) = 84$\n",
        "* **Trainable parameters**: $84*(120x1x1 + 1) = 10164$\n",
        "* **Total connections**: $120 * (16x5x5x1) = 48000$\n",
        "* **Activation function**: Tanh"
      ]
    },
    {
      "cell_type": "markdown",
      "id": "e93aa4ef",
      "metadata": {
        "id": "e93aa4ef"
      },
      "source": [
        "The second-to-last layer in the LeNet-5 network is fully-connected to the convolutional layer $C5$; we can consider $F6$ to be a true fully-connected layer with $84$ units. Here the number of units for this layer was selected according to a $7x12$ bitmap representation corresponding to one of the $10$ character classes. This is considering that the representation used is not particularly useful for _isolated_ digits but rather _strings_ of characters selected from the printable ASCII set which tends to produce _confusable_ i.e., different characters with similar appearances (e.g., an upper/lower-case \"O\" and a zero, or an uppercase \"I\" and the digit 1)."
      ]
    },
    {
      "cell_type": "markdown",
      "id": "80d6b0b7",
      "metadata": {
        "id": "80d6b0b7"
      },
      "source": [
        "##### Output layer (OUTPUT or F7)"
      ]
    },
    {
      "cell_type": "markdown",
      "id": "b365343b",
      "metadata": {
        "id": "b365343b"
      },
      "source": [
        "* **Classes**: 10\n",
        "* **Output size**: $(10x1)$\n",
        "* **Neurons**: $84 * (1x1x1) = 84$\n",
        "* **Trainable parameters**: $84*(10x1x1 + 0) = 840$\n",
        "* **Total connections**: $10 * (84x1x1x1) = 840$\n",
        "* **Activation function**: RBF"
      ]
    },
    {
      "cell_type": "markdown",
      "id": "43c46e5d",
      "metadata": {
        "id": "43c46e5d"
      },
      "source": [
        "The final layer in the LeNet-5 is of course the classification output layer — a fully-connected layer composed of Euclidean Radial Basis Function units (RBF). There are 10 RBF units, one for each digit class, each with a set of 84 inputs. The output of each RBF unit is computed with a Euclidean distance summation between its input vector and its parameter vector. The Euclidean distance (L2 loss) serves as a penalty for the input and RBF digit class; the larger the RBF output, the farther away the input is from the parameter vector. The choice of L2 loss here greatly penalises outliers (distance \"away\" from parameter vectors). The RBF output can also be interpreted as the un-normalised negative log-likelihood of the Gaussian distribution of $F6$.\n",
        "\n",
        "In short, the parameter vectors of the RBF units act as target vectors for the $F6$ layer. The components of the parameter vectors are valued $+1$ or $-1$, which are points along the maximum curvature of the scaled _hyperbolic tangent_, i.e., [tanh](https://en.wikipedia.org/wiki/Hyperbolic_functions#Hyperbolic_tangent), or in other words — the re-scaled and shifted sigmoid activation function. Therefore, the RBF activation function is chosen for this output layer to enforce the maximally non-linear range of the tanh function applied to units in $F6$."
      ]
    },
    {
      "cell_type": "markdown",
      "id": "384c8474",
      "metadata": {
        "id": "384c8474"
      },
      "source": [
        "#### Reflecting on the LeNet-5"
      ]
    },
    {
      "cell_type": "markdown",
      "id": "cdc0f3ad",
      "metadata": {
        "id": "cdc0f3ad"
      },
      "source": [
        "##### Activation functions"
      ]
    },
    {
      "cell_type": "markdown",
      "id": "6f458176",
      "metadata": {
        "id": "6f458176"
      },
      "source": [
        "The tanh and sigmoid activation functions used in LeNet-5 have their downsides. As pointed out in the original paper by LeCun et al., 1998, the scaled tanh function presents issues with saturation at the maximum and minimum boundary points. This leads to [vanishing gradient problem](https://en.wikipedia.org/wiki/Vanishing_gradient_problem) as the derivatives of the function approach zero. Since we have a handful of hidden layers, the multiplication of these near-zero gradient values results in an exponential decrease in the gradient as it is propagated from the final to the initial layer.\n",
        "\n",
        "ReLu or Leaky ReLu are more often used nowadays to address this. ReLU imposes a lower-bound for gradient values at $0$. This handles the vanishing gradient problem by eliminating saturation at very small gradient values — their values simply become zero, ultimately encourages sparsity in the learned representations [3]. Yet in some cases, ReLU may end up always returning the lower-bound ($0$) for any input. The [dying ReLU problem](https://www.educative.io/answers/what-is-the-dying-relu-problem) is the result of zero-valued gradient propagations and a high learning rate or a large negative bias could be at fault. To mitigate this, the [Leaky ReLU](https://www.tensorflow.org/api_docs/python/tf/keras/layers/LeakyReLU) is used which does not produce zero-valued gradients."
      ]
    },
    {
      "cell_type": "markdown",
      "id": "eeb3b264",
      "metadata": {
        "id": "eeb3b264"
      },
      "source": [
        "## 2. Programming Task"
      ]
    },
    {
      "cell_type": "markdown",
      "id": "8a92cf7b",
      "metadata": {
        "id": "8a92cf7b"
      },
      "source": [
        "Using the Keras API, you have to create a small convolutional neural networks using less than 15 layers, containing at least one convolutional layer, one pooling layer and one dense (fully connected layer). You can find a list of the different layers available [here](https://www.tensorflow.org/api_docs/python/tf/keras/layers)."
      ]
    },
    {
      "cell_type": "code",
      "execution_count": 10,
      "id": "83d6a81d",
      "metadata": {
        "id": "83d6a81d"
      },
      "outputs": [],
      "source": [
        "model_params = defaultdict(dict)"
      ]
    },
    {
      "cell_type": "markdown",
      "id": "069cea3b",
      "metadata": {
        "id": "069cea3b"
      },
      "source": [
        "### 2.1. LeNet-5"
      ]
    },
    {
      "cell_type": "markdown",
      "id": "7a69ba1b",
      "metadata": {
        "id": "7a69ba1b"
      },
      "source": [
        "#### Defining the model architecture"
      ]
    },
    {
      "cell_type": "code",
      "execution_count": 11,
      "id": "4a64f8ef",
      "metadata": {
        "id": "4a64f8ef"
      },
      "outputs": [],
      "source": [
        "### From Udacity's `training.py`"
      ]
    },
    {
      "cell_type": "code",
      "execution_count": 12,
      "id": "a7e59f0b",
      "metadata": {
        "id": "a7e59f0b"
      },
      "outputs": [],
      "source": [
        "def create_lenet_network(input_shape: Tuple[int], \n",
        "                         output_shape: int) -> tf.keras.Sequential:\n",
        "    \"\"\"Creates the LeNet-5 network (LeCun et al., 1998).\n",
        "    \n",
        "    :param input_shape: tuple, the n-dimensional shape of the input images.\n",
        "    :param: output_shape: tuple, the 1D shape corresponding to number of\n",
        "        distinct classes to predict.\n",
        "    :returns: the LeNet-5 Model object.\n",
        "    \"\"\"\n",
        "    # IMPLEMENT THIS FUNCTION\n",
        "    \n",
        "    model = tf.keras.Sequential(layers=[\n",
        "        # The C1 (convolutional) layer\n",
        "        tf.keras.layers.Conv2D(\n",
        "                input_shape=input_shape,    # Shape of the input images\n",
        "                filters=6, \n",
        "                kernel_size=(5, 5), \n",
        "                strides=(1, 1), \n",
        "                padding='valid',            # No padding\n",
        "                activation='tanh',\n",
        "                name='C1'\n",
        "        ),\n",
        "        # The S2 (sub-sampling) layer\n",
        "        tf.keras.layers.AveragePooling2D(\n",
        "                pool_size=(2, 2),\n",
        "                strides=(2, 2),\n",
        "                padding='valid',\n",
        "                name='S2'\n",
        "        ),\n",
        "        tf.keras.layers.Activation(\n",
        "                activation=tf.keras.activations.sigmoid,\n",
        "                name='Sigmoid_1'\n",
        "        ),\n",
        "        # The C3 (convolutional) layer\n",
        "        tf.keras.layers.Conv2D(\n",
        "                filters=16,\n",
        "                kernel_size=(5, 5),\n",
        "                strides=(1, 1),\n",
        "                padding='valid',\n",
        "                activation='tanh',\n",
        "                name='C3'\n",
        "        ),\n",
        "        # The S4 (sub-sampling) layer\n",
        "        tf.keras.layers.AveragePooling2D(\n",
        "                pool_size=(2, 2),\n",
        "                strides=(2, 2),\n",
        "                padding='valid',\n",
        "                name='S4'\n",
        "        ),\n",
        "        tf.keras.layers.Activation(\n",
        "                activation=tf.keras.activations.sigmoid,\n",
        "                name='Sigmoid_2'\n",
        "        ),\n",
        "        # The C5 (convolutional) layer\n",
        "        tf.keras.layers.Conv2D(\n",
        "                filters=120,\n",
        "                kernel_size=(5, 5),\n",
        "                strides=(1, 1),\n",
        "                padding='valid',\n",
        "                activation='tanh',\n",
        "                name='C5'\n",
        "        ),\n",
        "        # The Flatten layer\n",
        "        tf.keras.layers.Flatten(),\n",
        "        # The F6 (fully-connected) layer\n",
        "        tf.keras.layers.Dense(\n",
        "                units=84,\n",
        "                activation='tanh',\n",
        "                name='F6'\n",
        "        ),\n",
        "        # The F7 (Output) layer\n",
        "        tf.keras.layers.Dense(\n",
        "                units=output_shape,\n",
        "                activation='softmax',\n",
        "                name='Output'\n",
        "        )\n",
        "    ], name=MODEL_NAME)\n",
        "    return model"
      ]
    },
    {
      "cell_type": "markdown",
      "id": "eaca5b56",
      "metadata": {
        "id": "eaca5b56"
      },
      "source": [
        "#### Defining the model build parameters"
      ]
    },
    {
      "cell_type": "code",
      "execution_count": 13,
      "id": "efd8e50f",
      "metadata": {
        "id": "efd8e50f"
      },
      "outputs": [],
      "source": [
        "### Defining our model parameters"
      ]
    },
    {
      "cell_type": "code",
      "execution_count": 14,
      "id": "e258a733",
      "metadata": {
        "id": "e258a733"
      },
      "outputs": [],
      "source": [
        "model_name = 'LeNet-5'\n",
        "optimizer = 'adam'\n",
        "loss = tf.keras.losses.SparseCategoricalCrossentropy(from_logits=False)\n",
        "metrics = ['accuracy']"
      ]
    },
    {
      "cell_type": "code",
      "execution_count": 15,
      "id": "e7fd7ad4",
      "metadata": {
        "id": "e7fd7ad4"
      },
      "outputs": [],
      "source": [
        "model_params[model_name].update({'optimizer': optimizer})\n",
        "model_params[model_name].update({'loss_fn': loss})\n",
        "model_params[model_name].update({'metrics': metrics})"
      ]
    },
    {
      "cell_type": "markdown",
      "id": "87214c8e",
      "metadata": {
        "id": "87214c8e"
      },
      "source": [
        "### 2.2. Custom CNN"
      ]
    },
    {
      "cell_type": "markdown",
      "id": "fdb05f10",
      "metadata": {
        "id": "fdb05f10"
      },
      "source": [
        "You should experiment with different designs (number of layers, types of pooling, filter sizes, number of fully connected layers, number of neurons)."
      ]
    },
    {
      "cell_type": "code",
      "execution_count": null,
      "id": "81a3f069",
      "metadata": {
        "id": "81a3f069"
      },
      "outputs": [],
      "source": [
        "### From Udacity's `training.py`"
      ]
    },
    {
      "cell_type": "code",
      "execution_count": null,
      "id": "c1b343a5",
      "metadata": {
        "id": "c1b343a5"
      },
      "outputs": [],
      "source": [
        "def create_custom_network():\n",
        "    #net = tf.keras.Sequential()\n",
        "    # IMPLEMENT THIS FUNCTION\n",
        "    pass"
      ]
    },
    {
      "cell_type": "markdown",
      "id": "031da250",
      "metadata": {
        "id": "031da250"
      },
      "source": [
        "### 2.3. Training and validation"
      ]
    },
    {
      "cell_type": "markdown",
      "id": "b079a6d0",
      "metadata": {
        "id": "b079a6d0"
      },
      "source": [
        "The following helper functions are used for the training and validation loops."
      ]
    },
    {
      "cell_type": "code",
      "execution_count": 16,
      "id": "303a7673",
      "metadata": {
        "id": "303a7673"
      },
      "outputs": [],
      "source": [
        "### From Udacity's `utils.py`"
      ]
    },
    {
      "cell_type": "code",
      "execution_count": 17,
      "id": "60ed051a",
      "metadata": {
        "id": "60ed051a"
      },
      "outputs": [],
      "source": [
        "def get_module_logger(mod_name: str) -> logging.Logger:\n",
        "    \"\"\"Initialises a console logger instance.\n",
        "    \n",
        "    :param mod_name: the model name to assign to the logger.\n",
        "    :returns: a logger instance.\n",
        "    \"\"\"\n",
        "    \n",
        "    ### Setting up the console logger and formatter\n",
        "    logger = logging.getLogger(mod_name)\n",
        "    handler = logging.StreamHandler()\n",
        "    formatter = logging.Formatter('%(asctime)s %(levelname)-8s %(message)s')\n",
        "    handler.setFormatter(formatter)\n",
        "    logger.addHandler(handler)\n",
        "    logger.setLevel(logging.DEBUG)\n",
        "    ### Prevent messages going to root handler\n",
        "    logger.propagate = False\n",
        "    return logger"
      ]
    },
    {
      "cell_type": "code",
      "execution_count": 18,
      "id": "32c84a6b",
      "metadata": {
        "id": "32c84a6b"
      },
      "outputs": [],
      "source": [
        "def display_metrics(history: tf.keras.callbacks.History):\n",
        "    \"\"\"Plots the per-epoch loss and accuracy metrics.\n",
        "    \n",
        "    :param history: the Keras `callbacks.History` object.\n",
        "    \"\"\"\n",
        "    \n",
        "    f, ax = plt.subplots(1, 2, figsize=(15, 5))\n",
        "    ax[0].plot(history.history['loss'], linewidth=3)\n",
        "    ax[0].plot(history.history['val_loss'], linewidth=3)\n",
        "    ax[0].set_title('Loss', fontsize=16)\n",
        "    ax[0].set_ylabel('Loss', fontsize=16)\n",
        "    ax[0].set_xlabel('Epoch', fontsize=16)\n",
        "    ax[0].legend(['train loss', 'val loss'], loc='upper right')\n",
        "    ax[1].plot(history.history['accuracy'], linewidth=3)\n",
        "    ax[1].plot(history.history['val_accuracy'], linewidth=3)\n",
        "    ax[1].set_title('Accuracy', fontsize=16)\n",
        "    ax[1].set_ylabel('Accuracy', fontsize=16)\n",
        "    ax[1].set_xlabel('Epoch', fontsize=16)\n",
        "    ax[1].legend(['train acc', 'val acc'], loc='upper left')\n",
        "    plt.show()"
      ]
    },
    {
      "cell_type": "markdown",
      "id": "25c2ecf6",
      "metadata": {
        "id": "25c2ecf6"
      },
      "source": [
        "### 2.3. Evaluation on the modified MNIST digits dataset"
      ]
    },
    {
      "cell_type": "code",
      "execution_count": 19,
      "id": "ad93743d",
      "metadata": {
        "id": "ad93743d"
      },
      "outputs": [],
      "source": [
        "DATASET_NAME = 'MNIST'"
      ]
    },
    {
      "cell_type": "markdown",
      "source": [
        "#### Fetching the modified MNIST data"
      ],
      "metadata": {
        "id": "5XcI-_cwdY0N"
      },
      "id": "5XcI-_cwdY0N"
    },
    {
      "cell_type": "code",
      "source": [
        "### Specifying the validation/test split percentages\n",
        "VAL_PERCENT = 25\n",
        "TEST_PERCENT = 75"
      ],
      "metadata": {
        "id": "T4dMdK6zIeeQ"
      },
      "id": "T4dMdK6zIeeQ",
      "execution_count": 20,
      "outputs": []
    },
    {
      "cell_type": "code",
      "source": [
        "### Specifying the desired batch size\n",
        "BATCH_SIZE = 128\n",
        "model_params[DATASET_NAME].update({'batch_size': BATCH_SIZE})"
      ],
      "metadata": {
        "id": "4i4wlqwgtYHr"
      },
      "id": "4i4wlqwgtYHr",
      "execution_count": 21,
      "outputs": []
    },
    {
      "cell_type": "code",
      "source": [
        "### Fetching the MNIST digits dataset (hosted by TensorFlow)\n",
        "# See: https://www.tensorflow.org/datasets/catalog/mnist"
      ],
      "metadata": {
        "id": "eomSJ38DZDuq"
      },
      "id": "eomSJ38DZDuq",
      "execution_count": 22,
      "outputs": []
    },
    {
      "cell_type": "code",
      "source": [
        "digits_data, digits_info = tfds.load(DATASET_NAME,\n",
        "                                     batch_size=BATCH_SIZE,\n",
        "                                     split=['train', \n",
        "                                            'test[{}%:]'.format(VAL_PERCENT),\n",
        "                                            'test[:{}%]'.format(TEST_PERCENT)\n",
        "                                     ],\n",
        "                                     shuffle_files=True, \n",
        "                                     with_info=True\n",
        ")"
      ],
      "metadata": {
        "id": "NHuM93bLZX1G"
      },
      "id": "NHuM93bLZX1G",
      "execution_count": 23,
      "outputs": []
    },
    {
      "cell_type": "markdown",
      "id": "205af274",
      "metadata": {
        "id": "205af274"
      },
      "source": [
        "#### Considerations for our input data"
      ]
    },
    {
      "cell_type": "code",
      "source": [
        "### Viewing the dataset metadata attributes\n",
        "digits_info"
      ],
      "metadata": {
        "colab": {
          "base_uri": "https://localhost:8080/"
        },
        "id": "iL8FVN_Ga7YN",
        "outputId": "deec6e22-48ea-456c-e23e-8c65b18eca00"
      },
      "id": "iL8FVN_Ga7YN",
      "execution_count": 24,
      "outputs": [
        {
          "output_type": "execute_result",
          "data": {
            "text/plain": [
              "tfds.core.DatasetInfo(\n",
              "    name='mnist',\n",
              "    full_name='mnist/3.0.1',\n",
              "    description=\"\"\"\n",
              "    The MNIST database of handwritten digits.\n",
              "    \"\"\",\n",
              "    homepage='http://yann.lecun.com/exdb/mnist/',\n",
              "    data_path='~/tensorflow_datasets/mnist/3.0.1',\n",
              "    file_format=tfrecord,\n",
              "    download_size=11.06 MiB,\n",
              "    dataset_size=21.00 MiB,\n",
              "    features=FeaturesDict({\n",
              "        'image': Image(shape=(28, 28, 1), dtype=tf.uint8),\n",
              "        'label': ClassLabel(shape=(), dtype=tf.int64, num_classes=10),\n",
              "    }),\n",
              "    supervised_keys=('image', 'label'),\n",
              "    disable_shuffling=False,\n",
              "    splits={\n",
              "        'test': <SplitInfo num_examples=10000, num_shards=1>,\n",
              "        'train': <SplitInfo num_examples=60000, num_shards=1>,\n",
              "    },\n",
              "    citation=\"\"\"@article{lecun2010mnist,\n",
              "      title={MNIST handwritten digit database},\n",
              "      author={LeCun, Yann and Cortes, Corinna and Burges, CJ},\n",
              "      journal={ATT Labs [Online]. Available: http://yann.lecun.com/exdb/mnist},\n",
              "      volume={2},\n",
              "      year={2010}\n",
              "    }\"\"\",\n",
              ")"
            ]
          },
          "metadata": {},
          "execution_count": 24
        }
      ]
    },
    {
      "cell_type": "code",
      "execution_count": 25,
      "id": "d3b5c0cb",
      "metadata": {
        "colab": {
          "base_uri": "https://localhost:8080/"
        },
        "id": "d3b5c0cb",
        "outputId": "ac8c54fa-9a81-419c-cd1b-321a2c08deca"
      },
      "outputs": [
        {
          "output_type": "stream",
          "name": "stdout",
          "text": [
            "Nr. classes in MNIST: 10\n"
          ]
        }
      ],
      "source": [
        "# MNIST has 10 distinct digit classes\n",
        "N_CLASSES = digits_info.features['label'].num_classes\n",
        "print('Nr. classes in MNIST:', N_CLASSES)"
      ]
    },
    {
      "cell_type": "code",
      "execution_count": 26,
      "id": "e2128b77",
      "metadata": {
        "id": "e2128b77"
      },
      "outputs": [],
      "source": [
        "### Fetching our input image specs"
      ]
    },
    {
      "cell_type": "code",
      "execution_count": 27,
      "id": "d3ecf0c8",
      "metadata": {
        "id": "d3ecf0c8"
      },
      "outputs": [],
      "source": [
        "IMG_COLOR_MODE = 'grayscale'\n",
        "IMG_SHAPE = digits_info.features['image'].shape\n",
        "IMG_SIZE = IMG_SHAPE[:2]"
      ]
    },
    {
      "cell_type": "code",
      "source": [
        "print('MNIST:', digits_info.features['image'])"
      ],
      "metadata": {
        "colab": {
          "base_uri": "https://localhost:8080/"
        },
        "id": "3AK2tWzOaMSV",
        "outputId": "902c1ec9-7639-40d2-97a1-04c2fd2c45cb"
      },
      "id": "3AK2tWzOaMSV",
      "execution_count": 28,
      "outputs": [
        {
          "output_type": "stream",
          "name": "stdout",
          "text": [
            "MNIST: Image(shape=(28, 28, 1), dtype=tf.uint8)\n"
          ]
        }
      ]
    },
    {
      "cell_type": "markdown",
      "source": [
        "**Note**: the LeNet-5 network expects $32x32$ px grayscale images as input. We will fix this by padding our images to the expected size."
      ],
      "metadata": {
        "id": "gOYJHL-3aKTE"
      },
      "id": "gOYJHL-3aKTE"
    },
    {
      "cell_type": "code",
      "execution_count": 29,
      "id": "3bcc3e2a",
      "metadata": {
        "id": "3bcc3e2a"
      },
      "outputs": [],
      "source": [
        "model_params[DATASET_NAME].update({'image_size': IMG_SIZE})\n",
        "model_params[DATASET_NAME].update({'color_mode': IMG_COLOR_MODE})\n",
        "model_params[DATASET_NAME].update({'input_shape': IMG_SHAPE})\n",
        "model_params[DATASET_NAME].update({'n_classes': N_CLASSES})"
      ]
    },
    {
      "cell_type": "markdown",
      "id": "34eca184",
      "metadata": {
        "id": "34eca184"
      },
      "source": [
        "#### Processing the image data"
      ]
    },
    {
      "cell_type": "code",
      "source": [
        "### Number of features (pixel values) in a single image\n",
        "len(iter(digits_data[0]).get_next()['image'][0].numpy().flatten())"
      ],
      "metadata": {
        "colab": {
          "base_uri": "https://localhost:8080/"
        },
        "id": "Cd62E5aRd0Jp",
        "outputId": "fcf02a05-a4c5-4220-962f-8648aa8c43bf"
      },
      "id": "Cd62E5aRd0Jp",
      "execution_count": 30,
      "outputs": [
        {
          "output_type": "execute_result",
          "data": {
            "text/plain": [
              "784"
            ]
          },
          "metadata": {},
          "execution_count": 30
        }
      ]
    },
    {
      "cell_type": "markdown",
      "source": [
        "##### Defining the preprocessing functions"
      ],
      "metadata": {
        "id": "AW7Nlzx9YULn"
      },
      "id": "AW7Nlzx9YULn"
    },
    {
      "cell_type": "code",
      "source": [
        "### From J. Moran's `2022-09-07-Pooling-Layers-Convolutional-Neural-Networks.ipynb`"
      ],
      "metadata": {
        "id": "aJS9K8tOvHZ3"
      },
      "id": "aJS9K8tOvHZ3",
      "execution_count": 31,
      "outputs": []
    },
    {
      "cell_type": "code",
      "source": [
        "def get_paddings(input_tensor: tf.Tensor, output_shape: Tuple[int, int, int], \n",
        "                 pool_size: int, pool_stride: int) -> List[List[int]]:\n",
        "    \"\"\"Returns the range of values to pad on each edge using TensorFlow.\n",
        "    \n",
        "    Computes the padding amounts along each dimension such that the\n",
        "    spatial dimensionality of the input is preserved (akin to the\n",
        "    TensorFlow Keras `padding=\"same\"` argument). Note that the input\n",
        "    is a 4-dimensional array but we computing only the padding amounts \n",
        "    for the 2D image surface (the width and height axes).\n",
        "\n",
        "    For more information on the TensorFlow `pad()` function, see:\n",
        "    https://www.tensorflow.org/api_docs/python/tf/pad\n",
        "    \n",
        "    :param array: tf.Tensor, the input data of dimensions [NxWxHxC], \n",
        "        i.e., [n_samples x width x height x n_channels].\n",
        "    :param pool_size: int, the symmetric kernel window dimension.\n",
        "    :param pool_stride: int, the amount to displace the kernel window\n",
        "        in the horizontal and vertical direction (symmetric).\n",
        "    :returns: paddings, the TensorFlow `paddings` padding sequences.\n",
        "    \"\"\"\n",
        "    \n",
        "    wpad = None\n",
        "    hpad = None\n",
        "    # Get the per-sample input dimensions\n",
        "    _, w, h, _ = tf.shape(input_tensor).numpy()\n",
        "    # Set the desired output shape\n",
        "    _, w_out, h_out, _ = output_shape\n",
        "    # Compute the padding dimensions\n",
        "    wpad = (pool_stride * w_out - w + pool_size - pool_stride) // 2\n",
        "    hpad = (pool_stride * h_out - h + pool_size - pool_stride) // 2\n",
        "    # Return the range of values to pad along each dimension\n",
        "    # [n_samples, width, height, n_channels]\n",
        "    return [[0, 0], [0, wpad], [0, hpad], [0, 0]]"
      ],
      "metadata": {
        "id": "IrcN4QPcvGgb"
      },
      "id": "IrcN4QPcvGgb",
      "execution_count": 32,
      "outputs": []
    },
    {
      "cell_type": "code",
      "source": [
        "### From J. Moran's `2022-09-05-Image-Classification-Feed-Forward-Neural-Networks.ipynb`"
      ],
      "metadata": {
        "id": "PkngCaIlYJ_O"
      },
      "id": "PkngCaIlYJ_O",
      "execution_count": 33,
      "outputs": []
    },
    {
      "cell_type": "code",
      "source": [
        "def process(dataset: tf.data.Dataset) -> Generator[tuple, None, None]:\n",
        "    \"\"\"Processes the input dataset and returns a generator object.\n",
        "\n",
        "    :param dataset: the tf.data.Dataset instance of batched image, label data.\n",
        "    :returns: the generator instance modifying the image attribute values.\n",
        "    \"\"\"\n",
        "\n",
        "    def process_generator() -> Iterator[Tuple[tf.Tensor, tf.Tensor]]:\n",
        "        \"\"\"Zero-pads and scales the input images.\n",
        "        \n",
        "        All images in each batch are padded according to the pre-computed\n",
        "        pad widths. All pixel values are scaled in the range [0, 1].\n",
        "\n",
        "        Note that the input dataset is expected to contain images with a \n",
        "        consistent (equal) shape, e.g., (28, 28, 1). This function also \n",
        "        assumes a zero-padding configuration. If your dataset contains images\n",
        "        with inconsistent dimensions, and you want to use zero-padding,\n",
        "        an easier technique is a `tf.bitwise_or` with a zero-valued mask of\n",
        "        dimensions equal to your desired output dataset.\n",
        "\n",
        "        :returns: an iterator yielding the modfied images and labels.\n",
        "        \"\"\"\n",
        "\n",
        "        for batch in dataset:\n",
        "            # Padding the input image to 32x32 resolution\n",
        "            images = tf.pad(batch['image'],\n",
        "                            paddings=PADDINGS,\n",
        "                            mode='CONSTANT',\n",
        "                            constant_values=tf.constant(\n",
        "                                value=PADDING_VALUE,\n",
        "                                dtype=digits_info.features['image'].dtype\n",
        "                            )\n",
        "            )\n",
        "            # Scaling the image data in range [0, 1]\n",
        "            images = tf.cast(images / 255, \n",
        "                             dtype=digits_info.features['image'].dtype\n",
        "            )\n",
        "            yield images, batch['label']\n",
        "    return process_generator"
      ],
      "metadata": {
        "id": "pHUHjhxeYJbn"
      },
      "id": "pHUHjhxeYJbn",
      "execution_count": 34,
      "outputs": []
    },
    {
      "cell_type": "markdown",
      "source": [
        "##### Preprocessing the dataset"
      ],
      "metadata": {
        "id": "-m6Gxk2TYg04"
      },
      "id": "-m6Gxk2TYg04"
    },
    {
      "cell_type": "code",
      "source": [
        "### Setting the desired shape after padding\n",
        "IMG_SHAPE_PADDED = (None, 32, 32, 1)"
      ],
      "metadata": {
        "id": "n8c94BKTUQby"
      },
      "id": "n8c94BKTUQby",
      "execution_count": 35,
      "outputs": []
    },
    {
      "cell_type": "code",
      "source": [
        "### Computing the padding amounts for each axis\n",
        "# Assuming our dataset image sizes are consistent\n",
        "# Here we use the first LeNet-5 layer (C1) parameters"
      ],
      "metadata": {
        "id": "9HVnc8fozt4x"
      },
      "id": "9HVnc8fozt4x",
      "execution_count": 36,
      "outputs": []
    },
    {
      "cell_type": "code",
      "source": [
        "PADDINGS = get_paddings(input_tensor=iter(digits_data[0]).get_next()['image'],\n",
        "                        output_shape=IMG_SHAPE_PADDED,\n",
        "                        pool_size=5,\n",
        "                        pool_stride=1\n",
        ")\n",
        "print('Paddings:', PADDINGS)"
      ],
      "metadata": {
        "colab": {
          "base_uri": "https://localhost:8080/"
        },
        "id": "03WeNLxOXzAB",
        "outputId": "05220ee3-ee31-4aa0-dc4a-097e28a1d006"
      },
      "id": "03WeNLxOXzAB",
      "execution_count": 37,
      "outputs": [
        {
          "output_type": "stream",
          "name": "stdout",
          "text": [
            "Paddings: [[0, 0], [0, 4], [0, 4], [0, 0]]\n"
          ]
        }
      ]
    },
    {
      "cell_type": "code",
      "source": [
        "### Setting the scalar value to pad the image arrays with\n",
        "PADDING_VALUE = 0"
      ],
      "metadata": {
        "id": "4J46xGpHOryg"
      },
      "id": "4J46xGpHOryg",
      "execution_count": 38,
      "outputs": []
    },
    {
      "cell_type": "code",
      "source": [
        "### Updating the model parameters"
      ],
      "metadata": {
        "id": "CRGj1HMQX_aT"
      },
      "id": "CRGj1HMQX_aT",
      "execution_count": 39,
      "outputs": []
    },
    {
      "cell_type": "code",
      "source": [
        "model_params[DATASET_NAME].update({'image_size_padded': IMG_SHAPE_PADDED[:2]})\n",
        "model_params[DATASET_NAME].update({'input_shape_padded': IMG_SHAPE_PADDED})\n",
        "model_params[DATASET_NAME].update({'paddings': PADDINGS})\n",
        "model_params[DATASET_NAME].update({'padding_value': PADDING_VALUE})"
      ],
      "metadata": {
        "id": "uAkq7E7LVDIh"
      },
      "id": "uAkq7E7LVDIh",
      "execution_count": 40,
      "outputs": []
    },
    {
      "cell_type": "code",
      "execution_count": 41,
      "id": "645f2170",
      "metadata": {
        "id": "645f2170"
      },
      "outputs": [],
      "source": [
        "### Unpacking the train/validation/test subsets"
      ]
    },
    {
      "cell_type": "code",
      "source": [
        "train_data, val_data, test_data = digits_data"
      ],
      "metadata": {
        "id": "Na9OuD0McxtE"
      },
      "id": "Na9OuD0McxtE",
      "execution_count": 42,
      "outputs": []
    },
    {
      "cell_type": "markdown",
      "source": [
        "###### Using a generator function"
      ],
      "metadata": {
        "id": "6cC8zlT6fWp3"
      },
      "id": "6cC8zlT6fWp3"
    },
    {
      "cell_type": "code",
      "source": [
        "train_dataset_processed = tf.data.Dataset.from_generator(\n",
        "        generator=process(train_data), \n",
        "        output_signature=(\n",
        "            tf.TensorSpec(\n",
        "                shape=model_params[DATASET_NAME].get('input_shape_padded', None),\n",
        "                dtype=tf.dtypes.float32\n",
        "            ), \n",
        "            tf.TensorSpec(\n",
        "                shape=(None, *digits_info.features['label'].shape), \n",
        "                dtype=digits_info.features['label'].dtype\n",
        "            )\n",
        "        )\n",
        ")"
      ],
      "metadata": {
        "id": "65RQCLVHNrkW"
      },
      "id": "65RQCLVHNrkW",
      "execution_count": null,
      "outputs": []
    },
    {
      "cell_type": "code",
      "execution_count": null,
      "id": "a3892eb9",
      "metadata": {
        "id": "a3892eb9"
      },
      "outputs": [],
      "source": [
        "validation_dataset_processed = tf.data.Dataset.from_generator(\n",
        "        generator=process(val_data), \n",
        "        output_signature=(\n",
        "            tf.TensorSpec(\n",
        "                shape=model_params[DATASET_NAME].get('input_shape_padded', None),\n",
        "                dtype=tf.dtypes.float32\n",
        "            ), \n",
        "            tf.TensorSpec(\n",
        "                shape=(None, *digits_info.features['label'].shape), \n",
        "                dtype=digits_info.features['label'].dtype\n",
        "            )\n",
        "        )\n",
        ")"
      ]
    },
    {
      "cell_type": "code",
      "source": [
        "test_dataset_processed = tf.data.Dataset.from_generator(\n",
        "        generator=process(test_data), \n",
        "        output_signature=(\n",
        "            tf.TensorSpec(\n",
        "                shape=model_params[DATASET_NAME].get('input_shape_padded', None),\n",
        "                dtype=tf.dtypes.float32\n",
        "            ), \n",
        "            tf.TensorSpec(\n",
        "                shape=(None, *digits_info.features['label'].shape), \n",
        "                dtype=digits_info.features['label'].dtype\n",
        "            )\n",
        "        )\n",
        ")"
      ],
      "metadata": {
        "id": "p5tKPe_9dAIx"
      },
      "id": "p5tKPe_9dAIx",
      "execution_count": null,
      "outputs": []
    },
    {
      "cell_type": "code",
      "source": [
        "### Previewing the first scaled and padded image in test set"
      ],
      "metadata": {
        "id": "oRDQLg1xP3hS"
      },
      "id": "oRDQLg1xP3hS",
      "execution_count": null,
      "outputs": []
    },
    {
      "cell_type": "code",
      "source": [
        "iter(test_dataset_processed).get_next()[0][0]"
      ],
      "metadata": {
        "colab": {
          "base_uri": "https://localhost:8080/"
        },
        "id": "GZT3X-CrO2tj",
        "outputId": "556262c4-18b2-4243-d2a9-0396677a3c06"
      },
      "id": "GZT3X-CrO2tj",
      "execution_count": null,
      "outputs": [
        {
          "output_type": "execute_result",
          "data": {
            "text/plain": [
              "<tf.Tensor: shape=(32, 32, 1), dtype=float32, numpy=\n",
              "array([[[0.],\n",
              "        [0.],\n",
              "        [0.],\n",
              "        ...,\n",
              "        [0.],\n",
              "        [0.],\n",
              "        [0.]],\n",
              "\n",
              "       [[0.],\n",
              "        [0.],\n",
              "        [0.],\n",
              "        ...,\n",
              "        [0.],\n",
              "        [0.],\n",
              "        [0.]],\n",
              "\n",
              "       [[0.],\n",
              "        [0.],\n",
              "        [0.],\n",
              "        ...,\n",
              "        [0.],\n",
              "        [0.],\n",
              "        [0.]],\n",
              "\n",
              "       ...,\n",
              "\n",
              "       [[0.],\n",
              "        [0.],\n",
              "        [0.],\n",
              "        ...,\n",
              "        [0.],\n",
              "        [0.],\n",
              "        [0.]],\n",
              "\n",
              "       [[0.],\n",
              "        [0.],\n",
              "        [0.],\n",
              "        ...,\n",
              "        [0.],\n",
              "        [0.],\n",
              "        [0.]],\n",
              "\n",
              "       [[0.],\n",
              "        [0.],\n",
              "        [0.],\n",
              "        ...,\n",
              "        [0.],\n",
              "        [0.],\n",
              "        [0.]]], dtype=float32)>"
            ]
          },
          "metadata": {},
          "execution_count": 57
        }
      ]
    },
    {
      "cell_type": "markdown",
      "source": [
        "###### Using TensorFlow `data` operations"
      ],
      "metadata": {
        "id": "0MiAYhuUfc5B"
      },
      "id": "0MiAYhuUfc5B"
    },
    {
      "cell_type": "markdown",
      "source": [
        "So after reading the [`tf.data.Dataset.from_generator`](https://www.tensorflow.org/api_docs/python/tf/data/Dataset#from_generator) documentation, I'm feeling a bit embarassed to have used an \"anti-pattern\" to preprocess our data. TensorFlow documentation states that the `Dataset.from_generator()` function uses [`tf.numpy_function`](https://www.tensorflow.org/api_docs/python/tf/numpy_function) behind the scenes, which means that we inherit the performance constraints of `tf.numpy_function`.\n",
        "\n",
        "Furthermore, TensorFlow docs state that \"the scope of `Dataset.from_generator()` should be limited to logic that connot be expressed through `tf.data` operations. Using `tf.data` operations within the generator function is an anti-pattern that may result in incremental memory growth.\"\n",
        "\n",
        "Since that's exactly what we're doing above, let's try to utilise those `tf.data` ops to preprocess our dataset."
      ],
      "metadata": {
        "id": "i7vuwMltfv01"
      },
      "id": "i7vuwMltfv01"
    },
    {
      "cell_type": "code",
      "source": [
        "### Scaling the data using `Dataset.map()` and lambda functions"
      ],
      "metadata": {
        "id": "_uD9bilCfcPM"
      },
      "id": "_uD9bilCfcPM",
      "execution_count": 43,
      "outputs": []
    },
    {
      "cell_type": "code",
      "source": [
        "train_data_scaled = train_data.map(lambda x: x['image'] / 255)\n",
        "val_data_scaled = val_data.map(lambda x: x['image'] / 255)\n",
        "test_data_scaled = test_data.map(lambda x: x['image'] / 255)"
      ],
      "metadata": {
        "id": "YutbmRrIhWtH"
      },
      "id": "YutbmRrIhWtH",
      "execution_count": 44,
      "outputs": []
    },
    {
      "cell_type": "code",
      "source": [
        "### Padding the data using `Dataset.map()` and `tf.pad()`"
      ],
      "metadata": {
        "id": "_6OQCQ4HhXM5"
      },
      "id": "_6OQCQ4HhXM5",
      "execution_count": 45,
      "outputs": []
    },
    {
      "cell_type": "code",
      "source": [
        "train_data_padded = train_data_scaled.map(lambda x: tf.pad(x, paddings=PADDINGS))\n",
        "val_data_padded = val_data_scaled.map(lambda x: tf.pad(x, paddings=PADDINGS))\n",
        "test_data_padded = test_data_scaled.map(lambda x: tf.pad(x, paddings=PADDINGS))"
      ],
      "metadata": {
        "id": "4NSt5sdkiSYw"
      },
      "id": "4NSt5sdkiSYw",
      "execution_count": 46,
      "outputs": []
    },
    {
      "cell_type": "code",
      "source": [
        "### Fetching the labels in each dataset"
      ],
      "metadata": {
        "id": "xhfUTy4pjAwT"
      },
      "id": "xhfUTy4pjAwT",
      "execution_count": 47,
      "outputs": []
    },
    {
      "cell_type": "code",
      "source": [
        "train_labels = train_data.map(lambda x: x['label'])\n",
        "val_labels = val_data.map(lambda x: x['label'])\n",
        "test_labels = test_data.map(lambda x: x['label'])"
      ],
      "metadata": {
        "id": "2qMOLwili_3o"
      },
      "id": "2qMOLwili_3o",
      "execution_count": 48,
      "outputs": []
    },
    {
      "cell_type": "code",
      "source": [
        "### Zipping together the processed data and labels using `Dataset.zip()`"
      ],
      "metadata": {
        "id": "MoLpeYNHitZW"
      },
      "id": "MoLpeYNHitZW",
      "execution_count": 49,
      "outputs": []
    },
    {
      "cell_type": "code",
      "source": [
        "train_data_processed = tf.data.Dataset.zip((train_data_padded, train_labels))\n",
        "val_data_processed = tf.data.Dataset.zip((val_data_padded, val_labels))\n",
        "test_data_processed = tf.data.Dataset.zip((test_data_padded, test_labels))"
      ],
      "metadata": {
        "id": "VXgtFfbHitDO"
      },
      "id": "VXgtFfbHitDO",
      "execution_count": 50,
      "outputs": []
    },
    {
      "cell_type": "markdown",
      "source": [
        "Great! We've moved away from the `from_generator()` anti-pattern with the help of a few `tf.data` operations. For more information on these ops, check out the [`Dataset.map()`](https://www.tensorflow.org/api_docs/python/tf/data/Dataset#map), [`tf.math.divide`](https://www.tensorflow.org/api_docs/python/tf/math/divide), [`tf.pad()`](https://www.tensorflow.org/api_docs/python/tf/pad) and [`Dataset.zip()`](https://www.tensorflow.org/api_docs/python/tf/data/Dataset#zip) documentation."
      ],
      "metadata": {
        "id": "1jrKXbwSkAD8"
      },
      "id": "1jrKXbwSkAD8"
    },
    {
      "cell_type": "markdown",
      "source": [
        "###### Some performance tests"
      ],
      "metadata": {
        "id": "flbdIHGOms6Y"
      },
      "id": "flbdIHGOms6Y"
    },
    {
      "cell_type": "markdown",
      "source": [
        "Even though we'll take TensorFlow's word, I wanted to test the performance of both preprocessing approaches for my given workflow."
      ],
      "metadata": {
        "id": "jYinlFD9m1hp"
      },
      "id": "jYinlFD9m1hp"
    },
    {
      "cell_type": "code",
      "source": [
        "### Wrapping the generator calls in a test function"
      ],
      "metadata": {
        "id": "TbTsiIxvnoDk"
      },
      "id": "TbTsiIxvnoDk",
      "execution_count": null,
      "outputs": []
    },
    {
      "cell_type": "code",
      "source": [
        "def test_generator(generator_fn, dataset):\n",
        "    \"\"\"Simple function using generator to process a dataset.\"\"\"\n",
        "\n",
        "    dataset_processed = tf.data.Dataset.from_generator(\n",
        "            generator=generator_fn(dataset), \n",
        "            output_signature=(\n",
        "                tf.TensorSpec(\n",
        "                    shape=model_params[DATASET_NAME].get('input_shape_padded', \n",
        "                                                         None\n",
        "                    ),\n",
        "                    dtype=tf.dtypes.float32\n",
        "                ), \n",
        "                tf.TensorSpec(\n",
        "                    shape=(None, *digits_info.features['label'].shape), \n",
        "                    dtype=digits_info.features['label'].dtype\n",
        "                )\n",
        "            )\n",
        "    )\n",
        "    # Fetching the first processed element in the dataset\n",
        "    return iter(dataset_processed).get_next()[0]"
      ],
      "metadata": {
        "id": "gxL2L7nQnndy"
      },
      "id": "gxL2L7nQnndy",
      "execution_count": null,
      "outputs": []
    },
    {
      "cell_type": "code",
      "source": [
        "### Wrapping the tf.data ops in a test function"
      ],
      "metadata": {
        "id": "ZVf2JCUpm0v1"
      },
      "id": "ZVf2JCUpm0v1",
      "execution_count": null,
      "outputs": []
    },
    {
      "cell_type": "code",
      "source": [
        "def test_data_ops(dataset):\n",
        "    \"\"\"Simple function using tf.data ops to process a dataset.\"\"\"\n",
        "\n",
        "    ### Scaling the data using `Dataset.map()` and lambda functions\n",
        "    dataset_scaled = dataset.map(lambda x: x['image'] / 255)\n",
        "    ### Padding the data using `Dataset.map()` and `tf.pad()`\n",
        "    dataset_padded = dataset_scaled.map(lambda x: tf.pad(x, paddings=PADDINGS))\n",
        "    ### Fetching the labels in the dataset\n",
        "    dataset_labels = dataset.map(lambda x: x['label'])\n",
        "    ### Zipping together the processed data and labels using `Dataset.zip()`\n",
        "    dataset_processed = tf.data.Dataset.zip((dataset_padded, dataset_labels))\n",
        "    ### Fetching the first processed element in the dataset\n",
        "    return iter(test_data_processed).get_next()[0]"
      ],
      "metadata": {
        "id": "qfKEIZ8Yodz0"
      },
      "id": "qfKEIZ8Yodz0",
      "execution_count": null,
      "outputs": []
    },
    {
      "cell_type": "markdown",
      "source": [
        "**Note**: I'm not working in a [distributed training](https://www.tensorflow.org/api_docs/python/tf/distribute) environment or dealing with enormous dataset sizes at the moment, so let's just play around and see what we get in terms of execution time..."
      ],
      "metadata": {
        "id": "IPpjLtukqaU4"
      },
      "id": "IPpjLtukqaU4"
    },
    {
      "cell_type": "code",
      "source": [
        "### Testing the generator approach and averaging its execution time\n",
        "%timeit test_generator(process, test_data)"
      ],
      "metadata": {
        "colab": {
          "base_uri": "https://localhost:8080/"
        },
        "id": "fJABQvOUqY_r",
        "outputId": "a93d4fcc-bd7c-4a57-e55c-c5cbf986db24"
      },
      "id": "fJABQvOUqY_r",
      "execution_count": null,
      "outputs": [
        {
          "output_type": "stream",
          "name": "stdout",
          "text": [
            "84.7 ms ± 1.97 ms per loop (mean ± std. dev. of 7 runs, 10 loops each)\n"
          ]
        }
      ]
    },
    {
      "cell_type": "code",
      "source": [
        "### Testing the tf.data ops approach and averaging its execution time\n",
        "%timeit test_data_ops(test_data)"
      ],
      "metadata": {
        "colab": {
          "base_uri": "https://localhost:8080/"
        },
        "id": "anfcZ5g_qYpM",
        "outputId": "233483bb-22c6-4fd3-a164-853af88c27fd"
      },
      "id": "anfcZ5g_qYpM",
      "execution_count": null,
      "outputs": [
        {
          "output_type": "stream",
          "name": "stdout",
          "text": [
            "123 ms ± 15.1 ms per loop (mean ± std. dev. of 7 runs, 10 loops each)\n"
          ]
        }
      ]
    },
    {
      "cell_type": "markdown",
      "source": [
        "From the results above, it might be surprising to see that the `Dataset.from_generator()` (the anti-pattern) approach actually performs **better** than the pure TensorFlow `tf.data` ops approach. A great explanation to understand this can be read on [this](https://github.com/tensorflow/tensorflow/issues/35135#issuecomment-566810134) StackOverflow post. In short, the benefits of `Dataset.map()` are realised when performing non-trivial computation that can benefit from either the behind-the-scenes [`tf.Graph`](https://www.tensorflow.org/api_docs/python/tf/Graph) optimisations or parallel execution enabled through the `num_parallel_calls` argument. \n",
        "\n",
        "To learn more about parallelizing data transformations, see the TensorFlow [Optimize pipeline performance](https://www.tensorflow.org/guide/data_performance#parallelizing_data_transformation) guide."
      ],
      "metadata": {
        "id": "RJ_322c0rJre"
      },
      "id": "RJ_322c0rJre"
    },
    {
      "cell_type": "code",
      "source": [
        "### Modifying the tf.data ops test function to support parallel execution"
      ],
      "metadata": {
        "id": "i8skv2cfvmNV"
      },
      "id": "i8skv2cfvmNV",
      "execution_count": null,
      "outputs": []
    },
    {
      "cell_type": "code",
      "source": [
        "def test_data_ops(dataset, num_parallel_calls=tf.data.AUTOTUNE):\n",
        "    \"\"\"Simple function using tf.data ops to process a dataset.\"\"\"\n",
        "\n",
        "    ### Scaling the data using `Dataset.map()` and lambda functions\n",
        "    dataset_scaled = dataset.map(lambda x: x['image'] / 255,\n",
        "                                 num_parallel_calls=num_parallel_calls\n",
        "    )\n",
        "    ### Padding the data using `Dataset.map()` and `tf.pad()`\n",
        "    dataset_padded = dataset_scaled.map(lambda x: tf.pad(x, paddings=PADDINGS),\n",
        "                                        num_parallel_calls=num_parallel_calls\n",
        "    )\n",
        "    ### Fetching the labels in the dataset\n",
        "    dataset_labels = dataset.map(lambda x: x['label'],\n",
        "                                 num_parallel_calls=num_parallel_calls\n",
        "    )\n",
        "    ### Zipping together the processed data and labels using `Dataset.zip()`\n",
        "    dataset_processed = tf.data.Dataset.zip((dataset_padded, dataset_labels))\n",
        "    ### Fetching the first processed element in the dataset\n",
        "    return iter(test_data_processed).get_next()[0]"
      ],
      "metadata": {
        "id": "vLEPeJoFtyV9"
      },
      "id": "vLEPeJoFtyV9",
      "execution_count": null,
      "outputs": []
    },
    {
      "cell_type": "code",
      "source": [
        "### Testing the parallelised tf.data ops approach and average its execution time\n",
        "%timeit test_data_ops(test_data, num_parallel_calls=tf.data.AUTOTUNE)"
      ],
      "metadata": {
        "colab": {
          "base_uri": "https://localhost:8080/"
        },
        "id": "FLVkx2a3vwSb",
        "outputId": "4df2b3d8-9eef-4063-82ac-2bd54d2168d6"
      },
      "id": "FLVkx2a3vwSb",
      "execution_count": null,
      "outputs": [
        {
          "output_type": "stream",
          "name": "stdout",
          "text": [
            "113 ms ± 2.28 ms per loop (mean ± std. dev. of 7 runs, 10 loops each)\n"
          ]
        }
      ]
    },
    {
      "cell_type": "code",
      "source": [
        "### Testing the generator approach and averaging its execution time\n",
        "%timeit test_generator(process, test_data)"
      ],
      "metadata": {
        "colab": {
          "base_uri": "https://localhost:8080/"
        },
        "id": "7sEU8aGbvvp-",
        "outputId": "96eeecdc-b1a8-47fa-cac4-515b1676012d"
      },
      "id": "7sEU8aGbvvp-",
      "execution_count": null,
      "outputs": [
        {
          "output_type": "stream",
          "name": "stdout",
          "text": [
            "83.5 ms ± 1.65 ms per loop (mean ± std. dev. of 7 runs, 10 loops each)\n"
          ]
        }
      ]
    },
    {
      "cell_type": "markdown",
      "source": [
        "So it looks like we're still achieving worse performance using the built-in `tf.data` ops even when letting TF choose the optimal number of parallel workers with `tf.data.AUTOTUNE`.\n",
        "\n",
        "For now, we'll stick to the generator function approach. I'll repeat this experiment for other datasets, namely the GTSRB image dataset and see if anything changes."
      ],
      "metadata": {
        "id": "CBbvCrq7wJbh"
      },
      "id": "CBbvCrq7wJbh"
    },
    {
      "cell_type": "markdown",
      "id": "41fe458d",
      "metadata": {
        "id": "41fe458d"
      },
      "source": [
        "#### Evaluating the LeNet-5"
      ]
    },
    {
      "cell_type": "markdown",
      "id": "a94982cb",
      "metadata": {
        "id": "a94982cb"
      },
      "source": [
        "##### Initialising the model"
      ]
    },
    {
      "cell_type": "code",
      "execution_count": 51,
      "id": "a4253c23",
      "metadata": {
        "id": "a4253c23"
      },
      "outputs": [],
      "source": [
        "MODEL_NAME = 'LeNet-5'"
      ]
    },
    {
      "cell_type": "code",
      "execution_count": 52,
      "id": "b316e2a2",
      "metadata": {
        "id": "b316e2a2"
      },
      "outputs": [],
      "source": [
        "### Creating the model instance"
      ]
    },
    {
      "cell_type": "code",
      "execution_count": 53,
      "id": "9a70da23",
      "metadata": {
        "id": "9a70da23"
      },
      "outputs": [],
      "source": [
        "model = create_lenet_network(\n",
        "            input_shape=model_params[DATASET_NAME]['input_shape_padded'][1:],\n",
        "            output_shape=model_params[DATASET_NAME]['n_classes']\n",
        ")"
      ]
    },
    {
      "cell_type": "code",
      "source": [
        "model.summary()"
      ],
      "metadata": {
        "colab": {
          "base_uri": "https://localhost:8080/"
        },
        "id": "e4YRI5FENM3m",
        "outputId": "922745c2-ee71-4a01-b2bb-2ea919a01e5d"
      },
      "id": "e4YRI5FENM3m",
      "execution_count": 54,
      "outputs": [
        {
          "output_type": "stream",
          "name": "stdout",
          "text": [
            "Model: \"LeNet-5\"\n",
            "_________________________________________________________________\n",
            " Layer (type)                Output Shape              Param #   \n",
            "=================================================================\n",
            " C1 (Conv2D)                 (None, 28, 28, 6)         156       \n",
            "                                                                 \n",
            " S2 (AveragePooling2D)       (None, 14, 14, 6)         0         \n",
            "                                                                 \n",
            " Sigmoid_1 (Activation)      (None, 14, 14, 6)         0         \n",
            "                                                                 \n",
            " C3 (Conv2D)                 (None, 10, 10, 16)        2416      \n",
            "                                                                 \n",
            " S4 (AveragePooling2D)       (None, 5, 5, 16)          0         \n",
            "                                                                 \n",
            " Sigmoid_2 (Activation)      (None, 5, 5, 16)          0         \n",
            "                                                                 \n",
            " C5 (Conv2D)                 (None, 1, 1, 120)         48120     \n",
            "                                                                 \n",
            " flatten (Flatten)           (None, 120)               0         \n",
            "                                                                 \n",
            " F6 (Dense)                  (None, 84)                10164     \n",
            "                                                                 \n",
            " Output (Dense)              (None, 10)                850       \n",
            "                                                                 \n",
            "=================================================================\n",
            "Total params: 61,706\n",
            "Trainable params: 61,706\n",
            "Non-trainable params: 0\n",
            "_________________________________________________________________\n"
          ]
        }
      ]
    },
    {
      "cell_type": "markdown",
      "id": "04db909f",
      "metadata": {
        "id": "04db909f"
      },
      "source": [
        "##### Performing training and validation loops"
      ]
    },
    {
      "cell_type": "code",
      "execution_count": 55,
      "id": "4e6d3916",
      "metadata": {
        "id": "4e6d3916"
      },
      "outputs": [],
      "source": [
        "### Defining the model hyperparameters"
      ]
    },
    {
      "cell_type": "code",
      "execution_count": 56,
      "id": "b810597f",
      "metadata": {
        "id": "b810597f"
      },
      "outputs": [],
      "source": [
        "EPOCHS = 20"
      ]
    },
    {
      "cell_type": "code",
      "execution_count": 57,
      "id": "7333d331",
      "metadata": {
        "id": "7333d331"
      },
      "outputs": [],
      "source": [
        "model_params[MODEL_NAME].update({'epochs': EPOCHS})\n",
        "model_params[MODEL_NAME].update({'batch_size': BATCH_SIZE})\n",
        "model_params[MODEL_NAME].update({'shuffle': True})"
      ]
    },
    {
      "cell_type": "code",
      "execution_count": 58,
      "id": "cb571ec8",
      "metadata": {
        "id": "cb571ec8"
      },
      "outputs": [],
      "source": [
        "### Configuring the model for training"
      ]
    },
    {
      "cell_type": "code",
      "execution_count": 59,
      "id": "71e6598a",
      "metadata": {
        "id": "71e6598a"
      },
      "outputs": [],
      "source": [
        "model.compile(\n",
        "        optimizer=model_params[MODEL_NAME]['optimizer'],\n",
        "        loss=model_params[MODEL_NAME]['loss_fn'],\n",
        "        metrics=model_params[MODEL_NAME]['metrics']\n",
        ")"
      ]
    },
    {
      "cell_type": "code",
      "execution_count": 60,
      "id": "6198ce5c",
      "metadata": {
        "id": "6198ce5c"
      },
      "outputs": [],
      "source": [
        "### From Udacity's `training.py`"
      ]
    },
    {
      "cell_type": "code",
      "source": [
        "logger = get_module_logger(MODEL_NAME)"
      ],
      "metadata": {
        "id": "XM9iz00E0aMg"
      },
      "id": "XM9iz00E0aMg",
      "execution_count": 61,
      "outputs": []
    },
    {
      "cell_type": "code",
      "execution_count": 62,
      "id": "5495159d",
      "metadata": {
        "colab": {
          "base_uri": "https://localhost:8080/"
        },
        "id": "5495159d",
        "outputId": "2219f979-f164-4a86-ad7b-c35f5b182875"
      },
      "outputs": [
        {
          "output_type": "stream",
          "name": "stderr",
          "text": [
            "2022-09-18 00:01:37,956 INFO     \n",
            "Training for 20 epochs using 'MNIST' data\n"
          ]
        }
      ],
      "source": [
        "logger.info(f\"\\nTraining for {model_params[MODEL_NAME]['epochs']} epochs \" + \n",
        "            f\"using '{DATASET_NAME}' data\")"
      ]
    },
    {
      "cell_type": "code",
      "execution_count": 63,
      "id": "fafce66b",
      "metadata": {
        "id": "fafce66b"
      },
      "outputs": [],
      "source": [
        "### Usage of the `fit()` API\n",
        "# See: https://www.tensorflow.org/api_docs/python/tf/keras/Model#fit"
      ]
    },
    {
      "cell_type": "code",
      "execution_count": 64,
      "id": "5d1934aa",
      "metadata": {
        "colab": {
          "base_uri": "https://localhost:8080/"
        },
        "id": "5d1934aa",
        "outputId": "7ccebd52-ba4d-4c2a-a1b0-98a8a9a2700a"
      },
      "outputs": [
        {
          "output_type": "stream",
          "name": "stdout",
          "text": [
            "Epoch 1/20\n",
            "469/469 [==============================] - 13s 18ms/step - loss: 1.6793 - accuracy: 0.3946 - val_loss: 0.5395 - val_accuracy: 0.8420\n",
            "Epoch 2/20\n",
            "469/469 [==============================] - 3s 6ms/step - loss: 0.4075 - accuracy: 0.8747 - val_loss: 0.2986 - val_accuracy: 0.9149\n",
            "Epoch 3/20\n",
            "469/469 [==============================] - 4s 8ms/step - loss: 0.2796 - accuracy: 0.9142 - val_loss: 0.2375 - val_accuracy: 0.9327\n",
            "Epoch 4/20\n",
            "469/469 [==============================] - 3s 6ms/step - loss: 0.2335 - accuracy: 0.9278 - val_loss: 0.1907 - val_accuracy: 0.9429\n",
            "Epoch 5/20\n",
            "469/469 [==============================] - 4s 8ms/step - loss: 0.2047 - accuracy: 0.9367 - val_loss: 0.1655 - val_accuracy: 0.9505\n",
            "Epoch 6/20\n",
            "469/469 [==============================] - 3s 5ms/step - loss: 0.1828 - accuracy: 0.9431 - val_loss: 0.1520 - val_accuracy: 0.9551\n",
            "Epoch 7/20\n",
            "469/469 [==============================] - 3s 6ms/step - loss: 0.1647 - accuracy: 0.9489 - val_loss: 0.1473 - val_accuracy: 0.9552\n",
            "Epoch 8/20\n",
            "469/469 [==============================] - 3s 6ms/step - loss: 0.1509 - accuracy: 0.9533 - val_loss: 0.1469 - val_accuracy: 0.9559\n",
            "Epoch 9/20\n",
            "469/469 [==============================] - 3s 5ms/step - loss: 0.1405 - accuracy: 0.9559 - val_loss: 0.1452 - val_accuracy: 0.9571\n",
            "Epoch 10/20\n",
            "469/469 [==============================] - 3s 5ms/step - loss: 0.1309 - accuracy: 0.9587 - val_loss: 0.1407 - val_accuracy: 0.9572\n",
            "Epoch 11/20\n",
            "469/469 [==============================] - 3s 6ms/step - loss: 0.1225 - accuracy: 0.9609 - val_loss: 0.1365 - val_accuracy: 0.9588\n",
            "Epoch 12/20\n",
            "469/469 [==============================] - 3s 6ms/step - loss: 0.1156 - accuracy: 0.9633 - val_loss: 0.1319 - val_accuracy: 0.9580\n",
            "Epoch 13/20\n",
            "469/469 [==============================] - 3s 6ms/step - loss: 0.1097 - accuracy: 0.9654 - val_loss: 0.1253 - val_accuracy: 0.9597\n",
            "Epoch 14/20\n",
            "469/469 [==============================] - 3s 6ms/step - loss: 0.1047 - accuracy: 0.9668 - val_loss: 0.1170 - val_accuracy: 0.9621\n",
            "Epoch 15/20\n",
            "469/469 [==============================] - 3s 5ms/step - loss: 0.1004 - accuracy: 0.9675 - val_loss: 0.1084 - val_accuracy: 0.9657\n",
            "Epoch 16/20\n",
            "469/469 [==============================] - 3s 6ms/step - loss: 0.0967 - accuracy: 0.9689 - val_loss: 0.1009 - val_accuracy: 0.9684\n",
            "Epoch 17/20\n",
            "469/469 [==============================] - 3s 6ms/step - loss: 0.0934 - accuracy: 0.9697 - val_loss: 0.0940 - val_accuracy: 0.9697\n",
            "Epoch 18/20\n",
            "469/469 [==============================] - 3s 6ms/step - loss: 0.0906 - accuracy: 0.9707 - val_loss: 0.0887 - val_accuracy: 0.9719\n",
            "Epoch 19/20\n",
            "469/469 [==============================] - 3s 6ms/step - loss: 0.0883 - accuracy: 0.9714 - val_loss: 0.0861 - val_accuracy: 0.9728\n",
            "Epoch 20/20\n",
            "469/469 [==============================] - 3s 6ms/step - loss: 0.0862 - accuracy: 0.9724 - val_loss: 0.0849 - val_accuracy: 0.9724\n"
          ]
        }
      ],
      "source": [
        "history = model.fit(\n",
        "                x=train_data_processed,\n",
        "                epochs=model_params[MODEL_NAME].get('epochs', 10),\n",
        "                batch_size=model_params[MODEL_NAME].get('batch_size', 128),\n",
        "                validation_data=val_data_processed,\n",
        "                shuffle=True\n",
        ")"
      ]
    },
    {
      "cell_type": "code",
      "execution_count": 65,
      "id": "7ffb5a7a",
      "metadata": {
        "id": "7ffb5a7a"
      },
      "outputs": [],
      "source": [
        "### Usage of the `callbacks()` method\n",
        "# See: https://www.tensorflow.org/api_docs/python/tf/keras/callbacks/History\n",
        "# See: https://www.tensorflow.org/api_docs/python/tf/keras/callbacks/ModelCheckpoint"
      ]
    },
    {
      "cell_type": "code",
      "execution_count": 66,
      "id": "06d45d16",
      "metadata": {
        "id": "06d45d16",
        "colab": {
          "base_uri": "https://localhost:8080/"
        },
        "outputId": "ee7b58ea-103e-4a6a-df30-3c4e7af7bcc1"
      },
      "outputs": [
        {
          "output_type": "execute_result",
          "data": {
            "text/plain": [
              "keras.callbacks.History"
            ]
          },
          "metadata": {},
          "execution_count": 66
        }
      ],
      "source": [
        "type(history)"
      ]
    },
    {
      "cell_type": "markdown",
      "id": "9bf48c62",
      "metadata": {
        "id": "9bf48c62"
      },
      "source": [
        "##### Visualising the results"
      ]
    },
    {
      "cell_type": "code",
      "execution_count": 67,
      "id": "b2788c63",
      "metadata": {
        "id": "b2788c63",
        "colab": {
          "base_uri": "https://localhost:8080/",
          "height": 357
        },
        "outputId": "836d8a80-ede0-4e0b-8a53-73e426f409f0"
      },
      "outputs": [
        {
          "output_type": "display_data",
          "data": {
            "text/plain": [
              "<Figure size 1080x360 with 2 Axes>"
            ],
            "image/png": "[encoded data removed]"
          },
          "metadata": {
            "needs_background": "light"
          }
        }
      ],
      "source": [
        "display_metrics(history)"
      ]
    },
    {
      "cell_type": "markdown",
      "id": "25615960",
      "metadata": {
        "id": "25615960"
      },
      "source": [
        "#### Evaluating the custom CNN"
      ]
    },
    {
      "cell_type": "code",
      "execution_count": null,
      "id": "e1607d0d",
      "metadata": {
        "id": "e1607d0d"
      },
      "outputs": [],
      "source": [
        "MODEL_NAME = 'Custom_CNN'"
      ]
    },
    {
      "cell_type": "markdown",
      "id": "a8354134",
      "metadata": {
        "id": "a8354134"
      },
      "source": [
        "##### Initialising the model"
      ]
    },
    {
      "cell_type": "markdown",
      "id": "a50d1963",
      "metadata": {
        "id": "a50d1963"
      },
      "source": [
        "##### Performing training and validation loops"
      ]
    },
    {
      "cell_type": "markdown",
      "id": "0cb4c42b",
      "metadata": {
        "id": "0cb4c42b"
      },
      "source": [
        "##### Visualsing the results"
      ]
    },
    {
      "cell_type": "markdown",
      "id": "036e5ec4",
      "metadata": {
        "id": "036e5ec4"
      },
      "source": [
        "### 2.3 Evaluation on the GTSRB dataset"
      ]
    },
    {
      "cell_type": "markdown",
      "id": "bdad1f6d",
      "metadata": {
        "id": "bdad1f6d"
      },
      "source": [
        "#### Considerations for our input data"
      ]
    },
    {
      "cell_type": "code",
      "execution_count": 68,
      "id": "5f711ba6",
      "metadata": {
        "id": "5f711ba6"
      },
      "outputs": [],
      "source": [
        "DATASET_NAME = 'GTSRB'"
      ]
    },
    {
      "cell_type": "code",
      "execution_count": 69,
      "id": "7288e8a5",
      "metadata": {
        "id": "7288e8a5"
      },
      "outputs": [],
      "source": [
        "N_CLASSES = 43                                    # GTSRB has 43 distinct digit classes"
      ]
    },
    {
      "cell_type": "code",
      "execution_count": 70,
      "id": "fdfc0c89",
      "metadata": {
        "id": "fdfc0c89"
      },
      "outputs": [],
      "source": [
        "### Defining our input image specs"
      ]
    },
    {
      "cell_type": "code",
      "execution_count": 71,
      "id": "5896cacd",
      "metadata": {
        "id": "5896cacd"
      },
      "outputs": [],
      "source": [
        "IMG_DIR = os.path.join(DIR_SRC, 'GTSRB/Final_Training/Images')"
      ]
    },
    {
      "cell_type": "code",
      "execution_count": 72,
      "id": "bd232e25",
      "metadata": {
        "id": "bd232e25"
      },
      "outputs": [],
      "source": [
        "BATCH_SIZE = 128"
      ]
    },
    {
      "cell_type": "code",
      "execution_count": 73,
      "id": "04c04d92",
      "metadata": {
        "id": "04c04d92"
      },
      "outputs": [],
      "source": [
        "IMG_COLOR_MODE = 'rgb'\n",
        "IMG_SIZE = (32, 32)                               # Each RGB image has 32x32 px resolution\n",
        "IMG_SHAPE = (32, 32, 3)                           # Each RGB image has 3 channels\n",
        "N_FEATURES = (32 * 32) * 3                        # Each pixel value is considered an attribute (feature)"
      ]
    },
    {
      "cell_type": "code",
      "execution_count": 74,
      "id": "2de2807c",
      "metadata": {
        "id": "2de2807c"
      },
      "outputs": [],
      "source": [
        "model_params[DATASET_NAME].update({'n_classes': N_CLASSES})\n",
        "model_params[DATASET_NAME].update({'imdir': IMG_DIR})\n",
        "model_params[DATASET_NAME].update({'batch_size': BATCH_SIZE})\n",
        "model_params[DATASET_NAME].update({'color_mode': IMG_COLOR_MODE})\n",
        "model_params[DATASET_NAME].update({'image_size': IMG_SIZE})\n",
        "model_params[DATASET_NAME].update({'input_shape': IMG_SHAPE})\n",
        "model_params[DATASET_NAME].update({'n_features': N_FEATURES})"
      ]
    },
    {
      "cell_type": "markdown",
      "id": "28ec3188",
      "metadata": {
        "id": "28ec3188"
      },
      "source": [
        "#### Fetching the GTSRB data"
      ]
    },
    {
      "cell_type": "code",
      "source": [
        "def get_datasets(model_params: dict) -> Tuple[tf.data.Dataset, tf.data.Dataset]:\n",
        "    \"\"\"Return the training and validation datasets.\n",
        "    \n",
        "    :param model_params: the dict containing the dataset- and \n",
        "        model-specific arguments.\n",
        "    :returns: (train_dataset, validation_dataset), tuple of tf.data.Dataset \n",
        "        instances.\n",
        "    \"\"\"\n",
        "    \n",
        "    model_params = dict(model_params)\n",
        "    train_dataset = tf.keras.utils.image_dataset_from_directory(\n",
        "                        directory=model_params.get('imdir', None),\n",
        "                        labels='inferred',\n",
        "                        label_mode='int',\n",
        "                        color_mode=model_params.get('color_mode', None),\n",
        "                        batch_size=model_params.get('batch_size', None),\n",
        "                        image_size=model_params.get('image_size', None),\n",
        "                        shuffle=True,\n",
        "                        seed=123,\n",
        "                        validation_split=0.1,\n",
        "                        subset='training',\n",
        "    )\n",
        "    validation_dataset = tf.keras.utils.image_dataset_from_directory(\n",
        "                        directory=model_params.get('imdir', None),\n",
        "                        labels='inferred',\n",
        "                        label_mode='int',\n",
        "                        color_mode=model_params.get('color_mode', None),\n",
        "                        batch_size=model_params.get('batch_size', None),\n",
        "                        image_size=model_params.get('image_size', None),\n",
        "                        shuffle=True,\n",
        "                        seed=123,\n",
        "                        validation_split=0.1,\n",
        "                        subset='validation',\n",
        "    )\n",
        "    return train_dataset, validation_dataset"
      ],
      "metadata": {
        "id": "WPm5iyVSuhAc"
      },
      "id": "WPm5iyVSuhAc",
      "execution_count": 75,
      "outputs": []
    },
    {
      "cell_type": "code",
      "execution_count": 76,
      "id": "37655102",
      "metadata": {
        "colab": {
          "base_uri": "https://localhost:8080/"
        },
        "id": "37655102",
        "outputId": "ff3dc27b-85f7-47a6-dc8a-95de0782e31d"
      },
      "outputs": [
        {
          "output_type": "stream",
          "name": "stdout",
          "text": [
            "Found 4300 files belonging to 43 classes.\n",
            "Using 3870 files for training.\n",
            "Found 4300 files belonging to 43 classes.\n",
            "Using 430 files for validation.\n"
          ]
        }
      ],
      "source": [
        "### Fetching the training and validation datasets\n",
        "train_dataset, validation_dataset = get_datasets(model_params[DATASET_NAME])"
      ]
    },
    {
      "cell_type": "markdown",
      "id": "cff3e692",
      "metadata": {
        "id": "cff3e692"
      },
      "source": [
        "#### Processing the image data"
      ]
    },
    {
      "cell_type": "code",
      "execution_count": 77,
      "id": "cd22a1a9",
      "metadata": {
        "colab": {
          "base_uri": "https://localhost:8080/"
        },
        "id": "cd22a1a9",
        "outputId": "8a86894f-54fb-4f84-b56e-bd8469b3f730"
      },
      "outputs": [
        {
          "output_type": "execute_result",
          "data": {
            "text/plain": [
              "3072"
            ]
          },
          "metadata": {},
          "execution_count": 77
        }
      ],
      "source": [
        "### Number of features (pixel values) in a single image\n",
        "train_iter = iter(train_dataset)\n",
        "len(train_iter.get_next()[0][0].numpy().flatten())"
      ]
    },
    {
      "cell_type": "markdown",
      "source": [
        "##### Using a generator function"
      ],
      "metadata": {
        "id": "g3pqqF8jqz0O"
      },
      "id": "g3pqqF8jqz0O"
    },
    {
      "cell_type": "code",
      "execution_count": 35,
      "id": "a5d5385d",
      "metadata": {
        "id": "a5d5385d"
      },
      "outputs": [],
      "source": [
        "### From J. Moran's `2022-09-05-Image-Classification-Feed-Forward-Neural-Networks.ipynb`"
      ]
    },
    {
      "cell_type": "code",
      "execution_count": 36,
      "id": "90115a32",
      "metadata": {
        "id": "90115a32"
      },
      "outputs": [],
      "source": [
        "def process(dataset: tf.data.Dataset) -> Generator[tuple, None, None]:\n",
        "    \"\"\"Processes the input dataset and returns a generator object.\n",
        "\n",
        "    :param dataset: the tf.data.Dataset instance of batched image, label data.\n",
        "    :returns: the generator instance modifying the image attribute values.\n",
        "    \"\"\"\n",
        "\n",
        "    def process_generator()  -> Iterator[Tuple[tf.Tensor, tf.Tensor]]:\n",
        "        \"\"\"Scales the input image data.\n",
        "        \n",
        "        Unbatches the tf.data.Dataset and scales all image attributes,\n",
        "        i.e., pixel values, in the range [0, 1].\n",
        "\n",
        "        :returns: an iterator yielding the modfied image data and\n",
        "            corresponding label.\n",
        "        \"\"\"\n",
        "\n",
        "        for batch in dataset:\n",
        "            for image, label in zip(*batch):\n",
        "                image = tf.cast(image/255., tf.float32)\n",
        "                yield image, label\n",
        "    return process_generator"
      ]
    },
    {
      "cell_type": "code",
      "execution_count": 37,
      "id": "a3f9cad4",
      "metadata": {
        "id": "a3f9cad4"
      },
      "outputs": [],
      "source": [
        "### Unbatching the datasets and scaling the images"
      ]
    },
    {
      "cell_type": "code",
      "execution_count": 38,
      "id": "eadc5547",
      "metadata": {
        "id": "eadc5547"
      },
      "outputs": [],
      "source": [
        "train_dataset_scaled = tf.data.Dataset.from_generator(\n",
        "        generator=process(train_dataset), \n",
        "        output_signature=(\n",
        "            tf.TensorSpec(\n",
        "                shape=model_params[DATASET_NAME].get('input_shape', None),\n",
        "                dtype=tf.dtypes.float32), \n",
        "            tf.TensorSpec(\n",
        "                shape=(),\n",
        "                dtype=tf.dtypes.int32)\n",
        "        )\n",
        ")"
      ]
    },
    {
      "cell_type": "code",
      "execution_count": 39,
      "id": "3ebba510",
      "metadata": {
        "id": "3ebba510"
      },
      "outputs": [],
      "source": [
        "validation_dataset_scaled = tf.data.Dataset.from_generator(\n",
        "        generator=process(validation_dataset), \n",
        "        output_signature=(\n",
        "            tf.TensorSpec(\n",
        "                shape=model_params[DATASET_NAME].get('input_shape', None),\n",
        "                dtype=tf.dtypes.float32), \n",
        "            tf.TensorSpec(\n",
        "                shape=(),\n",
        "                dtype=tf.dtypes.int32)\n",
        "        )\n",
        ")"
      ]
    },
    {
      "cell_type": "code",
      "execution_count": 142,
      "id": "e4699eba",
      "metadata": {
        "colab": {
          "base_uri": "https://localhost:8080/"
        },
        "id": "e4699eba",
        "outputId": "a2bb547e-a744-4314-afae-7afb33a078e1"
      },
      "outputs": [
        {
          "output_type": "execute_result",
          "data": {
            "text/plain": [
              "tensorflow.python.data.ops.dataset_ops.FlatMapDataset"
            ]
          },
          "metadata": {},
          "execution_count": 142
        }
      ],
      "source": [
        "type(validation_dataset_scaled)"
      ]
    },
    {
      "cell_type": "markdown",
      "source": [
        "##### Using TensorFlow data operations"
      ],
      "metadata": {
        "id": "G2j_gdBFq63n"
      },
      "id": "G2j_gdBFq63n"
    },
    {
      "cell_type": "code",
      "source": [
        "def process(image, label):\n",
        "    \"\"\"Scales the input image data.\"\"\"\n",
        "    \n",
        "    image = tf.cast(image / 255., dtype=tf.dtypes.float32)\n",
        "    return image, label"
      ],
      "metadata": {
        "id": "W5asBAPLwFlc"
      },
      "id": "W5asBAPLwFlc",
      "execution_count": 78,
      "outputs": []
    },
    {
      "cell_type": "code",
      "source": [
        "### Fetching the labels in the dataset\n",
        "train_dataset_processed = train_dataset.map(process,\n",
        "                                num_parallel_calls=tf.data.AUTOTUNE\n",
        ")\n",
        "val_dataset_processed = validation_dataset.map(process,\n",
        "                                num_parallel_calls=tf.data.AUTOTUNE\n",
        ")"
      ],
      "metadata": {
        "id": "i85kyXUKrSyL"
      },
      "id": "i85kyXUKrSyL",
      "execution_count": 79,
      "outputs": []
    },
    {
      "cell_type": "markdown",
      "id": "cf3b6ae4",
      "metadata": {
        "id": "cf3b6ae4"
      },
      "source": [
        "#### Evaluating the LeNet-5"
      ]
    },
    {
      "cell_type": "markdown",
      "id": "7d29c235",
      "metadata": {
        "id": "7d29c235"
      },
      "source": [
        "##### Initialising the model"
      ]
    },
    {
      "cell_type": "code",
      "execution_count": 80,
      "id": "dd28fc67",
      "metadata": {
        "id": "dd28fc67"
      },
      "outputs": [],
      "source": [
        "MODEL_NAME = 'LeNet-5'"
      ]
    },
    {
      "cell_type": "code",
      "execution_count": 81,
      "id": "2271732e",
      "metadata": {
        "id": "2271732e"
      },
      "outputs": [],
      "source": [
        "### Creating the model instance"
      ]
    },
    {
      "cell_type": "code",
      "execution_count": 82,
      "id": "96e47fa9",
      "metadata": {
        "id": "96e47fa9"
      },
      "outputs": [],
      "source": [
        "model = create_lenet_network(\n",
        "            input_shape=model_params[DATASET_NAME]['input_shape'],\n",
        "            output_shape=model_params[DATASET_NAME]['n_classes']\n",
        ")"
      ]
    },
    {
      "cell_type": "code",
      "source": [
        "model.summary()"
      ],
      "metadata": {
        "colab": {
          "base_uri": "https://localhost:8080/"
        },
        "id": "8Mb4FJMBOoMU",
        "outputId": "09d0946c-adb0-4b9a-e6ec-661b81b6e517"
      },
      "id": "8Mb4FJMBOoMU",
      "execution_count": 83,
      "outputs": [
        {
          "output_type": "stream",
          "name": "stdout",
          "text": [
            "Model: \"LeNet-5\"\n",
            "_________________________________________________________________\n",
            " Layer (type)                Output Shape              Param #   \n",
            "=================================================================\n",
            " C1 (Conv2D)                 (None, 28, 28, 6)         456       \n",
            "                                                                 \n",
            " S2 (AveragePooling2D)       (None, 14, 14, 6)         0         \n",
            "                                                                 \n",
            " Sigmoid_1 (Activation)      (None, 14, 14, 6)         0         \n",
            "                                                                 \n",
            " C3 (Conv2D)                 (None, 10, 10, 16)        2416      \n",
            "                                                                 \n",
            " S4 (AveragePooling2D)       (None, 5, 5, 16)          0         \n",
            "                                                                 \n",
            " Sigmoid_2 (Activation)      (None, 5, 5, 16)          0         \n",
            "                                                                 \n",
            " C5 (Conv2D)                 (None, 1, 1, 120)         48120     \n",
            "                                                                 \n",
            " flatten_1 (Flatten)         (None, 120)               0         \n",
            "                                                                 \n",
            " F6 (Dense)                  (None, 84)                10164     \n",
            "                                                                 \n",
            " Output (Dense)              (None, 43)                3655      \n",
            "                                                                 \n",
            "=================================================================\n",
            "Total params: 64,811\n",
            "Trainable params: 64,811\n",
            "Non-trainable params: 0\n",
            "_________________________________________________________________\n"
          ]
        }
      ]
    },
    {
      "cell_type": "markdown",
      "id": "556f2c4f",
      "metadata": {
        "id": "556f2c4f"
      },
      "source": [
        "##### Performing the training and validation loops"
      ]
    },
    {
      "cell_type": "code",
      "execution_count": 84,
      "id": "0c48a510",
      "metadata": {
        "id": "0c48a510"
      },
      "outputs": [],
      "source": [
        "### Defining the model hyperparameters"
      ]
    },
    {
      "cell_type": "code",
      "execution_count": 85,
      "id": "6bbb1ad4",
      "metadata": {
        "id": "6bbb1ad4"
      },
      "outputs": [],
      "source": [
        "EPOCHS = 200"
      ]
    },
    {
      "cell_type": "code",
      "execution_count": 86,
      "id": "199f2956",
      "metadata": {
        "id": "199f2956"
      },
      "outputs": [],
      "source": [
        "model_params[MODEL_NAME].update({'epochs': EPOCHS})\n",
        "model_params[MODEL_NAME].update({'batch_size': BATCH_SIZE})\n",
        "model_params[MODEL_NAME].update({'shuffle': True})"
      ]
    },
    {
      "cell_type": "code",
      "execution_count": 87,
      "id": "d364fb39",
      "metadata": {
        "id": "d364fb39"
      },
      "outputs": [],
      "source": [
        "### Configuring the model for training"
      ]
    },
    {
      "cell_type": "code",
      "execution_count": 88,
      "id": "ecd4aafd",
      "metadata": {
        "id": "ecd4aafd"
      },
      "outputs": [],
      "source": [
        "model.compile(\n",
        "        optimizer=model_params[MODEL_NAME]['optimizer'],\n",
        "        loss=model_params[MODEL_NAME]['loss_fn'],\n",
        "        metrics=model_params[MODEL_NAME]['metrics']\n",
        ")"
      ]
    },
    {
      "cell_type": "code",
      "execution_count": 91,
      "id": "8c5f9129",
      "metadata": {
        "id": "8c5f9129"
      },
      "outputs": [],
      "source": [
        "### From Udacity's `training.py`"
      ]
    },
    {
      "cell_type": "code",
      "execution_count": 92,
      "id": "5fb5bbc4",
      "metadata": {
        "colab": {
          "base_uri": "https://localhost:8080/"
        },
        "id": "5fb5bbc4",
        "outputId": "05f2a977-e82c-4848-8cbc-c40cbdb9ac34"
      },
      "outputs": [
        {
          "output_type": "stream",
          "name": "stderr",
          "text": [
            "2022-09-18 00:04:57,021 INFO     \n",
            "Training for 200 epochs using '/content/data/GTSRB/Final_Training/Images' data\n"
          ]
        }
      ],
      "source": [
        "logger.info(f\"\\nTraining for {model_params[MODEL_NAME]['epochs']} epochs \" + \n",
        "            f\"using '{model_params[DATASET_NAME]['imdir']}' data\")"
      ]
    },
    {
      "cell_type": "code",
      "execution_count": 93,
      "id": "cb2ec5c4",
      "metadata": {
        "id": "cb2ec5c4"
      },
      "outputs": [],
      "source": [
        "### Usage of the `fit()` API\n",
        "# See: https://www.tensorflow.org/api_docs/python/tf/keras/Model#fit"
      ]
    },
    {
      "cell_type": "code",
      "execution_count": 94,
      "id": "c35a2d5b",
      "metadata": {
        "colab": {
          "base_uri": "https://localhost:8080/"
        },
        "id": "c35a2d5b",
        "outputId": "80663061-4144-4dba-b6d4-560bf6e3c10b"
      },
      "outputs": [
        {
          "output_type": "stream",
          "name": "stdout",
          "text": [
            "Epoch 1/200\n",
            "31/31 [==============================] - 2s 44ms/step - loss: 3.8277 - accuracy: 0.0230 - val_loss: 3.7841 - val_accuracy: 0.0116\n",
            "Epoch 2/200\n",
            "31/31 [==============================] - 1s 31ms/step - loss: 3.7966 - accuracy: 0.0207 - val_loss: 3.7780 - val_accuracy: 0.0186\n",
            "Epoch 3/200\n",
            "31/31 [==============================] - 1s 29ms/step - loss: 3.7880 - accuracy: 0.0202 - val_loss: 3.7985 - val_accuracy: 0.0302\n",
            "Epoch 4/200\n",
            "31/31 [==============================] - 1s 29ms/step - loss: 3.7916 - accuracy: 0.0191 - val_loss: 3.8020 - val_accuracy: 0.0163\n",
            "Epoch 5/200\n",
            "31/31 [==============================] - 1s 29ms/step - loss: 3.7929 - accuracy: 0.0212 - val_loss: 3.8133 - val_accuracy: 0.0163\n",
            "Epoch 6/200\n",
            "31/31 [==============================] - 1s 30ms/step - loss: 3.7933 - accuracy: 0.0225 - val_loss: 3.8105 - val_accuracy: 0.0186\n",
            "Epoch 7/200\n",
            "31/31 [==============================] - 1s 29ms/step - loss: 3.7893 - accuracy: 0.0222 - val_loss: 3.7849 - val_accuracy: 0.0140\n",
            "Epoch 8/200\n",
            "31/31 [==============================] - 1s 30ms/step - loss: 3.7908 - accuracy: 0.0204 - val_loss: 3.7819 - val_accuracy: 0.0326\n",
            "Epoch 9/200\n",
            "31/31 [==============================] - 1s 29ms/step - loss: 3.7872 - accuracy: 0.0186 - val_loss: 3.7824 - val_accuracy: 0.0209\n",
            "Epoch 10/200\n",
            "31/31 [==============================] - 1s 30ms/step - loss: 3.7799 - accuracy: 0.0217 - val_loss: 3.7868 - val_accuracy: 0.0186\n",
            "Epoch 11/200\n",
            "31/31 [==============================] - 1s 29ms/step - loss: 3.7826 - accuracy: 0.0204 - val_loss: 3.7898 - val_accuracy: 0.0140\n",
            "Epoch 12/200\n",
            "31/31 [==============================] - 1s 29ms/step - loss: 3.7815 - accuracy: 0.0214 - val_loss: 3.7888 - val_accuracy: 0.0140\n",
            "Epoch 13/200\n",
            "31/31 [==============================] - 1s 30ms/step - loss: 3.7839 - accuracy: 0.0225 - val_loss: 3.7788 - val_accuracy: 0.0163\n",
            "Epoch 14/200\n",
            "31/31 [==============================] - 1s 29ms/step - loss: 3.7888 - accuracy: 0.0202 - val_loss: 3.7974 - val_accuracy: 0.0163\n",
            "Epoch 15/200\n",
            "31/31 [==============================] - 1s 30ms/step - loss: 3.7862 - accuracy: 0.0194 - val_loss: 3.7999 - val_accuracy: 0.0186\n",
            "Epoch 16/200\n",
            "31/31 [==============================] - 1s 29ms/step - loss: 3.7813 - accuracy: 0.0202 - val_loss: 3.7856 - val_accuracy: 0.0116\n",
            "Epoch 17/200\n",
            "31/31 [==============================] - 1s 30ms/step - loss: 3.7842 - accuracy: 0.0165 - val_loss: 3.7809 - val_accuracy: 0.0163\n",
            "Epoch 18/200\n",
            "31/31 [==============================] - 1s 30ms/step - loss: 3.7817 - accuracy: 0.0173 - val_loss: 3.7867 - val_accuracy: 0.0140\n",
            "Epoch 19/200\n",
            "31/31 [==============================] - 1s 30ms/step - loss: 3.7802 - accuracy: 0.0181 - val_loss: 3.7805 - val_accuracy: 0.0233\n",
            "Epoch 20/200\n",
            "31/31 [==============================] - 1s 31ms/step - loss: 3.7796 - accuracy: 0.0214 - val_loss: 3.7890 - val_accuracy: 0.0186\n",
            "Epoch 21/200\n",
            "31/31 [==============================] - 1s 32ms/step - loss: 3.7811 - accuracy: 0.0189 - val_loss: 3.7901 - val_accuracy: 0.0186\n",
            "Epoch 22/200\n",
            "31/31 [==============================] - 1s 30ms/step - loss: 3.7798 - accuracy: 0.0233 - val_loss: 3.7715 - val_accuracy: 0.0186\n",
            "Epoch 23/200\n",
            "31/31 [==============================] - 1s 30ms/step - loss: 3.7802 - accuracy: 0.0199 - val_loss: 3.7738 - val_accuracy: 0.0116\n",
            "Epoch 24/200\n",
            "31/31 [==============================] - 1s 30ms/step - loss: 3.7769 - accuracy: 0.0183 - val_loss: 3.7825 - val_accuracy: 0.0209\n",
            "Epoch 25/200\n",
            "31/31 [==============================] - 1s 30ms/step - loss: 3.7770 - accuracy: 0.0181 - val_loss: 3.7699 - val_accuracy: 0.0140\n",
            "Epoch 26/200\n",
            "31/31 [==============================] - 1s 30ms/step - loss: 3.7756 - accuracy: 0.0191 - val_loss: 3.7768 - val_accuracy: 0.0140\n",
            "Epoch 27/200\n",
            "31/31 [==============================] - 1s 30ms/step - loss: 3.7766 - accuracy: 0.0225 - val_loss: 3.7886 - val_accuracy: 0.0116\n",
            "Epoch 28/200\n",
            "31/31 [==============================] - 1s 30ms/step - loss: 3.7781 - accuracy: 0.0217 - val_loss: 3.7842 - val_accuracy: 0.0116\n",
            "Epoch 29/200\n",
            "31/31 [==============================] - 1s 30ms/step - loss: 3.7774 - accuracy: 0.0214 - val_loss: 3.7848 - val_accuracy: 0.0209\n",
            "Epoch 30/200\n",
            "31/31 [==============================] - 1s 30ms/step - loss: 3.7748 - accuracy: 0.0194 - val_loss: 3.7774 - val_accuracy: 0.0163\n",
            "Epoch 31/200\n",
            "31/31 [==============================] - 1s 27ms/step - loss: 3.7762 - accuracy: 0.0214 - val_loss: 3.7818 - val_accuracy: 0.0140\n",
            "Epoch 32/200\n",
            "31/31 [==============================] - 1s 32ms/step - loss: 3.7786 - accuracy: 0.0191 - val_loss: 3.7844 - val_accuracy: 0.0256\n",
            "Epoch 33/200\n",
            "31/31 [==============================] - 1s 31ms/step - loss: 3.7771 - accuracy: 0.0199 - val_loss: 3.7772 - val_accuracy: 0.0140\n",
            "Epoch 34/200\n",
            "31/31 [==============================] - 1s 29ms/step - loss: 3.7734 - accuracy: 0.0202 - val_loss: 3.7783 - val_accuracy: 0.0163\n",
            "Epoch 35/200\n",
            "31/31 [==============================] - 1s 31ms/step - loss: 3.7729 - accuracy: 0.0196 - val_loss: 3.7710 - val_accuracy: 0.0116\n",
            "Epoch 36/200\n",
            "31/31 [==============================] - 2s 58ms/step - loss: 3.7747 - accuracy: 0.0245 - val_loss: 3.7835 - val_accuracy: 0.0116\n",
            "Epoch 37/200\n",
            "31/31 [==============================] - 1s 31ms/step - loss: 3.7728 - accuracy: 0.0147 - val_loss: 3.7796 - val_accuracy: 0.0163\n",
            "Epoch 38/200\n",
            "31/31 [==============================] - 1s 30ms/step - loss: 3.7728 - accuracy: 0.0186 - val_loss: 3.7776 - val_accuracy: 0.0209\n",
            "Epoch 39/200\n",
            "31/31 [==============================] - 1s 29ms/step - loss: 3.7732 - accuracy: 0.0196 - val_loss: 3.7762 - val_accuracy: 0.0186\n",
            "Epoch 40/200\n",
            "31/31 [==============================] - 1s 29ms/step - loss: 3.7729 - accuracy: 0.0173 - val_loss: 3.7729 - val_accuracy: 0.0140\n",
            "Epoch 41/200\n",
            "31/31 [==============================] - 1s 29ms/step - loss: 3.7725 - accuracy: 0.0191 - val_loss: 3.7813 - val_accuracy: 0.0186\n",
            "Epoch 42/200\n",
            "31/31 [==============================] - 1s 30ms/step - loss: 3.7720 - accuracy: 0.0209 - val_loss: 3.7801 - val_accuracy: 0.0186\n",
            "Epoch 43/200\n",
            "31/31 [==============================] - 1s 31ms/step - loss: 3.7713 - accuracy: 0.0207 - val_loss: 3.7716 - val_accuracy: 0.0302\n",
            "Epoch 44/200\n",
            "31/31 [==============================] - 1s 31ms/step - loss: 3.7701 - accuracy: 0.0222 - val_loss: 3.7784 - val_accuracy: 0.0163\n",
            "Epoch 45/200\n",
            "31/31 [==============================] - 1s 32ms/step - loss: 3.7707 - accuracy: 0.0238 - val_loss: 3.7736 - val_accuracy: 0.0116\n",
            "Epoch 46/200\n",
            "31/31 [==============================] - 1s 32ms/step - loss: 3.7676 - accuracy: 0.0217 - val_loss: 3.7770 - val_accuracy: 0.0186\n",
            "Epoch 47/200\n",
            "31/31 [==============================] - 2s 54ms/step - loss: 3.7511 - accuracy: 0.0240 - val_loss: 3.7303 - val_accuracy: 0.0302\n",
            "Epoch 48/200\n",
            "31/31 [==============================] - 2s 43ms/step - loss: 3.6501 - accuracy: 0.0439 - val_loss: 3.5766 - val_accuracy: 0.0442\n",
            "Epoch 49/200\n",
            "31/31 [==============================] - 1s 31ms/step - loss: 3.4552 - accuracy: 0.0519 - val_loss: 3.4009 - val_accuracy: 0.0442\n",
            "Epoch 50/200\n",
            "31/31 [==============================] - 1s 32ms/step - loss: 3.3706 - accuracy: 0.0491 - val_loss: 3.3510 - val_accuracy: 0.0558\n",
            "Epoch 51/200\n",
            "31/31 [==============================] - 1s 30ms/step - loss: 3.3376 - accuracy: 0.0584 - val_loss: 3.3093 - val_accuracy: 0.0535\n",
            "Epoch 52/200\n",
            "31/31 [==============================] - 1s 30ms/step - loss: 3.3186 - accuracy: 0.0659 - val_loss: 3.2882 - val_accuracy: 0.0605\n",
            "Epoch 53/200\n",
            "31/31 [==============================] - 1s 30ms/step - loss: 3.2841 - accuracy: 0.0685 - val_loss: 3.2658 - val_accuracy: 0.0721\n",
            "Epoch 54/200\n",
            "31/31 [==============================] - 1s 31ms/step - loss: 3.2666 - accuracy: 0.0749 - val_loss: 3.3364 - val_accuracy: 0.0535\n",
            "Epoch 55/200\n",
            "31/31 [==============================] - 1s 29ms/step - loss: 3.2753 - accuracy: 0.0760 - val_loss: 3.2509 - val_accuracy: 0.0977\n",
            "Epoch 56/200\n",
            "31/31 [==============================] - 1s 31ms/step - loss: 3.2659 - accuracy: 0.0711 - val_loss: 3.2240 - val_accuracy: 0.1070\n",
            "Epoch 57/200\n",
            "31/31 [==============================] - 1s 30ms/step - loss: 3.2172 - accuracy: 0.0791 - val_loss: 3.2201 - val_accuracy: 0.1047\n",
            "Epoch 58/200\n",
            "31/31 [==============================] - 1s 30ms/step - loss: 3.1966 - accuracy: 0.1018 - val_loss: 3.1751 - val_accuracy: 0.0860\n",
            "Epoch 59/200\n",
            "31/31 [==============================] - 1s 31ms/step - loss: 3.1658 - accuracy: 0.0987 - val_loss: 3.1352 - val_accuracy: 0.1070\n",
            "Epoch 60/200\n",
            "31/31 [==============================] - 1s 32ms/step - loss: 3.1006 - accuracy: 0.1168 - val_loss: 3.1161 - val_accuracy: 0.0977\n",
            "Epoch 61/200\n",
            "31/31 [==============================] - 1s 31ms/step - loss: 3.0687 - accuracy: 0.1160 - val_loss: 3.0822 - val_accuracy: 0.1163\n",
            "Epoch 62/200\n",
            "31/31 [==============================] - 1s 30ms/step - loss: 3.0153 - accuracy: 0.1222 - val_loss: 3.0863 - val_accuracy: 0.1000\n",
            "Epoch 63/200\n",
            "31/31 [==============================] - 1s 32ms/step - loss: 3.0081 - accuracy: 0.1212 - val_loss: 2.9740 - val_accuracy: 0.1233\n",
            "Epoch 64/200\n",
            "31/31 [==============================] - 1s 32ms/step - loss: 2.9659 - accuracy: 0.1186 - val_loss: 2.9223 - val_accuracy: 0.1744\n",
            "Epoch 65/200\n",
            "31/31 [==============================] - 1s 31ms/step - loss: 2.9650 - accuracy: 0.1287 - val_loss: 3.0219 - val_accuracy: 0.1395\n",
            "Epoch 66/200\n",
            "31/31 [==============================] - 1s 32ms/step - loss: 2.9248 - accuracy: 0.1416 - val_loss: 2.8876 - val_accuracy: 0.1721\n",
            "Epoch 67/200\n",
            "31/31 [==============================] - 1s 31ms/step - loss: 2.8809 - accuracy: 0.1457 - val_loss: 2.9121 - val_accuracy: 0.1674\n",
            "Epoch 68/200\n",
            "31/31 [==============================] - 1s 32ms/step - loss: 2.8701 - accuracy: 0.1432 - val_loss: 2.8901 - val_accuracy: 0.1465\n",
            "Epoch 69/200\n",
            "31/31 [==============================] - 1s 33ms/step - loss: 2.8537 - accuracy: 0.1455 - val_loss: 2.8670 - val_accuracy: 0.1651\n",
            "Epoch 70/200\n",
            "31/31 [==============================] - 1s 31ms/step - loss: 2.8362 - accuracy: 0.1584 - val_loss: 2.8366 - val_accuracy: 0.1814\n",
            "Epoch 71/200\n",
            "31/31 [==============================] - 1s 30ms/step - loss: 2.8037 - accuracy: 0.1620 - val_loss: 2.8431 - val_accuracy: 0.1814\n",
            "Epoch 72/200\n",
            "31/31 [==============================] - 1s 30ms/step - loss: 2.7996 - accuracy: 0.1571 - val_loss: 2.7911 - val_accuracy: 0.1814\n",
            "Epoch 73/200\n",
            "31/31 [==============================] - 1s 31ms/step - loss: 2.7837 - accuracy: 0.1682 - val_loss: 2.7919 - val_accuracy: 0.1535\n",
            "Epoch 74/200\n",
            "31/31 [==============================] - 1s 30ms/step - loss: 2.7480 - accuracy: 0.1716 - val_loss: 2.8018 - val_accuracy: 0.1721\n",
            "Epoch 75/200\n",
            "31/31 [==============================] - 1s 31ms/step - loss: 2.7287 - accuracy: 0.1817 - val_loss: 2.7840 - val_accuracy: 0.1372\n",
            "Epoch 76/200\n",
            "31/31 [==============================] - 1s 31ms/step - loss: 2.7147 - accuracy: 0.1775 - val_loss: 2.7051 - val_accuracy: 0.1907\n",
            "Epoch 77/200\n",
            "31/31 [==============================] - 1s 31ms/step - loss: 2.6896 - accuracy: 0.1848 - val_loss: 2.6907 - val_accuracy: 0.1837\n",
            "Epoch 78/200\n",
            "31/31 [==============================] - 1s 30ms/step - loss: 2.6718 - accuracy: 0.1796 - val_loss: 2.7465 - val_accuracy: 0.1884\n",
            "Epoch 79/200\n",
            "31/31 [==============================] - 1s 30ms/step - loss: 2.6514 - accuracy: 0.2016 - val_loss: 2.6786 - val_accuracy: 0.2023\n",
            "Epoch 80/200\n",
            "31/31 [==============================] - 1s 32ms/step - loss: 2.6117 - accuracy: 0.2003 - val_loss: 2.5906 - val_accuracy: 0.2209\n",
            "Epoch 81/200\n",
            "31/31 [==============================] - 1s 30ms/step - loss: 2.5698 - accuracy: 0.2062 - val_loss: 2.5947 - val_accuracy: 0.2093\n",
            "Epoch 82/200\n",
            "31/31 [==============================] - 1s 30ms/step - loss: 2.5535 - accuracy: 0.2072 - val_loss: 2.5322 - val_accuracy: 0.2163\n",
            "Epoch 83/200\n",
            "31/31 [==============================] - 1s 31ms/step - loss: 2.5718 - accuracy: 0.2090 - val_loss: 2.5200 - val_accuracy: 0.2256\n",
            "Epoch 84/200\n",
            "31/31 [==============================] - 1s 31ms/step - loss: 2.5018 - accuracy: 0.2220 - val_loss: 2.6010 - val_accuracy: 0.2093\n",
            "Epoch 85/200\n",
            "31/31 [==============================] - 1s 31ms/step - loss: 2.4925 - accuracy: 0.2209 - val_loss: 2.4547 - val_accuracy: 0.2512\n",
            "Epoch 86/200\n",
            "31/31 [==============================] - 1s 32ms/step - loss: 2.4399 - accuracy: 0.2367 - val_loss: 2.4625 - val_accuracy: 0.2349\n",
            "Epoch 87/200\n",
            "31/31 [==============================] - 1s 31ms/step - loss: 2.4312 - accuracy: 0.2284 - val_loss: 2.4484 - val_accuracy: 0.2349\n",
            "Epoch 88/200\n",
            "31/31 [==============================] - 1s 31ms/step - loss: 2.4298 - accuracy: 0.2292 - val_loss: 2.3971 - val_accuracy: 0.2372\n",
            "Epoch 89/200\n",
            "31/31 [==============================] - 1s 32ms/step - loss: 2.4062 - accuracy: 0.2375 - val_loss: 2.4171 - val_accuracy: 0.2256\n",
            "Epoch 90/200\n",
            "31/31 [==============================] - 1s 32ms/step - loss: 2.4131 - accuracy: 0.2450 - val_loss: 2.4016 - val_accuracy: 0.2209\n",
            "Epoch 91/200\n",
            "31/31 [==============================] - 1s 32ms/step - loss: 2.3732 - accuracy: 0.2432 - val_loss: 2.3874 - val_accuracy: 0.2465\n",
            "Epoch 92/200\n",
            "31/31 [==============================] - 1s 32ms/step - loss: 2.3310 - accuracy: 0.2597 - val_loss: 2.3357 - val_accuracy: 0.2581\n",
            "Epoch 93/200\n",
            "31/31 [==============================] - 1s 32ms/step - loss: 2.3279 - accuracy: 0.2574 - val_loss: 2.3773 - val_accuracy: 0.2512\n",
            "Epoch 94/200\n",
            "31/31 [==============================] - 1s 31ms/step - loss: 2.3107 - accuracy: 0.2571 - val_loss: 2.2964 - val_accuracy: 0.2721\n",
            "Epoch 95/200\n",
            "31/31 [==============================] - 1s 31ms/step - loss: 2.2795 - accuracy: 0.2721 - val_loss: 2.3339 - val_accuracy: 0.2419\n",
            "Epoch 96/200\n",
            "31/31 [==============================] - 1s 32ms/step - loss: 2.2822 - accuracy: 0.2646 - val_loss: 2.2692 - val_accuracy: 0.2651\n",
            "Epoch 97/200\n",
            "31/31 [==============================] - 1s 30ms/step - loss: 2.2600 - accuracy: 0.2734 - val_loss: 2.2633 - val_accuracy: 0.2837\n",
            "Epoch 98/200\n",
            "31/31 [==============================] - 1s 30ms/step - loss: 2.2362 - accuracy: 0.2809 - val_loss: 2.2669 - val_accuracy: 0.2628\n",
            "Epoch 99/200\n",
            "31/31 [==============================] - 1s 31ms/step - loss: 2.2297 - accuracy: 0.2881 - val_loss: 2.2496 - val_accuracy: 0.2581\n",
            "Epoch 100/200\n",
            "31/31 [==============================] - 2s 44ms/step - loss: 2.2250 - accuracy: 0.2863 - val_loss: 2.2248 - val_accuracy: 0.2814\n",
            "Epoch 101/200\n",
            "31/31 [==============================] - 1s 31ms/step - loss: 2.2374 - accuracy: 0.2734 - val_loss: 2.3682 - val_accuracy: 0.2395\n",
            "Epoch 102/200\n",
            "31/31 [==============================] - 1s 31ms/step - loss: 2.2249 - accuracy: 0.2824 - val_loss: 2.1986 - val_accuracy: 0.2884\n",
            "Epoch 103/200\n",
            "31/31 [==============================] - 1s 31ms/step - loss: 2.1881 - accuracy: 0.3008 - val_loss: 2.2067 - val_accuracy: 0.2814\n",
            "Epoch 104/200\n",
            "31/31 [==============================] - 1s 32ms/step - loss: 2.1660 - accuracy: 0.2979 - val_loss: 2.2138 - val_accuracy: 0.2953\n",
            "Epoch 105/200\n",
            "31/31 [==============================] - 1s 32ms/step - loss: 2.1733 - accuracy: 0.2964 - val_loss: 2.1876 - val_accuracy: 0.2837\n",
            "Epoch 106/200\n",
            "31/31 [==============================] - 1s 30ms/step - loss: 2.1540 - accuracy: 0.3052 - val_loss: 2.1786 - val_accuracy: 0.2977\n",
            "Epoch 107/200\n",
            "31/31 [==============================] - 1s 30ms/step - loss: 2.1355 - accuracy: 0.3114 - val_loss: 2.2060 - val_accuracy: 0.2884\n",
            "Epoch 108/200\n",
            "31/31 [==============================] - 1s 30ms/step - loss: 2.1478 - accuracy: 0.2977 - val_loss: 2.2021 - val_accuracy: 0.2860\n",
            "Epoch 109/200\n",
            "31/31 [==============================] - 1s 30ms/step - loss: 2.1189 - accuracy: 0.3109 - val_loss: 2.1671 - val_accuracy: 0.2674\n",
            "Epoch 110/200\n",
            "31/31 [==============================] - 1s 30ms/step - loss: 2.0882 - accuracy: 0.3248 - val_loss: 2.1498 - val_accuracy: 0.3000\n",
            "Epoch 111/200\n",
            "31/31 [==============================] - 1s 30ms/step - loss: 2.0725 - accuracy: 0.3264 - val_loss: 2.1510 - val_accuracy: 0.2837\n",
            "Epoch 112/200\n",
            "31/31 [==============================] - 1s 32ms/step - loss: 2.0706 - accuracy: 0.3225 - val_loss: 2.1692 - val_accuracy: 0.2698\n",
            "Epoch 113/200\n",
            "31/31 [==============================] - 1s 31ms/step - loss: 2.0615 - accuracy: 0.3297 - val_loss: 2.1223 - val_accuracy: 0.3047\n",
            "Epoch 114/200\n",
            "31/31 [==============================] - 1s 32ms/step - loss: 2.0649 - accuracy: 0.3354 - val_loss: 2.1227 - val_accuracy: 0.3140\n",
            "Epoch 115/200\n",
            "31/31 [==============================] - 1s 30ms/step - loss: 2.0544 - accuracy: 0.3351 - val_loss: 2.1176 - val_accuracy: 0.3000\n",
            "Epoch 116/200\n",
            "31/31 [==============================] - 1s 31ms/step - loss: 2.0203 - accuracy: 0.3401 - val_loss: 2.1314 - val_accuracy: 0.3163\n",
            "Epoch 117/200\n",
            "31/31 [==============================] - 1s 30ms/step - loss: 2.0206 - accuracy: 0.3447 - val_loss: 2.1444 - val_accuracy: 0.3023\n",
            "Epoch 118/200\n",
            "31/31 [==============================] - 1s 30ms/step - loss: 2.0019 - accuracy: 0.3481 - val_loss: 2.1055 - val_accuracy: 0.3000\n",
            "Epoch 119/200\n",
            "31/31 [==============================] - 1s 29ms/step - loss: 1.9911 - accuracy: 0.3483 - val_loss: 2.1271 - val_accuracy: 0.2930\n",
            "Epoch 120/200\n",
            "31/31 [==============================] - 1s 30ms/step - loss: 2.0091 - accuracy: 0.3486 - val_loss: 2.0434 - val_accuracy: 0.3326\n",
            "Epoch 121/200\n",
            "31/31 [==============================] - 1s 32ms/step - loss: 1.9675 - accuracy: 0.3646 - val_loss: 2.0389 - val_accuracy: 0.3233\n",
            "Epoch 122/200\n",
            "31/31 [==============================] - 1s 31ms/step - loss: 1.9654 - accuracy: 0.3641 - val_loss: 2.0286 - val_accuracy: 0.3372\n",
            "Epoch 123/200\n",
            "31/31 [==============================] - 1s 32ms/step - loss: 1.9298 - accuracy: 0.3755 - val_loss: 2.0259 - val_accuracy: 0.3442\n",
            "Epoch 124/200\n",
            "31/31 [==============================] - 1s 31ms/step - loss: 1.9511 - accuracy: 0.3561 - val_loss: 2.0520 - val_accuracy: 0.3070\n",
            "Epoch 125/200\n",
            "31/31 [==============================] - 1s 32ms/step - loss: 1.9487 - accuracy: 0.3649 - val_loss: 2.0368 - val_accuracy: 0.3047\n",
            "Epoch 126/200\n",
            "31/31 [==============================] - 1s 30ms/step - loss: 1.9279 - accuracy: 0.3685 - val_loss: 1.9976 - val_accuracy: 0.3349\n",
            "Epoch 127/200\n",
            "31/31 [==============================] - 1s 32ms/step - loss: 1.8894 - accuracy: 0.3866 - val_loss: 2.1268 - val_accuracy: 0.2884\n",
            "Epoch 128/200\n",
            "31/31 [==============================] - 1s 31ms/step - loss: 1.9149 - accuracy: 0.3770 - val_loss: 1.9817 - val_accuracy: 0.3465\n",
            "Epoch 129/200\n",
            "31/31 [==============================] - 1s 31ms/step - loss: 1.8716 - accuracy: 0.3938 - val_loss: 1.9312 - val_accuracy: 0.3791\n",
            "Epoch 130/200\n",
            "31/31 [==============================] - 1s 31ms/step - loss: 1.8472 - accuracy: 0.3969 - val_loss: 1.9674 - val_accuracy: 0.3767\n",
            "Epoch 131/200\n",
            "31/31 [==============================] - 1s 30ms/step - loss: 1.8418 - accuracy: 0.4052 - val_loss: 1.9868 - val_accuracy: 0.3465\n",
            "Epoch 132/200\n",
            "31/31 [==============================] - 1s 30ms/step - loss: 1.8707 - accuracy: 0.3917 - val_loss: 2.0072 - val_accuracy: 0.3512\n",
            "Epoch 133/200\n",
            "31/31 [==============================] - 1s 31ms/step - loss: 1.8283 - accuracy: 0.4062 - val_loss: 1.9361 - val_accuracy: 0.3512\n",
            "Epoch 134/200\n",
            "31/31 [==============================] - 1s 31ms/step - loss: 1.8370 - accuracy: 0.3979 - val_loss: 1.9492 - val_accuracy: 0.3860\n",
            "Epoch 135/200\n",
            "31/31 [==============================] - 1s 30ms/step - loss: 1.8418 - accuracy: 0.3922 - val_loss: 2.0144 - val_accuracy: 0.3442\n",
            "Epoch 136/200\n",
            "31/31 [==============================] - 1s 32ms/step - loss: 1.7979 - accuracy: 0.4220 - val_loss: 1.9243 - val_accuracy: 0.3791\n",
            "Epoch 137/200\n",
            "31/31 [==============================] - 1s 32ms/step - loss: 1.7747 - accuracy: 0.4240 - val_loss: 1.8911 - val_accuracy: 0.3953\n",
            "Epoch 138/200\n",
            "31/31 [==============================] - 1s 30ms/step - loss: 1.7681 - accuracy: 0.4230 - val_loss: 1.9445 - val_accuracy: 0.3512\n",
            "Epoch 139/200\n",
            "31/31 [==============================] - 1s 33ms/step - loss: 1.7828 - accuracy: 0.4235 - val_loss: 2.0578 - val_accuracy: 0.3023\n",
            "Epoch 140/200\n",
            "31/31 [==============================] - 1s 32ms/step - loss: 1.7775 - accuracy: 0.4240 - val_loss: 1.9123 - val_accuracy: 0.3581\n",
            "Epoch 141/200\n",
            "31/31 [==============================] - 1s 30ms/step - loss: 1.7269 - accuracy: 0.4364 - val_loss: 1.8392 - val_accuracy: 0.3884\n",
            "Epoch 142/200\n",
            "31/31 [==============================] - 1s 29ms/step - loss: 1.7365 - accuracy: 0.4315 - val_loss: 1.8608 - val_accuracy: 0.3930\n",
            "Epoch 143/200\n",
            "31/31 [==============================] - 1s 30ms/step - loss: 1.7224 - accuracy: 0.4413 - val_loss: 1.8711 - val_accuracy: 0.3930\n",
            "Epoch 144/200\n",
            "31/31 [==============================] - 1s 30ms/step - loss: 1.6960 - accuracy: 0.4496 - val_loss: 1.8717 - val_accuracy: 0.3628\n",
            "Epoch 145/200\n",
            "31/31 [==============================] - 1s 30ms/step - loss: 1.6862 - accuracy: 0.4535 - val_loss: 1.8241 - val_accuracy: 0.4000\n",
            "Epoch 146/200\n",
            "31/31 [==============================] - 1s 30ms/step - loss: 1.6696 - accuracy: 0.4584 - val_loss: 1.8232 - val_accuracy: 0.3860\n",
            "Epoch 147/200\n",
            "31/31 [==============================] - 1s 30ms/step - loss: 1.6558 - accuracy: 0.4581 - val_loss: 1.8188 - val_accuracy: 0.3907\n",
            "Epoch 148/200\n",
            "31/31 [==============================] - 1s 32ms/step - loss: 1.6342 - accuracy: 0.4721 - val_loss: 1.8193 - val_accuracy: 0.3930\n",
            "Epoch 149/200\n",
            "31/31 [==============================] - 1s 32ms/step - loss: 1.6732 - accuracy: 0.4488 - val_loss: 1.8357 - val_accuracy: 0.3791\n",
            "Epoch 150/200\n",
            "31/31 [==============================] - 1s 32ms/step - loss: 1.6282 - accuracy: 0.4713 - val_loss: 1.7795 - val_accuracy: 0.4209\n",
            "Epoch 151/200\n",
            "31/31 [==============================] - 1s 31ms/step - loss: 1.6073 - accuracy: 0.4873 - val_loss: 1.7231 - val_accuracy: 0.4256\n",
            "Epoch 152/200\n",
            "31/31 [==============================] - 1s 30ms/step - loss: 1.5873 - accuracy: 0.4920 - val_loss: 1.7453 - val_accuracy: 0.4302\n",
            "Epoch 153/200\n",
            "31/31 [==============================] - 1s 31ms/step - loss: 1.5802 - accuracy: 0.4917 - val_loss: 1.7424 - val_accuracy: 0.4209\n",
            "Epoch 154/200\n",
            "31/31 [==============================] - 1s 32ms/step - loss: 1.5596 - accuracy: 0.4997 - val_loss: 1.7278 - val_accuracy: 0.4093\n",
            "Epoch 155/200\n",
            "31/31 [==============================] - 1s 31ms/step - loss: 1.5539 - accuracy: 0.4961 - val_loss: 1.6811 - val_accuracy: 0.4372\n",
            "Epoch 156/200\n",
            "31/31 [==============================] - 1s 30ms/step - loss: 1.5320 - accuracy: 0.5103 - val_loss: 1.7906 - val_accuracy: 0.4000\n",
            "Epoch 157/200\n",
            "31/31 [==============================] - 1s 30ms/step - loss: 1.5381 - accuracy: 0.5049 - val_loss: 1.6913 - val_accuracy: 0.4581\n",
            "Epoch 158/200\n",
            "31/31 [==============================] - 1s 30ms/step - loss: 1.5380 - accuracy: 0.5049 - val_loss: 1.7331 - val_accuracy: 0.4326\n",
            "Epoch 159/200\n",
            "31/31 [==============================] - 1s 31ms/step - loss: 1.5152 - accuracy: 0.5124 - val_loss: 1.6943 - val_accuracy: 0.4465\n",
            "Epoch 160/200\n",
            "31/31 [==============================] - 1s 30ms/step - loss: 1.5234 - accuracy: 0.5000 - val_loss: 1.6656 - val_accuracy: 0.4372\n",
            "Epoch 161/200\n",
            "31/31 [==============================] - 1s 29ms/step - loss: 1.5209 - accuracy: 0.4964 - val_loss: 1.7253 - val_accuracy: 0.4279\n",
            "Epoch 162/200\n",
            "31/31 [==============================] - 1s 31ms/step - loss: 1.4999 - accuracy: 0.5132 - val_loss: 1.6997 - val_accuracy: 0.4302\n",
            "Epoch 163/200\n",
            "31/31 [==============================] - 1s 30ms/step - loss: 1.4503 - accuracy: 0.5328 - val_loss: 1.6163 - val_accuracy: 0.4767\n",
            "Epoch 164/200\n",
            "31/31 [==============================] - 1s 30ms/step - loss: 1.4186 - accuracy: 0.5517 - val_loss: 1.6273 - val_accuracy: 0.4605\n",
            "Epoch 165/200\n",
            "31/31 [==============================] - 1s 30ms/step - loss: 1.4239 - accuracy: 0.5457 - val_loss: 1.6114 - val_accuracy: 0.4698\n",
            "Epoch 166/200\n",
            "31/31 [==============================] - 1s 31ms/step - loss: 1.4035 - accuracy: 0.5499 - val_loss: 1.6304 - val_accuracy: 0.4535\n",
            "Epoch 167/200\n",
            "31/31 [==============================] - 1s 31ms/step - loss: 1.3888 - accuracy: 0.5525 - val_loss: 1.5962 - val_accuracy: 0.4674\n",
            "Epoch 168/200\n",
            "31/31 [==============================] - 1s 30ms/step - loss: 1.3756 - accuracy: 0.5628 - val_loss: 1.5560 - val_accuracy: 0.5023\n",
            "Epoch 169/200\n",
            "31/31 [==============================] - 1s 30ms/step - loss: 1.3955 - accuracy: 0.5463 - val_loss: 1.6213 - val_accuracy: 0.4419\n",
            "Epoch 170/200\n",
            "31/31 [==============================] - 1s 30ms/step - loss: 1.3687 - accuracy: 0.5532 - val_loss: 1.5444 - val_accuracy: 0.5140\n",
            "Epoch 171/200\n",
            "31/31 [==============================] - 1s 31ms/step - loss: 1.3470 - accuracy: 0.5718 - val_loss: 1.5464 - val_accuracy: 0.4884\n",
            "Epoch 172/200\n",
            "31/31 [==============================] - 1s 30ms/step - loss: 1.3399 - accuracy: 0.5656 - val_loss: 1.5515 - val_accuracy: 0.4837\n",
            "Epoch 173/200\n",
            "31/31 [==============================] - 1s 31ms/step - loss: 1.3267 - accuracy: 0.5767 - val_loss: 1.4988 - val_accuracy: 0.5023\n",
            "Epoch 174/200\n",
            "31/31 [==============================] - 1s 30ms/step - loss: 1.3093 - accuracy: 0.5889 - val_loss: 1.4991 - val_accuracy: 0.5116\n",
            "Epoch 175/200\n",
            "31/31 [==============================] - 1s 31ms/step - loss: 1.2998 - accuracy: 0.5845 - val_loss: 1.5064 - val_accuracy: 0.5140\n",
            "Epoch 176/200\n",
            "31/31 [==============================] - 1s 31ms/step - loss: 1.3082 - accuracy: 0.5850 - val_loss: 1.4749 - val_accuracy: 0.5302\n",
            "Epoch 177/200\n",
            "31/31 [==============================] - 1s 31ms/step - loss: 1.2797 - accuracy: 0.5850 - val_loss: 1.4962 - val_accuracy: 0.5116\n",
            "Epoch 178/200\n",
            "31/31 [==============================] - 1s 30ms/step - loss: 1.2623 - accuracy: 0.5990 - val_loss: 1.4633 - val_accuracy: 0.5233\n",
            "Epoch 179/200\n",
            "31/31 [==============================] - 1s 30ms/step - loss: 1.2379 - accuracy: 0.6059 - val_loss: 1.4466 - val_accuracy: 0.5209\n",
            "Epoch 180/200\n",
            "31/31 [==============================] - 1s 31ms/step - loss: 1.2312 - accuracy: 0.6150 - val_loss: 1.4743 - val_accuracy: 0.5279\n",
            "Epoch 181/200\n",
            "31/31 [==============================] - 1s 30ms/step - loss: 1.2444 - accuracy: 0.6047 - val_loss: 1.4024 - val_accuracy: 0.5372\n",
            "Epoch 182/200\n",
            "31/31 [==============================] - 1s 30ms/step - loss: 1.2275 - accuracy: 0.6036 - val_loss: 1.4139 - val_accuracy: 0.5395\n",
            "Epoch 183/200\n",
            "31/31 [==============================] - 1s 28ms/step - loss: 1.1908 - accuracy: 0.6238 - val_loss: 1.4078 - val_accuracy: 0.5326\n",
            "Epoch 184/200\n",
            "31/31 [==============================] - 1s 31ms/step - loss: 1.1883 - accuracy: 0.6269 - val_loss: 1.3830 - val_accuracy: 0.5535\n",
            "Epoch 185/200\n",
            "31/31 [==============================] - 1s 31ms/step - loss: 1.1703 - accuracy: 0.6339 - val_loss: 1.4840 - val_accuracy: 0.5209\n",
            "Epoch 186/200\n",
            "31/31 [==============================] - 1s 30ms/step - loss: 1.1685 - accuracy: 0.6300 - val_loss: 1.3638 - val_accuracy: 0.5488\n",
            "Epoch 187/200\n",
            "31/31 [==============================] - 1s 31ms/step - loss: 1.1379 - accuracy: 0.6401 - val_loss: 1.3475 - val_accuracy: 0.5419\n",
            "Epoch 188/200\n",
            "31/31 [==============================] - 1s 31ms/step - loss: 1.1244 - accuracy: 0.6439 - val_loss: 1.4474 - val_accuracy: 0.5326\n",
            "Epoch 189/200\n",
            "31/31 [==============================] - 1s 30ms/step - loss: 1.1468 - accuracy: 0.6382 - val_loss: 1.3731 - val_accuracy: 0.5558\n",
            "Epoch 190/200\n",
            "31/31 [==============================] - 1s 32ms/step - loss: 1.1331 - accuracy: 0.6398 - val_loss: 1.3492 - val_accuracy: 0.5721\n",
            "Epoch 191/200\n",
            "31/31 [==============================] - 1s 32ms/step - loss: 1.1223 - accuracy: 0.6494 - val_loss: 1.4657 - val_accuracy: 0.5233\n",
            "Epoch 192/200\n",
            "31/31 [==============================] - 1s 32ms/step - loss: 1.1064 - accuracy: 0.6514 - val_loss: 1.3385 - val_accuracy: 0.5791\n",
            "Epoch 193/200\n",
            "31/31 [==============================] - 1s 31ms/step - loss: 1.0987 - accuracy: 0.6537 - val_loss: 1.3690 - val_accuracy: 0.5674\n",
            "Epoch 194/200\n",
            "31/31 [==============================] - 1s 30ms/step - loss: 1.0741 - accuracy: 0.6659 - val_loss: 1.3721 - val_accuracy: 0.5651\n",
            "Epoch 195/200\n",
            "31/31 [==============================] - 1s 33ms/step - loss: 1.0661 - accuracy: 0.6693 - val_loss: 1.3346 - val_accuracy: 0.5581\n",
            "Epoch 196/200\n",
            "31/31 [==============================] - 1s 32ms/step - loss: 1.0731 - accuracy: 0.6636 - val_loss: 1.3924 - val_accuracy: 0.5837\n",
            "Epoch 197/200\n",
            "31/31 [==============================] - 1s 31ms/step - loss: 1.0969 - accuracy: 0.6563 - val_loss: 1.2750 - val_accuracy: 0.5767\n",
            "Epoch 198/200\n",
            "31/31 [==============================] - 1s 31ms/step - loss: 1.0576 - accuracy: 0.6649 - val_loss: 1.2611 - val_accuracy: 0.6093\n",
            "Epoch 199/200\n",
            "31/31 [==============================] - 1s 31ms/step - loss: 1.0521 - accuracy: 0.6700 - val_loss: 1.3116 - val_accuracy: 0.5744\n",
            "Epoch 200/200\n",
            "31/31 [==============================] - 1s 32ms/step - loss: 1.0452 - accuracy: 0.6736 - val_loss: 1.3068 - val_accuracy: 0.5791\n"
          ]
        }
      ],
      "source": [
        "history = model.fit(\n",
        "                x=train_dataset_processed,\n",
        "                epochs=model_params[MODEL_NAME].get('epochs', 10),\n",
        "                batch_size=model_params[MODEL_NAME].get('batch_size', 128),\n",
        "                validation_data=val_dataset_processed,\n",
        "                shuffle=True\n",
        ")"
      ]
    },
    {
      "cell_type": "code",
      "execution_count": 95,
      "id": "821d23bf",
      "metadata": {
        "id": "821d23bf"
      },
      "outputs": [],
      "source": [
        "### Usage of the `callbacks()` method\n",
        "# See: https://www.tensorflow.org/api_docs/python/tf/keras/callbacks/History\n",
        "# See: https://www.tensorflow.org/api_docs/python/tf/keras/callbacks/ModelCheckpoint"
      ]
    },
    {
      "cell_type": "code",
      "execution_count": 96,
      "id": "f0af6ac8",
      "metadata": {
        "colab": {
          "base_uri": "https://localhost:8080/"
        },
        "id": "f0af6ac8",
        "outputId": "dfa07426-7ddc-4409-abe3-ecf92fb6b79f"
      },
      "outputs": [
        {
          "output_type": "execute_result",
          "data": {
            "text/plain": [
              "keras.callbacks.History"
            ]
          },
          "metadata": {},
          "execution_count": 96
        }
      ],
      "source": [
        "type(history)"
      ]
    },
    {
      "cell_type": "markdown",
      "id": "5827b5f0",
      "metadata": {
        "id": "5827b5f0"
      },
      "source": [
        "##### Visualising the results"
      ]
    },
    {
      "cell_type": "code",
      "execution_count": 97,
      "id": "b974d2d8",
      "metadata": {
        "id": "b974d2d8"
      },
      "outputs": [],
      "source": [
        "### From Udacity's `training.py`"
      ]
    },
    {
      "cell_type": "code",
      "execution_count": 98,
      "id": "72c43183",
      "metadata": {
        "colab": {
          "base_uri": "https://localhost:8080/",
          "height": 357
        },
        "id": "72c43183",
        "outputId": "ff72ae0f-21f3-4849-b183-c97cba1b6cff"
      },
      "outputs": [
        {
          "output_type": "display_data",
          "data": {
            "text/plain": [
              "<Figure size 1080x360 with 2 Axes>"
            ],
            "image/png": "[encoded data removed]"
          },
          "metadata": {
            "needs_background": "light"
          }
        }
      ],
      "source": [
        "display_metrics(history)"
      ]
    },
    {
      "cell_type": "markdown",
      "id": "e51d9ee4",
      "metadata": {
        "id": "e51d9ee4"
      },
      "source": [
        "#### Evaluating the custom CNN"
      ]
    },
    {
      "cell_type": "code",
      "execution_count": null,
      "id": "14b4e9d9",
      "metadata": {
        "id": "14b4e9d9"
      },
      "outputs": [],
      "source": [
        "MODEL_NAME = 'Custom_CNN'"
      ]
    },
    {
      "cell_type": "markdown",
      "id": "0f51c4e7",
      "metadata": {
        "id": "0f51c4e7"
      },
      "source": [
        "##### Initialising the model"
      ]
    },
    {
      "cell_type": "markdown",
      "id": "3378adb6",
      "metadata": {
        "id": "3378adb6"
      },
      "source": [
        "##### Performing the training and validation loops"
      ]
    },
    {
      "cell_type": "markdown",
      "id": "ef86fe85",
      "metadata": {
        "id": "ef86fe85"
      },
      "source": [
        "##### Visualising the results"
      ]
    },
    {
      "cell_type": "markdown",
      "id": "670e9ca6",
      "metadata": {
        "id": "670e9ca6"
      },
      "source": [
        "## Tips"
      ]
    },
    {
      "cell_type": "markdown",
      "id": "98919fe9",
      "metadata": {
        "id": "98919fe9"
      },
      "source": [
        "A good starting point for small networks is LeNet5. You will find many existing implementations online."
      ]
    },
    {
      "cell_type": "markdown",
      "id": "2e761b03",
      "metadata": {
        "id": "2e761b03"
      },
      "source": [
        "Don't forget the basic structure of a convnet: convolutional layer, activation and pooling."
      ]
    },
    {
      "cell_type": "markdown",
      "id": "22401022",
      "metadata": {
        "id": "22401022"
      },
      "source": [
        "You can use the [`summary`](https://www.tensorflow.org/api_docs/python/tf/keras/Model#summary) method of the Keras model API to print the description of your model."
      ]
    },
    {
      "cell_type": "markdown",
      "id": "7b20331c",
      "metadata": {
        "id": "7b20331c"
      },
      "source": [
        "## Credits"
      ]
    },
    {
      "cell_type": "markdown",
      "id": "e86af3fb",
      "metadata": {
        "id": "e86af3fb"
      },
      "source": [
        "This assignment was prepared by Thomas Hossler et al., Winter 2021 (link [here](https://www.udacity.com/course/self-driving-car-engineer-nanodegree--nd0013)).\n",
        "\n",
        "\n",
        "References\n",
        "\n",
        "[1] Yu, F. Vladlen, K. Multi-Scale Context Aggregation by Dialated Convolutions. ArXiv. 2015. [doi:10.48550/ARXIV.1511.07122](https://arxiv.org/abs/1511.07122).\n",
        "\n",
        "[2] LeCun, Y. et al. \"Gradient-based learning applied to document recognition.\" Proceedings of the IEEE, 86(11):2278-2324, 1998. [doi:10.1109/5.726791](https://ieeexplore.ieee.org/document/726791).\n",
        "\n",
        "\n",
        "[3] Glorot, X. et al. Deep Sparse Rectifier Neural Networks. Proceedings of the Fourteenth International Conference on Artificial Intelligence and Statistics, PMLR 15:315-323, 2011. [https://proceedings.mlr.press/v15/glorot11a.html](https://proceedings.mlr.press/v15/glorot11a/glorot11a.pdf).\n",
        "\n",
        "\n",
        "Helpful resources:\n",
        "* [Convolutional Neural Network: An Overview by S. Shah | Analytics Vidhya](https://www.analyticsvidhya.com/blog/2022/01/convolutional-neural-network-an-overview/)\n",
        "* [Understanding the receptive field of deep convolutional networks by N. Adaloglou | AI Summer](https://theaisummer.com/receptive-field/)\n",
        "* [The Dying ReLU Problem, Clearly Explained by K. Leung | Towards Data Science](https://towardsdatascience.com/the-dying-relu-problem-clearly-explained-42d0c54e0d24)\n",
        "* [What is the dying ReLU problem? by S. Azhar | Educative.io](https://www.educative.io/answers/what-is-the-dying-relu-problem)"
      ]
    }
  ],
  "metadata": {
    "kernelspec": {
      "display_name": "Python 3",
      "language": "python",
      "name": "python3"
    },
    "language_info": {
      "codemirror_mode": {
        "name": "ipython",
        "version": 3
      },
      "file_extension": ".py",
      "mimetype": "text/x-python",
      "name": "python",
      "nbconvert_exporter": "python",
      "pygments_lexer": "ipython3",
      "version": "3.8.13"
    },
    "toc": {
      "base_numbering": 1,
      "nav_menu": {},
      "number_sections": false,
      "sideBar": true,
      "skip_h1_title": false,
      "title_cell": "Table of Contents",
      "title_sidebar": "Contents",
      "toc_cell": false,
      "toc_position": {},
      "toc_section_display": true,
      "toc_window_display": true
    },
    "colab": {
      "provenance": [],
      "collapsed_sections": [
        "3145fd5c",
        "e247b07b",
        "ced2a2da",
        "2c4503d3",
        "f0bedd6f",
        "384c8474",
        "87214c8e",
        "flbdIHGOms6Y",
        "25615960",
        "g3pqqF8jqz0O",
        "e51d9ee4"
      ],
      "toc_visible": true
    },
    "accelerator": "GPU"
  },
  "nbformat": 4,
  "nbformat_minor": 5
}