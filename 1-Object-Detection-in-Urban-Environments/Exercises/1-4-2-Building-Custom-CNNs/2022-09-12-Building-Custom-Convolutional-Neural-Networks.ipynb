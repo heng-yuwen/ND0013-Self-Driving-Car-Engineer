{
 "cells": [
  {
   "cell_type": "markdown",
   "id": "8c8fd7ff",
   "metadata": {
    "id": "8c8fd7ff"
   },
   "source": [
    "# Exercise 1.4.2 - Building Custom CNNs\n",
    "#### By Jonathan L. Moran (jonathan.moran107@gmail.com)\n",
    "From the Self-Driving Car Engineer Nanodegree programme offered at Udacity."
   ]
  },
  {
   "cell_type": "markdown",
   "id": "d90eed14",
   "metadata": {
    "id": "d90eed14"
   },
   "source": [
    "## Objectives"
   ]
  },
  {
   "cell_type": "markdown",
   "id": "06ef1e77",
   "metadata": {
    "id": "06ef1e77"
   },
   "source": [
    "* Use the TensorFlow Keras [Sequential API](https://www.tensorflow.org/api_docs/python/tf/keras/Sequential) to create a convolutional neural network ([CNN](https://en.wikipedia.org/wiki/Convolutional_neural_network));\n",
    "* Implement the [LeNet-5](https://en.wikipedia.org/wiki/LeNet) CNN architecture;\n",
    "* Train the LeNet-5 on the modified [MNIST digits](http://yann.lecun.com/exdb/mnist/) dataset;\n",
    "* Train a CNN model (e.g., LeNet-5) on the German Traffic Sign Recognition Benchmark [GTSRB](https://benchmark.ini.rub.de/gtsrb_dataset.html) dataset."
   ]
  },
  {
   "cell_type": "markdown",
   "id": "e859be21",
   "metadata": {
    "id": "e859be21"
   },
   "source": [
    "## 1. Introduction"
   ]
  },
  {
   "cell_type": "code",
   "execution_count": null,
   "id": "0e81ad1b",
   "metadata": {
    "id": "0e81ad1b"
   },
   "outputs": [],
   "source": [
    "### Importing the required modules"
   ]
  },
  {
   "cell_type": "code",
   "execution_count": 7,
   "id": "b25a0963",
   "metadata": {
    "id": "b25a0963"
   },
   "outputs": [],
   "source": [
    "from collections import defaultdict\n",
    "import logging\n",
    "import matplotlib.pyplot as plt\n",
    "import os\n",
    "import tensorflow as tf\n",
    "from typing import Generator, Iterator, Tuple"
   ]
  },
  {
   "cell_type": "code",
   "execution_count": 2,
   "id": "VlCuik5WFo-G",
   "metadata": {
    "colab": {
     "base_uri": "https://localhost:8080/",
     "height": 36
    },
    "id": "VlCuik5WFo-G",
    "outputId": "5dc55d17-4e1c-4797-c654-fbe2c2d25022"
   },
   "outputs": [
    {
     "data": {
      "application/vnd.google.colaboratory.intrinsic+json": {
       "type": "string"
      },
      "text/plain": [
       "'2.8.2'"
      ]
     },
     "execution_count": 2,
     "metadata": {},
     "output_type": "execute_result"
    }
   ],
   "source": [
    "tf.__version__"
   ]
  },
  {
   "cell_type": "code",
   "execution_count": 3,
   "id": "Bdl34d5jFo6V",
   "metadata": {
    "colab": {
     "base_uri": "https://localhost:8080/",
     "height": 36
    },
    "id": "Bdl34d5jFo6V",
    "outputId": "a6eb0fd6-5ef9-4aa2-956f-5985966323d6"
   },
   "outputs": [
    {
     "data": {
      "application/vnd.google.colaboratory.intrinsic+json": {
       "type": "string"
      },
      "text/plain": [
       "'/device:GPU:0'"
      ]
     },
     "execution_count": 3,
     "metadata": {},
     "output_type": "execute_result"
    }
   ],
   "source": [
    "tf.test.gpu_device_name()"
   ]
  },
  {
   "cell_type": "code",
   "execution_count": null,
   "id": "14SKbFEhFowk",
   "metadata": {
    "id": "14SKbFEhFowk"
   },
   "outputs": [],
   "source": [
    "### Setting the environment variables"
   ]
  },
  {
   "cell_type": "code",
   "execution_count": 4,
   "id": "QRK1yNpUFyNg",
   "metadata": {
    "id": "QRK1yNpUFyNg"
   },
   "outputs": [],
   "source": [
    "ENV_COLAB = True                # True if running in Google Colab instance"
   ]
  },
  {
   "cell_type": "code",
   "execution_count": 5,
   "id": "mo7YMWrIFyJW",
   "metadata": {
    "id": "mo7YMWrIFyJW"
   },
   "outputs": [],
   "source": [
    "# Root directory\n",
    "DIR_BASE = '' if not ENV_COLAB else '/content/'"
   ]
  },
  {
   "cell_type": "code",
   "execution_count": 8,
   "id": "600UKHaQFyFI",
   "metadata": {
    "id": "600UKHaQFyFI"
   },
   "outputs": [],
   "source": [
    "# Subdirectory to save output files\n",
    "DIR_OUT = os.path.join(DIR_BASE, 'out/')\n",
    "# Subdirectory pointing to input data\n",
    "DIR_SRC = os.path.join(DIR_BASE, 'data/')"
   ]
  },
  {
   "cell_type": "code",
   "execution_count": 10,
   "id": "fyBCboPTFyA_",
   "metadata": {
    "id": "fyBCboPTFyA_"
   },
   "outputs": [],
   "source": [
    "### Unzipping the GTSRB dataset\n",
    "!unzip -q /content/GTSRB.zip -d /content/data/"
   ]
  },
  {
   "cell_type": "code",
   "execution_count": 11,
   "id": "vAjY0rSzF4Of",
   "metadata": {
    "id": "vAjY0rSzF4Of"
   },
   "outputs": [],
   "source": [
    "### Creating subdirectories (if not exists)\n",
    "os.makedirs(DIR_OUT, exist_ok=True)"
   ]
  },
  {
   "cell_type": "markdown",
   "id": "3145fd5c",
   "metadata": {
    "id": "3145fd5c"
   },
   "source": [
    "### 1.1. Convolutional Neural Networks (CNNs)"
   ]
  },
  {
   "cell_type": "markdown",
   "id": "e247b07b",
   "metadata": {
    "id": "e247b07b"
   },
   "source": [
    "#### Background"
   ]
  },
  {
   "cell_type": "markdown",
   "id": "d0e145f5",
   "metadata": {
    "id": "d0e145f5"
   },
   "source": [
    "A [convolutional neural network](https://en.wikipedia.org/wiki/Convolutional_neural_network) (\"ConvNet\") is a special type of neural network particularly well-suited to handle image data. Like the feedforward neural networks we saw in [Exercise 1.3.3](https://github.com/jonathanloganmoran/ND0013-Self-Driving-Car-Engineer/blob/main/1-Object-Detection-in-Urban-Environments/Exercises/1-3-3-Image-Classification-FNNs/2022-09-05-Image-Classification-Feed-Forward-Neural-Networks.ipynb), CNNs are composed of layers of neurons that have trainable weights and biases. In addition, CNNs often use activation functions and fully-connected layers similar to FNNs (e.g., softmax).\n",
    "\n",
    "With CNNs, we make the assumption that we will always be using image data as our inputs. Since image data is multi-dimensional, resizing these $\\left[H, W, D\\right]$ arrays to flattened $\\left[1x\\left(H*W*D\\right)\\right]$ vectors is necessary when using fully-connected layers, such as in feedforward neural networks. With ConvNets, however, we make use of locally-connected layers that operate over small portions of _volumetric data_. That is, ConvNets allow us to preserve the existing structure of image data and drastically reduce the amount of trainable parameters needed in each layer of our network. For example, a single fully-connected neuron will require a number of weight values equal to the number of attributes in our image input. For an image of size $\\left[64, 64, 3\\right]$, we obtain $(64*64*3) = 12288$ weight values _per neuron_. For a layer with only $n = 10$ fully-connected neurons, the number of trainable weights we have skyrockets to an astonishing $n * 12288 = 122880$ parameters per layer. We will see in this exercise that by limiting the connectivity of neurons between layers, we can design a network that reduces the number of parameters required while simultaneously _increasing_ the number of layers in the architecture."
   ]
  },
  {
   "cell_type": "markdown",
   "id": "f117afd2",
   "metadata": {
    "id": "f117afd2"
   },
   "source": [
    "![Fig. 1. The convolutional neural network architecture (simplified).](figures/2022-09-12-Figure-1-Convolutional-Neural-Network-Simplified.png)\n",
    "\n",
    "$$\n",
    "\\textrm{Fig. 1. The convolutional neural network architecture (simplified)}.\n",
    "$$"
   ]
  },
  {
   "cell_type": "markdown",
   "id": "ced2a2da",
   "metadata": {
    "id": "ced2a2da"
   },
   "source": [
    "#### Layers"
   ]
  },
  {
   "cell_type": "markdown",
   "id": "e40b6610",
   "metadata": {
    "id": "e40b6610"
   },
   "source": [
    "Most, if not all, convolutional neural network architectures use some combination of the following three distinct layer types: _convolutional layer_, _pooling layer_, and _fully-connected layer_. We have implemented fully-connected layers in [Exercise 1.3.3](https://github.com/jonathanloganmoran/ND0013-Self-Driving-Car-Engineer/blob/main/1-Object-Detection-in-Urban-Environments/Exercises/1-3-3-Image-Classification-FNNs/2022-09-05-Image-Classification-Feed-Forward-Neural-Networks.ipynb) for feedforward neural networks, and their application in ConvNets is no different. However, we introduce the _convolutional layer_ in this exercise. We will touch on these in more detail in just a minute."
   ]
  },
  {
   "cell_type": "markdown",
   "id": "40bbf870",
   "metadata": {
    "id": "40bbf870"
   },
   "source": [
    "##### Input layer"
   ]
  },
  {
   "cell_type": "markdown",
   "id": "996a3410",
   "metadata": {
    "id": "996a3410"
   },
   "source": [
    "It is important to first note that our _input layer_ corresponds directly to the dimensionality of our image data. One major assumption we make with convolutional neural networks is that our input image dimensions are constant. That is, that every image passing through our network shares the same _height_, _width_, and _channel_ dimensions. In ConvNets, the _depth_ of an image (its colour channels, e.g., R, G, B) is maintained throughout the network while the height and width might change. For convolutional and pooling layers, this matters because each kernel and filter will require an extra dimension $D$ equal to the number of colour channels in an image in addition to their width and height attributes. For an RGB image, a kernel/filter of size $\\left(h \\ x \\ w\\right)$ will therefore have dimensions $\\left(h \\ x \\ w \\ x \\ 3\\right)$."
   ]
  },
  {
   "cell_type": "markdown",
   "id": "63727ab3",
   "metadata": {
    "id": "63727ab3"
   },
   "source": [
    "##### Convolutional layer"
   ]
  },
  {
   "cell_type": "markdown",
   "id": "c364662b",
   "metadata": {
    "id": "c364662b"
   },
   "source": [
    "Very similar to the pooling layers we studied in [Exercise 1.4.1](https://github.com/jonathanloganmoran/ND0013-Self-Driving-Car-Engineer/blob/main/1-Object-Detection-in-Urban-Environments/Exercises/1-4-1-Pooling-Layers-CNNs/2022-09-07-Pooling-Layers-Convolutional-Neural-Networks.ipynb), these layers take an input, the volumetric image data, and perform sliding window operations ([convolutions](https://en.wikipedia.org/wiki/Convolution)) over the image. The convolution layer, like pooling layers, have _stride_, _kernel size_ and _padding_ attributes. We also introduce a _filter_ hyperparameter which allows us to specify the desired dimensionality of our convolution layer output. Convolutional layers rarely ever have just _one filter_. In fact, it is very common to see a single convolutional layer have anywhere from 32 filters up to 512. Each _filter_ represents a _feature_ in the input image (hence the output name \"feature map\"). These filters are templates which, when convolved with an input image, help locate and identify vertical, horizontal edges, arches, diagonal lines, etc.\n",
    "\n",
    "The convolutional layer in a network is often directly followed by an element-wise activation layer such as the Rectified Linear Unit ([ReLU](https://en.wikipedia.org/wiki/Rectifier_\\(neural_networks\\))) to introduce further non-linearities into the network. Note that the activation layer's output dimensions remain constant."
   ]
  },
  {
   "cell_type": "markdown",
   "id": "50502aca",
   "metadata": {
    "id": "50502aca"
   },
   "source": [
    "##### Pooling layer"
   ]
  },
  {
   "cell_type": "markdown",
   "id": "fcabccc2",
   "metadata": {
    "id": "fcabccc2"
   },
   "source": [
    "Pooling layers, as mentioned in the previous Exercise 1.4.1, reduce the size (spatial dimensions) of the images through a downsampling (averaging) or sub-sampling (max/min) operation. By replacing adjacent pixel values with neighbourhood calculations we are able to transform the output and effectively manipulate (increase _multiplicatively_) the [receptive field](https://en.wikipedia.org/wiki/Receptive_field#In_the_context_of_neural_networks) of the image (i.e., the region within an image of which a particular neuron is sensitive to). On the other hand, convolutional layers increase the receptive field _linearly_ proportional to the kernel size. Cascading convolutional layers with _dialated filters_ increase the receptive field exponentially [1]. By shrinking the image, we are essentially _increasing_ the amount of its pixels (information) we can fit into a single \"patch\" for a neuron to consider.\n",
    "\n",
    "As the image becomes reduced in size as it passes through the network, neurons in deeper layers get to \"see\" larger and larger parts of the whole image. In turn, we can increase the receptive field of a network exponentially while increasing the number of parameters linearly. This trade-off is what affords us the ability to swap only a few fully-connected layers for _handfuls_ of convolutional stacks without increasing complexity or decreasing the receptive field."
   ]
  },
  {
   "cell_type": "markdown",
   "id": "c79bbc9d",
   "metadata": {
    "id": "c79bbc9d"
   },
   "source": [
    "##### Fully-connected layer"
   ]
  },
  {
   "cell_type": "markdown",
   "id": "d0a51e94",
   "metadata": {
    "id": "d0a51e94"
   },
   "source": [
    "While we aren't able to eliminate fully-connected layers altogether, their use in convolutional neural networks is limited. Fully-connected layers appear at the end of a network for classification; the number of neurons of the last fully-connected layer in a CNN equal the number of distinct classes predicted (e.g., there are $3$ distinct classes being predicted in the example shown in Fig. 1). Practitioners may also choose to implement several preceding fully-connected layers with an arbitrarily large number of neurons, e.g., 512, 256, 64."
   ]
  },
  {
   "cell_type": "markdown",
   "id": "ec6d040a",
   "metadata": {
    "id": "ec6d040a"
   },
   "source": [
    "#### In summary\n",
    "   * Inputs to a ConvNet are volumetric image data with fixed dimensions;\n",
    "   * We use pooling layers to _downsample_ or _sub-sample_ images (reduce their spatial dimensions);\n",
    "   * By reducing the spatial dimensions, we _increase_ the neurons' receptive fields (how much of the image they can \"see\");\n",
    "   * With convolutional networks we are able to eventually cover the entire region of an input image at a cost significantly reduced to fully-connected layers;"
   ]
  },
  {
   "cell_type": "markdown",
   "id": "cad873e8",
   "metadata": {
    "id": "cad873e8"
   },
   "source": [
    "We have now learned the benefits of convolutional architectures to more-traditional neural networks (specifically, feedforward neural networks); by adding \"stacks\" of convolutional/pooling layers, we can exploit the complexity-efficiency trade-off. Convolutional stacks help us set reasonable limits on neural network complexity by decreasing the number of overall trainable parameters we have to work with layer-for-layer. This not only improves training efficiency but also helps boost performance on image classification tasks.\n",
    "\n",
    "While popular CNN architectures often make use of even more efficiency-focused layers, such as _dropout_/_inverted dropout_, _skip connections_, and _batch normalisation_, we will limit our discussion on those topics for now."
   ]
  },
  {
   "cell_type": "markdown",
   "id": "2c4503d3",
   "metadata": {
    "id": "2c4503d3"
   },
   "source": [
    "### 1.2. LeNet"
   ]
  },
  {
   "cell_type": "markdown",
   "id": "4fc7fafa",
   "metadata": {
    "id": "4fc7fafa"
   },
   "source": [
    "#### Background"
   ]
  },
  {
   "cell_type": "markdown",
   "id": "4365ef26",
   "metadata": {
    "id": "4365ef26"
   },
   "source": [
    "![Fig. 2. The LeNet-5 convolutional neural network architecture for digits recognition.](figures/2022-09-12-Figure-2-LeNet-5-CNN-Architecture.png)\n",
    "\n",
    "$$\n",
    "\\textrm{Fig. 2. The LeNet-5 convolutional neural network architecture for digits recognition (proposed in LeCun 1998:7).}\n",
    "$$"
   ]
  },
  {
   "cell_type": "markdown",
   "id": "30cc2883",
   "metadata": {
    "id": "30cc2883"
   },
   "source": [
    "The [LeNet-5](https://en.wikipedia.org/wiki/LeNet) is a convolutional neural network architecture proposed by Yann LeCun et al. of Bell Labs in 1998 [2]. LeNet-5 is recognised in the deep learning community as being one of the earliest ConvNet architectures with work dating back to [1989](https://doi.org/10.1162%2Fneco.1989.1.4.541). LeCun's model (illustrated in Fig. 2) has all the basic units of a convolutional neural network: convolutional layers, pooling layers and fully-connected layers. Like most ConvNet architectures we studied, the LeNet-5 has alternating convolutional and sub-sampling (average pooling) layers. Also as expected we see that the number of filters/kernel windows increases as we go deeper in the network, starting with $6$ and increasing to $16$ in the final convolutional layer. In Fig. 2, we can interpret the number preceeding the \"@\" symbol as the number of filters/kernels of each layer, followed by the filter/kernel size (omitting the _depth_ dimension from the notation). Lastly, we have for each layer in the convolutional stack a _stride_ hyperparameter denoted by $s$.\n",
    "\n",
    "Not shown in Fig. 2 is the use of the [tanh](https://paperswithcode.com/method/tanh-activation) non-linear activation function throughout the network. While this proved to be a better performer than the sigmoid function for a multi-layer neural network, _tanh_ did not appropriately handle the [vanishing gradient problem](https://en.wikipedia.org/wiki/Vanishing_gradient_problem), architectures today utilise other activation functions such as [ReLU](https://en.wikipedia.org/wiki/ReLU) or [batch normalisation](https://en.wikipedia.org/wiki/Batch_normalization) to solve this. The last layer of the network utilises a [softmax](https://en.wikipedia.org/wiki/Softmax_function) activation function to fit a Gaussian distribution to the predicted class probabilities."
   ]
  },
  {
   "cell_type": "markdown",
   "id": "f0bedd6f",
   "metadata": {
    "id": "f0bedd6f"
   },
   "source": [
    "#### Layers"
   ]
  },
  {
   "cell_type": "markdown",
   "id": "04997dcd",
   "metadata": {
    "id": "04997dcd"
   },
   "source": [
    "##### Input layer"
   ]
  },
  {
   "cell_type": "markdown",
   "id": "f10c814c",
   "metadata": {
    "id": "f10c814c"
   },
   "source": [
    "The input to the LeNet-5 network is a set of $\\left(32 \\ x \\ 32 \\ x \\ 1\\right)$ grayscale images, each consisting of a single handwritten digit (read more on the modified MNIST SD-1/SD-3 dataset [here](http://yann.lecun.com/exdb/mnist/)). The pixel values of the input images are normalised (anti-aliasing) so that the background (white) has a pixel value of $-0.1$ and the foreground (black) has a value $1.175$. This choice for normalisation is made such that the mean value of the input is roughly $0$ and the variance roughly $1$ to accelerate learning."
   ]
  },
  {
   "cell_type": "markdown",
   "id": "72433e84",
   "metadata": {
    "id": "72433e84"
   },
   "source": [
    "##### Convolutional layer (C1)"
   ]
  },
  {
   "cell_type": "markdown",
   "id": "e402f1f5",
   "metadata": {
    "id": "e402f1f5"
   },
   "source": [
    "* **Input size**: $32 x 32 x 1$\n",
    "* **Feature maps**: $6$\n",
    "* **Kernel size**: $5x5x1$\n",
    "* **Stride**: $1$\n",
    "* **Padding**: $0$\n",
    "* **Output size**: $(28x28x1)$; $(32 - 5 + 2*0) \\ / \\ 1 + 1 = 28$\n",
    "* **Neurons**: $6 * (28x28x1) = 4704$\n",
    "* **Trainable parameters**: $6 * (5x5x1 + 1) = 156$\n",
    "* **Total connections**: $6 * (5x5x1 + 1) * (28x28) = 122304$\n",
    "* **Activation function**: Tanh"
   ]
  },
  {
   "cell_type": "markdown",
   "id": "79655646",
   "metadata": {
    "id": "79655646"
   },
   "source": [
    "This convolutional layer has $6$ feature maps. Each unit of each feature map connects to a $5 x 5$ region within the input image. The feature map size of $28 x 28$ has been selected so that the strided convolutions do not result in any dropped pixels (for more information on that, see [Exercise 1.4.1](https://github.com/jonathanloganmoran/ND0013-Self-Driving-Car-Engineer/blob/main/1-Object-Detection-in-Urban-Environments/Exercises/1-4-1-Pooling-Layers-CNNs/2022-09-07-Pooling-Layers-Convolutional-Neural-Networks.ipynb)). each kernel has an additional bias term (hence the \"+1\" in the above calculation of trainable parameters. While the number of connections seems tremendous, due to _weight sharing_ we only need to learn $156$ parameters for this layer."
   ]
  },
  {
   "cell_type": "markdown",
   "id": "8e5849b2",
   "metadata": {
    "id": "8e5849b2"
   },
   "source": [
    "##### Average pooling layer (S2)"
   ]
  },
  {
   "cell_type": "markdown",
   "id": "ba5c3bfd",
   "metadata": {
    "id": "ba5c3bfd"
   },
   "source": [
    "* **Input size**: $28 x 28 x 1$\n",
    "* **Feature maps**: $6$\n",
    "* **Filter size**: $2x2x1$\n",
    "* **Stride**: $2$\n",
    "* **Padding**: $0$\n",
    "* **Output size**: $(14x14x1)$; $(28 - 2 + 2*0) \\ / \\ 2 + 1 = 14$\n",
    "* **Neurons**: $6 * (14x14x1) = 1176$\n",
    "* **Trainable parameters**: $6 * (1 + 1) = 12$\n",
    "* **Total connections**: $6 * (2x2x1 + 1) * (14x14x1) = 5880$\n",
    "* **Activation function**: Tanh"
   ]
  },
  {
   "cell_type": "markdown",
   "id": "b079f610",
   "metadata": {
    "id": "b079f610"
   },
   "source": [
    "This sub-sampling layer uses the local average pooling calculations to reduce the input size in half from $28x28$ to $14x14$. Each window of values is summed, multiplied by a weight coefficient $w$ and then added together with a trainable bias offset term $b$ (hence the number of trainable parameters shown above). These parameters are learned with [back-propagation](https://en.wikipedia.org/wiki/Backpropagation). The intermediate output values are then passed into a sigmoid activation function which is used to enforce non-linearity. The coefficient and bias terms regulate the intensity of the sigmoid function on the output. If the coefficient values are small, then the units operate in a quasi-linear mode such that the sub-sampling layer merely blurs the input. If the coefficient is large, sub-sampling performs similarly to a \"noisy OR\", \"noisy AND\" function depending on the value of the bias (LeCun 1998).\n",
    "\n",
    "The affect of downsampling of the input is a reduction in sensitivity of the output to shifts and distortions. By progressively reducing the spatial resolution with sub-sampling, we compensate the effect by progressively increasing the number of feature maps (the richness of the representation)."
   ]
  },
  {
   "cell_type": "markdown",
   "id": "8e40afdc",
   "metadata": {
    "id": "8e40afdc"
   },
   "source": [
    "##### Convolutional layer (C3)"
   ]
  },
  {
   "cell_type": "markdown",
   "id": "68a1a3e9",
   "metadata": {
    "id": "68a1a3e9"
   },
   "source": [
    "* **Input size**: $14 x 14 x 1$\n",
    "* **Feature maps**: $16$\n",
    "* **Kernel size**: $5 x 5 x 1$\n",
    "* **Stride**: $1$\n",
    "* **Padding**: $0$\n",
    "* **Output size**: $(10x10x1)$; $(14 - 5 + 2*0) \\ / \\ 1 + 1 = 10$\n",
    "* **Neurons**: $16 * (10x10x1) = 1600$\n",
    "* **Trainable parameters**: $6 * \\left[(3x5x5 + 1) + (4x5x5 + 1)\\right] + 3*\\left[(4x5x5 + 1)\\right] + 1*\\left[(6x5x5 + 1)\\right] = 1516$\n",
    "* **Total connections**: $1516*(10x10x1) = 151600$\n",
    "* **Activation function**: Tanh"
   ]
  },
  {
   "cell_type": "markdown",
   "id": "d3bc0166",
   "metadata": {
    "id": "d3bc0166"
   },
   "source": [
    "In this second convolutional layer, we increase the number of feature maps to $16$. In conjunction with the progressive decrease in spatial dimensions of the input images, we now _increase_ the richness of the representation of the input by increasing the number of feature maps. With the increase in feature maps brings a non-complete connection scheme in order to keep the number of connections of $S2$ and $C3$ within resonable bounds."
   ]
  },
  {
   "cell_type": "markdown",
   "id": "b52b855a",
   "metadata": {
    "id": "b52b855a"
   },
   "source": [
    "![Fig. 3. The non-complete connection scheme for layers S2 and C3 (reproduced from LeCun et al., 1998)](figures/2022-09-12-Figure-3-Table-1-LeCun-1998.png)\n",
    "\n",
    "$$\n",
    "\\textrm{Fig. 3. The non-complete connection scheme for layers} \\ S2  \\ \\textrm{and} \\  C3  \\ \\textrm{(reproduced from LeCun et al., 1998)}\n",
    "$$"
   ]
  },
  {
   "cell_type": "markdown",
   "id": "91eb2e87",
   "metadata": {
    "id": "91eb2e87"
   },
   "source": [
    "From the _total connections_ calculation above we see that the first _six_ feature maps of $C3$ take inputs from every contiguous subset of _three_ feature maps of $S2$. The next _six_ feature maps of $C3$ take inputs from every contiguous subset of _four_ feature maps of $S2$. The following _three_ feature maps of $C3$ take inputs from _discontinuous_ subsets of _four_ feature maps of $S2$. The last feature map ($1$) takes _all six_ inputs of the feature maps of $S2$.\n",
    "\n",
    "With that, we calculate the total number of trainable parameters of $C3$ equal to $1516$ and the number of total connections equal to $151600$."
   ]
  },
  {
   "cell_type": "markdown",
   "id": "3a150043",
   "metadata": {
    "id": "3a150043"
   },
   "source": [
    "##### Average Pooling layer (S4)"
   ]
  },
  {
   "cell_type": "markdown",
   "id": "9563c472",
   "metadata": {
    "id": "9563c472"
   },
   "source": [
    "* **Input size**: $10 x 10 x 1$\n",
    "* **Feature maps**: $16$\n",
    "* **Filter size**: $2x2x1$\n",
    "* **Stride**: $2$\n",
    "* **Padding**: $0$\n",
    "* **Output size**: $(5x5x1)$; $(10 - 2 + 2*0) \\ / \\ 2 + 1 = 5$\n",
    "* **Neurons**: $16 * (5x5x1) = 400$\n",
    "* **Trainable parameters**: $16 * (1 + 1) = 32$\n",
    "* **Total connections**: $16 * (2x2x1 + 1) * (5x5x1) = 2000$\n",
    "* **Activation function**: Tanh"
   ]
  },
  {
   "cell_type": "markdown",
   "id": "c7c1fc9c",
   "metadata": {
    "id": "c7c1fc9c"
   },
   "source": [
    "The down-sampling layer $S4$ reduces its input by a factor of 2 from $10x10x1$ down to $5x5x1$. The $16$ feature maps of size $10x10x1$ from $C3$ are pooled into $2x2x1$ units to obtain $16$ feature maps of size $5x5x1$.  "
   ]
  },
  {
   "cell_type": "markdown",
   "id": "1f28f69a",
   "metadata": {
    "id": "1f28f69a"
   },
   "source": [
    "##### Convolutional layer (C5)"
   ]
  },
  {
   "cell_type": "markdown",
   "id": "061e316d",
   "metadata": {
    "id": "061e316d"
   },
   "source": [
    "* **Input size**: $5 x 5 x 1$\n",
    "* **Feature maps**: $120$\n",
    "* **Kernel size**: $5 x 5 x 1$\n",
    "* **Stride**: $1$\n",
    "* **Padding**: $0$\n",
    "* **Output size**: $(1x1x1)$; $(5 - 5 + 2*0) \\ / \\ 1 + 1 = 1$\n",
    "* **Neurons**: $120 * (1x1x1) = 120$\n",
    "* **Trainable parameters**: $120 * (16x5x5x1 + 1) = 48120$\n",
    "* **Total connections**: $120 * (16x5x5x1) = 48000$\n",
    "* **Activation function**: Tanh"
   ]
  },
  {
   "cell_type": "markdown",
   "id": "50148929",
   "metadata": {
    "id": "50148929"
   },
   "source": [
    "Here the final convolutional layer $C5$ is considered to be fully-connected with respect to the input dimensionality of the digits images. For any other configuration (i.e., an increase in the number of channels, as with RGB images), we can expect this to be explicitly a convolutional layer. For the digits dataset, given a kernel size of $5x5x1$ and a corresponding output of layer $S4$ of size $5x5x1$, we obtain a fully-connected layer with $(1x1x1)$ feature map output dimensions. Therefore, we have $48120$ trainable parameters and $48000$ total connections in this last convolutional layer.  "
   ]
  },
  {
   "cell_type": "markdown",
   "id": "e7c574fd",
   "metadata": {
    "id": "e7c574fd"
   },
   "source": [
    "##### Fully-connected layer (F6)"
   ]
  },
  {
   "cell_type": "markdown",
   "id": "0818a69e",
   "metadata": {
    "id": "0818a69e"
   },
   "source": [
    "* **Input size**: $1 x 1 x 1$\n",
    "* **Feature maps**: N/A\n",
    "* **Kernel size**: N/A\n",
    "* **Stride**: N/A\n",
    "* **Padding**: N/A\n",
    "* **Output size**: $(1x1)$\n",
    "* **Neurons**: $84 * (1x1x1) = 84$\n",
    "* **Trainable parameters**: $84*(120x1x1 + 1) = 10164$\n",
    "* **Total connections**: $120 * (16x5x5x1) = 48000$\n",
    "* **Activation function**: Tanh"
   ]
  },
  {
   "cell_type": "markdown",
   "id": "e93aa4ef",
   "metadata": {
    "id": "e93aa4ef"
   },
   "source": [
    "The second-to-last layer in the LeNet-5 network is fully-connected to the convolutional layer $C5$; we can consider $F6$ to be a true fully-connected layer with $84$ units. Here the number of units for this layer was selected according to a $7x12$ bitmap representation corresponding to one of the $10$ character classes. This is considering that the representation used is not particularly useful for _isolated_ digits but rather _strings_ of characters selected from the printable ASCII set which tends to produce _confusable_ i.e., different characters with similar appearances (e.g., an upper/lower-case \"O\" and a zero, or an uppercase \"I\" and the digit 1)."
   ]
  },
  {
   "cell_type": "markdown",
   "id": "80d6b0b7",
   "metadata": {
    "id": "80d6b0b7"
   },
   "source": [
    "##### Output layer (OUTPUT or F7)"
   ]
  },
  {
   "cell_type": "markdown",
   "id": "b365343b",
   "metadata": {
    "id": "b365343b"
   },
   "source": [
    "* **Classes**: 10\n",
    "* **Output size**: $(10x1)$\n",
    "* **Neurons**: $84 * (1x1x1) = 84$\n",
    "* **Trainable parameters**: $84*(10x1x1 + 0) = 840$\n",
    "* **Total connections**: $10 * (84x1x1x1) = 840$\n",
    "* **Activation function**: RBF"
   ]
  },
  {
   "cell_type": "markdown",
   "id": "43c46e5d",
   "metadata": {
    "id": "43c46e5d"
   },
   "source": [
    "The final layer in the LeNet-5 is of course the classification output layer — a fully-connected layer composed of Euclidean Radial Basis Function units (RBF). There are 10 RBF units, one for each digit class, each with a set of 84 inputs. The output of each RBF unit is computed with a Euclidean distance summation between its input vector and its parameter vector. The Euclidean distance (L2 loss) serves as a penalty for the input and RBF digit class; the larger the RBF output, the farther away the input is from the parameter vector. The choice of L2 loss here greatly penalises outliers (distance \"away\" from parameter vectors). The RBF output can also be interpreted as the un-normalised negative log-likelihood of the Gaussian distribution of $F6$.\n",
    "\n",
    "In short, the parameter vectors of the RBF units act as target vectors for the $F6$ layer. The components of the parameter vectors are valued $+1$ or $-1$, which are points along the maximum curvature of the scaled _hyperbolic tangent_, i.e., [tanh](https://en.wikipedia.org/wiki/Hyperbolic_functions#Hyperbolic_tangent), or in other words — the re-scaled and shifted sigmoid activation function. Therefore, the RBF activation function is chosen for this output layer to enforce the maximally non-linear range of the tanh function applied to units in $F6$."
   ]
  },
  {
   "cell_type": "markdown",
   "id": "384c8474",
   "metadata": {
    "id": "384c8474"
   },
   "source": [
    "#### Reflecting on the LeNet-5"
   ]
  },
  {
   "cell_type": "markdown",
   "id": "cdc0f3ad",
   "metadata": {
    "id": "cdc0f3ad"
   },
   "source": [
    "##### Activation functions"
   ]
  },
  {
   "cell_type": "markdown",
   "id": "6f458176",
   "metadata": {
    "id": "6f458176"
   },
   "source": [
    "The tanh and sigmoid activation functions used in LeNet-5 have their downsides. As pointed out in the original paper by LeCun et al., 1998, the scaled tanh function presents issues with saturation at the maximum and minimum boundary points. This leads to [vanishing gradient problem](https://en.wikipedia.org/wiki/Vanishing_gradient_problem) as the derivatives of the function approach zero. Since we have a handful of hidden layers, the multiplication of these near-zero gradient values results in an exponential decrease in the gradient as it is propagated from the final to the initial layer.\n",
    "\n",
    "ReLu or Leaky ReLu are more often used nowadays to address this. ReLU imposes a lower-bound for gradient values at $0$. This handles the vanishing gradient problem by eliminating saturation at very small gradient values — their values simply become zero, ultimately encourages sparsity in the learned representations [3]. Yet in some cases, ReLU may end up always returning the lower-bound ($0$) for any input. The [dying ReLU problem](https://www.educative.io/answers/what-is-the-dying-relu-problem) is the result of zero-valued gradient propagations and a high learning rate or a large negative bias could be at fault. To mitigate this, the [Leaky ReLU](https://www.tensorflow.org/api_docs/python/tf/keras/layers/LeakyReLU) is used which does not produce zero-valued gradients."
   ]
  },
  {
   "cell_type": "markdown",
   "id": "eeb3b264",
   "metadata": {
    "id": "eeb3b264"
   },
   "source": [
    "## 2. Programming Task"
   ]
  },
  {
   "cell_type": "markdown",
   "id": "8a92cf7b",
   "metadata": {
    "id": "8a92cf7b"
   },
   "source": [
    "Using the Keras API, you have to create a small convolutional neural networks using less than 15 layers, containing at least one convolutional layer, one pooling layer and one dense (fully connected layer). You can find a list of the different layers available [here](https://www.tensorflow.org/api_docs/python/tf/keras/layers)."
   ]
  },
  {
   "cell_type": "code",
   "execution_count": 15,
   "id": "83d6a81d",
   "metadata": {
    "id": "83d6a81d"
   },
   "outputs": [],
   "source": [
    "model_params = defaultdict(dict)"
   ]
  },
  {
   "cell_type": "markdown",
   "id": "069cea3b",
   "metadata": {
    "id": "069cea3b"
   },
   "source": [
    "### 2.1. LeNet-5"
   ]
  },
  {
   "cell_type": "markdown",
   "id": "7a69ba1b",
   "metadata": {
    "id": "7a69ba1b"
   },
   "source": [
    "#### Defining the model architecture"
   ]
  },
  {
   "cell_type": "code",
   "execution_count": null,
   "id": "4a64f8ef",
   "metadata": {
    "id": "4a64f8ef"
   },
   "outputs": [],
   "source": [
    "### From Udacity's `training.py`"
   ]
  },
  {
   "cell_type": "code",
   "execution_count": 14,
   "id": "a7e59f0b",
   "metadata": {
    "id": "a7e59f0b"
   },
   "outputs": [],
   "source": [
    "def create_lenet_network(input_shape: Tuple[int], \n",
    "                         output_shape: int) -> tf.keras.Sequential:\n",
    "    \"\"\"Creates the LeNet-5 network (LeCun et al., 1998).\n",
    "    \n",
    "    :param input_shape: tuple, the n-dimensional shape of the input images.\n",
    "    :param: output_shape: tuple, the 1D shape corresponding to number of\n",
    "        distinct classes to predict.\n",
    "    :returns: the LeNet-5 Model object.\n",
    "    \"\"\"\n",
    "    # IMPLEMENT THIS FUNCTION\n",
    "    \n",
    "    model = tf.keras.Sequential([\n",
    "        # The C1 (convolutional) layer\n",
    "        tf.keras.layers.Conv2D(\n",
    "                input_shape=input_shape,    # Shape of the input images\n",
    "                filters=6, \n",
    "                kernel_size=(5, 5), \n",
    "                strides=(1, 1), \n",
    "                padding='valid',            # No padding\n",
    "                activation='tanh'\n",
    "        ),\n",
    "        # The S2 (sub-sampling) layer\n",
    "        tf.keras.layers.AveragePooling2D(\n",
    "                pool_size=(2, 2),\n",
    "                strides=(2, 2),\n",
    "                padding='valid'\n",
    "        ),\n",
    "        tf.keras.layers.Activation(\n",
    "                activation=tf.keras.activations.sigmoid\n",
    "        ),\n",
    "        # The C3 (convolutional) layer\n",
    "        tf.keras.layers.Conv2D(\n",
    "                filters=16,\n",
    "                kernel_size=(5, 5),\n",
    "                strides=(1, 1),\n",
    "                padding='valid',\n",
    "                activation='tanh'\n",
    "        ),\n",
    "        # The S4 (sub-sampling) layer\n",
    "        tf.keras.layers.AveragePooling2D(\n",
    "                pool_size=(2, 2),\n",
    "                strides=(2, 2),\n",
    "                padding='valid'\n",
    "        ),\n",
    "        tf.keras.layers.Activation(\n",
    "                activation=tf.keras.activations.sigmoid\n",
    "        ),\n",
    "        # The C5 (convolutional) layer\n",
    "        tf.keras.layers.Conv2D(\n",
    "                filters=16,\n",
    "                kernel_size=(5, 5),\n",
    "                strides=(1, 1),\n",
    "                padding='valid',\n",
    "                activation='tanh'\n",
    "        \n",
    "        ),\n",
    "        # The Flatten layer\n",
    "        tf.keras.layers.Flatten(),\n",
    "        # The F6 (fully-connected) layer\n",
    "        tf.keras.layers.Dense(\n",
    "                units=84,\n",
    "                activation='tanh'\n",
    "        ),\n",
    "        # The F7 (Output) layer\n",
    "        tf.keras.layers.Dense(\n",
    "                units=output_shape,\n",
    "                activation='softmax'\n",
    "        )\n",
    "    ])\n",
    "    return model"
   ]
  },
  {
   "cell_type": "markdown",
   "id": "eaca5b56",
   "metadata": {
    "id": "eaca5b56"
   },
   "source": [
    "#### Defining the model build parameters"
   ]
  },
  {
   "cell_type": "code",
   "execution_count": null,
   "id": "efd8e50f",
   "metadata": {
    "id": "efd8e50f"
   },
   "outputs": [],
   "source": [
    "### Defining our model parameters"
   ]
  },
  {
   "cell_type": "code",
   "execution_count": 17,
   "id": "e258a733",
   "metadata": {
    "id": "e258a733"
   },
   "outputs": [],
   "source": [
    "model_name = 'LeNet-5'\n",
    "optimizer = 'adam'\n",
    "loss = tf.keras.losses.SparseCategoricalCrossentropy(from_logits=True)\n",
    "metrics = ['accuracy']"
   ]
  },
  {
   "cell_type": "code",
   "execution_count": 18,
   "id": "e7fd7ad4",
   "metadata": {
    "id": "e7fd7ad4"
   },
   "outputs": [],
   "source": [
    "model_params[model_name].update({'optimizer': optimizer})\n",
    "model_params[model_name].update({'loss_fn': loss})\n",
    "model_params[model_name].update({'metrics': metrics})"
   ]
  },
  {
   "cell_type": "markdown",
   "id": "87214c8e",
   "metadata": {
    "id": "87214c8e"
   },
   "source": [
    "### 2.2. Custom CNN"
   ]
  },
  {
   "cell_type": "markdown",
   "id": "fdb05f10",
   "metadata": {
    "id": "fdb05f10"
   },
   "source": [
    "You should experiment with different designs (number of layers, types of pooling, filter sizes, number of fully connected layers, number of neurons)."
   ]
  },
  {
   "cell_type": "code",
   "execution_count": null,
   "id": "81a3f069",
   "metadata": {
    "id": "81a3f069"
   },
   "outputs": [],
   "source": [
    "### From Udacity's `training.py`"
   ]
  },
  {
   "cell_type": "code",
   "execution_count": null,
   "id": "c1b343a5",
   "metadata": {
    "id": "c1b343a5"
   },
   "outputs": [],
   "source": [
    "def create_custom_network():\n",
    "    net = tf.keras.models.Sequential()\n",
    "    # IMPLEMENT THIS FUNCTION\n",
    "    return net"
   ]
  },
  {
   "cell_type": "markdown",
   "id": "031da250",
   "metadata": {
    "id": "031da250"
   },
   "source": [
    "### 2.3. Training and validation"
   ]
  },
  {
   "cell_type": "markdown",
   "id": "b079a6d0",
   "metadata": {
    "id": "b079a6d0"
   },
   "source": [
    "The following helper functions are used for the training and validation loops."
   ]
  },
  {
   "cell_type": "code",
   "execution_count": null,
   "id": "303a7673",
   "metadata": {
    "id": "303a7673"
   },
   "outputs": [],
   "source": [
    "### From Udacity's `utils.py`"
   ]
  },
  {
   "cell_type": "code",
   "execution_count": 19,
   "id": "60ed051a",
   "metadata": {
    "id": "60ed051a"
   },
   "outputs": [],
   "source": [
    "def get_module_logger(mod_name: str) -> logging.Logger:\n",
    "    \"\"\"Initialises a console logger instance.\n",
    "    \n",
    "    :param mod_name: the model name to assign to the logger.\n",
    "    :returns: a logger instance.\n",
    "    \"\"\"\n",
    "    \n",
    "    ### Setting up the console logger and formatter\n",
    "    logger = logging.getLogger(mod_name)\n",
    "    handler = logging.StreamHandler()\n",
    "    formatter = logging.Formatter('%(asctime)s %(levelname)-8s %(message)s')\n",
    "    handler.setFormatter(formatter)\n",
    "    logger.addHandler(handler)\n",
    "    logger.setLevel(logging.DEBUG)\n",
    "    ### Prevent messages going to root handler\n",
    "    logger.propagate = False\n",
    "    return logger"
   ]
  },
  {
   "cell_type": "code",
   "execution_count": 21,
   "id": "ac325f83",
   "metadata": {
    "id": "ac325f83"
   },
   "outputs": [],
   "source": [
    "def get_datasets(model_params: dict) -> Tuple[tf.data.Dataset, tf.data.Dataset]:\n",
    "    \"\"\"Return the training and validation datasets.\n",
    "    \n",
    "    :param model_params: the dict containing the dataset- and \n",
    "        model-specific arguments.\n",
    "    :returns: (train_dataset, validation_dataset), tuple of tf.data.Dataset \n",
    "        instances.\n",
    "    \"\"\"\n",
    "    \n",
    "    model_params = dict(model_params)\n",
    "    train_dataset = tf.keras.utils.image_dataset_from_directory(\n",
    "                        directory=model_params.get('imdir', None),\n",
    "                        labels='inferred',\n",
    "                        label_mode='int',\n",
    "                        color_mode=model_params.get('color_mode', None),\n",
    "                        batch_size=model_params.get('batch_size', None),\n",
    "                        image_size=model_params.get('image_size', None),\n",
    "                        shuffle=True,\n",
    "                        seed=123,\n",
    "                        validation_split=0.1,\n",
    "                        subset='training',\n",
    "    )\n",
    "    validation_dataset = tf.keras.utils.image_dataset_from_directory(\n",
    "                        directory=model_params.get('imdir', None),\n",
    "                        labels='inferred',\n",
    "                        label_mode='int',\n",
    "                        color_mode=model_params.get('color_mode', None),\n",
    "                        batch_size=model_params.get('batch_size', None),\n",
    "                        image_size=model_params.get('image_size', None),\n",
    "                        shuffle=True,\n",
    "                        seed=123,\n",
    "                        validation_split=0.1,\n",
    "                        subset='validation',\n",
    "    )\n",
    "    return train_dataset, validation_dataset"
   ]
  },
  {
   "cell_type": "code",
   "execution_count": 22,
   "id": "32c84a6b",
   "metadata": {
    "id": "32c84a6b"
   },
   "outputs": [],
   "source": [
    "def display_metrics(history: tf.keras.callbacks.History):\n",
    "    \"\"\"Plots the per-epoch loss and accuracy metrics.\n",
    "    \n",
    "    :param history: the Keras `callbacks.History` object.\n",
    "    \"\"\"\n",
    "    \n",
    "    f, ax = plt.subplots(1, 2, figsize=(15, 5))\n",
    "    ax[0].plot(history.history['loss'], linewidth=3)\n",
    "    ax[0].plot(history.history['val_loss'], linewidth=3)\n",
    "    ax[0].set_title('Loss', fontsize=16)\n",
    "    ax[0].set_ylabel('Loss', fontsize=16)\n",
    "    ax[0].set_xlabel('Epoch', fontsize=16)\n",
    "    ax[0].legend(['train loss', 'val loss'], loc='upper right')\n",
    "    ax[1].plot(history.history['accuracy'], linewidth=3)\n",
    "    ax[1].plot(history.history['val_accuracy'], linewidth=3)\n",
    "    ax[1].set_title('Accuracy', fontsize=16)\n",
    "    ax[1].set_ylabel('Accuracy', fontsize=16)\n",
    "    ax[1].set_xlabel('Epoch', fontsize=16)\n",
    "    ax[1].legend(['train acc', 'val acc'], loc='upper left')\n",
    "    plt.show()"
   ]
  },
  {
   "cell_type": "markdown",
   "id": "25c2ecf6",
   "metadata": {
    "id": "25c2ecf6"
   },
   "source": [
    "### 2.3. Evaluation on the modified MNIST digits dataset"
   ]
  },
  {
   "cell_type": "markdown",
   "id": "205af274",
   "metadata": {
    "id": "205af274"
   },
   "source": [
    "#### Considerations for our input data"
   ]
  },
  {
   "cell_type": "code",
   "execution_count": null,
   "id": "ad93743d",
   "metadata": {
    "id": "ad93743d"
   },
   "outputs": [],
   "source": [
    "DATASET_NAME = 'MNIST'"
   ]
  },
  {
   "cell_type": "code",
   "execution_count": null,
   "id": "d3b5c0cb",
   "metadata": {
    "id": "d3b5c0cb"
   },
   "outputs": [],
   "source": [
    "N_CLASSES = 10                                    # MNIST has 10 distinct digit classes"
   ]
  },
  {
   "cell_type": "code",
   "execution_count": null,
   "id": "e2128b77",
   "metadata": {
    "id": "e2128b77"
   },
   "outputs": [],
   "source": [
    "### Defining our input image specs"
   ]
  },
  {
   "cell_type": "code",
   "execution_count": null,
   "id": "5788199d",
   "metadata": {
    "id": "5788199d"
   },
   "outputs": [],
   "source": [
    "IMG_DIR = os.path.join(DIR_SRC, 'MNIST/')"
   ]
  },
  {
   "cell_type": "code",
   "execution_count": null,
   "id": "8b8da58d",
   "metadata": {
    "id": "8b8da58d"
   },
   "outputs": [],
   "source": [
    "BATCH_SIZE = 128"
   ]
  },
  {
   "cell_type": "code",
   "execution_count": null,
   "id": "d3ecf0c8",
   "metadata": {
    "id": "d3ecf0c8"
   },
   "outputs": [],
   "source": [
    "IMG_COLOR_MODE = 'grayscale'\n",
    "IMG_SIZE = 32                                     # Each RGB image has 32x32 px resolution\n",
    "IMG_SHAPE = (IMG_SIZE, IMG_SIZE, 1)               # Each grayscale image has 1 channel"
   ]
  },
  {
   "cell_type": "code",
   "execution_count": null,
   "id": "3bcc3e2a",
   "metadata": {
    "id": "3bcc3e2a"
   },
   "outputs": [],
   "source": [
    "model_params[DATASET_NAME].update({'imdir': IMG_DIR})\n",
    "model_params[DATASET_NAME].update({'batch_size': BATCH_SIZE})\n",
    "model_params[DATASET_NAME].update({'image_size': IMG_SIZE})\n",
    "model_params[DATASET_NAME].update({'color_mode': IMG_COLOR_MODE})\n",
    "model_params[DATASET_NAME].update({'input_shape': IMG_SHAPE})\n",
    "model_params[DATASET_NAME].update({'n_classes': N_CLASSES})"
   ]
  },
  {
   "cell_type": "markdown",
   "id": "18604c48",
   "metadata": {
    "id": "18604c48"
   },
   "source": [
    "#### Fetching the modified MNIST digits data"
   ]
  },
  {
   "cell_type": "code",
   "execution_count": null,
   "id": "08c92375",
   "metadata": {
    "id": "08c92375"
   },
   "outputs": [],
   "source": [
    "### Fetching the training and validation datasets\n",
    "train_dataset, validation_dataset = get_datasets(model_params[DATASET_NAME])"
   ]
  },
  {
   "cell_type": "markdown",
   "id": "34eca184",
   "metadata": {
    "id": "34eca184"
   },
   "source": [
    "#### Processing the image data"
   ]
  },
  {
   "cell_type": "code",
   "execution_count": null,
   "id": "17074f25",
   "metadata": {
    "id": "17074f25"
   },
   "outputs": [],
   "source": [
    "### Number of features (pixel values) in a single image\n",
    "train_iter = iter(train_dataset)\n",
    "len(train_iter.get_next()[0][0].numpy().flatten())"
   ]
  },
  {
   "cell_type": "code",
   "execution_count": null,
   "id": "f0ca4680",
   "metadata": {
    "id": "f0ca4680"
   },
   "outputs": [],
   "source": [
    "def process(dataset: tf.data.Dataset) -> Generator[tuple, None, None]:\n",
    "    \"\"\"Processes the input dataset and returns a generator object.\n",
    "\n",
    "    :param dataset: the tf.data.Dataset instance of batched image, label data.\n",
    "    :returns: the generator instance modifying the image attribute values.\n",
    "    \"\"\"\n",
    "\n",
    "    def process_generator() -> Iterator[Tuple[tf.Tensor, tf.Tensor]]:\n",
    "        \"\"\"Scales the input image data.\n",
    "        \n",
    "        Unbatches the tf.data.Dataset and scales all image attributes,\n",
    "        i.e., pixel values, in the range [0, 1].\n",
    "\n",
    "        :returns: an iterator yielding the modfied image data and\n",
    "            corresponding label.\n",
    "        \"\"\"\n",
    "\n",
    "        for batch in dataset:\n",
    "            for image, label in zip(*batch):\n",
    "                image = tf.cast(image/255. ,tf.float32)\n",
    "                yield image, label\n",
    "    return process_generator"
   ]
  },
  {
   "cell_type": "code",
   "execution_count": null,
   "id": "645f2170",
   "metadata": {
    "id": "645f2170"
   },
   "outputs": [],
   "source": [
    "### Unbatching the datasets and scaling the images"
   ]
  },
  {
   "cell_type": "code",
   "execution_count": null,
   "id": "a3892eb9",
   "metadata": {
    "id": "a3892eb9"
   },
   "outputs": [],
   "source": [
    "train_dataset_scaled = tf.data.Dataset.from_generator(\n",
    "                                generator=process(train_dataset), \n",
    "                                output_types=(tf.float32, tf.int32), \n",
    "                                output_shapes=(model_params[DATASET_NAME]['input_shape'], ())\n",
    ")"
   ]
  },
  {
   "cell_type": "code",
   "execution_count": null,
   "id": "d3d3a81a",
   "metadata": {
    "id": "d3d3a81a"
   },
   "outputs": [],
   "source": [
    "validation_dataset_scaled = tf.data.Dataset.from_generator(\n",
    "                                generator=process(validation_dataset), \n",
    "                                output_types=(tf.float32, tf.int32), \n",
    "                                output_shapes=(model_params[DATASET_NAME]['input_shape'], ())\n",
    ")"
   ]
  },
  {
   "cell_type": "code",
   "execution_count": null,
   "id": "5d16cdd2",
   "metadata": {
    "id": "5d16cdd2"
   },
   "outputs": [],
   "source": [
    "type(validation_dataset_scaled)"
   ]
  },
  {
   "cell_type": "markdown",
   "id": "41fe458d",
   "metadata": {
    "id": "41fe458d"
   },
   "source": [
    "#### Evaluating the LeNet-5"
   ]
  },
  {
   "cell_type": "markdown",
   "id": "a94982cb",
   "metadata": {
    "id": "a94982cb"
   },
   "source": [
    "##### Initialising the model"
   ]
  },
  {
   "cell_type": "code",
   "execution_count": null,
   "id": "a4253c23",
   "metadata": {
    "id": "a4253c23"
   },
   "outputs": [],
   "source": [
    "MODEL_NAME = 'LetNet-5'"
   ]
  },
  {
   "cell_type": "code",
   "execution_count": null,
   "id": "b316e2a2",
   "metadata": {
    "id": "b316e2a2"
   },
   "outputs": [],
   "source": [
    "### Creating the model instance"
   ]
  },
  {
   "cell_type": "code",
   "execution_count": null,
   "id": "9a70da23",
   "metadata": {
    "id": "9a70da23"
   },
   "outputs": [],
   "source": [
    "model = create_lenet_network(\n",
    "            input_shape=model_params[MODEL_NAME]['input_shape'],\n",
    "            output_shape=model_params[DATASET_NAME]['N_CLASSES']\n",
    ")"
   ]
  },
  {
   "cell_type": "markdown",
   "id": "04db909f",
   "metadata": {
    "id": "04db909f"
   },
   "source": [
    "##### Performing training and validation loops"
   ]
  },
  {
   "cell_type": "code",
   "execution_count": null,
   "id": "4e6d3916",
   "metadata": {
    "id": "4e6d3916"
   },
   "outputs": [],
   "source": [
    "### Defining the model hyperparameters"
   ]
  },
  {
   "cell_type": "code",
   "execution_count": null,
   "id": "b810597f",
   "metadata": {
    "id": "b810597f"
   },
   "outputs": [],
   "source": [
    "EPOCHS = 20"
   ]
  },
  {
   "cell_type": "code",
   "execution_count": null,
   "id": "7333d331",
   "metadata": {
    "id": "7333d331"
   },
   "outputs": [],
   "source": [
    "model_params[MODEL_NAME].update({'epochs': EPOCHS})\n",
    "model_params[MODEL_NAME].update({'batch_size': BATCH_SIZE})\n",
    "model_params[MODEL_NAME].update({'shuffle': True})"
   ]
  },
  {
   "cell_type": "code",
   "execution_count": null,
   "id": "cb571ec8",
   "metadata": {
    "id": "cb571ec8"
   },
   "outputs": [],
   "source": [
    "### Configuring the model for training"
   ]
  },
  {
   "cell_type": "code",
   "execution_count": null,
   "id": "71e6598a",
   "metadata": {
    "id": "71e6598a"
   },
   "outputs": [],
   "source": [
    "model.compile(\n",
    "        optimizer=model_params[MODEL_NAME]['optimizer'],\n",
    "        loss=model_params[MODEL_NAME]['loss_fn'],\n",
    "        metrics=model_params[MODEL_NAME]['metrics']\n",
    ")"
   ]
  },
  {
   "cell_type": "code",
   "execution_count": null,
   "id": "1649cde7",
   "metadata": {
    "id": "1649cde7"
   },
   "outputs": [],
   "source": [
    "### Batching the training and validation datasets"
   ]
  },
  {
   "cell_type": "code",
   "execution_count": null,
   "id": "9e8a8e46",
   "metadata": {
    "id": "9e8a8e46"
   },
   "outputs": [],
   "source": [
    "train_dataset_scaled = train_dataset_scaled.batch(model_params[MODEL_NAME]['batch_size'])\n",
    "validation_dataset_scaled = validation_dataset_scaled.batch(model_params[MODEL_NAME]['batch_size'])"
   ]
  },
  {
   "cell_type": "code",
   "execution_count": null,
   "id": "6198ce5c",
   "metadata": {
    "id": "6198ce5c"
   },
   "outputs": [],
   "source": [
    "### From Udacity's `training.py`"
   ]
  },
  {
   "cell_type": "code",
   "execution_count": null,
   "id": "5495159d",
   "metadata": {
    "id": "5495159d"
   },
   "outputs": [],
   "source": [
    "logger.info(f\"\\nTraining for {model_params[MODEL_NAME]['epochs']} epochs \" + \n",
    "            f\"using '{model_params[DATASET_NAME]['imdir']}' data\")"
   ]
  },
  {
   "cell_type": "code",
   "execution_count": null,
   "id": "fafce66b",
   "metadata": {
    "id": "fafce66b"
   },
   "outputs": [],
   "source": [
    "### Usage of the `fit()` API\n",
    "# See: https://www.tensorflow.org/api_docs/python/tf/keras/Model#fit"
   ]
  },
  {
   "cell_type": "code",
   "execution_count": null,
   "id": "5d1934aa",
   "metadata": {
    "id": "5d1934aa"
   },
   "outputs": [],
   "source": [
    "history = model.fit(\n",
    "                x=train_dataset_scaled,\n",
    "                epochs=model_params[MODEL_NAME].get('epochs', 10),\n",
    "                batch_size=model_params[MODEL_NAME].get('batch_size', 128),\n",
    "                validation_data=validation_dataset_scaled,\n",
    "                shuffle=True\n",
    ")"
   ]
  },
  {
   "cell_type": "code",
   "execution_count": null,
   "id": "7ffb5a7a",
   "metadata": {
    "id": "7ffb5a7a"
   },
   "outputs": [],
   "source": [
    "### Usage of the `callbacks()` method\n",
    "# See: https://www.tensorflow.org/api_docs/python/tf/keras/callbacks/History\n",
    "# See: https://www.tensorflow.org/api_docs/python/tf/keras/callbacks/ModelCheckpoint"
   ]
  },
  {
   "cell_type": "code",
   "execution_count": null,
   "id": "06d45d16",
   "metadata": {
    "id": "06d45d16"
   },
   "outputs": [],
   "source": [
    "type(history)"
   ]
  },
  {
   "cell_type": "markdown",
   "id": "9bf48c62",
   "metadata": {
    "id": "9bf48c62"
   },
   "source": [
    "##### Visualsing the results"
   ]
  },
  {
   "cell_type": "code",
   "execution_count": null,
   "id": "b2788c63",
   "metadata": {
    "id": "b2788c63"
   },
   "outputs": [],
   "source": [
    "display_metrics(history)"
   ]
  },
  {
   "cell_type": "markdown",
   "id": "25615960",
   "metadata": {
    "id": "25615960"
   },
   "source": [
    "#### Evaluating the custom CNN"
   ]
  },
  {
   "cell_type": "code",
   "execution_count": null,
   "id": "e1607d0d",
   "metadata": {
    "id": "e1607d0d"
   },
   "outputs": [],
   "source": [
    "MODEL_NAME = 'Custom_CNN'"
   ]
  },
  {
   "cell_type": "markdown",
   "id": "a8354134",
   "metadata": {
    "id": "a8354134"
   },
   "source": [
    "##### Initialising the model"
   ]
  },
  {
   "cell_type": "markdown",
   "id": "a50d1963",
   "metadata": {
    "id": "a50d1963"
   },
   "source": [
    "##### Performing training and validation loops"
   ]
  },
  {
   "cell_type": "markdown",
   "id": "0cb4c42b",
   "metadata": {
    "id": "0cb4c42b"
   },
   "source": [
    "##### Visualsing the results"
   ]
  },
  {
   "cell_type": "markdown",
   "id": "036e5ec4",
   "metadata": {
    "id": "036e5ec4"
   },
   "source": [
    "### 2.3 Evaluation on the GTSRB dataset"
   ]
  },
  {
   "cell_type": "markdown",
   "id": "bdad1f6d",
   "metadata": {
    "id": "bdad1f6d"
   },
   "source": [
    "#### Considerations for our input data"
   ]
  },
  {
   "cell_type": "code",
   "execution_count": 23,
   "id": "5f711ba6",
   "metadata": {
    "id": "5f711ba6"
   },
   "outputs": [],
   "source": [
    "DATASET_NAME = 'GTSRB'"
   ]
  },
  {
   "cell_type": "code",
   "execution_count": 24,
   "id": "7288e8a5",
   "metadata": {
    "id": "7288e8a5"
   },
   "outputs": [],
   "source": [
    "N_CLASSES = 43                                    # GTSRB has 43 distinct digit classes"
   ]
  },
  {
   "cell_type": "code",
   "execution_count": null,
   "id": "fdfc0c89",
   "metadata": {
    "id": "fdfc0c89"
   },
   "outputs": [],
   "source": [
    "### Defining our input image specs"
   ]
  },
  {
   "cell_type": "code",
   "execution_count": 25,
   "id": "5896cacd",
   "metadata": {
    "id": "5896cacd"
   },
   "outputs": [],
   "source": [
    "IMG_DIR = os.path.join(DIR_SRC, 'GTSRB/Final_Training/Images')"
   ]
  },
  {
   "cell_type": "code",
   "execution_count": 26,
   "id": "bd232e25",
   "metadata": {
    "id": "bd232e25"
   },
   "outputs": [],
   "source": [
    "BATCH_SIZE = 128"
   ]
  },
  {
   "cell_type": "code",
   "execution_count": 44,
   "id": "04c04d92",
   "metadata": {
    "id": "04c04d92"
   },
   "outputs": [],
   "source": [
    "IMG_COLOR_MODE = 'rgb'\n",
    "IMG_SIZE = (32, 32)                               # Each RGB image has 32x32 px resolution\n",
    "IMG_SHAPE = (32, 32, 3)                           # Each RGB image has 3 channels\n",
    "N_FEATURES = (32 * 32) * 3                        # Each pixel value is considered an attribute (feature)"
   ]
  },
  {
   "cell_type": "code",
   "execution_count": 45,
   "id": "2de2807c",
   "metadata": {
    "id": "2de2807c"
   },
   "outputs": [],
   "source": [
    "model_params[DATASET_NAME].update({'n_classes': N_CLASSES})\n",
    "model_params[DATASET_NAME].update({'imdir': IMG_DIR})\n",
    "model_params[DATASET_NAME].update({'batch_size': BATCH_SIZE})\n",
    "model_params[DATASET_NAME].update({'color_mode': IMG_COLOR_MODE})\n",
    "model_params[DATASET_NAME].update({'image_size': IMG_SIZE})\n",
    "model_params[DATASET_NAME].update({'input_shape': IMG_SHAPE})\n",
    "model_params[DATASET_NAME].update({'n_features': N_FEATURES})"
   ]
  },
  {
   "cell_type": "markdown",
   "id": "28ec3188",
   "metadata": {
    "id": "28ec3188"
   },
   "source": [
    "#### Fetching the GTSRB data"
   ]
  },
  {
   "cell_type": "code",
   "execution_count": 57,
   "id": "37655102",
   "metadata": {
    "colab": {
     "base_uri": "https://localhost:8080/"
    },
    "id": "37655102",
    "outputId": "ac70d6f5-b43b-42e3-d6ca-ccd3a8f1f98d"
   },
   "outputs": [
    {
     "name": "stdout",
     "output_type": "stream",
     "text": [
      "Found 4300 files belonging to 43 classes.\n",
      "Using 3870 files for training.\n",
      "Found 4300 files belonging to 43 classes.\n",
      "Using 430 files for validation.\n"
     ]
    }
   ],
   "source": [
    "### Fetching the training and validation datasets\n",
    "train_dataset, validation_dataset = get_datasets(model_params[DATASET_NAME])"
   ]
  },
  {
   "cell_type": "markdown",
   "id": "cff3e692",
   "metadata": {
    "id": "cff3e692"
   },
   "source": [
    "#### Processing the image data"
   ]
  },
  {
   "cell_type": "code",
   "execution_count": 58,
   "id": "cd22a1a9",
   "metadata": {
    "colab": {
     "base_uri": "https://localhost:8080/"
    },
    "id": "cd22a1a9",
    "outputId": "da9bc162-cf62-444f-c770-a994ad494a88"
   },
   "outputs": [
    {
     "data": {
      "text/plain": [
       "3072"
      ]
     },
     "execution_count": 58,
     "metadata": {},
     "output_type": "execute_result"
    }
   ],
   "source": [
    "### Number of features (pixel values) in a single image\n",
    "train_iter = iter(train_dataset)\n",
    "len(train_iter.get_next()[0][0].numpy().flatten())"
   ]
  },
  {
   "cell_type": "code",
   "execution_count": 62,
   "id": "7yVvEkgrLQJk",
   "metadata": {
    "colab": {
     "base_uri": "https://localhost:8080/",
     "height": 166
    },
    "id": "7yVvEkgrLQJk",
    "outputId": "0f80181c-dbda-4153-f9a8-e97ce33ce155"
   },
   "outputs": [
    {
     "ename": "AttributeError",
     "evalue": "ignored",
     "output_type": "error",
     "traceback": [
      "\u001b[0;31m---------------------------------------------------------------------------\u001b[0m",
      "\u001b[0;31mAttributeError\u001b[0m                            Traceback (most recent call last)",
      "\u001b[0;32m<ipython-input-62-05f34fc5639f>\u001b[0m in \u001b[0;36m<module>\u001b[0;34m\u001b[0m\n\u001b[0;32m----> 1\u001b[0;31m \u001b[0mtrain_iter\u001b[0m\u001b[0;34m.\u001b[0m\u001b[0mget_next\u001b[0m\u001b[0;34m(\u001b[0m\u001b[0;34m)\u001b[0m\u001b[0;34m.\u001b[0m\u001b[0mnumpy\u001b[0m\u001b[0;34m(\u001b[0m\u001b[0;34m)\u001b[0m\u001b[0;34m.\u001b[0m\u001b[0mshape\u001b[0m\u001b[0;34m\u001b[0m\u001b[0;34m\u001b[0m\u001b[0m\n\u001b[0m",
      "\u001b[0;31mAttributeError\u001b[0m: 'tuple' object has no attribute 'numpy'"
     ]
    }
   ],
   "source": []
  },
  {
   "cell_type": "code",
   "execution_count": 34,
   "id": "a5d5385d",
   "metadata": {
    "id": "a5d5385d"
   },
   "outputs": [],
   "source": [
    "### From J. Moran's `2022-09-05-Image-Classification-Feed-Forward-Neural-Networks.ipynb`"
   ]
  },
  {
   "cell_type": "code",
   "execution_count": 59,
   "id": "90115a32",
   "metadata": {
    "id": "90115a32"
   },
   "outputs": [],
   "source": [
    "def process(dataset: tf.data.Dataset) -> Generator[tuple, None, None]:\n",
    "    \"\"\"Processes the input dataset and returns a generator object.\n",
    "\n",
    "    :param dataset: the tf.data.Dataset instance of batched image, label data.\n",
    "    :returns: the generator instance modifying the image attribute values.\n",
    "    \"\"\"\n",
    "\n",
    "    def process_generator()  -> Iterator[Tuple[tf.Tensor, tf.Tensor]]:\n",
    "        \"\"\"Scales the input image data.\n",
    "        \n",
    "        Unbatches the tf.data.Dataset and scales all image attributes,\n",
    "        i.e., pixel values, in the range [0, 1].\n",
    "\n",
    "        :returns: an iterator yielding the modfied image data and\n",
    "            corresponding label.\n",
    "        \"\"\"\n",
    "\n",
    "        for batch in dataset:\n",
    "            for image, label in zip(*batch):\n",
    "                image = tf.cast(image/255., tf.float32)\n",
    "                yield image, label\n",
    "    return process_generator"
   ]
  },
  {
   "cell_type": "code",
   "execution_count": null,
   "id": "a3f9cad4",
   "metadata": {
    "id": "a3f9cad4"
   },
   "outputs": [],
   "source": [
    "### Unbatching the datasets and scaling the images"
   ]
  },
  {
   "cell_type": "code",
   "execution_count": 74,
   "id": "eadc5547",
   "metadata": {
    "id": "eadc5547"
   },
   "outputs": [],
   "source": [
    "train_dataset_scaled = tf.data.Dataset.from_generator(\n",
    "        generator=process(train_dataset), \n",
    "        output_signature=(\n",
    "            tf.TensorSpec(\n",
    "                shape=model_params[DATASET_NAME].get('input_shape', None),\n",
    "                dtype=tf.dtypes.float32), \n",
    "            tf.TensorSpec(\n",
    "                shape=(),\n",
    "                dtype=tf.dtypes.int32)\n",
    "        )\n",
    ")"
   ]
  },
  {
   "cell_type": "code",
   "execution_count": 75,
   "id": "3ebba510",
   "metadata": {
    "id": "3ebba510"
   },
   "outputs": [],
   "source": [
    "validation_dataset_scaled = tf.data.Dataset.from_generator(\n",
    "        generator=process(validation_dataset), \n",
    "        output_signature=(\n",
    "            tf.TensorSpec(\n",
    "                shape=model_params[DATASET_NAME].get('input_shape', None),\n",
    "                dtype=tf.dtypes.float32), \n",
    "            tf.TensorSpec(\n",
    "                shape=(),\n",
    "                dtype=tf.dtypes.int32)\n",
    "        )\n",
    ")"
   ]
  },
  {
   "cell_type": "code",
   "execution_count": 76,
   "id": "e4699eba",
   "metadata": {
    "colab": {
     "base_uri": "https://localhost:8080/"
    },
    "id": "e4699eba",
    "outputId": "9aaa3d84-1c70-4ecf-93c2-fddc7389aae3"
   },
   "outputs": [
    {
     "data": {
      "text/plain": [
       "tensorflow.python.data.ops.dataset_ops.FlatMapDataset"
      ]
     },
     "execution_count": 76,
     "metadata": {},
     "output_type": "execute_result"
    }
   ],
   "source": [
    "type(validation_dataset_scaled)"
   ]
  },
  {
   "cell_type": "markdown",
   "id": "cf3b6ae4",
   "metadata": {
    "id": "cf3b6ae4"
   },
   "source": [
    "#### Evaluating the LeNet-5"
   ]
  },
  {
   "cell_type": "markdown",
   "id": "7d29c235",
   "metadata": {
    "id": "7d29c235"
   },
   "source": [
    "##### Initialising the model"
   ]
  },
  {
   "cell_type": "code",
   "execution_count": 77,
   "id": "dd28fc67",
   "metadata": {
    "id": "dd28fc67"
   },
   "outputs": [],
   "source": [
    "MODEL_NAME = 'LeNet-5'"
   ]
  },
  {
   "cell_type": "code",
   "execution_count": null,
   "id": "2271732e",
   "metadata": {
    "id": "2271732e"
   },
   "outputs": [],
   "source": [
    "### Creating the model instance"
   ]
  },
  {
   "cell_type": "code",
   "execution_count": 80,
   "id": "96e47fa9",
   "metadata": {
    "id": "96e47fa9"
   },
   "outputs": [],
   "source": [
    "model = create_lenet_network(\n",
    "            input_shape=model_params[DATASET_NAME]['input_shape'],\n",
    "            output_shape=model_params[DATASET_NAME]['n_classes']\n",
    ")"
   ]
  },
  {
   "cell_type": "code",
   "execution_count": 81,
   "id": "8Mb4FJMBOoMU",
   "metadata": {
    "colab": {
     "base_uri": "https://localhost:8080/"
    },
    "id": "8Mb4FJMBOoMU",
    "outputId": "4b6b703b-d09b-4f22-a110-864f855debb9"
   },
   "outputs": [
    {
     "name": "stdout",
     "output_type": "stream",
     "text": [
      "Model: \"sequential\"\n",
      "_________________________________________________________________\n",
      " Layer (type)                Output Shape              Param #   \n",
      "=================================================================\n",
      " conv2d (Conv2D)             (None, 28, 28, 6)         456       \n",
      "                                                                 \n",
      " average_pooling2d (AverageP  (None, 14, 14, 6)        0         \n",
      " ooling2D)                                                       \n",
      "                                                                 \n",
      " activation (Activation)     (None, 14, 14, 6)         0         \n",
      "                                                                 \n",
      " conv2d_1 (Conv2D)           (None, 10, 10, 16)        2416      \n",
      "                                                                 \n",
      " average_pooling2d_1 (Averag  (None, 5, 5, 16)         0         \n",
      " ePooling2D)                                                     \n",
      "                                                                 \n",
      " activation_1 (Activation)   (None, 5, 5, 16)          0         \n",
      "                                                                 \n",
      " conv2d_2 (Conv2D)           (None, 1, 1, 16)          6416      \n",
      "                                                                 \n",
      " flatten (Flatten)           (None, 16)                0         \n",
      "                                                                 \n",
      " dense (Dense)               (None, 84)                1428      \n",
      "                                                                 \n",
      " dense_1 (Dense)             (None, 43)                3655      \n",
      "                                                                 \n",
      "=================================================================\n",
      "Total params: 14,371\n",
      "Trainable params: 14,371\n",
      "Non-trainable params: 0\n",
      "_________________________________________________________________\n"
     ]
    }
   ],
   "source": [
    "model.summary()"
   ]
  },
  {
   "cell_type": "markdown",
   "id": "556f2c4f",
   "metadata": {
    "id": "556f2c4f"
   },
   "source": [
    "##### Performing the training and validation loops"
   ]
  },
  {
   "cell_type": "code",
   "execution_count": null,
   "id": "0c48a510",
   "metadata": {
    "id": "0c48a510"
   },
   "outputs": [],
   "source": [
    "### Defining the model hyperparameters"
   ]
  },
  {
   "cell_type": "code",
   "execution_count": null,
   "id": "6bbb1ad4",
   "metadata": {
    "id": "6bbb1ad4"
   },
   "outputs": [],
   "source": [
    "EPOCHS = 20"
   ]
  },
  {
   "cell_type": "code",
   "execution_count": null,
   "id": "199f2956",
   "metadata": {
    "id": "199f2956"
   },
   "outputs": [],
   "source": [
    "model_params[MODEL_NAME].update({'epochs': EPOCHS})\n",
    "model_params[MODEL_NAME].update({'batch_size': BATCH_SIZE})\n",
    "model_params[MODEL_NAME].update({'shuffle': True})"
   ]
  },
  {
   "cell_type": "code",
   "execution_count": null,
   "id": "d364fb39",
   "metadata": {
    "id": "d364fb39"
   },
   "outputs": [],
   "source": [
    "### Configuring the model for training"
   ]
  },
  {
   "cell_type": "code",
   "execution_count": null,
   "id": "ecd4aafd",
   "metadata": {
    "id": "ecd4aafd"
   },
   "outputs": [],
   "source": [
    "model.compile(\n",
    "        optimizer=model_params[MODEL_NAME]['optimizer'],\n",
    "        loss=model_params[MODEL_NAME]['loss_fn'],\n",
    "        metrics=model_params[MODEL_NAME]['metrics']\n",
    ")"
   ]
  },
  {
   "cell_type": "code",
   "execution_count": null,
   "id": "a7195aa2",
   "metadata": {
    "id": "a7195aa2"
   },
   "outputs": [],
   "source": [
    "### Batching the training and validation datasets"
   ]
  },
  {
   "cell_type": "code",
   "execution_count": null,
   "id": "f07eee54",
   "metadata": {
    "id": "f07eee54"
   },
   "outputs": [],
   "source": [
    "train_dataset_scaled = train_dataset_scaled.batch(model_params[MODEL_NAME]['batch_size'])\n",
    "validation_dataset_scaled = validation_dataset_scaled.batch(model_params[MODEL_NAME]['batch_size'])"
   ]
  },
  {
   "cell_type": "code",
   "execution_count": null,
   "id": "8c5f9129",
   "metadata": {
    "id": "8c5f9129"
   },
   "outputs": [],
   "source": [
    "### From Udacity's `training.py`"
   ]
  },
  {
   "cell_type": "code",
   "execution_count": null,
   "id": "d45158f5",
   "metadata": {
    "id": "d45158f5"
   },
   "outputs": [],
   "source": [
    "logger = get_module_logger(MODEL_NAME)"
   ]
  },
  {
   "cell_type": "code",
   "execution_count": null,
   "id": "5fb5bbc4",
   "metadata": {
    "id": "5fb5bbc4"
   },
   "outputs": [],
   "source": [
    "logger.info(f\"\\nTraining for {model_params[MODEL_NAME]['epochs']} epochs \" + \n",
    "            f\"using '{model_params[DATASET_NAME]['imdir']}' data\")"
   ]
  },
  {
   "cell_type": "code",
   "execution_count": null,
   "id": "cb2ec5c4",
   "metadata": {
    "id": "cb2ec5c4"
   },
   "outputs": [],
   "source": [
    "### Usage of the `fit()` API\n",
    "# See: https://www.tensorflow.org/api_docs/python/tf/keras/Model#fit"
   ]
  },
  {
   "cell_type": "code",
   "execution_count": null,
   "id": "c35a2d5b",
   "metadata": {
    "id": "c35a2d5b"
   },
   "outputs": [],
   "source": [
    "history = model.fit(\n",
    "                x=train_dataset_scaled,\n",
    "                epochs=model_params[MODEL_NAME].get('epochs', 10),\n",
    "                batch_size=model_params[MODEL_NAME].get('batch_size', 128),\n",
    "                validation_data=validation_dataset_scaled,\n",
    "                shuffle=True\n",
    ")"
   ]
  },
  {
   "cell_type": "code",
   "execution_count": null,
   "id": "821d23bf",
   "metadata": {
    "id": "821d23bf"
   },
   "outputs": [],
   "source": [
    "### Usage of the `callbacks()` method\n",
    "# See: https://www.tensorflow.org/api_docs/python/tf/keras/callbacks/History\n",
    "# See: https://www.tensorflow.org/api_docs/python/tf/keras/callbacks/ModelCheckpoint"
   ]
  },
  {
   "cell_type": "code",
   "execution_count": null,
   "id": "f0af6ac8",
   "metadata": {
    "id": "f0af6ac8"
   },
   "outputs": [],
   "source": [
    "type(history)"
   ]
  },
  {
   "cell_type": "markdown",
   "id": "5827b5f0",
   "metadata": {
    "id": "5827b5f0"
   },
   "source": [
    "##### Visualising the results"
   ]
  },
  {
   "cell_type": "code",
   "execution_count": null,
   "id": "2fe4a1ce",
   "metadata": {
    "id": "2fe4a1ce"
   },
   "outputs": [],
   "source": [
    "### From Udacity's `utils.py`"
   ]
  },
  {
   "cell_type": "code",
   "execution_count": null,
   "id": "bf0563b2",
   "metadata": {
    "id": "bf0563b2"
   },
   "outputs": [],
   "source": [
    "def display_metrics(history: tf.keras.callbacks.History):\n",
    "    \"\"\"Plots the per-epoch loss and accuracy metrics.\n",
    "    \n",
    "    :param history: the Keras `callbacks.History` object.\n",
    "    \"\"\"\n",
    "    \n",
    "    f, ax = plt.subplots(1, 2, figsize=(15, 5))\n",
    "    ax[0].plot(history.history['loss'], linewidth=3)\n",
    "    ax[0].plot(history.history['val_loss'], linewidth=3)\n",
    "    ax[0].set_title('Loss', fontsize=16)\n",
    "    ax[0].set_ylabel('Loss', fontsize=16)\n",
    "    ax[0].set_xlabel('Epoch', fontsize=16)\n",
    "    ax[0].legend(['train loss', 'val loss'], loc='upper right')\n",
    "    ax[1].plot(history.history['accuracy'], linewidth=3)\n",
    "    ax[1].plot(history.history['val_accuracy'], linewidth=3)\n",
    "    ax[1].set_title('Accuracy', fontsize=16)\n",
    "    ax[1].set_ylabel('Accuracy', fontsize=16)\n",
    "    ax[1].set_xlabel('Epoch', fontsize=16)\n",
    "    ax[1].legend(['train acc', 'val acc'], loc='upper left')\n",
    "    plt.show()"
   ]
  },
  {
   "cell_type": "code",
   "execution_count": null,
   "id": "b974d2d8",
   "metadata": {
    "id": "b974d2d8"
   },
   "outputs": [],
   "source": [
    "### From Udacity's `training.py`"
   ]
  },
  {
   "cell_type": "code",
   "execution_count": null,
   "id": "72c43183",
   "metadata": {
    "id": "72c43183"
   },
   "outputs": [],
   "source": [
    "display_metrics(history)"
   ]
  },
  {
   "cell_type": "markdown",
   "id": "e51d9ee4",
   "metadata": {
    "id": "e51d9ee4"
   },
   "source": [
    "#### Evaluating the custom CNN"
   ]
  },
  {
   "cell_type": "code",
   "execution_count": null,
   "id": "14b4e9d9",
   "metadata": {
    "id": "14b4e9d9"
   },
   "outputs": [],
   "source": [
    "MODEL_NAME = 'Custom_CNN'"
   ]
  },
  {
   "cell_type": "markdown",
   "id": "0f51c4e7",
   "metadata": {
    "id": "0f51c4e7"
   },
   "source": [
    "##### Initialising the model"
   ]
  },
  {
   "cell_type": "markdown",
   "id": "3378adb6",
   "metadata": {
    "id": "3378adb6"
   },
   "source": [
    "##### Performing the training and validation loops"
   ]
  },
  {
   "cell_type": "markdown",
   "id": "ef86fe85",
   "metadata": {
    "id": "ef86fe85"
   },
   "source": [
    "##### Visualising the results"
   ]
  },
  {
   "cell_type": "markdown",
   "id": "670e9ca6",
   "metadata": {
    "id": "670e9ca6"
   },
   "source": [
    "## Tips"
   ]
  },
  {
   "cell_type": "markdown",
   "id": "98919fe9",
   "metadata": {
    "id": "98919fe9"
   },
   "source": [
    "A good starting point for small networks is LeNet5. You will find many existing implementations online."
   ]
  },
  {
   "cell_type": "markdown",
   "id": "2e761b03",
   "metadata": {
    "id": "2e761b03"
   },
   "source": [
    "Don't forget the basic structure of a convnet: convolutional layer, activation and pooling."
   ]
  },
  {
   "cell_type": "markdown",
   "id": "22401022",
   "metadata": {
    "id": "22401022"
   },
   "source": [
    "You can use the [`summary`](https://www.tensorflow.org/api_docs/python/tf/keras/Model#summary) method of the Keras model API to print the description of your model."
   ]
  },
  {
   "cell_type": "markdown",
   "id": "7b20331c",
   "metadata": {
    "id": "7b20331c"
   },
   "source": [
    "## Credits"
   ]
  },
  {
   "cell_type": "markdown",
   "id": "e86af3fb",
   "metadata": {
    "id": "e86af3fb"
   },
   "source": [
    "This assignment was prepared by Thomas Hossler et al., Winter 2021 (link [here](https://www.udacity.com/course/self-driving-car-engineer-nanodegree--nd0013)).\n",
    "\n",
    "\n",
    "References\n",
    "\n",
    "[1] Yu, F. Vladlen, K. Multi-Scale Context Aggregation by Dialated Convolutions. ArXiv. 2015. [doi:10.48550/ARXIV.1511.07122](https://arxiv.org/abs/1511.07122).\n",
    "\n",
    "[2] LeCun, Y. et al. \"Gradient-based learning applied to document recognition.\" Proceedings of the IEEE, 86(11):2278-2324, 1998. [doi:10.1109/5.726791](https://ieeexplore.ieee.org/document/726791).\n",
    "\n",
    "\n",
    "[3] Glorot, X. et al. Deep Sparse Rectifier Neural Networks. Proceedings of the Fourteenth International Conference on Artificial Intelligence and Statistics, PMLR 15:315-323, 2011. [https://proceedings.mlr.press/v15/glorot11a.html](https://proceedings.mlr.press/v15/glorot11a/glorot11a.pdf).\n",
    "\n",
    "\n",
    "Helpful resources:\n",
    "* [Convolutional Neural Network: An Overview by S. Shah | Analytics Vidhya](https://www.analyticsvidhya.com/blog/2022/01/convolutional-neural-network-an-overview/)\n",
    "* [Understanding the receptive field of deep convolutional networks by N. Adaloglou | AI Summer](https://theaisummer.com/receptive-field/)\n",
    "* [The Dying ReLU Problem, Clearly Explained by K. Leung | Towards Data Science](https://towardsdatascience.com/the-dying-relu-problem-clearly-explained-42d0c54e0d24)\n",
    "* [What is the dying ReLU problem? by S. Azhar | Educative.io](https://www.educative.io/answers/what-is-the-dying-relu-problem)"
   ]
  }
 ],
 "metadata": {
  "accelerator": "GPU",
  "colab": {
   "collapsed_sections": [
    "f0bedd6f",
    "384c8474",
    "205af274",
    "18604c48",
    "34eca184",
    "41fe458d",
    "25615960",
    "e51d9ee4"
   ],
   "provenance": []
  },
  "kernelspec": {
   "display_name": "Python 3",
   "language": "python",
   "name": "python3"
  },
  "language_info": {
   "codemirror_mode": {
    "name": "ipython",
    "version": 3
   },
   "file_extension": ".py",
   "mimetype": "text/x-python",
   "name": "python",
   "nbconvert_exporter": "python",
   "pygments_lexer": "ipython3",
   "version": "3.8.13"
  },
  "toc": {
   "base_numbering": 1,
   "nav_menu": {},
   "number_sections": false,
   "sideBar": true,
   "skip_h1_title": false,
   "title_cell": "Table of Contents",
   "title_sidebar": "Contents",
   "toc_cell": false,
   "toc_position": {},
   "toc_section_display": true,
   "toc_window_display": true
  }
 },
 "nbformat": 4,
 "nbformat_minor": 5
}
