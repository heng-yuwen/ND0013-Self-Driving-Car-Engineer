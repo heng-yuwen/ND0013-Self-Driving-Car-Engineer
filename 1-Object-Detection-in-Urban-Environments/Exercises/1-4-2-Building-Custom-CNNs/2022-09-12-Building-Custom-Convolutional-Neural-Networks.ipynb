{
  "cells": [
    {
      "cell_type": "markdown",
      "id": "8c8fd7ff",
      "metadata": {
        "id": "8c8fd7ff"
      },
      "source": [
        "# Exercise 1.4.2 - Building Custom CNNs\n",
        "#### By Jonathan L. Moran (jonathan.moran107@gmail.com)\n",
        "From the Self-Driving Car Engineer Nanodegree programme offered at Udacity."
      ]
    },
    {
      "cell_type": "markdown",
      "id": "d90eed14",
      "metadata": {
        "id": "d90eed14"
      },
      "source": [
        "## Objectives"
      ]
    },
    {
      "cell_type": "markdown",
      "id": "06ef1e77",
      "metadata": {
        "id": "06ef1e77"
      },
      "source": [
        "* Use the TensorFlow Keras [Sequential API](https://www.tensorflow.org/api_docs/python/tf/keras/Sequential) to create a convolutional neural network ([CNN](https://en.wikipedia.org/wiki/Convolutional_neural_network));\n",
        "* Implement the [LeNet-5](https://en.wikipedia.org/wiki/LeNet) CNN architecture;\n",
        "* Train the LeNet-5 on the modified [MNIST digits](http://yann.lecun.com/exdb/mnist/) dataset;\n",
        "* Train a CNN model (e.g., LeNet-5) on the German Traffic Sign Recognition Benchmark [GTSRB](https://benchmark.ini.rub.de/gtsrb_dataset.html) dataset."
      ]
    },
    {
      "cell_type": "markdown",
      "id": "e859be21",
      "metadata": {
        "id": "e859be21"
      },
      "source": [
        "## 1. Introduction"
      ]
    },
    {
      "cell_type": "code",
      "execution_count": 1,
      "id": "0e81ad1b",
      "metadata": {
        "id": "0e81ad1b"
      },
      "outputs": [],
      "source": [
        "### Importing the required modules"
      ]
    },
    {
      "cell_type": "code",
      "execution_count": 115,
      "id": "b25a0963",
      "metadata": {
        "id": "b25a0963"
      },
      "outputs": [],
      "source": [
        "from collections import defaultdict\n",
        "import logging\n",
        "import matplotlib.pyplot as plt\n",
        "from mpl_toolkits.axes_grid1 import ImageGrid\n",
        "import numpy as np\n",
        "import os\n",
        "import tensorflow as tf\n",
        "import tensorflow_datasets as tfds\n",
        "from typing import Generator, Iterator, List, Tuple"
      ]
    },
    {
      "cell_type": "code",
      "source": [
        "tf.__version__"
      ],
      "metadata": {
        "colab": {
          "base_uri": "https://localhost:8080/",
          "height": 36
        },
        "id": "VlCuik5WFo-G",
        "outputId": "cdd04841-b4f1-4dfb-95c3-72eb73507213"
      },
      "id": "VlCuik5WFo-G",
      "execution_count": 3,
      "outputs": [
        {
          "output_type": "execute_result",
          "data": {
            "text/plain": [
              "'2.8.2'"
            ],
            "application/vnd.google.colaboratory.intrinsic+json": {
              "type": "string"
            }
          },
          "metadata": {},
          "execution_count": 3
        }
      ]
    },
    {
      "cell_type": "code",
      "source": [
        "tf.test.gpu_device_name()"
      ],
      "metadata": {
        "colab": {
          "base_uri": "https://localhost:8080/",
          "height": 36
        },
        "id": "Bdl34d5jFo6V",
        "outputId": "9b57d721-3e57-464d-a0ea-4947f9c5ca5c"
      },
      "id": "Bdl34d5jFo6V",
      "execution_count": 4,
      "outputs": [
        {
          "output_type": "execute_result",
          "data": {
            "text/plain": [
              "'/device:GPU:0'"
            ],
            "application/vnd.google.colaboratory.intrinsic+json": {
              "type": "string"
            }
          },
          "metadata": {},
          "execution_count": 4
        }
      ]
    },
    {
      "cell_type": "code",
      "source": [
        "### Setting the environment variables"
      ],
      "metadata": {
        "id": "14SKbFEhFowk"
      },
      "id": "14SKbFEhFowk",
      "execution_count": 5,
      "outputs": []
    },
    {
      "cell_type": "code",
      "source": [
        "ENV_COLAB = True                # True if running in Google Colab instance"
      ],
      "metadata": {
        "id": "QRK1yNpUFyNg"
      },
      "id": "QRK1yNpUFyNg",
      "execution_count": 6,
      "outputs": []
    },
    {
      "cell_type": "code",
      "source": [
        "# Root directory\n",
        "DIR_BASE = '' if not ENV_COLAB else '/content/'"
      ],
      "metadata": {
        "id": "mo7YMWrIFyJW"
      },
      "id": "mo7YMWrIFyJW",
      "execution_count": 7,
      "outputs": []
    },
    {
      "cell_type": "code",
      "source": [
        "# Subdirectory to save output files\n",
        "DIR_OUT = os.path.join(DIR_BASE, 'out/')\n",
        "# Subdirectory pointing to input data\n",
        "DIR_SRC = os.path.join(DIR_BASE, 'data/')"
      ],
      "metadata": {
        "id": "600UKHaQFyFI"
      },
      "id": "600UKHaQFyFI",
      "execution_count": 8,
      "outputs": []
    },
    {
      "cell_type": "code",
      "source": [
        "### Unzipping the GTSRB dataset\n",
        "!unzip -q /content/GTSRB.zip -d /content/data/"
      ],
      "metadata": {
        "id": "fyBCboPTFyA_"
      },
      "id": "fyBCboPTFyA_",
      "execution_count": 9,
      "outputs": []
    },
    {
      "cell_type": "code",
      "source": [
        "### Creating subdirectories (if not exists)\n",
        "os.makedirs(DIR_OUT, exist_ok=True)"
      ],
      "metadata": {
        "id": "vAjY0rSzF4Of"
      },
      "id": "vAjY0rSzF4Of",
      "execution_count": 9,
      "outputs": []
    },
    {
      "cell_type": "markdown",
      "id": "3145fd5c",
      "metadata": {
        "id": "3145fd5c"
      },
      "source": [
        "### 1.1. Convolutional Neural Networks (CNNs)"
      ]
    },
    {
      "cell_type": "markdown",
      "id": "e247b07b",
      "metadata": {
        "id": "e247b07b"
      },
      "source": [
        "#### Background"
      ]
    },
    {
      "cell_type": "markdown",
      "id": "d0e145f5",
      "metadata": {
        "id": "d0e145f5"
      },
      "source": [
        "A [convolutional neural network](https://en.wikipedia.org/wiki/Convolutional_neural_network) (\"ConvNet\") is a special type of neural network particularly well-suited to handle image data. Like the feedforward neural networks we saw in [Exercise 1.3.3](https://github.com/jonathanloganmoran/ND0013-Self-Driving-Car-Engineer/blob/main/1-Object-Detection-in-Urban-Environments/Exercises/1-3-3-Image-Classification-FNNs/2022-09-05-Image-Classification-Feed-Forward-Neural-Networks.ipynb), CNNs are composed of layers of neurons that have trainable weights and biases. In addition, CNNs often use activation functions and fully-connected layers similar to FNNs (e.g., softmax).\n",
        "\n",
        "With CNNs, we make the assumption that we will always be using image data as our inputs. Since image data is multi-dimensional, resizing these $\\left[H, W, D\\right]$ arrays to flattened $\\left[1x\\left(H*W*D\\right)\\right]$ vectors is necessary when using fully-connected layers, such as in feedforward neural networks. With ConvNets, however, we make use of locally-connected layers that operate over small portions of _volumetric data_. That is, ConvNets allow us to preserve the existing structure of image data and drastically reduce the amount of trainable parameters needed in each layer of our network. For example, a single fully-connected neuron will require a number of weight values equal to the number of attributes in our image input. For an image of size $\\left[64, 64, 3\\right]$, we obtain $(64*64*3) = 12288$ weight values _per neuron_. For a layer with only $n = 10$ fully-connected neurons, the number of trainable weights we have skyrockets to an astonishing $n * 12288 = 122880$ parameters per layer. We will see in this exercise that by limiting the connectivity of neurons between layers, we can design a network that reduces the number of parameters required while simultaneously _increasing_ the number of layers in the architecture."
      ]
    },
    {
      "cell_type": "markdown",
      "id": "f117afd2",
      "metadata": {
        "id": "f117afd2"
      },
      "source": [
        "![Fig. 1. The convolutional neural network architecture (simplified).](figures/2022-09-12-Figure-1-Convolutional-Neural-Network-Simplified.png)\n",
        "\n",
        "$$\n",
        "\\textrm{Fig. 1. The convolutional neural network architecture (simplified)}.\n",
        "$$"
      ]
    },
    {
      "cell_type": "markdown",
      "id": "ced2a2da",
      "metadata": {
        "id": "ced2a2da"
      },
      "source": [
        "#### Layers"
      ]
    },
    {
      "cell_type": "markdown",
      "id": "e40b6610",
      "metadata": {
        "id": "e40b6610"
      },
      "source": [
        "Most, if not all, convolutional neural network architectures use some combination of the following three distinct layer types: _convolutional layer_, _pooling layer_, and _fully-connected layer_. We have implemented fully-connected layers in [Exercise 1.3.3](https://github.com/jonathanloganmoran/ND0013-Self-Driving-Car-Engineer/blob/main/1-Object-Detection-in-Urban-Environments/Exercises/1-3-3-Image-Classification-FNNs/2022-09-05-Image-Classification-Feed-Forward-Neural-Networks.ipynb) for feedforward neural networks, and their application in ConvNets is no different. However, we introduce the _convolutional layer_ in this exercise. We will touch on these in more detail in just a minute."
      ]
    },
    {
      "cell_type": "markdown",
      "id": "40bbf870",
      "metadata": {
        "id": "40bbf870"
      },
      "source": [
        "##### Input layer"
      ]
    },
    {
      "cell_type": "markdown",
      "id": "996a3410",
      "metadata": {
        "id": "996a3410"
      },
      "source": [
        "It is important to first note that our _input layer_ corresponds directly to the dimensionality of our image data. One major assumption we make with convolutional neural networks is that our input image dimensions are constant. That is, that every image passing through our network shares the same _height_, _width_, and _channel_ dimensions. In ConvNets, the _depth_ of an image (its colour channels, e.g., R, G, B) is maintained throughout the network while the height and width might change. For convolutional and pooling layers, this matters because each kernel and filter will require an extra dimension $D$ equal to the number of colour channels in an image in addition to their width and height attributes. For an RGB image, a kernel/filter of size $\\left(h \\ x \\ w\\right)$ will therefore have dimensions $\\left(h \\ x \\ w \\ x \\ 3\\right)$."
      ]
    },
    {
      "cell_type": "markdown",
      "id": "63727ab3",
      "metadata": {
        "id": "63727ab3"
      },
      "source": [
        "##### Convolutional layer"
      ]
    },
    {
      "cell_type": "markdown",
      "id": "c364662b",
      "metadata": {
        "id": "c364662b"
      },
      "source": [
        "Very similar to the pooling layers we studied in [Exercise 1.4.1](https://github.com/jonathanloganmoran/ND0013-Self-Driving-Car-Engineer/blob/main/1-Object-Detection-in-Urban-Environments/Exercises/1-4-1-Pooling-Layers-CNNs/2022-09-07-Pooling-Layers-Convolutional-Neural-Networks.ipynb), these layers take an input, the volumetric image data, and perform sliding window operations ([convolutions](https://en.wikipedia.org/wiki/Convolution)) over the image. The convolution layer, like pooling layers, have _stride_, _kernel size_ and _padding_ attributes. We also introduce a _filter_ hyperparameter which allows us to specify the desired dimensionality of our convolution layer output. Convolutional layers rarely ever have just _one filter_. In fact, it is very common to see a single convolutional layer have anywhere from 32 filters up to 512. Each _filter_ represents a _feature_ in the input image (hence the output name \"feature map\"). These filters are templates which, when convolved with an input image, help locate and identify vertical, horizontal edges, arches, diagonal lines, etc.\n",
        "\n",
        "The convolutional layer in a network is often directly followed by an element-wise activation layer such as the Rectified Linear Unit ([ReLU](https://en.wikipedia.org/wiki/Rectifier_\\(neural_networks\\))) to introduce further non-linearities into the network. Note that the activation layer's output dimensions remain constant."
      ]
    },
    {
      "cell_type": "markdown",
      "id": "50502aca",
      "metadata": {
        "id": "50502aca"
      },
      "source": [
        "##### Pooling layer"
      ]
    },
    {
      "cell_type": "markdown",
      "id": "fcabccc2",
      "metadata": {
        "id": "fcabccc2"
      },
      "source": [
        "Pooling layers, as mentioned in the previous Exercise 1.4.1, reduce the size (spatial dimensions) of the images through a downsampling (averaging) or sub-sampling (max/min) operation. By replacing adjacent pixel values with neighbourhood calculations we are able to transform the output and effectively manipulate (increase _multiplicatively_) the [receptive field](https://en.wikipedia.org/wiki/Receptive_field#In_the_context_of_neural_networks) of the image (i.e., the region within an image of which a particular neuron is sensitive to). On the other hand, convolutional layers increase the receptive field _linearly_ proportional to the kernel size. Cascading convolutional layers with _dialated filters_ increase the receptive field exponentially [1]. By shrinking the image, we are essentially _increasing_ the amount of its pixels (information) we can fit into a single \"patch\" for a neuron to consider.\n",
        "\n",
        "As the image becomes reduced in size as it passes through the network, neurons in deeper layers get to \"see\" larger and larger parts of the whole image. In turn, we can increase the receptive field of a network exponentially while increasing the number of parameters linearly. This trade-off is what affords us the ability to swap only a few fully-connected layers for _handfuls_ of convolutional stacks without increasing complexity or decreasing the receptive field."
      ]
    },
    {
      "cell_type": "markdown",
      "id": "c79bbc9d",
      "metadata": {
        "id": "c79bbc9d"
      },
      "source": [
        "##### Fully-connected layer"
      ]
    },
    {
      "cell_type": "markdown",
      "id": "d0a51e94",
      "metadata": {
        "id": "d0a51e94"
      },
      "source": [
        "While we aren't able to eliminate fully-connected layers altogether, their use in convolutional neural networks is limited. Fully-connected layers appear at the end of a network for classification; the number of neurons of the last fully-connected layer in a CNN equal the number of distinct classes predicted (e.g., there are $3$ distinct classes being predicted in the example shown in Fig. 1). Practitioners may also choose to implement several preceding fully-connected layers with an arbitrarily large number of neurons, e.g., 512, 256, 64."
      ]
    },
    {
      "cell_type": "markdown",
      "id": "ec6d040a",
      "metadata": {
        "id": "ec6d040a"
      },
      "source": [
        "#### In summary\n",
        "   * Inputs to a ConvNet are volumetric image data with fixed dimensions;\n",
        "   * We use pooling layers to _downsample_ or _sub-sample_ images (reduce their spatial dimensions);\n",
        "   * By reducing the spatial dimensions, we _increase_ the neurons' receptive fields (how much of the image they can \"see\");\n",
        "   * With convolutional networks we are able to eventually cover the entire region of an input image at a cost significantly reduced to fully-connected layers;"
      ]
    },
    {
      "cell_type": "markdown",
      "id": "cad873e8",
      "metadata": {
        "id": "cad873e8"
      },
      "source": [
        "We have now learned the benefits of convolutional architectures to more-traditional neural networks (specifically, feedforward neural networks); by adding \"stacks\" of convolutional/pooling layers, we can exploit the complexity-efficiency trade-off. Convolutional stacks help us set reasonable limits on neural network complexity by decreasing the number of overall trainable parameters we have to work with layer-for-layer. This not only improves training efficiency but also helps boost performance on image classification tasks.\n",
        "\n",
        "While popular CNN architectures often make use of even more efficiency-focused layers, such as _dropout_/_inverted dropout_, _skip connections_, and _batch normalisation_, we will limit our discussion on those topics for now."
      ]
    },
    {
      "cell_type": "markdown",
      "id": "2c4503d3",
      "metadata": {
        "id": "2c4503d3"
      },
      "source": [
        "### 1.2. LeNet"
      ]
    },
    {
      "cell_type": "markdown",
      "id": "4fc7fafa",
      "metadata": {
        "id": "4fc7fafa"
      },
      "source": [
        "#### Background"
      ]
    },
    {
      "cell_type": "markdown",
      "id": "4365ef26",
      "metadata": {
        "id": "4365ef26"
      },
      "source": [
        "![Fig. 2. The LeNet-5 convolutional neural network architecture for digits recognition.](figures/2022-09-12-Figure-2-LeNet-5-CNN-Architecture.png)\n",
        "\n",
        "$$\n",
        "\\textrm{Fig. 2. The LeNet-5 convolutional neural network architecture for digits recognition (proposed in LeCun 1998:7).}\n",
        "$$"
      ]
    },
    {
      "cell_type": "markdown",
      "id": "30cc2883",
      "metadata": {
        "id": "30cc2883"
      },
      "source": [
        "The [LeNet-5](https://en.wikipedia.org/wiki/LeNet) is a convolutional neural network architecture proposed by Yann LeCun et al. of Bell Labs in 1998 [2]. LeNet-5 is recognised in the deep learning community as being one of the earliest ConvNet architectures with work dating back to [1989](https://doi.org/10.1162%2Fneco.1989.1.4.541). LeCun's model (illustrated in Fig. 2) has all the basic units of a convolutional neural network: convolutional layers, pooling layers and fully-connected layers. Like most ConvNet architectures we studied, the LeNet-5 has alternating convolutional and sub-sampling (average pooling) layers. Also as expected we see that the number of filters/kernel windows increases as we go deeper in the network, starting with $6$ and increasing to $16$ in the final convolutional layer. In Fig. 2, we can interpret the number preceeding the \"@\" symbol as the number of filters/kernels of each layer, followed by the filter/kernel size (omitting the _depth_ dimension from the notation). Lastly, we have for each layer in the convolutional stack a _stride_ hyperparameter denoted by $s$.\n",
        "\n",
        "Not shown in Fig. 2 is the use of the [tanh](https://paperswithcode.com/method/tanh-activation) non-linear activation function throughout the network. While this proved to be a better performer than the sigmoid function for a multi-layer neural network, _tanh_ did not appropriately handle the [vanishing gradient problem](https://en.wikipedia.org/wiki/Vanishing_gradient_problem), architectures today utilise other activation functions such as [ReLU](https://en.wikipedia.org/wiki/ReLU) or [batch normalisation](https://en.wikipedia.org/wiki/Batch_normalization) to solve this. The last layer of the network utilises a [softmax](https://en.wikipedia.org/wiki/Softmax_function) activation function to fit a Gaussian distribution to the predicted class probabilities."
      ]
    },
    {
      "cell_type": "markdown",
      "id": "f0bedd6f",
      "metadata": {
        "id": "f0bedd6f"
      },
      "source": [
        "#### Layers"
      ]
    },
    {
      "cell_type": "markdown",
      "id": "04997dcd",
      "metadata": {
        "id": "04997dcd"
      },
      "source": [
        "##### Input layer"
      ]
    },
    {
      "cell_type": "markdown",
      "id": "f10c814c",
      "metadata": {
        "id": "f10c814c"
      },
      "source": [
        "The input to the LeNet-5 network is a set of $\\left(32 \\ x \\ 32 \\ x \\ 1\\right)$ grayscale images, each consisting of a single handwritten digit (read more on the modified MNIST SD-1/SD-3 dataset [here](http://yann.lecun.com/exdb/mnist/)). The pixel values of the input images are normalised (anti-aliasing) so that the background (white) has a pixel value of $-0.1$ and the foreground (black) has a value $1.175$. This choice for normalisation is made such that the mean value of the input is roughly $0$ and the variance roughly $1$ to accelerate learning."
      ]
    },
    {
      "cell_type": "markdown",
      "id": "72433e84",
      "metadata": {
        "id": "72433e84"
      },
      "source": [
        "##### Convolutional layer (C1)"
      ]
    },
    {
      "cell_type": "markdown",
      "id": "e402f1f5",
      "metadata": {
        "id": "e402f1f5"
      },
      "source": [
        "* **Input size**: $32 x 32 x 1$\n",
        "* **Feature maps**: $6$\n",
        "* **Kernel size**: $5x5x1$\n",
        "* **Stride**: $1$\n",
        "* **Padding**: $0$\n",
        "* **Output size**: $(28x28x1)$; $(32 - 5 + 2*0) \\ / \\ 1 + 1 = 28$\n",
        "* **Neurons**: $6 * (28x28x1) = 4704$\n",
        "* **Trainable parameters**: $6 * (5x5x1 + 1) = 156$\n",
        "* **Total connections**: $6 * (5x5x1 + 1) * (28x28) = 122304$\n",
        "* **Activation function**: Tanh"
      ]
    },
    {
      "cell_type": "markdown",
      "id": "79655646",
      "metadata": {
        "id": "79655646"
      },
      "source": [
        "This convolutional layer has $6$ feature maps. Each unit of each feature map connects to a $5 x 5$ region within the input image. The feature map size of $28 x 28$ has been selected so that the strided convolutions do not result in any dropped pixels (for more information on that, see [Exercise 1.4.1](https://github.com/jonathanloganmoran/ND0013-Self-Driving-Car-Engineer/blob/main/1-Object-Detection-in-Urban-Environments/Exercises/1-4-1-Pooling-Layers-CNNs/2022-09-07-Pooling-Layers-Convolutional-Neural-Networks.ipynb)). each kernel has an additional bias term (hence the \"+1\" in the above calculation of trainable parameters. While the number of connections seems tremendous, due to _weight sharing_ we only need to learn $156$ parameters for this layer."
      ]
    },
    {
      "cell_type": "markdown",
      "id": "8e5849b2",
      "metadata": {
        "id": "8e5849b2"
      },
      "source": [
        "##### Average pooling layer (S2)"
      ]
    },
    {
      "cell_type": "markdown",
      "id": "ba5c3bfd",
      "metadata": {
        "id": "ba5c3bfd"
      },
      "source": [
        "* **Input size**: $28 x 28 x 1$\n",
        "* **Feature maps**: $6$\n",
        "* **Filter size**: $2x2x1$\n",
        "* **Stride**: $2$\n",
        "* **Padding**: $0$\n",
        "* **Output size**: $(14x14x1)$; $(28 - 2 + 2*0) \\ / \\ 2 + 1 = 14$\n",
        "* **Neurons**: $6 * (14x14x1) = 1176$\n",
        "* **Trainable parameters**: $6 * (1 + 1) = 12$\n",
        "* **Total connections**: $6 * (2x2x1 + 1) * (14x14x1) = 5880$\n",
        "* **Activation function**: Tanh"
      ]
    },
    {
      "cell_type": "markdown",
      "id": "b079f610",
      "metadata": {
        "id": "b079f610"
      },
      "source": [
        "This sub-sampling layer uses the local average pooling calculations to reduce the input size in half from $28x28$ to $14x14$. Each window of values is summed, multiplied by a weight coefficient $w$ and then added together with a trainable bias offset term $b$ (hence the number of trainable parameters shown above). These parameters are learned with [back-propagation](https://en.wikipedia.org/wiki/Backpropagation). The intermediate output values are then passed into a sigmoid activation function which is used to enforce non-linearity. The coefficient and bias terms regulate the intensity of the sigmoid function on the output. If the coefficient values are small, then the units operate in a quasi-linear mode such that the sub-sampling layer merely blurs the input. If the coefficient is large, sub-sampling performs similarly to a \"noisy OR\", \"noisy AND\" function depending on the value of the bias (LeCun 1998).\n",
        "\n",
        "The affect of downsampling of the input is a reduction in sensitivity of the output to shifts and distortions. By progressively reducing the spatial resolution with sub-sampling, we compensate the effect by progressively increasing the number of feature maps (the richness of the representation)."
      ]
    },
    {
      "cell_type": "markdown",
      "id": "8e40afdc",
      "metadata": {
        "id": "8e40afdc"
      },
      "source": [
        "##### Convolutional layer (C3)"
      ]
    },
    {
      "cell_type": "markdown",
      "id": "68a1a3e9",
      "metadata": {
        "id": "68a1a3e9"
      },
      "source": [
        "* **Input size**: $14 x 14 x 1$\n",
        "* **Feature maps**: $16$\n",
        "* **Kernel size**: $5 x 5 x 1$\n",
        "* **Stride**: $1$\n",
        "* **Padding**: $0$\n",
        "* **Output size**: $(10x10x1)$; $(14 - 5 + 2*0) \\ / \\ 1 + 1 = 10$\n",
        "* **Neurons**: $16 * (10x10x1) = 1600$\n",
        "* **Trainable parameters**: $6 * \\left[(3x5x5 + 1) + (4x5x5 + 1)\\right] + 3*\\left[(4x5x5 + 1)\\right] + 1*\\left[(6x5x5 + 1)\\right] = 1516$\n",
        "* **Total connections**: $1516*(10x10x1) = 151600$\n",
        "* **Activation function**: Tanh"
      ]
    },
    {
      "cell_type": "markdown",
      "id": "d3bc0166",
      "metadata": {
        "id": "d3bc0166"
      },
      "source": [
        "In this second convolutional layer, we increase the number of feature maps to $16$. In conjunction with the progressive decrease in spatial dimensions of the input images, we now _increase_ the richness of the representation of the input by increasing the number of feature maps. With the increase in feature maps brings a non-complete connection scheme in order to keep the number of connections of $S2$ and $C3$ within resonable bounds."
      ]
    },
    {
      "cell_type": "markdown",
      "id": "b52b855a",
      "metadata": {
        "id": "b52b855a"
      },
      "source": [
        "![Fig. 3. The non-complete connection scheme for layers S2 and C3 (reproduced from LeCun et al., 1998)](figures/2022-09-12-Figure-3-Table-1-LeCun-1998.png)\n",
        "\n",
        "$$\n",
        "\\textrm{Fig. 3. The non-complete connection scheme for layers} \\ S2  \\ \\textrm{and} \\  C3  \\ \\textrm{(reproduced from LeCun et al., 1998)}\n",
        "$$"
      ]
    },
    {
      "cell_type": "markdown",
      "id": "91eb2e87",
      "metadata": {
        "id": "91eb2e87"
      },
      "source": [
        "From the _total connections_ calculation above we see that the first _six_ feature maps of $C3$ take inputs from every contiguous subset of _three_ feature maps of $S2$. The next _six_ feature maps of $C3$ take inputs from every contiguous subset of _four_ feature maps of $S2$. The following _three_ feature maps of $C3$ take inputs from _discontinuous_ subsets of _four_ feature maps of $S2$. The last feature map ($1$) takes _all six_ inputs of the feature maps of $S2$.\n",
        "\n",
        "With that, we calculate the total number of trainable parameters of $C3$ equal to $1516$ and the number of total connections equal to $151600$."
      ]
    },
    {
      "cell_type": "markdown",
      "id": "3a150043",
      "metadata": {
        "id": "3a150043"
      },
      "source": [
        "##### Average Pooling layer (S4)"
      ]
    },
    {
      "cell_type": "markdown",
      "id": "9563c472",
      "metadata": {
        "id": "9563c472"
      },
      "source": [
        "* **Input size**: $10 x 10 x 1$\n",
        "* **Feature maps**: $16$\n",
        "* **Filter size**: $2x2x1$\n",
        "* **Stride**: $2$\n",
        "* **Padding**: $0$\n",
        "* **Output size**: $(5x5x1)$; $(10 - 2 + 2*0) \\ / \\ 2 + 1 = 5$\n",
        "* **Neurons**: $16 * (5x5x1) = 400$\n",
        "* **Trainable parameters**: $16 * (1 + 1) = 32$\n",
        "* **Total connections**: $16 * (2x2x1 + 1) * (5x5x1) = 2000$\n",
        "* **Activation function**: Tanh"
      ]
    },
    {
      "cell_type": "markdown",
      "id": "c7c1fc9c",
      "metadata": {
        "id": "c7c1fc9c"
      },
      "source": [
        "The down-sampling layer $S4$ reduces its input by a factor of 2 from $10x10x1$ down to $5x5x1$. The $16$ feature maps of size $10x10x1$ from $C3$ are pooled into $2x2x1$ units to obtain $16$ feature maps of size $5x5x1$.  "
      ]
    },
    {
      "cell_type": "markdown",
      "id": "1f28f69a",
      "metadata": {
        "id": "1f28f69a"
      },
      "source": [
        "##### Convolutional layer (C5)"
      ]
    },
    {
      "cell_type": "markdown",
      "id": "061e316d",
      "metadata": {
        "id": "061e316d"
      },
      "source": [
        "* **Input size**: $5 x 5 x 1$\n",
        "* **Feature maps**: $120$\n",
        "* **Kernel size**: $5 x 5 x 1$\n",
        "* **Stride**: $1$\n",
        "* **Padding**: $0$\n",
        "* **Output size**: $(1x1x1)$; $(5 - 5 + 2*0) \\ / \\ 1 + 1 = 1$\n",
        "* **Neurons**: $120 * (1x1x1) = 120$\n",
        "* **Trainable parameters**: $120 * (16x5x5x1 + 1) = 48120$\n",
        "* **Total connections**: $120 * (16x5x5x1) = 48000$\n",
        "* **Activation function**: Tanh"
      ]
    },
    {
      "cell_type": "markdown",
      "id": "50148929",
      "metadata": {
        "id": "50148929"
      },
      "source": [
        "Here the final convolutional layer $C5$ is considered to be fully-connected with respect to the input dimensionality of the digits images. For any other configuration (i.e., an increase in the number of channels, as with RGB images), we can expect this to be explicitly a convolutional layer. For the digits dataset, given a kernel size of $5x5x1$ and a corresponding output of layer $S4$ of size $5x5x1$, we obtain a fully-connected layer with $(1x1x1)$ feature map output dimensions. Therefore, we have $48120$ trainable parameters and $48000$ total connections in this last convolutional layer.  "
      ]
    },
    {
      "cell_type": "markdown",
      "id": "e7c574fd",
      "metadata": {
        "id": "e7c574fd"
      },
      "source": [
        "##### Fully-connected layer (F6)"
      ]
    },
    {
      "cell_type": "markdown",
      "id": "0818a69e",
      "metadata": {
        "id": "0818a69e"
      },
      "source": [
        "* **Input size**: $1 x 1 x 1$\n",
        "* **Feature maps**: N/A\n",
        "* **Kernel size**: N/A\n",
        "* **Stride**: N/A\n",
        "* **Padding**: N/A\n",
        "* **Output size**: $(1x1)$\n",
        "* **Neurons**: $84 * (1x1x1) = 84$\n",
        "* **Trainable parameters**: $84*(120x1x1 + 1) = 10164$\n",
        "* **Total connections**: $120 * (16x5x5x1) = 48000$\n",
        "* **Activation function**: Tanh"
      ]
    },
    {
      "cell_type": "markdown",
      "id": "e93aa4ef",
      "metadata": {
        "id": "e93aa4ef"
      },
      "source": [
        "The second-to-last layer in the LeNet-5 network is fully-connected to the convolutional layer $C5$; we can consider $F6$ to be a true fully-connected layer with $84$ units. Here the number of units for this layer was selected according to a $7x12$ bitmap representation corresponding to one of the $10$ character classes. This is considering that the representation used is not particularly useful for _isolated_ digits but rather _strings_ of characters selected from the printable ASCII set which tends to produce _confusable_ i.e., different characters with similar appearances (e.g., an upper/lower-case \"O\" and a zero, or an uppercase \"I\" and the digit 1)."
      ]
    },
    {
      "cell_type": "markdown",
      "id": "80d6b0b7",
      "metadata": {
        "id": "80d6b0b7"
      },
      "source": [
        "##### Output layer (OUTPUT or F7)"
      ]
    },
    {
      "cell_type": "markdown",
      "id": "b365343b",
      "metadata": {
        "id": "b365343b"
      },
      "source": [
        "* **Classes**: 10\n",
        "* **Output size**: $(10x1)$\n",
        "* **Neurons**: $84 * (1x1x1) = 84$\n",
        "* **Trainable parameters**: $84*(10x1x1 + 0) = 840$\n",
        "* **Total connections**: $10 * (84x1x1x1) = 840$\n",
        "* **Activation function**: RBF"
      ]
    },
    {
      "cell_type": "markdown",
      "id": "43c46e5d",
      "metadata": {
        "id": "43c46e5d"
      },
      "source": [
        "The final layer in the LeNet-5 is of course the classification output layer — a fully-connected layer composed of Euclidean Radial Basis Function units (RBF). There are 10 RBF units, one for each digit class, each with a set of 84 inputs. The output of each RBF unit is computed with a Euclidean distance summation between its input vector and its parameter vector. The Euclidean distance (L2 loss) serves as a penalty for the input and RBF digit class; the larger the RBF output, the farther away the input is from the parameter vector. The choice of L2 loss here greatly penalises outliers (distance \"away\" from parameter vectors). The RBF output can also be interpreted as the un-normalised negative log-likelihood of the Gaussian distribution of $F6$.\n",
        "\n",
        "In short, the parameter vectors of the RBF units act as target vectors for the $F6$ layer. The components of the parameter vectors are valued $+1$ or $-1$, which are points along the maximum curvature of the scaled _hyperbolic tangent_, i.e., [tanh](https://en.wikipedia.org/wiki/Hyperbolic_functions#Hyperbolic_tangent), or in other words — the re-scaled and shifted sigmoid activation function. Therefore, the RBF activation function is chosen for this output layer to enforce the maximally non-linear range of the tanh function applied to units in $F6$."
      ]
    },
    {
      "cell_type": "markdown",
      "id": "384c8474",
      "metadata": {
        "id": "384c8474"
      },
      "source": [
        "#### Reflecting on the LeNet-5"
      ]
    },
    {
      "cell_type": "markdown",
      "id": "cdc0f3ad",
      "metadata": {
        "id": "cdc0f3ad"
      },
      "source": [
        "##### Activation functions"
      ]
    },
    {
      "cell_type": "markdown",
      "id": "6f458176",
      "metadata": {
        "id": "6f458176"
      },
      "source": [
        "The tanh and sigmoid activation functions used in LeNet-5 have their downsides. As pointed out in the original paper by LeCun et al., 1998, the scaled tanh function presents issues with saturation at the maximum and minimum boundary points. This leads to [vanishing gradient problem](https://en.wikipedia.org/wiki/Vanishing_gradient_problem) as the derivatives of the function approach zero. Since we have a handful of hidden layers, the multiplication of these near-zero gradient values results in an exponential decrease in the gradient as it is propagated from the final to the initial layer.\n",
        "\n",
        "ReLu or Leaky ReLu are more often used nowadays to address this. ReLU imposes a lower-bound for gradient values at $0$. This handles the vanishing gradient problem by eliminating saturation at very small gradient values — their values simply become zero, ultimately encourages sparsity in the learned representations [3]. Yet in some cases, ReLU may end up always returning the lower-bound ($0$) for any input. The [dying ReLU problem](https://www.educative.io/answers/what-is-the-dying-relu-problem) is the result of zero-valued gradient propagations and a high learning rate or a large negative bias could be at fault. To mitigate this, the [Leaky ReLU](https://www.tensorflow.org/api_docs/python/tf/keras/layers/LeakyReLU) is used which does not produce zero-valued gradients."
      ]
    },
    {
      "cell_type": "markdown",
      "id": "eeb3b264",
      "metadata": {
        "id": "eeb3b264"
      },
      "source": [
        "## 2. Programming Task"
      ]
    },
    {
      "cell_type": "markdown",
      "id": "8a92cf7b",
      "metadata": {
        "id": "8a92cf7b"
      },
      "source": [
        "Using the Keras API, you have to create a small convolutional neural networks using less than 15 layers, containing at least one convolutional layer, one pooling layer and one dense (fully connected layer). You can find a list of the different layers available [here](https://www.tensorflow.org/api_docs/python/tf/keras/layers)."
      ]
    },
    {
      "cell_type": "code",
      "execution_count": 14,
      "id": "83d6a81d",
      "metadata": {
        "id": "83d6a81d"
      },
      "outputs": [],
      "source": [
        "model_params = defaultdict(dict)"
      ]
    },
    {
      "cell_type": "markdown",
      "id": "069cea3b",
      "metadata": {
        "id": "069cea3b"
      },
      "source": [
        "### 2.1. LeNet-5"
      ]
    },
    {
      "cell_type": "markdown",
      "id": "7a69ba1b",
      "metadata": {
        "id": "7a69ba1b"
      },
      "source": [
        "#### Defining the model architecture"
      ]
    },
    {
      "cell_type": "code",
      "execution_count": 12,
      "id": "4a64f8ef",
      "metadata": {
        "id": "4a64f8ef"
      },
      "outputs": [],
      "source": [
        "### From Udacity's `training.py`"
      ]
    },
    {
      "cell_type": "code",
      "execution_count": 13,
      "id": "a7e59f0b",
      "metadata": {
        "id": "a7e59f0b"
      },
      "outputs": [],
      "source": [
        "def create_lenet_network(input_shape: Tuple[int], \n",
        "                         output_shape: int) -> tf.keras.Sequential:\n",
        "    \"\"\"Creates the LeNet-5 network (LeCun et al., 1998).\n",
        "    \n",
        "    :param input_shape: tuple, the n-dimensional shape of the input images.\n",
        "    :param: output_shape: tuple, the 1D shape corresponding to number of\n",
        "        distinct classes to predict.\n",
        "    :returns: the LeNet-5 Model object.\n",
        "    \"\"\"\n",
        "    # IMPLEMENT THIS FUNCTION\n",
        "    \n",
        "    model = tf.keras.Sequential(layers=[\n",
        "        # The C1 (convolutional) layer\n",
        "        tf.keras.layers.Conv2D(\n",
        "                input_shape=input_shape,    # Shape of the input images\n",
        "                filters=6, \n",
        "                kernel_size=(5, 5), \n",
        "                strides=(1, 1), \n",
        "                padding='valid',            # No padding\n",
        "                activation='tanh',\n",
        "                name='C1'\n",
        "        ),\n",
        "        # The S2 (sub-sampling) layer\n",
        "        tf.keras.layers.AveragePooling2D(\n",
        "                pool_size=(2, 2),\n",
        "                strides=(2, 2),\n",
        "                padding='valid',\n",
        "                name='S2'\n",
        "        ),\n",
        "        tf.keras.layers.Activation(\n",
        "                activation=tf.keras.activations.sigmoid,\n",
        "                name='Sigmoid_1'\n",
        "        ),\n",
        "        # The C3 (convolutional) layer\n",
        "        tf.keras.layers.Conv2D(\n",
        "                filters=16,\n",
        "                kernel_size=(5, 5),\n",
        "                strides=(1, 1),\n",
        "                padding='valid',\n",
        "                activation='tanh',\n",
        "                name='C3'\n",
        "        ),\n",
        "        # The S4 (sub-sampling) layer\n",
        "        tf.keras.layers.AveragePooling2D(\n",
        "                pool_size=(2, 2),\n",
        "                strides=(2, 2),\n",
        "                padding='valid',\n",
        "                name='S4'\n",
        "        ),\n",
        "        tf.keras.layers.Activation(\n",
        "                activation=tf.keras.activations.sigmoid,\n",
        "                name='Sigmoid_2'\n",
        "        ),\n",
        "        # The C5 (convolutional) layer\n",
        "        tf.keras.layers.Conv2D(\n",
        "                filters=120,\n",
        "                kernel_size=(5, 5),\n",
        "                strides=(1, 1),\n",
        "                padding='valid',\n",
        "                activation='tanh',\n",
        "                name='C5'\n",
        "        ),\n",
        "        # The Flatten layer\n",
        "        tf.keras.layers.Flatten(),\n",
        "        # The F6 (fully-connected) layer\n",
        "        tf.keras.layers.Dense(\n",
        "                units=84,\n",
        "                activation='tanh',\n",
        "                name='F6'\n",
        "        ),\n",
        "        # The F7 (Output) layer\n",
        "        tf.keras.layers.Dense(\n",
        "                units=output_shape,\n",
        "                activation='softmax',\n",
        "                name='Output'\n",
        "        )\n",
        "    ], name=MODEL_NAME)\n",
        "    return model"
      ]
    },
    {
      "cell_type": "markdown",
      "id": "eaca5b56",
      "metadata": {
        "id": "eaca5b56"
      },
      "source": [
        "#### Defining the model build parameters"
      ]
    },
    {
      "cell_type": "code",
      "execution_count": 13,
      "id": "efd8e50f",
      "metadata": {
        "id": "efd8e50f"
      },
      "outputs": [],
      "source": [
        "### Defining our model parameters"
      ]
    },
    {
      "cell_type": "code",
      "execution_count": 14,
      "id": "e258a733",
      "metadata": {
        "id": "e258a733"
      },
      "outputs": [],
      "source": [
        "model_name = 'LeNet-5'\n",
        "optimizer = 'adam'\n",
        "loss = tf.keras.losses.SparseCategoricalCrossentropy(from_logits=False)\n",
        "metrics = ['accuracy']"
      ]
    },
    {
      "cell_type": "code",
      "execution_count": 15,
      "id": "e7fd7ad4",
      "metadata": {
        "id": "e7fd7ad4"
      },
      "outputs": [],
      "source": [
        "model_params[model_name].update({'optimizer': optimizer})\n",
        "model_params[model_name].update({'loss_fn': loss})\n",
        "model_params[model_name].update({'metrics': metrics})"
      ]
    },
    {
      "cell_type": "markdown",
      "id": "87214c8e",
      "metadata": {
        "id": "87214c8e"
      },
      "source": [
        "### 2.2. Custom CNN"
      ]
    },
    {
      "cell_type": "markdown",
      "id": "fdb05f10",
      "metadata": {
        "id": "fdb05f10"
      },
      "source": [
        "You should experiment with different designs (number of layers, types of pooling, filter sizes, number of fully connected layers, number of neurons)."
      ]
    },
    {
      "cell_type": "markdown",
      "source": [
        "The following Custom CNN architecture was adapted from Zaibi et al., 2021 [4], a lightweight CNN architecture inspired by the LeNet-5. This model has demonstrated success on the German Traffic Sign Recognition Benchmark (GTSRB) dataset and was selected for its lightweight architecture which can be trained on a CPU in a very short amount of time (under 2 minutes on this Google Colab instance)."
      ],
      "metadata": {
        "id": "90KD-HTCW0vu"
      },
      "id": "90KD-HTCW0vu"
    },
    {
      "cell_type": "markdown",
      "source": [
        "#### Defining the model architecture"
      ],
      "metadata": {
        "id": "-glzESERhAa1"
      },
      "id": "-glzESERhAa1"
    },
    {
      "cell_type": "code",
      "execution_count": 10,
      "id": "81a3f069",
      "metadata": {
        "id": "81a3f069"
      },
      "outputs": [],
      "source": [
        "### From Udacity's `training.py`"
      ]
    },
    {
      "cell_type": "code",
      "execution_count": 11,
      "metadata": {
        "id": "QuWcqFwAdsne"
      },
      "outputs": [],
      "source": [
        "def create_custom_network(\n",
        "    input_shape: Tuple[int], output_shape: int, model_name: str='CustomModel'\n",
        ")-> tf.keras.Sequential:\n",
        "    \"\"\"Creates a modified LeNet-5 network (Zaibi et al., 2021).\n",
        "    \n",
        "    :param input_shape: tuple, the n-dimensional shape of the input images.\n",
        "    :param: output_shape: tuple, the 1D shape corresponding to number of\n",
        "        distinct classes to predict.\n",
        "    :returns: the modified LeNet-5 Model object.\n",
        "    \"\"\"\n",
        "    # IMPLEMENT THIS FUNCTION\n",
        "    \n",
        "    model = tf.keras.Sequential(layers=[\n",
        "        # The C1 (convolutional) layer\n",
        "        tf.keras.layers.Conv2D(\n",
        "                input_shape=input_shape,\n",
        "                filters=60, \n",
        "                kernel_size=(5,5), \n",
        "                strides=(1, 1), \n",
        "                padding='valid',\n",
        "                activation=tf.keras.layers.LeakyReLU(alpha=0.01),\n",
        "                name='C1'\n",
        "        ),\n",
        "        # The C2 (convolutional) layer\n",
        "        tf.keras.layers.Conv2D(\n",
        "                filters=60, \n",
        "                kernel_size=(5, 5), \n",
        "                strides=(1,1), \n",
        "                padding='valid',\n",
        "                activation=tf.keras.layers.LeakyReLU(alpha=0.01),\n",
        "                name='C2'\n",
        "        ),\n",
        "        # The Bn3 (Batch Normalization) layer\n",
        "        tf.keras.layers.BatchNormalization(\n",
        "                name='Bn3'\n",
        "        ),\n",
        "        # The M4 (Max Pooling) layer\n",
        "        tf.keras.layers.MaxPool2D(\n",
        "                pool_size=(2, 2),\n",
        "                strides=(2, 2),\n",
        "                padding='valid',\n",
        "                name='M4'\n",
        "        ),\n",
        "        # The C5 (convolutional) layer\n",
        "        tf.keras.layers.Conv2D(\n",
        "                filters=30, \n",
        "                kernel_size=(3, 3), \n",
        "                strides=(1, 1), \n",
        "                padding='valid',\n",
        "                activation=tf.keras.layers.LeakyReLU(alpha=0.01),\n",
        "                name='C5'\n",
        "        ),\n",
        "        # The C6 (convolutional) layer\n",
        "        tf.keras.layers.Conv2D(\n",
        "                filters=30, \n",
        "                kernel_size=(3, 3), \n",
        "                strides=(1, 1), \n",
        "                padding='valid',\n",
        "                activation=tf.keras.layers.LeakyReLU(alpha=0.01),\n",
        "                name='C6'\n",
        "        ),\n",
        "        # The M7 (Max Pooling) layer\n",
        "        tf.keras.layers.MaxPool2D(\n",
        "                pool_size=(2, 2),\n",
        "                strides=(2, 2),\n",
        "                padding='valid',\n",
        "                name='M7'\n",
        "        ),\n",
        "        # The D8 (Dropout regularization) layer\n",
        "        tf.keras.layers.Dropout(\n",
        "                rate=0.5,\n",
        "                name='D8'\n",
        "        ),\n",
        "        # The Flatten layer\n",
        "        tf.keras.layers.Flatten(),\n",
        "        # The F9 (fully-connected) layer\n",
        "        tf.keras.layers.Dense(\n",
        "                units=500,\n",
        "                activation=tf.keras.layers.LeakyReLU(alpha=0.01),\n",
        "                name='F9'\n",
        "        ),\n",
        "        # The Bn10 (Batch Normalization) layer\n",
        "        tf.keras.layers.BatchNormalization(\n",
        "                name='Bn10'\n",
        "        ),\n",
        "        # The D11 (Dropout regularization) layer\n",
        "        tf.keras.layers.Dropout(\n",
        "                rate=0.5,\n",
        "                name='D11'\n",
        "        ),\n",
        "        # The F12 (Output) layer\n",
        "        tf.keras.layers.Dense(\n",
        "                units=output_shape,\n",
        "                activation='softmax',\n",
        "                name='Output'\n",
        "        )\n",
        "    ], name=model_name)\n",
        "    return model"
      ],
      "id": "QuWcqFwAdsne"
    },
    {
      "cell_type": "markdown",
      "source": [
        "#### Defining the model build parameters"
      ],
      "metadata": {
        "id": "vYSt_-h1UFW9"
      },
      "id": "vYSt_-h1UFW9"
    },
    {
      "cell_type": "code",
      "source": [
        "model_name = 'Custom_LeNet-5'\n",
        "optimizer = tf.keras.optimizers.Adadelta(learning_rate=1.0)\n",
        "loss = tf.keras.losses.SparseCategoricalCrossentropy(from_logits=False)\n",
        "metrics = ['accuracy']"
      ],
      "metadata": {
        "id": "6FD8d49XUCHZ"
      },
      "id": "6FD8d49XUCHZ",
      "execution_count": 12,
      "outputs": []
    },
    {
      "cell_type": "code",
      "source": [
        "model_params[model_name].update({'optimizer': optimizer})\n",
        "model_params[model_name].update({'loss_fn': loss})\n",
        "model_params[model_name].update({'metrics': metrics})"
      ],
      "metadata": {
        "id": "KorPDcg1UB2I"
      },
      "id": "KorPDcg1UB2I",
      "execution_count": 15,
      "outputs": []
    },
    {
      "cell_type": "markdown",
      "id": "031da250",
      "metadata": {
        "id": "031da250"
      },
      "source": [
        "### 2.3. Training and validation"
      ]
    },
    {
      "cell_type": "markdown",
      "id": "b079a6d0",
      "metadata": {
        "id": "b079a6d0"
      },
      "source": [
        "The following helper functions are used for the training and validation loops."
      ]
    },
    {
      "cell_type": "code",
      "execution_count": 18,
      "id": "303a7673",
      "metadata": {
        "id": "303a7673"
      },
      "outputs": [],
      "source": [
        "### From Udacity's `utils.py`"
      ]
    },
    {
      "cell_type": "code",
      "execution_count": 19,
      "id": "60ed051a",
      "metadata": {
        "id": "60ed051a"
      },
      "outputs": [],
      "source": [
        "def get_module_logger(mod_name: str) -> logging.Logger:\n",
        "    \"\"\"Initialises a console logger instance.\n",
        "    \n",
        "    :param mod_name: the model name to assign to the logger.\n",
        "    :returns: a logger instance.\n",
        "    \"\"\"\n",
        "    \n",
        "    ### Setting up the console logger and formatter\n",
        "    logger = logging.getLogger(mod_name)\n",
        "    handler = logging.StreamHandler()\n",
        "    formatter = logging.Formatter('%(asctime)s %(levelname)-8s %(message)s')\n",
        "    handler.setFormatter(formatter)\n",
        "    logger.addHandler(handler)\n",
        "    logger.setLevel(logging.DEBUG)\n",
        "    ### Prevent messages going to root handler\n",
        "    logger.propagate = False\n",
        "    return logger"
      ]
    },
    {
      "cell_type": "code",
      "execution_count": 20,
      "id": "32c84a6b",
      "metadata": {
        "id": "32c84a6b"
      },
      "outputs": [],
      "source": [
        "def display_metrics(history: tf.keras.callbacks.History):\n",
        "    \"\"\"Plots the per-epoch loss and accuracy metrics.\n",
        "    \n",
        "    :param history: the Keras `callbacks.History` object.\n",
        "    \"\"\"\n",
        "    \n",
        "    f, ax = plt.subplots(1, 2, figsize=(15, 5))\n",
        "    ax[0].plot(history.history['loss'], linewidth=3)\n",
        "    ax[0].plot(history.history['val_loss'], linewidth=3)\n",
        "    ax[0].set_title('Loss', fontsize=16)\n",
        "    ax[0].set_ylabel('Loss', fontsize=16)\n",
        "    ax[0].set_xlabel('Epoch', fontsize=16)\n",
        "    ax[0].legend(['train loss', 'val loss'], loc='upper right')\n",
        "    ax[1].plot(history.history['accuracy'], linewidth=3)\n",
        "    ax[1].plot(history.history['val_accuracy'], linewidth=3)\n",
        "    ax[1].set_title('Accuracy', fontsize=16)\n",
        "    ax[1].set_ylabel('Accuracy', fontsize=16)\n",
        "    ax[1].set_xlabel('Epoch', fontsize=16)\n",
        "    ax[1].legend(['train acc', 'val acc'], loc='upper left')\n",
        "    plt.show()"
      ]
    },
    {
      "cell_type": "markdown",
      "id": "25c2ecf6",
      "metadata": {
        "id": "25c2ecf6"
      },
      "source": [
        "### 2.3. Evaluation on the modified MNIST digits dataset"
      ]
    },
    {
      "cell_type": "code",
      "execution_count": 21,
      "id": "ad93743d",
      "metadata": {
        "id": "ad93743d"
      },
      "outputs": [],
      "source": [
        "DATASET_NAME = 'MNIST'"
      ]
    },
    {
      "cell_type": "markdown",
      "source": [
        "#### Fetching the modified MNIST data"
      ],
      "metadata": {
        "id": "5XcI-_cwdY0N"
      },
      "id": "5XcI-_cwdY0N"
    },
    {
      "cell_type": "code",
      "source": [
        "### Specifying the validation/test split percentages\n",
        "VAL_PERCENT = 25\n",
        "TEST_PERCENT = 75"
      ],
      "metadata": {
        "id": "T4dMdK6zIeeQ"
      },
      "id": "T4dMdK6zIeeQ",
      "execution_count": 22,
      "outputs": []
    },
    {
      "cell_type": "code",
      "source": [
        "### Specifying the desired batch size\n",
        "BATCH_SIZE = 128\n",
        "model_params[DATASET_NAME].update({'batch_size': BATCH_SIZE})"
      ],
      "metadata": {
        "id": "4i4wlqwgtYHr"
      },
      "id": "4i4wlqwgtYHr",
      "execution_count": 23,
      "outputs": []
    },
    {
      "cell_type": "code",
      "source": [
        "### Fetching the MNIST digits dataset (hosted by TensorFlow)\n",
        "# See: https://www.tensorflow.org/datasets/catalog/mnist"
      ],
      "metadata": {
        "id": "eomSJ38DZDuq"
      },
      "id": "eomSJ38DZDuq",
      "execution_count": 24,
      "outputs": []
    },
    {
      "cell_type": "code",
      "source": [
        "digits_data, digits_info = tfds.load(DATASET_NAME,\n",
        "                                     batch_size=BATCH_SIZE,\n",
        "                                     split=['train', \n",
        "                                            'test[{}%:]'.format(VAL_PERCENT),\n",
        "                                            'test[:{}%]'.format(TEST_PERCENT)\n",
        "                                     ],\n",
        "                                     shuffle_files=True, \n",
        "                                     with_info=True\n",
        ")"
      ],
      "metadata": {
        "id": "NHuM93bLZX1G"
      },
      "id": "NHuM93bLZX1G",
      "execution_count": 25,
      "outputs": []
    },
    {
      "cell_type": "markdown",
      "id": "205af274",
      "metadata": {
        "id": "205af274"
      },
      "source": [
        "#### Considerations for our input data"
      ]
    },
    {
      "cell_type": "code",
      "source": [
        "### Viewing the dataset metadata attributes\n",
        "digits_info"
      ],
      "metadata": {
        "colab": {
          "base_uri": "https://localhost:8080/"
        },
        "id": "iL8FVN_Ga7YN",
        "outputId": "e68e40c4-ae9d-451c-b99c-6b97bb1b6ece"
      },
      "id": "iL8FVN_Ga7YN",
      "execution_count": 26,
      "outputs": [
        {
          "output_type": "execute_result",
          "data": {
            "text/plain": [
              "tfds.core.DatasetInfo(\n",
              "    name='mnist',\n",
              "    full_name='mnist/3.0.1',\n",
              "    description=\"\"\"\n",
              "    The MNIST database of handwritten digits.\n",
              "    \"\"\",\n",
              "    homepage='http://yann.lecun.com/exdb/mnist/',\n",
              "    data_path='~/tensorflow_datasets/mnist/3.0.1',\n",
              "    file_format=tfrecord,\n",
              "    download_size=11.06 MiB,\n",
              "    dataset_size=21.00 MiB,\n",
              "    features=FeaturesDict({\n",
              "        'image': Image(shape=(28, 28, 1), dtype=tf.uint8),\n",
              "        'label': ClassLabel(shape=(), dtype=tf.int64, num_classes=10),\n",
              "    }),\n",
              "    supervised_keys=('image', 'label'),\n",
              "    disable_shuffling=False,\n",
              "    splits={\n",
              "        'test': <SplitInfo num_examples=10000, num_shards=1>,\n",
              "        'train': <SplitInfo num_examples=60000, num_shards=1>,\n",
              "    },\n",
              "    citation=\"\"\"@article{lecun2010mnist,\n",
              "      title={MNIST handwritten digit database},\n",
              "      author={LeCun, Yann and Cortes, Corinna and Burges, CJ},\n",
              "      journal={ATT Labs [Online]. Available: http://yann.lecun.com/exdb/mnist},\n",
              "      volume={2},\n",
              "      year={2010}\n",
              "    }\"\"\",\n",
              ")"
            ]
          },
          "metadata": {},
          "execution_count": 26
        }
      ]
    },
    {
      "cell_type": "code",
      "execution_count": 27,
      "id": "d3b5c0cb",
      "metadata": {
        "colab": {
          "base_uri": "https://localhost:8080/"
        },
        "id": "d3b5c0cb",
        "outputId": "2ee6e5a9-dc19-4db2-cb45-e9ba41c7e5ab"
      },
      "outputs": [
        {
          "output_type": "stream",
          "name": "stdout",
          "text": [
            "Nr. classes in MNIST: 10\n"
          ]
        }
      ],
      "source": [
        "# MNIST has 10 distinct digit classes\n",
        "N_CLASSES = digits_info.features['label'].num_classes\n",
        "print('Nr. classes in MNIST:', N_CLASSES)"
      ]
    },
    {
      "cell_type": "code",
      "execution_count": 28,
      "id": "e2128b77",
      "metadata": {
        "id": "e2128b77"
      },
      "outputs": [],
      "source": [
        "### Fetching our input image specs"
      ]
    },
    {
      "cell_type": "code",
      "execution_count": 29,
      "id": "d3ecf0c8",
      "metadata": {
        "id": "d3ecf0c8"
      },
      "outputs": [],
      "source": [
        "IMG_COLOR_MODE = 'grayscale'\n",
        "IMG_SHAPE = digits_info.features['image'].shape\n",
        "IMG_SIZE = IMG_SHAPE[:2]"
      ]
    },
    {
      "cell_type": "code",
      "source": [
        "print('MNIST:', digits_info.features['image'])"
      ],
      "metadata": {
        "colab": {
          "base_uri": "https://localhost:8080/"
        },
        "id": "3AK2tWzOaMSV",
        "outputId": "74eef598-7a33-4c98-aa6c-d9d7f092b26a"
      },
      "id": "3AK2tWzOaMSV",
      "execution_count": 30,
      "outputs": [
        {
          "output_type": "stream",
          "name": "stdout",
          "text": [
            "MNIST: Image(shape=(28, 28, 1), dtype=tf.uint8)\n"
          ]
        }
      ]
    },
    {
      "cell_type": "markdown",
      "source": [
        "**Note**: the LeNet-5 network expects $32x32$ px grayscale images as input. We will fix this by padding our images to the expected size."
      ],
      "metadata": {
        "id": "gOYJHL-3aKTE"
      },
      "id": "gOYJHL-3aKTE"
    },
    {
      "cell_type": "code",
      "execution_count": 31,
      "id": "3bcc3e2a",
      "metadata": {
        "id": "3bcc3e2a"
      },
      "outputs": [],
      "source": [
        "model_params[DATASET_NAME].update({'image_size': IMG_SIZE})\n",
        "model_params[DATASET_NAME].update({'color_mode': IMG_COLOR_MODE})\n",
        "model_params[DATASET_NAME].update({'input_shape': IMG_SHAPE})\n",
        "model_params[DATASET_NAME].update({'n_classes': N_CLASSES})"
      ]
    },
    {
      "cell_type": "markdown",
      "id": "34eca184",
      "metadata": {
        "id": "34eca184"
      },
      "source": [
        "#### Processing the image data"
      ]
    },
    {
      "cell_type": "code",
      "source": [
        "### Number of features (pixel values) in a single image\n",
        "len(iter(digits_data[0]).get_next()['image'][0].numpy().flatten())"
      ],
      "metadata": {
        "colab": {
          "base_uri": "https://localhost:8080/"
        },
        "id": "Cd62E5aRd0Jp",
        "outputId": "2bac3d76-1529-4a18-8eea-4da8b0e83d32"
      },
      "id": "Cd62E5aRd0Jp",
      "execution_count": 32,
      "outputs": [
        {
          "output_type": "execute_result",
          "data": {
            "text/plain": [
              "784"
            ]
          },
          "metadata": {},
          "execution_count": 32
        }
      ]
    },
    {
      "cell_type": "markdown",
      "source": [
        "##### Defining the preprocessing functions"
      ],
      "metadata": {
        "id": "AW7Nlzx9YULn"
      },
      "id": "AW7Nlzx9YULn"
    },
    {
      "cell_type": "code",
      "source": [
        "### From J. Moran's `2022-09-07-Pooling-Layers-Convolutional-Neural-Networks.ipynb`"
      ],
      "metadata": {
        "id": "aJS9K8tOvHZ3"
      },
      "id": "aJS9K8tOvHZ3",
      "execution_count": 33,
      "outputs": []
    },
    {
      "cell_type": "code",
      "source": [
        "def get_paddings(input_tensor: tf.Tensor, output_shape: Tuple[int, int, int], \n",
        "                 pool_size: int, pool_stride: int) -> List[List[int]]:\n",
        "    \"\"\"Returns the range of values to pad on each edge using TensorFlow.\n",
        "    \n",
        "    Computes the padding amounts along each dimension such that the\n",
        "    spatial dimensionality of the input is preserved (akin to the\n",
        "    TensorFlow Keras `padding=\"same\"` argument). Note that the input\n",
        "    is a 4-dimensional array but we computing only the padding amounts \n",
        "    for the 2D image surface (the width and height axes).\n",
        "\n",
        "    For more information on the TensorFlow `pad()` function, see:\n",
        "    https://www.tensorflow.org/api_docs/python/tf/pad\n",
        "    \n",
        "    :param array: tf.Tensor, the input data of dimensions [NxWxHxC], \n",
        "        i.e., [n_samples x width x height x n_channels].\n",
        "    :param pool_size: int, the symmetric kernel window dimension.\n",
        "    :param pool_stride: int, the amount to displace the kernel window\n",
        "        in the horizontal and vertical direction (symmetric).\n",
        "    :returns: paddings, the TensorFlow `paddings` padding sequences.\n",
        "    \"\"\"\n",
        "    \n",
        "    wpad = None\n",
        "    hpad = None\n",
        "    # Get the per-sample input dimensions\n",
        "    _, w, h, _ = tf.shape(input_tensor).numpy()\n",
        "    # Set the desired output shape\n",
        "    _, w_out, h_out, _ = output_shape\n",
        "    # Compute the padding dimensions\n",
        "    wpad = (pool_stride * w_out - w + pool_size - pool_stride) // 2\n",
        "    hpad = (pool_stride * h_out - h + pool_size - pool_stride) // 2\n",
        "    # Return the range of values to pad along each dimension\n",
        "    # [n_samples, width, height, n_channels]\n",
        "    return [[0, 0], [0, wpad], [0, hpad], [0, 0]]"
      ],
      "metadata": {
        "id": "IrcN4QPcvGgb"
      },
      "id": "IrcN4QPcvGgb",
      "execution_count": 34,
      "outputs": []
    },
    {
      "cell_type": "code",
      "source": [
        "### From J. Moran's `2022-09-05-Image-Classification-Feed-Forward-Neural-Networks.ipynb`"
      ],
      "metadata": {
        "id": "PkngCaIlYJ_O"
      },
      "id": "PkngCaIlYJ_O",
      "execution_count": 35,
      "outputs": []
    },
    {
      "cell_type": "code",
      "source": [
        "def process(dataset: tf.data.Dataset) -> Generator[tuple, None, None]:\n",
        "    \"\"\"Processes the input dataset and returns a generator object.\n",
        "\n",
        "    :param dataset: the tf.data.Dataset instance of batched image, label data.\n",
        "    :returns: the generator instance modifying the image attribute values.\n",
        "    \"\"\"\n",
        "\n",
        "    def process_generator() -> Iterator[Tuple[tf.Tensor, tf.Tensor]]:\n",
        "        \"\"\"Zero-pads and scales the input images.\n",
        "        \n",
        "        All images in each batch are padded according to the pre-computed\n",
        "        pad widths. All pixel values are scaled in the range [0, 1].\n",
        "\n",
        "        Note that the input dataset is expected to contain images with a \n",
        "        consistent (equal) shape, e.g., (28, 28, 1). This function also \n",
        "        assumes a zero-padding configuration. If your dataset contains images\n",
        "        with inconsistent dimensions, and you want to use zero-padding,\n",
        "        an easier technique is a `tf.bitwise_or` with a zero-valued mask of\n",
        "        dimensions equal to your desired output dataset.\n",
        "\n",
        "        :returns: an iterator yielding the modfied images and labels.\n",
        "        \"\"\"\n",
        "\n",
        "        for batch in dataset:\n",
        "            # Padding the input image to 32x32 resolution\n",
        "            images = tf.pad(batch['image'],\n",
        "                            paddings=PADDINGS,\n",
        "                            mode='CONSTANT',\n",
        "                            constant_values=tf.constant(\n",
        "                                value=PADDING_VALUE,\n",
        "                                dtype=digits_info.features['image'].dtype\n",
        "                            )\n",
        "            )\n",
        "            # Scaling the image data in range [0, 1]\n",
        "            images = tf.cast(images / 255, \n",
        "                             dtype=tf.dtypes.float32\n",
        "            )\n",
        "            yield images, batch['label']\n",
        "    return process_generator"
      ],
      "metadata": {
        "id": "pHUHjhxeYJbn"
      },
      "id": "pHUHjhxeYJbn",
      "execution_count": 36,
      "outputs": []
    },
    {
      "cell_type": "markdown",
      "source": [
        "##### Preprocessing the dataset"
      ],
      "metadata": {
        "id": "-m6Gxk2TYg04"
      },
      "id": "-m6Gxk2TYg04"
    },
    {
      "cell_type": "code",
      "source": [
        "### Setting the desired shape after padding\n",
        "IMG_SHAPE_PADDED = (None, 32, 32, 1)"
      ],
      "metadata": {
        "id": "n8c94BKTUQby"
      },
      "id": "n8c94BKTUQby",
      "execution_count": 37,
      "outputs": []
    },
    {
      "cell_type": "code",
      "source": [
        "### Computing the padding amounts for each axis\n",
        "# Assuming our dataset image sizes are consistent\n",
        "# Here we use the first LeNet-5 layer (C1) parameters"
      ],
      "metadata": {
        "id": "9HVnc8fozt4x"
      },
      "id": "9HVnc8fozt4x",
      "execution_count": 38,
      "outputs": []
    },
    {
      "cell_type": "code",
      "source": [
        "PADDINGS = get_paddings(input_tensor=iter(digits_data[0]).get_next()['image'],\n",
        "                        output_shape=IMG_SHAPE_PADDED,\n",
        "                        pool_size=5,\n",
        "                        pool_stride=1\n",
        ")\n",
        "print('Paddings:', PADDINGS)"
      ],
      "metadata": {
        "colab": {
          "base_uri": "https://localhost:8080/"
        },
        "id": "03WeNLxOXzAB",
        "outputId": "65813fc2-d9d5-49dc-ae29-79d54e4e879a"
      },
      "id": "03WeNLxOXzAB",
      "execution_count": 39,
      "outputs": [
        {
          "output_type": "stream",
          "name": "stdout",
          "text": [
            "Paddings: [[0, 0], [0, 4], [0, 4], [0, 0]]\n"
          ]
        }
      ]
    },
    {
      "cell_type": "code",
      "source": [
        "### Setting the scalar value to pad the image arrays with\n",
        "PADDING_VALUE = 0"
      ],
      "metadata": {
        "id": "4J46xGpHOryg"
      },
      "id": "4J46xGpHOryg",
      "execution_count": 40,
      "outputs": []
    },
    {
      "cell_type": "code",
      "source": [
        "### Updating the model parameters"
      ],
      "metadata": {
        "id": "CRGj1HMQX_aT"
      },
      "id": "CRGj1HMQX_aT",
      "execution_count": 41,
      "outputs": []
    },
    {
      "cell_type": "code",
      "source": [
        "model_params[DATASET_NAME].update({'image_size_padded': IMG_SHAPE_PADDED[:2]})\n",
        "model_params[DATASET_NAME].update({'input_shape_padded': IMG_SHAPE_PADDED})\n",
        "model_params[DATASET_NAME].update({'paddings': PADDINGS})\n",
        "model_params[DATASET_NAME].update({'padding_value': PADDING_VALUE})"
      ],
      "metadata": {
        "id": "uAkq7E7LVDIh"
      },
      "id": "uAkq7E7LVDIh",
      "execution_count": 42,
      "outputs": []
    },
    {
      "cell_type": "code",
      "execution_count": 43,
      "id": "645f2170",
      "metadata": {
        "id": "645f2170"
      },
      "outputs": [],
      "source": [
        "### Unpacking the train/validation/test subsets"
      ]
    },
    {
      "cell_type": "code",
      "source": [
        "train_data, val_data, test_data = digits_data"
      ],
      "metadata": {
        "id": "Na9OuD0McxtE"
      },
      "id": "Na9OuD0McxtE",
      "execution_count": 44,
      "outputs": []
    },
    {
      "cell_type": "markdown",
      "source": [
        "###### Using a generator function"
      ],
      "metadata": {
        "id": "6cC8zlT6fWp3"
      },
      "id": "6cC8zlT6fWp3"
    },
    {
      "cell_type": "code",
      "source": [
        "train_dataset_processed = tf.data.Dataset.from_generator(\n",
        "        generator=process(train_data), \n",
        "        output_signature=(\n",
        "            tf.TensorSpec(\n",
        "                shape=model_params[DATASET_NAME].get('input_shape_padded', None),\n",
        "                dtype=tf.dtypes.float32\n",
        "            ), \n",
        "            tf.TensorSpec(\n",
        "                shape=(None, *digits_info.features['label'].shape), \n",
        "                dtype=digits_info.features['label'].dtype\n",
        "            )\n",
        "        )\n",
        ")"
      ],
      "metadata": {
        "id": "65RQCLVHNrkW"
      },
      "id": "65RQCLVHNrkW",
      "execution_count": 45,
      "outputs": []
    },
    {
      "cell_type": "code",
      "execution_count": 46,
      "id": "a3892eb9",
      "metadata": {
        "id": "a3892eb9"
      },
      "outputs": [],
      "source": [
        "validation_dataset_processed = tf.data.Dataset.from_generator(\n",
        "        generator=process(val_data), \n",
        "        output_signature=(\n",
        "            tf.TensorSpec(\n",
        "                shape=model_params[DATASET_NAME].get('input_shape_padded', None),\n",
        "                dtype=tf.dtypes.float32\n",
        "            ), \n",
        "            tf.TensorSpec(\n",
        "                shape=(None, *digits_info.features['label'].shape), \n",
        "                dtype=digits_info.features['label'].dtype\n",
        "            )\n",
        "        )\n",
        ")"
      ]
    },
    {
      "cell_type": "code",
      "source": [
        "test_dataset_processed = tf.data.Dataset.from_generator(\n",
        "        generator=process(test_data), \n",
        "        output_signature=(\n",
        "            tf.TensorSpec(\n",
        "                shape=model_params[DATASET_NAME].get('input_shape_padded', None),\n",
        "                dtype=tf.dtypes.float32\n",
        "            ), \n",
        "            tf.TensorSpec(\n",
        "                shape=(None, *digits_info.features['label'].shape), \n",
        "                dtype=digits_info.features['label'].dtype\n",
        "            )\n",
        "        )\n",
        ")"
      ],
      "metadata": {
        "id": "p5tKPe_9dAIx"
      },
      "id": "p5tKPe_9dAIx",
      "execution_count": 47,
      "outputs": []
    },
    {
      "cell_type": "code",
      "source": [
        "### Previewing the first scaled and padded image in test set"
      ],
      "metadata": {
        "id": "oRDQLg1xP3hS"
      },
      "id": "oRDQLg1xP3hS",
      "execution_count": 48,
      "outputs": []
    },
    {
      "cell_type": "code",
      "source": [
        "iter(test_dataset_processed).get_next()[0][0]"
      ],
      "metadata": {
        "colab": {
          "base_uri": "https://localhost:8080/"
        },
        "id": "GZT3X-CrO2tj",
        "outputId": "a26a8d20-990a-4e4f-99c2-b1e41c0a4f64"
      },
      "id": "GZT3X-CrO2tj",
      "execution_count": 49,
      "outputs": [
        {
          "output_type": "execute_result",
          "data": {
            "text/plain": [
              "<tf.Tensor: shape=(32, 32, 1), dtype=float32, numpy=\n",
              "array([[[0.],\n",
              "        [0.],\n",
              "        [0.],\n",
              "        ...,\n",
              "        [0.],\n",
              "        [0.],\n",
              "        [0.]],\n",
              "\n",
              "       [[0.],\n",
              "        [0.],\n",
              "        [0.],\n",
              "        ...,\n",
              "        [0.],\n",
              "        [0.],\n",
              "        [0.]],\n",
              "\n",
              "       [[0.],\n",
              "        [0.],\n",
              "        [0.],\n",
              "        ...,\n",
              "        [0.],\n",
              "        [0.],\n",
              "        [0.]],\n",
              "\n",
              "       ...,\n",
              "\n",
              "       [[0.],\n",
              "        [0.],\n",
              "        [0.],\n",
              "        ...,\n",
              "        [0.],\n",
              "        [0.],\n",
              "        [0.]],\n",
              "\n",
              "       [[0.],\n",
              "        [0.],\n",
              "        [0.],\n",
              "        ...,\n",
              "        [0.],\n",
              "        [0.],\n",
              "        [0.]],\n",
              "\n",
              "       [[0.],\n",
              "        [0.],\n",
              "        [0.],\n",
              "        ...,\n",
              "        [0.],\n",
              "        [0.],\n",
              "        [0.]]], dtype=float32)>"
            ]
          },
          "metadata": {},
          "execution_count": 49
        }
      ]
    },
    {
      "cell_type": "markdown",
      "source": [
        "###### Using TensorFlow `data` operations"
      ],
      "metadata": {
        "id": "0MiAYhuUfc5B"
      },
      "id": "0MiAYhuUfc5B"
    },
    {
      "cell_type": "markdown",
      "source": [
        "So after reading the [`tf.data.Dataset.from_generator`](https://www.tensorflow.org/api_docs/python/tf/data/Dataset#from_generator) documentation, I'm feeling a bit embarassed to have used an \"anti-pattern\" to preprocess our data. TensorFlow documentation states that the `Dataset.from_generator()` function uses [`tf.numpy_function`](https://www.tensorflow.org/api_docs/python/tf/numpy_function) behind the scenes, which means that we inherit the performance constraints of `tf.numpy_function`.\n",
        "\n",
        "Furthermore, TensorFlow docs state that \"the scope of `Dataset.from_generator()` should be limited to logic that connot be expressed through `tf.data` operations. Using `tf.data` operations within the generator function is an anti-pattern that may result in incremental memory growth.\"\n",
        "\n",
        "Since that's exactly what we're doing above, let's try to utilise those `tf.data` ops to preprocess our dataset."
      ],
      "metadata": {
        "id": "i7vuwMltfv01"
      },
      "id": "i7vuwMltfv01"
    },
    {
      "cell_type": "code",
      "source": [
        "### Scaling the data using `Dataset.map()` and lambda functions"
      ],
      "metadata": {
        "id": "_uD9bilCfcPM"
      },
      "id": "_uD9bilCfcPM",
      "execution_count": 43,
      "outputs": []
    },
    {
      "cell_type": "code",
      "source": [
        "train_data_scaled = train_data.map(lambda x: x['image'] / 255)\n",
        "val_data_scaled = val_data.map(lambda x: x['image'] / 255)\n",
        "test_data_scaled = test_data.map(lambda x: x['image'] / 255)"
      ],
      "metadata": {
        "id": "YutbmRrIhWtH"
      },
      "id": "YutbmRrIhWtH",
      "execution_count": 44,
      "outputs": []
    },
    {
      "cell_type": "code",
      "source": [
        "### Padding the data using `Dataset.map()` and `tf.pad()`"
      ],
      "metadata": {
        "id": "_6OQCQ4HhXM5"
      },
      "id": "_6OQCQ4HhXM5",
      "execution_count": 45,
      "outputs": []
    },
    {
      "cell_type": "code",
      "source": [
        "train_data_padded = train_data_scaled.map(lambda x: tf.pad(x, paddings=PADDINGS))\n",
        "val_data_padded = val_data_scaled.map(lambda x: tf.pad(x, paddings=PADDINGS))\n",
        "test_data_padded = test_data_scaled.map(lambda x: tf.pad(x, paddings=PADDINGS))"
      ],
      "metadata": {
        "id": "4NSt5sdkiSYw"
      },
      "id": "4NSt5sdkiSYw",
      "execution_count": 46,
      "outputs": []
    },
    {
      "cell_type": "code",
      "source": [
        "### Fetching the labels in each dataset"
      ],
      "metadata": {
        "id": "xhfUTy4pjAwT"
      },
      "id": "xhfUTy4pjAwT",
      "execution_count": 47,
      "outputs": []
    },
    {
      "cell_type": "code",
      "source": [
        "train_labels = train_data.map(lambda x: x['label'])\n",
        "val_labels = val_data.map(lambda x: x['label'])\n",
        "test_labels = test_data.map(lambda x: x['label'])"
      ],
      "metadata": {
        "id": "2qMOLwili_3o"
      },
      "id": "2qMOLwili_3o",
      "execution_count": 48,
      "outputs": []
    },
    {
      "cell_type": "code",
      "source": [
        "### Zipping together the processed data and labels using `Dataset.zip()`"
      ],
      "metadata": {
        "id": "MoLpeYNHitZW"
      },
      "id": "MoLpeYNHitZW",
      "execution_count": 49,
      "outputs": []
    },
    {
      "cell_type": "code",
      "source": [
        "train_data_processed = tf.data.Dataset.zip((train_data_padded, train_labels))\n",
        "val_data_processed = tf.data.Dataset.zip((val_data_padded, val_labels))\n",
        "test_data_processed = tf.data.Dataset.zip((test_data_padded, test_labels))"
      ],
      "metadata": {
        "id": "VXgtFfbHitDO"
      },
      "id": "VXgtFfbHitDO",
      "execution_count": 50,
      "outputs": []
    },
    {
      "cell_type": "markdown",
      "source": [
        "Great! We've moved away from the `from_generator()` anti-pattern with the help of a few `tf.data` operations. For more information on these ops, check out the [`Dataset.map()`](https://www.tensorflow.org/api_docs/python/tf/data/Dataset#map), [`tf.math.divide`](https://www.tensorflow.org/api_docs/python/tf/math/divide), [`tf.pad()`](https://www.tensorflow.org/api_docs/python/tf/pad) and [`Dataset.zip()`](https://www.tensorflow.org/api_docs/python/tf/data/Dataset#zip) documentation."
      ],
      "metadata": {
        "id": "1jrKXbwSkAD8"
      },
      "id": "1jrKXbwSkAD8"
    },
    {
      "cell_type": "markdown",
      "source": [
        "###### Some performance tests"
      ],
      "metadata": {
        "id": "flbdIHGOms6Y"
      },
      "id": "flbdIHGOms6Y"
    },
    {
      "cell_type": "markdown",
      "source": [
        "Even though we'll take TensorFlow's word, I wanted to test the performance of both preprocessing approaches for my given workflow."
      ],
      "metadata": {
        "id": "jYinlFD9m1hp"
      },
      "id": "jYinlFD9m1hp"
    },
    {
      "cell_type": "code",
      "source": [
        "### Wrapping the generator calls in a test function"
      ],
      "metadata": {
        "id": "TbTsiIxvnoDk"
      },
      "id": "TbTsiIxvnoDk",
      "execution_count": 48,
      "outputs": []
    },
    {
      "cell_type": "code",
      "source": [
        "def test_generator(generator_fn, dataset):\n",
        "    \"\"\"Simple function using generator to process a dataset.\"\"\"\n",
        "\n",
        "    dataset_processed = tf.data.Dataset.from_generator(\n",
        "            generator=generator_fn(dataset), \n",
        "            output_signature=(\n",
        "                tf.TensorSpec(\n",
        "                    shape=model_params[DATASET_NAME].get('input_shape_padded', \n",
        "                                                         None\n",
        "                    ),\n",
        "                    dtype=tf.dtypes.float32\n",
        "                ), \n",
        "                tf.TensorSpec(\n",
        "                    shape=(None, *digits_info.features['label'].shape), \n",
        "                    dtype=digits_info.features['label'].dtype\n",
        "                )\n",
        "            )\n",
        "    )\n",
        "    # Fetching the first processed element in the dataset\n",
        "    return iter(dataset_processed).get_next()[0]"
      ],
      "metadata": {
        "id": "gxL2L7nQnndy"
      },
      "id": "gxL2L7nQnndy",
      "execution_count": 49,
      "outputs": []
    },
    {
      "cell_type": "code",
      "source": [
        "### Wrapping the tf.data ops in a test function"
      ],
      "metadata": {
        "id": "ZVf2JCUpm0v1"
      },
      "id": "ZVf2JCUpm0v1",
      "execution_count": 50,
      "outputs": []
    },
    {
      "cell_type": "code",
      "source": [
        "def test_data_ops(dataset):\n",
        "    \"\"\"Simple function using tf.data ops to process a dataset.\"\"\"\n",
        "\n",
        "    ### Scaling the data using `Dataset.map()` and lambda functions\n",
        "    dataset_scaled = dataset.map(lambda x: x['image'] / 255)\n",
        "    ### Padding the data using `Dataset.map()` and `tf.pad()`\n",
        "    dataset_padded = dataset_scaled.map(lambda x: tf.pad(x, paddings=PADDINGS))\n",
        "    ### Fetching the labels in the dataset\n",
        "    dataset_labels = dataset.map(lambda x: x['label'])\n",
        "    ### Zipping together the processed data and labels using `Dataset.zip()`\n",
        "    dataset_processed = tf.data.Dataset.zip((dataset_padded, dataset_labels))\n",
        "    ### Fetching the first processed element in the dataset\n",
        "    return iter(dataset_processed).get_next()[0]"
      ],
      "metadata": {
        "id": "qfKEIZ8Yodz0"
      },
      "id": "qfKEIZ8Yodz0",
      "execution_count": 54,
      "outputs": []
    },
    {
      "cell_type": "markdown",
      "source": [
        "**Note**: I'm not working in a [distributed training](https://www.tensorflow.org/api_docs/python/tf/distribute) environment or dealing with enormous dataset sizes at the moment, so let's just play around and see what we get in terms of execution time..."
      ],
      "metadata": {
        "id": "IPpjLtukqaU4"
      },
      "id": "IPpjLtukqaU4"
    },
    {
      "cell_type": "code",
      "source": [
        "### Testing the generator approach and averaging its execution time\n",
        "%timeit test_generator(process, test_data)"
      ],
      "metadata": {
        "colab": {
          "base_uri": "https://localhost:8080/"
        },
        "id": "fJABQvOUqY_r",
        "outputId": "a92336dc-7ee3-403e-8dc3-ebb5a51bceda"
      },
      "id": "fJABQvOUqY_r",
      "execution_count": 52,
      "outputs": [
        {
          "output_type": "stream",
          "name": "stdout",
          "text": [
            "70.7 ms ± 945 µs per loop (mean ± std. dev. of 7 runs, 10 loops each)\n"
          ]
        }
      ]
    },
    {
      "cell_type": "code",
      "source": [
        "### Testing the tf.data ops approach and averaging its execution time\n",
        "%timeit test_data_ops(test_data)"
      ],
      "metadata": {
        "colab": {
          "base_uri": "https://localhost:8080/"
        },
        "id": "anfcZ5g_qYpM",
        "outputId": "eb218cf5-6a4f-40df-c84d-9ae4a2ff19a3"
      },
      "id": "anfcZ5g_qYpM",
      "execution_count": 55,
      "outputs": [
        {
          "output_type": "stream",
          "name": "stdout",
          "text": [
            "106 ms ± 1.97 ms per loop (mean ± std. dev. of 7 runs, 10 loops each)\n"
          ]
        }
      ]
    },
    {
      "cell_type": "markdown",
      "source": [
        "From the results above, it might be surprising to see that the `Dataset.from_generator()` (the anti-pattern) approach actually performs **better** than the pure TensorFlow `tf.data` ops approach. A great explanation to understand this can be read on [this](https://github.com/tensorflow/tensorflow/issues/35135#issuecomment-566810134) StackOverflow post. In short, the benefits of `Dataset.map()` are realised when performing non-trivial computation that can benefit from either the behind-the-scenes [`tf.Graph`](https://www.tensorflow.org/api_docs/python/tf/Graph) optimisations or parallel execution enabled through the `num_parallel_calls` argument. \n",
        "\n",
        "To learn more about parallelizing data transformations, see the TensorFlow [Optimize pipeline performance](https://www.tensorflow.org/guide/data_performance#parallelizing_data_transformation) guide."
      ],
      "metadata": {
        "id": "RJ_322c0rJre"
      },
      "id": "RJ_322c0rJre"
    },
    {
      "cell_type": "code",
      "source": [
        "### Modifying the tf.data ops test function to support parallel execution"
      ],
      "metadata": {
        "id": "i8skv2cfvmNV"
      },
      "id": "i8skv2cfvmNV",
      "execution_count": 56,
      "outputs": []
    },
    {
      "cell_type": "code",
      "source": [
        "def test_data_ops(dataset, num_parallel_calls=tf.data.AUTOTUNE):\n",
        "    \"\"\"Simple function using tf.data ops to process a dataset.\"\"\"\n",
        "\n",
        "    ### Scaling the data using `Dataset.map()` and lambda functions\n",
        "    dataset_scaled = dataset.map(lambda x: x['image'] / 255,\n",
        "                                 num_parallel_calls=num_parallel_calls\n",
        "    )\n",
        "    ### Padding the data using `Dataset.map()` and `tf.pad()`\n",
        "    dataset_padded = dataset_scaled.map(lambda x: tf.pad(x, paddings=PADDINGS),\n",
        "                                        num_parallel_calls=num_parallel_calls\n",
        "    )\n",
        "    ### Fetching the labels in the dataset\n",
        "    dataset_labels = dataset.map(lambda x: x['label'],\n",
        "                                 num_parallel_calls=num_parallel_calls\n",
        "    )\n",
        "    ### Zipping together the processed data and labels using `Dataset.zip()`\n",
        "    dataset_processed = tf.data.Dataset.zip((dataset_padded, dataset_labels))\n",
        "    ### Fetching the first processed element in the dataset\n",
        "    return iter(dataset_processed).get_next()[0]"
      ],
      "metadata": {
        "id": "vLEPeJoFtyV9"
      },
      "id": "vLEPeJoFtyV9",
      "execution_count": 62,
      "outputs": []
    },
    {
      "cell_type": "code",
      "source": [
        "### Testing the parallelised tf.data ops approach and average its execution time\n",
        "%timeit test_data_ops(test_data, num_parallel_calls=tf.data.AUTOTUNE)"
      ],
      "metadata": {
        "colab": {
          "base_uri": "https://localhost:8080/"
        },
        "id": "FLVkx2a3vwSb",
        "outputId": "6be978d9-d621-448d-d978-5314ceaaec3a"
      },
      "id": "FLVkx2a3vwSb",
      "execution_count": 63,
      "outputs": [
        {
          "output_type": "stream",
          "name": "stdout",
          "text": [
            "103 ms ± 2.1 ms per loop (mean ± std. dev. of 7 runs, 10 loops each)\n"
          ]
        }
      ]
    },
    {
      "cell_type": "code",
      "source": [
        "### Testing the generator approach and averaging its execution time\n",
        "%timeit test_generator(process, test_data)"
      ],
      "metadata": {
        "colab": {
          "base_uri": "https://localhost:8080/"
        },
        "id": "7sEU8aGbvvp-",
        "outputId": "fc4294aa-0041-44f3-97aa-565eee297cde"
      },
      "id": "7sEU8aGbvvp-",
      "execution_count": 64,
      "outputs": [
        {
          "output_type": "stream",
          "name": "stdout",
          "text": [
            "75.6 ms ± 1.95 ms per loop (mean ± std. dev. of 7 runs, 10 loops each)\n"
          ]
        }
      ]
    },
    {
      "cell_type": "markdown",
      "source": [
        "So it looks like we're still achieving worse performance using the built-in `tf.data` ops even when letting TF choose the optimal number of parallel workers with `tf.data.AUTOTUNE`.\n",
        "\n",
        "For now, we'll stick to the generator function approach. I'll repeat this experiment for other datasets, namely the GTSRB image dataset and see if anything changes."
      ],
      "metadata": {
        "id": "CBbvCrq7wJbh"
      },
      "id": "CBbvCrq7wJbh"
    },
    {
      "cell_type": "markdown",
      "source": [
        "#### Previewing the modified dataset"
      ],
      "metadata": {
        "id": "qDmQsuZI66zd"
      },
      "id": "qDmQsuZI66zd"
    },
    {
      "cell_type": "code",
      "source": [
        "# Get the first batch of train data\n",
        "train_batch = iter(train_dataset_processed).get_next()\n",
        "# Sample the first 15 images and labels in batch\n",
        "images, labels = train_batch[0][:15], train_batch[1][:15]\n",
        "fig = plt.figure(figsize=(24,24))\n",
        "grid = ImageGrid(fig, 111, nrows_ncols=(3, 5), axes_pad=0.5)\n",
        "### Plotting sample of images and labels from the dataset\n",
        "for i, (image, label) in enumerate(zip(images, labels)):\n",
        "    grid.axes_all[i].set_title(label=label.numpy().astype('str'), fontsize=18)\n",
        "    grid[i].imshow(tf.squeeze(image, axis=-1), cmap='gray')\n",
        "    grid[i].axis('off')\n",
        "plt.savefig(os.path.join(DIR_OUT, '2022-09-12-Output-1-MNIST-Images-Padded-Subset.png'))\n",
        "plt.show()"
      ],
      "metadata": {
        "colab": {
          "base_uri": "https://localhost:8080/",
          "height": 614
        },
        "id": "2bbQ47DE7Cu5",
        "outputId": "31ac959d-bb0d-4a00-abf0-89a507909715"
      },
      "id": "2bbQ47DE7Cu5",
      "execution_count": 126,
      "outputs": [
        {
          "output_type": "display_data",
          "data": {
            "text/plain": [
              "<Figure size 1728x1728 with 30 Axes>"
            ],
            "image/png": "[encoded data removed]"
          },
          "metadata": {
            "needs_background": "light"
          }
        }
      ]
    },
    {
      "cell_type": "markdown",
      "id": "41fe458d",
      "metadata": {
        "id": "41fe458d"
      },
      "source": [
        "#### Evaluating the LeNet-5"
      ]
    },
    {
      "cell_type": "markdown",
      "id": "a94982cb",
      "metadata": {
        "id": "a94982cb"
      },
      "source": [
        "##### Initialising the model"
      ]
    },
    {
      "cell_type": "code",
      "execution_count": 50,
      "id": "a4253c23",
      "metadata": {
        "id": "a4253c23"
      },
      "outputs": [],
      "source": [
        "MODEL_NAME = 'LeNet-5'"
      ]
    },
    {
      "cell_type": "code",
      "execution_count": 51,
      "id": "b316e2a2",
      "metadata": {
        "id": "b316e2a2"
      },
      "outputs": [],
      "source": [
        "### Creating the model instance"
      ]
    },
    {
      "cell_type": "code",
      "execution_count": null,
      "id": "9a70da23",
      "metadata": {
        "id": "9a70da23"
      },
      "outputs": [],
      "source": [
        "model = create_lenet_network(\n",
        "            input_shape=model_params[DATASET_NAME]['input_shape_padded'][1:],\n",
        "            output_shape=model_params[DATASET_NAME]['n_classes']\n",
        ")"
      ]
    },
    {
      "cell_type": "code",
      "source": [
        "model.summary()"
      ],
      "metadata": {
        "colab": {
          "base_uri": "https://localhost:8080/"
        },
        "id": "e4YRI5FENM3m",
        "outputId": "009573d0-0646-44d1-9450-b5760a5305a4"
      },
      "id": "e4YRI5FENM3m",
      "execution_count": 68,
      "outputs": [
        {
          "output_type": "stream",
          "name": "stdout",
          "text": [
            "Model: \"LeNet-5\"\n",
            "_________________________________________________________________\n",
            " Layer (type)                Output Shape              Param #   \n",
            "=================================================================\n",
            " C1 (Conv2D)                 (None, 28, 28, 6)         156       \n",
            "                                                                 \n",
            " S2 (AveragePooling2D)       (None, 14, 14, 6)         0         \n",
            "                                                                 \n",
            " Sigmoid_1 (Activation)      (None, 14, 14, 6)         0         \n",
            "                                                                 \n",
            " C3 (Conv2D)                 (None, 10, 10, 16)        2416      \n",
            "                                                                 \n",
            " S4 (AveragePooling2D)       (None, 5, 5, 16)          0         \n",
            "                                                                 \n",
            " Sigmoid_2 (Activation)      (None, 5, 5, 16)          0         \n",
            "                                                                 \n",
            " C5 (Conv2D)                 (None, 1, 1, 120)         48120     \n",
            "                                                                 \n",
            " flatten (Flatten)           (None, 120)               0         \n",
            "                                                                 \n",
            " F6 (Dense)                  (None, 84)                10164     \n",
            "                                                                 \n",
            " Output (Dense)              (None, 10)                850       \n",
            "                                                                 \n",
            "=================================================================\n",
            "Total params: 61,706\n",
            "Trainable params: 61,706\n",
            "Non-trainable params: 0\n",
            "_________________________________________________________________\n"
          ]
        }
      ]
    },
    {
      "cell_type": "markdown",
      "id": "04db909f",
      "metadata": {
        "id": "04db909f"
      },
      "source": [
        "##### Performing training and validation loops"
      ]
    },
    {
      "cell_type": "code",
      "execution_count": 69,
      "id": "4e6d3916",
      "metadata": {
        "id": "4e6d3916"
      },
      "outputs": [],
      "source": [
        "### Defining the model hyperparameters"
      ]
    },
    {
      "cell_type": "code",
      "execution_count": 70,
      "id": "b810597f",
      "metadata": {
        "id": "b810597f"
      },
      "outputs": [],
      "source": [
        "EPOCHS = 20"
      ]
    },
    {
      "cell_type": "code",
      "execution_count": 71,
      "id": "7333d331",
      "metadata": {
        "id": "7333d331"
      },
      "outputs": [],
      "source": [
        "model_params[MODEL_NAME].update({'epochs': EPOCHS})\n",
        "model_params[MODEL_NAME].update({'batch_size': BATCH_SIZE})\n",
        "model_params[MODEL_NAME].update({'shuffle': True})"
      ]
    },
    {
      "cell_type": "code",
      "execution_count": 72,
      "id": "cb571ec8",
      "metadata": {
        "id": "cb571ec8"
      },
      "outputs": [],
      "source": [
        "### Configuring the model for training"
      ]
    },
    {
      "cell_type": "code",
      "execution_count": 73,
      "id": "71e6598a",
      "metadata": {
        "id": "71e6598a"
      },
      "outputs": [],
      "source": [
        "model.compile(\n",
        "        optimizer=model_params[MODEL_NAME]['optimizer'],\n",
        "        loss=model_params[MODEL_NAME]['loss_fn'],\n",
        "        metrics=model_params[MODEL_NAME]['metrics']\n",
        ")"
      ]
    },
    {
      "cell_type": "code",
      "execution_count": 74,
      "id": "6198ce5c",
      "metadata": {
        "id": "6198ce5c"
      },
      "outputs": [],
      "source": [
        "### From Udacity's `training.py`"
      ]
    },
    {
      "cell_type": "code",
      "source": [
        "logger = get_module_logger(MODEL_NAME)"
      ],
      "metadata": {
        "id": "XM9iz00E0aMg"
      },
      "id": "XM9iz00E0aMg",
      "execution_count": 75,
      "outputs": []
    },
    {
      "cell_type": "code",
      "execution_count": 76,
      "id": "5495159d",
      "metadata": {
        "colab": {
          "base_uri": "https://localhost:8080/"
        },
        "id": "5495159d",
        "outputId": "517bb462-b88e-4363-ff51-83f2b70c20cb"
      },
      "outputs": [
        {
          "output_type": "stream",
          "name": "stderr",
          "text": [
            "2022-09-18 16:50:41,970 INFO     \n",
            "Training for 20 epochs using 'MNIST' data\n"
          ]
        }
      ],
      "source": [
        "logger.info(f\"\\nTraining for {model_params[MODEL_NAME]['epochs']} epochs \" + \n",
        "            f\"using '{DATASET_NAME}' data\")"
      ]
    },
    {
      "cell_type": "code",
      "execution_count": 63,
      "id": "fafce66b",
      "metadata": {
        "id": "fafce66b"
      },
      "outputs": [],
      "source": [
        "### Usage of the `fit()` API\n",
        "# See: https://www.tensorflow.org/api_docs/python/tf/keras/Model#fit"
      ]
    },
    {
      "cell_type": "code",
      "execution_count": 77,
      "id": "5d1934aa",
      "metadata": {
        "colab": {
          "base_uri": "https://localhost:8080/"
        },
        "id": "5d1934aa",
        "outputId": "304389c2-2196-4990-8a13-c6a3fbbeeea8"
      },
      "outputs": [
        {
          "output_type": "stream",
          "name": "stdout",
          "text": [
            "Epoch 1/20\n",
            "469/469 [==============================] - 18s 14ms/step - loss: 1.5587 - accuracy: 0.4440 - val_loss: 0.4593 - val_accuracy: 0.8668\n",
            "Epoch 2/20\n",
            "469/469 [==============================] - 3s 7ms/step - loss: 0.3793 - accuracy: 0.8816 - val_loss: 0.2965 - val_accuracy: 0.9137\n",
            "Epoch 3/20\n",
            "469/469 [==============================] - 3s 7ms/step - loss: 0.2841 - accuracy: 0.9107 - val_loss: 0.2293 - val_accuracy: 0.9331\n",
            "Epoch 4/20\n",
            "469/469 [==============================] - 3s 7ms/step - loss: 0.2364 - accuracy: 0.9253 - val_loss: 0.1894 - val_accuracy: 0.9437\n",
            "Epoch 5/20\n",
            "469/469 [==============================] - 3s 7ms/step - loss: 0.2039 - accuracy: 0.9357 - val_loss: 0.1705 - val_accuracy: 0.9487\n",
            "Epoch 6/20\n",
            "469/469 [==============================] - 3s 7ms/step - loss: 0.1807 - accuracy: 0.9432 - val_loss: 0.1591 - val_accuracy: 0.9521\n",
            "Epoch 7/20\n",
            "469/469 [==============================] - 3s 7ms/step - loss: 0.1634 - accuracy: 0.9487 - val_loss: 0.1497 - val_accuracy: 0.9543\n",
            "Epoch 8/20\n",
            "469/469 [==============================] - 3s 7ms/step - loss: 0.1497 - accuracy: 0.9532 - val_loss: 0.1389 - val_accuracy: 0.9575\n",
            "Epoch 9/20\n",
            "469/469 [==============================] - 3s 7ms/step - loss: 0.1383 - accuracy: 0.9570 - val_loss: 0.1281 - val_accuracy: 0.9607\n",
            "Epoch 10/20\n",
            "469/469 [==============================] - 3s 7ms/step - loss: 0.1287 - accuracy: 0.9600 - val_loss: 0.1207 - val_accuracy: 0.9623\n",
            "Epoch 11/20\n",
            "469/469 [==============================] - 3s 7ms/step - loss: 0.1203 - accuracy: 0.9627 - val_loss: 0.1156 - val_accuracy: 0.9639\n",
            "Epoch 12/20\n",
            "469/469 [==============================] - 3s 7ms/step - loss: 0.1130 - accuracy: 0.9649 - val_loss: 0.1114 - val_accuracy: 0.9667\n",
            "Epoch 13/20\n",
            "469/469 [==============================] - 3s 7ms/step - loss: 0.1066 - accuracy: 0.9668 - val_loss: 0.1078 - val_accuracy: 0.9668\n",
            "Epoch 14/20\n",
            "469/469 [==============================] - 3s 7ms/step - loss: 0.1011 - accuracy: 0.9689 - val_loss: 0.1046 - val_accuracy: 0.9680\n",
            "Epoch 15/20\n",
            "469/469 [==============================] - 3s 7ms/step - loss: 0.0964 - accuracy: 0.9701 - val_loss: 0.1017 - val_accuracy: 0.9693\n",
            "Epoch 16/20\n",
            "469/469 [==============================] - 3s 7ms/step - loss: 0.0923 - accuracy: 0.9713 - val_loss: 0.0994 - val_accuracy: 0.9705\n",
            "Epoch 17/20\n",
            "469/469 [==============================] - 3s 7ms/step - loss: 0.0886 - accuracy: 0.9724 - val_loss: 0.0973 - val_accuracy: 0.9705\n",
            "Epoch 18/20\n",
            "469/469 [==============================] - 3s 7ms/step - loss: 0.0851 - accuracy: 0.9735 - val_loss: 0.0950 - val_accuracy: 0.9709\n",
            "Epoch 19/20\n",
            "469/469 [==============================] - 3s 7ms/step - loss: 0.0818 - accuracy: 0.9742 - val_loss: 0.0932 - val_accuracy: 0.9715\n",
            "Epoch 20/20\n",
            "469/469 [==============================] - 3s 7ms/step - loss: 0.0787 - accuracy: 0.9753 - val_loss: 0.0867 - val_accuracy: 0.9736\n"
          ]
        }
      ],
      "source": [
        "history = model.fit(\n",
        "                x=train_dataset_processed,\n",
        "                epochs=model_params[MODEL_NAME].get('epochs', 10),\n",
        "                batch_size=model_params[MODEL_NAME].get('batch_size', 128),\n",
        "                validation_data=validation_dataset_processed,\n",
        "                shuffle=True\n",
        ")"
      ]
    },
    {
      "cell_type": "code",
      "execution_count": 78,
      "id": "7ffb5a7a",
      "metadata": {
        "id": "7ffb5a7a"
      },
      "outputs": [],
      "source": [
        "### Usage of the `callbacks()` method\n",
        "# See: https://www.tensorflow.org/api_docs/python/tf/keras/callbacks/History\n",
        "# See: https://www.tensorflow.org/api_docs/python/tf/keras/callbacks/ModelCheckpoint"
      ]
    },
    {
      "cell_type": "code",
      "execution_count": 79,
      "id": "06d45d16",
      "metadata": {
        "id": "06d45d16",
        "colab": {
          "base_uri": "https://localhost:8080/"
        },
        "outputId": "de2f3023-b7ba-4851-b2c6-7046711262f7"
      },
      "outputs": [
        {
          "output_type": "execute_result",
          "data": {
            "text/plain": [
              "keras.callbacks.History"
            ]
          },
          "metadata": {},
          "execution_count": 79
        }
      ],
      "source": [
        "type(history)"
      ]
    },
    {
      "cell_type": "markdown",
      "id": "9bf48c62",
      "metadata": {
        "id": "9bf48c62"
      },
      "source": [
        "##### Visualising the results"
      ]
    },
    {
      "cell_type": "code",
      "execution_count": 80,
      "id": "b2788c63",
      "metadata": {
        "id": "b2788c63",
        "colab": {
          "base_uri": "https://localhost:8080/",
          "height": 357
        },
        "outputId": "6a13d05d-11e6-4f06-a1dc-42200a80bc39"
      },
      "outputs": [
        {
          "output_type": "display_data",
          "data": {
            "text/plain": [
              "<Figure size 1080x360 with 2 Axes>"
            ],
            "image/png": "[encoded data removed]"
          },
          "metadata": {
            "needs_background": "light"
          }
        }
      ],
      "source": [
        "display_metrics(history)"
      ]
    },
    {
      "cell_type": "markdown",
      "id": "25615960",
      "metadata": {
        "id": "25615960"
      },
      "source": [
        "#### Evaluating the custom CNN"
      ]
    },
    {
      "cell_type": "code",
      "execution_count": 53,
      "id": "e1607d0d",
      "metadata": {
        "id": "e1607d0d"
      },
      "outputs": [],
      "source": [
        "MODEL_NAME = 'Custom_LeNet-5'"
      ]
    },
    {
      "cell_type": "markdown",
      "id": "a8354134",
      "metadata": {
        "id": "a8354134"
      },
      "source": [
        "##### Initialising the model"
      ]
    },
    {
      "cell_type": "code",
      "source": [
        "### Creating the model instance"
      ],
      "metadata": {
        "id": "iL0ZHISnpmzA"
      },
      "id": "iL0ZHISnpmzA",
      "execution_count": 54,
      "outputs": []
    },
    {
      "cell_type": "code",
      "source": [
        "IMG_SHAPE_PADDED"
      ],
      "metadata": {
        "colab": {
          "base_uri": "https://localhost:8080/"
        },
        "id": "y1KWFImIs0v3",
        "outputId": "1b54b164-cf33-48d4-f8d2-8215fdd62bb4"
      },
      "id": "y1KWFImIs0v3",
      "execution_count": 55,
      "outputs": [
        {
          "output_type": "execute_result",
          "data": {
            "text/plain": [
              "(None, 32, 32, 1)"
            ]
          },
          "metadata": {},
          "execution_count": 55
        }
      ]
    },
    {
      "cell_type": "code",
      "source": [
        "model = create_custom_network(\n",
        "            input_shape=IMG_SHAPE_PADDED[1:],\n",
        "            output_shape=model_params[DATASET_NAME]['n_classes'],\n",
        "            model_name=MODEL_NAME\n",
        ")"
      ],
      "metadata": {
        "id": "SCzIr5CFpmqY"
      },
      "id": "SCzIr5CFpmqY",
      "execution_count": 56,
      "outputs": []
    },
    {
      "cell_type": "code",
      "source": [
        "### Defining the model hyperparameters"
      ],
      "metadata": {
        "id": "VWPgm1wypnze"
      },
      "id": "VWPgm1wypnze",
      "execution_count": 57,
      "outputs": []
    },
    {
      "cell_type": "code",
      "source": [
        "EPOCHS = 40"
      ],
      "metadata": {
        "id": "1mXuCAnvpnrY"
      },
      "id": "1mXuCAnvpnrY",
      "execution_count": 58,
      "outputs": []
    },
    {
      "cell_type": "code",
      "source": [
        "model_params[MODEL_NAME].update({'epochs': EPOCHS})\n",
        "model_params[MODEL_NAME].update({'batch_size': BATCH_SIZE})\n",
        "model_params[MODEL_NAME].update({'shuffle': True})"
      ],
      "metadata": {
        "id": "o40JTc36pncG"
      },
      "id": "o40JTc36pncG",
      "execution_count": 59,
      "outputs": []
    },
    {
      "cell_type": "code",
      "source": [
        "### Configuring the model for training"
      ],
      "metadata": {
        "id": "AK59kI-cq4AX"
      },
      "id": "AK59kI-cq4AX",
      "execution_count": 60,
      "outputs": []
    },
    {
      "cell_type": "code",
      "source": [
        "model.compile(\n",
        "        optimizer=model_params[MODEL_NAME]['optimizer'],\n",
        "        loss=model_params[MODEL_NAME]['loss_fn'],\n",
        "        metrics=model_params[MODEL_NAME]['metrics']\n",
        ")"
      ],
      "metadata": {
        "id": "N-jM8XHlq3wu"
      },
      "id": "N-jM8XHlq3wu",
      "execution_count": 61,
      "outputs": []
    },
    {
      "cell_type": "code",
      "source": [
        "model.summary()"
      ],
      "metadata": {
        "colab": {
          "base_uri": "https://localhost:8080/"
        },
        "id": "0yEikIePq7Pu",
        "outputId": "8412e7a6-3ec2-46b4-c61e-dd5e7c12f6d7"
      },
      "id": "0yEikIePq7Pu",
      "execution_count": 62,
      "outputs": [
        {
          "output_type": "stream",
          "name": "stdout",
          "text": [
            "Model: \"Custom_LeNet-5\"\n",
            "_________________________________________________________________\n",
            " Layer (type)                Output Shape              Param #   \n",
            "=================================================================\n",
            " C1 (Conv2D)                 (None, 28, 28, 60)        1560      \n",
            "                                                                 \n",
            " C2 (Conv2D)                 (None, 24, 24, 60)        90060     \n",
            "                                                                 \n",
            " Bn3 (BatchNormalization)    (None, 24, 24, 60)        240       \n",
            "                                                                 \n",
            " M4 (MaxPooling2D)           (None, 12, 12, 60)        0         \n",
            "                                                                 \n",
            " C5 (Conv2D)                 (None, 10, 10, 30)        16230     \n",
            "                                                                 \n",
            " C6 (Conv2D)                 (None, 8, 8, 30)          8130      \n",
            "                                                                 \n",
            " M7 (MaxPooling2D)           (None, 4, 4, 30)          0         \n",
            "                                                                 \n",
            " D8 (Dropout)                (None, 4, 4, 30)          0         \n",
            "                                                                 \n",
            " flatten (Flatten)           (None, 480)               0         \n",
            "                                                                 \n",
            " F9 (Dense)                  (None, 500)               240500    \n",
            "                                                                 \n",
            " Bn10 (BatchNormalization)   (None, 500)               2000      \n",
            "                                                                 \n",
            " D11 (Dropout)               (None, 500)               0         \n",
            "                                                                 \n",
            " Output (Dense)              (None, 10)                5010      \n",
            "                                                                 \n",
            "=================================================================\n",
            "Total params: 363,730\n",
            "Trainable params: 362,610\n",
            "Non-trainable params: 1,120\n",
            "_________________________________________________________________\n"
          ]
        }
      ]
    },
    {
      "cell_type": "markdown",
      "id": "a50d1963",
      "metadata": {
        "id": "a50d1963"
      },
      "source": [
        "##### Performing training and validation loops"
      ]
    },
    {
      "cell_type": "code",
      "source": [
        "logger = get_module_logger(MODEL_NAME)"
      ],
      "metadata": {
        "id": "t8CP6vnklWEE"
      },
      "id": "t8CP6vnklWEE",
      "execution_count": 63,
      "outputs": []
    },
    {
      "cell_type": "code",
      "source": [
        "logger.info(f\"\\nTraining for {model_params[MODEL_NAME]['epochs']} epochs \" + \n",
        "            f\"using '{DATASET_NAME}' data\")"
      ],
      "metadata": {
        "colab": {
          "base_uri": "https://localhost:8080/"
        },
        "id": "2ng1eSe7q_9B",
        "outputId": "521fcd16-0ac3-4edc-98dd-41275967956e"
      },
      "id": "2ng1eSe7q_9B",
      "execution_count": 64,
      "outputs": [
        {
          "output_type": "stream",
          "name": "stderr",
          "text": [
            "2022-09-18 18:00:49,461 INFO     \n",
            "Training for 40 epochs using 'MNIST' data\n"
          ]
        }
      ]
    },
    {
      "cell_type": "code",
      "source": [
        "### Usage of the `fit()` API\n",
        "# See: https://www.tensorflow.org/api_docs/python/tf/keras/Model#fit"
      ],
      "metadata": {
        "id": "AbNNCgPDq_0L"
      },
      "id": "AbNNCgPDq_0L",
      "execution_count": 65,
      "outputs": []
    },
    {
      "cell_type": "code",
      "source": [
        "history = model.fit(\n",
        "                x=train_dataset_processed,\n",
        "                epochs=model_params[MODEL_NAME].get('epochs', 10),\n",
        "                batch_size=model_params[MODEL_NAME].get('batch_size', 128),\n",
        "                validation_data=validation_dataset_processed,\n",
        "                shuffle=True\n",
        ")"
      ],
      "metadata": {
        "colab": {
          "base_uri": "https://localhost:8080/"
        },
        "id": "TBnpiSmKrCh-",
        "outputId": "0f67df7e-8a30-42a6-f4e9-0c0fd921960b"
      },
      "id": "TBnpiSmKrCh-",
      "execution_count": 66,
      "outputs": [
        {
          "output_type": "stream",
          "name": "stdout",
          "text": [
            "Epoch 1/40\n",
            "469/469 [==============================] - 13s 20ms/step - loss: 0.2638 - accuracy: 0.9183 - val_loss: 0.0748 - val_accuracy: 0.9761\n",
            "Epoch 2/40\n",
            "469/469 [==============================] - 7s 14ms/step - loss: 0.0873 - accuracy: 0.9742 - val_loss: 0.0410 - val_accuracy: 0.9868\n",
            "Epoch 3/40\n",
            "469/469 [==============================] - 7s 14ms/step - loss: 0.0642 - accuracy: 0.9810 - val_loss: 0.0312 - val_accuracy: 0.9895\n",
            "Epoch 4/40\n",
            "469/469 [==============================] - 7s 14ms/step - loss: 0.0512 - accuracy: 0.9845 - val_loss: 0.0282 - val_accuracy: 0.9900\n",
            "Epoch 5/40\n",
            "469/469 [==============================] - 7s 14ms/step - loss: 0.0448 - accuracy: 0.9867 - val_loss: 0.0200 - val_accuracy: 0.9936\n",
            "Epoch 6/40\n",
            "469/469 [==============================] - 7s 15ms/step - loss: 0.0390 - accuracy: 0.9878 - val_loss: 0.0236 - val_accuracy: 0.9933\n",
            "Epoch 7/40\n",
            "469/469 [==============================] - 7s 15ms/step - loss: 0.0353 - accuracy: 0.9893 - val_loss: 0.0253 - val_accuracy: 0.9924\n",
            "Epoch 8/40\n",
            "469/469 [==============================] - 7s 14ms/step - loss: 0.0313 - accuracy: 0.9905 - val_loss: 0.0193 - val_accuracy: 0.9948\n",
            "Epoch 9/40\n",
            "469/469 [==============================] - 7s 14ms/step - loss: 0.0302 - accuracy: 0.9904 - val_loss: 0.0232 - val_accuracy: 0.9931\n",
            "Epoch 10/40\n",
            "469/469 [==============================] - 7s 14ms/step - loss: 0.0274 - accuracy: 0.9912 - val_loss: 0.0258 - val_accuracy: 0.9921\n",
            "Epoch 11/40\n",
            "469/469 [==============================] - 9s 18ms/step - loss: 0.0253 - accuracy: 0.9922 - val_loss: 0.0253 - val_accuracy: 0.9919\n",
            "Epoch 12/40\n",
            "469/469 [==============================] - 9s 20ms/step - loss: 0.0222 - accuracy: 0.9931 - val_loss: 0.0225 - val_accuracy: 0.9931\n",
            "Epoch 13/40\n",
            "469/469 [==============================] - 7s 14ms/step - loss: 0.0227 - accuracy: 0.9930 - val_loss: 0.0232 - val_accuracy: 0.9933\n",
            "Epoch 14/40\n",
            "469/469 [==============================] - 7s 14ms/step - loss: 0.0196 - accuracy: 0.9937 - val_loss: 0.0203 - val_accuracy: 0.9936\n",
            "Epoch 15/40\n",
            "469/469 [==============================] - 7s 14ms/step - loss: 0.0185 - accuracy: 0.9942 - val_loss: 0.0207 - val_accuracy: 0.9943\n",
            "Epoch 16/40\n",
            "469/469 [==============================] - 7s 14ms/step - loss: 0.0186 - accuracy: 0.9942 - val_loss: 0.0199 - val_accuracy: 0.9941\n",
            "Epoch 17/40\n",
            "469/469 [==============================] - 7s 14ms/step - loss: 0.0163 - accuracy: 0.9946 - val_loss: 0.0218 - val_accuracy: 0.9943\n",
            "Epoch 18/40\n",
            "469/469 [==============================] - 7s 14ms/step - loss: 0.0164 - accuracy: 0.9946 - val_loss: 0.0196 - val_accuracy: 0.9944\n",
            "Epoch 19/40\n",
            "469/469 [==============================] - 7s 14ms/step - loss: 0.0152 - accuracy: 0.9953 - val_loss: 0.0222 - val_accuracy: 0.9936\n",
            "Epoch 20/40\n",
            "469/469 [==============================] - 7s 14ms/step - loss: 0.0144 - accuracy: 0.9950 - val_loss: 0.0225 - val_accuracy: 0.9944\n",
            "Epoch 21/40\n",
            "469/469 [==============================] - 7s 15ms/step - loss: 0.0123 - accuracy: 0.9959 - val_loss: 0.0250 - val_accuracy: 0.9940\n",
            "Epoch 22/40\n",
            "469/469 [==============================] - 7s 15ms/step - loss: 0.0145 - accuracy: 0.9953 - val_loss: 0.0242 - val_accuracy: 0.9937\n",
            "Epoch 23/40\n",
            "469/469 [==============================] - 7s 14ms/step - loss: 0.0114 - accuracy: 0.9961 - val_loss: 0.0218 - val_accuracy: 0.9947\n",
            "Epoch 24/40\n",
            "469/469 [==============================] - 7s 14ms/step - loss: 0.0125 - accuracy: 0.9957 - val_loss: 0.0246 - val_accuracy: 0.9937\n",
            "Epoch 25/40\n",
            "469/469 [==============================] - 7s 14ms/step - loss: 0.0111 - accuracy: 0.9962 - val_loss: 0.0198 - val_accuracy: 0.9957\n",
            "Epoch 26/40\n",
            "469/469 [==============================] - 7s 14ms/step - loss: 0.0114 - accuracy: 0.9961 - val_loss: 0.0289 - val_accuracy: 0.9928\n",
            "Epoch 27/40\n",
            "469/469 [==============================] - 7s 14ms/step - loss: 0.0101 - accuracy: 0.9966 - val_loss: 0.0209 - val_accuracy: 0.9948\n",
            "Epoch 28/40\n",
            "469/469 [==============================] - 7s 14ms/step - loss: 0.0104 - accuracy: 0.9963 - val_loss: 0.0226 - val_accuracy: 0.9955\n",
            "Epoch 29/40\n",
            "469/469 [==============================] - 7s 14ms/step - loss: 0.0096 - accuracy: 0.9967 - val_loss: 0.0240 - val_accuracy: 0.9939\n",
            "Epoch 30/40\n",
            "469/469 [==============================] - 7s 14ms/step - loss: 0.0081 - accuracy: 0.9972 - val_loss: 0.0221 - val_accuracy: 0.9947\n",
            "Epoch 31/40\n",
            "469/469 [==============================] - 7s 15ms/step - loss: 0.0086 - accuracy: 0.9972 - val_loss: 0.0273 - val_accuracy: 0.9949\n",
            "Epoch 32/40\n",
            "469/469 [==============================] - 7s 14ms/step - loss: 0.0081 - accuracy: 0.9971 - val_loss: 0.0229 - val_accuracy: 0.9943\n",
            "Epoch 33/40\n",
            "469/469 [==============================] - 7s 14ms/step - loss: 0.0077 - accuracy: 0.9974 - val_loss: 0.0244 - val_accuracy: 0.9944\n",
            "Epoch 34/40\n",
            "469/469 [==============================] - 7s 15ms/step - loss: 0.0082 - accuracy: 0.9974 - val_loss: 0.0259 - val_accuracy: 0.9947\n",
            "Epoch 35/40\n",
            "469/469 [==============================] - 7s 14ms/step - loss: 0.0070 - accuracy: 0.9978 - val_loss: 0.0238 - val_accuracy: 0.9951\n",
            "Epoch 36/40\n",
            "469/469 [==============================] - 7s 14ms/step - loss: 0.0070 - accuracy: 0.9974 - val_loss: 0.0227 - val_accuracy: 0.9947\n",
            "Epoch 37/40\n",
            "469/469 [==============================] - 7s 14ms/step - loss: 0.0075 - accuracy: 0.9976 - val_loss: 0.0282 - val_accuracy: 0.9944\n",
            "Epoch 38/40\n",
            "469/469 [==============================] - 7s 14ms/step - loss: 0.0064 - accuracy: 0.9979 - val_loss: 0.0224 - val_accuracy: 0.9947\n",
            "Epoch 39/40\n",
            "469/469 [==============================] - 7s 14ms/step - loss: 0.0061 - accuracy: 0.9982 - val_loss: 0.0200 - val_accuracy: 0.9949\n",
            "Epoch 40/40\n",
            "469/469 [==============================] - 7s 14ms/step - loss: 0.0070 - accuracy: 0.9977 - val_loss: 0.0250 - val_accuracy: 0.9948\n"
          ]
        }
      ]
    },
    {
      "cell_type": "markdown",
      "id": "0cb4c42b",
      "metadata": {
        "id": "0cb4c42b"
      },
      "source": [
        "##### Visualising the results"
      ]
    },
    {
      "cell_type": "code",
      "source": [
        "display_metrics(history)"
      ],
      "metadata": {
        "colab": {
          "base_uri": "https://localhost:8080/",
          "height": 357
        },
        "id": "mAnPTF_brCRc",
        "outputId": "24425831-1e05-43b5-e954-2db6799f6906"
      },
      "id": "mAnPTF_brCRc",
      "execution_count": 67,
      "outputs": [
        {
          "output_type": "display_data",
          "data": {
            "text/plain": [
              "<Figure size 1080x360 with 2 Axes>"
            ],
            "image/png": "[encoded data removed]"
          },
          "metadata": {
            "needs_background": "light"
          }
        }
      ]
    },
    {
      "cell_type": "markdown",
      "id": "036e5ec4",
      "metadata": {
        "id": "036e5ec4"
      },
      "source": [
        "### 2.3 Evaluation on the GTSRB dataset"
      ]
    },
    {
      "cell_type": "markdown",
      "id": "bdad1f6d",
      "metadata": {
        "id": "bdad1f6d"
      },
      "source": [
        "#### Considerations for our input data"
      ]
    },
    {
      "cell_type": "code",
      "execution_count": 68,
      "id": "5f711ba6",
      "metadata": {
        "id": "5f711ba6"
      },
      "outputs": [],
      "source": [
        "DATASET_NAME = 'GTSRB'"
      ]
    },
    {
      "cell_type": "code",
      "execution_count": 69,
      "id": "7288e8a5",
      "metadata": {
        "id": "7288e8a5"
      },
      "outputs": [],
      "source": [
        "N_CLASSES = 43                                    # GTSRB has 43 distinct digit classes"
      ]
    },
    {
      "cell_type": "code",
      "execution_count": 70,
      "id": "fdfc0c89",
      "metadata": {
        "id": "fdfc0c89"
      },
      "outputs": [],
      "source": [
        "### Defining our input image specs"
      ]
    },
    {
      "cell_type": "code",
      "execution_count": 71,
      "id": "5896cacd",
      "metadata": {
        "id": "5896cacd"
      },
      "outputs": [],
      "source": [
        "IMG_DIR = os.path.join(DIR_SRC, 'GTSRB/Final_Training/Images')"
      ]
    },
    {
      "cell_type": "code",
      "execution_count": 72,
      "id": "bd232e25",
      "metadata": {
        "id": "bd232e25"
      },
      "outputs": [],
      "source": [
        "BATCH_SIZE = 20"
      ]
    },
    {
      "cell_type": "code",
      "execution_count": 73,
      "id": "04c04d92",
      "metadata": {
        "id": "04c04d92"
      },
      "outputs": [],
      "source": [
        "IMG_COLOR_MODE = 'rgb'\n",
        "IMG_SIZE = (32, 32)                               # Each RGB image has 32x32 px resolution\n",
        "IMG_SHAPE = (32, 32, 3)                           # Each RGB image has 3 channels\n",
        "N_FEATURES = (32 * 32) * 3                        # Each pixel value is considered an attribute (feature)"
      ]
    },
    {
      "cell_type": "code",
      "execution_count": 74,
      "id": "2de2807c",
      "metadata": {
        "id": "2de2807c"
      },
      "outputs": [],
      "source": [
        "model_params[DATASET_NAME].update({'n_classes': N_CLASSES})\n",
        "model_params[DATASET_NAME].update({'imdir': IMG_DIR})\n",
        "model_params[DATASET_NAME].update({'batch_size': BATCH_SIZE})\n",
        "model_params[DATASET_NAME].update({'color_mode': IMG_COLOR_MODE})\n",
        "model_params[DATASET_NAME].update({'image_size': IMG_SIZE})\n",
        "model_params[DATASET_NAME].update({'input_shape': IMG_SHAPE})\n",
        "model_params[DATASET_NAME].update({'n_features': N_FEATURES})"
      ]
    },
    {
      "cell_type": "markdown",
      "id": "28ec3188",
      "metadata": {
        "id": "28ec3188"
      },
      "source": [
        "#### Fetching the GTSRB data"
      ]
    },
    {
      "cell_type": "code",
      "source": [
        "def get_datasets(model_params: dict) -> Tuple[tf.data.Dataset, tf.data.Dataset]:\n",
        "    \"\"\"Return the training and validation datasets.\n",
        "    \n",
        "    :param model_params: the dict containing the dataset- and \n",
        "        model-specific arguments.\n",
        "    :returns: (train_dataset, validation_dataset), tuple of tf.data.Dataset \n",
        "        instances.\n",
        "    \"\"\"\n",
        "    \n",
        "    model_params = dict(model_params)\n",
        "    train_dataset = tf.keras.utils.image_dataset_from_directory(\n",
        "                        directory=model_params.get('imdir', None),\n",
        "                        labels='inferred',\n",
        "                        label_mode='int',\n",
        "                        color_mode=model_params.get('color_mode', None),\n",
        "                        batch_size=model_params.get('batch_size', None),\n",
        "                        image_size=model_params.get('image_size', None),\n",
        "                        shuffle=True,\n",
        "                        seed=123,\n",
        "                        validation_split=0.1,\n",
        "                        subset='training',\n",
        "    )\n",
        "    validation_dataset = tf.keras.utils.image_dataset_from_directory(\n",
        "                        directory=model_params.get('imdir', None),\n",
        "                        labels='inferred',\n",
        "                        label_mode='int',\n",
        "                        color_mode=model_params.get('color_mode', None),\n",
        "                        batch_size=model_params.get('batch_size', None),\n",
        "                        image_size=model_params.get('image_size', None),\n",
        "                        shuffle=True,\n",
        "                        seed=123,\n",
        "                        validation_split=0.1,\n",
        "                        subset='validation',\n",
        "    )\n",
        "    return train_dataset, validation_dataset"
      ],
      "metadata": {
        "id": "WPm5iyVSuhAc"
      },
      "id": "WPm5iyVSuhAc",
      "execution_count": 75,
      "outputs": []
    },
    {
      "cell_type": "code",
      "execution_count": 76,
      "id": "37655102",
      "metadata": {
        "colab": {
          "base_uri": "https://localhost:8080/"
        },
        "id": "37655102",
        "outputId": "337e38b0-8e16-44bb-94e5-42be3d6504be"
      },
      "outputs": [
        {
          "output_type": "stream",
          "name": "stdout",
          "text": [
            "Found 4300 files belonging to 43 classes.\n",
            "Using 3870 files for training.\n",
            "Found 4300 files belonging to 43 classes.\n",
            "Using 430 files for validation.\n"
          ]
        }
      ],
      "source": [
        "### Fetching the training and validation datasets\n",
        "train_dataset, validation_dataset = get_datasets(model_params[DATASET_NAME])"
      ]
    },
    {
      "cell_type": "markdown",
      "id": "cff3e692",
      "metadata": {
        "id": "cff3e692"
      },
      "source": [
        "#### Processing the image data"
      ]
    },
    {
      "cell_type": "code",
      "execution_count": 77,
      "id": "cd22a1a9",
      "metadata": {
        "colab": {
          "base_uri": "https://localhost:8080/"
        },
        "id": "cd22a1a9",
        "outputId": "ad13f3c4-cdbb-4961-ffa8-58f90401c3bb"
      },
      "outputs": [
        {
          "output_type": "execute_result",
          "data": {
            "text/plain": [
              "3072"
            ]
          },
          "metadata": {},
          "execution_count": 77
        }
      ],
      "source": [
        "### Number of features (pixel values) in a single image\n",
        "train_iter = iter(train_dataset)\n",
        "len(train_iter.get_next()[0][0].numpy().flatten())"
      ]
    },
    {
      "cell_type": "markdown",
      "source": [
        "##### Using a generator function"
      ],
      "metadata": {
        "id": "g3pqqF8jqz0O"
      },
      "id": "g3pqqF8jqz0O"
    },
    {
      "cell_type": "code",
      "execution_count": 78,
      "id": "a5d5385d",
      "metadata": {
        "id": "a5d5385d"
      },
      "outputs": [],
      "source": [
        "### From J. Moran's `2022-09-05-Image-Classification-Feed-Forward-Neural-Networks.ipynb`"
      ]
    },
    {
      "cell_type": "code",
      "execution_count": 79,
      "id": "90115a32",
      "metadata": {
        "id": "90115a32"
      },
      "outputs": [],
      "source": [
        "def process(dataset: tf.data.Dataset) -> Generator[tuple, None, None]:\n",
        "    \"\"\"Processes the input dataset and returns a generator object.\n",
        "\n",
        "    :param dataset: the tf.data.Dataset instance of batched image, label data.\n",
        "    :returns: the generator instance modifying the image attribute values.\n",
        "    \"\"\"\n",
        "\n",
        "    def process_generator()  -> Iterator[Tuple[tf.Tensor, tf.Tensor]]:\n",
        "        \"\"\"Scales the input image data.\n",
        "        \n",
        "        Unbatches the tf.data.Dataset and scales all image attributes,\n",
        "        i.e., pixel values, in the range [0, 1].\n",
        "\n",
        "        :returns: an iterator yielding the modfied image data and\n",
        "            corresponding label.\n",
        "        \"\"\"\n",
        "\n",
        "        for batch in dataset:\n",
        "            for image, label in zip(*batch):\n",
        "                image = tf.cast(image / 255, dtype=tf.dtypes.float32)\n",
        "                yield image, label\n",
        "    return process_generator"
      ]
    },
    {
      "cell_type": "code",
      "execution_count": 80,
      "id": "a3f9cad4",
      "metadata": {
        "id": "a3f9cad4"
      },
      "outputs": [],
      "source": [
        "### Unbatching the datasets and scaling the images"
      ]
    },
    {
      "cell_type": "code",
      "execution_count": 81,
      "id": "eadc5547",
      "metadata": {
        "id": "eadc5547"
      },
      "outputs": [],
      "source": [
        "train_dataset_scaled = tf.data.Dataset.from_generator(\n",
        "        generator=process(train_dataset), \n",
        "        output_signature=(\n",
        "            tf.TensorSpec(\n",
        "                shape=model_params[DATASET_NAME].get('input_shape', None),\n",
        "                dtype=tf.dtypes.float32), \n",
        "            tf.TensorSpec(\n",
        "                shape=(),\n",
        "                dtype=tf.dtypes.int32)\n",
        "        )\n",
        ")"
      ]
    },
    {
      "cell_type": "code",
      "execution_count": 82,
      "id": "3ebba510",
      "metadata": {
        "id": "3ebba510"
      },
      "outputs": [],
      "source": [
        "validation_dataset_scaled = tf.data.Dataset.from_generator(\n",
        "        generator=process(validation_dataset), \n",
        "        output_signature=(\n",
        "            tf.TensorSpec(\n",
        "                shape=model_params[DATASET_NAME].get('input_shape', None),\n",
        "                dtype=tf.dtypes.float32), \n",
        "            tf.TensorSpec(\n",
        "                shape=(),\n",
        "                dtype=tf.dtypes.int32)\n",
        "        )\n",
        ")"
      ]
    },
    {
      "cell_type": "code",
      "execution_count": 83,
      "id": "e4699eba",
      "metadata": {
        "colab": {
          "base_uri": "https://localhost:8080/"
        },
        "id": "e4699eba",
        "outputId": "0a502a4b-e8f9-4ea7-d142-62c82f73ff8b"
      },
      "outputs": [
        {
          "output_type": "execute_result",
          "data": {
            "text/plain": [
              "tensorflow.python.data.ops.dataset_ops.FlatMapDataset"
            ]
          },
          "metadata": {},
          "execution_count": 83
        }
      ],
      "source": [
        "type(validation_dataset_scaled)"
      ]
    },
    {
      "cell_type": "markdown",
      "source": [
        "##### Using TensorFlow data operations"
      ],
      "metadata": {
        "id": "G2j_gdBFq63n"
      },
      "id": "G2j_gdBFq63n"
    },
    {
      "cell_type": "code",
      "source": [
        "def process(image, label):\n",
        "    \"\"\"Scales the input image data.\"\"\"\n",
        "    \n",
        "    image = tf.cast(image / 255., dtype=tf.dtypes.float32)\n",
        "    return image, label"
      ],
      "metadata": {
        "id": "W5asBAPLwFlc"
      },
      "id": "W5asBAPLwFlc",
      "execution_count": 159,
      "outputs": []
    },
    {
      "cell_type": "code",
      "source": [
        "### Fetching the labels in the dataset\n",
        "train_dataset_processed = train_dataset.map(process,\n",
        "                                num_parallel_calls=tf.data.AUTOTUNE\n",
        ")\n",
        "val_dataset_processed = validation_dataset.map(process,\n",
        "                                num_parallel_calls=tf.data.AUTOTUNE\n",
        ")"
      ],
      "metadata": {
        "id": "i85kyXUKrSyL"
      },
      "id": "i85kyXUKrSyL",
      "execution_count": 160,
      "outputs": []
    },
    {
      "cell_type": "markdown",
      "id": "cf3b6ae4",
      "metadata": {
        "id": "cf3b6ae4"
      },
      "source": [
        "#### Evaluating the LeNet-5"
      ]
    },
    {
      "cell_type": "markdown",
      "id": "7d29c235",
      "metadata": {
        "id": "7d29c235"
      },
      "source": [
        "##### Initialising the model"
      ]
    },
    {
      "cell_type": "code",
      "execution_count": 161,
      "id": "dd28fc67",
      "metadata": {
        "id": "dd28fc67"
      },
      "outputs": [],
      "source": [
        "MODEL_NAME = 'LeNet-5'"
      ]
    },
    {
      "cell_type": "code",
      "execution_count": 162,
      "id": "2271732e",
      "metadata": {
        "id": "2271732e"
      },
      "outputs": [],
      "source": [
        "### Creating the model instance"
      ]
    },
    {
      "cell_type": "code",
      "execution_count": 163,
      "id": "96e47fa9",
      "metadata": {
        "id": "96e47fa9"
      },
      "outputs": [],
      "source": [
        "model = create_lenet_network(\n",
        "            input_shape=model_params[DATASET_NAME]['input_shape'],\n",
        "            output_shape=model_params[DATASET_NAME]['n_classes']\n",
        ")"
      ]
    },
    {
      "cell_type": "code",
      "source": [
        "model.summary()"
      ],
      "metadata": {
        "colab": {
          "base_uri": "https://localhost:8080/"
        },
        "id": "8Mb4FJMBOoMU",
        "outputId": "7a60a9fc-2632-4d2c-c8ee-1979bc547f63"
      },
      "id": "8Mb4FJMBOoMU",
      "execution_count": 164,
      "outputs": [
        {
          "output_type": "stream",
          "name": "stdout",
          "text": [
            "Model: \"LeNet-5\"\n",
            "_________________________________________________________________\n",
            " Layer (type)                Output Shape              Param #   \n",
            "=================================================================\n",
            " C1 (Conv2D)                 (None, 28, 28, 6)         456       \n",
            "                                                                 \n",
            " S2 (AveragePooling2D)       (None, 14, 14, 6)         0         \n",
            "                                                                 \n",
            " Sigmoid_1 (Activation)      (None, 14, 14, 6)         0         \n",
            "                                                                 \n",
            " C3 (Conv2D)                 (None, 10, 10, 16)        2416      \n",
            "                                                                 \n",
            " S4 (AveragePooling2D)       (None, 5, 5, 16)          0         \n",
            "                                                                 \n",
            " Sigmoid_2 (Activation)      (None, 5, 5, 16)          0         \n",
            "                                                                 \n",
            " C5 (Conv2D)                 (None, 1, 1, 120)         48120     \n",
            "                                                                 \n",
            " flatten_4 (Flatten)         (None, 120)               0         \n",
            "                                                                 \n",
            " F6 (Dense)                  (None, 84)                10164     \n",
            "                                                                 \n",
            " Output (Dense)              (None, 43)                3655      \n",
            "                                                                 \n",
            "=================================================================\n",
            "Total params: 64,811\n",
            "Trainable params: 64,811\n",
            "Non-trainable params: 0\n",
            "_________________________________________________________________\n"
          ]
        }
      ]
    },
    {
      "cell_type": "markdown",
      "id": "556f2c4f",
      "metadata": {
        "id": "556f2c4f"
      },
      "source": [
        "##### Performing the training and validation loops"
      ]
    },
    {
      "cell_type": "code",
      "execution_count": 165,
      "id": "0c48a510",
      "metadata": {
        "id": "0c48a510"
      },
      "outputs": [],
      "source": [
        "### Defining the model hyperparameters"
      ]
    },
    {
      "cell_type": "code",
      "execution_count": 166,
      "id": "6bbb1ad4",
      "metadata": {
        "id": "6bbb1ad4"
      },
      "outputs": [],
      "source": [
        "EPOCHS = 200"
      ]
    },
    {
      "cell_type": "code",
      "execution_count": 167,
      "id": "199f2956",
      "metadata": {
        "id": "199f2956"
      },
      "outputs": [],
      "source": [
        "model_params[MODEL_NAME].update({'epochs': EPOCHS})\n",
        "model_params[MODEL_NAME].update({'batch_size': BATCH_SIZE})\n",
        "model_params[MODEL_NAME].update({'shuffle': True})"
      ]
    },
    {
      "cell_type": "code",
      "execution_count": 168,
      "id": "d364fb39",
      "metadata": {
        "id": "d364fb39"
      },
      "outputs": [],
      "source": [
        "### Configuring the model for training"
      ]
    },
    {
      "cell_type": "code",
      "execution_count": 169,
      "id": "ecd4aafd",
      "metadata": {
        "id": "ecd4aafd"
      },
      "outputs": [],
      "source": [
        "model.compile(\n",
        "        optimizer=model_params[MODEL_NAME]['optimizer'],\n",
        "        loss=model_params[MODEL_NAME]['loss_fn'],\n",
        "        metrics=model_params[MODEL_NAME]['metrics']\n",
        ")"
      ]
    },
    {
      "cell_type": "code",
      "execution_count": 170,
      "id": "8c5f9129",
      "metadata": {
        "id": "8c5f9129"
      },
      "outputs": [],
      "source": [
        "### From Udacity's `training.py`"
      ]
    },
    {
      "cell_type": "code",
      "execution_count": 171,
      "id": "5fb5bbc4",
      "metadata": {
        "colab": {
          "base_uri": "https://localhost:8080/"
        },
        "id": "5fb5bbc4",
        "outputId": "9b7f806e-5a88-4d29-f416-94c96a4db624"
      },
      "outputs": [
        {
          "output_type": "stream",
          "name": "stderr",
          "text": [
            "2022-09-18 00:29:05,619 INFO     \n",
            "Training for 200 epochs using '/content/data/GTSRB/Final_Training/Images' data\n"
          ]
        }
      ],
      "source": [
        "logger.info(f\"\\nTraining for {model_params[MODEL_NAME]['epochs']} epochs \" + \n",
        "            f\"using '{model_params[DATASET_NAME]['imdir']}' data\")"
      ]
    },
    {
      "cell_type": "code",
      "execution_count": 172,
      "id": "cb2ec5c4",
      "metadata": {
        "id": "cb2ec5c4"
      },
      "outputs": [],
      "source": [
        "### Usage of the `fit()` API\n",
        "# See: https://www.tensorflow.org/api_docs/python/tf/keras/Model#fit"
      ]
    },
    {
      "cell_type": "code",
      "execution_count": null,
      "id": "c35a2d5b",
      "metadata": {
        "id": "c35a2d5b"
      },
      "outputs": [],
      "source": [
        "history = model.fit(\n",
        "                x=train_dataset_processed,\n",
        "                epochs=model_params[MODEL_NAME].get('epochs', 10),\n",
        "                batch_size=model_params[MODEL_NAME].get('batch_size', 128),\n",
        "                validation_data=val_dataset_processed,\n",
        "                shuffle=True\n",
        ")"
      ]
    },
    {
      "cell_type": "code",
      "execution_count": 95,
      "id": "821d23bf",
      "metadata": {
        "id": "821d23bf"
      },
      "outputs": [],
      "source": [
        "### Usage of the `callbacks()` method\n",
        "# See: https://www.tensorflow.org/api_docs/python/tf/keras/callbacks/History\n",
        "# See: https://www.tensorflow.org/api_docs/python/tf/keras/callbacks/ModelCheckpoint"
      ]
    },
    {
      "cell_type": "code",
      "execution_count": 96,
      "id": "f0af6ac8",
      "metadata": {
        "colab": {
          "base_uri": "https://localhost:8080/"
        },
        "id": "f0af6ac8",
        "outputId": "dfa07426-7ddc-4409-abe3-ecf92fb6b79f"
      },
      "outputs": [
        {
          "output_type": "execute_result",
          "data": {
            "text/plain": [
              "keras.callbacks.History"
            ]
          },
          "metadata": {},
          "execution_count": 96
        }
      ],
      "source": [
        "type(history)"
      ]
    },
    {
      "cell_type": "markdown",
      "id": "5827b5f0",
      "metadata": {
        "id": "5827b5f0"
      },
      "source": [
        "##### Visualising the results"
      ]
    },
    {
      "cell_type": "code",
      "execution_count": 97,
      "id": "b974d2d8",
      "metadata": {
        "id": "b974d2d8"
      },
      "outputs": [],
      "source": [
        "### From Udacity's `training.py`"
      ]
    },
    {
      "cell_type": "code",
      "execution_count": 98,
      "id": "72c43183",
      "metadata": {
        "colab": {
          "base_uri": "https://localhost:8080/",
          "height": 357
        },
        "id": "72c43183",
        "outputId": "ff72ae0f-21f3-4849-b183-c97cba1b6cff"
      },
      "outputs": [
        {
          "output_type": "display_data",
          "data": {
            "text/plain": [
              "<Figure size 1080x360 with 2 Axes>"
            ],
            "image/png": "[encoded data removed]"
          },
          "metadata": {
            "needs_background": "light"
          }
        }
      ],
      "source": [
        "display_metrics(history)"
      ]
    },
    {
      "cell_type": "markdown",
      "id": "e51d9ee4",
      "metadata": {
        "id": "e51d9ee4"
      },
      "source": [
        "#### Evaluating the custom CNN"
      ]
    },
    {
      "cell_type": "code",
      "execution_count": 84,
      "id": "14b4e9d9",
      "metadata": {
        "id": "14b4e9d9"
      },
      "outputs": [],
      "source": [
        "MODEL_NAME = 'Custom_LeNet-5'"
      ]
    },
    {
      "cell_type": "markdown",
      "id": "0f51c4e7",
      "metadata": {
        "id": "0f51c4e7"
      },
      "source": [
        "##### Initialising the model"
      ]
    },
    {
      "cell_type": "code",
      "source": [
        "### Creating the model instance"
      ],
      "metadata": {
        "id": "ad313Wmhaz-H"
      },
      "id": "ad313Wmhaz-H",
      "execution_count": 85,
      "outputs": []
    },
    {
      "cell_type": "code",
      "source": [
        "model = create_custom_network(\n",
        "            # Specify grayscale image (n_channels=1)\n",
        "            input_shape=(*model_params[DATASET_NAME]['input_shape'][:2], 1),\n",
        "            output_shape=model_params[DATASET_NAME]['n_classes'],\n",
        "            model_name=MODEL_NAME\n",
        ")"
      ],
      "metadata": {
        "id": "hQu_1kCDaz21"
      },
      "id": "hQu_1kCDaz21",
      "execution_count": 106,
      "outputs": []
    },
    {
      "cell_type": "markdown",
      "source": [
        "##### Additional GTSRB preprocessing"
      ],
      "metadata": {
        "id": "76T6deFUZb5X"
      },
      "id": "76T6deFUZb5X"
    },
    {
      "cell_type": "code",
      "source": [
        "### Convert all RGB images to grayscale"
      ],
      "metadata": {
        "id": "bPb0E7wPZoJK"
      },
      "id": "bPb0E7wPZoJK",
      "execution_count": 87,
      "outputs": []
    },
    {
      "cell_type": "code",
      "source": [
        "def rgb_to_grayscale(images: tf.Tensor, labels: tf.Tensor) -> tf.Tensor:\n",
        "    \"\"\"Converts RGB input tensor to grayscale.\"\"\"\n",
        "\n",
        "    return tf.image.rgb_to_grayscale(images), labels"
      ],
      "metadata": {
        "id": "76m4fCW3Zn1w"
      },
      "id": "76m4fCW3Zn1w",
      "execution_count": 88,
      "outputs": []
    },
    {
      "cell_type": "code",
      "source": [
        "train_dataset_gray = train_dataset.map(rgb_to_grayscale)\n",
        "validation_dataset_gray = validation_dataset.map(rgb_to_grayscale)"
      ],
      "metadata": {
        "id": "HSPHKleQaPet"
      },
      "id": "HSPHKleQaPet",
      "execution_count": 89,
      "outputs": []
    },
    {
      "cell_type": "code",
      "source": [
        "### Previewing randomly-selected training images (converted to grayscale)"
      ],
      "metadata": {
        "id": "RrroEs2vecd8"
      },
      "id": "RrroEs2vecd8",
      "execution_count": 90,
      "outputs": []
    },
    {
      "cell_type": "code",
      "source": [
        "# Get the first batch of train data\n",
        "train_batch = iter(train_dataset_gray).get_next()\n",
        "# Sample the first 15 images and labels in batch\n",
        "images, labels = train_batch[0][:15], train_batch[1][:15]\n",
        "fig = plt.figure(figsize=(24,24))\n",
        "grid = ImageGrid(fig, 111, nrows_ncols=(3, 5), axes_pad=0.5)\n",
        "### Plotting sample of images and labels from the dataset\n",
        "for i, (image, label) in enumerate(zip(images, labels)):\n",
        "    grid.axes_all[i].set_title(label=label.numpy().astype('str'), fontsize=18)\n",
        "    grid[i].imshow(tf.squeeze(image, axis=-1), cmap='gray')\n",
        "    grid[i].axis('off')\n",
        "plt.savefig(os.path.join(DIR_OUT, '2022-09-12-Output-2-GTSRB-Images-Grayscale-Subset.png'))\n",
        "plt.show()"
      ],
      "metadata": {
        "colab": {
          "base_uri": "https://localhost:8080/",
          "height": 614
        },
        "id": "Zzz06iGN3Rxk",
        "outputId": "991aabef-7f4d-4222-e751-dc4bbd0d76d8"
      },
      "id": "Zzz06iGN3Rxk",
      "execution_count": 123,
      "outputs": [
        {
          "output_type": "display_data",
          "data": {
            "text/plain": [
              "<Figure size 1728x1728 with 30 Axes>"
            ],
            "image/png": "[encoded data removed]"
          },
          "metadata": {
            "needs_background": "light"
          }
        }
      ]
    },
    {
      "cell_type": "markdown",
      "id": "3378adb6",
      "metadata": {
        "id": "3378adb6"
      },
      "source": [
        "##### Performing the training and validation loops"
      ]
    },
    {
      "cell_type": "code",
      "source": [
        "### Defining the model hyperparameters"
      ],
      "metadata": {
        "id": "6lwxRy4JaeZA"
      },
      "id": "6lwxRy4JaeZA",
      "execution_count": 93,
      "outputs": []
    },
    {
      "cell_type": "code",
      "source": [
        "EPOCHS = 40"
      ],
      "metadata": {
        "id": "1kIBoqI3ae07"
      },
      "id": "1kIBoqI3ae07",
      "execution_count": 94,
      "outputs": []
    },
    {
      "cell_type": "code",
      "source": [
        "model_params[MODEL_NAME].update({'epochs': EPOCHS})\n",
        "model_params[MODEL_NAME].update({'batch_size': BATCH_SIZE})\n",
        "model_params[MODEL_NAME].update({'shuffle': True})"
      ],
      "metadata": {
        "id": "AmvSOEv1ao3Y"
      },
      "id": "AmvSOEv1ao3Y",
      "execution_count": 95,
      "outputs": []
    },
    {
      "cell_type": "code",
      "source": [
        "### Configuring the model for training"
      ],
      "metadata": {
        "id": "BH6l1U6Vasw5"
      },
      "id": "BH6l1U6Vasw5",
      "execution_count": 96,
      "outputs": []
    },
    {
      "cell_type": "code",
      "source": [
        "model.compile(\n",
        "        optimizer=model_params[MODEL_NAME]['optimizer'],\n",
        "        loss=model_params[MODEL_NAME]['loss_fn'],\n",
        "        metrics=model_params[MODEL_NAME]['metrics']\n",
        ")"
      ],
      "metadata": {
        "id": "fA14ylS1asqj"
      },
      "id": "fA14ylS1asqj",
      "execution_count": 107,
      "outputs": []
    },
    {
      "cell_type": "code",
      "source": [
        "model.build((None, *model_params[DATASET_NAME]['input_shape'][:2]))"
      ],
      "metadata": {
        "id": "pC7KLWwSazwa"
      },
      "id": "pC7KLWwSazwa",
      "execution_count": 108,
      "outputs": []
    },
    {
      "cell_type": "code",
      "source": [
        "model.summary()"
      ],
      "metadata": {
        "colab": {
          "base_uri": "https://localhost:8080/"
        },
        "id": "bf8rQc2jkPlz",
        "outputId": "73a2c728-7f4e-471f-83c3-3afc0bae239d"
      },
      "id": "bf8rQc2jkPlz",
      "execution_count": 109,
      "outputs": [
        {
          "output_type": "stream",
          "name": "stdout",
          "text": [
            "Model: \"Custom_LeNet-5\"\n",
            "_________________________________________________________________\n",
            " Layer (type)                Output Shape              Param #   \n",
            "=================================================================\n",
            " C1 (Conv2D)                 (None, 28, 28, 60)        1560      \n",
            "                                                                 \n",
            " C2 (Conv2D)                 (None, 24, 24, 60)        90060     \n",
            "                                                                 \n",
            " Bn3 (BatchNormalization)    (None, 24, 24, 60)        240       \n",
            "                                                                 \n",
            " M4 (MaxPooling2D)           (None, 12, 12, 60)        0         \n",
            "                                                                 \n",
            " C5 (Conv2D)                 (None, 10, 10, 30)        16230     \n",
            "                                                                 \n",
            " C6 (Conv2D)                 (None, 8, 8, 30)          8130      \n",
            "                                                                 \n",
            " M7 (MaxPooling2D)           (None, 4, 4, 30)          0         \n",
            "                                                                 \n",
            " D8 (Dropout)                (None, 4, 4, 30)          0         \n",
            "                                                                 \n",
            " flatten_3 (Flatten)         (None, 480)               0         \n",
            "                                                                 \n",
            " F9 (Dense)                  (None, 500)               240500    \n",
            "                                                                 \n",
            " Bn10 (BatchNormalization)   (None, 500)               2000      \n",
            "                                                                 \n",
            " D11 (Dropout)               (None, 500)               0         \n",
            "                                                                 \n",
            " Output (Dense)              (None, 43)                21543     \n",
            "                                                                 \n",
            "=================================================================\n",
            "Total params: 380,263\n",
            "Trainable params: 379,143\n",
            "Non-trainable params: 1,120\n",
            "_________________________________________________________________\n"
          ]
        }
      ]
    },
    {
      "cell_type": "markdown",
      "source": [
        "**Note**: since we moved the resizing/rescaling functions inside the model, we will be running the training loop over the otherwise raw grayscale GTSRB images. "
      ],
      "metadata": {
        "id": "rEgxNuxJcQfA"
      },
      "id": "rEgxNuxJcQfA"
    },
    {
      "cell_type": "code",
      "source": [
        "logger.info(f\"\\nTraining for {model_params[MODEL_NAME]['epochs']} epochs \" + \n",
        "            f\"using '{model_params[DATASET_NAME]['imdir']}' data\")"
      ],
      "metadata": {
        "colab": {
          "base_uri": "https://localhost:8080/"
        },
        "id": "HSWZ2datcnrR",
        "outputId": "c1f6b2a2-283c-43b1-9801-803772de9e3b"
      },
      "id": "HSWZ2datcnrR",
      "execution_count": 100,
      "outputs": [
        {
          "output_type": "stream",
          "name": "stderr",
          "text": [
            "2022-09-18 18:07:13,676 INFO     \n",
            "Training for 40 epochs using '/content/data/GTSRB/Final_Training/Images' data\n"
          ]
        }
      ]
    },
    {
      "cell_type": "code",
      "source": [
        "### Usage of the `fit()` API\n",
        "# See: https://www.tensorflow.org/api_docs/python/tf/keras/Model#fit"
      ],
      "metadata": {
        "id": "9CMtvkzicnlc"
      },
      "id": "9CMtvkzicnlc",
      "execution_count": 101,
      "outputs": []
    },
    {
      "cell_type": "code",
      "source": [
        "history = model.fit(\n",
        "                x=train_dataset_gray,\n",
        "                epochs=model_params[MODEL_NAME].get('epochs', 10),\n",
        "                batch_size=model_params[MODEL_NAME].get('batch_size', 128),\n",
        "                validation_data=validation_dataset_gray,\n",
        "                shuffle=True\n",
        ")"
      ],
      "metadata": {
        "colab": {
          "base_uri": "https://localhost:8080/"
        },
        "id": "dTP1k8J3c0D8",
        "outputId": "ee09a4b9-0748-4c1a-aab1-6673de68c121"
      },
      "id": "dTP1k8J3c0D8",
      "execution_count": 110,
      "outputs": [
        {
          "output_type": "stream",
          "name": "stdout",
          "text": [
            "Epoch 1/40\n",
            "194/194 [==============================] - 3s 12ms/step - loss: 4.1517 - accuracy: 0.1034 - val_loss: 2.7758 - val_accuracy: 0.3047\n",
            "Epoch 2/40\n",
            "194/194 [==============================] - 2s 11ms/step - loss: 2.0762 - accuracy: 0.4318 - val_loss: 1.1550 - val_accuracy: 0.6721\n",
            "Epoch 3/40\n",
            "194/194 [==============================] - 2s 10ms/step - loss: 1.1518 - accuracy: 0.6628 - val_loss: 0.5837 - val_accuracy: 0.8558\n",
            "Epoch 4/40\n",
            "194/194 [==============================] - 2s 11ms/step - loss: 0.7703 - accuracy: 0.7773 - val_loss: 0.3280 - val_accuracy: 0.9186\n",
            "Epoch 5/40\n",
            "194/194 [==============================] - 2s 10ms/step - loss: 0.5450 - accuracy: 0.8339 - val_loss: 0.2258 - val_accuracy: 0.9465\n",
            "Epoch 6/40\n",
            "194/194 [==============================] - 2s 10ms/step - loss: 0.3993 - accuracy: 0.8804 - val_loss: 0.2168 - val_accuracy: 0.9395\n",
            "Epoch 7/40\n",
            "194/194 [==============================] - 2s 11ms/step - loss: 0.3170 - accuracy: 0.9057 - val_loss: 0.1731 - val_accuracy: 0.9558\n",
            "Epoch 8/40\n",
            "194/194 [==============================] - 2s 11ms/step - loss: 0.2684 - accuracy: 0.9160 - val_loss: 0.1344 - val_accuracy: 0.9698\n",
            "Epoch 9/40\n",
            "194/194 [==============================] - 2s 11ms/step - loss: 0.2271 - accuracy: 0.9341 - val_loss: 0.1443 - val_accuracy: 0.9698\n",
            "Epoch 10/40\n",
            "194/194 [==============================] - 3s 13ms/step - loss: 0.1943 - accuracy: 0.9403 - val_loss: 0.1161 - val_accuracy: 0.9721\n",
            "Epoch 11/40\n",
            "194/194 [==============================] - 2s 11ms/step - loss: 0.1523 - accuracy: 0.9540 - val_loss: 0.1140 - val_accuracy: 0.9767\n",
            "Epoch 12/40\n",
            "194/194 [==============================] - 2s 10ms/step - loss: 0.1663 - accuracy: 0.9491 - val_loss: 0.1476 - val_accuracy: 0.9628\n",
            "Epoch 13/40\n",
            "194/194 [==============================] - 2s 11ms/step - loss: 0.1329 - accuracy: 0.9592 - val_loss: 0.1158 - val_accuracy: 0.9744\n",
            "Epoch 14/40\n",
            "194/194 [==============================] - 2s 11ms/step - loss: 0.1325 - accuracy: 0.9599 - val_loss: 0.0847 - val_accuracy: 0.9860\n",
            "Epoch 15/40\n",
            "194/194 [==============================] - 2s 10ms/step - loss: 0.1268 - accuracy: 0.9625 - val_loss: 0.0847 - val_accuracy: 0.9837\n",
            "Epoch 16/40\n",
            "194/194 [==============================] - 3s 13ms/step - loss: 0.0917 - accuracy: 0.9760 - val_loss: 0.0968 - val_accuracy: 0.9767\n",
            "Epoch 17/40\n",
            "194/194 [==============================] - 3s 14ms/step - loss: 0.1003 - accuracy: 0.9667 - val_loss: 0.0719 - val_accuracy: 0.9860\n",
            "Epoch 18/40\n",
            "194/194 [==============================] - 3s 15ms/step - loss: 0.0886 - accuracy: 0.9739 - val_loss: 0.0728 - val_accuracy: 0.9907\n",
            "Epoch 19/40\n",
            "194/194 [==============================] - 4s 19ms/step - loss: 0.0766 - accuracy: 0.9762 - val_loss: 0.0743 - val_accuracy: 0.9860\n",
            "Epoch 20/40\n",
            "194/194 [==============================] - 3s 13ms/step - loss: 0.0917 - accuracy: 0.9729 - val_loss: 0.0585 - val_accuracy: 0.9884\n",
            "Epoch 21/40\n",
            "194/194 [==============================] - 3s 14ms/step - loss: 0.0689 - accuracy: 0.9778 - val_loss: 0.0611 - val_accuracy: 0.9884\n",
            "Epoch 22/40\n",
            "194/194 [==============================] - 3s 13ms/step - loss: 0.0573 - accuracy: 0.9845 - val_loss: 0.0674 - val_accuracy: 0.9860\n",
            "Epoch 23/40\n",
            "194/194 [==============================] - 3s 14ms/step - loss: 0.0772 - accuracy: 0.9793 - val_loss: 0.0720 - val_accuracy: 0.9837\n",
            "Epoch 24/40\n",
            "194/194 [==============================] - 2s 11ms/step - loss: 0.0640 - accuracy: 0.9809 - val_loss: 0.0667 - val_accuracy: 0.9884\n",
            "Epoch 25/40\n",
            "194/194 [==============================] - 2s 11ms/step - loss: 0.0609 - accuracy: 0.9804 - val_loss: 0.0734 - val_accuracy: 0.9837\n",
            "Epoch 26/40\n",
            "194/194 [==============================] - 3s 14ms/step - loss: 0.0551 - accuracy: 0.9824 - val_loss: 0.0565 - val_accuracy: 0.9884\n",
            "Epoch 27/40\n",
            "194/194 [==============================] - 3s 15ms/step - loss: 0.0522 - accuracy: 0.9850 - val_loss: 0.0700 - val_accuracy: 0.9860\n",
            "Epoch 28/40\n",
            "194/194 [==============================] - 2s 10ms/step - loss: 0.0497 - accuracy: 0.9863 - val_loss: 0.0599 - val_accuracy: 0.9860\n",
            "Epoch 29/40\n",
            "194/194 [==============================] - 2s 10ms/step - loss: 0.0552 - accuracy: 0.9822 - val_loss: 0.0880 - val_accuracy: 0.9791\n",
            "Epoch 30/40\n",
            "194/194 [==============================] - 2s 11ms/step - loss: 0.0449 - accuracy: 0.9876 - val_loss: 0.0488 - val_accuracy: 0.9907\n",
            "Epoch 31/40\n",
            "194/194 [==============================] - 2s 10ms/step - loss: 0.0517 - accuracy: 0.9866 - val_loss: 0.0513 - val_accuracy: 0.9907\n",
            "Epoch 32/40\n",
            "194/194 [==============================] - 2s 11ms/step - loss: 0.0408 - accuracy: 0.9899 - val_loss: 0.0608 - val_accuracy: 0.9860\n",
            "Epoch 33/40\n",
            "194/194 [==============================] - 2s 10ms/step - loss: 0.0436 - accuracy: 0.9886 - val_loss: 0.0424 - val_accuracy: 0.9930\n",
            "Epoch 34/40\n",
            "194/194 [==============================] - 2s 11ms/step - loss: 0.0330 - accuracy: 0.9891 - val_loss: 0.0686 - val_accuracy: 0.9860\n",
            "Epoch 35/40\n",
            "194/194 [==============================] - 2s 10ms/step - loss: 0.0375 - accuracy: 0.9912 - val_loss: 0.0515 - val_accuracy: 0.9907\n",
            "Epoch 36/40\n",
            "194/194 [==============================] - 2s 11ms/step - loss: 0.0369 - accuracy: 0.9899 - val_loss: 0.0625 - val_accuracy: 0.9884\n",
            "Epoch 37/40\n",
            "194/194 [==============================] - 2s 11ms/step - loss: 0.0411 - accuracy: 0.9886 - val_loss: 0.0488 - val_accuracy: 0.9884\n",
            "Epoch 38/40\n",
            "194/194 [==============================] - 2s 11ms/step - loss: 0.0390 - accuracy: 0.9881 - val_loss: 0.0506 - val_accuracy: 0.9907\n",
            "Epoch 39/40\n",
            "194/194 [==============================] - 2s 10ms/step - loss: 0.0324 - accuracy: 0.9907 - val_loss: 0.0657 - val_accuracy: 0.9884\n",
            "Epoch 40/40\n",
            "194/194 [==============================] - 2s 11ms/step - loss: 0.0261 - accuracy: 0.9922 - val_loss: 0.0561 - val_accuracy: 0.9930\n"
          ]
        }
      ]
    },
    {
      "cell_type": "markdown",
      "id": "ef86fe85",
      "metadata": {
        "id": "ef86fe85"
      },
      "source": [
        "##### Visualising the results"
      ]
    },
    {
      "cell_type": "code",
      "source": [
        "display_metrics(history)"
      ],
      "metadata": {
        "colab": {
          "base_uri": "https://localhost:8080/",
          "height": 357
        },
        "id": "yzqJdoDIc5qO",
        "outputId": "e0c99acc-946d-4b0c-8cf6-f2beed5f9ea5"
      },
      "id": "yzqJdoDIc5qO",
      "execution_count": 111,
      "outputs": [
        {
          "output_type": "display_data",
          "data": {
            "text/plain": [
              "<Figure size 1080x360 with 2 Axes>"
            ],
            "image/png": "[encoded data removed]"
          },
          "metadata": {
            "needs_background": "light"
          }
        }
      ]
    },
    {
      "cell_type": "markdown",
      "id": "670e9ca6",
      "metadata": {
        "id": "670e9ca6"
      },
      "source": [
        "## Tips"
      ]
    },
    {
      "cell_type": "markdown",
      "id": "98919fe9",
      "metadata": {
        "id": "98919fe9"
      },
      "source": [
        "A good starting point for small networks is LeNet5. You will find many existing implementations online."
      ]
    },
    {
      "cell_type": "markdown",
      "id": "2e761b03",
      "metadata": {
        "id": "2e761b03"
      },
      "source": [
        "Don't forget the basic structure of a convnet: convolutional layer, activation and pooling."
      ]
    },
    {
      "cell_type": "markdown",
      "id": "22401022",
      "metadata": {
        "id": "22401022"
      },
      "source": [
        "You can use the [`summary`](https://www.tensorflow.org/api_docs/python/tf/keras/Model#summary) method of the Keras model API to print the description of your model."
      ]
    },
    {
      "cell_type": "markdown",
      "source": [
        "## 3. Closing Remarks\n",
        "\n",
        "##### Alternatives\n",
        "* Modify the basic structure of the LeNet-5 (changing e.g., layers, activations, pooling implementations);\n",
        "* Implement a custom CNN with known performance advantages over LeNet-5;\n",
        "\n",
        "##### Extensions of task\n",
        "* Revise the LeNet-5 implementation in TensorFlow Keras to include original details (e.g., custom sub-sampling layer, custom activation function, etc.)."
      ],
      "metadata": {
        "id": "PhwQ9c9O0rsa"
      },
      "id": "PhwQ9c9O0rsa"
    },
    {
      "cell_type": "markdown",
      "source": [
        "## 4. Future Work\n",
        "- [x] Implement a custom CNN with known performance advantages over LeNet-5;\n",
        "- [x] Test and evaluate on current (padded) MNIST dataset;\n",
        "- [ ] Revise the LeNet-5 implementation to include original details (e.g., [custom sub-sampling layer](https://stats.stackexchange.com/questions/506118/lenet-5-subsample-layer-in-tensorflow), [custom activation function](https://github.com/mbrukman/reimplementing-ml-papers/blob/main/lenet/LeNet_v2_custom_Subsampling_layer_and_activation_in_Keras.ipynb));\n",
        "- [ ] Test and evaluate on modified (LeCun 1998) MNIST dataset ([custom rescaling](https://github.com/mbrukman/reimplementing-ml-papers/blob/main/lenet/LeNet_v3_Subsamping_fixed_scaling_and_learning_rate_decay_in_Keras.ipynb))."
      ],
      "metadata": {
        "id": "8ZB5dFeI1UQA"
      },
      "id": "8ZB5dFeI1UQA"
    },
    {
      "cell_type": "markdown",
      "id": "7b20331c",
      "metadata": {
        "id": "7b20331c"
      },
      "source": [
        "## Credits"
      ]
    },
    {
      "cell_type": "markdown",
      "id": "e86af3fb",
      "metadata": {
        "id": "e86af3fb"
      },
      "source": [
        "This assignment was prepared by Thomas Hossler et al., Winter 2021 (link [here](https://www.udacity.com/course/self-driving-car-engineer-nanodegree--nd0013)).\n",
        "\n",
        "\n",
        "References\n",
        "\n",
        "[1] Yu, F. Vladlen, K. Multi-Scale Context Aggregation by Dialated Convolutions. ArXiv. 2015. [doi:10.48550/ARXIV.1511.07122](https://arxiv.org/abs/1511.07122).\n",
        "\n",
        "[2] LeCun, Y. et al. \"Gradient-based learning applied to document recognition.\" Proceedings of the IEEE, 86(11):2278-2324, 1998. [doi:10.1109/5.726791](https://ieeexplore.ieee.org/document/726791).\n",
        "\n",
        "\n",
        "[3] Glorot, X. et al. Deep Sparse Rectifier Neural Networks. Proceedings of the Fourteenth International Conference on Artificial Intelligence and Statistics, PMLR 15:315-323, 2011. [https://proceedings.mlr.press/v15/glorot11a.html](https://proceedings.mlr.press/v15/glorot11a/glorot11a.pdf).\n",
        "\n",
        "[4] Zaibi, A. et al. A Lightweight Model for Traffic Sign Classification Based on Enhanced LeNet-5 Network. Journal of Sensors, vol. 2021. 2021. [doi:10.1155/2021/8870529](https://doi.org/10.1155/2021/8870529).\n",
        "\n",
        "\n",
        "Helpful resources:\n",
        "* [Convolutional Neural Network: An Overview by S. Shah | Analytics Vidhya](https://www.analyticsvidhya.com/blog/2022/01/convolutional-neural-network-an-overview/)\n",
        "* [Understanding the receptive field of deep convolutional networks by N. Adaloglou | AI Summer](https://theaisummer.com/receptive-field/)\n",
        "* [The Dying ReLU Problem, Clearly Explained by K. Leung | Towards Data Science](https://towardsdatascience.com/the-dying-relu-problem-clearly-explained-42d0c54e0d24)\n",
        "* [What is the dying ReLU problem? by S. Azhar | Educative.io](https://www.educative.io/answers/what-is-the-dying-relu-problem)"
      ]
    }
  ],
  "metadata": {
    "kernelspec": {
      "display_name": "Python 3",
      "language": "python",
      "name": "python3"
    },
    "language_info": {
      "codemirror_mode": {
        "name": "ipython",
        "version": 3
      },
      "file_extension": ".py",
      "mimetype": "text/x-python",
      "name": "python",
      "nbconvert_exporter": "python",
      "pygments_lexer": "ipython3",
      "version": "3.8.13"
    },
    "toc": {
      "base_numbering": 1,
      "nav_menu": {},
      "number_sections": false,
      "sideBar": true,
      "skip_h1_title": false,
      "title_cell": "Table of Contents",
      "title_sidebar": "Contents",
      "toc_cell": false,
      "toc_position": {},
      "toc_section_display": true,
      "toc_window_display": true
    },
    "colab": {
      "provenance": [],
      "collapsed_sections": [
        "3145fd5c",
        "e247b07b",
        "ced2a2da",
        "40bbf870",
        "63727ab3",
        "50502aca",
        "c79bbc9d",
        "ec6d040a",
        "2c4503d3",
        "4fc7fafa",
        "f0bedd6f",
        "04997dcd",
        "72433e84",
        "8e5849b2",
        "8e40afdc",
        "3a150043",
        "1f28f69a",
        "e7c574fd",
        "80d6b0b7",
        "384c8474",
        "cdc0f3ad",
        "069cea3b",
        "7a69ba1b",
        "eaca5b56",
        "031da250",
        "6cC8zlT6fWp3",
        "0MiAYhuUfc5B",
        "04db909f",
        "9bf48c62",
        "G2j_gdBFq63n",
        "cf3b6ae4",
        "7d29c235",
        "556f2c4f",
        "5827b5f0"
      ]
    },
    "accelerator": "GPU"
  },
  "nbformat": 4,
  "nbformat_minor": 5
}