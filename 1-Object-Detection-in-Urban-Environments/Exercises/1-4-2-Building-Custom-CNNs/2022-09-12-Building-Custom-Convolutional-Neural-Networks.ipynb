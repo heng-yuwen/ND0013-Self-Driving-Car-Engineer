{
  "cells": [
    {
      "cell_type": "markdown",
      "id": "8c8fd7ff",
      "metadata": {
        "id": "8c8fd7ff"
      },
      "source": [
        "# Exercise 1.4.2 - Building Custom CNNs\n",
        "#### By Jonathan L. Moran (jonathan.moran107@gmail.com)\n",
        "From the Self-Driving Car Engineer Nanodegree programme offered at Udacity."
      ]
    },
    {
      "cell_type": "markdown",
      "id": "d90eed14",
      "metadata": {
        "id": "d90eed14"
      },
      "source": [
        "## Objectives"
      ]
    },
    {
      "cell_type": "markdown",
      "id": "06ef1e77",
      "metadata": {
        "id": "06ef1e77"
      },
      "source": [
        "* Use the TensorFlow Keras [Sequential API](https://www.tensorflow.org/api_docs/python/tf/keras/Sequential) to create a convolutional neural network ([CNN](https://en.wikipedia.org/wiki/Convolutional_neural_network));\n",
        "* Implement the [LeNet-5](https://en.wikipedia.org/wiki/LeNet) CNN architecture;\n",
        "* Train the LeNet-5 on the modified [MNIST digits](http://yann.lecun.com/exdb/mnist/) dataset;\n",
        "* Train a CNN model (e.g., LeNet-5) on the German Traffic Sign Recognition Benchmark [GTSRB](https://benchmark.ini.rub.de/gtsrb_dataset.html) dataset."
      ]
    },
    {
      "cell_type": "markdown",
      "id": "e859be21",
      "metadata": {
        "id": "e859be21"
      },
      "source": [
        "## 1. Introduction"
      ]
    },
    {
      "cell_type": "code",
      "execution_count": null,
      "id": "0e81ad1b",
      "metadata": {
        "id": "0e81ad1b"
      },
      "outputs": [],
      "source": [
        "### Importing the required modules"
      ]
    },
    {
      "cell_type": "code",
      "execution_count": 1,
      "id": "b25a0963",
      "metadata": {
        "id": "b25a0963"
      },
      "outputs": [],
      "source": [
        "from collections import defaultdict\n",
        "import logging\n",
        "import matplotlib.pyplot as plt\n",
        "import os\n",
        "import tensorflow as tf\n",
        "import tensorflow_datasets as tfds\n",
        "from typing import Generator, Iterator, List, Tuple"
      ]
    },
    {
      "cell_type": "code",
      "source": [
        "tf.__version__"
      ],
      "metadata": {
        "colab": {
          "base_uri": "https://localhost:8080/",
          "height": 36
        },
        "id": "VlCuik5WFo-G",
        "outputId": "5a082564-c913-404c-abef-52cde69c323a"
      },
      "id": "VlCuik5WFo-G",
      "execution_count": 2,
      "outputs": [
        {
          "output_type": "execute_result",
          "data": {
            "text/plain": [
              "'2.8.2'"
            ],
            "application/vnd.google.colaboratory.intrinsic+json": {
              "type": "string"
            }
          },
          "metadata": {},
          "execution_count": 2
        }
      ]
    },
    {
      "cell_type": "code",
      "source": [
        "tf.test.gpu_device_name()"
      ],
      "metadata": {
        "colab": {
          "base_uri": "https://localhost:8080/",
          "height": 36
        },
        "id": "Bdl34d5jFo6V",
        "outputId": "1916352e-9ff6-4142-e882-066b61d34cbf"
      },
      "id": "Bdl34d5jFo6V",
      "execution_count": 3,
      "outputs": [
        {
          "output_type": "execute_result",
          "data": {
            "text/plain": [
              "''"
            ],
            "application/vnd.google.colaboratory.intrinsic+json": {
              "type": "string"
            }
          },
          "metadata": {},
          "execution_count": 3
        }
      ]
    },
    {
      "cell_type": "code",
      "source": [
        "### Setting the environment variables"
      ],
      "metadata": {
        "id": "14SKbFEhFowk"
      },
      "id": "14SKbFEhFowk",
      "execution_count": null,
      "outputs": []
    },
    {
      "cell_type": "code",
      "source": [
        "ENV_COLAB = True                # True if running in Google Colab instance"
      ],
      "metadata": {
        "id": "QRK1yNpUFyNg"
      },
      "id": "QRK1yNpUFyNg",
      "execution_count": 4,
      "outputs": []
    },
    {
      "cell_type": "code",
      "source": [
        "# Root directory\n",
        "DIR_BASE = '' if not ENV_COLAB else '/content/'"
      ],
      "metadata": {
        "id": "mo7YMWrIFyJW"
      },
      "id": "mo7YMWrIFyJW",
      "execution_count": 5,
      "outputs": []
    },
    {
      "cell_type": "code",
      "source": [
        "# Subdirectory to save output files\n",
        "DIR_OUT = os.path.join(DIR_BASE, 'out/')\n",
        "# Subdirectory pointing to input data\n",
        "DIR_SRC = os.path.join(DIR_BASE, 'data/')"
      ],
      "metadata": {
        "id": "600UKHaQFyFI"
      },
      "id": "600UKHaQFyFI",
      "execution_count": 6,
      "outputs": []
    },
    {
      "cell_type": "code",
      "source": [
        "### Unzipping the GTSRB dataset\n",
        "!unzip -q /content/GTSRB.zip -d /content/data/"
      ],
      "metadata": {
        "id": "fyBCboPTFyA_"
      },
      "id": "fyBCboPTFyA_",
      "execution_count": 7,
      "outputs": []
    },
    {
      "cell_type": "code",
      "source": [
        "### Creating subdirectories (if not exists)\n",
        "os.makedirs(DIR_OUT, exist_ok=True)"
      ],
      "metadata": {
        "id": "vAjY0rSzF4Of"
      },
      "id": "vAjY0rSzF4Of",
      "execution_count": 8,
      "outputs": []
    },
    {
      "cell_type": "markdown",
      "id": "3145fd5c",
      "metadata": {
        "id": "3145fd5c"
      },
      "source": [
        "### 1.1. Convolutional Neural Networks (CNNs)"
      ]
    },
    {
      "cell_type": "markdown",
      "id": "e247b07b",
      "metadata": {
        "id": "e247b07b"
      },
      "source": [
        "#### Background"
      ]
    },
    {
      "cell_type": "markdown",
      "id": "d0e145f5",
      "metadata": {
        "id": "d0e145f5"
      },
      "source": [
        "A [convolutional neural network](https://en.wikipedia.org/wiki/Convolutional_neural_network) (\"ConvNet\") is a special type of neural network particularly well-suited to handle image data. Like the feedforward neural networks we saw in [Exercise 1.3.3](https://github.com/jonathanloganmoran/ND0013-Self-Driving-Car-Engineer/blob/main/1-Object-Detection-in-Urban-Environments/Exercises/1-3-3-Image-Classification-FNNs/2022-09-05-Image-Classification-Feed-Forward-Neural-Networks.ipynb), CNNs are composed of layers of neurons that have trainable weights and biases. In addition, CNNs often use activation functions and fully-connected layers similar to FNNs (e.g., softmax).\n",
        "\n",
        "With CNNs, we make the assumption that we will always be using image data as our inputs. Since image data is multi-dimensional, resizing these $\\left[H, W, D\\right]$ arrays to flattened $\\left[1x\\left(H*W*D\\right)\\right]$ vectors is necessary when using fully-connected layers, such as in feedforward neural networks. With ConvNets, however, we make use of locally-connected layers that operate over small portions of _volumetric data_. That is, ConvNets allow us to preserve the existing structure of image data and drastically reduce the amount of trainable parameters needed in each layer of our network. For example, a single fully-connected neuron will require a number of weight values equal to the number of attributes in our image input. For an image of size $\\left[64, 64, 3\\right]$, we obtain $(64*64*3) = 12288$ weight values _per neuron_. For a layer with only $n = 10$ fully-connected neurons, the number of trainable weights we have skyrockets to an astonishing $n * 12288 = 122880$ parameters per layer. We will see in this exercise that by limiting the connectivity of neurons between layers, we can design a network that reduces the number of parameters required while simultaneously _increasing_ the number of layers in the architecture."
      ]
    },
    {
      "cell_type": "markdown",
      "id": "f117afd2",
      "metadata": {
        "id": "f117afd2"
      },
      "source": [
        "![Fig. 1. The convolutional neural network architecture (simplified).](figures/2022-09-12-Figure-1-Convolutional-Neural-Network-Simplified.png)\n",
        "\n",
        "$$\n",
        "\\textrm{Fig. 1. The convolutional neural network architecture (simplified)}.\n",
        "$$"
      ]
    },
    {
      "cell_type": "markdown",
      "id": "ced2a2da",
      "metadata": {
        "id": "ced2a2da"
      },
      "source": [
        "#### Layers"
      ]
    },
    {
      "cell_type": "markdown",
      "id": "e40b6610",
      "metadata": {
        "id": "e40b6610"
      },
      "source": [
        "Most, if not all, convolutional neural network architectures use some combination of the following three distinct layer types: _convolutional layer_, _pooling layer_, and _fully-connected layer_. We have implemented fully-connected layers in [Exercise 1.3.3](https://github.com/jonathanloganmoran/ND0013-Self-Driving-Car-Engineer/blob/main/1-Object-Detection-in-Urban-Environments/Exercises/1-3-3-Image-Classification-FNNs/2022-09-05-Image-Classification-Feed-Forward-Neural-Networks.ipynb) for feedforward neural networks, and their application in ConvNets is no different. However, we introduce the _convolutional layer_ in this exercise. We will touch on these in more detail in just a minute."
      ]
    },
    {
      "cell_type": "markdown",
      "id": "40bbf870",
      "metadata": {
        "id": "40bbf870"
      },
      "source": [
        "##### Input layer"
      ]
    },
    {
      "cell_type": "markdown",
      "id": "996a3410",
      "metadata": {
        "id": "996a3410"
      },
      "source": [
        "It is important to first note that our _input layer_ corresponds directly to the dimensionality of our image data. One major assumption we make with convolutional neural networks is that our input image dimensions are constant. That is, that every image passing through our network shares the same _height_, _width_, and _channel_ dimensions. In ConvNets, the _depth_ of an image (its colour channels, e.g., R, G, B) is maintained throughout the network while the height and width might change. For convolutional and pooling layers, this matters because each kernel and filter will require an extra dimension $D$ equal to the number of colour channels in an image in addition to their width and height attributes. For an RGB image, a kernel/filter of size $\\left(h \\ x \\ w\\right)$ will therefore have dimensions $\\left(h \\ x \\ w \\ x \\ 3\\right)$."
      ]
    },
    {
      "cell_type": "markdown",
      "id": "63727ab3",
      "metadata": {
        "id": "63727ab3"
      },
      "source": [
        "##### Convolutional layer"
      ]
    },
    {
      "cell_type": "markdown",
      "id": "c364662b",
      "metadata": {
        "id": "c364662b"
      },
      "source": [
        "Very similar to the pooling layers we studied in [Exercise 1.4.1](https://github.com/jonathanloganmoran/ND0013-Self-Driving-Car-Engineer/blob/main/1-Object-Detection-in-Urban-Environments/Exercises/1-4-1-Pooling-Layers-CNNs/2022-09-07-Pooling-Layers-Convolutional-Neural-Networks.ipynb), these layers take an input, the volumetric image data, and perform sliding window operations ([convolutions](https://en.wikipedia.org/wiki/Convolution)) over the image. The convolution layer, like pooling layers, have _stride_, _kernel size_ and _padding_ attributes. We also introduce a _filter_ hyperparameter which allows us to specify the desired dimensionality of our convolution layer output. Convolutional layers rarely ever have just _one filter_. In fact, it is very common to see a single convolutional layer have anywhere from 32 filters up to 512. Each _filter_ represents a _feature_ in the input image (hence the output name \"feature map\"). These filters are templates which, when convolved with an input image, help locate and identify vertical, horizontal edges, arches, diagonal lines, etc.\n",
        "\n",
        "The convolutional layer in a network is often directly followed by an element-wise activation layer such as the Rectified Linear Unit ([ReLU](https://en.wikipedia.org/wiki/Rectifier_\\(neural_networks\\))) to introduce further non-linearities into the network. Note that the activation layer's output dimensions remain constant."
      ]
    },
    {
      "cell_type": "markdown",
      "id": "50502aca",
      "metadata": {
        "id": "50502aca"
      },
      "source": [
        "##### Pooling layer"
      ]
    },
    {
      "cell_type": "markdown",
      "id": "fcabccc2",
      "metadata": {
        "id": "fcabccc2"
      },
      "source": [
        "Pooling layers, as mentioned in the previous Exercise 1.4.1, reduce the size (spatial dimensions) of the images through a downsampling (averaging) or sub-sampling (max/min) operation. By replacing adjacent pixel values with neighbourhood calculations we are able to transform the output and effectively manipulate (increase _multiplicatively_) the [receptive field](https://en.wikipedia.org/wiki/Receptive_field#In_the_context_of_neural_networks) of the image (i.e., the region within an image of which a particular neuron is sensitive to). On the other hand, convolutional layers increase the receptive field _linearly_ proportional to the kernel size. Cascading convolutional layers with _dialated filters_ increase the receptive field exponentially [1]. By shrinking the image, we are essentially _increasing_ the amount of its pixels (information) we can fit into a single \"patch\" for a neuron to consider.\n",
        "\n",
        "As the image becomes reduced in size as it passes through the network, neurons in deeper layers get to \"see\" larger and larger parts of the whole image. In turn, we can increase the receptive field of a network exponentially while increasing the number of parameters linearly. This trade-off is what affords us the ability to swap only a few fully-connected layers for _handfuls_ of convolutional stacks without increasing complexity or decreasing the receptive field."
      ]
    },
    {
      "cell_type": "markdown",
      "id": "c79bbc9d",
      "metadata": {
        "id": "c79bbc9d"
      },
      "source": [
        "##### Fully-connected layer"
      ]
    },
    {
      "cell_type": "markdown",
      "id": "d0a51e94",
      "metadata": {
        "id": "d0a51e94"
      },
      "source": [
        "While we aren't able to eliminate fully-connected layers altogether, their use in convolutional neural networks is limited. Fully-connected layers appear at the end of a network for classification; the number of neurons of the last fully-connected layer in a CNN equal the number of distinct classes predicted (e.g., there are $3$ distinct classes being predicted in the example shown in Fig. 1). Practitioners may also choose to implement several preceding fully-connected layers with an arbitrarily large number of neurons, e.g., 512, 256, 64."
      ]
    },
    {
      "cell_type": "markdown",
      "id": "ec6d040a",
      "metadata": {
        "id": "ec6d040a"
      },
      "source": [
        "#### In summary\n",
        "   * Inputs to a ConvNet are volumetric image data with fixed dimensions;\n",
        "   * We use pooling layers to _downsample_ or _sub-sample_ images (reduce their spatial dimensions);\n",
        "   * By reducing the spatial dimensions, we _increase_ the neurons' receptive fields (how much of the image they can \"see\");\n",
        "   * With convolutional networks we are able to eventually cover the entire region of an input image at a cost significantly reduced to fully-connected layers;"
      ]
    },
    {
      "cell_type": "markdown",
      "id": "cad873e8",
      "metadata": {
        "id": "cad873e8"
      },
      "source": [
        "We have now learned the benefits of convolutional architectures to more-traditional neural networks (specifically, feedforward neural networks); by adding \"stacks\" of convolutional/pooling layers, we can exploit the complexity-efficiency trade-off. Convolutional stacks help us set reasonable limits on neural network complexity by decreasing the number of overall trainable parameters we have to work with layer-for-layer. This not only improves training efficiency but also helps boost performance on image classification tasks.\n",
        "\n",
        "While popular CNN architectures often make use of even more efficiency-focused layers, such as _dropout_/_inverted dropout_, _skip connections_, and _batch normalisation_, we will limit our discussion on those topics for now."
      ]
    },
    {
      "cell_type": "markdown",
      "id": "2c4503d3",
      "metadata": {
        "id": "2c4503d3"
      },
      "source": [
        "### 1.2. LeNet"
      ]
    },
    {
      "cell_type": "markdown",
      "id": "4fc7fafa",
      "metadata": {
        "id": "4fc7fafa"
      },
      "source": [
        "#### Background"
      ]
    },
    {
      "cell_type": "markdown",
      "id": "4365ef26",
      "metadata": {
        "id": "4365ef26"
      },
      "source": [
        "![Fig. 2. The LeNet-5 convolutional neural network architecture for digits recognition.](figures/2022-09-12-Figure-2-LeNet-5-CNN-Architecture.png)\n",
        "\n",
        "$$\n",
        "\\textrm{Fig. 2. The LeNet-5 convolutional neural network architecture for digits recognition (proposed in LeCun 1998:7).}\n",
        "$$"
      ]
    },
    {
      "cell_type": "markdown",
      "id": "30cc2883",
      "metadata": {
        "id": "30cc2883"
      },
      "source": [
        "The [LeNet-5](https://en.wikipedia.org/wiki/LeNet) is a convolutional neural network architecture proposed by Yann LeCun et al. of Bell Labs in 1998 [2]. LeNet-5 is recognised in the deep learning community as being one of the earliest ConvNet architectures with work dating back to [1989](https://doi.org/10.1162%2Fneco.1989.1.4.541). LeCun's model (illustrated in Fig. 2) has all the basic units of a convolutional neural network: convolutional layers, pooling layers and fully-connected layers. Like most ConvNet architectures we studied, the LeNet-5 has alternating convolutional and sub-sampling (average pooling) layers. Also as expected we see that the number of filters/kernel windows increases as we go deeper in the network, starting with $6$ and increasing to $16$ in the final convolutional layer. In Fig. 2, we can interpret the number preceeding the \"@\" symbol as the number of filters/kernels of each layer, followed by the filter/kernel size (omitting the _depth_ dimension from the notation). Lastly, we have for each layer in the convolutional stack a _stride_ hyperparameter denoted by $s$.\n",
        "\n",
        "Not shown in Fig. 2 is the use of the [tanh](https://paperswithcode.com/method/tanh-activation) non-linear activation function throughout the network. While this proved to be a better performer than the sigmoid function for a multi-layer neural network, _tanh_ did not appropriately handle the [vanishing gradient problem](https://en.wikipedia.org/wiki/Vanishing_gradient_problem), architectures today utilise other activation functions such as [ReLU](https://en.wikipedia.org/wiki/ReLU) or [batch normalisation](https://en.wikipedia.org/wiki/Batch_normalization) to solve this. The last layer of the network utilises a [softmax](https://en.wikipedia.org/wiki/Softmax_function) activation function to fit a Gaussian distribution to the predicted class probabilities."
      ]
    },
    {
      "cell_type": "markdown",
      "id": "f0bedd6f",
      "metadata": {
        "id": "f0bedd6f"
      },
      "source": [
        "#### Layers"
      ]
    },
    {
      "cell_type": "markdown",
      "id": "04997dcd",
      "metadata": {
        "id": "04997dcd"
      },
      "source": [
        "##### Input layer"
      ]
    },
    {
      "cell_type": "markdown",
      "id": "f10c814c",
      "metadata": {
        "id": "f10c814c"
      },
      "source": [
        "The input to the LeNet-5 network is a set of $\\left(32 \\ x \\ 32 \\ x \\ 1\\right)$ grayscale images, each consisting of a single handwritten digit (read more on the modified MNIST SD-1/SD-3 dataset [here](http://yann.lecun.com/exdb/mnist/)). The pixel values of the input images are normalised (anti-aliasing) so that the background (white) has a pixel value of $-0.1$ and the foreground (black) has a value $1.175$. This choice for normalisation is made such that the mean value of the input is roughly $0$ and the variance roughly $1$ to accelerate learning."
      ]
    },
    {
      "cell_type": "markdown",
      "id": "72433e84",
      "metadata": {
        "id": "72433e84"
      },
      "source": [
        "##### Convolutional layer (C1)"
      ]
    },
    {
      "cell_type": "markdown",
      "id": "e402f1f5",
      "metadata": {
        "id": "e402f1f5"
      },
      "source": [
        "* **Input size**: $32 x 32 x 1$\n",
        "* **Feature maps**: $6$\n",
        "* **Kernel size**: $5x5x1$\n",
        "* **Stride**: $1$\n",
        "* **Padding**: $0$\n",
        "* **Output size**: $(28x28x1)$; $(32 - 5 + 2*0) \\ / \\ 1 + 1 = 28$\n",
        "* **Neurons**: $6 * (28x28x1) = 4704$\n",
        "* **Trainable parameters**: $6 * (5x5x1 + 1) = 156$\n",
        "* **Total connections**: $6 * (5x5x1 + 1) * (28x28) = 122304$\n",
        "* **Activation function**: Tanh"
      ]
    },
    {
      "cell_type": "markdown",
      "id": "79655646",
      "metadata": {
        "id": "79655646"
      },
      "source": [
        "This convolutional layer has $6$ feature maps. Each unit of each feature map connects to a $5 x 5$ region within the input image. The feature map size of $28 x 28$ has been selected so that the strided convolutions do not result in any dropped pixels (for more information on that, see [Exercise 1.4.1](https://github.com/jonathanloganmoran/ND0013-Self-Driving-Car-Engineer/blob/main/1-Object-Detection-in-Urban-Environments/Exercises/1-4-1-Pooling-Layers-CNNs/2022-09-07-Pooling-Layers-Convolutional-Neural-Networks.ipynb)). each kernel has an additional bias term (hence the \"+1\" in the above calculation of trainable parameters. While the number of connections seems tremendous, due to _weight sharing_ we only need to learn $156$ parameters for this layer."
      ]
    },
    {
      "cell_type": "markdown",
      "id": "8e5849b2",
      "metadata": {
        "id": "8e5849b2"
      },
      "source": [
        "##### Average pooling layer (S2)"
      ]
    },
    {
      "cell_type": "markdown",
      "id": "ba5c3bfd",
      "metadata": {
        "id": "ba5c3bfd"
      },
      "source": [
        "* **Input size**: $28 x 28 x 1$\n",
        "* **Feature maps**: $6$\n",
        "* **Filter size**: $2x2x1$\n",
        "* **Stride**: $2$\n",
        "* **Padding**: $0$\n",
        "* **Output size**: $(14x14x1)$; $(28 - 2 + 2*0) \\ / \\ 2 + 1 = 14$\n",
        "* **Neurons**: $6 * (14x14x1) = 1176$\n",
        "* **Trainable parameters**: $6 * (1 + 1) = 12$\n",
        "* **Total connections**: $6 * (2x2x1 + 1) * (14x14x1) = 5880$\n",
        "* **Activation function**: Tanh"
      ]
    },
    {
      "cell_type": "markdown",
      "id": "b079f610",
      "metadata": {
        "id": "b079f610"
      },
      "source": [
        "This sub-sampling layer uses the local average pooling calculations to reduce the input size in half from $28x28$ to $14x14$. Each window of values is summed, multiplied by a weight coefficient $w$ and then added together with a trainable bias offset term $b$ (hence the number of trainable parameters shown above). These parameters are learned with [back-propagation](https://en.wikipedia.org/wiki/Backpropagation). The intermediate output values are then passed into a sigmoid activation function which is used to enforce non-linearity. The coefficient and bias terms regulate the intensity of the sigmoid function on the output. If the coefficient values are small, then the units operate in a quasi-linear mode such that the sub-sampling layer merely blurs the input. If the coefficient is large, sub-sampling performs similarly to a \"noisy OR\", \"noisy AND\" function depending on the value of the bias (LeCun 1998).\n",
        "\n",
        "The affect of downsampling of the input is a reduction in sensitivity of the output to shifts and distortions. By progressively reducing the spatial resolution with sub-sampling, we compensate the effect by progressively increasing the number of feature maps (the richness of the representation)."
      ]
    },
    {
      "cell_type": "markdown",
      "id": "8e40afdc",
      "metadata": {
        "id": "8e40afdc"
      },
      "source": [
        "##### Convolutional layer (C3)"
      ]
    },
    {
      "cell_type": "markdown",
      "id": "68a1a3e9",
      "metadata": {
        "id": "68a1a3e9"
      },
      "source": [
        "* **Input size**: $14 x 14 x 1$\n",
        "* **Feature maps**: $16$\n",
        "* **Kernel size**: $5 x 5 x 1$\n",
        "* **Stride**: $1$\n",
        "* **Padding**: $0$\n",
        "* **Output size**: $(10x10x1)$; $(14 - 5 + 2*0) \\ / \\ 1 + 1 = 10$\n",
        "* **Neurons**: $16 * (10x10x1) = 1600$\n",
        "* **Trainable parameters**: $6 * \\left[(3x5x5 + 1) + (4x5x5 + 1)\\right] + 3*\\left[(4x5x5 + 1)\\right] + 1*\\left[(6x5x5 + 1)\\right] = 1516$\n",
        "* **Total connections**: $1516*(10x10x1) = 151600$\n",
        "* **Activation function**: Tanh"
      ]
    },
    {
      "cell_type": "markdown",
      "id": "d3bc0166",
      "metadata": {
        "id": "d3bc0166"
      },
      "source": [
        "In this second convolutional layer, we increase the number of feature maps to $16$. In conjunction with the progressive decrease in spatial dimensions of the input images, we now _increase_ the richness of the representation of the input by increasing the number of feature maps. With the increase in feature maps brings a non-complete connection scheme in order to keep the number of connections of $S2$ and $C3$ within resonable bounds."
      ]
    },
    {
      "cell_type": "markdown",
      "id": "b52b855a",
      "metadata": {
        "id": "b52b855a"
      },
      "source": [
        "![Fig. 3. The non-complete connection scheme for layers S2 and C3 (reproduced from LeCun et al., 1998)](figures/2022-09-12-Figure-3-Table-1-LeCun-1998.png)\n",
        "\n",
        "$$\n",
        "\\textrm{Fig. 3. The non-complete connection scheme for layers} \\ S2  \\ \\textrm{and} \\  C3  \\ \\textrm{(reproduced from LeCun et al., 1998)}\n",
        "$$"
      ]
    },
    {
      "cell_type": "markdown",
      "id": "91eb2e87",
      "metadata": {
        "id": "91eb2e87"
      },
      "source": [
        "From the _total connections_ calculation above we see that the first _six_ feature maps of $C3$ take inputs from every contiguous subset of _three_ feature maps of $S2$. The next _six_ feature maps of $C3$ take inputs from every contiguous subset of _four_ feature maps of $S2$. The following _three_ feature maps of $C3$ take inputs from _discontinuous_ subsets of _four_ feature maps of $S2$. The last feature map ($1$) takes _all six_ inputs of the feature maps of $S2$.\n",
        "\n",
        "With that, we calculate the total number of trainable parameters of $C3$ equal to $1516$ and the number of total connections equal to $151600$."
      ]
    },
    {
      "cell_type": "markdown",
      "id": "3a150043",
      "metadata": {
        "id": "3a150043"
      },
      "source": [
        "##### Average Pooling layer (S4)"
      ]
    },
    {
      "cell_type": "markdown",
      "id": "9563c472",
      "metadata": {
        "id": "9563c472"
      },
      "source": [
        "* **Input size**: $10 x 10 x 1$\n",
        "* **Feature maps**: $16$\n",
        "* **Filter size**: $2x2x1$\n",
        "* **Stride**: $2$\n",
        "* **Padding**: $0$\n",
        "* **Output size**: $(5x5x1)$; $(10 - 2 + 2*0) \\ / \\ 2 + 1 = 5$\n",
        "* **Neurons**: $16 * (5x5x1) = 400$\n",
        "* **Trainable parameters**: $16 * (1 + 1) = 32$\n",
        "* **Total connections**: $16 * (2x2x1 + 1) * (5x5x1) = 2000$\n",
        "* **Activation function**: Tanh"
      ]
    },
    {
      "cell_type": "markdown",
      "id": "c7c1fc9c",
      "metadata": {
        "id": "c7c1fc9c"
      },
      "source": [
        "The down-sampling layer $S4$ reduces its input by a factor of 2 from $10x10x1$ down to $5x5x1$. The $16$ feature maps of size $10x10x1$ from $C3$ are pooled into $2x2x1$ units to obtain $16$ feature maps of size $5x5x1$.  "
      ]
    },
    {
      "cell_type": "markdown",
      "id": "1f28f69a",
      "metadata": {
        "id": "1f28f69a"
      },
      "source": [
        "##### Convolutional layer (C5)"
      ]
    },
    {
      "cell_type": "markdown",
      "id": "061e316d",
      "metadata": {
        "id": "061e316d"
      },
      "source": [
        "* **Input size**: $5 x 5 x 1$\n",
        "* **Feature maps**: $120$\n",
        "* **Kernel size**: $5 x 5 x 1$\n",
        "* **Stride**: $1$\n",
        "* **Padding**: $0$\n",
        "* **Output size**: $(1x1x1)$; $(5 - 5 + 2*0) \\ / \\ 1 + 1 = 1$\n",
        "* **Neurons**: $120 * (1x1x1) = 120$\n",
        "* **Trainable parameters**: $120 * (16x5x5x1 + 1) = 48120$\n",
        "* **Total connections**: $120 * (16x5x5x1) = 48000$\n",
        "* **Activation function**: Tanh"
      ]
    },
    {
      "cell_type": "markdown",
      "id": "50148929",
      "metadata": {
        "id": "50148929"
      },
      "source": [
        "Here the final convolutional layer $C5$ is considered to be fully-connected with respect to the input dimensionality of the digits images. For any other configuration (i.e., an increase in the number of channels, as with RGB images), we can expect this to be explicitly a convolutional layer. For the digits dataset, given a kernel size of $5x5x1$ and a corresponding output of layer $S4$ of size $5x5x1$, we obtain a fully-connected layer with $(1x1x1)$ feature map output dimensions. Therefore, we have $48120$ trainable parameters and $48000$ total connections in this last convolutional layer.  "
      ]
    },
    {
      "cell_type": "markdown",
      "id": "e7c574fd",
      "metadata": {
        "id": "e7c574fd"
      },
      "source": [
        "##### Fully-connected layer (F6)"
      ]
    },
    {
      "cell_type": "markdown",
      "id": "0818a69e",
      "metadata": {
        "id": "0818a69e"
      },
      "source": [
        "* **Input size**: $1 x 1 x 1$\n",
        "* **Feature maps**: N/A\n",
        "* **Kernel size**: N/A\n",
        "* **Stride**: N/A\n",
        "* **Padding**: N/A\n",
        "* **Output size**: $(1x1)$\n",
        "* **Neurons**: $84 * (1x1x1) = 84$\n",
        "* **Trainable parameters**: $84*(120x1x1 + 1) = 10164$\n",
        "* **Total connections**: $120 * (16x5x5x1) = 48000$\n",
        "* **Activation function**: Tanh"
      ]
    },
    {
      "cell_type": "markdown",
      "id": "e93aa4ef",
      "metadata": {
        "id": "e93aa4ef"
      },
      "source": [
        "The second-to-last layer in the LeNet-5 network is fully-connected to the convolutional layer $C5$; we can consider $F6$ to be a true fully-connected layer with $84$ units. Here the number of units for this layer was selected according to a $7x12$ bitmap representation corresponding to one of the $10$ character classes. This is considering that the representation used is not particularly useful for _isolated_ digits but rather _strings_ of characters selected from the printable ASCII set which tends to produce _confusable_ i.e., different characters with similar appearances (e.g., an upper/lower-case \"O\" and a zero, or an uppercase \"I\" and the digit 1)."
      ]
    },
    {
      "cell_type": "markdown",
      "id": "80d6b0b7",
      "metadata": {
        "id": "80d6b0b7"
      },
      "source": [
        "##### Output layer (OUTPUT or F7)"
      ]
    },
    {
      "cell_type": "markdown",
      "id": "b365343b",
      "metadata": {
        "id": "b365343b"
      },
      "source": [
        "* **Classes**: 10\n",
        "* **Output size**: $(10x1)$\n",
        "* **Neurons**: $84 * (1x1x1) = 84$\n",
        "* **Trainable parameters**: $84*(10x1x1 + 0) = 840$\n",
        "* **Total connections**: $10 * (84x1x1x1) = 840$\n",
        "* **Activation function**: RBF"
      ]
    },
    {
      "cell_type": "markdown",
      "id": "43c46e5d",
      "metadata": {
        "id": "43c46e5d"
      },
      "source": [
        "The final layer in the LeNet-5 is of course the classification output layer — a fully-connected layer composed of Euclidean Radial Basis Function units (RBF). There are 10 RBF units, one for each digit class, each with a set of 84 inputs. The output of each RBF unit is computed with a Euclidean distance summation between its input vector and its parameter vector. The Euclidean distance (L2 loss) serves as a penalty for the input and RBF digit class; the larger the RBF output, the farther away the input is from the parameter vector. The choice of L2 loss here greatly penalises outliers (distance \"away\" from parameter vectors). The RBF output can also be interpreted as the un-normalised negative log-likelihood of the Gaussian distribution of $F6$.\n",
        "\n",
        "In short, the parameter vectors of the RBF units act as target vectors for the $F6$ layer. The components of the parameter vectors are valued $+1$ or $-1$, which are points along the maximum curvature of the scaled _hyperbolic tangent_, i.e., [tanh](https://en.wikipedia.org/wiki/Hyperbolic_functions#Hyperbolic_tangent), or in other words — the re-scaled and shifted sigmoid activation function. Therefore, the RBF activation function is chosen for this output layer to enforce the maximally non-linear range of the tanh function applied to units in $F6$."
      ]
    },
    {
      "cell_type": "markdown",
      "id": "384c8474",
      "metadata": {
        "id": "384c8474"
      },
      "source": [
        "#### Reflecting on the LeNet-5"
      ]
    },
    {
      "cell_type": "markdown",
      "id": "cdc0f3ad",
      "metadata": {
        "id": "cdc0f3ad"
      },
      "source": [
        "##### Activation functions"
      ]
    },
    {
      "cell_type": "markdown",
      "id": "6f458176",
      "metadata": {
        "id": "6f458176"
      },
      "source": [
        "The tanh and sigmoid activation functions used in LeNet-5 have their downsides. As pointed out in the original paper by LeCun et al., 1998, the scaled tanh function presents issues with saturation at the maximum and minimum boundary points. This leads to [vanishing gradient problem](https://en.wikipedia.org/wiki/Vanishing_gradient_problem) as the derivatives of the function approach zero. Since we have a handful of hidden layers, the multiplication of these near-zero gradient values results in an exponential decrease in the gradient as it is propagated from the final to the initial layer.\n",
        "\n",
        "ReLu or Leaky ReLu are more often used nowadays to address this. ReLU imposes a lower-bound for gradient values at $0$. This handles the vanishing gradient problem by eliminating saturation at very small gradient values — their values simply become zero, ultimately encourages sparsity in the learned representations [3]. Yet in some cases, ReLU may end up always returning the lower-bound ($0$) for any input. The [dying ReLU problem](https://www.educative.io/answers/what-is-the-dying-relu-problem) is the result of zero-valued gradient propagations and a high learning rate or a large negative bias could be at fault. To mitigate this, the [Leaky ReLU](https://www.tensorflow.org/api_docs/python/tf/keras/layers/LeakyReLU) is used which does not produce zero-valued gradients."
      ]
    },
    {
      "cell_type": "markdown",
      "id": "eeb3b264",
      "metadata": {
        "id": "eeb3b264"
      },
      "source": [
        "## 2. Programming Task"
      ]
    },
    {
      "cell_type": "markdown",
      "id": "8a92cf7b",
      "metadata": {
        "id": "8a92cf7b"
      },
      "source": [
        "Using the Keras API, you have to create a small convolutional neural networks using less than 15 layers, containing at least one convolutional layer, one pooling layer and one dense (fully connected layer). You can find a list of the different layers available [here](https://www.tensorflow.org/api_docs/python/tf/keras/layers)."
      ]
    },
    {
      "cell_type": "code",
      "execution_count": 9,
      "id": "83d6a81d",
      "metadata": {
        "id": "83d6a81d"
      },
      "outputs": [],
      "source": [
        "model_params = defaultdict(dict)"
      ]
    },
    {
      "cell_type": "markdown",
      "id": "069cea3b",
      "metadata": {
        "id": "069cea3b"
      },
      "source": [
        "### 2.1. LeNet-5"
      ]
    },
    {
      "cell_type": "markdown",
      "id": "7a69ba1b",
      "metadata": {
        "id": "7a69ba1b"
      },
      "source": [
        "#### Defining the model architecture"
      ]
    },
    {
      "cell_type": "code",
      "execution_count": 10,
      "id": "4a64f8ef",
      "metadata": {
        "id": "4a64f8ef"
      },
      "outputs": [],
      "source": [
        "### From Udacity's `training.py`"
      ]
    },
    {
      "cell_type": "code",
      "execution_count": 11,
      "id": "a7e59f0b",
      "metadata": {
        "id": "a7e59f0b"
      },
      "outputs": [],
      "source": [
        "def create_lenet_network(input_shape: Tuple[int], \n",
        "                         output_shape: int) -> tf.keras.Sequential:\n",
        "    \"\"\"Creates the LeNet-5 network (LeCun et al., 1998).\n",
        "    \n",
        "    :param input_shape: tuple, the n-dimensional shape of the input images.\n",
        "    :param: output_shape: tuple, the 1D shape corresponding to number of\n",
        "        distinct classes to predict.\n",
        "    :returns: the LeNet-5 Model object.\n",
        "    \"\"\"\n",
        "    # IMPLEMENT THIS FUNCTION\n",
        "    \n",
        "    model = tf.keras.Sequential([\n",
        "        # The C1 (convolutional) layer\n",
        "        tf.keras.layers.Conv2D(\n",
        "                input_shape=input_shape,    # Shape of the input images\n",
        "                filters=6, \n",
        "                kernel_size=(5, 5), \n",
        "                strides=(1, 1), \n",
        "                padding='valid',            # No padding\n",
        "                activation='tanh'\n",
        "        ),\n",
        "        # The S2 (sub-sampling) layer\n",
        "        tf.keras.layers.AveragePooling2D(\n",
        "                pool_size=(2, 2),\n",
        "                strides=(2, 2),\n",
        "                padding='valid'\n",
        "        ),\n",
        "        tf.keras.layers.Activation(\n",
        "                activation=tf.keras.activations.sigmoid\n",
        "        ),\n",
        "        # The C3 (convolutional) layer\n",
        "        tf.keras.layers.Conv2D(\n",
        "                filters=16,\n",
        "                kernel_size=(5, 5),\n",
        "                strides=(1, 1),\n",
        "                padding='valid',\n",
        "                activation='tanh'\n",
        "        ),\n",
        "        # The S4 (sub-sampling) layer\n",
        "        tf.keras.layers.AveragePooling2D(\n",
        "                pool_size=(2, 2),\n",
        "                strides=(2, 2),\n",
        "                padding='valid'\n",
        "        ),\n",
        "        tf.keras.layers.Activation(\n",
        "                activation=tf.keras.activations.sigmoid\n",
        "        ),\n",
        "        # The C5 (convolutional) layer\n",
        "        tf.keras.layers.Conv2D(\n",
        "                filters=16,\n",
        "                kernel_size=(5, 5),\n",
        "                strides=(1, 1),\n",
        "                padding='valid',\n",
        "                activation='tanh'\n",
        "        \n",
        "        ),\n",
        "        # The Flatten layer\n",
        "        tf.keras.layers.Flatten(),\n",
        "        # The F6 (fully-connected) layer\n",
        "        tf.keras.layers.Dense(\n",
        "                units=84,\n",
        "                activation='tanh'\n",
        "        ),\n",
        "        # The F7 (Output) layer\n",
        "        tf.keras.layers.Dense(\n",
        "                units=output_shape,\n",
        "                activation='softmax'\n",
        "        )\n",
        "    ])\n",
        "    return model"
      ]
    },
    {
      "cell_type": "markdown",
      "id": "eaca5b56",
      "metadata": {
        "id": "eaca5b56"
      },
      "source": [
        "#### Defining the model build parameters"
      ]
    },
    {
      "cell_type": "code",
      "execution_count": 12,
      "id": "efd8e50f",
      "metadata": {
        "id": "efd8e50f"
      },
      "outputs": [],
      "source": [
        "### Defining our model parameters"
      ]
    },
    {
      "cell_type": "code",
      "execution_count": 13,
      "id": "e258a733",
      "metadata": {
        "id": "e258a733"
      },
      "outputs": [],
      "source": [
        "model_name = 'LeNet-5'\n",
        "optimizer = 'adam'\n",
        "loss = tf.keras.losses.SparseCategoricalCrossentropy(from_logits=False)\n",
        "metrics = ['accuracy']"
      ]
    },
    {
      "cell_type": "code",
      "execution_count": 14,
      "id": "e7fd7ad4",
      "metadata": {
        "id": "e7fd7ad4"
      },
      "outputs": [],
      "source": [
        "model_params[model_name].update({'optimizer': optimizer})\n",
        "model_params[model_name].update({'loss_fn': loss})\n",
        "model_params[model_name].update({'metrics': metrics})"
      ]
    },
    {
      "cell_type": "markdown",
      "id": "87214c8e",
      "metadata": {
        "id": "87214c8e"
      },
      "source": [
        "### 2.2. Custom CNN"
      ]
    },
    {
      "cell_type": "markdown",
      "id": "fdb05f10",
      "metadata": {
        "id": "fdb05f10"
      },
      "source": [
        "You should experiment with different designs (number of layers, types of pooling, filter sizes, number of fully connected layers, number of neurons)."
      ]
    },
    {
      "cell_type": "code",
      "execution_count": 15,
      "id": "81a3f069",
      "metadata": {
        "id": "81a3f069"
      },
      "outputs": [],
      "source": [
        "### From Udacity's `training.py`"
      ]
    },
    {
      "cell_type": "code",
      "execution_count": 16,
      "id": "c1b343a5",
      "metadata": {
        "id": "c1b343a5"
      },
      "outputs": [],
      "source": [
        "def create_custom_network():\n",
        "    #net = tf.keras.Sequential()\n",
        "    # IMPLEMENT THIS FUNCTION\n",
        "    pass"
      ]
    },
    {
      "cell_type": "markdown",
      "id": "031da250",
      "metadata": {
        "id": "031da250"
      },
      "source": [
        "### 2.3. Training and validation"
      ]
    },
    {
      "cell_type": "markdown",
      "id": "b079a6d0",
      "metadata": {
        "id": "b079a6d0"
      },
      "source": [
        "The following helper functions are used for the training and validation loops."
      ]
    },
    {
      "cell_type": "code",
      "execution_count": 17,
      "id": "303a7673",
      "metadata": {
        "id": "303a7673"
      },
      "outputs": [],
      "source": [
        "### From Udacity's `utils.py`"
      ]
    },
    {
      "cell_type": "code",
      "execution_count": 18,
      "id": "60ed051a",
      "metadata": {
        "id": "60ed051a"
      },
      "outputs": [],
      "source": [
        "def get_module_logger(mod_name: str) -> logging.Logger:\n",
        "    \"\"\"Initialises a console logger instance.\n",
        "    \n",
        "    :param mod_name: the model name to assign to the logger.\n",
        "    :returns: a logger instance.\n",
        "    \"\"\"\n",
        "    \n",
        "    ### Setting up the console logger and formatter\n",
        "    logger = logging.getLogger(mod_name)\n",
        "    handler = logging.StreamHandler()\n",
        "    formatter = logging.Formatter('%(asctime)s %(levelname)-8s %(message)s')\n",
        "    handler.setFormatter(formatter)\n",
        "    logger.addHandler(handler)\n",
        "    logger.setLevel(logging.DEBUG)\n",
        "    ### Prevent messages going to root handler\n",
        "    logger.propagate = False\n",
        "    return logger"
      ]
    },
    {
      "cell_type": "code",
      "execution_count": 19,
      "id": "ac325f83",
      "metadata": {
        "id": "ac325f83"
      },
      "outputs": [],
      "source": [
        "def get_datasets(model_params: dict) -> Tuple[tf.data.Dataset, tf.data.Dataset]:\n",
        "    \"\"\"Return the training and validation datasets.\n",
        "    \n",
        "    :param model_params: the dict containing the dataset- and \n",
        "        model-specific arguments.\n",
        "    :returns: (train_dataset, validation_dataset), tuple of tf.data.Dataset \n",
        "        instances.\n",
        "    \"\"\"\n",
        "    \n",
        "    model_params = dict(model_params)\n",
        "    train_dataset = tf.keras.utils.image_dataset_from_directory(\n",
        "                        directory=model_params.get('imdir', None),\n",
        "                        labels='inferred',\n",
        "                        label_mode='int',\n",
        "                        color_mode=model_params.get('color_mode', None),\n",
        "                        batch_size=model_params.get('batch_size', None),\n",
        "                        image_size=model_params.get('image_size', None),\n",
        "                        shuffle=True,\n",
        "                        seed=123,\n",
        "                        validation_split=0.1,\n",
        "                        subset='training',\n",
        "    )\n",
        "    validation_dataset = tf.keras.utils.image_dataset_from_directory(\n",
        "                        directory=model_params.get('imdir', None),\n",
        "                        labels='inferred',\n",
        "                        label_mode='int',\n",
        "                        color_mode=model_params.get('color_mode', None),\n",
        "                        batch_size=model_params.get('batch_size', None),\n",
        "                        image_size=model_params.get('image_size', None),\n",
        "                        shuffle=True,\n",
        "                        seed=123,\n",
        "                        validation_split=0.1,\n",
        "                        subset='validation',\n",
        "    )\n",
        "    return train_dataset, validation_dataset"
      ]
    },
    {
      "cell_type": "code",
      "execution_count": 20,
      "id": "32c84a6b",
      "metadata": {
        "id": "32c84a6b"
      },
      "outputs": [],
      "source": [
        "def display_metrics(history: tf.keras.callbacks.History):\n",
        "    \"\"\"Plots the per-epoch loss and accuracy metrics.\n",
        "    \n",
        "    :param history: the Keras `callbacks.History` object.\n",
        "    \"\"\"\n",
        "    \n",
        "    f, ax = plt.subplots(1, 2, figsize=(15, 5))\n",
        "    ax[0].plot(history.history['loss'], linewidth=3)\n",
        "    ax[0].plot(history.history['val_loss'], linewidth=3)\n",
        "    ax[0].set_title('Loss', fontsize=16)\n",
        "    ax[0].set_ylabel('Loss', fontsize=16)\n",
        "    ax[0].set_xlabel('Epoch', fontsize=16)\n",
        "    ax[0].legend(['train loss', 'val loss'], loc='upper right')\n",
        "    ax[1].plot(history.history['accuracy'], linewidth=3)\n",
        "    ax[1].plot(history.history['val_accuracy'], linewidth=3)\n",
        "    ax[1].set_title('Accuracy', fontsize=16)\n",
        "    ax[1].set_ylabel('Accuracy', fontsize=16)\n",
        "    ax[1].set_xlabel('Epoch', fontsize=16)\n",
        "    ax[1].legend(['train acc', 'val acc'], loc='upper left')\n",
        "    plt.show()"
      ]
    },
    {
      "cell_type": "markdown",
      "id": "25c2ecf6",
      "metadata": {
        "id": "25c2ecf6"
      },
      "source": [
        "### 2.3. Evaluation on the modified MNIST digits dataset"
      ]
    },
    {
      "cell_type": "code",
      "execution_count": 21,
      "id": "ad93743d",
      "metadata": {
        "id": "ad93743d"
      },
      "outputs": [],
      "source": [
        "DATASET_NAME = 'MNIST'"
      ]
    },
    {
      "cell_type": "markdown",
      "source": [
        "#### Fetching the modified MNIST data"
      ],
      "metadata": {
        "id": "5XcI-_cwdY0N"
      },
      "id": "5XcI-_cwdY0N"
    },
    {
      "cell_type": "code",
      "source": [
        "### Specifying the validation/test split percentages\n",
        "VAL_PERCENT = 25\n",
        "TEST_PERCENT = 75"
      ],
      "metadata": {
        "id": "T4dMdK6zIeeQ"
      },
      "id": "T4dMdK6zIeeQ",
      "execution_count": 22,
      "outputs": []
    },
    {
      "cell_type": "code",
      "source": [
        "### Specifying the desired batch size\n",
        "BATCH_SIZE = 128\n",
        "model_params[DATASET_NAME].update({'batch_size': BATCH_SIZE})"
      ],
      "metadata": {
        "id": "4i4wlqwgtYHr"
      },
      "id": "4i4wlqwgtYHr",
      "execution_count": 23,
      "outputs": []
    },
    {
      "cell_type": "code",
      "source": [
        "### Fetching the MNIST digits dataset (hosted by TensorFlow)\n",
        "# See: https://www.tensorflow.org/datasets/catalog/mnist"
      ],
      "metadata": {
        "id": "eomSJ38DZDuq"
      },
      "id": "eomSJ38DZDuq",
      "execution_count": 24,
      "outputs": []
    },
    {
      "cell_type": "code",
      "source": [
        "digits_data, digits_info = tfds.load(DATASET_NAME,\n",
        "                                     batch_size=BATCH_SIZE,\n",
        "                                     split=['train', \n",
        "                                            'test[{}%:]'.format(VAL_PERCENT),\n",
        "                                            'test[:{}%]'.format(TEST_PERCENT)\n",
        "                                     ],\n",
        "                                     shuffle_files=True, \n",
        "                                     with_info=True\n",
        ")"
      ],
      "metadata": {
        "colab": {
          "base_uri": "https://localhost:8080/",
          "height": 84,
          "referenced_widgets": [
            "a93fd23698b34ba98740725e2fb803df",
            "d095fd1cda654834a6dfff126d92e554",
            "66313e2ad05c425599ec481b132048b2",
            "4108dc53d0194af2a8fa4f670d17662c",
            "9d41cf71884b4205aab8afef59ccd4f7",
            "d2279450772b47d9bc7e3cc5ea2ebbb5",
            "f3e3ea05dfad4578bb8f45c33fccca20",
            "fac162b490074a0d8095207479d7f119",
            "d9ddc266a7124f3e9957c3e4f0e8848c",
            "42b1bf702eea4f2aab12d18800bed515",
            "088c7b2aa6484285af2d5324a7264172"
          ]
        },
        "id": "NHuM93bLZX1G",
        "outputId": "2563a877-92e1-4ad6-c44f-d4213b3a7950"
      },
      "id": "NHuM93bLZX1G",
      "execution_count": 25,
      "outputs": [
        {
          "output_type": "stream",
          "name": "stdout",
          "text": [
            "\u001b[1mDownloading and preparing dataset 11.06 MiB (download: 11.06 MiB, generated: 21.00 MiB, total: 32.06 MiB) to ~/tensorflow_datasets/mnist/3.0.1...\u001b[0m\n"
          ]
        },
        {
          "output_type": "display_data",
          "data": {
            "text/plain": [
              "Dl Completed...:   0%|          | 0/4 [00:00<?, ? file/s]"
            ],
            "application/vnd.jupyter.widget-view+json": {
              "version_major": 2,
              "version_minor": 0,
              "model_id": "a93fd23698b34ba98740725e2fb803df"
            }
          },
          "metadata": {}
        },
        {
          "output_type": "stream",
          "name": "stdout",
          "text": [
            "\u001b[1mDataset mnist downloaded and prepared to ~/tensorflow_datasets/mnist/3.0.1. Subsequent calls will reuse this data.\u001b[0m\n"
          ]
        }
      ]
    },
    {
      "cell_type": "markdown",
      "id": "205af274",
      "metadata": {
        "id": "205af274"
      },
      "source": [
        "#### Considerations for our input data"
      ]
    },
    {
      "cell_type": "code",
      "source": [
        "### Viewing the dataset metadata attributes\n",
        "digits_info"
      ],
      "metadata": {
        "colab": {
          "base_uri": "https://localhost:8080/"
        },
        "id": "iL8FVN_Ga7YN",
        "outputId": "bd3caddb-a1ab-4408-e982-f4720bd394cb"
      },
      "id": "iL8FVN_Ga7YN",
      "execution_count": 26,
      "outputs": [
        {
          "output_type": "execute_result",
          "data": {
            "text/plain": [
              "tfds.core.DatasetInfo(\n",
              "    name='mnist',\n",
              "    full_name='mnist/3.0.1',\n",
              "    description=\"\"\"\n",
              "    The MNIST database of handwritten digits.\n",
              "    \"\"\",\n",
              "    homepage='http://yann.lecun.com/exdb/mnist/',\n",
              "    data_path='~/tensorflow_datasets/mnist/3.0.1',\n",
              "    file_format=tfrecord,\n",
              "    download_size=11.06 MiB,\n",
              "    dataset_size=21.00 MiB,\n",
              "    features=FeaturesDict({\n",
              "        'image': Image(shape=(28, 28, 1), dtype=tf.uint8),\n",
              "        'label': ClassLabel(shape=(), dtype=tf.int64, num_classes=10),\n",
              "    }),\n",
              "    supervised_keys=('image', 'label'),\n",
              "    disable_shuffling=False,\n",
              "    splits={\n",
              "        'test': <SplitInfo num_examples=10000, num_shards=1>,\n",
              "        'train': <SplitInfo num_examples=60000, num_shards=1>,\n",
              "    },\n",
              "    citation=\"\"\"@article{lecun2010mnist,\n",
              "      title={MNIST handwritten digit database},\n",
              "      author={LeCun, Yann and Cortes, Corinna and Burges, CJ},\n",
              "      journal={ATT Labs [Online]. Available: http://yann.lecun.com/exdb/mnist},\n",
              "      volume={2},\n",
              "      year={2010}\n",
              "    }\"\"\",\n",
              ")"
            ]
          },
          "metadata": {},
          "execution_count": 26
        }
      ]
    },
    {
      "cell_type": "code",
      "execution_count": 27,
      "id": "d3b5c0cb",
      "metadata": {
        "colab": {
          "base_uri": "https://localhost:8080/"
        },
        "id": "d3b5c0cb",
        "outputId": "76859840-6ec2-4311-d6c5-39f59323749f"
      },
      "outputs": [
        {
          "output_type": "stream",
          "name": "stdout",
          "text": [
            "Nr. classes in MNIST: 10\n"
          ]
        }
      ],
      "source": [
        "# MNIST has 10 distinct digit classes\n",
        "N_CLASSES = digits_info.features['label'].num_classes\n",
        "print('Nr. classes in MNIST:', N_CLASSES)"
      ]
    },
    {
      "cell_type": "code",
      "execution_count": 28,
      "id": "e2128b77",
      "metadata": {
        "id": "e2128b77"
      },
      "outputs": [],
      "source": [
        "### Fetching our input image specs"
      ]
    },
    {
      "cell_type": "code",
      "execution_count": 29,
      "id": "d3ecf0c8",
      "metadata": {
        "id": "d3ecf0c8"
      },
      "outputs": [],
      "source": [
        "IMG_COLOR_MODE = 'grayscale'\n",
        "IMG_SHAPE = digits_info.features['image'].shape\n",
        "IMG_SIZE = IMG_SHAPE[:2]"
      ]
    },
    {
      "cell_type": "code",
      "source": [
        "print('MNIST:', digits_info.features['image'])"
      ],
      "metadata": {
        "colab": {
          "base_uri": "https://localhost:8080/"
        },
        "id": "3AK2tWzOaMSV",
        "outputId": "4887f171-4470-4e0a-a683-cbc10b455a74"
      },
      "id": "3AK2tWzOaMSV",
      "execution_count": 30,
      "outputs": [
        {
          "output_type": "stream",
          "name": "stdout",
          "text": [
            "MNIST: Image(shape=(28, 28, 1), dtype=tf.uint8)\n"
          ]
        }
      ]
    },
    {
      "cell_type": "markdown",
      "source": [
        "**Note**: the LeNet-5 network expects $32x32$ px grayscale images as input. We will fix this by padding our images to the expected size."
      ],
      "metadata": {
        "id": "gOYJHL-3aKTE"
      },
      "id": "gOYJHL-3aKTE"
    },
    {
      "cell_type": "code",
      "execution_count": 31,
      "id": "3bcc3e2a",
      "metadata": {
        "id": "3bcc3e2a"
      },
      "outputs": [],
      "source": [
        "model_params[DATASET_NAME].update({'image_size': IMG_SIZE})\n",
        "model_params[DATASET_NAME].update({'color_mode': IMG_COLOR_MODE})\n",
        "model_params[DATASET_NAME].update({'input_shape': IMG_SHAPE})\n",
        "model_params[DATASET_NAME].update({'n_classes': N_CLASSES})"
      ]
    },
    {
      "cell_type": "markdown",
      "id": "34eca184",
      "metadata": {
        "id": "34eca184"
      },
      "source": [
        "#### Processing the image data"
      ]
    },
    {
      "cell_type": "code",
      "source": [
        "### Number of features (pixel values) in a single image\n",
        "len(iter(digits_data[0]).get_next()['image'][0].numpy().flatten())"
      ],
      "metadata": {
        "colab": {
          "base_uri": "https://localhost:8080/"
        },
        "id": "Cd62E5aRd0Jp",
        "outputId": "461adf87-aef9-4962-f746-d1d2f9dfe549"
      },
      "id": "Cd62E5aRd0Jp",
      "execution_count": 32,
      "outputs": [
        {
          "output_type": "execute_result",
          "data": {
            "text/plain": [
              "784"
            ]
          },
          "metadata": {},
          "execution_count": 32
        }
      ]
    },
    {
      "cell_type": "markdown",
      "source": [
        "##### Defining the preprocessing functions"
      ],
      "metadata": {
        "id": "AW7Nlzx9YULn"
      },
      "id": "AW7Nlzx9YULn"
    },
    {
      "cell_type": "code",
      "source": [
        "### From J. Moran's `2022-09-07-Pooling-Layers-Convolutional-Neural-Networks.ipynb`"
      ],
      "metadata": {
        "id": "aJS9K8tOvHZ3"
      },
      "id": "aJS9K8tOvHZ3",
      "execution_count": 33,
      "outputs": []
    },
    {
      "cell_type": "code",
      "source": [
        "def get_paddings(input_tensor: tf.Tensor, output_shape: Tuple[int, int, int], \n",
        "                 pool_size: int, pool_stride: int) -> List[List[int]]:\n",
        "    \"\"\"Returns the range of values to pad on each edge using TensorFlow.\n",
        "    \n",
        "    Computes the padding amounts along each dimension such that the\n",
        "    spatial dimensionality of the input is preserved (akin to the\n",
        "    TensorFlow Keras `padding=\"same\"` argument). Note that the input\n",
        "    is a 4-dimensional array but we computing only the padding amounts \n",
        "    for the 2D image surface (the width and height axes).\n",
        "\n",
        "    For more information on the TensorFlow `pad()` function, see:\n",
        "    https://www.tensorflow.org/api_docs/python/tf/pad\n",
        "    \n",
        "    :param array: tf.Tensor, the input data of dimensions [NxWxHxC], \n",
        "        i.e., [n_samples x width x height x n_channels].\n",
        "    :param pool_size: int, the symmetric kernel window dimension.\n",
        "    :param pool_stride: int, the amount to displace the kernel window\n",
        "        in the horizontal and vertical direction (symmetric).\n",
        "    :returns: paddings, the TensorFlow `paddings` padding sequences.\n",
        "    \"\"\"\n",
        "    \n",
        "    wpad = None\n",
        "    hpad = None\n",
        "    # Get the per-sample input dimensions\n",
        "    _, w, h, _ = tf.shape(input_tensor).numpy()\n",
        "    # Set the desired output shape\n",
        "    _, w_out, h_out, _ = output_shape\n",
        "    # Compute the padding dimensions\n",
        "    wpad = (pool_stride * w_out - w + pool_size - pool_stride) // 2\n",
        "    hpad = (pool_stride * h_out - h + pool_size - pool_stride) // 2\n",
        "    # Return the range of values to pad along each dimension\n",
        "    # [n_samples, width, height, n_channels]\n",
        "    return [[0, 0], [0, wpad], [0, hpad], [0, 0]]"
      ],
      "metadata": {
        "id": "IrcN4QPcvGgb"
      },
      "id": "IrcN4QPcvGgb",
      "execution_count": 34,
      "outputs": []
    },
    {
      "cell_type": "code",
      "source": [
        "### From J. Moran's `2022-09-05-Image-Classification-Feed-Forward-Neural-Networks.ipynb`"
      ],
      "metadata": {
        "id": "PkngCaIlYJ_O"
      },
      "id": "PkngCaIlYJ_O",
      "execution_count": 35,
      "outputs": []
    },
    {
      "cell_type": "code",
      "source": [
        "def process(dataset: tf.data.Dataset) -> Generator[tuple, None, None]:\n",
        "    \"\"\"Processes the input dataset and returns a generator object.\n",
        "\n",
        "    :param dataset: the tf.data.Dataset instance of batched image, label data.\n",
        "    :returns: the generator instance modifying the image attribute values.\n",
        "    \"\"\"\n",
        "\n",
        "    def process_generator() -> Iterator[Tuple[tf.Tensor, tf.Tensor]]:\n",
        "        \"\"\"Zero-pads and scales the input images.\n",
        "        \n",
        "        All images in each batch are padded according to the pre-computed\n",
        "        pad widths. All pixel values are scaled in the range [0, 1].\n",
        "\n",
        "        Note that the input dataset is expected to contain images with a \n",
        "        consistent (equal) shape, e.g., (28, 28, 1). This function also \n",
        "        assumes a zero-padding configuration. If your dataset contains images\n",
        "        with inconsistent dimensions, and you want to use zero-padding,\n",
        "        an easier technique is a `tf.bitwise_or` with a zero-valued mask of\n",
        "        dimensions equal to your desired output dataset.\n",
        "\n",
        "        :returns: an iterator yielding the modfied images and labels.\n",
        "        \"\"\"\n",
        "\n",
        "        for batch in dataset:\n",
        "            # Padding the input image to 32x32 resolution\n",
        "            images = tf.pad(batch['image'],\n",
        "                            paddings=PADDINGS,\n",
        "                            mode='CONSTANT',\n",
        "                            constant_values=tf.constant(\n",
        "                                value=PADDING_VALUE,\n",
        "                                dtype=digits_info.features['image'].dtype\n",
        "                            )\n",
        "            )\n",
        "            # Scaling the image data in range [0, 1]\n",
        "            images = tf.cast(images / 255, \n",
        "                             dtype=digits_info.features['image'].dtype\n",
        "            )\n",
        "            yield images, batch['label']\n",
        "    return process_generator"
      ],
      "metadata": {
        "id": "pHUHjhxeYJbn"
      },
      "id": "pHUHjhxeYJbn",
      "execution_count": 36,
      "outputs": []
    },
    {
      "cell_type": "markdown",
      "source": [
        "##### Preprocessing the dataset"
      ],
      "metadata": {
        "id": "-m6Gxk2TYg04"
      },
      "id": "-m6Gxk2TYg04"
    },
    {
      "cell_type": "code",
      "source": [
        "### Setting the desired shape after padding\n",
        "IMG_SHAPE_PADDED = (None, 32, 32, 1)"
      ],
      "metadata": {
        "id": "n8c94BKTUQby"
      },
      "id": "n8c94BKTUQby",
      "execution_count": 37,
      "outputs": []
    },
    {
      "cell_type": "code",
      "source": [
        "### Computing the padding amounts for each axis\n",
        "# Assuming our dataset image sizes are consistent\n",
        "# Here we use the first LeNet-5 layer (C1) parameters"
      ],
      "metadata": {
        "id": "9HVnc8fozt4x"
      },
      "id": "9HVnc8fozt4x",
      "execution_count": 38,
      "outputs": []
    },
    {
      "cell_type": "code",
      "source": [
        "PADDINGS = get_paddings(input_tensor=iter(digits_data[0]).get_next()['image'],\n",
        "                        output_shape=IMG_SHAPE_PADDED,\n",
        "                        pool_size=5,\n",
        "                        pool_stride=1\n",
        ")\n",
        "print('Paddings:', PADDINGS)"
      ],
      "metadata": {
        "colab": {
          "base_uri": "https://localhost:8080/"
        },
        "id": "03WeNLxOXzAB",
        "outputId": "90f35416-e1ba-4490-8839-cd0f57218ad1"
      },
      "id": "03WeNLxOXzAB",
      "execution_count": 40,
      "outputs": [
        {
          "output_type": "stream",
          "name": "stdout",
          "text": [
            "Paddings: [[0, 0], [0, 4], [0, 4], [0, 0]]\n"
          ]
        }
      ]
    },
    {
      "cell_type": "code",
      "source": [
        "### Setting the scalar value to pad the image arrays with\n",
        "PADDING_VALUE = 0"
      ],
      "metadata": {
        "id": "4J46xGpHOryg"
      },
      "id": "4J46xGpHOryg",
      "execution_count": 41,
      "outputs": []
    },
    {
      "cell_type": "code",
      "source": [
        "### Updating the model parameters"
      ],
      "metadata": {
        "id": "CRGj1HMQX_aT"
      },
      "id": "CRGj1HMQX_aT",
      "execution_count": 42,
      "outputs": []
    },
    {
      "cell_type": "code",
      "source": [
        "model_params[DATASET_NAME].update({'image_size_padded': IMG_SHAPE_PADDED[:2]})\n",
        "model_params[DATASET_NAME].update({'input_shape_padded': IMG_SHAPE_PADDED})\n",
        "model_params[DATASET_NAME].update({'paddings': PADDINGS})\n",
        "model_params[DATASET_NAME].update({'padding_value': PADDING_VALUE})"
      ],
      "metadata": {
        "id": "uAkq7E7LVDIh"
      },
      "id": "uAkq7E7LVDIh",
      "execution_count": 43,
      "outputs": []
    },
    {
      "cell_type": "code",
      "execution_count": 45,
      "id": "645f2170",
      "metadata": {
        "id": "645f2170"
      },
      "outputs": [],
      "source": [
        "### Unbatching the datasets and preprocessing the images"
      ]
    },
    {
      "cell_type": "code",
      "source": [
        "train_data, val_data, test_data = digits_data"
      ],
      "metadata": {
        "id": "Na9OuD0McxtE"
      },
      "id": "Na9OuD0McxtE",
      "execution_count": 46,
      "outputs": []
    },
    {
      "cell_type": "code",
      "source": [
        "train_dataset_processed = tf.data.Dataset.from_generator(\n",
        "        generator=process(train_data), \n",
        "        output_signature=(\n",
        "            tf.TensorSpec(\n",
        "                shape=model_params[DATASET_NAME].get('input_shape_padded', None),\n",
        "                dtype=tf.dtypes.float32\n",
        "            ), \n",
        "            tf.TensorSpec(\n",
        "                shape=(None, *digits_info.features['label'].shape), \n",
        "                dtype=digits_info.features['label'].dtype\n",
        "            )\n",
        "        )\n",
        ")"
      ],
      "metadata": {
        "id": "65RQCLVHNrkW"
      },
      "id": "65RQCLVHNrkW",
      "execution_count": 53,
      "outputs": []
    },
    {
      "cell_type": "code",
      "execution_count": 54,
      "id": "a3892eb9",
      "metadata": {
        "id": "a3892eb9"
      },
      "outputs": [],
      "source": [
        "validation_dataset_processed = tf.data.Dataset.from_generator(\n",
        "        generator=process(val_data), \n",
        "        output_signature=(\n",
        "            tf.TensorSpec(\n",
        "                shape=model_params[DATASET_NAME].get('input_shape_padded', None),\n",
        "                dtype=tf.dtypes.float32\n",
        "            ), \n",
        "            tf.TensorSpec(\n",
        "                shape=(None, *digits_info.features['label'].shape), \n",
        "                dtype=digits_info.features['label'].dtype\n",
        "            )\n",
        "        )\n",
        ")"
      ]
    },
    {
      "cell_type": "code",
      "source": [
        "test_dataset_processed = tf.data.Dataset.from_generator(\n",
        "        generator=process(test_data), \n",
        "        output_signature=(\n",
        "            tf.TensorSpec(\n",
        "                shape=model_params[DATASET_NAME].get('input_shape_padded', None),\n",
        "                dtype=tf.dtypes.float32\n",
        "            ), \n",
        "            tf.TensorSpec(\n",
        "                shape=(None, *digits_info.features['label'].shape), \n",
        "                dtype=digits_info.features['label'].dtype\n",
        "            )\n",
        "        )\n",
        ")"
      ],
      "metadata": {
        "id": "p5tKPe_9dAIx"
      },
      "id": "p5tKPe_9dAIx",
      "execution_count": 55,
      "outputs": []
    },
    {
      "cell_type": "code",
      "source": [
        "### Previewing the first scaled and padded image in test set"
      ],
      "metadata": {
        "id": "oRDQLg1xP3hS"
      },
      "id": "oRDQLg1xP3hS",
      "execution_count": 56,
      "outputs": []
    },
    {
      "cell_type": "code",
      "source": [
        "iter(test_dataset_processed).get_next()[0][0]"
      ],
      "metadata": {
        "colab": {
          "base_uri": "https://localhost:8080/"
        },
        "id": "GZT3X-CrO2tj",
        "outputId": "556262c4-18b2-4243-d2a9-0396677a3c06"
      },
      "id": "GZT3X-CrO2tj",
      "execution_count": 57,
      "outputs": [
        {
          "output_type": "execute_result",
          "data": {
            "text/plain": [
              "<tf.Tensor: shape=(32, 32, 1), dtype=float32, numpy=\n",
              "array([[[0.],\n",
              "        [0.],\n",
              "        [0.],\n",
              "        ...,\n",
              "        [0.],\n",
              "        [0.],\n",
              "        [0.]],\n",
              "\n",
              "       [[0.],\n",
              "        [0.],\n",
              "        [0.],\n",
              "        ...,\n",
              "        [0.],\n",
              "        [0.],\n",
              "        [0.]],\n",
              "\n",
              "       [[0.],\n",
              "        [0.],\n",
              "        [0.],\n",
              "        ...,\n",
              "        [0.],\n",
              "        [0.],\n",
              "        [0.]],\n",
              "\n",
              "       ...,\n",
              "\n",
              "       [[0.],\n",
              "        [0.],\n",
              "        [0.],\n",
              "        ...,\n",
              "        [0.],\n",
              "        [0.],\n",
              "        [0.]],\n",
              "\n",
              "       [[0.],\n",
              "        [0.],\n",
              "        [0.],\n",
              "        ...,\n",
              "        [0.],\n",
              "        [0.],\n",
              "        [0.]],\n",
              "\n",
              "       [[0.],\n",
              "        [0.],\n",
              "        [0.],\n",
              "        ...,\n",
              "        [0.],\n",
              "        [0.],\n",
              "        [0.]]], dtype=float32)>"
            ]
          },
          "metadata": {},
          "execution_count": 57
        }
      ]
    },
    {
      "cell_type": "markdown",
      "id": "41fe458d",
      "metadata": {
        "id": "41fe458d"
      },
      "source": [
        "#### Evaluating the LeNet-5"
      ]
    },
    {
      "cell_type": "markdown",
      "id": "a94982cb",
      "metadata": {
        "id": "a94982cb"
      },
      "source": [
        "##### Initialising the model"
      ]
    },
    {
      "cell_type": "code",
      "execution_count": 211,
      "id": "a4253c23",
      "metadata": {
        "id": "a4253c23"
      },
      "outputs": [],
      "source": [
        "MODEL_NAME = 'LetNet-5'"
      ]
    },
    {
      "cell_type": "code",
      "execution_count": null,
      "id": "b316e2a2",
      "metadata": {
        "id": "b316e2a2"
      },
      "outputs": [],
      "source": [
        "### Creating the model instance"
      ]
    },
    {
      "cell_type": "code",
      "execution_count": 215,
      "id": "9a70da23",
      "metadata": {
        "colab": {
          "base_uri": "https://localhost:8080/",
          "height": 468
        },
        "id": "9a70da23",
        "outputId": "e2c22bdc-4875-4d73-fefd-10bfd83994e2"
      },
      "outputs": [
        {
          "output_type": "error",
          "ename": "ValueError",
          "evalue": "ignored",
          "traceback": [
            "\u001b[0;31m---------------------------------------------------------------------------\u001b[0m",
            "\u001b[0;31mValueError\u001b[0m                                Traceback (most recent call last)",
            "\u001b[0;32m<ipython-input-215-9bed1aa10334>\u001b[0m in \u001b[0;36m<module>\u001b[0;34m\u001b[0m\n\u001b[1;32m      1\u001b[0m model = create_lenet_network(\n\u001b[1;32m      2\u001b[0m             \u001b[0minput_shape\u001b[0m\u001b[0;34m=\u001b[0m\u001b[0mmodel_params\u001b[0m\u001b[0;34m[\u001b[0m\u001b[0mDATASET_NAME\u001b[0m\u001b[0;34m]\u001b[0m\u001b[0;34m[\u001b[0m\u001b[0;34m'input_shape'\u001b[0m\u001b[0;34m]\u001b[0m\u001b[0;34m,\u001b[0m\u001b[0;34m\u001b[0m\u001b[0;34m\u001b[0m\u001b[0m\n\u001b[0;32m----> 3\u001b[0;31m             \u001b[0moutput_shape\u001b[0m\u001b[0;34m=\u001b[0m\u001b[0mmodel_params\u001b[0m\u001b[0;34m[\u001b[0m\u001b[0mDATASET_NAME\u001b[0m\u001b[0;34m]\u001b[0m\u001b[0;34m[\u001b[0m\u001b[0;34m'n_classes'\u001b[0m\u001b[0;34m]\u001b[0m\u001b[0;34m\u001b[0m\u001b[0;34m\u001b[0m\u001b[0m\n\u001b[0m\u001b[1;32m      4\u001b[0m )\n",
            "\u001b[0;32m<ipython-input-102-fa81afe7535b>\u001b[0m in \u001b[0;36mcreate_lenet_network\u001b[0;34m(input_shape, output_shape)\u001b[0m\n\u001b[1;32m     65\u001b[0m         tf.keras.layers.Dense(\n\u001b[1;32m     66\u001b[0m                 \u001b[0munits\u001b[0m\u001b[0;34m=\u001b[0m\u001b[0moutput_shape\u001b[0m\u001b[0;34m,\u001b[0m\u001b[0;34m\u001b[0m\u001b[0;34m\u001b[0m\u001b[0m\n\u001b[0;32m---> 67\u001b[0;31m                 \u001b[0mactivation\u001b[0m\u001b[0;34m=\u001b[0m\u001b[0;34m'softmax'\u001b[0m\u001b[0;34m\u001b[0m\u001b[0;34m\u001b[0m\u001b[0m\n\u001b[0m\u001b[1;32m     68\u001b[0m         )\n\u001b[1;32m     69\u001b[0m     ])\n",
            "\u001b[0;32m/usr/local/lib/python3.7/dist-packages/tensorflow/python/training/tracking/base.py\u001b[0m in \u001b[0;36m_method_wrapper\u001b[0;34m(self, *args, **kwargs)\u001b[0m\n\u001b[1;32m    627\u001b[0m     \u001b[0mself\u001b[0m\u001b[0;34m.\u001b[0m\u001b[0m_self_setattr_tracking\u001b[0m \u001b[0;34m=\u001b[0m \u001b[0;32mFalse\u001b[0m  \u001b[0;31m# pylint: disable=protected-access\u001b[0m\u001b[0;34m\u001b[0m\u001b[0;34m\u001b[0m\u001b[0m\n\u001b[1;32m    628\u001b[0m     \u001b[0;32mtry\u001b[0m\u001b[0;34m:\u001b[0m\u001b[0;34m\u001b[0m\u001b[0;34m\u001b[0m\u001b[0m\n\u001b[0;32m--> 629\u001b[0;31m       \u001b[0mresult\u001b[0m \u001b[0;34m=\u001b[0m \u001b[0mmethod\u001b[0m\u001b[0;34m(\u001b[0m\u001b[0mself\u001b[0m\u001b[0;34m,\u001b[0m \u001b[0;34m*\u001b[0m\u001b[0margs\u001b[0m\u001b[0;34m,\u001b[0m \u001b[0;34m**\u001b[0m\u001b[0mkwargs\u001b[0m\u001b[0;34m)\u001b[0m\u001b[0;34m\u001b[0m\u001b[0;34m\u001b[0m\u001b[0m\n\u001b[0m\u001b[1;32m    630\u001b[0m     \u001b[0;32mfinally\u001b[0m\u001b[0;34m:\u001b[0m\u001b[0;34m\u001b[0m\u001b[0;34m\u001b[0m\u001b[0m\n\u001b[1;32m    631\u001b[0m       \u001b[0mself\u001b[0m\u001b[0;34m.\u001b[0m\u001b[0m_self_setattr_tracking\u001b[0m \u001b[0;34m=\u001b[0m \u001b[0mprevious_value\u001b[0m  \u001b[0;31m# pylint: disable=protected-access\u001b[0m\u001b[0;34m\u001b[0m\u001b[0;34m\u001b[0m\u001b[0m\n",
            "\u001b[0;32m/usr/local/lib/python3.7/dist-packages/keras/utils/traceback_utils.py\u001b[0m in \u001b[0;36merror_handler\u001b[0;34m(*args, **kwargs)\u001b[0m\n\u001b[1;32m     65\u001b[0m     \u001b[0;32mexcept\u001b[0m \u001b[0mException\u001b[0m \u001b[0;32mas\u001b[0m \u001b[0me\u001b[0m\u001b[0;34m:\u001b[0m  \u001b[0;31m# pylint: disable=broad-except\u001b[0m\u001b[0;34m\u001b[0m\u001b[0;34m\u001b[0m\u001b[0m\n\u001b[1;32m     66\u001b[0m       \u001b[0mfiltered_tb\u001b[0m \u001b[0;34m=\u001b[0m \u001b[0m_process_traceback_frames\u001b[0m\u001b[0;34m(\u001b[0m\u001b[0me\u001b[0m\u001b[0;34m.\u001b[0m\u001b[0m__traceback__\u001b[0m\u001b[0;34m)\u001b[0m\u001b[0;34m\u001b[0m\u001b[0;34m\u001b[0m\u001b[0m\n\u001b[0;32m---> 67\u001b[0;31m       \u001b[0;32mraise\u001b[0m \u001b[0me\u001b[0m\u001b[0;34m.\u001b[0m\u001b[0mwith_traceback\u001b[0m\u001b[0;34m(\u001b[0m\u001b[0mfiltered_tb\u001b[0m\u001b[0;34m)\u001b[0m \u001b[0;32mfrom\u001b[0m \u001b[0;32mNone\u001b[0m\u001b[0;34m\u001b[0m\u001b[0;34m\u001b[0m\u001b[0m\n\u001b[0m\u001b[1;32m     68\u001b[0m     \u001b[0;32mfinally\u001b[0m\u001b[0;34m:\u001b[0m\u001b[0;34m\u001b[0m\u001b[0;34m\u001b[0m\u001b[0m\n\u001b[1;32m     69\u001b[0m       \u001b[0;32mdel\u001b[0m \u001b[0mfiltered_tb\u001b[0m\u001b[0;34m\u001b[0m\u001b[0;34m\u001b[0m\u001b[0m\n",
            "\u001b[0;32m/usr/local/lib/python3.7/dist-packages/tensorflow/python/framework/ops.py\u001b[0m in \u001b[0;36m_create_c_op\u001b[0;34m(graph, node_def, inputs, control_inputs, op_def)\u001b[0m\n\u001b[1;32m   2011\u001b[0m   \u001b[0;32mexcept\u001b[0m \u001b[0merrors\u001b[0m\u001b[0;34m.\u001b[0m\u001b[0mInvalidArgumentError\u001b[0m \u001b[0;32mas\u001b[0m \u001b[0me\u001b[0m\u001b[0;34m:\u001b[0m\u001b[0;34m\u001b[0m\u001b[0;34m\u001b[0m\u001b[0m\n\u001b[1;32m   2012\u001b[0m     \u001b[0;31m# Convert to ValueError for backwards compatibility.\u001b[0m\u001b[0;34m\u001b[0m\u001b[0;34m\u001b[0m\u001b[0;34m\u001b[0m\u001b[0m\n\u001b[0;32m-> 2013\u001b[0;31m     \u001b[0;32mraise\u001b[0m \u001b[0mValueError\u001b[0m\u001b[0;34m(\u001b[0m\u001b[0me\u001b[0m\u001b[0;34m.\u001b[0m\u001b[0mmessage\u001b[0m\u001b[0;34m)\u001b[0m\u001b[0;34m\u001b[0m\u001b[0;34m\u001b[0m\u001b[0m\n\u001b[0m\u001b[1;32m   2014\u001b[0m \u001b[0;34m\u001b[0m\u001b[0m\n\u001b[1;32m   2015\u001b[0m   \u001b[0;32mreturn\u001b[0m \u001b[0mc_op\u001b[0m\u001b[0;34m\u001b[0m\u001b[0;34m\u001b[0m\u001b[0m\n",
            "\u001b[0;31mValueError\u001b[0m: Exception encountered when calling layer \"conv2d_20\" (type Conv2D).\n\nNegative dimension size caused by subtracting 5 from 4 for '{{node conv2d_20/Conv2D}} = Conv2D[T=DT_FLOAT, data_format=\"NHWC\", dilations=[1, 1, 1, 1], explicit_paddings=[], padding=\"VALID\", strides=[1, 1, 1, 1], use_cudnn_on_gpu=true](Placeholder, conv2d_20/Conv2D/ReadVariableOp)' with input shapes: [?,4,4,16], [5,5,16,16].\n\nCall arguments received:\n  • inputs=tf.Tensor(shape=(None, 4, 4, 16), dtype=float32)"
          ]
        }
      ],
      "source": [
        "model = create_lenet_network(\n",
        "            input_shape=model_params[DATASET_NAME]['input_shape'],\n",
        "            output_shape=model_params[DATASET_NAME]['n_classes']\n",
        ")"
      ]
    },
    {
      "cell_type": "markdown",
      "id": "04db909f",
      "metadata": {
        "id": "04db909f"
      },
      "source": [
        "##### Performing training and validation loops"
      ]
    },
    {
      "cell_type": "code",
      "execution_count": null,
      "id": "4e6d3916",
      "metadata": {
        "id": "4e6d3916"
      },
      "outputs": [],
      "source": [
        "### Defining the model hyperparameters"
      ]
    },
    {
      "cell_type": "code",
      "execution_count": null,
      "id": "b810597f",
      "metadata": {
        "id": "b810597f"
      },
      "outputs": [],
      "source": [
        "EPOCHS = 20"
      ]
    },
    {
      "cell_type": "code",
      "execution_count": null,
      "id": "7333d331",
      "metadata": {
        "id": "7333d331"
      },
      "outputs": [],
      "source": [
        "model_params[MODEL_NAME].update({'epochs': EPOCHS})\n",
        "model_params[MODEL_NAME].update({'batch_size': BATCH_SIZE})\n",
        "model_params[MODEL_NAME].update({'shuffle': True})"
      ]
    },
    {
      "cell_type": "code",
      "execution_count": null,
      "id": "cb571ec8",
      "metadata": {
        "id": "cb571ec8"
      },
      "outputs": [],
      "source": [
        "### Configuring the model for training"
      ]
    },
    {
      "cell_type": "code",
      "execution_count": null,
      "id": "71e6598a",
      "metadata": {
        "id": "71e6598a"
      },
      "outputs": [],
      "source": [
        "model.compile(\n",
        "        optimizer=model_params[MODEL_NAME]['optimizer'],\n",
        "        loss=model_params[MODEL_NAME]['loss_fn'],\n",
        "        metrics=model_params[MODEL_NAME]['metrics']\n",
        ")"
      ]
    },
    {
      "cell_type": "code",
      "execution_count": null,
      "id": "1649cde7",
      "metadata": {
        "id": "1649cde7"
      },
      "outputs": [],
      "source": [
        "### Batching the training and validation datasets"
      ]
    },
    {
      "cell_type": "code",
      "execution_count": null,
      "id": "9e8a8e46",
      "metadata": {
        "id": "9e8a8e46"
      },
      "outputs": [],
      "source": [
        "train_dataset_scaled = train_dataset_scaled.batch(model_params[MODEL_NAME]['batch_size'])\n",
        "validation_dataset_scaled = validation_dataset_scaled.batch(model_params[MODEL_NAME]['batch_size'])"
      ]
    },
    {
      "cell_type": "code",
      "execution_count": null,
      "id": "6198ce5c",
      "metadata": {
        "id": "6198ce5c"
      },
      "outputs": [],
      "source": [
        "### From Udacity's `training.py`"
      ]
    },
    {
      "cell_type": "code",
      "execution_count": null,
      "id": "5495159d",
      "metadata": {
        "id": "5495159d"
      },
      "outputs": [],
      "source": [
        "logger.info(f\"\\nTraining for {model_params[MODEL_NAME]['epochs']} epochs \" + \n",
        "            f\"using '{model_params[DATASET_NAME]['imdir']}' data\")"
      ]
    },
    {
      "cell_type": "code",
      "execution_count": null,
      "id": "fafce66b",
      "metadata": {
        "id": "fafce66b"
      },
      "outputs": [],
      "source": [
        "### Usage of the `fit()` API\n",
        "# See: https://www.tensorflow.org/api_docs/python/tf/keras/Model#fit"
      ]
    },
    {
      "cell_type": "code",
      "execution_count": null,
      "id": "5d1934aa",
      "metadata": {
        "id": "5d1934aa"
      },
      "outputs": [],
      "source": [
        "history = model.fit(\n",
        "                x=train_dataset_scaled,\n",
        "                epochs=model_params[MODEL_NAME].get('epochs', 10),\n",
        "                batch_size=model_params[MODEL_NAME].get('batch_size', 128),\n",
        "                validation_data=validation_dataset_scaled,\n",
        "                shuffle=True\n",
        ")"
      ]
    },
    {
      "cell_type": "code",
      "execution_count": null,
      "id": "7ffb5a7a",
      "metadata": {
        "id": "7ffb5a7a"
      },
      "outputs": [],
      "source": [
        "### Usage of the `callbacks()` method\n",
        "# See: https://www.tensorflow.org/api_docs/python/tf/keras/callbacks/History\n",
        "# See: https://www.tensorflow.org/api_docs/python/tf/keras/callbacks/ModelCheckpoint"
      ]
    },
    {
      "cell_type": "code",
      "execution_count": null,
      "id": "06d45d16",
      "metadata": {
        "id": "06d45d16"
      },
      "outputs": [],
      "source": [
        "type(history)"
      ]
    },
    {
      "cell_type": "markdown",
      "id": "9bf48c62",
      "metadata": {
        "id": "9bf48c62"
      },
      "source": [
        "##### Visualsing the results"
      ]
    },
    {
      "cell_type": "code",
      "execution_count": null,
      "id": "b2788c63",
      "metadata": {
        "id": "b2788c63"
      },
      "outputs": [],
      "source": [
        "display_metrics(history)"
      ]
    },
    {
      "cell_type": "markdown",
      "id": "25615960",
      "metadata": {
        "id": "25615960"
      },
      "source": [
        "#### Evaluating the custom CNN"
      ]
    },
    {
      "cell_type": "code",
      "execution_count": null,
      "id": "e1607d0d",
      "metadata": {
        "id": "e1607d0d"
      },
      "outputs": [],
      "source": [
        "MODEL_NAME = 'Custom_CNN'"
      ]
    },
    {
      "cell_type": "markdown",
      "id": "a8354134",
      "metadata": {
        "id": "a8354134"
      },
      "source": [
        "##### Initialising the model"
      ]
    },
    {
      "cell_type": "markdown",
      "id": "a50d1963",
      "metadata": {
        "id": "a50d1963"
      },
      "source": [
        "##### Performing training and validation loops"
      ]
    },
    {
      "cell_type": "markdown",
      "id": "0cb4c42b",
      "metadata": {
        "id": "0cb4c42b"
      },
      "source": [
        "##### Visualsing the results"
      ]
    },
    {
      "cell_type": "markdown",
      "id": "036e5ec4",
      "metadata": {
        "id": "036e5ec4"
      },
      "source": [
        "### 2.3 Evaluation on the GTSRB dataset"
      ]
    },
    {
      "cell_type": "markdown",
      "id": "bdad1f6d",
      "metadata": {
        "id": "bdad1f6d"
      },
      "source": [
        "#### Considerations for our input data"
      ]
    },
    {
      "cell_type": "code",
      "execution_count": 23,
      "id": "5f711ba6",
      "metadata": {
        "id": "5f711ba6"
      },
      "outputs": [],
      "source": [
        "DATASET_NAME = 'GTSRB'"
      ]
    },
    {
      "cell_type": "code",
      "execution_count": 24,
      "id": "7288e8a5",
      "metadata": {
        "id": "7288e8a5"
      },
      "outputs": [],
      "source": [
        "N_CLASSES = 43                                    # GTSRB has 43 distinct digit classes"
      ]
    },
    {
      "cell_type": "code",
      "execution_count": null,
      "id": "fdfc0c89",
      "metadata": {
        "id": "fdfc0c89"
      },
      "outputs": [],
      "source": [
        "### Defining our input image specs"
      ]
    },
    {
      "cell_type": "code",
      "execution_count": 25,
      "id": "5896cacd",
      "metadata": {
        "id": "5896cacd"
      },
      "outputs": [],
      "source": [
        "IMG_DIR = os.path.join(DIR_SRC, 'GTSRB/Final_Training/Images')"
      ]
    },
    {
      "cell_type": "code",
      "execution_count": 26,
      "id": "bd232e25",
      "metadata": {
        "id": "bd232e25"
      },
      "outputs": [],
      "source": [
        "BATCH_SIZE = 128"
      ]
    },
    {
      "cell_type": "code",
      "execution_count": 44,
      "id": "04c04d92",
      "metadata": {
        "id": "04c04d92"
      },
      "outputs": [],
      "source": [
        "IMG_COLOR_MODE = 'rgb'\n",
        "IMG_SIZE = (32, 32)                               # Each RGB image has 32x32 px resolution\n",
        "IMG_SHAPE = (32, 32, 3)                           # Each RGB image has 3 channels\n",
        "N_FEATURES = (32 * 32) * 3                        # Each pixel value is considered an attribute (feature)"
      ]
    },
    {
      "cell_type": "code",
      "execution_count": 45,
      "id": "2de2807c",
      "metadata": {
        "id": "2de2807c"
      },
      "outputs": [],
      "source": [
        "model_params[DATASET_NAME].update({'n_classes': N_CLASSES})\n",
        "model_params[DATASET_NAME].update({'imdir': IMG_DIR})\n",
        "model_params[DATASET_NAME].update({'batch_size': BATCH_SIZE})\n",
        "model_params[DATASET_NAME].update({'color_mode': IMG_COLOR_MODE})\n",
        "model_params[DATASET_NAME].update({'image_size': IMG_SIZE})\n",
        "model_params[DATASET_NAME].update({'input_shape': IMG_SHAPE})\n",
        "model_params[DATASET_NAME].update({'n_features': N_FEATURES})"
      ]
    },
    {
      "cell_type": "markdown",
      "id": "28ec3188",
      "metadata": {
        "id": "28ec3188"
      },
      "source": [
        "#### Fetching the GTSRB data"
      ]
    },
    {
      "cell_type": "code",
      "execution_count": 149,
      "id": "37655102",
      "metadata": {
        "colab": {
          "base_uri": "https://localhost:8080/"
        },
        "id": "37655102",
        "outputId": "b827bd17-4c7b-4235-fbed-c97fa548bfb3"
      },
      "outputs": [
        {
          "output_type": "stream",
          "name": "stdout",
          "text": [
            "Found 4300 files belonging to 43 classes.\n",
            "Using 3870 files for training.\n",
            "Found 4300 files belonging to 43 classes.\n",
            "Using 430 files for validation.\n"
          ]
        }
      ],
      "source": [
        "### Fetching the training and validation datasets\n",
        "train_dataset, validation_dataset = get_datasets(model_params[DATASET_NAME])"
      ]
    },
    {
      "cell_type": "markdown",
      "id": "cff3e692",
      "metadata": {
        "id": "cff3e692"
      },
      "source": [
        "#### Processing the image data"
      ]
    },
    {
      "cell_type": "code",
      "execution_count": 122,
      "id": "cd22a1a9",
      "metadata": {
        "colab": {
          "base_uri": "https://localhost:8080/"
        },
        "id": "cd22a1a9",
        "outputId": "56dd4182-e226-4d34-e27a-48859d2d6251"
      },
      "outputs": [
        {
          "output_type": "execute_result",
          "data": {
            "text/plain": [
              "3072"
            ]
          },
          "metadata": {},
          "execution_count": 122
        }
      ],
      "source": [
        "### Number of features (pixel values) in a single image\n",
        "train_iter = iter(train_dataset)\n",
        "len(train_iter.get_next()[0][0].numpy().flatten())"
      ]
    },
    {
      "cell_type": "code",
      "execution_count": 34,
      "id": "a5d5385d",
      "metadata": {
        "id": "a5d5385d"
      },
      "outputs": [],
      "source": [
        "### From J. Moran's `2022-09-05-Image-Classification-Feed-Forward-Neural-Networks.ipynb`"
      ]
    },
    {
      "cell_type": "code",
      "execution_count": 150,
      "id": "90115a32",
      "metadata": {
        "id": "90115a32"
      },
      "outputs": [],
      "source": [
        "def process(dataset: tf.data.Dataset) -> Generator[tuple, None, None]:\n",
        "    \"\"\"Processes the input dataset and returns a generator object.\n",
        "\n",
        "    :param dataset: the tf.data.Dataset instance of batched image, label data.\n",
        "    :returns: the generator instance modifying the image attribute values.\n",
        "    \"\"\"\n",
        "\n",
        "    def process_generator()  -> Iterator[Tuple[tf.Tensor, tf.Tensor]]:\n",
        "        \"\"\"Scales the input image data.\n",
        "        \n",
        "        Unbatches the tf.data.Dataset and scales all image attributes,\n",
        "        i.e., pixel values, in the range [0, 1].\n",
        "\n",
        "        :returns: an iterator yielding the modfied image data and\n",
        "            corresponding label.\n",
        "        \"\"\"\n",
        "\n",
        "        for batch in dataset:\n",
        "            for image, label in zip(*batch):\n",
        "                image = tf.cast(image/255., tf.float32)\n",
        "                yield image, label\n",
        "    return process_generator"
      ]
    },
    {
      "cell_type": "code",
      "execution_count": null,
      "id": "a3f9cad4",
      "metadata": {
        "id": "a3f9cad4"
      },
      "outputs": [],
      "source": [
        "### Unbatching the datasets and scaling the images"
      ]
    },
    {
      "cell_type": "code",
      "execution_count": 151,
      "id": "eadc5547",
      "metadata": {
        "id": "eadc5547"
      },
      "outputs": [],
      "source": [
        "train_dataset_scaled = tf.data.Dataset.from_generator(\n",
        "        generator=process(train_dataset), \n",
        "        output_signature=(\n",
        "            tf.TensorSpec(\n",
        "                shape=model_params[DATASET_NAME].get('input_shape', None),\n",
        "                dtype=tf.dtypes.float32), \n",
        "            tf.TensorSpec(\n",
        "                shape=(),\n",
        "                dtype=tf.dtypes.int32)\n",
        "        )\n",
        ")"
      ]
    },
    {
      "cell_type": "code",
      "execution_count": 152,
      "id": "3ebba510",
      "metadata": {
        "id": "3ebba510"
      },
      "outputs": [],
      "source": [
        "validation_dataset_scaled = tf.data.Dataset.from_generator(\n",
        "        generator=process(validation_dataset), \n",
        "        output_signature=(\n",
        "            tf.TensorSpec(\n",
        "                shape=model_params[DATASET_NAME].get('input_shape', None),\n",
        "                dtype=tf.dtypes.float32), \n",
        "            tf.TensorSpec(\n",
        "                shape=(),\n",
        "                dtype=tf.dtypes.int32)\n",
        "        )\n",
        ")"
      ]
    },
    {
      "cell_type": "code",
      "execution_count": 76,
      "id": "e4699eba",
      "metadata": {
        "colab": {
          "base_uri": "https://localhost:8080/"
        },
        "id": "e4699eba",
        "outputId": "9aaa3d84-1c70-4ecf-93c2-fddc7389aae3"
      },
      "outputs": [
        {
          "output_type": "execute_result",
          "data": {
            "text/plain": [
              "tensorflow.python.data.ops.dataset_ops.FlatMapDataset"
            ]
          },
          "metadata": {},
          "execution_count": 76
        }
      ],
      "source": [
        "type(validation_dataset_scaled)"
      ]
    },
    {
      "cell_type": "markdown",
      "id": "cf3b6ae4",
      "metadata": {
        "id": "cf3b6ae4"
      },
      "source": [
        "#### Evaluating the LeNet-5"
      ]
    },
    {
      "cell_type": "markdown",
      "id": "7d29c235",
      "metadata": {
        "id": "7d29c235"
      },
      "source": [
        "##### Initialising the model"
      ]
    },
    {
      "cell_type": "code",
      "execution_count": 139,
      "id": "dd28fc67",
      "metadata": {
        "id": "dd28fc67"
      },
      "outputs": [],
      "source": [
        "MODEL_NAME = 'LeNet-5'"
      ]
    },
    {
      "cell_type": "code",
      "execution_count": 140,
      "id": "2271732e",
      "metadata": {
        "id": "2271732e"
      },
      "outputs": [],
      "source": [
        "### Creating the model instance"
      ]
    },
    {
      "cell_type": "code",
      "execution_count": 141,
      "id": "96e47fa9",
      "metadata": {
        "id": "96e47fa9"
      },
      "outputs": [],
      "source": [
        "model = create_lenet_network(\n",
        "            input_shape=model_params[DATASET_NAME]['input_shape'],\n",
        "            output_shape=model_params[DATASET_NAME]['n_classes']\n",
        ")"
      ]
    },
    {
      "cell_type": "code",
      "source": [
        "model.summary()"
      ],
      "metadata": {
        "colab": {
          "base_uri": "https://localhost:8080/"
        },
        "id": "8Mb4FJMBOoMU",
        "outputId": "fe365b7b-ce11-4e8a-9e29-f9898892a01d"
      },
      "id": "8Mb4FJMBOoMU",
      "execution_count": 142,
      "outputs": [
        {
          "output_type": "stream",
          "name": "stdout",
          "text": [
            "Model: \"sequential_5\"\n",
            "_________________________________________________________________\n",
            " Layer (type)                Output Shape              Param #   \n",
            "=================================================================\n",
            " conv2d_15 (Conv2D)          (None, 28, 28, 6)         456       \n",
            "                                                                 \n",
            " average_pooling2d_10 (Avera  (None, 14, 14, 6)        0         \n",
            " gePooling2D)                                                    \n",
            "                                                                 \n",
            " activation_10 (Activation)  (None, 14, 14, 6)         0         \n",
            "                                                                 \n",
            " conv2d_16 (Conv2D)          (None, 10, 10, 16)        2416      \n",
            "                                                                 \n",
            " average_pooling2d_11 (Avera  (None, 5, 5, 16)         0         \n",
            " gePooling2D)                                                    \n",
            "                                                                 \n",
            " activation_11 (Activation)  (None, 5, 5, 16)          0         \n",
            "                                                                 \n",
            " conv2d_17 (Conv2D)          (None, 1, 1, 16)          6416      \n",
            "                                                                 \n",
            " flatten_5 (Flatten)         (None, 16)                0         \n",
            "                                                                 \n",
            " dense_10 (Dense)            (None, 84)                1428      \n",
            "                                                                 \n",
            " dense_11 (Dense)            (None, 43)                3655      \n",
            "                                                                 \n",
            "=================================================================\n",
            "Total params: 14,371\n",
            "Trainable params: 14,371\n",
            "Non-trainable params: 0\n",
            "_________________________________________________________________\n"
          ]
        }
      ]
    },
    {
      "cell_type": "markdown",
      "id": "556f2c4f",
      "metadata": {
        "id": "556f2c4f"
      },
      "source": [
        "##### Performing the training and validation loops"
      ]
    },
    {
      "cell_type": "code",
      "execution_count": null,
      "id": "0c48a510",
      "metadata": {
        "id": "0c48a510"
      },
      "outputs": [],
      "source": [
        "### Defining the model hyperparameters"
      ]
    },
    {
      "cell_type": "code",
      "execution_count": 143,
      "id": "6bbb1ad4",
      "metadata": {
        "id": "6bbb1ad4"
      },
      "outputs": [],
      "source": [
        "EPOCHS = 100"
      ]
    },
    {
      "cell_type": "code",
      "execution_count": 144,
      "id": "199f2956",
      "metadata": {
        "id": "199f2956"
      },
      "outputs": [],
      "source": [
        "model_params[MODEL_NAME].update({'epochs': EPOCHS})\n",
        "model_params[MODEL_NAME].update({'batch_size': BATCH_SIZE})\n",
        "model_params[MODEL_NAME].update({'shuffle': True})"
      ]
    },
    {
      "cell_type": "code",
      "execution_count": null,
      "id": "d364fb39",
      "metadata": {
        "id": "d364fb39"
      },
      "outputs": [],
      "source": [
        "### Configuring the model for training"
      ]
    },
    {
      "cell_type": "code",
      "execution_count": 145,
      "id": "ecd4aafd",
      "metadata": {
        "id": "ecd4aafd"
      },
      "outputs": [],
      "source": [
        "model.compile(\n",
        "        optimizer=model_params[MODEL_NAME]['optimizer'],\n",
        "        loss=model_params[MODEL_NAME]['loss_fn'],\n",
        "        metrics=model_params[MODEL_NAME]['metrics']\n",
        ")"
      ]
    },
    {
      "cell_type": "code",
      "execution_count": null,
      "id": "a7195aa2",
      "metadata": {
        "id": "a7195aa2"
      },
      "outputs": [],
      "source": [
        "### Batching the training and validation datasets"
      ]
    },
    {
      "cell_type": "code",
      "execution_count": 153,
      "id": "f07eee54",
      "metadata": {
        "id": "f07eee54"
      },
      "outputs": [],
      "source": [
        "train_dataset_scaled = train_dataset_scaled.batch(\n",
        "                            batch_size=model_params[MODEL_NAME]['batch_size']\n",
        ")\n",
        "validation_dataset_scaled = validation_dataset_scaled.batch(\n",
        "                            batch_size=model_params[MODEL_NAME]['batch_size']\n",
        ")"
      ]
    },
    {
      "cell_type": "code",
      "source": [
        "iter(train_dataset_scaled).get_next()"
      ],
      "metadata": {
        "id": "NAlhWSgJQyAo"
      },
      "id": "NAlhWSgJQyAo",
      "execution_count": null,
      "outputs": []
    },
    {
      "cell_type": "code",
      "execution_count": null,
      "id": "8c5f9129",
      "metadata": {
        "id": "8c5f9129"
      },
      "outputs": [],
      "source": [
        "### From Udacity's `training.py`"
      ]
    },
    {
      "cell_type": "code",
      "execution_count": 155,
      "id": "d45158f5",
      "metadata": {
        "id": "d45158f5"
      },
      "outputs": [],
      "source": [
        "logger = get_module_logger(MODEL_NAME)"
      ]
    },
    {
      "cell_type": "code",
      "execution_count": 156,
      "id": "5fb5bbc4",
      "metadata": {
        "colab": {
          "base_uri": "https://localhost:8080/"
        },
        "id": "5fb5bbc4",
        "outputId": "3e1f661f-09d5-4c0b-91b4-b5f9755f22dc"
      },
      "outputs": [
        {
          "output_type": "stream",
          "name": "stderr",
          "text": [
            "2022-09-14 23:26:17,445 INFO     \n",
            "Training for 100 epochs using '/content/data/GTSRB/Final_Training/Images' data\n",
            "2022-09-14 23:26:17,445 INFO     \n",
            "Training for 100 epochs using '/content/data/GTSRB/Final_Training/Images' data\n",
            "2022-09-14 23:26:17,445 INFO     \n",
            "Training for 100 epochs using '/content/data/GTSRB/Final_Training/Images' data\n"
          ]
        }
      ],
      "source": [
        "logger.info(f\"\\nTraining for {model_params[MODEL_NAME]['epochs']} epochs \" + \n",
        "            f\"using '{model_params[DATASET_NAME]['imdir']}' data\")"
      ]
    },
    {
      "cell_type": "code",
      "execution_count": null,
      "id": "cb2ec5c4",
      "metadata": {
        "id": "cb2ec5c4"
      },
      "outputs": [],
      "source": [
        "### Usage of the `fit()` API\n",
        "# See: https://www.tensorflow.org/api_docs/python/tf/keras/Model#fit"
      ]
    },
    {
      "cell_type": "code",
      "execution_count": 157,
      "id": "c35a2d5b",
      "metadata": {
        "colab": {
          "base_uri": "https://localhost:8080/"
        },
        "id": "c35a2d5b",
        "outputId": "c70dc258-1648-4cab-a093-5a6402815d6d"
      },
      "outputs": [
        {
          "output_type": "stream",
          "name": "stdout",
          "text": [
            "Epoch 1/100\n",
            "31/31 [==============================] - 5s 156ms/step - loss: 3.7762 - accuracy: 0.0274 - val_loss: 3.7666 - val_accuracy: 0.0302\n",
            "Epoch 2/100\n",
            "31/31 [==============================] - 5s 149ms/step - loss: 3.7681 - accuracy: 0.0212 - val_loss: 3.7687 - val_accuracy: 0.0070\n",
            "Epoch 3/100\n",
            "31/31 [==============================] - 5s 150ms/step - loss: 3.7675 - accuracy: 0.0233 - val_loss: 3.7771 - val_accuracy: 0.0116\n",
            "Epoch 4/100\n",
            "31/31 [==============================] - 6s 167ms/step - loss: 3.7630 - accuracy: 0.0199 - val_loss: 3.7753 - val_accuracy: 0.0395\n",
            "Epoch 5/100\n",
            "31/31 [==============================] - 5s 156ms/step - loss: 3.7553 - accuracy: 0.0282 - val_loss: 3.7455 - val_accuracy: 0.0163\n",
            "Epoch 6/100\n",
            "31/31 [==============================] - 5s 152ms/step - loss: 3.7089 - accuracy: 0.0380 - val_loss: 3.7030 - val_accuracy: 0.0465\n",
            "Epoch 7/100\n",
            "31/31 [==============================] - 5s 152ms/step - loss: 3.6651 - accuracy: 0.0429 - val_loss: 3.7008 - val_accuracy: 0.0442\n",
            "Epoch 8/100\n",
            "31/31 [==============================] - 5s 158ms/step - loss: 3.6508 - accuracy: 0.0460 - val_loss: 3.6974 - val_accuracy: 0.0302\n",
            "Epoch 9/100\n",
            "31/31 [==============================] - 5s 158ms/step - loss: 3.6500 - accuracy: 0.0481 - val_loss: 3.6992 - val_accuracy: 0.0442\n",
            "Epoch 10/100\n",
            "31/31 [==============================] - 5s 156ms/step - loss: 3.6450 - accuracy: 0.0429 - val_loss: 3.6744 - val_accuracy: 0.0605\n",
            "Epoch 11/100\n",
            "31/31 [==============================] - 5s 158ms/step - loss: 3.6248 - accuracy: 0.0581 - val_loss: 3.6551 - val_accuracy: 0.0605\n",
            "Epoch 12/100\n",
            "31/31 [==============================] - 6s 162ms/step - loss: 3.6019 - accuracy: 0.0612 - val_loss: 3.6265 - val_accuracy: 0.0605\n",
            "Epoch 13/100\n",
            "31/31 [==============================] - 6s 164ms/step - loss: 3.5788 - accuracy: 0.0685 - val_loss: 3.6010 - val_accuracy: 0.0674\n",
            "Epoch 14/100\n",
            "31/31 [==============================] - 5s 154ms/step - loss: 3.5572 - accuracy: 0.0700 - val_loss: 3.5913 - val_accuracy: 0.0605\n",
            "Epoch 15/100\n",
            "31/31 [==============================] - 5s 152ms/step - loss: 3.5349 - accuracy: 0.0780 - val_loss: 3.5340 - val_accuracy: 0.0837\n",
            "Epoch 16/100\n",
            "31/31 [==============================] - 5s 155ms/step - loss: 3.4985 - accuracy: 0.0907 - val_loss: 3.4892 - val_accuracy: 0.1023\n",
            "Epoch 17/100\n",
            "31/31 [==============================] - 5s 162ms/step - loss: 3.4399 - accuracy: 0.1047 - val_loss: 3.4098 - val_accuracy: 0.1000\n",
            "Epoch 18/100\n",
            "31/31 [==============================] - 5s 164ms/step - loss: 3.3540 - accuracy: 0.0969 - val_loss: 3.3150 - val_accuracy: 0.1163\n",
            "Epoch 19/100\n",
            "31/31 [==============================] - 6s 163ms/step - loss: 3.2257 - accuracy: 0.1214 - val_loss: 3.1802 - val_accuracy: 0.1535\n",
            "Epoch 20/100\n",
            "31/31 [==============================] - 5s 157ms/step - loss: 3.1337 - accuracy: 0.1357 - val_loss: 3.1120 - val_accuracy: 0.1558\n",
            "Epoch 21/100\n",
            "31/31 [==============================] - 5s 159ms/step - loss: 3.0553 - accuracy: 0.1390 - val_loss: 3.0645 - val_accuracy: 0.1581\n",
            "Epoch 22/100\n",
            "31/31 [==============================] - 5s 161ms/step - loss: 3.0015 - accuracy: 0.1478 - val_loss: 3.0528 - val_accuracy: 0.1279\n",
            "Epoch 23/100\n",
            "31/31 [==============================] - 5s 163ms/step - loss: 2.9601 - accuracy: 0.1545 - val_loss: 2.9396 - val_accuracy: 0.1535\n",
            "Epoch 24/100\n",
            "31/31 [==============================] - 5s 158ms/step - loss: 2.9138 - accuracy: 0.1623 - val_loss: 2.9648 - val_accuracy: 0.1209\n",
            "Epoch 25/100\n",
            "31/31 [==============================] - 5s 159ms/step - loss: 2.8854 - accuracy: 0.1638 - val_loss: 2.8608 - val_accuracy: 0.1791\n",
            "Epoch 26/100\n",
            "31/31 [==============================] - 6s 161ms/step - loss: 2.8286 - accuracy: 0.1690 - val_loss: 2.8543 - val_accuracy: 0.1558\n",
            "Epoch 27/100\n",
            "31/31 [==============================] - 6s 163ms/step - loss: 2.7871 - accuracy: 0.1829 - val_loss: 2.8235 - val_accuracy: 0.1837\n",
            "Epoch 28/100\n",
            "31/31 [==============================] - 6s 164ms/step - loss: 2.7642 - accuracy: 0.1793 - val_loss: 2.7823 - val_accuracy: 0.1698\n",
            "Epoch 29/100\n",
            "31/31 [==============================] - 6s 163ms/step - loss: 2.7230 - accuracy: 0.1915 - val_loss: 2.7146 - val_accuracy: 0.1930\n",
            "Epoch 30/100\n",
            "31/31 [==============================] - 6s 165ms/step - loss: 2.6423 - accuracy: 0.2127 - val_loss: 2.6667 - val_accuracy: 0.1837\n",
            "Epoch 31/100\n",
            "31/31 [==============================] - 6s 167ms/step - loss: 2.5977 - accuracy: 0.2109 - val_loss: 2.6007 - val_accuracy: 0.1930\n",
            "Epoch 32/100\n",
            "31/31 [==============================] - 6s 162ms/step - loss: 2.5395 - accuracy: 0.2305 - val_loss: 2.5087 - val_accuracy: 0.2116\n",
            "Epoch 33/100\n",
            "31/31 [==============================] - 6s 166ms/step - loss: 2.4703 - accuracy: 0.2483 - val_loss: 2.4527 - val_accuracy: 0.2302\n",
            "Epoch 34/100\n",
            "31/31 [==============================] - 6s 162ms/step - loss: 2.4111 - accuracy: 0.2618 - val_loss: 2.3939 - val_accuracy: 0.2442\n",
            "Epoch 35/100\n",
            "31/31 [==============================] - 6s 163ms/step - loss: 2.3580 - accuracy: 0.2628 - val_loss: 2.3316 - val_accuracy: 0.2605\n",
            "Epoch 36/100\n",
            "31/31 [==============================] - 6s 165ms/step - loss: 2.3145 - accuracy: 0.2946 - val_loss: 2.3202 - val_accuracy: 0.2791\n",
            "Epoch 37/100\n",
            "31/31 [==============================] - 6s 165ms/step - loss: 2.2740 - accuracy: 0.2930 - val_loss: 2.2477 - val_accuracy: 0.2907\n",
            "Epoch 38/100\n",
            "31/31 [==============================] - 6s 163ms/step - loss: 2.2155 - accuracy: 0.3134 - val_loss: 2.2082 - val_accuracy: 0.3047\n",
            "Epoch 39/100\n",
            "31/31 [==============================] - 6s 159ms/step - loss: 2.1492 - accuracy: 0.3295 - val_loss: 2.1425 - val_accuracy: 0.3233\n",
            "Epoch 40/100\n",
            "31/31 [==============================] - 6s 168ms/step - loss: 2.1014 - accuracy: 0.3370 - val_loss: 2.2740 - val_accuracy: 0.2930\n",
            "Epoch 41/100\n",
            "31/31 [==============================] - 6s 166ms/step - loss: 2.0925 - accuracy: 0.3416 - val_loss: 2.0649 - val_accuracy: 0.3535\n",
            "Epoch 42/100\n",
            "31/31 [==============================] - 6s 158ms/step - loss: 2.0215 - accuracy: 0.3667 - val_loss: 1.9910 - val_accuracy: 0.3605\n",
            "Epoch 43/100\n",
            "31/31 [==============================] - 6s 160ms/step - loss: 1.9713 - accuracy: 0.3884 - val_loss: 1.9856 - val_accuracy: 0.3465\n",
            "Epoch 44/100\n",
            "31/31 [==============================] - 6s 160ms/step - loss: 1.9378 - accuracy: 0.3938 - val_loss: 1.9120 - val_accuracy: 0.3837\n",
            "Epoch 45/100\n",
            "31/31 [==============================] - 5s 158ms/step - loss: 1.8988 - accuracy: 0.4052 - val_loss: 1.8891 - val_accuracy: 0.3767\n",
            "Epoch 46/100\n",
            "31/31 [==============================] - 6s 167ms/step - loss: 1.8733 - accuracy: 0.4142 - val_loss: 1.8903 - val_accuracy: 0.3744\n",
            "Epoch 47/100\n",
            "31/31 [==============================] - 6s 166ms/step - loss: 1.8340 - accuracy: 0.4307 - val_loss: 1.8577 - val_accuracy: 0.3837\n",
            "Epoch 48/100\n",
            "31/31 [==============================] - 6s 163ms/step - loss: 1.7902 - accuracy: 0.4406 - val_loss: 1.7864 - val_accuracy: 0.4209\n",
            "Epoch 49/100\n",
            "31/31 [==============================] - 6s 166ms/step - loss: 1.7803 - accuracy: 0.4496 - val_loss: 1.7569 - val_accuracy: 0.4093\n",
            "Epoch 50/100\n",
            "31/31 [==============================] - 6s 160ms/step - loss: 1.7319 - accuracy: 0.4540 - val_loss: 1.7764 - val_accuracy: 0.4140\n",
            "Epoch 51/100\n",
            "31/31 [==============================] - 6s 164ms/step - loss: 1.7235 - accuracy: 0.4651 - val_loss: 1.7818 - val_accuracy: 0.4116\n",
            "Epoch 52/100\n",
            "31/31 [==============================] - 6s 166ms/step - loss: 1.7023 - accuracy: 0.4687 - val_loss: 1.7249 - val_accuracy: 0.4372\n",
            "Epoch 53/100\n",
            "31/31 [==============================] - 6s 161ms/step - loss: 1.6603 - accuracy: 0.4866 - val_loss: 1.6458 - val_accuracy: 0.4674\n",
            "Epoch 54/100\n",
            "31/31 [==============================] - 5s 163ms/step - loss: 1.6010 - accuracy: 0.5062 - val_loss: 1.6459 - val_accuracy: 0.4767\n",
            "Epoch 55/100\n",
            "31/31 [==============================] - 6s 162ms/step - loss: 1.5716 - accuracy: 0.5114 - val_loss: 1.5721 - val_accuracy: 0.5023\n",
            "Epoch 56/100\n",
            "31/31 [==============================] - 6s 165ms/step - loss: 1.5405 - accuracy: 0.5261 - val_loss: 1.5451 - val_accuracy: 0.4860\n",
            "Epoch 57/100\n",
            "31/31 [==============================] - 6s 162ms/step - loss: 1.5114 - accuracy: 0.5517 - val_loss: 1.5620 - val_accuracy: 0.4953\n",
            "Epoch 58/100\n",
            "31/31 [==============================] - 6s 163ms/step - loss: 1.5040 - accuracy: 0.5411 - val_loss: 1.4976 - val_accuracy: 0.5140\n",
            "Epoch 59/100\n",
            "31/31 [==============================] - 6s 173ms/step - loss: 1.4706 - accuracy: 0.5543 - val_loss: 1.5144 - val_accuracy: 0.5279\n",
            "Epoch 60/100\n",
            "31/31 [==============================] - 6s 163ms/step - loss: 1.4351 - accuracy: 0.5659 - val_loss: 1.4322 - val_accuracy: 0.5488\n",
            "Epoch 61/100\n",
            "31/31 [==============================] - 6s 169ms/step - loss: 1.3838 - accuracy: 0.5912 - val_loss: 1.4776 - val_accuracy: 0.5209\n",
            "Epoch 62/100\n",
            "31/31 [==============================] - 6s 169ms/step - loss: 1.3793 - accuracy: 0.5860 - val_loss: 1.3776 - val_accuracy: 0.5884\n",
            "Epoch 63/100\n",
            "31/31 [==============================] - 6s 176ms/step - loss: 1.3440 - accuracy: 0.6016 - val_loss: 1.3799 - val_accuracy: 0.5372\n",
            "Epoch 64/100\n",
            "31/31 [==============================] - 6s 178ms/step - loss: 1.3322 - accuracy: 0.5990 - val_loss: 1.3196 - val_accuracy: 0.5953\n",
            "Epoch 65/100\n",
            "31/31 [==============================] - 7s 191ms/step - loss: 1.2907 - accuracy: 0.6171 - val_loss: 1.3092 - val_accuracy: 0.5837\n",
            "Epoch 66/100\n",
            "31/31 [==============================] - 6s 159ms/step - loss: 1.2743 - accuracy: 0.6189 - val_loss: 1.2945 - val_accuracy: 0.6140\n",
            "Epoch 67/100\n",
            "31/31 [==============================] - 6s 161ms/step - loss: 1.2573 - accuracy: 0.6240 - val_loss: 1.2821 - val_accuracy: 0.5791\n",
            "Epoch 68/100\n",
            "31/31 [==============================] - 6s 162ms/step - loss: 1.2303 - accuracy: 0.6264 - val_loss: 1.2542 - val_accuracy: 0.6279\n",
            "Epoch 69/100\n",
            "31/31 [==============================] - 6s 164ms/step - loss: 1.1953 - accuracy: 0.6416 - val_loss: 1.2121 - val_accuracy: 0.6326\n",
            "Epoch 70/100\n",
            "31/31 [==============================] - 6s 168ms/step - loss: 1.1885 - accuracy: 0.6478 - val_loss: 1.2323 - val_accuracy: 0.6186\n",
            "Epoch 71/100\n",
            "31/31 [==============================] - 6s 166ms/step - loss: 1.1560 - accuracy: 0.6568 - val_loss: 1.2092 - val_accuracy: 0.6302\n",
            "Epoch 72/100\n",
            "31/31 [==============================] - 6s 164ms/step - loss: 1.1318 - accuracy: 0.6713 - val_loss: 1.1622 - val_accuracy: 0.6395\n",
            "Epoch 73/100\n",
            "31/31 [==============================] - 6s 165ms/step - loss: 1.1124 - accuracy: 0.6711 - val_loss: 1.1621 - val_accuracy: 0.6488\n",
            "Epoch 74/100\n",
            "31/31 [==============================] - 6s 163ms/step - loss: 1.1012 - accuracy: 0.6739 - val_loss: 1.1298 - val_accuracy: 0.6558\n",
            "Epoch 75/100\n",
            "31/31 [==============================] - 6s 164ms/step - loss: 1.0769 - accuracy: 0.6786 - val_loss: 1.1133 - val_accuracy: 0.6558\n",
            "Epoch 76/100\n",
            "31/31 [==============================] - 6s 161ms/step - loss: 1.0536 - accuracy: 0.6943 - val_loss: 1.1076 - val_accuracy: 0.6674\n",
            "Epoch 77/100\n",
            "31/31 [==============================] - 5s 159ms/step - loss: 1.0470 - accuracy: 0.6899 - val_loss: 1.1003 - val_accuracy: 0.6605\n",
            "Epoch 78/100\n",
            "31/31 [==============================] - 5s 163ms/step - loss: 1.0250 - accuracy: 0.7013 - val_loss: 1.0800 - val_accuracy: 0.6651\n",
            "Epoch 79/100\n",
            "31/31 [==============================] - 5s 162ms/step - loss: 1.0156 - accuracy: 0.6995 - val_loss: 1.1007 - val_accuracy: 0.6791\n",
            "Epoch 80/100\n",
            "31/31 [==============================] - 5s 164ms/step - loss: 1.0111 - accuracy: 0.7026 - val_loss: 1.0558 - val_accuracy: 0.6884\n",
            "Epoch 81/100\n",
            "31/31 [==============================] - 6s 164ms/step - loss: 0.9881 - accuracy: 0.6995 - val_loss: 1.0470 - val_accuracy: 0.6767\n",
            "Epoch 82/100\n",
            "31/31 [==============================] - 5s 164ms/step - loss: 0.9698 - accuracy: 0.7147 - val_loss: 1.0428 - val_accuracy: 0.6651\n",
            "Epoch 83/100\n",
            "31/31 [==============================] - 5s 160ms/step - loss: 0.9557 - accuracy: 0.7183 - val_loss: 1.0167 - val_accuracy: 0.7140\n",
            "Epoch 84/100\n",
            "31/31 [==============================] - 5s 153ms/step - loss: 0.9582 - accuracy: 0.7152 - val_loss: 1.0139 - val_accuracy: 0.7047\n",
            "Epoch 85/100\n",
            "31/31 [==============================] - 5s 154ms/step - loss: 0.9397 - accuracy: 0.7181 - val_loss: 1.0189 - val_accuracy: 0.6907\n",
            "Epoch 86/100\n",
            "31/31 [==============================] - 5s 156ms/step - loss: 0.9383 - accuracy: 0.7212 - val_loss: 0.9887 - val_accuracy: 0.6977\n",
            "Epoch 87/100\n",
            "31/31 [==============================] - 5s 156ms/step - loss: 0.8964 - accuracy: 0.7351 - val_loss: 0.9462 - val_accuracy: 0.7070\n",
            "Epoch 88/100\n",
            "31/31 [==============================] - 5s 154ms/step - loss: 0.8914 - accuracy: 0.7271 - val_loss: 0.9940 - val_accuracy: 0.6977\n",
            "Epoch 89/100\n",
            "31/31 [==============================] - 5s 156ms/step - loss: 0.8979 - accuracy: 0.7323 - val_loss: 0.9673 - val_accuracy: 0.7070\n",
            "Epoch 90/100\n",
            "31/31 [==============================] - 6s 161ms/step - loss: 0.8895 - accuracy: 0.7276 - val_loss: 0.9374 - val_accuracy: 0.7186\n",
            "Epoch 91/100\n",
            "31/31 [==============================] - 6s 156ms/step - loss: 0.8868 - accuracy: 0.7362 - val_loss: 0.9266 - val_accuracy: 0.7140\n",
            "Epoch 92/100\n",
            "31/31 [==============================] - 5s 155ms/step - loss: 0.8473 - accuracy: 0.7496 - val_loss: 0.9235 - val_accuracy: 0.7163\n",
            "Epoch 93/100\n",
            "31/31 [==============================] - 5s 156ms/step - loss: 0.8286 - accuracy: 0.7615 - val_loss: 0.8985 - val_accuracy: 0.7326\n",
            "Epoch 94/100\n",
            "31/31 [==============================] - 5s 152ms/step - loss: 0.8267 - accuracy: 0.7530 - val_loss: 0.8945 - val_accuracy: 0.7326\n",
            "Epoch 95/100\n",
            "31/31 [==============================] - 6s 165ms/step - loss: 0.7983 - accuracy: 0.7661 - val_loss: 0.8980 - val_accuracy: 0.7279\n",
            "Epoch 96/100\n",
            "31/31 [==============================] - 6s 164ms/step - loss: 0.8242 - accuracy: 0.7581 - val_loss: 0.8927 - val_accuracy: 0.7256\n",
            "Epoch 97/100\n",
            "31/31 [==============================] - 6s 170ms/step - loss: 0.8028 - accuracy: 0.7685 - val_loss: 0.9021 - val_accuracy: 0.7279\n",
            "Epoch 98/100\n",
            "31/31 [==============================] - 6s 163ms/step - loss: 0.7914 - accuracy: 0.7716 - val_loss: 0.8667 - val_accuracy: 0.7488\n",
            "Epoch 99/100\n",
            "31/31 [==============================] - 5s 163ms/step - loss: 0.7746 - accuracy: 0.7726 - val_loss: 0.8906 - val_accuracy: 0.7256\n",
            "Epoch 100/100\n",
            "31/31 [==============================] - 6s 165ms/step - loss: 0.7589 - accuracy: 0.7796 - val_loss: 0.9010 - val_accuracy: 0.7488\n"
          ]
        }
      ],
      "source": [
        "history = model.fit(\n",
        "                x=train_dataset_scaled,\n",
        "                epochs=model_params[MODEL_NAME].get('epochs', 10),\n",
        "                batch_size=model_params[MODEL_NAME].get('batch_size', 128),\n",
        "                validation_data=validation_dataset_scaled,\n",
        "                shuffle=True\n",
        ")"
      ]
    },
    {
      "cell_type": "code",
      "execution_count": null,
      "id": "821d23bf",
      "metadata": {
        "id": "821d23bf"
      },
      "outputs": [],
      "source": [
        "### Usage of the `callbacks()` method\n",
        "# See: https://www.tensorflow.org/api_docs/python/tf/keras/callbacks/History\n",
        "# See: https://www.tensorflow.org/api_docs/python/tf/keras/callbacks/ModelCheckpoint"
      ]
    },
    {
      "cell_type": "code",
      "execution_count": 158,
      "id": "f0af6ac8",
      "metadata": {
        "colab": {
          "base_uri": "https://localhost:8080/"
        },
        "id": "f0af6ac8",
        "outputId": "4cb6e070-9e4e-4126-e68d-9d2272212b1f"
      },
      "outputs": [
        {
          "output_type": "execute_result",
          "data": {
            "text/plain": [
              "keras.callbacks.History"
            ]
          },
          "metadata": {},
          "execution_count": 158
        }
      ],
      "source": [
        "type(history)"
      ]
    },
    {
      "cell_type": "markdown",
      "id": "5827b5f0",
      "metadata": {
        "id": "5827b5f0"
      },
      "source": [
        "##### Visualising the results"
      ]
    },
    {
      "cell_type": "code",
      "execution_count": null,
      "id": "2fe4a1ce",
      "metadata": {
        "id": "2fe4a1ce"
      },
      "outputs": [],
      "source": [
        "### From Udacity's `utils.py`"
      ]
    },
    {
      "cell_type": "code",
      "execution_count": 159,
      "id": "bf0563b2",
      "metadata": {
        "id": "bf0563b2"
      },
      "outputs": [],
      "source": [
        "def display_metrics(history: tf.keras.callbacks.History):\n",
        "    \"\"\"Plots the per-epoch loss and accuracy metrics.\n",
        "    \n",
        "    :param history: the Keras `callbacks.History` object.\n",
        "    \"\"\"\n",
        "    \n",
        "    f, ax = plt.subplots(1, 2, figsize=(15, 5))\n",
        "    ax[0].plot(history.history['loss'], linewidth=3)\n",
        "    ax[0].plot(history.history['val_loss'], linewidth=3)\n",
        "    ax[0].set_title('Loss', fontsize=16)\n",
        "    ax[0].set_ylabel('Loss', fontsize=16)\n",
        "    ax[0].set_xlabel('Epoch', fontsize=16)\n",
        "    ax[0].legend(['train loss', 'val loss'], loc='upper right')\n",
        "    ax[1].plot(history.history['accuracy'], linewidth=3)\n",
        "    ax[1].plot(history.history['val_accuracy'], linewidth=3)\n",
        "    ax[1].set_title('Accuracy', fontsize=16)\n",
        "    ax[1].set_ylabel('Accuracy', fontsize=16)\n",
        "    ax[1].set_xlabel('Epoch', fontsize=16)\n",
        "    ax[1].legend(['train acc', 'val acc'], loc='upper left')\n",
        "    plt.show()"
      ]
    },
    {
      "cell_type": "code",
      "execution_count": null,
      "id": "b974d2d8",
      "metadata": {
        "id": "b974d2d8"
      },
      "outputs": [],
      "source": [
        "### From Udacity's `training.py`"
      ]
    },
    {
      "cell_type": "code",
      "execution_count": 160,
      "id": "72c43183",
      "metadata": {
        "colab": {
          "base_uri": "https://localhost:8080/",
          "height": 357
        },
        "id": "72c43183",
        "outputId": "2454bd5e-3219-435d-e7b3-0d636200a987"
      },
      "outputs": [
        {
          "output_type": "display_data",
          "data": {
            "text/plain": [
              "<Figure size 1080x360 with 2 Axes>"
            ],
            "image/png": "[encoded data removed]"
          },
          "metadata": {
            "needs_background": "light"
          }
        }
      ],
      "source": [
        "display_metrics(history)"
      ]
    },
    {
      "cell_type": "markdown",
      "id": "e51d9ee4",
      "metadata": {
        "id": "e51d9ee4"
      },
      "source": [
        "#### Evaluating the custom CNN"
      ]
    },
    {
      "cell_type": "code",
      "execution_count": null,
      "id": "14b4e9d9",
      "metadata": {
        "id": "14b4e9d9"
      },
      "outputs": [],
      "source": [
        "MODEL_NAME = 'Custom_CNN'"
      ]
    },
    {
      "cell_type": "markdown",
      "id": "0f51c4e7",
      "metadata": {
        "id": "0f51c4e7"
      },
      "source": [
        "##### Initialising the model"
      ]
    },
    {
      "cell_type": "markdown",
      "id": "3378adb6",
      "metadata": {
        "id": "3378adb6"
      },
      "source": [
        "##### Performing the training and validation loops"
      ]
    },
    {
      "cell_type": "markdown",
      "id": "ef86fe85",
      "metadata": {
        "id": "ef86fe85"
      },
      "source": [
        "##### Visualising the results"
      ]
    },
    {
      "cell_type": "markdown",
      "id": "670e9ca6",
      "metadata": {
        "id": "670e9ca6"
      },
      "source": [
        "## Tips"
      ]
    },
    {
      "cell_type": "markdown",
      "id": "98919fe9",
      "metadata": {
        "id": "98919fe9"
      },
      "source": [
        "A good starting point for small networks is LeNet5. You will find many existing implementations online."
      ]
    },
    {
      "cell_type": "markdown",
      "id": "2e761b03",
      "metadata": {
        "id": "2e761b03"
      },
      "source": [
        "Don't forget the basic structure of a convnet: convolutional layer, activation and pooling."
      ]
    },
    {
      "cell_type": "markdown",
      "id": "22401022",
      "metadata": {
        "id": "22401022"
      },
      "source": [
        "You can use the [`summary`](https://www.tensorflow.org/api_docs/python/tf/keras/Model#summary) method of the Keras model API to print the description of your model."
      ]
    },
    {
      "cell_type": "markdown",
      "id": "7b20331c",
      "metadata": {
        "id": "7b20331c"
      },
      "source": [
        "## Credits"
      ]
    },
    {
      "cell_type": "markdown",
      "id": "e86af3fb",
      "metadata": {
        "id": "e86af3fb"
      },
      "source": [
        "This assignment was prepared by Thomas Hossler et al., Winter 2021 (link [here](https://www.udacity.com/course/self-driving-car-engineer-nanodegree--nd0013)).\n",
        "\n",
        "\n",
        "References\n",
        "\n",
        "[1] Yu, F. Vladlen, K. Multi-Scale Context Aggregation by Dialated Convolutions. ArXiv. 2015. [doi:10.48550/ARXIV.1511.07122](https://arxiv.org/abs/1511.07122).\n",
        "\n",
        "[2] LeCun, Y. et al. \"Gradient-based learning applied to document recognition.\" Proceedings of the IEEE, 86(11):2278-2324, 1998. [doi:10.1109/5.726791](https://ieeexplore.ieee.org/document/726791).\n",
        "\n",
        "\n",
        "[3] Glorot, X. et al. Deep Sparse Rectifier Neural Networks. Proceedings of the Fourteenth International Conference on Artificial Intelligence and Statistics, PMLR 15:315-323, 2011. [https://proceedings.mlr.press/v15/glorot11a.html](https://proceedings.mlr.press/v15/glorot11a/glorot11a.pdf).\n",
        "\n",
        "\n",
        "Helpful resources:\n",
        "* [Convolutional Neural Network: An Overview by S. Shah | Analytics Vidhya](https://www.analyticsvidhya.com/blog/2022/01/convolutional-neural-network-an-overview/)\n",
        "* [Understanding the receptive field of deep convolutional networks by N. Adaloglou | AI Summer](https://theaisummer.com/receptive-field/)\n",
        "* [The Dying ReLU Problem, Clearly Explained by K. Leung | Towards Data Science](https://towardsdatascience.com/the-dying-relu-problem-clearly-explained-42d0c54e0d24)\n",
        "* [What is the dying ReLU problem? by S. Azhar | Educative.io](https://www.educative.io/answers/what-is-the-dying-relu-problem)"
      ]
    }
  ],
  "metadata": {
    "kernelspec": {
      "display_name": "Python 3",
      "language": "python",
      "name": "python3"
    },
    "language_info": {
      "codemirror_mode": {
        "name": "ipython",
        "version": 3
      },
      "file_extension": ".py",
      "mimetype": "text/x-python",
      "name": "python",
      "nbconvert_exporter": "python",
      "pygments_lexer": "ipython3",
      "version": "3.8.13"
    },
    "toc": {
      "base_numbering": 1,
      "nav_menu": {},
      "number_sections": false,
      "sideBar": true,
      "skip_h1_title": false,
      "title_cell": "Table of Contents",
      "title_sidebar": "Contents",
      "toc_cell": false,
      "toc_position": {},
      "toc_section_display": true,
      "toc_window_display": true
    },
    "colab": {
      "provenance": [],
      "collapsed_sections": [
        "f0bedd6f",
        "384c8474",
        "205af274",
        "18604c48",
        "34eca184",
        "41fe458d",
        "25615960",
        "e51d9ee4"
      ]
    },
    "accelerator": "GPU",
    "widgets": {
      "application/vnd.jupyter.widget-state+json": {
        "a93fd23698b34ba98740725e2fb803df": {
          "model_module": "@jupyter-widgets/controls",
          "model_name": "HBoxModel",
          "model_module_version": "1.5.0",
          "state": {
            "_dom_classes": [],
            "_model_module": "@jupyter-widgets/controls",
            "_model_module_version": "1.5.0",
            "_model_name": "HBoxModel",
            "_view_count": null,
            "_view_module": "@jupyter-widgets/controls",
            "_view_module_version": "1.5.0",
            "_view_name": "HBoxView",
            "box_style": "",
            "children": [
              "IPY_MODEL_d095fd1cda654834a6dfff126d92e554",
              "IPY_MODEL_66313e2ad05c425599ec481b132048b2",
              "IPY_MODEL_4108dc53d0194af2a8fa4f670d17662c"
            ],
            "layout": "IPY_MODEL_9d41cf71884b4205aab8afef59ccd4f7"
          }
        },
        "d095fd1cda654834a6dfff126d92e554": {
          "model_module": "@jupyter-widgets/controls",
          "model_name": "HTMLModel",
          "model_module_version": "1.5.0",
          "state": {
            "_dom_classes": [],
            "_model_module": "@jupyter-widgets/controls",
            "_model_module_version": "1.5.0",
            "_model_name": "HTMLModel",
            "_view_count": null,
            "_view_module": "@jupyter-widgets/controls",
            "_view_module_version": "1.5.0",
            "_view_name": "HTMLView",
            "description": "",
            "description_tooltip": null,
            "layout": "IPY_MODEL_d2279450772b47d9bc7e3cc5ea2ebbb5",
            "placeholder": "​",
            "style": "IPY_MODEL_f3e3ea05dfad4578bb8f45c33fccca20",
            "value": "Dl Completed...: 100%"
          }
        },
        "66313e2ad05c425599ec481b132048b2": {
          "model_module": "@jupyter-widgets/controls",
          "model_name": "FloatProgressModel",
          "model_module_version": "1.5.0",
          "state": {
            "_dom_classes": [],
            "_model_module": "@jupyter-widgets/controls",
            "_model_module_version": "1.5.0",
            "_model_name": "FloatProgressModel",
            "_view_count": null,
            "_view_module": "@jupyter-widgets/controls",
            "_view_module_version": "1.5.0",
            "_view_name": "ProgressView",
            "bar_style": "success",
            "description": "",
            "description_tooltip": null,
            "layout": "IPY_MODEL_fac162b490074a0d8095207479d7f119",
            "max": 4,
            "min": 0,
            "orientation": "horizontal",
            "style": "IPY_MODEL_d9ddc266a7124f3e9957c3e4f0e8848c",
            "value": 4
          }
        },
        "4108dc53d0194af2a8fa4f670d17662c": {
          "model_module": "@jupyter-widgets/controls",
          "model_name": "HTMLModel",
          "model_module_version": "1.5.0",
          "state": {
            "_dom_classes": [],
            "_model_module": "@jupyter-widgets/controls",
            "_model_module_version": "1.5.0",
            "_model_name": "HTMLModel",
            "_view_count": null,
            "_view_module": "@jupyter-widgets/controls",
            "_view_module_version": "1.5.0",
            "_view_name": "HTMLView",
            "description": "",
            "description_tooltip": null,
            "layout": "IPY_MODEL_42b1bf702eea4f2aab12d18800bed515",
            "placeholder": "​",
            "style": "IPY_MODEL_088c7b2aa6484285af2d5324a7264172",
            "value": " 4/4 [00:01&lt;00:00,  1.88 file/s]"
          }
        },
        "9d41cf71884b4205aab8afef59ccd4f7": {
          "model_module": "@jupyter-widgets/base",
          "model_name": "LayoutModel",
          "model_module_version": "1.2.0",
          "state": {
            "_model_module": "@jupyter-widgets/base",
            "_model_module_version": "1.2.0",
            "_model_name": "LayoutModel",
            "_view_count": null,
            "_view_module": "@jupyter-widgets/base",
            "_view_module_version": "1.2.0",
            "_view_name": "LayoutView",
            "align_content": null,
            "align_items": null,
            "align_self": null,
            "border": null,
            "bottom": null,
            "display": null,
            "flex": null,
            "flex_flow": null,
            "grid_area": null,
            "grid_auto_columns": null,
            "grid_auto_flow": null,
            "grid_auto_rows": null,
            "grid_column": null,
            "grid_gap": null,
            "grid_row": null,
            "grid_template_areas": null,
            "grid_template_columns": null,
            "grid_template_rows": null,
            "height": null,
            "justify_content": null,
            "justify_items": null,
            "left": null,
            "margin": null,
            "max_height": null,
            "max_width": null,
            "min_height": null,
            "min_width": null,
            "object_fit": null,
            "object_position": null,
            "order": null,
            "overflow": null,
            "overflow_x": null,
            "overflow_y": null,
            "padding": null,
            "right": null,
            "top": null,
            "visibility": null,
            "width": null
          }
        },
        "d2279450772b47d9bc7e3cc5ea2ebbb5": {
          "model_module": "@jupyter-widgets/base",
          "model_name": "LayoutModel",
          "model_module_version": "1.2.0",
          "state": {
            "_model_module": "@jupyter-widgets/base",
            "_model_module_version": "1.2.0",
            "_model_name": "LayoutModel",
            "_view_count": null,
            "_view_module": "@jupyter-widgets/base",
            "_view_module_version": "1.2.0",
            "_view_name": "LayoutView",
            "align_content": null,
            "align_items": null,
            "align_self": null,
            "border": null,
            "bottom": null,
            "display": null,
            "flex": null,
            "flex_flow": null,
            "grid_area": null,
            "grid_auto_columns": null,
            "grid_auto_flow": null,
            "grid_auto_rows": null,
            "grid_column": null,
            "grid_gap": null,
            "grid_row": null,
            "grid_template_areas": null,
            "grid_template_columns": null,
            "grid_template_rows": null,
            "height": null,
            "justify_content": null,
            "justify_items": null,
            "left": null,
            "margin": null,
            "max_height": null,
            "max_width": null,
            "min_height": null,
            "min_width": null,
            "object_fit": null,
            "object_position": null,
            "order": null,
            "overflow": null,
            "overflow_x": null,
            "overflow_y": null,
            "padding": null,
            "right": null,
            "top": null,
            "visibility": null,
            "width": null
          }
        },
        "f3e3ea05dfad4578bb8f45c33fccca20": {
          "model_module": "@jupyter-widgets/controls",
          "model_name": "DescriptionStyleModel",
          "model_module_version": "1.5.0",
          "state": {
            "_model_module": "@jupyter-widgets/controls",
            "_model_module_version": "1.5.0",
            "_model_name": "DescriptionStyleModel",
            "_view_count": null,
            "_view_module": "@jupyter-widgets/base",
            "_view_module_version": "1.2.0",
            "_view_name": "StyleView",
            "description_width": ""
          }
        },
        "fac162b490074a0d8095207479d7f119": {
          "model_module": "@jupyter-widgets/base",
          "model_name": "LayoutModel",
          "model_module_version": "1.2.0",
          "state": {
            "_model_module": "@jupyter-widgets/base",
            "_model_module_version": "1.2.0",
            "_model_name": "LayoutModel",
            "_view_count": null,
            "_view_module": "@jupyter-widgets/base",
            "_view_module_version": "1.2.0",
            "_view_name": "LayoutView",
            "align_content": null,
            "align_items": null,
            "align_self": null,
            "border": null,
            "bottom": null,
            "display": null,
            "flex": null,
            "flex_flow": null,
            "grid_area": null,
            "grid_auto_columns": null,
            "grid_auto_flow": null,
            "grid_auto_rows": null,
            "grid_column": null,
            "grid_gap": null,
            "grid_row": null,
            "grid_template_areas": null,
            "grid_template_columns": null,
            "grid_template_rows": null,
            "height": null,
            "justify_content": null,
            "justify_items": null,
            "left": null,
            "margin": null,
            "max_height": null,
            "max_width": null,
            "min_height": null,
            "min_width": null,
            "object_fit": null,
            "object_position": null,
            "order": null,
            "overflow": null,
            "overflow_x": null,
            "overflow_y": null,
            "padding": null,
            "right": null,
            "top": null,
            "visibility": null,
            "width": null
          }
        },
        "d9ddc266a7124f3e9957c3e4f0e8848c": {
          "model_module": "@jupyter-widgets/controls",
          "model_name": "ProgressStyleModel",
          "model_module_version": "1.5.0",
          "state": {
            "_model_module": "@jupyter-widgets/controls",
            "_model_module_version": "1.5.0",
            "_model_name": "ProgressStyleModel",
            "_view_count": null,
            "_view_module": "@jupyter-widgets/base",
            "_view_module_version": "1.2.0",
            "_view_name": "StyleView",
            "bar_color": null,
            "description_width": ""
          }
        },
        "42b1bf702eea4f2aab12d18800bed515": {
          "model_module": "@jupyter-widgets/base",
          "model_name": "LayoutModel",
          "model_module_version": "1.2.0",
          "state": {
            "_model_module": "@jupyter-widgets/base",
            "_model_module_version": "1.2.0",
            "_model_name": "LayoutModel",
            "_view_count": null,
            "_view_module": "@jupyter-widgets/base",
            "_view_module_version": "1.2.0",
            "_view_name": "LayoutView",
            "align_content": null,
            "align_items": null,
            "align_self": null,
            "border": null,
            "bottom": null,
            "display": null,
            "flex": null,
            "flex_flow": null,
            "grid_area": null,
            "grid_auto_columns": null,
            "grid_auto_flow": null,
            "grid_auto_rows": null,
            "grid_column": null,
            "grid_gap": null,
            "grid_row": null,
            "grid_template_areas": null,
            "grid_template_columns": null,
            "grid_template_rows": null,
            "height": null,
            "justify_content": null,
            "justify_items": null,
            "left": null,
            "margin": null,
            "max_height": null,
            "max_width": null,
            "min_height": null,
            "min_width": null,
            "object_fit": null,
            "object_position": null,
            "order": null,
            "overflow": null,
            "overflow_x": null,
            "overflow_y": null,
            "padding": null,
            "right": null,
            "top": null,
            "visibility": null,
            "width": null
          }
        },
        "088c7b2aa6484285af2d5324a7264172": {
          "model_module": "@jupyter-widgets/controls",
          "model_name": "DescriptionStyleModel",
          "model_module_version": "1.5.0",
          "state": {
            "_model_module": "@jupyter-widgets/controls",
            "_model_module_version": "1.5.0",
            "_model_name": "DescriptionStyleModel",
            "_view_count": null,
            "_view_module": "@jupyter-widgets/base",
            "_view_module_version": "1.2.0",
            "_view_name": "StyleView",
            "description_width": ""
          }
        }
      }
    }
  },
  "nbformat": 4,
  "nbformat_minor": 5
}