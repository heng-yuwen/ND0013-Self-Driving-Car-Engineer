{
 "cells": [
  {
   "cell_type": "markdown",
   "id": "0fd167f3",
   "metadata": {},
   "source": [
    "# Exercise 3 - Augmentations"
   ]
  },
  {
   "cell_type": "code",
   "execution_count": null,
   "id": "ef614479",
   "metadata": {},
   "outputs": [],
   "source": [
    "import argparse\n",
    "from functools import partial\n",
    "\n",
    "import albumentations as A\n",
    "import matplotlib.pyplot as plt\n",
    "import numpy as np\n",
    "import tensorflow as tf\n",
    "from tensorflow.keras.preprocessing import image_dataset_from_directory"
   ]
  },
  {
   "cell_type": "markdown",
   "id": "e14ebad8",
   "metadata": {},
   "source": [
    "## Objective"
   ]
  },
  {
   "cell_type": "markdown",
   "id": "e3173b11",
   "metadata": {},
   "source": [
    "In this exercise, you will experiment with the [Albumentations](https://albumentations.ai/docs/) library to perform different data augmentations. "
   ]
  },
  {
   "cell_type": "markdown",
   "id": "6c9fb5c7",
   "metadata": {},
   "source": [
    "## Details"
   ]
  },
  {
   "cell_type": "markdown",
   "id": "9b752445",
   "metadata": {},
   "source": [
    "Write down a list of relevant augmentations and store them in the `transforms` variable."
   ]
  },
  {
   "cell_type": "code",
   "execution_count": null,
   "id": "7106800d",
   "metadata": {},
   "outputs": [],
   "source": [
    "# SELECT RELEVANT AUGMENTATIONS\n",
    "transforms = None"
   ]
  },
  {
   "cell_type": "markdown",
   "id": "1dd59d59",
   "metadata": {},
   "source": [
    "You should also implement a quick script to visualize the batches and check your augmentations."
   ]
  },
  {
   "cell_type": "code",
   "execution_count": null,
   "id": "6f9af721",
   "metadata": {},
   "outputs": [],
   "source": [
    "### From Udacity's `utils.py`"
   ]
  },
  {
   "cell_type": "code",
   "execution_count": null,
   "id": "522a4469",
   "metadata": {},
   "outputs": [],
   "source": [
    "def plot_batch(batch):\n",
    "    indices = np.random.choice(range(256), replace=False, size=10)\n",
    "    f, ax = plt.subplots(2, 5, figsize=(15, 5))\n",
    "    for i, idx in enumerate(indices):\n",
    "        x = i // 5\n",
    "        y = i % 5\n",
    "        im = batch[idx, ...]\n",
    "        im *= 255\n",
    "        im = im.astype(np.uint8)\n",
    "        ax[x, y].imshow(im)\n",
    "    plt.tight_layout\n",
    "    plt.show()"
   ]
  },
  {
   "cell_type": "code",
   "execution_count": null,
   "id": "bc690c80",
   "metadata": {},
   "outputs": [],
   "source": [
    "### From Udacity's `augmentations.py`"
   ]
  },
  {
   "cell_type": "code",
   "execution_count": null,
   "id": "9644c7ee",
   "metadata": {},
   "outputs": [],
   "source": [
    "def aug_fn(image):\n",
    "    \"\"\" augment an image \"\"\"\n",
    "    aug_data = transforms(image=image.squeeze())\n",
    "    aug_img = aug_data[\"image\"]\n",
    "    aug_img = tf.cast(aug_img/255.0, tf.float32)\n",
    "    return aug_img"
   ]
  },
  {
   "cell_type": "code",
   "execution_count": null,
   "id": "8adf3f05",
   "metadata": {},
   "outputs": [],
   "source": [
    "def process_data(image, label):\n",
    "    \"\"\" wrapper function to apply augmentation \"\"\"\n",
    "    aug_img = tf.numpy_function(func=aug_fn, inp=[image], Tout=tf.float32)\n",
    "    return aug_img, label"
   ]
  },
  {
   "cell_type": "markdown",
   "id": "2a0bb4ff",
   "metadata": {},
   "source": [
    "You can run `python augmentations.py` to display augmented images (in the Desktop window)."
   ]
  },
  {
   "cell_type": "code",
   "execution_count": null,
   "id": "1113b69e",
   "metadata": {},
   "outputs": [],
   "source": [
    "### From Udacity's `augmentations.py`"
   ]
  },
  {
   "cell_type": "code",
   "execution_count": null,
   "id": "710e966f",
   "metadata": {},
   "outputs": [],
   "source": [
    "parser = argparse.ArgumentParser(description='Augment dataset')\n",
    "parser.add_argument('-d', '--imdir', required=True, type=str,\n",
    "                    help='data directory')\n",
    "args = parser.parse_args()    \n",
    "\n",
    "dataset = image_dataset_from_directory(args.imdir, \n",
    "                                       image_size=(32, 32),\n",
    "                                       validation_split=0.1,\n",
    "                                       subset='training',\n",
    "                                       seed=123,\n",
    "                                       batch_size=1)\n",
    "\n",
    "# APPLY AUGMENTATIONS AND DISPLAY BATCHES"
   ]
  },
  {
   "cell_type": "markdown",
   "id": "3d16d9a8",
   "metadata": {},
   "source": [
    "## Tips"
   ]
  },
  {
   "cell_type": "markdown",
   "id": "de6113a8",
   "metadata": {},
   "source": [
    "You should use the `Compose` API to use multiple augmentations. You can find an example of an augmentation pipeline using `Compose` [here](https://albumentations.ai/docs/examples/example/#define-an-augmentation-pipeline-using-compose-pass-the-image-to-it-and-receive-the-augmented-image)."
   ]
  },
  {
   "cell_type": "markdown",
   "id": "4affc618",
   "metadata": {},
   "source": [
    "This [Github repository](https://github.com/albumentations-team/albumentations_examples) contains different examples of augmentations."
   ]
  }
 ],
 "metadata": {
  "kernelspec": {
   "display_name": "Python 3",
   "language": "python",
   "name": "python3"
  },
  "language_info": {
   "codemirror_mode": {
    "name": "ipython",
    "version": 3
   },
   "file_extension": ".py",
   "mimetype": "text/x-python",
   "name": "python",
   "nbconvert_exporter": "python",
   "pygments_lexer": "ipython3",
   "version": "3.8.13"
  },
  "toc": {
   "base_numbering": 1,
   "nav_menu": {},
   "number_sections": true,
   "sideBar": true,
   "skip_h1_title": false,
   "title_cell": "Table of Contents",
   "title_sidebar": "Contents",
   "toc_cell": false,
   "toc_position": {},
   "toc_section_display": true,
   "toc_window_display": false
  }
 },
 "nbformat": 4,
 "nbformat_minor": 5
}
