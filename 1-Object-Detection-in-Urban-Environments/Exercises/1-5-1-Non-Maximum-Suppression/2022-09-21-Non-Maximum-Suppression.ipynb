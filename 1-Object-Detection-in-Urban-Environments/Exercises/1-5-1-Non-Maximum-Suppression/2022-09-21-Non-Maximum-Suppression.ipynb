{
 "cells": [
  {
   "cell_type": "markdown",
   "id": "c1e84f98",
   "metadata": {},
   "source": [
    "# Exercise 1 - NMS"
   ]
  },
  {
   "cell_type": "markdown",
   "id": "5e0be6f8",
   "metadata": {},
   "source": [
    "## Objectives"
   ]
  },
  {
   "cell_type": "markdown",
   "id": "c8a42b72",
   "metadata": {},
   "source": [
    "In this exercise, you have to implement the Non-Max Suppression algorithm."
   ]
  },
  {
   "cell_type": "code",
   "execution_count": null,
   "id": "b0b949b2",
   "metadata": {},
   "outputs": [],
   "source": [
    "import json\n",
    "import numpy as np"
   ]
  },
  {
   "cell_type": "markdown",
   "id": "3f0c5907",
   "metadata": {},
   "source": [
    "## Details"
   ]
  },
  {
   "cell_type": "markdown",
   "id": "32d7cf41",
   "metadata": {},
   "source": [
    "You are given a json file containing a list of predictions, containing `boxes` and `scores`."
   ]
  },
  {
   "cell_type": "markdown",
   "id": "811c74ef",
   "metadata": {},
   "source": [
    "You will leverage the `calculate_iou` function to calculate the Intersection Over Union (IoU) of these different predictions and implement the NMS algorithm."
   ]
  },
  {
   "cell_type": "code",
   "execution_count": null,
   "id": "dc17238a",
   "metadata": {},
   "outputs": [],
   "source": [
    "### From Udacity's `utils.py`"
   ]
  },
  {
   "cell_type": "code",
   "execution_count": null,
   "id": "187ffa31",
   "metadata": {},
   "outputs": [],
   "source": [
    "def calculate_iou(gt_bbox, pred_bbox):\n",
    "    \"\"\"\n",
    "    calculate iou \n",
    "    args:\n",
    "    - gt_bbox [array]: 1x4 single gt bbox\n",
    "    - pred_bbox [array]: 1x4 single pred bbox\n",
    "    returns:\n",
    "    - iou [float]: iou between 2 bboxes\n",
    "    \"\"\"\n",
    "    xmin = np.max([gt_bbox[0], pred_bbox[0]])\n",
    "    ymin = np.max([gt_bbox[1], pred_bbox[1]])\n",
    "    xmax = np.min([gt_bbox[2], pred_bbox[2]])\n",
    "    ymax = np.min([gt_bbox[3], pred_bbox[3]])\n",
    "    \n",
    "    intersection = max(0, xmax - xmin) * max(0, ymax - ymin)\n",
    "    gt_area = (gt_bbox[2] - gt_bbox[0]) * (gt_bbox[3] - gt_bbox[1])\n",
    "    pred_area = (pred_bbox[2] - pred_bbox[0]) * (pred_bbox[3] - pred_bbox[1])\n",
    "    \n",
    "    union = gt_area + pred_area - intersection\n",
    "    return intersection / union"
   ]
  },
  {
   "cell_type": "markdown",
   "id": "7278277f",
   "metadata": {},
   "source": [
    "To do so, you will need to:\n",
    "* compare each bounding box with all the other bounding boxes in the set\n",
    "* for each pair of bounding boxes, calculate the IoU and compare the scores\n",
    "* if the IoU is above the threshold, keep the box with the highest score"
   ]
  },
  {
   "cell_type": "code",
   "execution_count": null,
   "id": "5379e025",
   "metadata": {},
   "outputs": [],
   "source": [
    "### From Udacity's `nms.py`"
   ]
  },
  {
   "cell_type": "code",
   "execution_count": null,
   "id": "aa5cf7e4",
   "metadata": {},
   "outputs": [],
   "source": [
    "def nms(predictions):\n",
    "    \"\"\"\n",
    "    non max suppression\n",
    "    args:\n",
    "    - predictions [dict]: predictions dict \n",
    "    returns:\n",
    "    - filtered [list]: filtered bboxes and scores\n",
    "    \"\"\"\n",
    "    filtered = []\n",
    "    # IMPLEMENT THIS FUNCTION\n",
    "    return filtered"
   ]
  },
  {
   "cell_type": "markdown",
   "id": "455225fa",
   "metadata": {},
   "source": [
    "You can run `python nms.py` to check your implementation."
   ]
  },
  {
   "cell_type": "code",
   "execution_count": null,
   "id": "166fcad0",
   "metadata": {},
   "outputs": [],
   "source": [
    "### From Udacity's `nms.py`"
   ]
  },
  {
   "cell_type": "code",
   "execution_count": null,
   "id": "19143342",
   "metadata": {},
   "outputs": [],
   "source": [
    "with open('data/predictions_nms.json', 'r') as f:\n",
    "    predictions = json.load(f)"
   ]
  },
  {
   "cell_type": "code",
   "execution_count": null,
   "id": "5b5eba54",
   "metadata": {},
   "outputs": [],
   "source": [
    "filtered = nms(predictions)"
   ]
  },
  {
   "cell_type": "code",
   "execution_count": null,
   "id": "2c0117f6",
   "metadata": {},
   "outputs": [],
   "source": [
    "### From Udacity's `utils.py`"
   ]
  },
  {
   "cell_type": "code",
   "execution_count": null,
   "id": "8350a57f",
   "metadata": {},
   "outputs": [],
   "source": [
    "def check_results(output):\n",
    "    truth = np.load('data/nms.npy', allow_pickle=True)\n",
    "    assert np.array_equal(truth, np.array(output, dtype=\"object\")), 'The NMS implementation is wrong'\n",
    "    print('The NMS implementation is correct!')"
   ]
  },
  {
   "cell_type": "code",
   "execution_count": null,
   "id": "516e7d91",
   "metadata": {},
   "outputs": [],
   "source": [
    "check_results(filtered)"
   ]
  },
  {
   "cell_type": "markdown",
   "id": "f12b13e6",
   "metadata": {},
   "source": [
    "## Tips"
   ]
  },
  {
   "cell_type": "markdown",
   "id": "09357029",
   "metadata": {},
   "source": [
    "You should also think of the modifications to make to implement Soft NMS."
   ]
  }
 ],
 "metadata": {
  "kernelspec": {
   "display_name": "Python 3",
   "language": "python",
   "name": "python3"
  },
  "language_info": {
   "codemirror_mode": {
    "name": "ipython",
    "version": 3
   },
   "file_extension": ".py",
   "mimetype": "text/x-python",
   "name": "python",
   "nbconvert_exporter": "python",
   "pygments_lexer": "ipython3",
   "version": "3.8.13"
  },
  "toc": {
   "base_numbering": 1,
   "nav_menu": {},
   "number_sections": true,
   "sideBar": true,
   "skip_h1_title": false,
   "title_cell": "Table of Contents",
   "title_sidebar": "Contents",
   "toc_cell": false,
   "toc_position": {},
   "toc_section_display": true,
   "toc_window_display": false
  }
 },
 "nbformat": 4,
 "nbformat_minor": 5
}
