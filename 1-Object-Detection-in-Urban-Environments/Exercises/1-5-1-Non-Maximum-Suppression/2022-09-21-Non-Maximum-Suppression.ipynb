{
 "cells": [
  {
   "cell_type": "markdown",
   "id": "c1e84f98",
   "metadata": {},
   "source": [
    "# Exercise 1.5.1 - Non-Maximum Suppression\n",
    "#### By Jonathan L. Moran (jonathan.moran107@gmail.com)\n",
    "From the Self-Driving Car Engineer Nanodegree programme offered by Udacity."
   ]
  },
  {
   "cell_type": "markdown",
   "id": "5e0be6f8",
   "metadata": {},
   "source": [
    "## Objectives"
   ]
  },
  {
   "cell_type": "markdown",
   "id": "c8a42b72",
   "metadata": {},
   "source": [
    "* Implement the Non-Maximum Suppression ([NMS](https://learnopencv.com/non-maximum-suppression-theory-and-implementation-in-pytorch/)) algorithm;\n",
    "* Use the Intersection over Union ([IoU](https://en.wikipedia.org/wiki/Jaccard_index)) metric with a threshold value of $0.7$; \n",
    "* Apply the NMS algorithm to the provided frame from the [Waymo Open Dataset](https://waymo.com/open/);\n",
    "* (Optional) Use the [Soft-NMS](https://arxiv.org/abs/1704.04503) algorithm to re-score the bounding box predictions."
   ]
  },
  {
   "cell_type": "markdown",
   "id": "349c09c9",
   "metadata": {},
   "source": [
    "## 1. Introduction"
   ]
  },
  {
   "cell_type": "code",
   "execution_count": null,
   "id": "aed0c094",
   "metadata": {},
   "outputs": [],
   "source": [
    "### Importing the required modules"
   ]
  },
  {
   "cell_type": "code",
   "execution_count": null,
   "id": "b0b949b2",
   "metadata": {},
   "outputs": [],
   "source": [
    "import json\n",
    "import numpy as np\n",
    "import os"
   ]
  },
  {
   "cell_type": "code",
   "execution_count": null,
   "id": "41b34082",
   "metadata": {},
   "outputs": [],
   "source": [
    "tf.__version"
   ]
  },
  {
   "cell_type": "code",
   "execution_count": null,
   "id": "25331dd6",
   "metadata": {},
   "outputs": [],
   "source": [
    "tf.test.gpu_device_name()"
   ]
  },
  {
   "cell_type": "code",
   "execution_count": null,
   "id": "3ffae077",
   "metadata": {},
   "outputs": [],
   "source": [
    "### Setting the environment variables"
   ]
  },
  {
   "cell_type": "code",
   "execution_count": null,
   "id": "d8831a68",
   "metadata": {},
   "outputs": [],
   "source": [
    "ENV_COLAB = True                # True if running in Google Colab instance"
   ]
  },
  {
   "cell_type": "code",
   "execution_count": null,
   "id": "43195676",
   "metadata": {},
   "outputs": [],
   "source": [
    "# Root directory\n",
    "DIR_BASE = '' if not ENV_COLAB else '/content/'"
   ]
  },
  {
   "cell_type": "code",
   "execution_count": null,
   "id": "489b59f4",
   "metadata": {},
   "outputs": [],
   "source": [
    "# Subdirectory to save output files\n",
    "DIR_OUT = os.path.join(DIR_BASE, 'out/')\n",
    "# Subdirectory pointing to input data\n",
    "DIR_SRC = os.path.join(DIR_BASE, 'data/')"
   ]
  },
  {
   "cell_type": "code",
   "execution_count": null,
   "id": "8cb00b2c",
   "metadata": {},
   "outputs": [],
   "source": [
    "### Creating subdirectories (if not exists)\n",
    "os.makedirs(DIR_OUT, exist_ok=True)"
   ]
  },
  {
   "cell_type": "markdown",
   "id": "60c516ae",
   "metadata": {},
   "source": [
    "### 1.1. Non-Maximum Suppression"
   ]
  },
  {
   "cell_type": "markdown",
   "id": "8f6bcf76",
   "metadata": {},
   "source": [
    "#### Background\n",
    "* Why is it used?\n",
    "* How is it implemented?\n",
    "* What are the drawbacks?"
   ]
  },
  {
   "cell_type": "markdown",
   "id": "1d104c6b",
   "metadata": {},
   "source": [
    "[Non-maximum suppression](https://paperswithcode.com/method/non-maximum-suppression) (NMS) [1] is a popular technique used in object detection pipelines for handling duplicate or redundant bounding box predictions. Since object detection algorithms tend to produce more than one candidate bounding boxes for a single object, NMS is used to preserve only the _best_ bounding box per object using a overlap score. "
   ]
  },
  {
   "cell_type": "markdown",
   "id": "afd43503",
   "metadata": {},
   "source": [
    "#### History"
   ]
  },
  {
   "cell_type": "markdown",
   "id": "77878352",
   "metadata": {},
   "source": [
    "Traditional object detection algorithms used an _exhaustive search_ method; by iteratively spanning the entire image space, any and all objects could in theory be precisely located. While this sliding window approach was successful in detecting objects at all sorts of unpredictable locations, exhaustive search was an extremely expensive algorithm to run — exploring and eliminating tens of thousands of candidate regions per image was far from efficient. Exhaustive search and other sliding window-based algorithms quickly became a relic and were replaced with more intuitive algorithms for object detection.\n",
    "\n",
    "Modern deep learning detection algorithms use a _region-based_ \"approximation\" algorithm to obtain object locations. Rather than scanning the entire image space iteratively, the image is split into sub-regions and analysed more efficiently using convolutional feature maps to determine whether or not an object is present. The [region-based convolutional neural networks](https://en.wikipedia.org/wiki/Region_Based_Convolutional_Neural_Networks) family, known as R-CNNs, revolutionised object detection and helped speed up efficiency to allow for real-time detection needed in today's applications of self-driving car technology. \n",
    "\n",
    "With these new methods brought a new set of challenges; R-CNN architectures often produced many candidate bounding boxes for each object detected. In order to eliminate the redundant boxes and preserve only one candidate bounding box per object, a new \"post-processing\" step needed to be defined. In 2009, Felzenszwalb et al., created _non-maxima suppression_ (NMS), a scoring metric that combined the [Intersection over Union](https://en.wikipedia.org/wiki/Jaccard_index) (IoU) and the predicted _confidence score_ into a single metric. NMS effectively discarded all but one bounding box for each object, eliminating the redundant bounding box problem."
   ]
  },
  {
   "cell_type": "markdown",
   "id": "4d449f2b",
   "metadata": {},
   "source": [
    "### 1.2. Soft-NMS"
   ]
  },
  {
   "cell_type": "markdown",
   "id": "46a4ee5e",
   "metadata": {},
   "source": [
    "Researchers began to notice that non-maximum suppression wasn't perfect; NMS tended to disregard otherwise valid objects of interest. These objects in particular were _occluded_ (obstructed or \"blocked\" by another object). Such objects have bound to have confidence scores that are lower than the average, thus a fixed threshold wouldn't cut it.\n",
    "\n",
    "Simply decreasing the confidence threshold to account for this could lead to a drop in average precision, increasing the number of _false positives_ (\"other\" bounding boxes belonging to the same object). Consequently, when the overlap threshold is increased, valid bounding boxes can be unintentionally suppressed (discarded), leaving some objects without a corresponding bounding box. This is especially relevant in the driving environment. As in high-density traffic conditions; two separate cars might share a high-degree of overlap. As a result, only one of the two overlapping bounding boxes would be preserved (the one with the greatest confidence threshold). In other words, both cars would be incorrectly assigned to the same bounding box.\n",
    "\n",
    "Soft-NMS by Bodla et al., seeks to address this problem in their cleverly-titled paper \"Improving Object Detection With One Line of Code\" [2]. Rather than suppressing boxes with a high-degree of overlap, we can instead decrease (\"decay\") their classification score. Re-running those candidates through a thresholding function could have one of two effects: those candidates no longer meet the threshold requirement and are therefore dropped, or, they are above the threshold and can therefore be kept. While the separate cars scenario might benefit from this simple case, as both boxes would be preserved, the more trivial case might be that the neighbouring redundant bounding box candidates would be incorrectly kept as well. Because of this likely scenario, Bodla et al. proposed a decay function that decreased the confidence scores linearly proportional to overlap amount. Therefore, candidate boxes that had a very high degree of overlap would experience a larger decay (greater penalty) than neighbouring bounding boxes without as much overlap. To better account for false positives, the Gaussian penalty function was introduced. By applying the update rule in each iteration, boxes with the highest degree of overlap are pruned and the number of false positives reduced at each step."
   ]
  },
  {
   "cell_type": "markdown",
   "id": "4d700de9",
   "metadata": {},
   "source": [
    "## 2. Programming Task"
   ]
  },
  {
   "cell_type": "markdown",
   "id": "3f0c5907",
   "metadata": {},
   "source": [
    "### 2.1. Non-Maximum Suppression"
   ]
  },
  {
   "cell_type": "markdown",
   "id": "32d7cf41",
   "metadata": {},
   "source": [
    "You are given a json file containing a list of predictions, containing `boxes` and `scores`."
   ]
  },
  {
   "cell_type": "markdown",
   "id": "811c74ef",
   "metadata": {},
   "source": [
    "You will leverage the `calculate_iou` function to calculate the Intersection Over Union (IoU) of these different predictions and implement the NMS algorithm."
   ]
  },
  {
   "cell_type": "code",
   "execution_count": null,
   "id": "dc17238a",
   "metadata": {},
   "outputs": [],
   "source": [
    "### From Udacity's `utils.py`"
   ]
  },
  {
   "cell_type": "code",
   "execution_count": null,
   "id": "187ffa31",
   "metadata": {},
   "outputs": [],
   "source": [
    "def calculate_iou(gt_bbox: List[int], pred_bbox: List[int]):\n",
    "    \"\"\"Calculates the IoU score between two bounding boxes.\n",
    "    \n",
    "    :param gt_bbox: the 1x4 ground truth bounding box coordinates.\n",
    "    :param pred_bbox: the 1x4 predicted bounding box coordinates.\n",
    "    :returns: iou, the intersection over union (IoU) score between\n",
    "        the two bounding boxes.\n",
    "    \"\"\"\n",
    "    \n",
    "    xmin = np.max([gt_bbox[0], pred_bbox[0]])\n",
    "    ymin = np.max([gt_bbox[1], pred_bbox[1]])\n",
    "    xmax = np.min([gt_bbox[2], pred_bbox[2]])\n",
    "    ymax = np.min([gt_bbox[3], pred_bbox[3]])\n",
    "    \n",
    "    intersection = max(0, xmax - xmin) * max(0, ymax - ymin)\n",
    "    gt_area = (gt_bbox[2] - gt_bbox[0]) * (gt_bbox[3] - gt_bbox[1])\n",
    "    pred_area = (pred_bbox[2] - pred_bbox[0]) * (pred_bbox[3] - pred_bbox[1])\n",
    "    \n",
    "    union = gt_area + pred_area - intersection\n",
    "    return intersection / union"
   ]
  },
  {
   "cell_type": "markdown",
   "id": "7278277f",
   "metadata": {},
   "source": [
    "To do so, you will need to:\n",
    "* compare each bounding box with all the other bounding boxes in the set\n",
    "* for each pair of bounding boxes, calculate the IoU and compare the scores\n",
    "* if the IoU is above the threshold, keep the box with the highest score"
   ]
  },
  {
   "cell_type": "code",
   "execution_count": null,
   "id": "5379e025",
   "metadata": {},
   "outputs": [],
   "source": [
    "### From Udacity's `nms.py`"
   ]
  },
  {
   "cell_type": "code",
   "execution_count": null,
   "id": "aa5cf7e4",
   "metadata": {},
   "outputs": [],
   "source": [
    "def nms(predictions: dict):\n",
    "    \"\"\"Performs non-maximum suppression as in Felzenszwalb et al., 2008.\n",
    "    \n",
    "    :param predictions: the dict instance containing the ground truth\n",
    "        and predicted bounding box coordinates.\n",
    "    :returns filtered: the list of thresholded bounding boxes and their\n",
    "        computed non-maximum suppression scores.\n",
    "    \"\"\"\n",
    "    filtered = []\n",
    "    # IMPLEMENT THIS FUNCTION\n",
    "    return filtered"
   ]
  },
  {
   "cell_type": "markdown",
   "id": "455225fa",
   "metadata": {},
   "source": [
    "You can run `python nms.py` to check your implementation."
   ]
  },
  {
   "cell_type": "code",
   "execution_count": null,
   "id": "166fcad0",
   "metadata": {},
   "outputs": [],
   "source": [
    "### From Udacity's `nms.py`"
   ]
  },
  {
   "cell_type": "code",
   "execution_count": null,
   "id": "19143342",
   "metadata": {},
   "outputs": [],
   "source": [
    "with open('data/predictions_nms.json', 'r') as f:\n",
    "    predictions = json.load(f)"
   ]
  },
  {
   "cell_type": "code",
   "execution_count": null,
   "id": "5b5eba54",
   "metadata": {},
   "outputs": [],
   "source": [
    "filtered = nms(predictions)"
   ]
  },
  {
   "cell_type": "code",
   "execution_count": null,
   "id": "2c0117f6",
   "metadata": {},
   "outputs": [],
   "source": [
    "### From Udacity's `utils.py`"
   ]
  },
  {
   "cell_type": "code",
   "execution_count": null,
   "id": "8350a57f",
   "metadata": {},
   "outputs": [],
   "source": [
    "def check_results(output):\n",
    "    truth = np.load('data/nms.npy', allow_pickle=True)\n",
    "    assert np.array_equal(truth, np.array(output, dtype=\"object\")), 'The NMS implementation is wrong'\n",
    "    print('The NMS implementation is correct!')"
   ]
  },
  {
   "cell_type": "code",
   "execution_count": null,
   "id": "516e7d91",
   "metadata": {},
   "outputs": [],
   "source": [
    "check_results(filtered)"
   ]
  },
  {
   "cell_type": "markdown",
   "id": "ad77005e",
   "metadata": {},
   "source": [
    "### 2.2. Soft-NMS"
   ]
  },
  {
   "cell_type": "code",
   "execution_count": null,
   "id": "45313b41",
   "metadata": {},
   "outputs": [],
   "source": [
    "def soft_nms(predictions: dict):\n",
    "    \"\"\"Soft-NMS algorithm as in Bodla et al., 2017.\n",
    "    \n",
    "    :param predictions: the dict instance containing the ground truth\n",
    "        and predicted bounding box coordinates.\n",
    "    :returns filtered: the list of thresholded bounding boxes and their\n",
    "        computed Soft-NMS scores.\n",
    "    \"\"\"\n",
    "    \n",
    "    pass"
   ]
  },
  {
   "cell_type": "markdown",
   "id": "83a7cf19",
   "metadata": {},
   "source": [
    "## 3. Closing Remarks"
   ]
  },
  {
   "cell_type": "markdown",
   "id": "40aef795",
   "metadata": {},
   "source": [
    "##### Alternatives\n",
    "* Use the [Soft-NMS](https://arxiv.org/abs/1704.04503) algorithm to handle occluded objects\n",
    "\n",
    "##### Extensions of task\n",
    "* Apply NMS to a object detection pipeline."
   ]
  },
  {
   "cell_type": "markdown",
   "id": "03046d3c",
   "metadata": {},
   "source": [
    "## 4. Future Work"
   ]
  },
  {
   "cell_type": "markdown",
   "id": "b91e255e",
   "metadata": {},
   "source": [
    "- [ ] Compare NMS and Soft-NMS on images with occluded objects;\n",
    "- [ ] Add NMS/Soft-NMS to an object detection pipeline."
   ]
  },
  {
   "cell_type": "markdown",
   "id": "d651ef91",
   "metadata": {},
   "source": [
    "## Credits"
   ]
  },
  {
   "cell_type": "markdown",
   "id": "ea4eaaac",
   "metadata": {},
   "source": [
    "This assignment was prepared by Thomas Hossler et al., Winter 2021 (link [here](https://www.udacity.com/course/self-driving-car-engineer-nanodegree--nd0013)).\n",
    "\n",
    "\n",
    "References\n",
    "\n",
    "[1] Felzenszwalb, P. F., et al. Object Detection with Discriminatively Trained Part-Based Models. IEEE Transactions on Pattern Analysis and Machine Intelligence. 32(9):1627-1645. 2010. [doi:10.1109/TPAMI.2009.167](https://ieeexplore.ieee.org/document/5255236).\n",
    "\n",
    "[2] Bodla, N. et al. Soft-NMS — Improving Object Detection With One Line of Code. arXiv. 2017. [doi:10.48550/ARXIV.1704.04503](https://arxiv.org/abs/1704.04503).\n",
    "\n",
    "\n",
    "\n",
    "Further reading:\n",
    "* Uijlings, J.R.R., et al. Selective Search for Object Recognition. International Journal of Computer Vision, 104:154–171. 2013. [doi:10.1007/s11263-013-0620-5](https://doi.org/10.1007/s11263-013-0620-5).\n",
    "\n",
    "* Ren, S., et al., Faster R-CNN: Towards real-time object detection with region proposal networks. Advances in Neural Information Processing Systems, vol. 28. 2015. [doi:10.48550/ARXIV.1506.01497](https://arxiv.org/abs/1506.01497).\n",
    "\n",
    "\n",
    "\n",
    "Helpful resources:\n",
    "* [Selective Search for Object Recognition by S. Smith | CS231B at Stanford University](http://vision.stanford.edu/teaching/cs231b_spring1415/slides/ssearch_schuyler.pdf)"
   ]
  }
 ],
 "metadata": {
  "kernelspec": {
   "display_name": "Python 3",
   "language": "python",
   "name": "python3"
  },
  "language_info": {
   "codemirror_mode": {
    "name": "ipython",
    "version": 3
   },
   "file_extension": ".py",
   "mimetype": "text/x-python",
   "name": "python",
   "nbconvert_exporter": "python",
   "pygments_lexer": "ipython3",
   "version": "3.8.13"
  },
  "toc": {
   "base_numbering": 1,
   "nav_menu": {},
   "number_sections": false,
   "sideBar": true,
   "skip_h1_title": false,
   "title_cell": "Table of Contents",
   "title_sidebar": "Contents",
   "toc_cell": false,
   "toc_position": {},
   "toc_section_display": true,
   "toc_window_display": true
  }
 },
 "nbformat": 4,
 "nbformat_minor": 5
}
