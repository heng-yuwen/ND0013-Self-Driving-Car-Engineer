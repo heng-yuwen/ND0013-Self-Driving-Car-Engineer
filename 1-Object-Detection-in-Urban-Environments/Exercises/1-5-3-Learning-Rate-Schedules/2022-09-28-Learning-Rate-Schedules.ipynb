{
 "cells": [
  {
   "cell_type": "markdown",
   "id": "f543afb2",
   "metadata": {
    "id": "f543afb2"
   },
   "source": [
    "# Exercise 1.5.3 - Learning Rate Schedules\n",
    "#### By Jonathan L. Moran (jonathan.moran107@gmail.com)\n",
    "From the Self-Driving Car Engineer Nanodegree programme offered at Udacity."
   ]
  },
  {
   "cell_type": "markdown",
   "id": "38d708ba",
   "metadata": {
    "id": "38d708ba"
   },
   "source": [
    "## Objectives"
   ]
  },
  {
   "cell_type": "markdown",
   "id": "7ba57b82",
   "metadata": {
    "id": "7ba57b82"
   },
   "source": [
    "* Implement two [learning rate schedules](https://en.wikipedia.org/wiki/Learning_rate#Learning_rate_schedule): the [exponential decay](https://www.tensorflow.org/api_docs/python/tf/keras/optimizers/schedules/ExponentialDecay) and [step-wise annealing](https://paperswithcode.com/method/step-decay) strategies;\n",
    "* Use the off-the-shelf [`tf.keras.optimizers.schedules`](https://www.tensorflow.org/api_docs/python/tf/keras/optimizers/schedules) and the custom LR schedule [`tf.keras.callbacks.LearningRateScheduler`](https://www.tensorflow.org/api_docs/python/tf/keras/callbacks/LearningRateScheduler) wrapper to implement the above strategies;\n",
    "* Evaluate a lightweight deep neural network (simple [ConvNet](https://en.wikipedia.org/wiki/Convolutional_neural_network)) with the LR schedules on the [GTSRB](https://benchmark.ini.rub.de/gtsrb_dataset.html) dataset."
   ]
  },
  {
   "cell_type": "markdown",
   "id": "7a672b2c",
   "metadata": {
    "id": "7a672b2c"
   },
   "source": [
    "## 1. Introduction"
   ]
  },
  {
   "cell_type": "code",
   "execution_count": 1,
   "id": "38a8956a",
   "metadata": {
    "id": "38a8956a"
   },
   "outputs": [],
   "source": [
    "### Importing the required modules"
   ]
  },
  {
   "cell_type": "code",
   "execution_count": 2,
   "id": "9188d76f",
   "metadata": {
    "id": "9188d76f"
   },
   "outputs": [],
   "source": [
    "from collections import defaultdict\n",
    "import logging\n",
    "import matplotlib.pyplot as plt\n",
    "import matplotlib.ticker as mtick\n",
    "import os\n",
    "import tensorflow as tf\n",
    "from tensorflow.keras.utils import image_dataset_from_directory\n",
    "from typing import Generator, Iterator, List, Tuple"
   ]
  },
  {
   "cell_type": "code",
   "execution_count": 3,
   "id": "b5967488",
   "metadata": {
    "colab": {
     "base_uri": "https://localhost:8080/",
     "height": 36
    },
    "id": "b5967488",
    "outputId": "6eefb0b0-74c4-41a2-d830-c1d4c29833a6"
   },
   "outputs": [
    {
     "data": {
      "application/vnd.google.colaboratory.intrinsic+json": {
       "type": "string"
      },
      "text/plain": [
       "'2.8.2'"
      ]
     },
     "execution_count": 3,
     "metadata": {},
     "output_type": "execute_result"
    }
   ],
   "source": [
    "tf.__version__"
   ]
  },
  {
   "cell_type": "code",
   "execution_count": 4,
   "id": "b1dbdb15",
   "metadata": {
    "colab": {
     "base_uri": "https://localhost:8080/",
     "height": 36
    },
    "id": "b1dbdb15",
    "outputId": "de6768d1-1731-4efe-e6af-6d537e08a440"
   },
   "outputs": [
    {
     "data": {
      "application/vnd.google.colaboratory.intrinsic+json": {
       "type": "string"
      },
      "text/plain": [
       "'/device:GPU:0'"
      ]
     },
     "execution_count": 4,
     "metadata": {},
     "output_type": "execute_result"
    }
   ],
   "source": [
    "tf.test.gpu_device_name()"
   ]
  },
  {
   "cell_type": "code",
   "execution_count": 5,
   "id": "2d82e76e",
   "metadata": {
    "id": "2d82e76e"
   },
   "outputs": [],
   "source": [
    "### Setting the environment variables"
   ]
  },
  {
   "cell_type": "code",
   "execution_count": 6,
   "id": "71cec767",
   "metadata": {
    "id": "71cec767"
   },
   "outputs": [],
   "source": [
    "ENV_COLAB = True                # True if running in Google Colab instance"
   ]
  },
  {
   "cell_type": "code",
   "execution_count": 7,
   "id": "861f22bb",
   "metadata": {
    "id": "861f22bb"
   },
   "outputs": [],
   "source": [
    "# Root directory\n",
    "DIR_BASE = '' if not ENV_COLAB else '/content/'"
   ]
  },
  {
   "cell_type": "code",
   "execution_count": 8,
   "id": "76acee15",
   "metadata": {
    "id": "76acee15"
   },
   "outputs": [],
   "source": [
    "# Subdirectory to save output files\n",
    "DIR_OUT = os.path.join(DIR_BASE, 'out/')\n",
    "# Subdirectory pointing to input data\n",
    "DIR_SRC = os.path.join(DIR_BASE, 'data/')"
   ]
  },
  {
   "cell_type": "code",
   "execution_count": 9,
   "id": "Ub2reoTsdQuY",
   "metadata": {
    "id": "Ub2reoTsdQuY"
   },
   "outputs": [],
   "source": [
    "### Unzipping the GTSRB dataset\n",
    "#!unzip -q /content/GTSRB.zip -d /content/data/"
   ]
  },
  {
   "cell_type": "code",
   "execution_count": 10,
   "id": "7f5214b8",
   "metadata": {
    "id": "7f5214b8"
   },
   "outputs": [],
   "source": [
    "### Creating subdirectories (if not exists)\n",
    "os.makedirs(DIR_OUT, exist_ok=True)"
   ]
  },
  {
   "cell_type": "markdown",
   "id": "5ea67398",
   "metadata": {
    "id": "5ea67398"
   },
   "source": [
    "### 1.1. Learning Rate Schedules"
   ]
  },
  {
   "cell_type": "markdown",
   "id": "3ca2c73a",
   "metadata": {
    "id": "3ca2c73a"
   },
   "source": [
    "In machine learning and statistics, the [learning rate](https://en.wikipedia.org/wiki/Learning_rate) is a tunable hyperparameter in an optimisation algorithm that determines the step size at each iteration while moving towards a minimum of a loss function (credit: Wikipedia). Setting learning rates optimally is often a balancing act between over- and overshooting a global minima. When the learning rate is _too low_, a model might fail to converge as its steps in the direction of a function minima are simply too small. On the other hand, a learning rate that is _too high_ might result in extremely large steps that _overshoot_ the function minima and miss the target entirely. An optimal (fixed) learning rate value should be selected such that the likelihood of overshooting is minimised and that is sufficiently large to perform steepest descent towards convergence.\n",
    "\n",
    "A [learning rate schedule](https://en.wikipedia.org/wiki/Learning_rate#Learning_rate_schedule) helps accomplish this by not only decreasing overshoot but also speeding up the time it could take to reach convergence. LR schedules have two important properties: _decay_ and _momentum_. Decay is a hyperparameter that controls overshooting by decreasing (_annealing_) the learning rate by a fixed factor. Momentum is another hyperparameter that helps us speed up the convergence time. Analogous to a ball rolling down a hill; momentum governs how quickly our learning rate decays. This is extremely useful for making sure that the direction we move in towards steepest descent is indeed towards the global minima and not just towards a local minimum (as a ball with little to no momentum will struggle to 'get over' the shallow [saddle points](https://en.wikipedia.org/wiki/Saddle_point) of the differentiable function."
   ]
  },
  {
   "cell_type": "markdown",
   "id": "d69414eb",
   "metadata": {
    "id": "d69414eb"
   },
   "source": [
    "#### Step-wise Annealing"
   ]
  },
  {
   "cell_type": "markdown",
   "id": "af7af2d1",
   "metadata": {
    "id": "af7af2d1"
   },
   "source": [
    "One of the easiest learning rate schedules to implement is the [step-wise method](https://paperswithcode.com/method/step-decay). With this schedule, the learning rate is decreased by a static factor at evenly-spaced intervals during the training cycle (usually measured in epochs, i.e., full passes over a dataset). The scale factor $\\gamma$ serves as a hyperparameter governing how much to decrease the previous learning rate $\\eta_{i-1}$ by,\n",
    "\n",
    "$$\n",
    "\\begin{align}\n",
    "\\eta_{i} &= \\eta_{i-1} * \\gamma, \n",
    "\\end{align}\n",
    "$$\n",
    "\n",
    "for the updated learning rate value $\\eta_{n}$.\n",
    "\n",
    "Step-wise annealing can also be, well, _step-wise_. As the name implies, the number of current _steps_ $n$ can also be used to scale the initial fixed learning rate value $\\eta_{0}$,\n",
    "\n",
    "$$\n",
    "\\begin{align}\n",
    "\\eta_{i} = \\eta_{0} * d^{\\left\\lfloor\\frac{1 + n}{r}\\right\\rfloor},\n",
    "\\end{align}\n",
    "$$\n",
    "\n",
    "given a static decay factor $d$ (e.g., $d=0.5$ will decay the LR by half) and a drop-rate $r$ (e.g., $r=10$ will drop the LR every 10 iterations)."
   ]
  },
  {
   "cell_type": "markdown",
   "id": "81b09682",
   "metadata": {
    "id": "81b09682"
   },
   "source": [
    "#### Exponential Decay"
   ]
  },
  {
   "cell_type": "markdown",
   "id": "5cf3723d",
   "metadata": {
    "id": "5cf3723d"
   },
   "source": [
    "[Exponential Decay](https://paperswithcode.com/method/exponential-decay) is similar to step-wise annealing in that the LR is gradually decreased over time. However, instead of a linear step-based decay, a scaled, reflected exponential function is used to reduce the initial fixed learning rate $\\eta_{0}$ over time,\n",
    "\n",
    "$$\n",
    "\\begin{align}\n",
    "\\eta_{n} &= \\eta_{0} * \\mathcal{e}^{-dn}, \\\\\n",
    "\\end{align}\n",
    "$$\n",
    "\n",
    "given a static decay factor $d$ and the current number of iterations $n$. Depending on the choice of the decay factor $d$, the Exponential Decay schedule could (preferably) accelerate the learning rate decay more rapidly than with step-wise annealing."
   ]
  },
  {
   "cell_type": "markdown",
   "id": "d5ed3511",
   "metadata": {
    "id": "d5ed3511"
   },
   "source": [
    "### 1.2. Adaptive Learning Rate Methods"
   ]
  },
  {
   "cell_type": "markdown",
   "id": "29d592a1",
   "metadata": {
    "id": "29d592a1"
   },
   "source": [
    "Given that both the learning rate and its schedules have hyperparameters that need to be manually selected and defined prior to training, a learning rate schedule might not always be optimal. Instead, we can use [adaptive learning rate](https://en.wikipedia.org/wiki/Learning_rate#Adaptive_learning_rate) methods to utilise heuristic approaches to parameter selection that provide reliable results. Adaptive learning rate methods such as [Adagrad](https://en.wikipedia.org/wiki/Stochastic_gradient_descent#AdaGrad), [Adam](https://en.wikipedia.org/wiki/Stochastic_gradient_descent#Adam) and [RMSProp](https://en.wikipedia.org/wiki/Stochastic_gradient_descent#RMSProp) build upon the [stochastic gradient descent](https://en.wikipedia.org/wiki/Stochastic_gradient_descent#Adam) optimiser with adaptive learning rate tuning."
   ]
  },
  {
   "cell_type": "markdown",
   "id": "8df01f49",
   "metadata": {
    "id": "8df01f49"
   },
   "source": [
    "#### AdaGrad"
   ]
  },
  {
   "cell_type": "markdown",
   "id": "d430d289",
   "metadata": {
    "id": "d430d289"
   },
   "source": [
    "The [AdaGrad](https://en.wikipedia.org/wiki/Stochastic_gradient_descent#AdaGrad) (Adaptive Gradient) algorithm [1] was pioneered in 2011 by J. Duchi et al., and is a dynamic technique for the normalisation of parameter updates. In brief; weights who receive large gradient update values will have their effective learning rate reduced. Conversely, weights with small or infrequently-updated values will have their effective learning rate increased. Using a parameter referred to as a \"cache\" variable $c$, AdaGrad performs the following updates,\n",
    "\n",
    "$$\n",
    "\\begin{align}\n",
    "c &= c + dx^2, \\\\\n",
    "x &= x - \\alpha \\frac{dx}{\\sqrt{x} + \\epsilon}.\n",
    "\\end{align}\n",
    "$$\n",
    "\n",
    "The cache variable $c$ keeps track of the per-parameter sum of the squared gradients, which in turn is used to normalise the parameter updates. Here an $\\epsilon$ term is added to the denominator of the update term for numerical stability (to avoid a divide by zero error), credit: [G. Singh](https://medium.com/@gsinghviews/adaptive-learning-rate-methods-e6e00dcbae5e). \n",
    "\n",
    "To utilise AdaGrad in TensorFlow Keras, instantiate the [`tf.keras.optimizers.Adagrad`](https://www.tensorflow.org/api_docs/python/tf/keras/optimizers/Adagrad) optimizer."
   ]
  },
  {
   "cell_type": "markdown",
   "id": "095a84fd",
   "metadata": {
    "id": "095a84fd"
   },
   "source": [
    "#### RMSProp"
   ]
  },
  {
   "cell_type": "markdown",
   "id": "fff20a1c",
   "metadata": {
    "id": "fff20a1c"
   },
   "source": [
    "The [RMSProp](https://en.wikipedia.org/wiki/Stochastic_gradient_descent#RMSProp) (Root Mean Square Propagation) algorithm is another technique that updates the learning rate for each weight dynamically. RMSProp, however, seeks to penalise the weights that cause the cost function to oscillate too much. The expontentially-weighted moving average of the squared gradients are computed such that\n",
    "\n",
    "$$\n",
    "\\begin{align}\n",
    "c &= \\gamma * c + \\left(1 - \\gamma\\right) \\cdot dx^2, \\\\\n",
    "x &= x - \\alpha \\frac{dx}{\\sqrt{x} + \\epsilon}.\n",
    "\\end{align}\n",
    "$$\n",
    "\n",
    "As in AdaGrad, we still utilise a cache variable $c$ but instead the moving average of the squared gradients is computed. This is to handle the monotonically decreasing learning rate behaviour of AdaGrad. Here, $\\gamma$ is the _forgetting factor_ hyperparameter. Note that the weight updates are performed element-wise in both a horizontal ($w$) and vertical ($b$) direction. The goal of RMSProp is to slow down the movement in the vertical direction with larger horizontal derivatives while simultaneously increasing the magnitude of the horizontal weight updates. The net effect of RMSProp is a dampening of the oscillatory behaviour of the AdaGrad algorithm while maintaining learning speed-ups in the horizontal direction. \n",
    "\n",
    "To utilise RMSProp in TensorFlow Keras, instantiate the [`tf.keras.optimizers.RMSprop`](https://www.tensorflow.org/api_docs/python/tf/keras/optimizers/RMSprop) optimizer."
   ]
  },
  {
   "cell_type": "markdown",
   "id": "78fcd20c",
   "metadata": {
    "id": "78fcd20c"
   },
   "source": [
    "#### Adam"
   ]
  },
  {
   "cell_type": "markdown",
   "id": "ce557cd2",
   "metadata": {
    "id": "ce557cd2"
   },
   "source": [
    "The [Adam](https://en.wikipedia.org/wiki/Stochastic_gradient_descent#Adam) (Adaptive Moment Estimation) algorithm by Kingma et al., 2014 ]2\\ expands on the RMSProp optimizer by computing the biased first and second moments of the gradients $m$ and $v$,\n",
    "\n",
    "$$\n",
    "\\begin{align}\n",
    "m_{t} &= \\beta_{1} \\cdot m_{t-1} + \\left(1 - \\beta_{1}\\right) \\cdot dx, &\n",
    "v_{t} &= \\beta_{2} \\cdot v_{t-1} + \\left(1 - \\beta_{2}\\right) \\cdot dx^2, \\\\\n",
    "\\hat{v}_{t} & \\leftarrow v_{t} \\ \\big{/} \\left(1 - \\beta_{2}^{t}\\right) &\n",
    "\\hat{m}_{t} & \\leftarrow m_{t} \\ \\big{/} \\left(1 - \\beta_{1}^{t}\\right). \\\\\n",
    "\\end{align}\n",
    "$$\n",
    "which boil down to essentially computing the mean (moving average of the gradients) and variance (moving average of the _squared_ gradients). Parameters $\\beta_{1}$ and $\\beta_{2}$ are considered the _forgetting factors_ and selected in the range $[0, 1)$ as exponential decay rates for the moment estimates. The mean and variance calculations are bias-corrected (second line), and used to update the parameters $\\theta$ as follows,\n",
    "\n",
    "$$\n",
    "\\begin{align}\n",
    "\\theta_{t} \\leftarrow \\theta_{t-1} - \\alpha \\cdot \\hat{m}_{t} \\ \\big{/} \\left(\\sqrt{\\hat{v}_{t}} + \\epsilon\\right).\n",
    "\\end{align}\n",
    "$$\n",
    "\n",
    "The Adam optimizer borrows not only principles from the RMSProp optimizer but also the step-wise learning rate schedule; the last term in the update step $\\hat{m}_{t} \\ \\big{/} \\left(\\sqrt{\\hat{v}_{t}} + \\epsilon\\right)$ becomes closer to zero as the parameters approach optimal values, essentially acting as an automatic step-wise annealing.\n",
    "\n",
    "To utilise Adam in TensorFlow Keras, instantiate the [`tf.keras.optimizers.Adam`](https://www.tensorflow.org/api_docs/python/tf/keras/optimizers/Adam) optimizer."
   ]
  },
  {
   "cell_type": "markdown",
   "id": "c5fd5842",
   "metadata": {
    "id": "c5fd5842"
   },
   "source": [
    "## 2. Programming Task"
   ]
  },
  {
   "cell_type": "markdown",
   "id": "b086a763",
   "metadata": {
    "id": "b086a763"
   },
   "source": [
    "To do so, you will have to leverage Keras `callbacks`. Callbacks performs various action\n",
    "at different stages of training. For example, Keras uses a callback to save the models weights at \n",
    "the end of each training epoch."
   ]
  },
  {
   "cell_type": "code",
   "execution_count": 11,
   "id": "Oqzc5jQ3errs",
   "metadata": {
    "id": "Oqzc5jQ3errs"
   },
   "outputs": [],
   "source": [
    "model_params = defaultdict(dict)"
   ]
  },
  {
   "cell_type": "code",
   "execution_count": 12,
   "id": "e7a24310",
   "metadata": {
    "id": "e7a24310"
   },
   "outputs": [],
   "source": [
    "### From Udacity's `utils.py`"
   ]
  },
  {
   "cell_type": "code",
   "execution_count": 13,
   "id": "c8095f72",
   "metadata": {
    "id": "c8095f72"
   },
   "outputs": [],
   "source": [
    "class LrLogger(tf.keras.callbacks.Callback):\n",
    "    def __init__(self):\n",
    "        super().__init__()\n",
    "        \n",
    "    def on_train_begin(self, logs=None):\n",
    "        history = self.model.history.history\n",
    "        history['lr'] = []\n",
    "\n",
    "    def on_epoch_end(self, epoch, logs=None):\n",
    "        history = self.model.history.history\n",
    "        optimizer = self.model.optimizer\n",
    "        decayed_lr = optimizer._decayed_lr('float32').numpy()\n",
    "        history['lr'].append(decayed_lr)"
   ]
  },
  {
   "cell_type": "markdown",
   "id": "4a3007d4",
   "metadata": {
    "id": "4a3007d4"
   },
   "source": [
    "You can either use pre-implemented schedulers (see Tips) or implement a scheduler yourself \n",
    "using your own custom decay function, as shown below:"
   ]
  },
  {
   "cell_type": "markdown",
   "id": "c06b89d7",
   "metadata": {
    "id": "c06b89d7"
   },
   "source": [
    "```\n",
    "def decay(model, callbacks, lr=0.001):\n",
    "    \"\"\" create custom decay that does not do anything \"\"\"\n",
    "    def scheduler(epoch, lr):\n",
    "        return lr \n",
    "\n",
    "    callbacks.append(tf.keras.callbacks.LearningRateScheduler(scheduler))\n",
    "\n",
    "    # compile model\n",
    "    model.compile()\n",
    "    \n",
    "    return model, callbacks \n",
    "```"
   ]
  },
  {
   "cell_type": "markdown",
   "id": "E8ZMBPCYcU6x",
   "metadata": {
    "id": "E8ZMBPCYcU6x"
   },
   "source": [
    "### 2.1. Step-wise Annealing"
   ]
  },
  {
   "cell_type": "code",
   "execution_count": 14,
   "id": "a25c785d",
   "metadata": {
    "id": "a25c785d"
   },
   "outputs": [],
   "source": [
    "def step_decay(\n",
    "        model: tf.keras.Model, callbacks: List[tf.keras.callbacks.Callback]=[], \n",
    "        initial_lr: float=0.001\n",
    ") -> Tuple[tf.keras.Model, List[tf.keras.callbacks.Callback]]:\n",
    "    \"\"\"Compiles and returns Model instance with step-wise decay LR schedule.\n",
    "    \n",
    "    :param model: the tf.keras.Model instance to compile.\n",
    "    :param callbacks: the list of tf.keras.callbacks to pass alongside model.\n",
    "    :param initial_lr: the value to fix the learning rate at before annealing.\n",
    "    :returns: tuple, the compiled Model instance and its callbacks.\n",
    "    \"\"\"\n",
    "    #  IMPLEMENT THIS FUNCTION\n",
    "    \n",
    "    def scheduler(epoch: int, lr: float):\n",
    "        \"\"\"Simple custom constant step-wise annealing schedule.\"\"\"\n",
    "        return lr / 2 if epoch % 10 == 0 and epoch > 0 else lr\n",
    "    \n",
    "    # Instantiate a custom Keras callback to perform LR annealing\n",
    "    lr_schedule = tf.keras.callbacks.LearningRateScheduler(\n",
    "                            schedule=scheduler, verbose=0\n",
    "    )\n",
    "    callbacks.append(lr_schedule)\n",
    "    # Instantiate the optimiser with the initial learning rate value\n",
    "    optimizer = tf.keras.optimizers.Adam(learning_rate=initial_lr)\n",
    "    # Compile the model\n",
    "    model.compile(optimizer=optimizer,\n",
    "                  loss=tf.keras.losses.SparseCategoricalCrossentropy(from_logits=False),\n",
    "                  metrics=['accuracy']\n",
    "    )\n",
    "    # Return the compiled model and the custom LR scheduler and any other callback\n",
    "    return model, callbacks"
   ]
  },
  {
   "cell_type": "code",
   "execution_count": 15,
   "id": "a7d7a4ed",
   "metadata": {
    "id": "a7d7a4ed"
   },
   "outputs": [],
   "source": [
    "model = tf.keras.Model()"
   ]
  },
  {
   "cell_type": "code",
   "execution_count": 16,
   "id": "8844b8d3",
   "metadata": {
    "id": "8844b8d3"
   },
   "outputs": [],
   "source": [
    "model, callbacks = step_decay(model=model, callbacks=[], initial_lr=0.001)"
   ]
  },
  {
   "cell_type": "markdown",
   "id": "NyxhMhv5ciqm",
   "metadata": {
    "id": "NyxhMhv5ciqm"
   },
   "source": [
    "### 2.2. Exponential Decay"
   ]
  },
  {
   "cell_type": "code",
   "execution_count": 17,
   "id": "91fabc36",
   "metadata": {
    "id": "91fabc36"
   },
   "outputs": [],
   "source": [
    "### From Udacity's `training.py`"
   ]
  },
  {
   "cell_type": "code",
   "execution_count": 18,
   "id": "7fee5007",
   "metadata": {
    "id": "7fee5007"
   },
   "outputs": [],
   "source": [
    "def exponential_decay(\n",
    "        model: tf.keras.Model, callbacks: List[tf.keras.callbacks.Callback]=[], \n",
    "        initial_lr: float=0.001\n",
    ") -> Tuple[tf.keras.Model, List[tf.keras.callbacks.Callback]]:\n",
    "    \"\"\"Compiles and returns Model instance with exponential decay LR schedule.\n",
    "    \n",
    "    :param model: the tf.keras.Model instance to compile.\n",
    "    :param callbacks: the list of tf.keras.callbacks to pass alongside model.\n",
    "    :param initial_lr: the value to fix the learning rate at before annealing.\n",
    "    :returns: tuple, the compiled Model instance and its callbacks.\n",
    "    \"\"\"\n",
    "    # IMPLEMENT THIS FUNCTION\n",
    "    \n",
    "    # Instantiate the learning rate schedule\n",
    "    lr_scheduler = tf.keras.optimizers.schedules.ExponentialDecay(\n",
    "                        initial_learning_rate=initial_lr,\n",
    "                        decay_steps=100,\n",
    "                        decay_rate=0.95,\n",
    "                        staircase=False\n",
    "    )\n",
    "    # Instantiate the optimiser\n",
    "    optimizer = tf.keras.optimizers.Adam(learning_rate=lr_scheduler)\n",
    "    # Compile the model\n",
    "    model.compile(optimizer=optimizer, \n",
    "                  loss=tf.keras.losses.SparseCategoricalCrossentropy(from_logits=False),\n",
    "                  metrics=['accuracy']\n",
    "    )\n",
    "    # Return the model and any specified callbacks\n",
    "    return model, callbacks"
   ]
  },
  {
   "cell_type": "code",
   "execution_count": 19,
   "id": "bce24d19",
   "metadata": {
    "id": "bce24d19"
   },
   "outputs": [],
   "source": [
    "model = tf.keras.Model()"
   ]
  },
  {
   "cell_type": "code",
   "execution_count": 20,
   "id": "816b3808",
   "metadata": {
    "id": "816b3808"
   },
   "outputs": [],
   "source": [
    "model, callbacks = exponential_decay(model=model, callbacks=[], initial_lr=0.001)"
   ]
  },
  {
   "cell_type": "markdown",
   "id": "aa94209e",
   "metadata": {
    "id": "aa94209e"
   },
   "source": [
    "Feel free to use any decay rates as well as a step size of your choice for the stepwise scheduler."
   ]
  },
  {
   "cell_type": "markdown",
   "id": "KJJhZo0Glz8q",
   "metadata": {
    "id": "KJJhZo0Glz8q"
   },
   "source": [
    "### 2.3. Training and Validation"
   ]
  },
  {
   "cell_type": "markdown",
   "id": "P48unFqOmSDo",
   "metadata": {
    "id": "P48unFqOmSDo"
   },
   "source": [
    "The following helper functions are used for the training and validation loops."
   ]
  },
  {
   "cell_type": "code",
   "execution_count": 21,
   "id": "GhndUtx1lyeQ",
   "metadata": {
    "id": "GhndUtx1lyeQ"
   },
   "outputs": [],
   "source": [
    "### From J. Moran's `2022-09-12-Building-Custom-Convolutional-Neural-Networks.ipynb`"
   ]
  },
  {
   "cell_type": "code",
   "execution_count": 22,
   "id": "XV4-Vj14l_cI",
   "metadata": {
    "id": "XV4-Vj14l_cI"
   },
   "outputs": [],
   "source": [
    "def get_module_logger(mod_name: str) -> logging.Logger:\n",
    "    \"\"\"Initialises a console logger instance.\n",
    "    \n",
    "    :param mod_name: the model name to assign to the logger.\n",
    "    :returns: a logger instance.\n",
    "    \"\"\"\n",
    "    \n",
    "    ### Setting up the console logger and formatter\n",
    "    logger = logging.getLogger(mod_name)\n",
    "    handler = logging.StreamHandler()\n",
    "    formatter = logging.Formatter('%(asctime)s %(levelname)-8s %(message)s')\n",
    "    handler.setFormatter(formatter)\n",
    "    logger.addHandler(handler)\n",
    "    logger.setLevel(logging.DEBUG)\n",
    "    ### Prevent messages going to root handler\n",
    "    logger.propagate = False\n",
    "    return logger"
   ]
  },
  {
   "cell_type": "code",
   "execution_count": 23,
   "id": "WvL_PojVmX3L",
   "metadata": {
    "id": "WvL_PojVmX3L"
   },
   "outputs": [],
   "source": [
    "### From Udacity's `utils.py`"
   ]
  },
  {
   "cell_type": "code",
   "execution_count": 24,
   "id": "-FXUQ5Q8lx9N",
   "metadata": {
    "id": "-FXUQ5Q8lx9N"
   },
   "outputs": [],
   "source": [
    "def display_metrics(history):\n",
    "    \"\"\" plot loss and accuracy from keras history object \"\"\"\n",
    "    f, ax = plt.subplots(1, 3, figsize=(15, 5))\n",
    "    ax[0].plot(history.history['loss'], linewidth=3)\n",
    "    ax[0].plot(history.history['val_loss'], linewidth=3)\n",
    "    ax[0].set_title('Loss', fontsize=16)\n",
    "    ax[0].set_ylabel('Loss', fontsize=16)\n",
    "    ax[0].set_xlabel('Epoch', fontsize=16)\n",
    "    ax[0].legend(['train loss', 'val loss'], loc='upper right')\n",
    "    ax[1].plot(history.history['accuracy'], linewidth=3)\n",
    "    ax[1].plot(history.history['val_accuracy'], linewidth=3)\n",
    "    ax[1].set_title('Accuracy', fontsize=16)\n",
    "    ax[1].set_ylabel('Accuracy', fontsize=16)\n",
    "    ax[1].set_xlabel('Epoch', fontsize=16)\n",
    "    ax[1].legend(['train acc', 'val acc'], loc='upper left')\n",
    "    ax[2].plot(history.history['lr'], linewidth=3)\n",
    "    ax[2].set_title('Learning rate', fontsize=16)\n",
    "    ax[2].set_ylabel('Learning Rate', fontsize=16)\n",
    "    ax[2].set_xlabel('Epoch', fontsize=16)\n",
    "    ax[2].legend(['learning rate'], loc='upper right')\n",
    "    # ax[2].ticklabel_format(axis='y', style='sci')\n",
    "    ax[2].yaxis.set_major_formatter(mtick.FormatStrFormatter('%.2e'))\n",
    "    plt.tight_layout()\n",
    "    plt.show()"
   ]
  },
  {
   "cell_type": "code",
   "execution_count": 25,
   "id": "9k_G4Lh1l_WG",
   "metadata": {
    "id": "9k_G4Lh1l_WG"
   },
   "outputs": [],
   "source": [
    "logger_step = get_module_logger(step_decay.__name__)"
   ]
  },
  {
   "cell_type": "code",
   "execution_count": 26,
   "id": "j62UE4BMmELi",
   "metadata": {
    "id": "j62UE4BMmELi"
   },
   "outputs": [],
   "source": [
    "logger_exp = get_module_logger(step_decay.__name__)"
   ]
  },
  {
   "cell_type": "markdown",
   "id": "KEwnkHRrc2mX",
   "metadata": {
    "id": "KEwnkHRrc2mX"
   },
   "source": [
    "### 2.4. Evaluation on the GTSRB dataset"
   ]
  },
  {
   "cell_type": "markdown",
   "id": "85ca5fe1",
   "metadata": {
    "id": "85ca5fe1"
   },
   "source": [
    "You can run `python training.py` to see the effect of different annealing strategies on your training and model performances. Make sure to feed in the GTSRB dataset as the image directory, and use the Desktop to view the visualization of final training metrics."
   ]
  },
  {
   "cell_type": "markdown",
   "id": "ZQfGG9udeTX6",
   "metadata": {
    "id": "ZQfGG9udeTX6"
   },
   "source": [
    "#### Considerations for our input data"
   ]
  },
  {
   "cell_type": "code",
   "execution_count": 27,
   "id": "T8V47lj1eV4Z",
   "metadata": {
    "id": "T8V47lj1eV4Z"
   },
   "outputs": [],
   "source": [
    "DATASET_NAME = 'GTSRB'"
   ]
  },
  {
   "cell_type": "code",
   "execution_count": 28,
   "id": "M_YZ21JveXOH",
   "metadata": {
    "id": "M_YZ21JveXOH"
   },
   "outputs": [],
   "source": [
    "N_CLASSES = 43                                    # GTSRB has 43 distinct digit classes"
   ]
  },
  {
   "cell_type": "code",
   "execution_count": 29,
   "id": "JK4XovB8eXJi",
   "metadata": {
    "id": "JK4XovB8eXJi"
   },
   "outputs": [],
   "source": [
    "### Defining our input image specs"
   ]
  },
  {
   "cell_type": "code",
   "execution_count": 30,
   "id": "pyGzXzZteXFi",
   "metadata": {
    "id": "pyGzXzZteXFi"
   },
   "outputs": [],
   "source": [
    "IMG_DIR = os.path.join(DIR_SRC, 'GTSRB/Final_Training/Images')"
   ]
  },
  {
   "cell_type": "code",
   "execution_count": 31,
   "id": "ewTsseKJeXBe",
   "metadata": {
    "id": "ewTsseKJeXBe"
   },
   "outputs": [],
   "source": [
    "BATCH_SIZE = 128"
   ]
  },
  {
   "cell_type": "code",
   "execution_count": 32,
   "id": "DWxNN89oeeV9",
   "metadata": {
    "id": "DWxNN89oeeV9"
   },
   "outputs": [],
   "source": [
    "IMG_COLOR_MODE = 'rgb'\n",
    "IMG_SIZE = (32, 32)                               # Each RGB image has 32x32 px resolution\n",
    "IMG_SHAPE = (32, 32, 3)                           # Each RGB image has 3 channels\n",
    "N_FEATURES = (32 * 32) * 3                        # Each pixel value is considered an attribute (feature)"
   ]
  },
  {
   "cell_type": "code",
   "execution_count": 33,
   "id": "TozMeHl4eeQl",
   "metadata": {
    "id": "TozMeHl4eeQl"
   },
   "outputs": [],
   "source": [
    "model_params[DATASET_NAME].update({'n_classes': N_CLASSES})\n",
    "model_params[DATASET_NAME].update({'imdir': IMG_DIR})\n",
    "model_params[DATASET_NAME].update({'batch_size': BATCH_SIZE})\n",
    "model_params[DATASET_NAME].update({'color_mode': IMG_COLOR_MODE})\n",
    "model_params[DATASET_NAME].update({'image_size': IMG_SIZE})\n",
    "model_params[DATASET_NAME].update({'input_shape': IMG_SHAPE})\n",
    "model_params[DATASET_NAME].update({'n_features': N_FEATURES})"
   ]
  },
  {
   "cell_type": "code",
   "execution_count": 34,
   "id": "df3b8ca8",
   "metadata": {
    "id": "df3b8ca8"
   },
   "outputs": [],
   "source": [
    "### From J. Moran's `2022-09-05-Image-Classification-Feed-Forward-Neural-Networks.ipynb`"
   ]
  },
  {
   "cell_type": "code",
   "execution_count": 35,
   "id": "64829f0a",
   "metadata": {
    "id": "64829f0a"
   },
   "outputs": [],
   "source": [
    "def get_datasets(model_params: dict) -> Tuple[tf.data.Dataset, tf.data.Dataset]:\n",
    "    \"\"\"Return the training and validation datasets.\n",
    "    \n",
    "    :param model_params: the dict containing the dataset- and \n",
    "        model-specific arguments.\n",
    "    :returns: (train_dataset, validation_dataset), tuple of tf.data.Dataset \n",
    "        instances.\n",
    "    \"\"\"\n",
    "    \n",
    "    model_params = dict(model_params)\n",
    "    train_dataset = tf.keras.utils.image_dataset_from_directory(\n",
    "                        directory=model_params.get('imdir', None),\n",
    "                        labels='inferred',\n",
    "                        label_mode='int',\n",
    "                        color_mode=model_params.get('color_mode', None),\n",
    "                        batch_size=model_params.get('batch_size', None),\n",
    "                        image_size=model_params.get('image_size', None),\n",
    "                        shuffle=True,\n",
    "                        seed=123,\n",
    "                        validation_split=0.2,\n",
    "                        subset='training',\n",
    "    )\n",
    "    validation_dataset = tf.keras.utils.image_dataset_from_directory(\n",
    "                        directory=model_params.get('imdir', None),\n",
    "                        labels='inferred',\n",
    "                        label_mode='int',\n",
    "                        color_mode=model_params.get('color_mode', None),\n",
    "                        batch_size=model_params.get('batch_size', None),\n",
    "                        image_size=model_params.get('image_size', None),\n",
    "                        shuffle=True,\n",
    "                        seed=123,\n",
    "                        validation_split=0.2,\n",
    "                        subset='validation',\n",
    "    )\n",
    "    return train_dataset, validation_dataset"
   ]
  },
  {
   "cell_type": "code",
   "execution_count": 36,
   "id": "76681169",
   "metadata": {
    "id": "76681169"
   },
   "outputs": [],
   "source": [
    "### From Udacity's `utils.py`"
   ]
  },
  {
   "cell_type": "code",
   "execution_count": 37,
   "id": "e33af3f4",
   "metadata": {
    "id": "e33af3f4"
   },
   "outputs": [],
   "source": [
    "def get_module_logger(mod_name):\n",
    "    logger = logging.getLogger(mod_name)\n",
    "    handler = logging.StreamHandler()\n",
    "    formatter = logging.Formatter('%(asctime)s %(levelname)-8s %(message)s')\n",
    "    handler.setFormatter(formatter)\n",
    "    logger.addHandler(handler)\n",
    "    logger.setLevel(logging.DEBUG)\n",
    "    return logger"
   ]
  },
  {
   "cell_type": "code",
   "execution_count": 38,
   "id": "1E_j_PzohdQr",
   "metadata": {
    "id": "1E_j_PzohdQr"
   },
   "outputs": [],
   "source": [
    "logger_step = get_module_logger(step_decay.__name__)"
   ]
  },
  {
   "cell_type": "code",
   "execution_count": 39,
   "id": "JvT_s_ychdFm",
   "metadata": {
    "id": "JvT_s_ychdFm"
   },
   "outputs": [],
   "source": [
    "logger_exp = get_module_logger(exponential_decay.__name__)"
   ]
  },
  {
   "cell_type": "markdown",
   "id": "Wy-4WKkgfb4f",
   "metadata": {
    "id": "Wy-4WKkgfb4f"
   },
   "source": [
    "#### Processing the GTSRB data"
   ]
  },
  {
   "cell_type": "code",
   "execution_count": 40,
   "id": "583ba8cd",
   "metadata": {
    "id": "583ba8cd"
   },
   "outputs": [],
   "source": [
    "### From J. Moran's `2022-09-05-Image-Classification-Feed-Forward-Neural-Networks.ipynb`"
   ]
  },
  {
   "cell_type": "code",
   "execution_count": 41,
   "id": "0fef7ac6",
   "metadata": {
    "id": "0fef7ac6"
   },
   "outputs": [],
   "source": [
    "def process(dataset: tf.data.Dataset) -> Generator[tuple, None, None]:\n",
    "    \"\"\"Processes the input dataset and returns a generator object.\n",
    "\n",
    "    :param dataset: the tf.data.Dataset instance of batched image, label data.\n",
    "    :returns: the generator instance modifying the image attribute values.\n",
    "    \"\"\"\n",
    "\n",
    "    def process_generator()  -> Iterator[Tuple[tf.Tensor, tf.Tensor]]:\n",
    "        \"\"\"Scales the input image data.\n",
    "        \n",
    "        Unbatches the tf.data.Dataset and scales all image attributes,\n",
    "        i.e., pixel values, in the range [0, 1].\n",
    "\n",
    "        :returns: an iterator yielding the modfied image data and\n",
    "            corresponding label.\n",
    "        \"\"\"\n",
    "\n",
    "        for batch in dataset:\n",
    "            for image, label in zip(*batch):\n",
    "                image = tf.cast(image/255., tf.float32)\n",
    "                yield image, label\n",
    "    return process_generator"
   ]
  },
  {
   "cell_type": "code",
   "execution_count": 42,
   "id": "8B8mNIl1fIq-",
   "metadata": {
    "colab": {
     "base_uri": "https://localhost:8080/"
    },
    "id": "8B8mNIl1fIq-",
    "outputId": "aeeb318a-3e0b-48d2-d0c9-d1e527e45ccd"
   },
   "outputs": [
    {
     "name": "stdout",
     "output_type": "stream",
     "text": [
      "Found 4300 files belonging to 43 classes.\n",
      "Using 3440 files for training.\n",
      "Found 4300 files belonging to 43 classes.\n",
      "Using 860 files for validation.\n"
     ]
    }
   ],
   "source": [
    "### Fetching the training and validation datasets\n",
    "train_dataset, validation_dataset = get_datasets(model_params[DATASET_NAME])"
   ]
  },
  {
   "cell_type": "code",
   "execution_count": 43,
   "id": "H640anbbfiXd",
   "metadata": {
    "colab": {
     "base_uri": "https://localhost:8080/"
    },
    "id": "H640anbbfiXd",
    "outputId": "e1218e64-8d7e-4287-b344-d7521727895f"
   },
   "outputs": [
    {
     "data": {
      "text/plain": [
       "3072"
      ]
     },
     "execution_count": 43,
     "metadata": {},
     "output_type": "execute_result"
    }
   ],
   "source": [
    "### Number of features (pixel values) in a single image\n",
    "train_iter = iter(train_dataset)\n",
    "len(train_iter.get_next()[0][0].numpy().flatten())"
   ]
  },
  {
   "cell_type": "code",
   "execution_count": 44,
   "id": "Yl1zYxvIfvFK",
   "metadata": {
    "id": "Yl1zYxvIfvFK"
   },
   "outputs": [],
   "source": [
    "### Unbatching the datasets and scaling the images"
   ]
  },
  {
   "cell_type": "code",
   "execution_count": 45,
   "id": "ZM4ZEP8Sfi3b",
   "metadata": {
    "id": "ZM4ZEP8Sfi3b"
   },
   "outputs": [],
   "source": [
    "train_dataset_scaled = tf.data.Dataset.from_generator(\n",
    "        generator=process(train_dataset), \n",
    "        output_signature=(\n",
    "            tf.TensorSpec(\n",
    "                shape=model_params[DATASET_NAME].get('input_shape', None),\n",
    "                dtype=tf.dtypes.float32), \n",
    "            tf.TensorSpec(\n",
    "                shape=(),\n",
    "                dtype=tf.dtypes.int32)\n",
    "        )\n",
    ")"
   ]
  },
  {
   "cell_type": "code",
   "execution_count": 46,
   "id": "n34bWaRLfjT0",
   "metadata": {
    "id": "n34bWaRLfjT0"
   },
   "outputs": [],
   "source": [
    "validation_dataset_scaled = tf.data.Dataset.from_generator(\n",
    "        generator=process(validation_dataset), \n",
    "        output_signature=(\n",
    "            tf.TensorSpec(\n",
    "                shape=model_params[DATASET_NAME].get('input_shape', None),\n",
    "                dtype=tf.dtypes.float32), \n",
    "            tf.TensorSpec(\n",
    "                shape=(),\n",
    "                dtype=tf.dtypes.int32)\n",
    "        )\n",
    ")"
   ]
  },
  {
   "cell_type": "markdown",
   "id": "FZlaKKvHf0VH",
   "metadata": {
    "id": "FZlaKKvHf0VH"
   },
   "source": [
    "#### Defining our model architectures"
   ]
  },
  {
   "cell_type": "markdown",
   "id": "39_m0yFfugbK",
   "metadata": {
    "id": "39_m0yFfugbK"
   },
   "source": [
    "##### Simple ConvNet"
   ]
  },
  {
   "cell_type": "code",
   "execution_count": 47,
   "id": "eDA71Wxhh70L",
   "metadata": {
    "id": "eDA71Wxhh70L"
   },
   "outputs": [],
   "source": [
    "MODEL_NAME = 'ConvNet'"
   ]
  },
  {
   "cell_type": "code",
   "execution_count": 48,
   "id": "cc4e04b4",
   "metadata": {
    "id": "cc4e04b4"
   },
   "outputs": [],
   "source": [
    "def create_network(\n",
    "        inputs: tf.keras.Input, outputs: tf.keras.layers.Layer, name: str=''\n",
    ") -> tf.keras.Model:\n",
    "    \"\"\"Creates a tf.keras.Sequential Model with the provided inputs and outputs.\n",
    "    \n",
    "    :param inputs: the tf.keras.Input layer of specified shape.\n",
    "    :param outputs: the tf.keras.layers.Layer instance of desired output,\n",
    "        this should be a Dense layer with units equal to num. classes.\n",
    "    :param name: str (optional), the name to assign to the model.\n",
    "    :returns: the tf.keras.Model instance.\n",
    "    \"\"\"\n",
    "    \n",
    "    net = tf.keras.models.Sequential([\n",
    "        inputs,\n",
    "        tf.keras.layers.Conv2D(\n",
    "            filters=6, kernel_size=(3, 3), strides=(1, 1), activation='relu'),\n",
    "        tf.keras.layers.MaxPooling2D(\n",
    "            pool_size=(2, 2), strides=(2, 2)),\n",
    "        tf.keras.layers.Conv2D(\n",
    "            filters=16, kernel_size=(3, 3), strides=(1, 1), activation='relu'),\n",
    "        tf.keras.layers.MaxPooling2D(\n",
    "            pool_size=(2, 2), strides=(2, 2)),\n",
    "        tf.keras.layers.Flatten(),\n",
    "        tf.keras.layers.Dense(\n",
    "            units=120, activation='relu'),\n",
    "        tf.keras.layers.Dense(\n",
    "            units=84, activation='relu'),\n",
    "        outputs\n",
    "    ], name=name)\n",
    "    return net"
   ]
  },
  {
   "cell_type": "code",
   "execution_count": 49,
   "id": "noAUE31FgBOt",
   "metadata": {
    "id": "noAUE31FgBOt"
   },
   "outputs": [],
   "source": [
    "### Initialising our Sequential model"
   ]
  },
  {
   "cell_type": "code",
   "execution_count": 50,
   "id": "7GDbRkzKgBHx",
   "metadata": {
    "id": "7GDbRkzKgBHx"
   },
   "outputs": [],
   "source": [
    "inputs = tf.keras.Input(shape=model_params[DATASET_NAME]['input_shape'])\n",
    "outputs = tf.keras.layers.Dense(units=model_params[DATASET_NAME]['n_classes'])"
   ]
  },
  {
   "cell_type": "code",
   "execution_count": 51,
   "id": "g5lw8wHygBCU",
   "metadata": {
    "id": "g5lw8wHygBCU"
   },
   "outputs": [],
   "source": [
    "model = create_network(inputs, outputs)"
   ]
  },
  {
   "cell_type": "code",
   "execution_count": 52,
   "id": "W3aXcUyigJDx",
   "metadata": {
    "colab": {
     "base_uri": "https://localhost:8080/"
    },
    "id": "W3aXcUyigJDx",
    "outputId": "9ec91e9a-fc2d-4652-fecd-7f38d0848fa6"
   },
   "outputs": [
    {
     "name": "stdout",
     "output_type": "stream",
     "text": [
      "Model: \"sequential\"\n",
      "_________________________________________________________________\n",
      " Layer (type)                Output Shape              Param #   \n",
      "=================================================================\n",
      " conv2d (Conv2D)             (None, 30, 30, 6)         168       \n",
      "                                                                 \n",
      " max_pooling2d (MaxPooling2D  (None, 15, 15, 6)        0         \n",
      " )                                                               \n",
      "                                                                 \n",
      " conv2d_1 (Conv2D)           (None, 13, 13, 16)        880       \n",
      "                                                                 \n",
      " max_pooling2d_1 (MaxPooling  (None, 6, 6, 16)         0         \n",
      " 2D)                                                             \n",
      "                                                                 \n",
      " flatten (Flatten)           (None, 576)               0         \n",
      "                                                                 \n",
      " dense_1 (Dense)             (None, 120)               69240     \n",
      "                                                                 \n",
      " dense_2 (Dense)             (None, 84)                10164     \n",
      "                                                                 \n",
      " dense (Dense)               (None, 43)                3655      \n",
      "                                                                 \n",
      "=================================================================\n",
      "Total params: 84,107\n",
      "Trainable params: 84,107\n",
      "Non-trainable params: 0\n",
      "_________________________________________________________________\n"
     ]
    }
   ],
   "source": [
    "model.summary()"
   ]
  },
  {
   "cell_type": "markdown",
   "id": "Eq7DOSJ1uk2K",
   "metadata": {
    "id": "Eq7DOSJ1uk2K"
   },
   "source": [
    "##### Lightweight CNN"
   ]
  },
  {
   "cell_type": "markdown",
   "id": "TJ2wK9SCu7_r",
   "metadata": {
    "id": "TJ2wK9SCu7_r"
   },
   "source": [
    "Using a custom convolutional neural network architecture with a history of promising results on the GTSRB dataset (Zaibi et al., 2021)."
   ]
  },
  {
   "cell_type": "code",
   "execution_count": 53,
   "id": "ZjkQLVwHwSEW",
   "metadata": {
    "id": "ZjkQLVwHwSEW"
   },
   "outputs": [],
   "source": [
    "MODEL_NAME = 'Custom_LeNet-5'"
   ]
  },
  {
   "cell_type": "code",
   "execution_count": 54,
   "id": "BZsaN0Kfur0F",
   "metadata": {
    "id": "BZsaN0Kfur0F"
   },
   "outputs": [],
   "source": [
    "### From J. Moran's `2022-09-12-Building-Custom-Convolutional-Neural-Networks.ipynb`"
   ]
  },
  {
   "cell_type": "code",
   "execution_count": 55,
   "id": "TGVc-NXvurVD",
   "metadata": {
    "id": "TGVc-NXvurVD"
   },
   "outputs": [],
   "source": [
    "def create_custom_network(\n",
    "    input_shape: Tuple[int], output_shape: int, model_name: str='CustomModel'\n",
    ")-> tf.keras.Sequential:\n",
    "    \"\"\"Creates a modified LeNet-5 network (Zaibi et al., 2021).\n",
    "    \n",
    "    :param input_shape: tuple, the n-dimensional shape of the input images.\n",
    "    :param: output_shape: tuple, the 1D shape corresponding to number of\n",
    "        distinct classes to predict.\n",
    "    :returns: the modified LeNet-5 Model object.\n",
    "    \"\"\"\n",
    "    # IMPLEMENT THIS FUNCTION\n",
    "    \n",
    "    model = tf.keras.Sequential(layers=[\n",
    "        # The C1 (convolutional) layer\n",
    "        tf.keras.layers.Conv2D(\n",
    "                input_shape=input_shape,\n",
    "                filters=60, \n",
    "                kernel_size=(5,5), \n",
    "                strides=(1, 1), \n",
    "                padding='valid',\n",
    "                activation=tf.keras.layers.LeakyReLU(alpha=0.01),\n",
    "                name='C1'\n",
    "        ),\n",
    "        # The C2 (convolutional) layer\n",
    "        tf.keras.layers.Conv2D(\n",
    "                filters=60, \n",
    "                kernel_size=(5, 5), \n",
    "                strides=(1,1), \n",
    "                padding='valid',\n",
    "                activation=tf.keras.layers.LeakyReLU(alpha=0.01),\n",
    "                name='C2'\n",
    "        ),\n",
    "        # The Bn3 (Batch Normalization) layer\n",
    "        tf.keras.layers.BatchNormalization(\n",
    "                name='Bn3'\n",
    "        ),\n",
    "        # The M4 (Max Pooling) layer\n",
    "        tf.keras.layers.MaxPool2D(\n",
    "                pool_size=(2, 2),\n",
    "                strides=(2, 2),\n",
    "                padding='valid',\n",
    "                name='M4'\n",
    "        ),\n",
    "        # The C5 (convolutional) layer\n",
    "        tf.keras.layers.Conv2D(\n",
    "                filters=30, \n",
    "                kernel_size=(3, 3), \n",
    "                strides=(1, 1), \n",
    "                padding='valid',\n",
    "                activation=tf.keras.layers.LeakyReLU(alpha=0.01),\n",
    "                name='C5'\n",
    "        ),\n",
    "        # The C6 (convolutional) layer\n",
    "        tf.keras.layers.Conv2D(\n",
    "                filters=30, \n",
    "                kernel_size=(3, 3), \n",
    "                strides=(1, 1), \n",
    "                padding='valid',\n",
    "                activation=tf.keras.layers.LeakyReLU(alpha=0.01),\n",
    "                name='C6'\n",
    "        ),\n",
    "        # The M7 (Max Pooling) layer\n",
    "        tf.keras.layers.MaxPool2D(\n",
    "                pool_size=(2, 2),\n",
    "                strides=(2, 2),\n",
    "                padding='valid',\n",
    "                name='M7'\n",
    "        ),\n",
    "        # The D8 (Dropout regularization) layer\n",
    "        tf.keras.layers.Dropout(\n",
    "                rate=0.5,\n",
    "                name='D8'\n",
    "        ),\n",
    "        # The Flatten layer\n",
    "        tf.keras.layers.Flatten(),\n",
    "        # The F9 (fully-connected) layer\n",
    "        tf.keras.layers.Dense(\n",
    "                units=500,\n",
    "                activation=tf.keras.layers.LeakyReLU(alpha=0.01),\n",
    "                name='F9'\n",
    "        ),\n",
    "        # The Bn10 (Batch Normalization) layer\n",
    "        tf.keras.layers.BatchNormalization(\n",
    "                name='Bn10'\n",
    "        ),\n",
    "        # The D11 (Dropout regularization) layer\n",
    "        tf.keras.layers.Dropout(\n",
    "                rate=0.5,\n",
    "                name='D11'\n",
    "        ),\n",
    "        # The F12 (Output) layer\n",
    "        tf.keras.layers.Dense(\n",
    "                units=output_shape,\n",
    "                activation='softmax',\n",
    "                name='Output'\n",
    "        )\n",
    "    ], name=model_name)\n",
    "    return model"
   ]
  },
  {
   "cell_type": "code",
   "execution_count": 56,
   "id": "dbDcWf3OwQHE",
   "metadata": {
    "id": "dbDcWf3OwQHE"
   },
   "outputs": [],
   "source": [
    "model_params[MODEL_NAME].update({'model_name': MODEL_NAME})"
   ]
  },
  {
   "cell_type": "markdown",
   "id": "vu23KUR3gR8v",
   "metadata": {
    "id": "vu23KUR3gR8v"
   },
   "source": [
    "#### Testing our learning rate schedules"
   ]
  },
  {
   "cell_type": "markdown",
   "id": "piJBeil4gdr5",
   "metadata": {
    "id": "piJBeil4gdr5"
   },
   "source": [
    "##### Step-wise Annealing"
   ]
  },
  {
   "cell_type": "markdown",
   "id": "L5F7aNTuvSdE",
   "metadata": {
    "id": "L5F7aNTuvSdE"
   },
   "source": [
    "###### Simple ConvNet"
   ]
  },
  {
   "cell_type": "code",
   "execution_count": 57,
   "id": "8YEs6jjQyPH5",
   "metadata": {
    "id": "8YEs6jjQyPH5"
   },
   "outputs": [],
   "source": [
    "MODEL_NAME = 'ConvNet'"
   ]
  },
  {
   "cell_type": "code",
   "execution_count": 58,
   "id": "Q3rJ_lbejK2V",
   "metadata": {
    "id": "Q3rJ_lbejK2V"
   },
   "outputs": [],
   "source": [
    "### Defining our training hyperparameters"
   ]
  },
  {
   "cell_type": "code",
   "execution_count": 59,
   "id": "Iw2phMcLjEWA",
   "metadata": {
    "id": "Iw2phMcLjEWA"
   },
   "outputs": [],
   "source": [
    "EPOCHS = 100"
   ]
  },
  {
   "cell_type": "code",
   "execution_count": 60,
   "id": "V9S-xiLvjKSO",
   "metadata": {
    "id": "V9S-xiLvjKSO"
   },
   "outputs": [],
   "source": [
    "model_params[MODEL_NAME].update({'epochs': EPOCHS})"
   ]
  },
  {
   "cell_type": "code",
   "execution_count": 61,
   "id": "RpxSodaYfKti",
   "metadata": {
    "id": "RpxSodaYfKti"
   },
   "outputs": [],
   "source": [
    "### Initialise the LR logger and custom callbacks\n",
    "logger = LrLogger()\n",
    "callbacks = [logger]"
   ]
  },
  {
   "cell_type": "code",
   "execution_count": 62,
   "id": "7vgzA783gM-N",
   "metadata": {
    "id": "7vgzA783gM-N"
   },
   "outputs": [],
   "source": [
    "### Compile the ConvNet model with a custom `step_decay` LR schedule\n",
    "model, callbacks = step_decay(model, callbacks=callbacks, initial_lr=0.001)"
   ]
  },
  {
   "cell_type": "code",
   "execution_count": 63,
   "id": "-HUd0-wmkKry",
   "metadata": {
    "id": "-HUd0-wmkKry"
   },
   "outputs": [],
   "source": [
    "### Batching the train and validation datasets"
   ]
  },
  {
   "cell_type": "code",
   "execution_count": 64,
   "id": "ocwQk0GJkKho",
   "metadata": {
    "id": "ocwQk0GJkKho"
   },
   "outputs": [],
   "source": [
    "train_dataset_batched = train_dataset_scaled.batch(\n",
    "                            model_params[DATASET_NAME]['batch_size']\n",
    ")\n",
    "validation_dataset_batched = validation_dataset_scaled.batch(\n",
    "                            model_params[DATASET_NAME]['batch_size']\n",
    ")"
   ]
  },
  {
   "cell_type": "code",
   "execution_count": 65,
   "id": "Ci_njeAugp4G",
   "metadata": {
    "id": "Ci_njeAugp4G"
   },
   "outputs": [],
   "source": [
    "### Fitting the model on the train data and passing in our callbacks"
   ]
  },
  {
   "cell_type": "code",
   "execution_count": 66,
   "id": "XsRSQNbRhFI-",
   "metadata": {
    "colab": {
     "base_uri": "https://localhost:8080/"
    },
    "id": "XsRSQNbRhFI-",
    "outputId": "321fdddb-d803-43b4-986c-7d5820477ef3"
   },
   "outputs": [
    {
     "name": "stderr",
     "output_type": "stream",
     "text": [
      "2022-09-29 19:54:46,164 INFO     Training for 100 epochs using /content/data/GTSRB/Final_Training/Images data\n",
      "2022-09-29 19:54:46,164 INFO     Training for 100 epochs using /content/data/GTSRB/Final_Training/Images data\n",
      "2022-09-29 19:54:46,164 INFO     Training for 100 epochs using /content/data/GTSRB/Final_Training/Images data\n"
     ]
    }
   ],
   "source": [
    "logger_step.info(f\"Training for {model_params[MODEL_NAME]['epochs']} \" +\n",
    "                 f\"epochs using {model_params[DATASET_NAME]['imdir']} data\")"
   ]
  },
  {
   "cell_type": "code",
   "execution_count": 67,
   "id": "zNg6sNqMgpyV",
   "metadata": {
    "colab": {
     "base_uri": "https://localhost:8080/"
    },
    "id": "zNg6sNqMgpyV",
    "outputId": "e1fefc07-da8f-4e07-f173-dd1e50b61b63"
   },
   "outputs": [
    {
     "name": "stdout",
     "output_type": "stream",
     "text": [
      "Epoch 1/100\n",
      "27/27 [==============================] - 14s 419ms/step - loss: 9.0415 - accuracy: 0.0227 - val_loss: 7.9645 - val_accuracy: 0.0198 - lr: 0.0010\n",
      "Epoch 2/100\n",
      "27/27 [==============================] - 5s 177ms/step - loss: 7.9865 - accuracy: 0.0334 - val_loss: 7.2391 - val_accuracy: 0.0500 - lr: 0.0010\n",
      "Epoch 3/100\n",
      "27/27 [==============================] - 5s 181ms/step - loss: 7.6594 - accuracy: 0.0587 - val_loss: 8.6478 - val_accuracy: 0.0256 - lr: 0.0010\n",
      "Epoch 4/100\n",
      "27/27 [==============================] - 5s 174ms/step - loss: 8.1963 - accuracy: 0.0238 - val_loss: 7.5098 - val_accuracy: 0.0256 - lr: 0.0010\n",
      "Epoch 5/100\n",
      "27/27 [==============================] - 5s 171ms/step - loss: 7.6175 - accuracy: 0.0227 - val_loss: 7.2329 - val_accuracy: 0.0291 - lr: 0.0010\n",
      "Epoch 6/100\n",
      "27/27 [==============================] - 5s 172ms/step - loss: 7.3215 - accuracy: 0.0407 - val_loss: 6.7817 - val_accuracy: 0.0547 - lr: 0.0010\n",
      "Epoch 7/100\n",
      "27/27 [==============================] - 5s 175ms/step - loss: 6.9121 - accuracy: 0.0753 - val_loss: 6.7229 - val_accuracy: 0.0709 - lr: 0.0010\n",
      "Epoch 8/100\n",
      "27/27 [==============================] - 5s 173ms/step - loss: 7.3064 - accuracy: 0.0401 - val_loss: 7.0677 - val_accuracy: 0.0221 - lr: 0.0010\n",
      "Epoch 9/100\n",
      "27/27 [==============================] - 5s 172ms/step - loss: 7.0027 - accuracy: 0.0439 - val_loss: 7.3321 - val_accuracy: 0.0209 - lr: 0.0010\n",
      "Epoch 10/100\n",
      "27/27 [==============================] - 5s 175ms/step - loss: 7.0986 - accuracy: 0.0337 - val_loss: 6.5827 - val_accuracy: 0.0349 - lr: 0.0010\n",
      "Epoch 11/100\n",
      "27/27 [==============================] - 5s 181ms/step - loss: 6.5051 - accuracy: 0.0567 - val_loss: 6.4007 - val_accuracy: 0.0500 - lr: 5.0000e-04\n",
      "Epoch 12/100\n",
      "27/27 [==============================] - 5s 177ms/step - loss: 6.4024 - accuracy: 0.0765 - val_loss: 6.3286 - val_accuracy: 0.0605 - lr: 5.0000e-04\n",
      "Epoch 13/100\n",
      "27/27 [==============================] - 6s 204ms/step - loss: 6.3162 - accuracy: 0.0977 - val_loss: 6.0633 - val_accuracy: 0.1151 - lr: 5.0000e-04\n",
      "Epoch 14/100\n",
      "27/27 [==============================] - 5s 171ms/step - loss: 6.2780 - accuracy: 0.1038 - val_loss: 6.3833 - val_accuracy: 0.0721 - lr: 5.0000e-04\n",
      "Epoch 15/100\n",
      "27/27 [==============================] - 5s 175ms/step - loss: 6.2018 - accuracy: 0.1305 - val_loss: 6.2982 - val_accuracy: 0.1500 - lr: 5.0000e-04\n",
      "Epoch 16/100\n",
      "27/27 [==============================] - 5s 170ms/step - loss: 4.8764 - accuracy: 0.0852 - val_loss: 3.7776 - val_accuracy: 0.0209 - lr: 5.0000e-04\n",
      "Epoch 17/100\n",
      "27/27 [==============================] - 5s 171ms/step - loss: 3.7629 - accuracy: 0.0256 - val_loss: 3.7612 - val_accuracy: 0.0198 - lr: 5.0000e-04\n",
      "Epoch 18/100\n",
      "27/27 [==============================] - 5s 173ms/step - loss: 3.7612 - accuracy: 0.0221 - val_loss: 3.7612 - val_accuracy: 0.0186 - lr: 5.0000e-04\n",
      "Epoch 19/100\n",
      "27/27 [==============================] - 5s 170ms/step - loss: 3.7612 - accuracy: 0.0221 - val_loss: 3.7612 - val_accuracy: 0.0186 - lr: 5.0000e-04\n",
      "Epoch 20/100\n",
      "27/27 [==============================] - 5s 169ms/step - loss: 3.7612 - accuracy: 0.0221 - val_loss: 3.7612 - val_accuracy: 0.0186 - lr: 5.0000e-04\n",
      "Epoch 21/100\n",
      "27/27 [==============================] - 5s 172ms/step - loss: 3.7612 - accuracy: 0.0221 - val_loss: 3.7612 - val_accuracy: 0.0186 - lr: 2.5000e-04\n",
      "Epoch 22/100\n",
      "27/27 [==============================] - 5s 171ms/step - loss: 3.7612 - accuracy: 0.0221 - val_loss: 3.7612 - val_accuracy: 0.0186 - lr: 2.5000e-04\n",
      "Epoch 23/100\n",
      "27/27 [==============================] - 5s 172ms/step - loss: 3.7612 - accuracy: 0.0221 - val_loss: 3.7612 - val_accuracy: 0.0186 - lr: 2.5000e-04\n",
      "Epoch 24/100\n",
      "27/27 [==============================] - 5s 171ms/step - loss: 3.7612 - accuracy: 0.0221 - val_loss: 3.7612 - val_accuracy: 0.0186 - lr: 2.5000e-04\n",
      "Epoch 25/100\n",
      "27/27 [==============================] - 5s 169ms/step - loss: 3.7612 - accuracy: 0.0221 - val_loss: 3.7612 - val_accuracy: 0.0186 - lr: 2.5000e-04\n",
      "Epoch 26/100\n",
      "27/27 [==============================] - 5s 170ms/step - loss: 3.7612 - accuracy: 0.0221 - val_loss: 3.7612 - val_accuracy: 0.0186 - lr: 2.5000e-04\n",
      "Epoch 27/100\n",
      "27/27 [==============================] - 5s 169ms/step - loss: 3.7612 - accuracy: 0.0221 - val_loss: 3.7612 - val_accuracy: 0.0186 - lr: 2.5000e-04\n",
      "Epoch 28/100\n",
      "27/27 [==============================] - 5s 172ms/step - loss: 3.7612 - accuracy: 0.0221 - val_loss: 3.7612 - val_accuracy: 0.0186 - lr: 2.5000e-04\n",
      "Epoch 29/100\n",
      "27/27 [==============================] - 5s 169ms/step - loss: 3.7612 - accuracy: 0.0221 - val_loss: 3.7612 - val_accuracy: 0.0186 - lr: 2.5000e-04\n",
      "Epoch 30/100\n",
      "27/27 [==============================] - 5s 170ms/step - loss: 3.7612 - accuracy: 0.0221 - val_loss: 3.7612 - val_accuracy: 0.0186 - lr: 2.5000e-04\n",
      "Epoch 31/100\n",
      "27/27 [==============================] - 5s 171ms/step - loss: 3.7612 - accuracy: 0.0221 - val_loss: 3.7612 - val_accuracy: 0.0186 - lr: 1.2500e-04\n",
      "Epoch 32/100\n",
      "27/27 [==============================] - 5s 171ms/step - loss: 3.7612 - accuracy: 0.0221 - val_loss: 3.7612 - val_accuracy: 0.0186 - lr: 1.2500e-04\n",
      "Epoch 33/100\n",
      "27/27 [==============================] - 5s 189ms/step - loss: 3.7612 - accuracy: 0.0221 - val_loss: 3.7612 - val_accuracy: 0.0186 - lr: 1.2500e-04\n",
      "Epoch 34/100\n",
      "27/27 [==============================] - 5s 170ms/step - loss: 3.7612 - accuracy: 0.0221 - val_loss: 3.7612 - val_accuracy: 0.0186 - lr: 1.2500e-04\n",
      "Epoch 35/100\n",
      "27/27 [==============================] - 5s 170ms/step - loss: 3.7612 - accuracy: 0.0221 - val_loss: 3.7612 - val_accuracy: 0.0186 - lr: 1.2500e-04\n",
      "Epoch 36/100\n",
      "27/27 [==============================] - 5s 170ms/step - loss: 3.7612 - accuracy: 0.0221 - val_loss: 3.7612 - val_accuracy: 0.0186 - lr: 1.2500e-04\n",
      "Epoch 37/100\n",
      "27/27 [==============================] - 5s 171ms/step - loss: 3.7612 - accuracy: 0.0221 - val_loss: 3.7612 - val_accuracy: 0.0186 - lr: 1.2500e-04\n",
      "Epoch 38/100\n",
      "27/27 [==============================] - 5s 171ms/step - loss: 3.7612 - accuracy: 0.0221 - val_loss: 3.7612 - val_accuracy: 0.0186 - lr: 1.2500e-04\n",
      "Epoch 39/100\n",
      "27/27 [==============================] - 5s 172ms/step - loss: 3.7612 - accuracy: 0.0221 - val_loss: 3.7612 - val_accuracy: 0.0186 - lr: 1.2500e-04\n",
      "Epoch 40/100\n",
      "27/27 [==============================] - 5s 170ms/step - loss: 3.7612 - accuracy: 0.0221 - val_loss: 3.7612 - val_accuracy: 0.0186 - lr: 1.2500e-04\n",
      "Epoch 41/100\n",
      "27/27 [==============================] - 5s 170ms/step - loss: 3.7612 - accuracy: 0.0221 - val_loss: 3.7612 - val_accuracy: 0.0186 - lr: 6.2500e-05\n",
      "Epoch 42/100\n",
      "27/27 [==============================] - 5s 169ms/step - loss: 3.7612 - accuracy: 0.0221 - val_loss: 3.7612 - val_accuracy: 0.0186 - lr: 6.2500e-05\n",
      "Epoch 43/100\n",
      "27/27 [==============================] - 5s 169ms/step - loss: 3.7612 - accuracy: 0.0221 - val_loss: 3.7612 - val_accuracy: 0.0186 - lr: 6.2500e-05\n",
      "Epoch 44/100\n",
      "27/27 [==============================] - 5s 170ms/step - loss: 3.7612 - accuracy: 0.0221 - val_loss: 3.7612 - val_accuracy: 0.0186 - lr: 6.2500e-05\n",
      "Epoch 45/100\n",
      "27/27 [==============================] - 5s 169ms/step - loss: 3.7612 - accuracy: 0.0221 - val_loss: 3.7612 - val_accuracy: 0.0186 - lr: 6.2500e-05\n",
      "Epoch 46/100\n",
      "27/27 [==============================] - 5s 170ms/step - loss: 3.7612 - accuracy: 0.0221 - val_loss: 3.7612 - val_accuracy: 0.0186 - lr: 6.2500e-05\n",
      "Epoch 47/100\n",
      "27/27 [==============================] - 5s 168ms/step - loss: 3.7612 - accuracy: 0.0221 - val_loss: 3.7612 - val_accuracy: 0.0186 - lr: 6.2500e-05\n",
      "Epoch 48/100\n",
      "27/27 [==============================] - 5s 170ms/step - loss: 3.7612 - accuracy: 0.0221 - val_loss: 3.7612 - val_accuracy: 0.0186 - lr: 6.2500e-05\n",
      "Epoch 49/100\n",
      "27/27 [==============================] - 5s 170ms/step - loss: 3.7612 - accuracy: 0.0221 - val_loss: 3.7612 - val_accuracy: 0.0186 - lr: 6.2500e-05\n",
      "Epoch 50/100\n",
      "27/27 [==============================] - 5s 169ms/step - loss: 3.7612 - accuracy: 0.0221 - val_loss: 3.7612 - val_accuracy: 0.0186 - lr: 6.2500e-05\n",
      "Epoch 51/100\n",
      "27/27 [==============================] - 5s 168ms/step - loss: 3.7612 - accuracy: 0.0221 - val_loss: 3.7612 - val_accuracy: 0.0186 - lr: 3.1250e-05\n",
      "Epoch 52/100\n",
      "27/27 [==============================] - 5s 171ms/step - loss: 3.7612 - accuracy: 0.0221 - val_loss: 3.7612 - val_accuracy: 0.0186 - lr: 3.1250e-05\n",
      "Epoch 53/100\n",
      "27/27 [==============================] - 5s 173ms/step - loss: 3.7612 - accuracy: 0.0221 - val_loss: 3.7612 - val_accuracy: 0.0186 - lr: 3.1250e-05\n",
      "Epoch 54/100\n",
      "27/27 [==============================] - 5s 169ms/step - loss: 3.7612 - accuracy: 0.0221 - val_loss: 3.7612 - val_accuracy: 0.0186 - lr: 3.1250e-05\n",
      "Epoch 55/100\n",
      "27/27 [==============================] - 5s 172ms/step - loss: 3.7612 - accuracy: 0.0221 - val_loss: 3.7612 - val_accuracy: 0.0186 - lr: 3.1250e-05\n",
      "Epoch 56/100\n",
      "27/27 [==============================] - 5s 169ms/step - loss: 3.7612 - accuracy: 0.0221 - val_loss: 3.7612 - val_accuracy: 0.0186 - lr: 3.1250e-05\n",
      "Epoch 57/100\n",
      "27/27 [==============================] - 5s 171ms/step - loss: 3.7612 - accuracy: 0.0221 - val_loss: 3.7612 - val_accuracy: 0.0186 - lr: 3.1250e-05\n",
      "Epoch 58/100\n",
      "27/27 [==============================] - 5s 172ms/step - loss: 3.7612 - accuracy: 0.0221 - val_loss: 3.7612 - val_accuracy: 0.0186 - lr: 3.1250e-05\n",
      "Epoch 59/100\n",
      "27/27 [==============================] - 5s 169ms/step - loss: 3.7612 - accuracy: 0.0221 - val_loss: 3.7612 - val_accuracy: 0.0186 - lr: 3.1250e-05\n",
      "Epoch 60/100\n",
      "27/27 [==============================] - 5s 170ms/step - loss: 3.7612 - accuracy: 0.0221 - val_loss: 3.7612 - val_accuracy: 0.0186 - lr: 3.1250e-05\n",
      "Epoch 61/100\n",
      "27/27 [==============================] - 5s 167ms/step - loss: 3.7612 - accuracy: 0.0221 - val_loss: 3.7612 - val_accuracy: 0.0186 - lr: 1.5625e-05\n",
      "Epoch 62/100\n",
      "27/27 [==============================] - 5s 169ms/step - loss: 3.7612 - accuracy: 0.0221 - val_loss: 3.7612 - val_accuracy: 0.0186 - lr: 1.5625e-05\n",
      "Epoch 63/100\n",
      "27/27 [==============================] - 5s 169ms/step - loss: 3.7612 - accuracy: 0.0221 - val_loss: 3.7612 - val_accuracy: 0.0186 - lr: 1.5625e-05\n",
      "Epoch 64/100\n",
      "27/27 [==============================] - 5s 171ms/step - loss: 3.7612 - accuracy: 0.0221 - val_loss: 3.7612 - val_accuracy: 0.0186 - lr: 1.5625e-05\n",
      "Epoch 65/100\n",
      "27/27 [==============================] - 5s 168ms/step - loss: 3.7612 - accuracy: 0.0221 - val_loss: 3.7612 - val_accuracy: 0.0186 - lr: 1.5625e-05\n",
      "Epoch 66/100\n",
      "27/27 [==============================] - 5s 169ms/step - loss: 3.7612 - accuracy: 0.0221 - val_loss: 3.7612 - val_accuracy: 0.0186 - lr: 1.5625e-05\n",
      "Epoch 67/100\n",
      "27/27 [==============================] - 5s 170ms/step - loss: 3.7612 - accuracy: 0.0221 - val_loss: 3.7612 - val_accuracy: 0.0186 - lr: 1.5625e-05\n",
      "Epoch 68/100\n",
      "27/27 [==============================] - 5s 192ms/step - loss: 3.7612 - accuracy: 0.0221 - val_loss: 3.7612 - val_accuracy: 0.0186 - lr: 1.5625e-05\n",
      "Epoch 69/100\n",
      "27/27 [==============================] - 5s 170ms/step - loss: 3.7612 - accuracy: 0.0221 - val_loss: 3.7612 - val_accuracy: 0.0186 - lr: 1.5625e-05\n",
      "Epoch 70/100\n",
      "27/27 [==============================] - 5s 172ms/step - loss: 3.7612 - accuracy: 0.0221 - val_loss: 3.7612 - val_accuracy: 0.0186 - lr: 1.5625e-05\n",
      "Epoch 71/100\n",
      "27/27 [==============================] - 5s 172ms/step - loss: 3.7612 - accuracy: 0.0221 - val_loss: 3.7612 - val_accuracy: 0.0186 - lr: 7.8125e-06\n",
      "Epoch 72/100\n",
      "27/27 [==============================] - 5s 170ms/step - loss: 3.7612 - accuracy: 0.0221 - val_loss: 3.7612 - val_accuracy: 0.0186 - lr: 7.8125e-06\n",
      "Epoch 73/100\n",
      "27/27 [==============================] - 5s 168ms/step - loss: 3.7612 - accuracy: 0.0221 - val_loss: 3.7612 - val_accuracy: 0.0186 - lr: 7.8125e-06\n",
      "Epoch 74/100\n",
      "27/27 [==============================] - 5s 172ms/step - loss: 3.7612 - accuracy: 0.0221 - val_loss: 3.7612 - val_accuracy: 0.0186 - lr: 7.8125e-06\n",
      "Epoch 75/100\n",
      "27/27 [==============================] - 5s 174ms/step - loss: 3.7612 - accuracy: 0.0221 - val_loss: 3.7612 - val_accuracy: 0.0186 - lr: 7.8125e-06\n",
      "Epoch 76/100\n",
      "27/27 [==============================] - 5s 178ms/step - loss: 3.7612 - accuracy: 0.0221 - val_loss: 3.7612 - val_accuracy: 0.0186 - lr: 7.8125e-06\n",
      "Epoch 77/100\n",
      "27/27 [==============================] - 5s 173ms/step - loss: 3.7612 - accuracy: 0.0221 - val_loss: 3.7612 - val_accuracy: 0.0186 - lr: 7.8125e-06\n",
      "Epoch 78/100\n",
      "27/27 [==============================] - 5s 171ms/step - loss: 3.7612 - accuracy: 0.0221 - val_loss: 3.7612 - val_accuracy: 0.0186 - lr: 7.8125e-06\n",
      "Epoch 79/100\n",
      "27/27 [==============================] - 5s 169ms/step - loss: 3.7612 - accuracy: 0.0221 - val_loss: 3.7612 - val_accuracy: 0.0186 - lr: 7.8125e-06\n",
      "Epoch 80/100\n",
      "27/27 [==============================] - 5s 169ms/step - loss: 3.7612 - accuracy: 0.0221 - val_loss: 3.7612 - val_accuracy: 0.0186 - lr: 7.8125e-06\n",
      "Epoch 81/100\n",
      "27/27 [==============================] - 5s 171ms/step - loss: 3.7612 - accuracy: 0.0221 - val_loss: 3.7612 - val_accuracy: 0.0186 - lr: 3.9063e-06\n",
      "Epoch 82/100\n",
      "27/27 [==============================] - 5s 174ms/step - loss: 3.7612 - accuracy: 0.0221 - val_loss: 3.7612 - val_accuracy: 0.0186 - lr: 3.9063e-06\n",
      "Epoch 83/100\n",
      "27/27 [==============================] - 5s 171ms/step - loss: 3.7612 - accuracy: 0.0221 - val_loss: 3.7612 - val_accuracy: 0.0186 - lr: 3.9063e-06\n",
      "Epoch 84/100\n",
      "27/27 [==============================] - 5s 170ms/step - loss: 3.7612 - accuracy: 0.0221 - val_loss: 3.7612 - val_accuracy: 0.0186 - lr: 3.9063e-06\n",
      "Epoch 85/100\n",
      "27/27 [==============================] - 5s 169ms/step - loss: 3.7612 - accuracy: 0.0221 - val_loss: 3.7612 - val_accuracy: 0.0186 - lr: 3.9063e-06\n",
      "Epoch 86/100\n",
      "27/27 [==============================] - 6s 220ms/step - loss: 3.7612 - accuracy: 0.0221 - val_loss: 3.7612 - val_accuracy: 0.0186 - lr: 3.9063e-06\n",
      "Epoch 87/100\n",
      "27/27 [==============================] - 5s 169ms/step - loss: 3.7612 - accuracy: 0.0221 - val_loss: 3.7612 - val_accuracy: 0.0186 - lr: 3.9063e-06\n",
      "Epoch 88/100\n",
      "27/27 [==============================] - 5s 170ms/step - loss: 3.7612 - accuracy: 0.0221 - val_loss: 3.7612 - val_accuracy: 0.0186 - lr: 3.9063e-06\n",
      "Epoch 89/100\n",
      "27/27 [==============================] - 5s 171ms/step - loss: 3.7612 - accuracy: 0.0221 - val_loss: 3.7612 - val_accuracy: 0.0186 - lr: 3.9063e-06\n",
      "Epoch 90/100\n",
      "27/27 [==============================] - 5s 171ms/step - loss: 3.7612 - accuracy: 0.0221 - val_loss: 3.7612 - val_accuracy: 0.0186 - lr: 3.9063e-06\n",
      "Epoch 91/100\n",
      "27/27 [==============================] - 5s 168ms/step - loss: 3.7612 - accuracy: 0.0221 - val_loss: 3.7612 - val_accuracy: 0.0186 - lr: 1.9531e-06\n",
      "Epoch 92/100\n",
      "27/27 [==============================] - 5s 169ms/step - loss: 3.7612 - accuracy: 0.0221 - val_loss: 3.7612 - val_accuracy: 0.0186 - lr: 1.9531e-06\n",
      "Epoch 93/100\n",
      "27/27 [==============================] - 5s 169ms/step - loss: 3.7612 - accuracy: 0.0221 - val_loss: 3.7612 - val_accuracy: 0.0186 - lr: 1.9531e-06\n",
      "Epoch 94/100\n",
      "27/27 [==============================] - 5s 168ms/step - loss: 3.7612 - accuracy: 0.0221 - val_loss: 3.7612 - val_accuracy: 0.0186 - lr: 1.9531e-06\n",
      "Epoch 95/100\n",
      "27/27 [==============================] - 5s 169ms/step - loss: 3.7612 - accuracy: 0.0221 - val_loss: 3.7612 - val_accuracy: 0.0186 - lr: 1.9531e-06\n",
      "Epoch 96/100\n",
      "27/27 [==============================] - 5s 168ms/step - loss: 3.7612 - accuracy: 0.0221 - val_loss: 3.7612 - val_accuracy: 0.0186 - lr: 1.9531e-06\n",
      "Epoch 97/100\n",
      "27/27 [==============================] - 5s 170ms/step - loss: 3.7612 - accuracy: 0.0221 - val_loss: 3.7612 - val_accuracy: 0.0186 - lr: 1.9531e-06\n",
      "Epoch 98/100\n",
      "27/27 [==============================] - 5s 168ms/step - loss: 3.7612 - accuracy: 0.0221 - val_loss: 3.7612 - val_accuracy: 0.0186 - lr: 1.9531e-06\n",
      "Epoch 99/100\n",
      "27/27 [==============================] - 5s 169ms/step - loss: 3.7612 - accuracy: 0.0221 - val_loss: 3.7612 - val_accuracy: 0.0186 - lr: 1.9531e-06\n",
      "Epoch 100/100\n",
      "27/27 [==============================] - 5s 172ms/step - loss: 3.7612 - accuracy: 0.0221 - val_loss: 3.7612 - val_accuracy: 0.0186 - lr: 1.9531e-06\n"
     ]
    }
   ],
   "source": [
    "history_step = model.fit(x=train_dataset_batched, \n",
    "                         epochs=model_params[MODEL_NAME]['epochs'],\n",
    "                         batch_size=model_params[DATASET_NAME]['batch_size'],\n",
    "                         validation_data=validation_dataset_batched,\n",
    "                         callbacks=callbacks,\n",
    "                         shuffle=True\n",
    ")"
   ]
  },
  {
   "cell_type": "code",
   "execution_count": 68,
   "id": "4BBovrsfgpth",
   "metadata": {
    "id": "4BBovrsfgpth"
   },
   "outputs": [],
   "source": [
    "### Plot the loss, accuracy and LR decay (if using callbacks)"
   ]
  },
  {
   "cell_type": "code",
   "execution_count": 69,
   "id": "wJzIFiTBgpoj",
   "metadata": {
    "colab": {
     "base_uri": "https://localhost:8080/",
     "height": 369
    },
    "id": "wJzIFiTBgpoj",
    "outputId": "efe8ad09-0e3e-42c7-b467-2d2c8640c02c"
   },
   "outputs": [
    {
     "data": {
      "image/png": "[encoded data removed]",
      "text/plain": [
       "<Figure size 1080x360 with 3 Axes>"
      ]
     },
     "metadata": {
      "needs_background": "light"
     },
     "output_type": "display_data"
    }
   ],
   "source": [
    "display_metrics(history_step)"
   ]
  },
  {
   "cell_type": "markdown",
   "id": "IE-vfNlGvXOz",
   "metadata": {
    "id": "IE-vfNlGvXOz"
   },
   "source": [
    "###### Lightweight CNN"
   ]
  },
  {
   "cell_type": "code",
   "execution_count": 70,
   "id": "eJuk9hYewpOc",
   "metadata": {
    "id": "eJuk9hYewpOc"
   },
   "outputs": [],
   "source": [
    "MODEL_NAME = 'Custom_LeNet-5'"
   ]
  },
  {
   "cell_type": "code",
   "execution_count": 71,
   "id": "aOVLTeNmxI__",
   "metadata": {
    "id": "aOVLTeNmxI__"
   },
   "outputs": [],
   "source": [
    "EPOCHS = 30"
   ]
  },
  {
   "cell_type": "code",
   "execution_count": 72,
   "id": "_Ug2e6t_xLdO",
   "metadata": {
    "id": "_Ug2e6t_xLdO"
   },
   "outputs": [],
   "source": [
    "model_params[MODEL_NAME].update({'epochs': EPOCHS})"
   ]
  },
  {
   "cell_type": "code",
   "execution_count": 73,
   "id": "JC4rWoogveNp",
   "metadata": {
    "id": "JC4rWoogveNp"
   },
   "outputs": [],
   "source": [
    "### Initialise the LR logger and custom callbacks\n",
    "logger = LrLogger()\n",
    "callbacks = [logger]"
   ]
  },
  {
   "cell_type": "code",
   "execution_count": 74,
   "id": "flLo7QBjvuXO",
   "metadata": {
    "id": "flLo7QBjvuXO"
   },
   "outputs": [],
   "source": [
    "### Instantiate the custom CNN model\n",
    "model = create_custom_network(\n",
    "            input_shape=model_params[DATASET_NAME]['input_shape'],\n",
    "            output_shape=model_params[DATASET_NAME]['n_classes'],\n",
    "            model_name=model_params[MODEL_NAME]['model_name']\n",
    ")"
   ]
  },
  {
   "cell_type": "code",
   "execution_count": 75,
   "id": "wB90DTZ6veI-",
   "metadata": {
    "id": "wB90DTZ6veI-"
   },
   "outputs": [],
   "source": [
    "### Compile the model with a custom `step_decay` LR schedule\n",
    "model, callbacks = step_decay(model, callbacks=callbacks, initial_lr=0.001)"
   ]
  },
  {
   "cell_type": "code",
   "execution_count": 76,
   "id": "Ka0kEs34vd_m",
   "metadata": {
    "id": "Ka0kEs34vd_m"
   },
   "outputs": [],
   "source": [
    "### Fitting the model on the train data and passing in our callbacks"
   ]
  },
  {
   "cell_type": "code",
   "execution_count": 77,
   "id": "O-RD80Yhvd22",
   "metadata": {
    "colab": {
     "base_uri": "https://localhost:8080/"
    },
    "id": "O-RD80Yhvd22",
    "outputId": "f2f3ffa0-dae4-4424-c55e-10b55bedc2ac"
   },
   "outputs": [
    {
     "name": "stderr",
     "output_type": "stream",
     "text": [
      "2022-09-29 20:03:05,429 INFO     Training for 30 epochs using /content/data/GTSRB/Final_Training/Images data\n",
      "2022-09-29 20:03:05,429 INFO     Training for 30 epochs using /content/data/GTSRB/Final_Training/Images data\n",
      "2022-09-29 20:03:05,429 INFO     Training for 30 epochs using /content/data/GTSRB/Final_Training/Images data\n"
     ]
    }
   ],
   "source": [
    "logger_step.info(f\"Training for {model_params[MODEL_NAME]['epochs']} \" +\n",
    "                 f\"epochs using {model_params[DATASET_NAME]['imdir']} data\")"
   ]
  },
  {
   "cell_type": "code",
   "execution_count": 78,
   "id": "ErC4di7rxSyF",
   "metadata": {
    "colab": {
     "base_uri": "https://localhost:8080/"
    },
    "id": "ErC4di7rxSyF",
    "outputId": "0b8366cb-cc99-4232-affc-3d6d88914e22"
   },
   "outputs": [
    {
     "name": "stdout",
     "output_type": "stream",
     "text": [
      "Epoch 1/30\n",
      "27/27 [==============================] - 7s 221ms/step - loss: 4.5847 - accuracy: 0.0564 - val_loss: 3.6051 - val_accuracy: 0.0721 - lr: 0.0010\n",
      "Epoch 2/30\n",
      "27/27 [==============================] - 5s 181ms/step - loss: 3.1174 - accuracy: 0.2253 - val_loss: 3.5284 - val_accuracy: 0.1105 - lr: 0.0010\n",
      "Epoch 3/30\n",
      "27/27 [==============================] - 5s 181ms/step - loss: 1.9850 - accuracy: 0.4465 - val_loss: 3.4973 - val_accuracy: 0.1035 - lr: 0.0010\n",
      "Epoch 4/30\n",
      "27/27 [==============================] - 5s 180ms/step - loss: 1.3525 - accuracy: 0.6026 - val_loss: 3.5775 - val_accuracy: 0.0721 - lr: 0.0010\n",
      "Epoch 5/30\n",
      "27/27 [==============================] - 5s 182ms/step - loss: 0.9963 - accuracy: 0.6948 - val_loss: 3.4962 - val_accuracy: 0.1314 - lr: 0.0010\n",
      "Epoch 6/30\n",
      "27/27 [==============================] - 5s 180ms/step - loss: 0.7584 - accuracy: 0.7698 - val_loss: 3.5891 - val_accuracy: 0.0756 - lr: 0.0010\n",
      "Epoch 7/30\n",
      "27/27 [==============================] - 5s 179ms/step - loss: 0.6043 - accuracy: 0.8189 - val_loss: 3.1540 - val_accuracy: 0.1919 - lr: 0.0010\n",
      "Epoch 8/30\n",
      "27/27 [==============================] - 5s 180ms/step - loss: 0.4888 - accuracy: 0.8506 - val_loss: 3.2862 - val_accuracy: 0.1895 - lr: 0.0010\n",
      "Epoch 9/30\n",
      "27/27 [==============================] - 5s 180ms/step - loss: 0.3944 - accuracy: 0.8776 - val_loss: 2.8854 - val_accuracy: 0.2814 - lr: 0.0010\n",
      "Epoch 10/30\n",
      "27/27 [==============================] - 5s 180ms/step - loss: 0.3359 - accuracy: 0.8974 - val_loss: 2.6602 - val_accuracy: 0.3465 - lr: 0.0010\n",
      "Epoch 11/30\n",
      "27/27 [==============================] - 5s 179ms/step - loss: 0.2642 - accuracy: 0.9250 - val_loss: 2.2782 - val_accuracy: 0.4035 - lr: 5.0000e-04\n",
      "Epoch 12/30\n",
      "27/27 [==============================] - 5s 176ms/step - loss: 0.2437 - accuracy: 0.9276 - val_loss: 2.2869 - val_accuracy: 0.3953 - lr: 5.0000e-04\n",
      "Epoch 13/30\n",
      "27/27 [==============================] - 5s 180ms/step - loss: 0.2235 - accuracy: 0.9352 - val_loss: 1.7492 - val_accuracy: 0.5488 - lr: 5.0000e-04\n",
      "Epoch 14/30\n",
      "27/27 [==============================] - 5s 178ms/step - loss: 0.2074 - accuracy: 0.9387 - val_loss: 1.6922 - val_accuracy: 0.5477 - lr: 5.0000e-04\n",
      "Epoch 15/30\n",
      "27/27 [==============================] - 5s 181ms/step - loss: 0.1859 - accuracy: 0.9515 - val_loss: 1.1195 - val_accuracy: 0.7523 - lr: 5.0000e-04\n",
      "Epoch 16/30\n",
      "27/27 [==============================] - 5s 179ms/step - loss: 0.1724 - accuracy: 0.9512 - val_loss: 0.8076 - val_accuracy: 0.8407 - lr: 5.0000e-04\n",
      "Epoch 17/30\n",
      "27/27 [==============================] - 5s 179ms/step - loss: 0.1741 - accuracy: 0.9520 - val_loss: 0.8504 - val_accuracy: 0.8128 - lr: 5.0000e-04\n",
      "Epoch 18/30\n",
      "27/27 [==============================] - 5s 180ms/step - loss: 0.1540 - accuracy: 0.9570 - val_loss: 0.5619 - val_accuracy: 0.8884 - lr: 5.0000e-04\n",
      "Epoch 19/30\n",
      "27/27 [==============================] - 7s 258ms/step - loss: 0.1480 - accuracy: 0.9570 - val_loss: 0.4051 - val_accuracy: 0.9221 - lr: 5.0000e-04\n",
      "Epoch 20/30\n",
      "27/27 [==============================] - 5s 179ms/step - loss: 0.1388 - accuracy: 0.9645 - val_loss: 0.2591 - val_accuracy: 0.9547 - lr: 5.0000e-04\n",
      "Epoch 21/30\n",
      "27/27 [==============================] - 5s 180ms/step - loss: 0.1311 - accuracy: 0.9616 - val_loss: 0.1835 - val_accuracy: 0.9640 - lr: 2.5000e-04\n",
      "Epoch 22/30\n",
      "27/27 [==============================] - 5s 182ms/step - loss: 0.1019 - accuracy: 0.9747 - val_loss: 0.1433 - val_accuracy: 0.9721 - lr: 2.5000e-04\n",
      "Epoch 23/30\n",
      "27/27 [==============================] - 5s 180ms/step - loss: 0.1115 - accuracy: 0.9680 - val_loss: 0.1397 - val_accuracy: 0.9698 - lr: 2.5000e-04\n",
      "Epoch 24/30\n",
      "27/27 [==============================] - 5s 178ms/step - loss: 0.1009 - accuracy: 0.9747 - val_loss: 0.1231 - val_accuracy: 0.9733 - lr: 2.5000e-04\n",
      "Epoch 25/30\n",
      "27/27 [==============================] - 5s 177ms/step - loss: 0.0923 - accuracy: 0.9785 - val_loss: 0.1025 - val_accuracy: 0.9733 - lr: 2.5000e-04\n",
      "Epoch 26/30\n",
      "27/27 [==============================] - 5s 182ms/step - loss: 0.0999 - accuracy: 0.9727 - val_loss: 0.0926 - val_accuracy: 0.9802 - lr: 2.5000e-04\n",
      "Epoch 27/30\n",
      "27/27 [==============================] - 5s 177ms/step - loss: 0.0893 - accuracy: 0.9797 - val_loss: 0.0935 - val_accuracy: 0.9791 - lr: 2.5000e-04\n",
      "Epoch 28/30\n",
      "27/27 [==============================] - 5s 183ms/step - loss: 0.0877 - accuracy: 0.9779 - val_loss: 0.0862 - val_accuracy: 0.9802 - lr: 2.5000e-04\n",
      "Epoch 29/30\n",
      "27/27 [==============================] - 6s 199ms/step - loss: 0.0885 - accuracy: 0.9794 - val_loss: 0.0772 - val_accuracy: 0.9814 - lr: 2.5000e-04\n",
      "Epoch 30/30\n",
      "27/27 [==============================] - 5s 179ms/step - loss: 0.0890 - accuracy: 0.9741 - val_loss: 0.0898 - val_accuracy: 0.9756 - lr: 2.5000e-04\n"
     ]
    }
   ],
   "source": [
    "history_step = model.fit(x=train_dataset_batched, \n",
    "                         epochs=model_params[MODEL_NAME]['epochs'],\n",
    "                         batch_size=model_params[DATASET_NAME]['batch_size'],\n",
    "                         validation_data=validation_dataset_batched,\n",
    "                         callbacks=callbacks,\n",
    "                         shuffle=True\n",
    ")"
   ]
  },
  {
   "cell_type": "code",
   "execution_count": 79,
   "id": "xluSaA6ExcCF",
   "metadata": {
    "id": "xluSaA6ExcCF"
   },
   "outputs": [],
   "source": [
    "### Plot the loss, accuracy and LR decay (if using callbacks)"
   ]
  },
  {
   "cell_type": "code",
   "execution_count": 80,
   "id": "uNWkg8BJxcos",
   "metadata": {
    "colab": {
     "base_uri": "https://localhost:8080/",
     "height": 369
    },
    "id": "uNWkg8BJxcos",
    "outputId": "e4bc931f-aab3-4b3f-a5d9-cb6c0e866493"
   },
   "outputs": [
    {
     "data": {
      "image/png": "[encoded data removed]",
      "text/plain": [
       "<Figure size 1080x360 with 3 Axes>"
      ]
     },
     "metadata": {
      "needs_background": "light"
     },
     "output_type": "display_data"
    }
   ],
   "source": [
    "display_metrics(history_step)"
   ]
  },
  {
   "cell_type": "markdown",
   "id": "QmeANnbBgkMI",
   "metadata": {
    "id": "QmeANnbBgkMI"
   },
   "source": [
    "##### Exponential Decay"
   ]
  },
  {
   "cell_type": "markdown",
   "id": "vTzF4yc7xy4j",
   "metadata": {
    "id": "vTzF4yc7xy4j"
   },
   "source": [
    "###### Simple ConvNet"
   ]
  },
  {
   "cell_type": "code",
   "execution_count": 81,
   "id": "h9qw3jgHxyDy",
   "metadata": {
    "id": "h9qw3jgHxyDy"
   },
   "outputs": [],
   "source": [
    "MODEL_NAME = 'ConvNet'"
   ]
  },
  {
   "cell_type": "code",
   "execution_count": 82,
   "id": "U32h7OeYniEx",
   "metadata": {
    "id": "U32h7OeYniEx"
   },
   "outputs": [],
   "source": [
    "### Initialise the LR logger and custom callbacks\n",
    "logger = LrLogger()"
   ]
  },
  {
   "cell_type": "code",
   "execution_count": 83,
   "id": "o4t3-gvcgNDs",
   "metadata": {
    "id": "o4t3-gvcgNDs"
   },
   "outputs": [],
   "source": [
    "### Create a list of all desired TensorFlow Keras callbacks\n",
    "callbacks = [logger]"
   ]
  },
  {
   "cell_type": "code",
   "execution_count": 84,
   "id": "ri_wk1n3gM5E",
   "metadata": {
    "id": "ri_wk1n3gM5E"
   },
   "outputs": [],
   "source": [
    "### Compile the model with a Keras `ExponentialDecay` LR schedule\n",
    "model = create_network(inputs, outputs)\n",
    "model, callbacks = exponential_decay(model, callbacks=callbacks, initial_lr=0.1)"
   ]
  },
  {
   "cell_type": "code",
   "execution_count": 85,
   "id": "LuyhC1tUgxYD",
   "metadata": {
    "id": "LuyhC1tUgxYD"
   },
   "outputs": [],
   "source": [
    "### Fitting the model on the train data and passing in our callbacks"
   ]
  },
  {
   "cell_type": "code",
   "execution_count": 86,
   "id": "8ce029a7",
   "metadata": {
    "colab": {
     "base_uri": "https://localhost:8080/"
    },
    "id": "8ce029a7",
    "outputId": "91898351-ab07-40a6-aa4f-5dca16818c92"
   },
   "outputs": [
    {
     "name": "stderr",
     "output_type": "stream",
     "text": [
      "2022-09-29 20:05:46,734 INFO     Training for 100 epochs using /content/data/GTSRB/Final_Training/Images data\n",
      "INFO:exponential_decay:Training for 100 epochs using /content/data/GTSRB/Final_Training/Images data\n"
     ]
    }
   ],
   "source": [
    "logger_exp.info(f\"Training for {model_params[MODEL_NAME]['epochs']} \" +\n",
    "                 f\"epochs using {model_params[DATASET_NAME]['imdir']} data\")"
   ]
  },
  {
   "cell_type": "code",
   "execution_count": 87,
   "id": "8EQ-bVc8gxNl",
   "metadata": {
    "colab": {
     "base_uri": "https://localhost:8080/"
    },
    "id": "8EQ-bVc8gxNl",
    "outputId": "6210358b-046a-4287-89f0-f1c8fd655cf2"
   },
   "outputs": [
    {
     "name": "stdout",
     "output_type": "stream",
     "text": [
      "Epoch 1/100\n",
      "27/27 [==============================] - 5s 176ms/step - loss: 15.5693 - accuracy: 0.0224 - val_loss: 15.8295 - val_accuracy: 0.0244\n",
      "Epoch 2/100\n",
      "27/27 [==============================] - 5s 169ms/step - loss: 15.6186 - accuracy: 0.0230 - val_loss: 15.8295 - val_accuracy: 0.0244\n",
      "Epoch 3/100\n",
      "27/27 [==============================] - 5s 187ms/step - loss: 15.6186 - accuracy: 0.0230 - val_loss: 15.8295 - val_accuracy: 0.0244\n",
      "Epoch 4/100\n",
      "27/27 [==============================] - 5s 174ms/step - loss: 15.6187 - accuracy: 0.0230 - val_loss: 15.8295 - val_accuracy: 0.0244\n",
      "Epoch 5/100\n",
      "27/27 [==============================] - 5s 176ms/step - loss: 15.6187 - accuracy: 0.0230 - val_loss: 15.8295 - val_accuracy: 0.0244\n",
      "Epoch 6/100\n",
      "27/27 [==============================] - 5s 178ms/step - loss: 15.6186 - accuracy: 0.0230 - val_loss: 15.8295 - val_accuracy: 0.0244\n",
      "Epoch 7/100\n",
      "27/27 [==============================] - 5s 172ms/step - loss: 15.6186 - accuracy: 0.0230 - val_loss: 15.8295 - val_accuracy: 0.0244\n",
      "Epoch 8/100\n",
      "27/27 [==============================] - 5s 169ms/step - loss: 15.6186 - accuracy: 0.0230 - val_loss: 15.8295 - val_accuracy: 0.0244\n",
      "Epoch 9/100\n",
      "27/27 [==============================] - 5s 169ms/step - loss: 15.6186 - accuracy: 0.0230 - val_loss: 15.8295 - val_accuracy: 0.0244\n",
      "Epoch 10/100\n",
      "27/27 [==============================] - 5s 185ms/step - loss: 15.6186 - accuracy: 0.0230 - val_loss: 15.8295 - val_accuracy: 0.0244\n",
      "Epoch 11/100\n",
      "27/27 [==============================] - 5s 180ms/step - loss: 15.6186 - accuracy: 0.0230 - val_loss: 15.8295 - val_accuracy: 0.0244\n",
      "Epoch 12/100\n",
      "27/27 [==============================] - 5s 169ms/step - loss: 15.6186 - accuracy: 0.0230 - val_loss: 15.8295 - val_accuracy: 0.0244\n",
      "Epoch 13/100\n",
      "27/27 [==============================] - 5s 170ms/step - loss: 15.6186 - accuracy: 0.0230 - val_loss: 15.8295 - val_accuracy: 0.0244\n",
      "Epoch 14/100\n",
      "27/27 [==============================] - 5s 173ms/step - loss: 15.6186 - accuracy: 0.0230 - val_loss: 15.8295 - val_accuracy: 0.0244\n",
      "Epoch 15/100\n",
      "27/27 [==============================] - 5s 170ms/step - loss: 15.6186 - accuracy: 0.0230 - val_loss: 15.8295 - val_accuracy: 0.0244\n",
      "Epoch 16/100\n",
      "27/27 [==============================] - 5s 168ms/step - loss: 15.6186 - accuracy: 0.0230 - val_loss: 15.8295 - val_accuracy: 0.0244\n",
      "Epoch 17/100\n",
      "27/27 [==============================] - 5s 170ms/step - loss: 15.6186 - accuracy: 0.0230 - val_loss: 15.8295 - val_accuracy: 0.0244\n",
      "Epoch 18/100\n",
      "27/27 [==============================] - 5s 170ms/step - loss: 15.6186 - accuracy: 0.0230 - val_loss: 15.8295 - val_accuracy: 0.0244\n",
      "Epoch 19/100\n",
      "27/27 [==============================] - 5s 169ms/step - loss: 15.6186 - accuracy: 0.0230 - val_loss: 15.8295 - val_accuracy: 0.0244\n",
      "Epoch 20/100\n",
      "27/27 [==============================] - 5s 169ms/step - loss: 15.6187 - accuracy: 0.0230 - val_loss: 15.8295 - val_accuracy: 0.0244\n",
      "Epoch 21/100\n",
      "27/27 [==============================] - 5s 168ms/step - loss: 15.6186 - accuracy: 0.0230 - val_loss: 15.8295 - val_accuracy: 0.0244\n",
      "Epoch 22/100\n",
      "27/27 [==============================] - 5s 168ms/step - loss: 15.6186 - accuracy: 0.0230 - val_loss: 15.8295 - val_accuracy: 0.0244\n",
      "Epoch 23/100\n",
      "27/27 [==============================] - 5s 168ms/step - loss: 15.6186 - accuracy: 0.0230 - val_loss: 15.8295 - val_accuracy: 0.0244\n",
      "Epoch 24/100\n",
      "27/27 [==============================] - 5s 168ms/step - loss: 15.6187 - accuracy: 0.0230 - val_loss: 15.8295 - val_accuracy: 0.0244\n",
      "Epoch 25/100\n",
      "27/27 [==============================] - 5s 170ms/step - loss: 15.6186 - accuracy: 0.0230 - val_loss: 15.8295 - val_accuracy: 0.0244\n",
      "Epoch 26/100\n",
      "27/27 [==============================] - 5s 172ms/step - loss: 15.6186 - accuracy: 0.0230 - val_loss: 15.8295 - val_accuracy: 0.0244\n",
      "Epoch 27/100\n",
      "27/27 [==============================] - 5s 169ms/step - loss: 15.6186 - accuracy: 0.0230 - val_loss: 15.8295 - val_accuracy: 0.0244\n",
      "Epoch 28/100\n",
      "27/27 [==============================] - 5s 172ms/step - loss: 15.6187 - accuracy: 0.0230 - val_loss: 15.8295 - val_accuracy: 0.0244\n",
      "Epoch 29/100\n",
      "27/27 [==============================] - 5s 169ms/step - loss: 15.6187 - accuracy: 0.0230 - val_loss: 15.8295 - val_accuracy: 0.0244\n",
      "Epoch 30/100\n",
      "27/27 [==============================] - 5s 171ms/step - loss: 15.6186 - accuracy: 0.0230 - val_loss: 15.8295 - val_accuracy: 0.0244\n",
      "Epoch 31/100\n",
      "27/27 [==============================] - 5s 170ms/step - loss: 15.6186 - accuracy: 0.0230 - val_loss: 15.8295 - val_accuracy: 0.0244\n",
      "Epoch 32/100\n",
      "27/27 [==============================] - 5s 171ms/step - loss: 15.6186 - accuracy: 0.0230 - val_loss: 15.8295 - val_accuracy: 0.0244\n",
      "Epoch 33/100\n",
      "27/27 [==============================] - 5s 168ms/step - loss: 15.6187 - accuracy: 0.0230 - val_loss: 15.8295 - val_accuracy: 0.0244\n",
      "Epoch 34/100\n",
      "27/27 [==============================] - 5s 168ms/step - loss: 15.6187 - accuracy: 0.0230 - val_loss: 15.8295 - val_accuracy: 0.0244\n",
      "Epoch 35/100\n",
      "27/27 [==============================] - 5s 173ms/step - loss: 15.6187 - accuracy: 0.0230 - val_loss: 15.8295 - val_accuracy: 0.0244\n",
      "Epoch 36/100\n",
      "27/27 [==============================] - 5s 170ms/step - loss: 15.6186 - accuracy: 0.0230 - val_loss: 15.8295 - val_accuracy: 0.0244\n",
      "Epoch 37/100\n",
      "27/27 [==============================] - 5s 191ms/step - loss: 15.6186 - accuracy: 0.0230 - val_loss: 15.8295 - val_accuracy: 0.0244\n",
      "Epoch 38/100\n",
      "27/27 [==============================] - 5s 169ms/step - loss: 15.6186 - accuracy: 0.0230 - val_loss: 15.8295 - val_accuracy: 0.0244\n",
      "Epoch 39/100\n",
      "27/27 [==============================] - 5s 171ms/step - loss: 15.6186 - accuracy: 0.0230 - val_loss: 15.8295 - val_accuracy: 0.0244\n",
      "Epoch 40/100\n",
      "27/27 [==============================] - 5s 171ms/step - loss: 15.6187 - accuracy: 0.0230 - val_loss: 15.8295 - val_accuracy: 0.0244\n",
      "Epoch 41/100\n",
      "27/27 [==============================] - 5s 173ms/step - loss: 15.6186 - accuracy: 0.0230 - val_loss: 15.8295 - val_accuracy: 0.0244\n",
      "Epoch 42/100\n",
      "27/27 [==============================] - 5s 168ms/step - loss: 15.6186 - accuracy: 0.0230 - val_loss: 15.8295 - val_accuracy: 0.0244\n",
      "Epoch 43/100\n",
      "27/27 [==============================] - 5s 170ms/step - loss: 15.6186 - accuracy: 0.0230 - val_loss: 15.8295 - val_accuracy: 0.0244\n",
      "Epoch 44/100\n",
      "27/27 [==============================] - 5s 169ms/step - loss: 15.6186 - accuracy: 0.0230 - val_loss: 15.8295 - val_accuracy: 0.0244\n",
      "Epoch 45/100\n",
      "27/27 [==============================] - 5s 172ms/step - loss: 15.6186 - accuracy: 0.0230 - val_loss: 15.8295 - val_accuracy: 0.0244\n",
      "Epoch 46/100\n",
      "27/27 [==============================] - 5s 169ms/step - loss: 15.6187 - accuracy: 0.0230 - val_loss: 15.8295 - val_accuracy: 0.0244\n",
      "Epoch 47/100\n",
      "27/27 [==============================] - 5s 168ms/step - loss: 15.6186 - accuracy: 0.0230 - val_loss: 15.8295 - val_accuracy: 0.0244\n",
      "Epoch 48/100\n",
      "27/27 [==============================] - 5s 166ms/step - loss: 15.6187 - accuracy: 0.0230 - val_loss: 15.8295 - val_accuracy: 0.0244\n",
      "Epoch 49/100\n",
      "27/27 [==============================] - 5s 169ms/step - loss: 15.6186 - accuracy: 0.0230 - val_loss: 15.8295 - val_accuracy: 0.0244\n",
      "Epoch 50/100\n",
      "27/27 [==============================] - 6s 220ms/step - loss: 15.6186 - accuracy: 0.0230 - val_loss: 15.8295 - val_accuracy: 0.0244\n",
      "Epoch 51/100\n",
      "27/27 [==============================] - 5s 170ms/step - loss: 15.6186 - accuracy: 0.0230 - val_loss: 15.8295 - val_accuracy: 0.0244\n",
      "Epoch 52/100\n",
      "27/27 [==============================] - 5s 172ms/step - loss: 15.6186 - accuracy: 0.0230 - val_loss: 15.8295 - val_accuracy: 0.0244\n",
      "Epoch 53/100\n",
      "27/27 [==============================] - 5s 170ms/step - loss: 15.6187 - accuracy: 0.0230 - val_loss: 15.8295 - val_accuracy: 0.0244\n",
      "Epoch 54/100\n",
      "27/27 [==============================] - 5s 169ms/step - loss: 15.6186 - accuracy: 0.0230 - val_loss: 15.8295 - val_accuracy: 0.0244\n",
      "Epoch 55/100\n",
      "27/27 [==============================] - 6s 220ms/step - loss: 15.6186 - accuracy: 0.0230 - val_loss: 15.8295 - val_accuracy: 0.0244\n",
      "Epoch 56/100\n",
      "27/27 [==============================] - 5s 167ms/step - loss: 15.6187 - accuracy: 0.0230 - val_loss: 15.8295 - val_accuracy: 0.0244\n",
      "Epoch 57/100\n",
      "27/27 [==============================] - 5s 169ms/step - loss: 15.6186 - accuracy: 0.0230 - val_loss: 15.8295 - val_accuracy: 0.0244\n",
      "Epoch 58/100\n",
      "27/27 [==============================] - 5s 169ms/step - loss: 15.6187 - accuracy: 0.0230 - val_loss: 15.8295 - val_accuracy: 0.0244\n",
      "Epoch 59/100\n",
      "27/27 [==============================] - 5s 169ms/step - loss: 15.6187 - accuracy: 0.0230 - val_loss: 15.8295 - val_accuracy: 0.0244\n",
      "Epoch 60/100\n",
      "27/27 [==============================] - 5s 168ms/step - loss: 15.6186 - accuracy: 0.0230 - val_loss: 15.8295 - val_accuracy: 0.0244\n",
      "Epoch 61/100\n",
      "27/27 [==============================] - 5s 166ms/step - loss: 15.6186 - accuracy: 0.0230 - val_loss: 15.8295 - val_accuracy: 0.0244\n",
      "Epoch 62/100\n",
      "27/27 [==============================] - 5s 167ms/step - loss: 15.6186 - accuracy: 0.0230 - val_loss: 15.8295 - val_accuracy: 0.0244\n",
      "Epoch 63/100\n",
      "27/27 [==============================] - 5s 172ms/step - loss: 15.6186 - accuracy: 0.0230 - val_loss: 15.8295 - val_accuracy: 0.0244\n",
      "Epoch 64/100\n",
      "27/27 [==============================] - 5s 168ms/step - loss: 15.6187 - accuracy: 0.0230 - val_loss: 15.8295 - val_accuracy: 0.0244\n",
      "Epoch 65/100\n",
      "27/27 [==============================] - 5s 169ms/step - loss: 15.6186 - accuracy: 0.0230 - val_loss: 15.8295 - val_accuracy: 0.0244\n",
      "Epoch 66/100\n",
      "27/27 [==============================] - 5s 169ms/step - loss: 15.6187 - accuracy: 0.0230 - val_loss: 15.8295 - val_accuracy: 0.0244\n",
      "Epoch 67/100\n",
      "27/27 [==============================] - 5s 170ms/step - loss: 15.6187 - accuracy: 0.0230 - val_loss: 15.8295 - val_accuracy: 0.0244\n",
      "Epoch 68/100\n",
      "27/27 [==============================] - 5s 176ms/step - loss: 15.6186 - accuracy: 0.0230 - val_loss: 15.8295 - val_accuracy: 0.0244\n",
      "Epoch 69/100\n",
      "27/27 [==============================] - 5s 175ms/step - loss: 15.6187 - accuracy: 0.0230 - val_loss: 15.8295 - val_accuracy: 0.0244\n",
      "Epoch 70/100\n",
      "27/27 [==============================] - 5s 195ms/step - loss: 15.6187 - accuracy: 0.0230 - val_loss: 15.8295 - val_accuracy: 0.0244\n",
      "Epoch 71/100\n",
      "27/27 [==============================] - 5s 171ms/step - loss: 15.6187 - accuracy: 0.0230 - val_loss: 15.8295 - val_accuracy: 0.0244\n",
      "Epoch 72/100\n",
      "27/27 [==============================] - 5s 170ms/step - loss: 15.6186 - accuracy: 0.0230 - val_loss: 15.8295 - val_accuracy: 0.0244\n",
      "Epoch 73/100\n",
      "27/27 [==============================] - 5s 171ms/step - loss: 15.6186 - accuracy: 0.0230 - val_loss: 15.8295 - val_accuracy: 0.0244\n",
      "Epoch 74/100\n",
      "27/27 [==============================] - 5s 171ms/step - loss: 15.6187 - accuracy: 0.0230 - val_loss: 15.8295 - val_accuracy: 0.0244\n",
      "Epoch 75/100\n",
      "27/27 [==============================] - 5s 169ms/step - loss: 15.6186 - accuracy: 0.0230 - val_loss: 15.8295 - val_accuracy: 0.0244\n",
      "Epoch 76/100\n",
      "27/27 [==============================] - 5s 167ms/step - loss: 15.6187 - accuracy: 0.0230 - val_loss: 15.8295 - val_accuracy: 0.0244\n",
      "Epoch 77/100\n",
      "27/27 [==============================] - 5s 169ms/step - loss: 15.6186 - accuracy: 0.0230 - val_loss: 15.8295 - val_accuracy: 0.0244\n",
      "Epoch 78/100\n",
      "27/27 [==============================] - 5s 172ms/step - loss: 15.6186 - accuracy: 0.0230 - val_loss: 15.8295 - val_accuracy: 0.0244\n",
      "Epoch 79/100\n",
      "27/27 [==============================] - 5s 169ms/step - loss: 15.6186 - accuracy: 0.0230 - val_loss: 15.8295 - val_accuracy: 0.0244\n",
      "Epoch 80/100\n",
      "27/27 [==============================] - 5s 169ms/step - loss: 15.6187 - accuracy: 0.0230 - val_loss: 15.8295 - val_accuracy: 0.0244\n",
      "Epoch 81/100\n",
      "27/27 [==============================] - 5s 169ms/step - loss: 15.6186 - accuracy: 0.0230 - val_loss: 15.8295 - val_accuracy: 0.0244\n",
      "Epoch 82/100\n",
      "27/27 [==============================] - 5s 167ms/step - loss: 15.6186 - accuracy: 0.0230 - val_loss: 15.8295 - val_accuracy: 0.0244\n",
      "Epoch 83/100\n",
      "27/27 [==============================] - 5s 168ms/step - loss: 15.6187 - accuracy: 0.0230 - val_loss: 15.8295 - val_accuracy: 0.0244\n",
      "Epoch 84/100\n",
      "27/27 [==============================] - 5s 172ms/step - loss: 15.6186 - accuracy: 0.0230 - val_loss: 15.8295 - val_accuracy: 0.0244\n",
      "Epoch 85/100\n",
      "27/27 [==============================] - 5s 169ms/step - loss: 15.6187 - accuracy: 0.0230 - val_loss: 15.8295 - val_accuracy: 0.0244\n",
      "Epoch 86/100\n",
      "27/27 [==============================] - 5s 169ms/step - loss: 15.6186 - accuracy: 0.0230 - val_loss: 15.8295 - val_accuracy: 0.0244\n",
      "Epoch 87/100\n",
      "27/27 [==============================] - 5s 170ms/step - loss: 15.6186 - accuracy: 0.0230 - val_loss: 15.8295 - val_accuracy: 0.0244\n",
      "Epoch 88/100\n",
      "27/27 [==============================] - 5s 170ms/step - loss: 15.6186 - accuracy: 0.0230 - val_loss: 15.8295 - val_accuracy: 0.0244\n",
      "Epoch 89/100\n",
      "27/27 [==============================] - 5s 174ms/step - loss: 15.6186 - accuracy: 0.0230 - val_loss: 15.8295 - val_accuracy: 0.0244\n",
      "Epoch 90/100\n",
      "27/27 [==============================] - 5s 170ms/step - loss: 15.6186 - accuracy: 0.0230 - val_loss: 15.8295 - val_accuracy: 0.0244\n",
      "Epoch 91/100\n",
      "27/27 [==============================] - 5s 171ms/step - loss: 15.6187 - accuracy: 0.0230 - val_loss: 15.8295 - val_accuracy: 0.0244\n",
      "Epoch 92/100\n",
      "27/27 [==============================] - 5s 171ms/step - loss: 15.6186 - accuracy: 0.0230 - val_loss: 15.8295 - val_accuracy: 0.0244\n",
      "Epoch 93/100\n",
      "27/27 [==============================] - 5s 168ms/step - loss: 15.6187 - accuracy: 0.0230 - val_loss: 15.8295 - val_accuracy: 0.0244\n",
      "Epoch 94/100\n",
      "27/27 [==============================] - 5s 172ms/step - loss: 15.6186 - accuracy: 0.0230 - val_loss: 15.8295 - val_accuracy: 0.0244\n",
      "Epoch 95/100\n",
      "27/27 [==============================] - 5s 169ms/step - loss: 15.6186 - accuracy: 0.0230 - val_loss: 15.8295 - val_accuracy: 0.0244\n",
      "Epoch 96/100\n",
      "27/27 [==============================] - 5s 170ms/step - loss: 15.6186 - accuracy: 0.0230 - val_loss: 15.8295 - val_accuracy: 0.0244\n",
      "Epoch 97/100\n",
      "27/27 [==============================] - 5s 169ms/step - loss: 15.6186 - accuracy: 0.0230 - val_loss: 15.8295 - val_accuracy: 0.0244\n",
      "Epoch 98/100\n",
      "27/27 [==============================] - 5s 171ms/step - loss: 15.6186 - accuracy: 0.0230 - val_loss: 15.8295 - val_accuracy: 0.0244\n",
      "Epoch 99/100\n",
      "27/27 [==============================] - 5s 170ms/step - loss: 15.6186 - accuracy: 0.0230 - val_loss: 15.8295 - val_accuracy: 0.0244\n",
      "Epoch 100/100\n",
      "27/27 [==============================] - 5s 172ms/step - loss: 15.6186 - accuracy: 0.0230 - val_loss: 15.8295 - val_accuracy: 0.0244\n"
     ]
    }
   ],
   "source": [
    "history_exp = model.fit(x=train_dataset_batched, \n",
    "                        epochs=model_params[MODEL_NAME]['epochs'],\n",
    "                        batch_size=model_params[DATASET_NAME]['batch_size'],\n",
    "                        validation_data=validation_dataset_batched,\n",
    "                        callbacks=callbacks,\n",
    "                        shuffle=True\n",
    ")"
   ]
  },
  {
   "cell_type": "code",
   "execution_count": 88,
   "id": "MIImZ4-ioENM",
   "metadata": {
    "id": "MIImZ4-ioENM"
   },
   "outputs": [],
   "source": [
    "### Plot the loss, accuracy and LR decay (if using callbacks)"
   ]
  },
  {
   "cell_type": "code",
   "execution_count": 89,
   "id": "rcx5DH3SgMz0",
   "metadata": {
    "colab": {
     "base_uri": "https://localhost:8080/",
     "height": 369
    },
    "id": "rcx5DH3SgMz0",
    "outputId": "38946218-ef3d-47a4-cd34-0f4cb7896533"
   },
   "outputs": [
    {
     "data": {
      "image/png": "[encoded data removed]",
      "text/plain": [
       "<Figure size 1080x360 with 3 Axes>"
      ]
     },
     "metadata": {
      "needs_background": "light"
     },
     "output_type": "display_data"
    }
   ],
   "source": [
    "display_metrics(history_exp)"
   ]
  },
  {
   "cell_type": "markdown",
   "id": "czrS82IBx34S",
   "metadata": {
    "id": "czrS82IBx34S"
   },
   "source": [
    "###### Lightweight CNN"
   ]
  },
  {
   "cell_type": "code",
   "execution_count": 90,
   "id": "h4xEq3hjx7g_",
   "metadata": {
    "id": "h4xEq3hjx7g_"
   },
   "outputs": [],
   "source": [
    "MODEL_NAME = 'Custom_LeNet-5'"
   ]
  },
  {
   "cell_type": "code",
   "execution_count": 91,
   "id": "3iX6cZWkx8De",
   "metadata": {
    "id": "3iX6cZWkx8De"
   },
   "outputs": [],
   "source": [
    "### Initialise the LR logger and custom callbacks\n",
    "logger = LrLogger()"
   ]
  },
  {
   "cell_type": "code",
   "execution_count": 92,
   "id": "CAOKFgMjyorA",
   "metadata": {
    "id": "CAOKFgMjyorA"
   },
   "outputs": [],
   "source": [
    "### Create a list of all desired TensorFlow Keras callbacks\n",
    "callbacks = [logger]"
   ]
  },
  {
   "cell_type": "code",
   "execution_count": 93,
   "id": "7MjTEdD4ypPt",
   "metadata": {
    "id": "7MjTEdD4ypPt"
   },
   "outputs": [],
   "source": [
    "### Instantiate the custom CNN model\n",
    "model = create_custom_network(\n",
    "            input_shape=model_params[DATASET_NAME]['input_shape'],\n",
    "            output_shape=model_params[DATASET_NAME]['n_classes'],\n",
    "            model_name=model_params[MODEL_NAME]['model_name']\n",
    ")"
   ]
  },
  {
   "cell_type": "code",
   "execution_count": 94,
   "id": "hzv0cidvyvj_",
   "metadata": {
    "id": "hzv0cidvyvj_"
   },
   "outputs": [],
   "source": [
    "### Compile the model with a Keras `ExponentialDecay` LR schedule\n",
    "model, callbacks = exponential_decay(model, callbacks=callbacks, initial_lr=0.1)"
   ]
  },
  {
   "cell_type": "code",
   "execution_count": 95,
   "id": "5beVDCeHy6Cq",
   "metadata": {
    "id": "5beVDCeHy6Cq"
   },
   "outputs": [],
   "source": [
    "### Fitting the model on the train data and passing in our callbacks"
   ]
  },
  {
   "cell_type": "code",
   "execution_count": 96,
   "id": "0qkwF0tDyvXE",
   "metadata": {
    "colab": {
     "base_uri": "https://localhost:8080/"
    },
    "id": "0qkwF0tDyvXE",
    "outputId": "01e5239a-2d92-417a-a7d4-8973acd93304"
   },
   "outputs": [
    {
     "name": "stderr",
     "output_type": "stream",
     "text": [
      "2022-09-29 20:13:55,194 INFO     Training for 30 epochs using /content/data/GTSRB/Final_Training/Images data\n",
      "INFO:exponential_decay:Training for 30 epochs using /content/data/GTSRB/Final_Training/Images data\n"
     ]
    }
   ],
   "source": [
    "logger_exp.info(f\"Training for {model_params[MODEL_NAME]['epochs']} \" +\n",
    "                 f\"epochs using {model_params[DATASET_NAME]['imdir']} data\")"
   ]
  },
  {
   "cell_type": "code",
   "execution_count": 97,
   "id": "p1M8MLc-y546",
   "metadata": {
    "colab": {
     "base_uri": "https://localhost:8080/"
    },
    "id": "p1M8MLc-y546",
    "outputId": "c8d5e3a6-b250-4ca6-b73e-e3f01abaf4f1"
   },
   "outputs": [
    {
     "name": "stdout",
     "output_type": "stream",
     "text": [
      "Epoch 1/30\n",
      "27/27 [==============================] - 6s 188ms/step - loss: 10.0257 - accuracy: 0.0328 - val_loss: 45.6570 - val_accuracy: 0.0221\n",
      "Epoch 2/30\n",
      "27/27 [==============================] - 5s 182ms/step - loss: 4.6689 - accuracy: 0.0471 - val_loss: 14.2692 - val_accuracy: 0.0326\n",
      "Epoch 3/30\n",
      "27/27 [==============================] - 5s 184ms/step - loss: 4.1315 - accuracy: 0.0776 - val_loss: 6.0504 - val_accuracy: 0.0651\n",
      "Epoch 4/30\n",
      "27/27 [==============================] - 5s 179ms/step - loss: 3.7103 - accuracy: 0.1029 - val_loss: 3.6123 - val_accuracy: 0.1372\n",
      "Epoch 5/30\n",
      "27/27 [==============================] - 5s 181ms/step - loss: 3.8379 - accuracy: 0.1099 - val_loss: 6.0944 - val_accuracy: 0.0895\n",
      "Epoch 6/30\n",
      "27/27 [==============================] - 5s 181ms/step - loss: 4.0911 - accuracy: 0.1305 - val_loss: 4.6161 - val_accuracy: 0.1047\n",
      "Epoch 7/30\n",
      "27/27 [==============================] - 5s 180ms/step - loss: 3.3945 - accuracy: 0.1625 - val_loss: 3.4027 - val_accuracy: 0.2128\n",
      "Epoch 8/30\n",
      "27/27 [==============================] - 5s 178ms/step - loss: 3.4246 - accuracy: 0.1872 - val_loss: 2.9225 - val_accuracy: 0.2151\n",
      "Epoch 9/30\n",
      "27/27 [==============================] - 5s 181ms/step - loss: 3.1403 - accuracy: 0.2340 - val_loss: 3.1864 - val_accuracy: 0.1872\n",
      "Epoch 10/30\n",
      "27/27 [==============================] - 5s 182ms/step - loss: 2.8360 - accuracy: 0.2701 - val_loss: 2.9276 - val_accuracy: 0.2116\n",
      "Epoch 11/30\n",
      "27/27 [==============================] - 5s 182ms/step - loss: 2.4333 - accuracy: 0.3451 - val_loss: 2.3845 - val_accuracy: 0.3349\n",
      "Epoch 12/30\n",
      "27/27 [==============================] - 5s 183ms/step - loss: 2.3643 - accuracy: 0.3817 - val_loss: 1.8107 - val_accuracy: 0.4767\n",
      "Epoch 13/30\n",
      "27/27 [==============================] - 5s 184ms/step - loss: 2.0844 - accuracy: 0.4485 - val_loss: 1.6317 - val_accuracy: 0.5279\n",
      "Epoch 14/30\n",
      "27/27 [==============================] - 5s 180ms/step - loss: 2.0822 - accuracy: 0.4628 - val_loss: 1.4716 - val_accuracy: 0.5256\n",
      "Epoch 15/30\n",
      "27/27 [==============================] - 5s 181ms/step - loss: 1.7417 - accuracy: 0.5087 - val_loss: 1.2146 - val_accuracy: 0.5953\n",
      "Epoch 16/30\n",
      "27/27 [==============================] - 5s 183ms/step - loss: 1.5449 - accuracy: 0.5619 - val_loss: 0.9261 - val_accuracy: 0.7000\n",
      "Epoch 17/30\n",
      "27/27 [==============================] - 5s 180ms/step - loss: 1.6665 - accuracy: 0.5738 - val_loss: 0.9561 - val_accuracy: 0.6744\n",
      "Epoch 18/30\n",
      "27/27 [==============================] - 5s 184ms/step - loss: 1.5223 - accuracy: 0.6119 - val_loss: 0.8058 - val_accuracy: 0.7360\n",
      "Epoch 19/30\n",
      "27/27 [==============================] - 5s 180ms/step - loss: 1.3048 - accuracy: 0.6526 - val_loss: 1.1357 - val_accuracy: 0.6977\n",
      "Epoch 20/30\n",
      "27/27 [==============================] - 5s 179ms/step - loss: 1.2409 - accuracy: 0.6858 - val_loss: 0.9654 - val_accuracy: 0.7372\n",
      "Epoch 21/30\n",
      "27/27 [==============================] - 5s 179ms/step - loss: 1.0632 - accuracy: 0.7230 - val_loss: 0.6336 - val_accuracy: 0.8058\n",
      "Epoch 22/30\n",
      "27/27 [==============================] - 5s 177ms/step - loss: 1.0394 - accuracy: 0.7299 - val_loss: 0.6145 - val_accuracy: 0.8453\n",
      "Epoch 23/30\n",
      "27/27 [==============================] - 5s 178ms/step - loss: 1.1542 - accuracy: 0.7305 - val_loss: 0.5308 - val_accuracy: 0.8244\n",
      "Epoch 24/30\n",
      "27/27 [==============================] - 5s 181ms/step - loss: 1.0234 - accuracy: 0.7674 - val_loss: 0.5965 - val_accuracy: 0.8302\n",
      "Epoch 25/30\n",
      "27/27 [==============================] - 5s 183ms/step - loss: 0.9448 - accuracy: 0.7718 - val_loss: 0.6872 - val_accuracy: 0.8233\n",
      "Epoch 26/30\n",
      "27/27 [==============================] - 5s 179ms/step - loss: 1.0288 - accuracy: 0.7744 - val_loss: 0.4285 - val_accuracy: 0.8640\n",
      "Epoch 27/30\n",
      "27/27 [==============================] - 5s 180ms/step - loss: 1.0643 - accuracy: 0.7759 - val_loss: 0.3316 - val_accuracy: 0.9000\n",
      "Epoch 28/30\n",
      "27/27 [==============================] - 5s 180ms/step - loss: 0.9351 - accuracy: 0.8000 - val_loss: 0.3883 - val_accuracy: 0.8977\n",
      "Epoch 29/30\n",
      "27/27 [==============================] - 5s 184ms/step - loss: 0.9140 - accuracy: 0.8003 - val_loss: 0.7125 - val_accuracy: 0.8163\n",
      "Epoch 30/30\n",
      "27/27 [==============================] - 5s 187ms/step - loss: 1.1093 - accuracy: 0.7948 - val_loss: 0.5102 - val_accuracy: 0.8733\n"
     ]
    }
   ],
   "source": [
    "history_exp = model.fit(x=train_dataset_batched, \n",
    "                        epochs=model_params[MODEL_NAME]['epochs'],\n",
    "                        batch_size=model_params[DATASET_NAME]['batch_size'],\n",
    "                        validation_data=validation_dataset_batched,\n",
    "                        callbacks=callbacks,\n",
    "                        shuffle=True\n",
    ")"
   ]
  },
  {
   "cell_type": "code",
   "execution_count": 98,
   "id": "nmYY7i44zEiz",
   "metadata": {
    "id": "nmYY7i44zEiz"
   },
   "outputs": [],
   "source": [
    "### Plot the loss, accuracy and LR decay (if using callbacks)"
   ]
  },
  {
   "cell_type": "code",
   "execution_count": 99,
   "id": "J1JBYhfAzJL7",
   "metadata": {
    "colab": {
     "base_uri": "https://localhost:8080/",
     "height": 369
    },
    "id": "J1JBYhfAzJL7",
    "outputId": "9565c982-bcba-4a92-8d11-fe463bf9cb20"
   },
   "outputs": [
    {
     "data": {
      "image/png": "[encoded data removed]",
      "text/plain": [
       "<Figure size 1080x360 with 3 Axes>"
      ]
     },
     "metadata": {
      "needs_background": "light"
     },
     "output_type": "display_data"
    }
   ],
   "source": [
    "display_metrics(history_exp)"
   ]
  },
  {
   "cell_type": "markdown",
   "id": "9e6a5a84",
   "metadata": {
    "id": "9e6a5a84"
   },
   "source": [
    "## 3. Closing Remarks"
   ]
  },
  {
   "cell_type": "markdown",
   "id": "0b56e71a",
   "metadata": {
    "id": "0b56e71a"
   },
   "source": [
    "##### Alternatives\n",
    "* Test out various starting learning rate values.\n",
    "\n",
    "##### Extensions to task\n",
    "* Test learning rate strategies on other model architectures;\n",
    "* Visualise the learning rate schedule over time;\n",
    "* Implement other [popular](https://paperswithcode.com/methods/category/learning-rate-schedules) learning rate schedules in literature (e.g., [cosine annealing](https://paperswithcode.com/method/cosine-annealing), [linear warmup with linear decay](https://paperswithcode.com/method/linear-warmup-with-linear-decay));\n",
    "* Implement [adaptive learning rate](https://en.wikipedia.org/wiki/Learning_rate#Adaptive_learning_rate) methods."
   ]
  },
  {
   "cell_type": "markdown",
   "id": "69be83f5",
   "metadata": {
    "id": "69be83f5"
   },
   "source": [
    "## 4. Future Work"
   ]
  },
  {
   "cell_type": "markdown",
   "id": "3d4dc6fb",
   "metadata": {
    "id": "3d4dc6fb"
   },
   "source": [
    "- ✅ Visualise learning rate schedule over time;\n",
    "- ✅ Compare their performance / affect on model accuracy;\n",
    "- ⬜️ Implement other popular learning rate schedules."
   ]
  },
  {
   "cell_type": "markdown",
   "id": "6f7ab4a0",
   "metadata": {
    "id": "6f7ab4a0"
   },
   "source": [
    "## Credits"
   ]
  },
  {
   "cell_type": "markdown",
   "id": "101fc32a",
   "metadata": {
    "id": "101fc32a"
   },
   "source": [
    "This assignment was prepared by Thomas Hossler et al., Winter 2021 (link [here](https://www.udacity.com/course/self-driving-car-engineer-nanodegree--nd0013)).\n",
    "\n",
    "\n",
    "References\n",
    "* [1] Duchi, J. et al., Adaptive subgradient methods for online learning and stochastic optimization. Journal of Machine Learning Researcher. 12(61):2121–2159. [doi:10.5555/1953048.2021068](https://dl.acm.org/doi/10.5555/1953048.2021068).\n",
    "\n",
    "* [2] Kingma, D., et al., Adam: A Method for Stochastic Optimization. arXiv. [doi:10.48550/arXiv.1412.6980](https://arxiv.org/abs/1412.6980).\n",
    "\n",
    "\n",
    "Helpful resources:\n",
    "* [Learning Rate Schedule in Practice: an example with Keras and TensorFlow 2.0 by B. Chen | Medium](https://towardsdatascience.com/learning-rate-schedule-in-practice-an-example-with-keras-and-tensorflow-2-0-2f48b2888a0c)\n",
    "* [Adaptive Learning Rate Methods by G. Singh](https://medium.com/@gsinghviews/adaptive-learning-rate-methods-e6e00dcbae5e)\n",
    "* [RMSProp -- Improving Deep Neural Networks: Hyperparameter Tuning, Regularization and Optimization by A. Ng | Coursera](https://www.coursera.org/lecture/deep-neural-network/rmsprop-BhJlm)\n",
    "* [Everything you need to know about Adam Optimizer  by N. Nikhil | Medium](https://medium.com/@nishantnikhil/adam-optimizer-notes-ddac4fd7218)"
   ]
  }
 ],
 "metadata": {
  "accelerator": "GPU",
  "colab": {
   "collapsed_sections": [
    "5ea67398",
    "d69414eb",
    "81b09682",
    "8df01f49",
    "095a84fd",
    "78fcd20c",
    "ZQfGG9udeTX6",
    "Wy-4WKkgfb4f",
    "9e6a5a84",
    "6f7ab4a0"
   ],
   "provenance": [],
   "toc_visible": true
  },
  "kernelspec": {
   "display_name": "Python 3",
   "language": "python",
   "name": "python3"
  },
  "language_info": {
   "codemirror_mode": {
    "name": "ipython",
    "version": 3
   },
   "file_extension": ".py",
   "mimetype": "text/x-python",
   "name": "python",
   "nbconvert_exporter": "python",
   "pygments_lexer": "ipython3",
   "version": "3.8.13"
  },
  "toc": {
   "base_numbering": 1,
   "nav_menu": {},
   "number_sections": false,
   "sideBar": true,
   "skip_h1_title": false,
   "title_cell": "Table of Contents",
   "title_sidebar": "Contents",
   "toc_cell": false,
   "toc_position": {},
   "toc_section_display": true,
   "toc_window_display": true
  }
 },
 "nbformat": 4,
 "nbformat_minor": 5
}
