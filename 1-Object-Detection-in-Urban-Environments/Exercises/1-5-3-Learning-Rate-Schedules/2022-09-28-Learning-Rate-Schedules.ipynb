{
  "cells": [
    {
      "cell_type": "markdown",
      "id": "f543afb2",
      "metadata": {
        "id": "f543afb2"
      },
      "source": [
        "# Exercise 1.5.3 - Learning Rate Schedules\n",
        "#### By Jonathan L. Moran (jonathan.moran107@gmail.com)\n",
        "From the Self-Driving Car Engineer Nanodegree programme offered at Udacity."
      ]
    },
    {
      "cell_type": "markdown",
      "id": "38d708ba",
      "metadata": {
        "id": "38d708ba"
      },
      "source": [
        "## Objectives"
      ]
    },
    {
      "cell_type": "markdown",
      "id": "7ba57b82",
      "metadata": {
        "id": "7ba57b82"
      },
      "source": [
        "* Implement two [learning rate schedules](https://en.wikipedia.org/wiki/Learning_rate#Learning_rate_schedule): the [exponential decay](https://www.tensorflow.org/api_docs/python/tf/keras/optimizers/schedules/ExponentialDecay) and [step-wise annealing](https://paperswithcode.com/method/step-decay) strategies;\n",
        "* Use the off-the-shelf [`tf.keras.optimizers.schedules`](https://www.tensorflow.org/api_docs/python/tf/keras/optimizers/schedules) and the custom LR schedule [`tf.keras.callbacks.LearningRateScheduler`](https://www.tensorflow.org/api_docs/python/tf/keras/callbacks/LearningRateScheduler) wrapper to implement the above strategies;\n",
        "* Evaluate a lightweight deep neural network (simple [ConvNet](https://en.wikipedia.org/wiki/Convolutional_neural_network)) with the LR schedules on the [GTSRB](https://benchmark.ini.rub.de/gtsrb_dataset.html) dataset."
      ]
    },
    {
      "cell_type": "markdown",
      "id": "7a672b2c",
      "metadata": {
        "id": "7a672b2c"
      },
      "source": [
        "## 1. Introduction"
      ]
    },
    {
      "cell_type": "code",
      "execution_count": 1,
      "id": "38a8956a",
      "metadata": {
        "id": "38a8956a"
      },
      "outputs": [],
      "source": [
        "### Importing the required modules"
      ]
    },
    {
      "cell_type": "code",
      "execution_count": 24,
      "id": "9188d76f",
      "metadata": {
        "id": "9188d76f"
      },
      "outputs": [],
      "source": [
        "from collections import defaultdict\n",
        "import logging\n",
        "import matplotlib.pyplot as plt\n",
        "import matplotlib.ticker as mtick\n",
        "import os\n",
        "import tensorflow as tf\n",
        "from tensorflow.keras.utils import image_dataset_from_directory\n",
        "from typing import Generator, Iterator, List, Tuple"
      ]
    },
    {
      "cell_type": "code",
      "execution_count": 3,
      "id": "b5967488",
      "metadata": {
        "colab": {
          "base_uri": "https://localhost:8080/",
          "height": 36
        },
        "id": "b5967488",
        "outputId": "b9791ff8-5749-4697-b77c-5c72ec19273f"
      },
      "outputs": [
        {
          "output_type": "execute_result",
          "data": {
            "text/plain": [
              "'2.8.2'"
            ],
            "application/vnd.google.colaboratory.intrinsic+json": {
              "type": "string"
            }
          },
          "metadata": {},
          "execution_count": 3
        }
      ],
      "source": [
        "tf.__version__"
      ]
    },
    {
      "cell_type": "code",
      "execution_count": 4,
      "id": "b1dbdb15",
      "metadata": {
        "colab": {
          "base_uri": "https://localhost:8080/",
          "height": 36
        },
        "id": "b1dbdb15",
        "outputId": "151b843e-600c-4f0a-ec58-303c47f9842d"
      },
      "outputs": [
        {
          "output_type": "execute_result",
          "data": {
            "text/plain": [
              "'/device:GPU:0'"
            ],
            "application/vnd.google.colaboratory.intrinsic+json": {
              "type": "string"
            }
          },
          "metadata": {},
          "execution_count": 4
        }
      ],
      "source": [
        "tf.test.gpu_device_name()"
      ]
    },
    {
      "cell_type": "code",
      "execution_count": 5,
      "id": "2d82e76e",
      "metadata": {
        "id": "2d82e76e"
      },
      "outputs": [],
      "source": [
        "### Setting the environment variables"
      ]
    },
    {
      "cell_type": "code",
      "execution_count": 7,
      "id": "71cec767",
      "metadata": {
        "id": "71cec767"
      },
      "outputs": [],
      "source": [
        "ENV_COLAB = True                # True if running in Google Colab instance"
      ]
    },
    {
      "cell_type": "code",
      "execution_count": 8,
      "id": "861f22bb",
      "metadata": {
        "id": "861f22bb"
      },
      "outputs": [],
      "source": [
        "# Root directory\n",
        "DIR_BASE = '' if not ENV_COLAB else '/content/'"
      ]
    },
    {
      "cell_type": "code",
      "execution_count": 9,
      "id": "76acee15",
      "metadata": {
        "id": "76acee15"
      },
      "outputs": [],
      "source": [
        "# Subdirectory to save output files\n",
        "DIR_OUT = os.path.join(DIR_BASE, 'out/')\n",
        "# Subdirectory pointing to input data\n",
        "DIR_SRC = os.path.join(DIR_BASE, 'data/')"
      ]
    },
    {
      "cell_type": "code",
      "source": [
        "### Unzipping the GTSRB dataset\n",
        "!unzip -q /content/GTSRB.zip -d /content/data/"
      ],
      "metadata": {
        "id": "Ub2reoTsdQuY"
      },
      "id": "Ub2reoTsdQuY",
      "execution_count": 10,
      "outputs": []
    },
    {
      "cell_type": "code",
      "execution_count": 11,
      "id": "7f5214b8",
      "metadata": {
        "id": "7f5214b8"
      },
      "outputs": [],
      "source": [
        "### Creating subdirectories (if not exists)\n",
        "os.makedirs(DIR_OUT, exist_ok=True)"
      ]
    },
    {
      "cell_type": "markdown",
      "id": "5ea67398",
      "metadata": {
        "id": "5ea67398"
      },
      "source": [
        "### 1.1. Learning Rate Schedules"
      ]
    },
    {
      "cell_type": "markdown",
      "id": "3ca2c73a",
      "metadata": {
        "id": "3ca2c73a"
      },
      "source": [
        "In machine learning and statistics, the [learning rate](https://en.wikipedia.org/wiki/Learning_rate) is a tunable hyperparameter in an optimisation algorithm that determines the step size at each iteration while moving towards a minimum of a loss function (credit: Wikipedia). Setting learning rates optimally is often a balancing act between over- and overshooting a global minima. When the learning rate is _too low_, a model might fail to converge as its steps in the direction of a function minima are simply too small. On the other hand, a learning rate that is _too high_ might result in extremely large steps that _overshoot_ the function minima and miss the target entirely. An optimal (fixed) learning rate value should be selected such that the likelihood of overshooting is minimised and that is sufficiently large to perform steepest descent towards convergence.\n",
        "\n",
        "A [learning rate schedule](https://en.wikipedia.org/wiki/Learning_rate#Learning_rate_schedule) helps accomplish this by not only decreasing overshoot but also speeding up the time it could take to reach convergence. LR schedules have two important properties: _decay_ and _momentum_. Decay is a hyperparameter that controls overshooting by decreasing (_annealing_) the learning rate by a fixed factor. Momentum is another hyperparameter that helps us speed up the convergence time. Analogous to a ball rolling down a hill; momentum governs how quickly our learning rate decays. This is extremely useful for making sure that the direction we move in towards steepest descent is indeed towards the global minima and not just towards a local minimum (as a ball with little to no momentum will struggle to 'get over' the shallow [saddle points](https://en.wikipedia.org/wiki/Saddle_point) of the differentiable function."
      ]
    },
    {
      "cell_type": "markdown",
      "id": "d69414eb",
      "metadata": {
        "id": "d69414eb"
      },
      "source": [
        "#### Step-wise Annealing"
      ]
    },
    {
      "cell_type": "markdown",
      "id": "af7af2d1",
      "metadata": {
        "id": "af7af2d1"
      },
      "source": [
        "One of the easiest learning rate schedules to implement is the [step-wise method](https://paperswithcode.com/method/step-decay). With this schedule, the learning rate is decreased by a static factor at evenly-spaced intervals during the training cycle (usually measured in epochs, i.e., full passes over a dataset). The scale factor $\\gamma$ serves as a hyperparameter governing how much to decrease the previous learning rate $\\eta_{i-1}$ by,\n",
        "\n",
        "$$\n",
        "\\begin{align}\n",
        "\\eta_{i} &= \\eta_{i-1} * \\gamma, \n",
        "\\end{align}\n",
        "$$\n",
        "\n",
        "for the updated learning rate value $\\eta_{n}$.\n",
        "\n",
        "Step-wise annealing can also be, well, _step-wise_. As the name implies, the number of current _steps_ $n$ can also be used to scale the initial fixed learning rate value $\\eta_{0}$,\n",
        "\n",
        "$$\n",
        "\\begin{align}\n",
        "\\eta_{i} = \\eta_{0} * d^{\\left\\lfloor\\frac{1 + n}{r}\\right\\rfloor},\n",
        "\\end{align}\n",
        "$$\n",
        "\n",
        "given a static decay factor $d$ (e.g., $d=0.5$ will decay the LR by half) and a drop-rate $r$ (e.g., $r=10$ will drop the LR every 10 iterations)."
      ]
    },
    {
      "cell_type": "markdown",
      "id": "81b09682",
      "metadata": {
        "id": "81b09682"
      },
      "source": [
        "#### Exponential Decay"
      ]
    },
    {
      "cell_type": "markdown",
      "id": "5cf3723d",
      "metadata": {
        "id": "5cf3723d"
      },
      "source": [
        "[Exponential Decay](https://paperswithcode.com/method/exponential-decay) is similar to step-wise annealing in that the LR is gradually decreased over time. However, instead of a linear step-based decay, a scaled, reflected exponential function is used to reduce the initial fixed learning rate $\\eta_{0}$ over time,\n",
        "\n",
        "$$\n",
        "\\begin{align}\n",
        "\\eta_{n} &= \\eta_{0} * \\mathcal{e}^{-dn}, \\\\\n",
        "\\end{align}\n",
        "$$\n",
        "\n",
        "given a static decay factor $d$ and the current number of iterations $n$. Depending on the choice of the decay factor $d$, the Exponential Decay schedule could (preferably) accelerate the learning rate decay more rapidly than with step-wise annealing."
      ]
    },
    {
      "cell_type": "markdown",
      "id": "d5ed3511",
      "metadata": {
        "id": "d5ed3511"
      },
      "source": [
        "### 1.2. Adaptive Learning Rate Methods"
      ]
    },
    {
      "cell_type": "markdown",
      "id": "29d592a1",
      "metadata": {
        "id": "29d592a1"
      },
      "source": [
        "Given that both the learning rate and its schedules have hyperparameters that need to be manually selected and defined prior to training, a learning rate schedule might not always be optimal. Instead, we can use [adaptive learning rate](https://en.wikipedia.org/wiki/Learning_rate#Adaptive_learning_rate) methods to utilise heuristic approaches to parameter selection that provide reliable results. Adaptive learning rate methods such as [Adagrad](https://en.wikipedia.org/wiki/Stochastic_gradient_descent#AdaGrad), [Adam](https://en.wikipedia.org/wiki/Stochastic_gradient_descent#Adam) and [RMSProp](https://en.wikipedia.org/wiki/Stochastic_gradient_descent#RMSProp) build upon the [stochastic gradient descent](https://en.wikipedia.org/wiki/Stochastic_gradient_descent#Adam) optimiser with adaptive learning rate tuning."
      ]
    },
    {
      "cell_type": "markdown",
      "id": "8df01f49",
      "metadata": {
        "id": "8df01f49"
      },
      "source": [
        "#### AdaGrad"
      ]
    },
    {
      "cell_type": "markdown",
      "id": "d430d289",
      "metadata": {
        "id": "d430d289"
      },
      "source": [
        "The [AdaGrad](https://en.wikipedia.org/wiki/Stochastic_gradient_descent#AdaGrad) (Adaptive Gradient) algorithm [1] was pioneered in 2011 by J. Duchi et al., and is a dynamic technique for the normalisation of parameter updates. In brief; weights who receive large gradient update values will have their effective learning rate reduced. Conversely, weights with small or infrequently-updated values will have their effective learning rate increased. Using a parameter referred to as a \"cache\" variable $c$, AdaGrad performs the following updates,\n",
        "\n",
        "$$\n",
        "\\begin{align}\n",
        "c &= c + dx^2, \\\\\n",
        "x &= x - \\alpha \\frac{dx}{\\sqrt{x} + \\epsilon}.\n",
        "\\end{align}\n",
        "$$\n",
        "\n",
        "The cache variable $c$ keeps track of the per-parameter sum of the squared gradients, which in turn is used to normalise the parameter updates. Here an $\\epsilon$ term is added to the denominator of the update term for numerical stability (to avoid a divide by zero error), credit: [G. Singh](https://medium.com/@gsinghviews/adaptive-learning-rate-methods-e6e00dcbae5e). \n",
        "\n",
        "To utilise AdaGrad in TensorFlow Keras, instantiate the [`tf.keras.optimizers.Adagrad`](https://www.tensorflow.org/api_docs/python/tf/keras/optimizers/Adagrad) optimizer."
      ]
    },
    {
      "cell_type": "markdown",
      "id": "095a84fd",
      "metadata": {
        "id": "095a84fd"
      },
      "source": [
        "#### RMSProp"
      ]
    },
    {
      "cell_type": "markdown",
      "id": "fff20a1c",
      "metadata": {
        "id": "fff20a1c"
      },
      "source": [
        "The [RMSProp](https://en.wikipedia.org/wiki/Stochastic_gradient_descent#RMSProp) (Root Mean Square Propagation) algorithm is another technique that updates the learning rate for each weight dynamically. RMSProp, however, seeks to penalise the weights that cause the cost function to oscillate too much. The expontentially-weighted moving average of the squared gradients are computed such that\n",
        "\n",
        "$$\n",
        "\\begin{align}\n",
        "c &= \\gamma * c + \\left(1 - \\gamma\\right) \\cdot dx^2, \\\\\n",
        "x &= x - \\alpha \\frac{dx}{\\sqrt{x} + \\epsilon}.\n",
        "\\end{align}\n",
        "$$\n",
        "\n",
        "As in AdaGrad, we still utilise a cache variable $c$ but instead the moving average of the squared gradients is computed. This is to handle the monotonically decreasing learning rate behaviour of AdaGrad. Here, $\\gamma$ is the _forgetting factor_ hyperparameter. Note that the weight updates are performed element-wise in both a horizontal ($w$) and vertical ($b$) direction. The goal of RMSProp is to slow down the movement in the vertical direction with larger horizontal derivatives while simultaneously increasing the magnitude of the horizontal weight updates. The net effect of RMSProp is a dampening of the oscillatory behaviour of the AdaGrad algorithm while maintaining learning speed-ups in the horizontal direction. \n",
        "\n",
        "To utilise RMSProp in TensorFlow Keras, instantiate the [`tf.keras.optimizers.RMSprop`](https://www.tensorflow.org/api_docs/python/tf/keras/optimizers/RMSprop) optimizer."
      ]
    },
    {
      "cell_type": "markdown",
      "id": "78fcd20c",
      "metadata": {
        "id": "78fcd20c"
      },
      "source": [
        "#### Adam"
      ]
    },
    {
      "cell_type": "markdown",
      "id": "ce557cd2",
      "metadata": {
        "id": "ce557cd2"
      },
      "source": [
        "The [Adam](https://en.wikipedia.org/wiki/Stochastic_gradient_descent#Adam) (Adaptive Moment Estimation) algorithm by Kingma et al., 2014 ]2\\ expands on the RMSProp optimizer by computing the biased first and second moments of the gradients $m$ and $v$,\n",
        "\n",
        "$$\n",
        "\\begin{align}\n",
        "m_{t} &= \\beta_{1} \\cdot m_{t-1} + \\left(1 - \\beta_{1}\\right) \\cdot dx, &\n",
        "v_{t} &= \\beta_{2} \\cdot v_{t-1} + \\left(1 - \\beta_{2}\\right) \\cdot dx^2, \\\\\n",
        "\\hat{v}_{t} & \\leftarrow v_{t} \\ \\big{/} \\left(1 - \\beta_{2}^{t}\\right) &\n",
        "\\hat{m}_{t} & \\leftarrow m_{t} \\ \\big{/} \\left(1 - \\beta_{1}^{t}\\right). \\\\\n",
        "\\end{align}\n",
        "$$\n",
        "which boil down to essentially computing the mean (moving average of the gradients) and variance (moving average of the _squared_ gradients). Parameters $\\beta_{1}$ and $\\beta_{2}$ are considered the _forgetting factors_ and selected in the range $[0, 1)$ as exponential decay rates for the moment estimates. The mean and variance calculations are bias-corrected (second line), and used to update the parameters $\\theta$ as follows,\n",
        "\n",
        "$$\n",
        "\\begin{align}\n",
        "\\theta_{t} \\leftarrow \\theta_{t-1} - \\alpha \\cdot \\hat{m}_{t} \\ \\big{/} \\left(\\sqrt{\\hat{v}_{t}} + \\epsilon\\right).\n",
        "\\end{align}\n",
        "$$\n",
        "\n",
        "The Adam optimizer borrows not only principles from the RMSProp optimizer but also the step-wise learning rate schedule; the last term in the update step $\\hat{m}_{t} \\ \\big{/} \\left(\\sqrt{\\hat{v}_{t}} + \\epsilon\\right)$ becomes closer to zero as the parameters approach optimal values, essentially acting as an automatic step-wise annealing.\n",
        "\n",
        "To utilise Adam in TensorFlow Keras, instantiate the [`tf.keras.optimizers.Adam`](https://www.tensorflow.org/api_docs/python/tf/keras/optimizers/Adam) optimizer."
      ]
    },
    {
      "cell_type": "markdown",
      "id": "c5fd5842",
      "metadata": {
        "id": "c5fd5842"
      },
      "source": [
        "## 2. Programming Task"
      ]
    },
    {
      "cell_type": "markdown",
      "id": "b086a763",
      "metadata": {
        "id": "b086a763"
      },
      "source": [
        "To do so, you will have to leverage Keras `callbacks`. Callbacks performs various action\n",
        "at different stages of training. For example, Keras uses a callback to save the models weights at \n",
        "the end of each training epoch."
      ]
    },
    {
      "cell_type": "code",
      "source": [
        "model_params = defaultdict(dict)"
      ],
      "metadata": {
        "id": "Oqzc5jQ3errs"
      },
      "id": "Oqzc5jQ3errs",
      "execution_count": 25,
      "outputs": []
    },
    {
      "cell_type": "code",
      "execution_count": 12,
      "id": "e7a24310",
      "metadata": {
        "id": "e7a24310"
      },
      "outputs": [],
      "source": [
        "### From Udacity's `utils.py`"
      ]
    },
    {
      "cell_type": "code",
      "execution_count": 62,
      "id": "c8095f72",
      "metadata": {
        "id": "c8095f72"
      },
      "outputs": [],
      "source": [
        "class LrLogger(tf.keras.callbacks.Callback):\n",
        "    def __init__(self):\n",
        "        super().__init__()\n",
        "        \n",
        "    def on_train_begin(self, logs=None):\n",
        "        history = self.model.history.history\n",
        "        history['lr'] = []\n",
        "\n",
        "    def on_epoch_end(self, epoch, logs=None):\n",
        "        history = self.model.history.history\n",
        "        optimizer = self.model.optimizer\n",
        "        decayed_lr = optimizer._decayed_lr('float32').numpy()\n",
        "        history['lr'].append(decayed_lr)"
      ]
    },
    {
      "cell_type": "markdown",
      "id": "4a3007d4",
      "metadata": {
        "id": "4a3007d4"
      },
      "source": [
        "You can either use pre-implemented schedulers (see Tips) or implement a scheduler yourself \n",
        "using your own custom decay function, as shown below:"
      ]
    },
    {
      "cell_type": "markdown",
      "id": "c06b89d7",
      "metadata": {
        "id": "c06b89d7"
      },
      "source": [
        "```\n",
        "def decay(model, callbacks, lr=0.001):\n",
        "    \"\"\" create custom decay that does not do anything \"\"\"\n",
        "    def scheduler(epoch, lr):\n",
        "        return lr \n",
        "\n",
        "    callbacks.append(tf.keras.callbacks.LearningRateScheduler(scheduler))\n",
        "\n",
        "    # compile model\n",
        "    model.compile()\n",
        "    \n",
        "    return model, callbacks \n",
        "```"
      ]
    },
    {
      "cell_type": "markdown",
      "source": [
        "### 2.1. Step-wise Annealing"
      ],
      "metadata": {
        "id": "E8ZMBPCYcU6x"
      },
      "id": "E8ZMBPCYcU6x"
    },
    {
      "cell_type": "code",
      "execution_count": 71,
      "id": "a25c785d",
      "metadata": {
        "id": "a25c785d"
      },
      "outputs": [],
      "source": [
        "def step_decay(\n",
        "        model: tf.keras.Model, callbacks: List[tf.keras.callbacks.Callback]=[], \n",
        "        initial_lr: float=0.001\n",
        ") -> Tuple[tf.keras.Model, List[tf.keras.callbacks.Callback]]:\n",
        "    \"\"\"Compiles and returns Model instance with step-wise decay LR schedule.\n",
        "    \n",
        "    :param model: the tf.keras.Model instance to compile.\n",
        "    :param callbacks: the list of tf.keras.callbacks to pass alongside model.\n",
        "    :param initial_lr: the value to fix the learning rate at before annealing.\n",
        "    :returns: tuple, the compiled Model instance and its callbacks.\n",
        "    \"\"\"\n",
        "    #  IMPLEMENT THIS FUNCTION\n",
        "    \n",
        "    def scheduler(epoch: int, lr: float):\n",
        "        \"\"\"Simple custom constant step-wise annealing schedule.\"\"\"\n",
        "        return lr / 2 if epoch % 10 == 0 and epoch > 0 else lr\n",
        "    \n",
        "    # Instantiate a custom Keras callback to perform LR annealing\n",
        "    lr_schedule = tf.keras.callbacks.LearningRateScheduler(\n",
        "                            schedule=scheduler, verbose=0\n",
        "    )\n",
        "    callbacks.append(lr_schedule)\n",
        "    # Instantiate the optimiser with the initial learning rate value\n",
        "    optimizer = tf.keras.optimizers.Adam(learning_rate=initial_lr)\n",
        "    # Compile the model\n",
        "    model.compile(optimizer=optimizer,\n",
        "                  loss=tf.keras.losses.SparseCategoricalCrossentropy(from_logits=False),\n",
        "                  metrics=['accuracy']\n",
        "    )\n",
        "    # Return the compiled model and the custom LR scheduler and any other callback\n",
        "    return model, callbacks"
      ]
    },
    {
      "cell_type": "code",
      "execution_count": 15,
      "id": "a7d7a4ed",
      "metadata": {
        "id": "a7d7a4ed"
      },
      "outputs": [],
      "source": [
        "model = tf.keras.Model()"
      ]
    },
    {
      "cell_type": "code",
      "execution_count": 16,
      "id": "8844b8d3",
      "metadata": {
        "id": "8844b8d3"
      },
      "outputs": [],
      "source": [
        "model, callbacks = step_decay(model=model, callbacks=[], initial_lr=0.001)"
      ]
    },
    {
      "cell_type": "markdown",
      "source": [
        "### 2.2. Exponential Decay"
      ],
      "metadata": {
        "id": "NyxhMhv5ciqm"
      },
      "id": "NyxhMhv5ciqm"
    },
    {
      "cell_type": "code",
      "execution_count": 17,
      "id": "91fabc36",
      "metadata": {
        "id": "91fabc36"
      },
      "outputs": [],
      "source": [
        "### From Udacity's `training.py`"
      ]
    },
    {
      "cell_type": "code",
      "execution_count": 18,
      "id": "7fee5007",
      "metadata": {
        "id": "7fee5007"
      },
      "outputs": [],
      "source": [
        "def exponential_decay(\n",
        "        model: tf.keras.Model, callbacks: List[tf.keras.callbacks.Callback]=[], \n",
        "        initial_lr: float=0.001\n",
        ") -> Tuple[tf.keras.Model, List[tf.keras.callbacks.Callback]]:\n",
        "    \"\"\"Compiles and returns Model instance with exponential decay LR schedule.\n",
        "    \n",
        "    :param model: the tf.keras.Model instance to compile.\n",
        "    :param callbacks: the list of tf.keras.callbacks to pass alongside model.\n",
        "    :param initial_lr: the value to fix the learning rate at before annealing.\n",
        "    :returns: tuple, the compiled Model instance and its callbacks.\n",
        "    \"\"\"\n",
        "    # IMPLEMENT THIS FUNCTION\n",
        "    \n",
        "    # Instantiate the learning rate schedule\n",
        "    lr_scheduler = tf.keras.optimizers.schedules.ExponentialDecay(\n",
        "                        initial_learning_rate=initial_lr,\n",
        "                        decay_steps=100,\n",
        "                        decay_rate=0.95,\n",
        "                        staircase=False\n",
        "    )\n",
        "    # Instantiate the optimiser\n",
        "    optimizer = tf.keras.optimizers.Adam(learning_rate=lr_scheduler)\n",
        "    # Compile the model\n",
        "    model.compile(optimizer=optimizer, \n",
        "                  loss=tf.keras.losses.SparseCategoricalCrossentropy(from_logits=False),\n",
        "                  metrics=['accuracy']\n",
        "    )\n",
        "    # Return the model and any specified callbacks\n",
        "    return model, callbacks"
      ]
    },
    {
      "cell_type": "code",
      "execution_count": 19,
      "id": "bce24d19",
      "metadata": {
        "id": "bce24d19"
      },
      "outputs": [],
      "source": [
        "model = tf.keras.Model()"
      ]
    },
    {
      "cell_type": "code",
      "execution_count": 20,
      "id": "816b3808",
      "metadata": {
        "id": "816b3808"
      },
      "outputs": [],
      "source": [
        "model, callbacks = exponential_decay(model=model, callbacks=[], initial_lr=0.001)"
      ]
    },
    {
      "cell_type": "markdown",
      "id": "aa94209e",
      "metadata": {
        "id": "aa94209e"
      },
      "source": [
        "Feel free to use any decay rates as well as a step size of your choice for the stepwise scheduler."
      ]
    },
    {
      "cell_type": "markdown",
      "source": [
        "### 2.3. Training and Validation"
      ],
      "metadata": {
        "id": "KJJhZo0Glz8q"
      },
      "id": "KJJhZo0Glz8q"
    },
    {
      "cell_type": "markdown",
      "source": [
        "The following helper functions are used for the training and validation loops."
      ],
      "metadata": {
        "id": "P48unFqOmSDo"
      },
      "id": "P48unFqOmSDo"
    },
    {
      "cell_type": "code",
      "source": [
        "### From J. Moran's `2022-09-12-Building-Custom-Convolutional-Neural-Networks.ipynb`"
      ],
      "metadata": {
        "id": "GhndUtx1lyeQ"
      },
      "id": "GhndUtx1lyeQ",
      "execution_count": 65,
      "outputs": []
    },
    {
      "cell_type": "code",
      "source": [
        "def get_module_logger(mod_name: str) -> logging.Logger:\n",
        "    \"\"\"Initialises a console logger instance.\n",
        "    \n",
        "    :param mod_name: the model name to assign to the logger.\n",
        "    :returns: a logger instance.\n",
        "    \"\"\"\n",
        "    \n",
        "    ### Setting up the console logger and formatter\n",
        "    logger = logging.getLogger(mod_name)\n",
        "    handler = logging.StreamHandler()\n",
        "    formatter = logging.Formatter('%(asctime)s %(levelname)-8s %(message)s')\n",
        "    handler.setFormatter(formatter)\n",
        "    logger.addHandler(handler)\n",
        "    logger.setLevel(logging.DEBUG)\n",
        "    ### Prevent messages going to root handler\n",
        "    logger.propagate = False\n",
        "    return logger"
      ],
      "metadata": {
        "id": "XV4-Vj14l_cI"
      },
      "id": "XV4-Vj14l_cI",
      "execution_count": 66,
      "outputs": []
    },
    {
      "cell_type": "code",
      "source": [
        "### From Udacity's `utils.py`"
      ],
      "metadata": {
        "id": "WvL_PojVmX3L"
      },
      "id": "WvL_PojVmX3L",
      "execution_count": 67,
      "outputs": []
    },
    {
      "cell_type": "code",
      "source": [
        "def display_metrics(history):\n",
        "    \"\"\" plot loss and accuracy from keras history object \"\"\"\n",
        "    f, ax = plt.subplots(1, 3, figsize=(15, 5))\n",
        "    ax[0].plot(history.history['loss'], linewidth=3)\n",
        "    ax[0].plot(history.history['val_loss'], linewidth=3)\n",
        "    ax[0].set_title('Loss', fontsize=16)\n",
        "    ax[0].set_ylabel('Loss', fontsize=16)\n",
        "    ax[0].set_xlabel('Epoch', fontsize=16)\n",
        "    ax[0].legend(['train loss', 'val loss'], loc='upper right')\n",
        "    ax[1].plot(history.history['accuracy'], linewidth=3)\n",
        "    ax[1].plot(history.history['val_accuracy'], linewidth=3)\n",
        "    ax[1].set_title('Accuracy', fontsize=16)\n",
        "    ax[1].set_ylabel('Accuracy', fontsize=16)\n",
        "    ax[1].set_xlabel('Epoch', fontsize=16)\n",
        "    ax[1].legend(['train acc', 'val acc'], loc='upper left')\n",
        "    ax[2].plot(history.history['lr'], linewidth=3)\n",
        "    ax[2].set_title('Learning rate', fontsize=16)\n",
        "    ax[2].set_ylabel('Learning Rate', fontsize=16)\n",
        "    ax[2].set_xlabel('Epoch', fontsize=16)\n",
        "    ax[2].legend(['learning rate'], loc='upper right')\n",
        "    # ax[2].ticklabel_format(axis='y', style='sci')\n",
        "    ax[2].yaxis.set_major_formatter(mtick.FormatStrFormatter('%.2e'))\n",
        "    plt.tight_layout()\n",
        "    plt.show()"
      ],
      "metadata": {
        "id": "-FXUQ5Q8lx9N"
      },
      "id": "-FXUQ5Q8lx9N",
      "execution_count": 68,
      "outputs": []
    },
    {
      "cell_type": "code",
      "source": [
        "logger_step = get_module_logger(step_decay.__name__)"
      ],
      "metadata": {
        "id": "9k_G4Lh1l_WG"
      },
      "id": "9k_G4Lh1l_WG",
      "execution_count": 69,
      "outputs": []
    },
    {
      "cell_type": "code",
      "source": [
        "logger_exp = get_module_logger(step_decay.__name__)"
      ],
      "metadata": {
        "id": "j62UE4BMmELi"
      },
      "id": "j62UE4BMmELi",
      "execution_count": 70,
      "outputs": []
    },
    {
      "cell_type": "markdown",
      "source": [
        "### 2.4. Evaluation on the GTSRB dataset"
      ],
      "metadata": {
        "id": "KEwnkHRrc2mX"
      },
      "id": "KEwnkHRrc2mX"
    },
    {
      "cell_type": "markdown",
      "id": "85ca5fe1",
      "metadata": {
        "id": "85ca5fe1"
      },
      "source": [
        "You can run `python training.py` to see the effect of different annealing strategies on your training and model performances. Make sure to feed in the GTSRB dataset as the image directory, and use the Desktop to view the visualization of final training metrics."
      ]
    },
    {
      "cell_type": "markdown",
      "source": [
        "#### Considerations for our input data"
      ],
      "metadata": {
        "id": "ZQfGG9udeTX6"
      },
      "id": "ZQfGG9udeTX6"
    },
    {
      "cell_type": "code",
      "source": [
        "DATASET_NAME = 'GTSRB'"
      ],
      "metadata": {
        "id": "T8V47lj1eV4Z"
      },
      "id": "T8V47lj1eV4Z",
      "execution_count": 31,
      "outputs": []
    },
    {
      "cell_type": "code",
      "source": [
        "N_CLASSES = 43                                    # GTSRB has 43 distinct digit classes"
      ],
      "metadata": {
        "id": "M_YZ21JveXOH"
      },
      "id": "M_YZ21JveXOH",
      "execution_count": 32,
      "outputs": []
    },
    {
      "cell_type": "code",
      "source": [
        "### Defining our input image specs"
      ],
      "metadata": {
        "id": "JK4XovB8eXJi"
      },
      "id": "JK4XovB8eXJi",
      "execution_count": 33,
      "outputs": []
    },
    {
      "cell_type": "code",
      "source": [
        "IMG_DIR = os.path.join(DIR_SRC, 'GTSRB/Final_Training/Images')"
      ],
      "metadata": {
        "id": "pyGzXzZteXFi"
      },
      "id": "pyGzXzZteXFi",
      "execution_count": 34,
      "outputs": []
    },
    {
      "cell_type": "code",
      "source": [
        "BATCH_SIZE = 128"
      ],
      "metadata": {
        "id": "ewTsseKJeXBe"
      },
      "id": "ewTsseKJeXBe",
      "execution_count": 35,
      "outputs": []
    },
    {
      "cell_type": "code",
      "source": [
        "IMG_COLOR_MODE = 'rgb'\n",
        "IMG_SIZE = (32, 32)                               # Each RGB image has 32x32 px resolution\n",
        "IMG_SHAPE = (32, 32, 3)                           # Each RGB image has 3 channels\n",
        "N_FEATURES = (32 * 32) * 3                        # Each pixel value is considered an attribute (feature)"
      ],
      "metadata": {
        "id": "DWxNN89oeeV9"
      },
      "id": "DWxNN89oeeV9",
      "execution_count": 36,
      "outputs": []
    },
    {
      "cell_type": "code",
      "source": [
        "model_params[DATASET_NAME].update({'n_classes': N_CLASSES})\n",
        "model_params[DATASET_NAME].update({'imdir': IMG_DIR})\n",
        "model_params[DATASET_NAME].update({'batch_size': BATCH_SIZE})\n",
        "model_params[DATASET_NAME].update({'color_mode': IMG_COLOR_MODE})\n",
        "model_params[DATASET_NAME].update({'image_size': IMG_SIZE})\n",
        "model_params[DATASET_NAME].update({'input_shape': IMG_SHAPE})\n",
        "model_params[DATASET_NAME].update({'n_features': N_FEATURES})"
      ],
      "metadata": {
        "id": "TozMeHl4eeQl"
      },
      "id": "TozMeHl4eeQl",
      "execution_count": 37,
      "outputs": []
    },
    {
      "cell_type": "code",
      "execution_count": 38,
      "id": "df3b8ca8",
      "metadata": {
        "id": "df3b8ca8"
      },
      "outputs": [],
      "source": [
        "### From J. Moran's `2022-09-05-Image-Classification-Feed-Forward-Neural-Networks.ipynb`"
      ]
    },
    {
      "cell_type": "code",
      "execution_count": 39,
      "id": "64829f0a",
      "metadata": {
        "id": "64829f0a"
      },
      "outputs": [],
      "source": [
        "def get_datasets(model_params: dict) -> Tuple[tf.data.Dataset, tf.data.Dataset]:\n",
        "    \"\"\"Return the training and validation datasets.\n",
        "    \n",
        "    :param model_params: the dict containing the dataset- and \n",
        "        model-specific arguments.\n",
        "    :returns: (train_dataset, validation_dataset), tuple of tf.data.Dataset \n",
        "        instances.\n",
        "    \"\"\"\n",
        "    \n",
        "    model_params = dict(model_params)\n",
        "    train_dataset = tf.keras.utils.image_dataset_from_directory(\n",
        "                        directory=model_params.get('imdir', None),\n",
        "                        labels='inferred',\n",
        "                        label_mode='int',\n",
        "                        color_mode=model_params.get('color_mode', None),\n",
        "                        batch_size=model_params.get('batch_size', None),\n",
        "                        image_size=model_params.get('image_size', None),\n",
        "                        shuffle=True,\n",
        "                        seed=123,\n",
        "                        validation_split=0.2,\n",
        "                        subset='training',\n",
        "    )\n",
        "    validation_dataset = tf.keras.utils.image_dataset_from_directory(\n",
        "                        directory=model_params.get('imdir', None),\n",
        "                        labels='inferred',\n",
        "                        label_mode='int',\n",
        "                        color_mode=model_params.get('color_mode', None),\n",
        "                        batch_size=model_params.get('batch_size', None),\n",
        "                        image_size=model_params.get('image_size', None),\n",
        "                        shuffle=True,\n",
        "                        seed=123,\n",
        "                        validation_split=0.2,\n",
        "                        subset='validation',\n",
        "    )\n",
        "    return train_dataset, validation_dataset"
      ]
    },
    {
      "cell_type": "code",
      "execution_count": 21,
      "id": "76681169",
      "metadata": {
        "id": "76681169"
      },
      "outputs": [],
      "source": [
        "### From Udacity's `utils.py`"
      ]
    },
    {
      "cell_type": "code",
      "execution_count": 22,
      "id": "e33af3f4",
      "metadata": {
        "id": "e33af3f4"
      },
      "outputs": [],
      "source": [
        "def get_module_logger(mod_name):\n",
        "    logger = logging.getLogger(mod_name)\n",
        "    handler = logging.StreamHandler()\n",
        "    formatter = logging.Formatter('%(asctime)s %(levelname)-8s %(message)s')\n",
        "    handler.setFormatter(formatter)\n",
        "    logger.addHandler(handler)\n",
        "    logger.setLevel(logging.DEBUG)\n",
        "    return logger"
      ]
    },
    {
      "cell_type": "code",
      "source": [
        "logger_step = get_module_logger(step_decay.__name__)"
      ],
      "metadata": {
        "id": "1E_j_PzohdQr"
      },
      "id": "1E_j_PzohdQr",
      "execution_count": 27,
      "outputs": []
    },
    {
      "cell_type": "code",
      "source": [
        "logger_exp = get_module_logger(exponential_decay.__name__)"
      ],
      "metadata": {
        "id": "JvT_s_ychdFm"
      },
      "id": "JvT_s_ychdFm",
      "execution_count": 28,
      "outputs": []
    },
    {
      "cell_type": "markdown",
      "source": [
        "#### Processing the GTSRB data"
      ],
      "metadata": {
        "id": "Wy-4WKkgfb4f"
      },
      "id": "Wy-4WKkgfb4f"
    },
    {
      "cell_type": "code",
      "execution_count": 40,
      "id": "583ba8cd",
      "metadata": {
        "id": "583ba8cd"
      },
      "outputs": [],
      "source": [
        "### From J. Moran's `2022-09-05-Image-Classification-Feed-Forward-Neural-Networks.ipynb`"
      ]
    },
    {
      "cell_type": "code",
      "execution_count": 41,
      "id": "0fef7ac6",
      "metadata": {
        "id": "0fef7ac6"
      },
      "outputs": [],
      "source": [
        "def process(dataset: tf.data.Dataset) -> Generator[tuple, None, None]:\n",
        "    \"\"\"Processes the input dataset and returns a generator object.\n",
        "\n",
        "    :param dataset: the tf.data.Dataset instance of batched image, label data.\n",
        "    :returns: the generator instance modifying the image attribute values.\n",
        "    \"\"\"\n",
        "\n",
        "    def process_generator()  -> Iterator[Tuple[tf.Tensor, tf.Tensor]]:\n",
        "        \"\"\"Scales the input image data.\n",
        "        \n",
        "        Unbatches the tf.data.Dataset and scales all image attributes,\n",
        "        i.e., pixel values, in the range [0, 1].\n",
        "\n",
        "        :returns: an iterator yielding the modfied image data and\n",
        "            corresponding label.\n",
        "        \"\"\"\n",
        "\n",
        "        for batch in dataset:\n",
        "            for image, label in zip(*batch):\n",
        "                image = tf.cast(image/255., tf.float32)\n",
        "                yield image, label\n",
        "    return process_generator"
      ]
    },
    {
      "cell_type": "code",
      "source": [
        "### Fetching the training and validation datasets\n",
        "train_dataset, validation_dataset = get_datasets(model_params[DATASET_NAME])"
      ],
      "metadata": {
        "colab": {
          "base_uri": "https://localhost:8080/"
        },
        "id": "8B8mNIl1fIq-",
        "outputId": "850065c6-a052-4850-b515-134ff15615cc"
      },
      "id": "8B8mNIl1fIq-",
      "execution_count": 42,
      "outputs": [
        {
          "output_type": "stream",
          "name": "stdout",
          "text": [
            "Found 4300 files belonging to 43 classes.\n",
            "Using 3440 files for training.\n",
            "Found 4300 files belonging to 43 classes.\n",
            "Using 860 files for validation.\n"
          ]
        }
      ]
    },
    {
      "cell_type": "code",
      "source": [
        "### Number of features (pixel values) in a single image\n",
        "train_iter = iter(train_dataset)\n",
        "len(train_iter.get_next()[0][0].numpy().flatten())"
      ],
      "metadata": {
        "colab": {
          "base_uri": "https://localhost:8080/"
        },
        "id": "H640anbbfiXd",
        "outputId": "1d753f48-1237-412d-b1fa-37fddc95c494"
      },
      "id": "H640anbbfiXd",
      "execution_count": 43,
      "outputs": [
        {
          "output_type": "execute_result",
          "data": {
            "text/plain": [
              "3072"
            ]
          },
          "metadata": {},
          "execution_count": 43
        }
      ]
    },
    {
      "cell_type": "code",
      "source": [
        "### Unbatching the datasets and scaling the images"
      ],
      "metadata": {
        "id": "Yl1zYxvIfvFK"
      },
      "id": "Yl1zYxvIfvFK",
      "execution_count": 44,
      "outputs": []
    },
    {
      "cell_type": "code",
      "source": [
        "train_dataset_scaled = tf.data.Dataset.from_generator(\n",
        "        generator=process(train_dataset), \n",
        "        output_signature=(\n",
        "            tf.TensorSpec(\n",
        "                shape=model_params[DATASET_NAME].get('input_shape', None),\n",
        "                dtype=tf.dtypes.float32), \n",
        "            tf.TensorSpec(\n",
        "                shape=(),\n",
        "                dtype=tf.dtypes.int32)\n",
        "        )\n",
        ")"
      ],
      "metadata": {
        "id": "ZM4ZEP8Sfi3b"
      },
      "id": "ZM4ZEP8Sfi3b",
      "execution_count": 45,
      "outputs": []
    },
    {
      "cell_type": "code",
      "source": [
        "validation_dataset_scaled = tf.data.Dataset.from_generator(\n",
        "        generator=process(validation_dataset), \n",
        "        output_signature=(\n",
        "            tf.TensorSpec(\n",
        "                shape=model_params[DATASET_NAME].get('input_shape', None),\n",
        "                dtype=tf.dtypes.float32), \n",
        "            tf.TensorSpec(\n",
        "                shape=(),\n",
        "                dtype=tf.dtypes.int32)\n",
        "        )\n",
        ")"
      ],
      "metadata": {
        "id": "n34bWaRLfjT0"
      },
      "id": "n34bWaRLfjT0",
      "execution_count": 46,
      "outputs": []
    },
    {
      "cell_type": "markdown",
      "source": [
        "#### Defining our model architecture"
      ],
      "metadata": {
        "id": "FZlaKKvHf0VH"
      },
      "id": "FZlaKKvHf0VH"
    },
    {
      "cell_type": "code",
      "source": [
        "MODEL_NAME = 'ConvNet'"
      ],
      "metadata": {
        "id": "eDA71Wxhh70L"
      },
      "id": "eDA71Wxhh70L",
      "execution_count": 30,
      "outputs": []
    },
    {
      "cell_type": "code",
      "execution_count": 29,
      "id": "cc4e04b4",
      "metadata": {
        "id": "cc4e04b4"
      },
      "outputs": [],
      "source": [
        "def create_network(\n",
        "        inputs: tf.keras.Input, outputs: tf.keras.layers.Layer, name: str=''\n",
        ") -> tf.keras.Model:\n",
        "    \"\"\"Creates a tf.keras.Sequential Model with the provided inputs and outputs.\n",
        "    \n",
        "    :param inputs: the tf.keras.Input layer of specified shape.\n",
        "    :param outputs: the tf.keras.layers.Layer instance of desired output,\n",
        "        this should be a Dense layer with units equal to num. classes.\n",
        "    :param name: str (optional), the name to assign to the model.\n",
        "    :returns: the tf.keras.Model instance.\n",
        "    \"\"\"\n",
        "    \n",
        "    net = tf.keras.models.Sequential([\n",
        "        inputs,\n",
        "        tf.keras.layers.Conv2D(\n",
        "            filters=6, kernel_size=(3, 3), strides=(1, 1), activation='relu'),\n",
        "        tf.keras.layers.MaxPooling2D(\n",
        "            pool_size=(2, 2), strides=(2, 2)),\n",
        "        tf.keras.layers.Conv2D(\n",
        "            filters=16, kernel_size=(3, 3), strides=(1, 1), activation='relu'),\n",
        "        tf.keras.layers.MaxPooling2D(\n",
        "            pool_size=(2, 2), strides=(2, 2)),\n",
        "        tf.keras.layers.Flatten(),\n",
        "        tf.keras.layers.Dense(\n",
        "            units=120, activation='relu'),\n",
        "        tf.keras.layers.Dense(\n",
        "            units=84, activation='relu'),\n",
        "        outputs\n",
        "    ], name=name)\n",
        "    return net"
      ]
    },
    {
      "cell_type": "code",
      "source": [
        "### Initialising our Sequential model"
      ],
      "metadata": {
        "id": "noAUE31FgBOt"
      },
      "id": "noAUE31FgBOt",
      "execution_count": 47,
      "outputs": []
    },
    {
      "cell_type": "code",
      "source": [
        "inputs = tf.keras.Input(shape=model_params[DATASET_NAME]['input_shape'])\n",
        "outputs = tf.keras.layers.Dense(units=model_params[DATASET_NAME]['n_classes'])"
      ],
      "metadata": {
        "id": "7GDbRkzKgBHx"
      },
      "id": "7GDbRkzKgBHx",
      "execution_count": 48,
      "outputs": []
    },
    {
      "cell_type": "code",
      "source": [
        "model = create_network(inputs, outputs)"
      ],
      "metadata": {
        "id": "g5lw8wHygBCU"
      },
      "id": "g5lw8wHygBCU",
      "execution_count": 49,
      "outputs": []
    },
    {
      "cell_type": "code",
      "source": [
        "model.summary()"
      ],
      "metadata": {
        "colab": {
          "base_uri": "https://localhost:8080/"
        },
        "id": "W3aXcUyigJDx",
        "outputId": "24a73752-504a-44df-922b-155b8cb18834"
      },
      "id": "W3aXcUyigJDx",
      "execution_count": 50,
      "outputs": [
        {
          "output_type": "stream",
          "name": "stdout",
          "text": [
            "Model: \"sequential\"\n",
            "_________________________________________________________________\n",
            " Layer (type)                Output Shape              Param #   \n",
            "=================================================================\n",
            " conv2d (Conv2D)             (None, 30, 30, 6)         168       \n",
            "                                                                 \n",
            " max_pooling2d (MaxPooling2D  (None, 15, 15, 6)        0         \n",
            " )                                                               \n",
            "                                                                 \n",
            " conv2d_1 (Conv2D)           (None, 13, 13, 16)        880       \n",
            "                                                                 \n",
            " max_pooling2d_1 (MaxPooling  (None, 6, 6, 16)         0         \n",
            " 2D)                                                             \n",
            "                                                                 \n",
            " flatten (Flatten)           (None, 576)               0         \n",
            "                                                                 \n",
            " dense_1 (Dense)             (None, 120)               69240     \n",
            "                                                                 \n",
            " dense_2 (Dense)             (None, 84)                10164     \n",
            "                                                                 \n",
            " dense (Dense)               (None, 43)                3655      \n",
            "                                                                 \n",
            "=================================================================\n",
            "Total params: 84,107\n",
            "Trainable params: 84,107\n",
            "Non-trainable params: 0\n",
            "_________________________________________________________________\n"
          ]
        }
      ]
    },
    {
      "cell_type": "markdown",
      "source": [
        "#### Testing our learning rate schedules"
      ],
      "metadata": {
        "id": "vu23KUR3gR8v"
      },
      "id": "vu23KUR3gR8v"
    },
    {
      "cell_type": "code",
      "source": [
        "### Defining our training hyperparameters"
      ],
      "metadata": {
        "id": "Q3rJ_lbejK2V"
      },
      "id": "Q3rJ_lbejK2V",
      "execution_count": 53,
      "outputs": []
    },
    {
      "cell_type": "code",
      "source": [
        "EPOCHS = 10"
      ],
      "metadata": {
        "id": "Iw2phMcLjEWA"
      },
      "id": "Iw2phMcLjEWA",
      "execution_count": 54,
      "outputs": []
    },
    {
      "cell_type": "code",
      "source": [
        "model_params[MODEL_NAME].update({'epochs': EPOCHS})"
      ],
      "metadata": {
        "id": "V9S-xiLvjKSO"
      },
      "id": "V9S-xiLvjKSO",
      "execution_count": 55,
      "outputs": []
    },
    {
      "cell_type": "markdown",
      "source": [
        "##### Step-wise Annealing"
      ],
      "metadata": {
        "id": "piJBeil4gdr5"
      },
      "id": "piJBeil4gdr5"
    },
    {
      "cell_type": "code",
      "source": [
        "### Initialise the LR logger and custom callbacks\n",
        "logger = LrLogger()\n",
        "callbacks = [logger]"
      ],
      "metadata": {
        "id": "RpxSodaYfKti"
      },
      "id": "RpxSodaYfKti",
      "execution_count": 72,
      "outputs": []
    },
    {
      "cell_type": "code",
      "source": [
        "### Compile the model with a custom `step_decay` LR schedule\n",
        "model, callbacks = step_decay(model, callbacks=callbacks, initial_lr=0.001)"
      ],
      "metadata": {
        "id": "7vgzA783gM-N"
      },
      "id": "7vgzA783gM-N",
      "execution_count": 73,
      "outputs": []
    },
    {
      "cell_type": "code",
      "source": [
        "### Batching the train and validation datasets"
      ],
      "metadata": {
        "id": "-HUd0-wmkKry"
      },
      "id": "-HUd0-wmkKry",
      "execution_count": 74,
      "outputs": []
    },
    {
      "cell_type": "code",
      "source": [
        "train_dataset_batched = train_dataset_scaled.batch(\n",
        "                            model_params[DATASET_NAME]['batch_size']\n",
        ")\n",
        "validation_dataset_batched = validation_dataset_scaled.batch(\n",
        "                            model_params[DATASET_NAME]['batch_size']\n",
        ")"
      ],
      "metadata": {
        "id": "ocwQk0GJkKho"
      },
      "id": "ocwQk0GJkKho",
      "execution_count": 75,
      "outputs": []
    },
    {
      "cell_type": "code",
      "source": [
        "### Fitting the model on the train data and passing in our callbacks"
      ],
      "metadata": {
        "id": "Ci_njeAugp4G"
      },
      "id": "Ci_njeAugp4G",
      "execution_count": 76,
      "outputs": []
    },
    {
      "cell_type": "code",
      "source": [
        "logger_step.info(f\"Training for {model_params[MODEL_NAME]['epochs']} \" +\n",
        "                 f\"epochs using {model_params[DATASET_NAME]['imdir']} data\")"
      ],
      "metadata": {
        "colab": {
          "base_uri": "https://localhost:8080/"
        },
        "id": "XsRSQNbRhFI-",
        "outputId": "f3328711-1d27-4613-e9fd-33f932a97b1a"
      },
      "id": "XsRSQNbRhFI-",
      "execution_count": 77,
      "outputs": [
        {
          "output_type": "stream",
          "name": "stderr",
          "text": [
            "2022-09-29 18:56:28,814 INFO     Training for 10 epochs using /content/data/GTSRB/Final_Training/Images data\n",
            "2022-09-29 18:56:28,814 INFO     Training for 10 epochs using /content/data/GTSRB/Final_Training/Images data\n",
            "2022-09-29 18:56:28,814 INFO     Training for 10 epochs using /content/data/GTSRB/Final_Training/Images data\n"
          ]
        }
      ]
    },
    {
      "cell_type": "code",
      "source": [
        "history_step = model.fit(x=train_dataset_batched, \n",
        "                         epochs=model_params[MODEL_NAME]['epochs'],\n",
        "                         batch_size=model_params[DATASET_NAME]['batch_size'],\n",
        "                         validation_data=validation_dataset_batched,\n",
        "                         callbacks=callbacks\n",
        ")"
      ],
      "metadata": {
        "colab": {
          "base_uri": "https://localhost:8080/"
        },
        "id": "zNg6sNqMgpyV",
        "outputId": "795f8657-3fc8-4d16-911b-b7a6c40b2cf1"
      },
      "id": "zNg6sNqMgpyV",
      "execution_count": 78,
      "outputs": [
        {
          "output_type": "stream",
          "name": "stdout",
          "text": [
            "Epoch 1/10\n",
            "27/27 [==============================] - 5s 174ms/step - loss: 3.7612 - accuracy: 0.0285 - val_loss: 3.7612 - val_accuracy: 0.0267 - lr: 0.0010\n",
            "Epoch 2/10\n",
            "27/27 [==============================] - 5s 168ms/step - loss: 3.7612 - accuracy: 0.0285 - val_loss: 3.7612 - val_accuracy: 0.0267 - lr: 0.0010\n",
            "Epoch 3/10\n",
            "27/27 [==============================] - 5s 165ms/step - loss: 3.7612 - accuracy: 0.0285 - val_loss: 3.7612 - val_accuracy: 0.0267 - lr: 0.0010\n",
            "Epoch 4/10\n",
            "27/27 [==============================] - 6s 197ms/step - loss: 3.7612 - accuracy: 0.0285 - val_loss: 3.7612 - val_accuracy: 0.0267 - lr: 0.0010\n",
            "Epoch 5/10\n",
            "27/27 [==============================] - 7s 245ms/step - loss: 3.7612 - accuracy: 0.0285 - val_loss: 3.7612 - val_accuracy: 0.0267 - lr: 0.0010\n",
            "Epoch 6/10\n",
            "27/27 [==============================] - 6s 230ms/step - loss: 3.7612 - accuracy: 0.0285 - val_loss: 3.7612 - val_accuracy: 0.0267 - lr: 0.0010\n",
            "Epoch 7/10\n",
            "27/27 [==============================] - 5s 168ms/step - loss: 3.7612 - accuracy: 0.0285 - val_loss: 3.7612 - val_accuracy: 0.0267 - lr: 0.0010\n",
            "Epoch 8/10\n",
            "27/27 [==============================] - 6s 220ms/step - loss: 3.7612 - accuracy: 0.0285 - val_loss: 3.7612 - val_accuracy: 0.0267 - lr: 0.0010\n",
            "Epoch 9/10\n",
            "27/27 [==============================] - 8s 290ms/step - loss: 3.7612 - accuracy: 0.0285 - val_loss: 3.7612 - val_accuracy: 0.0267 - lr: 0.0010\n",
            "Epoch 10/10\n",
            "27/27 [==============================] - 6s 219ms/step - loss: 3.7612 - accuracy: 0.0285 - val_loss: 3.7612 - val_accuracy: 0.0267 - lr: 0.0010\n"
          ]
        }
      ]
    },
    {
      "cell_type": "code",
      "source": [
        "### Plot the loss, accuracy and LR decay (if using callbacks)"
      ],
      "metadata": {
        "id": "4BBovrsfgpth"
      },
      "id": "4BBovrsfgpth",
      "execution_count": null,
      "outputs": []
    },
    {
      "cell_type": "code",
      "source": [
        "display_metrics(history_step)"
      ],
      "metadata": {
        "colab": {
          "base_uri": "https://localhost:8080/",
          "height": 369
        },
        "id": "wJzIFiTBgpoj",
        "outputId": "4cbc3c08-c6a6-4fd9-88ab-4472a525dcf0"
      },
      "id": "wJzIFiTBgpoj",
      "execution_count": 79,
      "outputs": [
        {
          "output_type": "display_data",
          "data": {
            "text/plain": [
              "<Figure size 1080x360 with 3 Axes>"
            ],
            "image/png": "[encoded data removed]"
          },
          "metadata": {
            "needs_background": "light"
          }
        }
      ]
    },
    {
      "cell_type": "markdown",
      "source": [
        "##### Exponential Decay"
      ],
      "metadata": {
        "id": "QmeANnbBgkMI"
      },
      "id": "QmeANnbBgkMI"
    },
    {
      "cell_type": "code",
      "source": [
        "### Initialise the LR logger and custom callbacks\n",
        "logger = LrLogger()"
      ],
      "metadata": {
        "id": "U32h7OeYniEx"
      },
      "id": "U32h7OeYniEx",
      "execution_count": 86,
      "outputs": []
    },
    {
      "cell_type": "code",
      "source": [
        "### Create a list of all desired TensorFlow Keras callbacks\n",
        "callbacks = [logger]"
      ],
      "metadata": {
        "id": "o4t3-gvcgNDs"
      },
      "id": "o4t3-gvcgNDs",
      "execution_count": 87,
      "outputs": []
    },
    {
      "cell_type": "code",
      "source": [
        "### Compile the model with a Keras `ExponentialDecay` LR schedule\n",
        "model = create_network(inputs, outputs)\n",
        "model, callbacks = exponential_decay(model, callbacks=callbacks, initial_lr=0.1)"
      ],
      "metadata": {
        "id": "ri_wk1n3gM5E"
      },
      "id": "ri_wk1n3gM5E",
      "execution_count": 88,
      "outputs": []
    },
    {
      "cell_type": "code",
      "source": [
        "### Fitting the model on the train data and passing in our callbacks"
      ],
      "metadata": {
        "id": "LuyhC1tUgxYD"
      },
      "id": "LuyhC1tUgxYD",
      "execution_count": 89,
      "outputs": []
    },
    {
      "cell_type": "code",
      "execution_count": 90,
      "id": "8ce029a7",
      "metadata": {
        "colab": {
          "base_uri": "https://localhost:8080/"
        },
        "id": "8ce029a7",
        "outputId": "13ca6a33-2540-425e-d6a9-da2d73d7e92f"
      },
      "outputs": [
        {
          "output_type": "stream",
          "name": "stderr",
          "text": [
            "2022-09-29 18:59:41,733 INFO     Training for 10 epochs using /content/data/GTSRB/Final_Training/Images data\n",
            "2022-09-29 18:59:41,733 INFO     Training for 10 epochs using /content/data/GTSRB/Final_Training/Images data\n",
            "2022-09-29 18:59:41,733 INFO     Training for 10 epochs using /content/data/GTSRB/Final_Training/Images data\n"
          ]
        }
      ],
      "source": [
        "logger_exp.info(f\"Training for {model_params[MODEL_NAME]['epochs']} \" +\n",
        "                 f\"epochs using {model_params[DATASET_NAME]['imdir']} data\")"
      ]
    },
    {
      "cell_type": "code",
      "source": [
        "history_exp = model.fit(x=train_dataset_batched, \n",
        "                        epochs=model_params[MODEL_NAME]['epochs'], \n",
        "                        validation_data=validation_dataset_batched,\n",
        "                        callbacks=callbacks\n",
        ")"
      ],
      "metadata": {
        "colab": {
          "base_uri": "https://localhost:8080/"
        },
        "id": "8EQ-bVc8gxNl",
        "outputId": "89d40644-1e38-4a16-e743-f69274e17709"
      },
      "id": "8EQ-bVc8gxNl",
      "execution_count": 91,
      "outputs": [
        {
          "output_type": "stream",
          "name": "stdout",
          "text": [
            "Epoch 1/10\n",
            "27/27 [==============================] - 5s 176ms/step - loss: 15.9000 - accuracy: 0.0238 - val_loss: 16.2421 - val_accuracy: 0.0209\n",
            "Epoch 2/10\n",
            "27/27 [==============================] - 5s 167ms/step - loss: 16.0547 - accuracy: 0.0238 - val_loss: 16.2421 - val_accuracy: 0.0209\n",
            "Epoch 3/10\n",
            "27/27 [==============================] - 5s 165ms/step - loss: 16.0547 - accuracy: 0.0238 - val_loss: 16.2421 - val_accuracy: 0.0209\n",
            "Epoch 4/10\n",
            "27/27 [==============================] - 5s 179ms/step - loss: 16.0547 - accuracy: 0.0238 - val_loss: 16.2421 - val_accuracy: 0.0209\n",
            "Epoch 5/10\n",
            "27/27 [==============================] - 5s 171ms/step - loss: 16.0547 - accuracy: 0.0238 - val_loss: 16.2421 - val_accuracy: 0.0209\n",
            "Epoch 6/10\n",
            "27/27 [==============================] - 5s 170ms/step - loss: 16.0547 - accuracy: 0.0238 - val_loss: 16.2421 - val_accuracy: 0.0209\n",
            "Epoch 7/10\n",
            "27/27 [==============================] - 5s 170ms/step - loss: 16.0547 - accuracy: 0.0238 - val_loss: 16.2421 - val_accuracy: 0.0209\n",
            "Epoch 8/10\n",
            "27/27 [==============================] - 5s 168ms/step - loss: 16.0547 - accuracy: 0.0238 - val_loss: 16.2421 - val_accuracy: 0.0209\n",
            "Epoch 9/10\n",
            "27/27 [==============================] - 5s 169ms/step - loss: 16.0547 - accuracy: 0.0238 - val_loss: 16.2421 - val_accuracy: 0.0209\n",
            "Epoch 10/10\n",
            "27/27 [==============================] - 5s 166ms/step - loss: 16.0547 - accuracy: 0.0238 - val_loss: 16.2421 - val_accuracy: 0.0209\n"
          ]
        }
      ]
    },
    {
      "cell_type": "code",
      "source": [
        "### Plot the loss, accuracy and LR decay (if using callbacks)"
      ],
      "metadata": {
        "id": "MIImZ4-ioENM"
      },
      "id": "MIImZ4-ioENM",
      "execution_count": null,
      "outputs": []
    },
    {
      "cell_type": "code",
      "source": [
        "display_metrics(history_exp)"
      ],
      "metadata": {
        "colab": {
          "base_uri": "https://localhost:8080/",
          "height": 369
        },
        "id": "rcx5DH3SgMz0",
        "outputId": "64bf111a-6023-49d4-bb56-e7131863df8b"
      },
      "id": "rcx5DH3SgMz0",
      "execution_count": 92,
      "outputs": [
        {
          "output_type": "display_data",
          "data": {
            "text/plain": [
              "<Figure size 1080x360 with 3 Axes>"
            ],
            "image/png": "[encoded data removed]"
          },
          "metadata": {
            "needs_background": "light"
          }
        }
      ]
    },
    {
      "cell_type": "markdown",
      "id": "9e6a5a84",
      "metadata": {
        "id": "9e6a5a84"
      },
      "source": [
        "## 3. Closing Remarks"
      ]
    },
    {
      "cell_type": "markdown",
      "id": "0b56e71a",
      "metadata": {
        "id": "0b56e71a"
      },
      "source": [
        "##### Alternatives\n",
        "* Test out various starting learning rate values.\n",
        "\n",
        "##### Extensions to task\n",
        "* Test learning rate strategies on other model architectures;\n",
        "* Visualise the learning rate schedule over time;\n",
        "* Implement other [popular](https://paperswithcode.com/methods/category/learning-rate-schedules) learning rate schedules in literature (e.g., [cosine annealing](https://paperswithcode.com/method/cosine-annealing), [linear warmup with linear decay](https://paperswithcode.com/method/linear-warmup-with-linear-decay));\n",
        "* Implement [adaptive learning rate](https://en.wikipedia.org/wiki/Learning_rate#Adaptive_learning_rate) methods."
      ]
    },
    {
      "cell_type": "markdown",
      "id": "69be83f5",
      "metadata": {
        "id": "69be83f5"
      },
      "source": [
        "## 4. Future Work"
      ]
    },
    {
      "cell_type": "markdown",
      "id": "3d4dc6fb",
      "metadata": {
        "id": "3d4dc6fb"
      },
      "source": [
        "- [ ] Visualise learning rate schedule over time;\n",
        "- [ ] Compare their performance / affect on model accuracy;\n",
        "- [ ] Implement other popular learning rate schedules."
      ]
    },
    {
      "cell_type": "markdown",
      "id": "6f7ab4a0",
      "metadata": {
        "id": "6f7ab4a0"
      },
      "source": [
        "## Credits"
      ]
    },
    {
      "cell_type": "markdown",
      "id": "101fc32a",
      "metadata": {
        "id": "101fc32a"
      },
      "source": [
        "This assignment was prepared by Thomas Hossler et al., Winter 2021 (link [here](https://www.udacity.com/course/self-driving-car-engineer-nanodegree--nd0013)).\n",
        "\n",
        "\n",
        "References\n",
        "* [1] Duchi, J. et al., Adaptive subgradient methods for online learning and stochastic optimization. Journal of Machine Learning Researcher. 12(61):2121–2159. [doi:10.5555/1953048.2021068](https://dl.acm.org/doi/10.5555/1953048.2021068).\n",
        "\n",
        "* [2] Kingma, D., et al., Adam: A Method for Stochastic Optimization. arXiv. [doi:10.48550/arXiv.1412.6980](https://arxiv.org/abs/1412.6980).\n",
        "\n",
        "\n",
        "Helpful resources:\n",
        "* [Learning Rate Schedule in Practice: an example with Keras and TensorFlow 2.0 by B. Chen | Medium](https://towardsdatascience.com/learning-rate-schedule-in-practice-an-example-with-keras-and-tensorflow-2-0-2f48b2888a0c)\n",
        "* [Adaptive Learning Rate Methods by G. Singh](https://medium.com/@gsinghviews/adaptive-learning-rate-methods-e6e00dcbae5e)\n",
        "* [RMSProp -- Improving Deep Neural Networks: Hyperparameter Tuning, Regularization and Optimization by A. Ng | Coursera](https://www.coursera.org/lecture/deep-neural-network/rmsprop-BhJlm)\n",
        "* [Everything you need to know about Adam Optimizer  by N. Nikhil | Medium](https://medium.com/@nishantnikhil/adam-optimizer-notes-ddac4fd7218)"
      ]
    }
  ],
  "metadata": {
    "kernelspec": {
      "display_name": "Python 3",
      "language": "python",
      "name": "python3"
    },
    "language_info": {
      "codemirror_mode": {
        "name": "ipython",
        "version": 3
      },
      "file_extension": ".py",
      "mimetype": "text/x-python",
      "name": "python",
      "nbconvert_exporter": "python",
      "pygments_lexer": "ipython3",
      "version": "3.8.13"
    },
    "toc": {
      "base_numbering": 1,
      "nav_menu": {},
      "number_sections": false,
      "sideBar": true,
      "skip_h1_title": false,
      "title_cell": "Table of Contents",
      "title_sidebar": "Contents",
      "toc_cell": false,
      "toc_position": {},
      "toc_section_display": true,
      "toc_window_display": true
    },
    "colab": {
      "provenance": [],
      "collapsed_sections": [
        "5ea67398",
        "d69414eb",
        "81b09682",
        "8df01f49",
        "095a84fd",
        "78fcd20c",
        "9e6a5a84",
        "6f7ab4a0"
      ],
      "toc_visible": true
    },
    "accelerator": "GPU"
  },
  "nbformat": 4,
  "nbformat_minor": 5
}