{
  "cells": [
    {
      "cell_type": "markdown",
      "id": "f543afb2",
      "metadata": {
        "id": "f543afb2"
      },
      "source": [
        "# Exercise 1.5.3 - Learning Rate Schedules\n",
        "#### By Jonathan L. Moran (jonathan.moran107@gmail.com)\n",
        "From the Self-Driving Car Engineer Nanodegree programme offered at Udacity."
      ]
    },
    {
      "cell_type": "markdown",
      "id": "38d708ba",
      "metadata": {
        "id": "38d708ba"
      },
      "source": [
        "## Objectives"
      ]
    },
    {
      "cell_type": "markdown",
      "id": "7ba57b82",
      "metadata": {
        "id": "7ba57b82"
      },
      "source": [
        "* Implement two [learning rate schedules](https://en.wikipedia.org/wiki/Learning_rate#Learning_rate_schedule): the [exponential decay](https://www.tensorflow.org/api_docs/python/tf/keras/optimizers/schedules/ExponentialDecay) and [step-wise annealing](https://paperswithcode.com/method/step-decay) strategies;\n",
        "* Use the off-the-shelf [`tf.keras.optimizers.schedules`](https://www.tensorflow.org/api_docs/python/tf/keras/optimizers/schedules) and the custom LR schedule [`tf.keras.callbacks.LearningRateScheduler`](https://www.tensorflow.org/api_docs/python/tf/keras/callbacks/LearningRateScheduler) wrapper to implement the above strategies;\n",
        "* Evaluate a lightweight deep neural network (simple [ConvNet](https://en.wikipedia.org/wiki/Convolutional_neural_network)) with the LR schedules on the [GTSRB](https://benchmark.ini.rub.de/gtsrb_dataset.html) dataset."
      ]
    },
    {
      "cell_type": "markdown",
      "id": "7a672b2c",
      "metadata": {
        "id": "7a672b2c"
      },
      "source": [
        "## 1. Introduction"
      ]
    },
    {
      "cell_type": "code",
      "execution_count": 1,
      "id": "38a8956a",
      "metadata": {
        "id": "38a8956a"
      },
      "outputs": [],
      "source": [
        "### Importing the required modules"
      ]
    },
    {
      "cell_type": "code",
      "execution_count": 2,
      "id": "9188d76f",
      "metadata": {
        "id": "9188d76f"
      },
      "outputs": [],
      "source": [
        "from collections import defaultdict\n",
        "import logging\n",
        "import matplotlib.pyplot as plt\n",
        "import matplotlib.ticker as mtick\n",
        "import os\n",
        "import tensorflow as tf\n",
        "from tensorflow.keras.utils import image_dataset_from_directory\n",
        "from typing import Generator, Iterator, List, Tuple"
      ]
    },
    {
      "cell_type": "code",
      "execution_count": 3,
      "id": "b5967488",
      "metadata": {
        "colab": {
          "base_uri": "https://localhost:8080/",
          "height": 36
        },
        "id": "b5967488",
        "outputId": "078cb384-1859-4be4-fc92-c9ab43967ae1"
      },
      "outputs": [
        {
          "output_type": "execute_result",
          "data": {
            "text/plain": [
              "'2.8.2'"
            ],
            "application/vnd.google.colaboratory.intrinsic+json": {
              "type": "string"
            }
          },
          "metadata": {},
          "execution_count": 3
        }
      ],
      "source": [
        "tf.__version__"
      ]
    },
    {
      "cell_type": "code",
      "execution_count": 4,
      "id": "b1dbdb15",
      "metadata": {
        "colab": {
          "base_uri": "https://localhost:8080/",
          "height": 36
        },
        "id": "b1dbdb15",
        "outputId": "9b43db0c-529b-4f92-b88a-750e3fad0b64"
      },
      "outputs": [
        {
          "output_type": "execute_result",
          "data": {
            "text/plain": [
              "'/device:GPU:0'"
            ],
            "application/vnd.google.colaboratory.intrinsic+json": {
              "type": "string"
            }
          },
          "metadata": {},
          "execution_count": 4
        }
      ],
      "source": [
        "tf.test.gpu_device_name()"
      ]
    },
    {
      "cell_type": "code",
      "execution_count": 5,
      "id": "2d82e76e",
      "metadata": {
        "id": "2d82e76e"
      },
      "outputs": [],
      "source": [
        "### Setting the environment variables"
      ]
    },
    {
      "cell_type": "code",
      "execution_count": 6,
      "id": "71cec767",
      "metadata": {
        "id": "71cec767"
      },
      "outputs": [],
      "source": [
        "ENV_COLAB = True                # True if running in Google Colab instance"
      ]
    },
    {
      "cell_type": "code",
      "execution_count": 7,
      "id": "861f22bb",
      "metadata": {
        "id": "861f22bb"
      },
      "outputs": [],
      "source": [
        "# Root directory\n",
        "DIR_BASE = '' if not ENV_COLAB else '/content/'"
      ]
    },
    {
      "cell_type": "code",
      "execution_count": 8,
      "id": "76acee15",
      "metadata": {
        "id": "76acee15"
      },
      "outputs": [],
      "source": [
        "# Subdirectory to save output files\n",
        "DIR_OUT = os.path.join(DIR_BASE, 'out/')\n",
        "# Subdirectory pointing to input data\n",
        "DIR_SRC = os.path.join(DIR_BASE, 'data/')"
      ]
    },
    {
      "cell_type": "code",
      "source": [
        "### Unzipping the GTSRB dataset\n",
        "#!unzip -q /content/GTSRB.zip -d /content/data/"
      ],
      "metadata": {
        "id": "Ub2reoTsdQuY"
      },
      "id": "Ub2reoTsdQuY",
      "execution_count": 9,
      "outputs": []
    },
    {
      "cell_type": "code",
      "execution_count": 10,
      "id": "7f5214b8",
      "metadata": {
        "id": "7f5214b8"
      },
      "outputs": [],
      "source": [
        "### Creating subdirectories (if not exists)\n",
        "os.makedirs(DIR_OUT, exist_ok=True)"
      ]
    },
    {
      "cell_type": "markdown",
      "id": "5ea67398",
      "metadata": {
        "id": "5ea67398"
      },
      "source": [
        "### 1.1. Learning Rate Schedules"
      ]
    },
    {
      "cell_type": "markdown",
      "id": "3ca2c73a",
      "metadata": {
        "id": "3ca2c73a"
      },
      "source": [
        "In machine learning and statistics, the [learning rate](https://en.wikipedia.org/wiki/Learning_rate) is a tunable hyperparameter in an optimisation algorithm that determines the step size at each iteration while moving towards a minimum of a loss function (credit: Wikipedia). Setting learning rates optimally is often a balancing act between over- and overshooting a global minima. When the learning rate is _too low_, a model might fail to converge as its steps in the direction of a function minima are simply too small. On the other hand, a learning rate that is _too high_ might result in extremely large steps that _overshoot_ the function minima and miss the target entirely. An optimal (fixed) learning rate value should be selected such that the likelihood of overshooting is minimised and that is sufficiently large to perform steepest descent towards convergence.\n",
        "\n",
        "A [learning rate schedule](https://en.wikipedia.org/wiki/Learning_rate#Learning_rate_schedule) helps accomplish this by not only decreasing overshoot but also speeding up the time it could take to reach convergence. LR schedules have two important properties: _decay_ and _momentum_. Decay is a hyperparameter that controls overshooting by decreasing (_annealing_) the learning rate by a fixed factor. Momentum is another hyperparameter that helps us speed up the convergence time. Analogous to a ball rolling down a hill; momentum governs how quickly our learning rate decays. This is extremely useful for making sure that the direction we move in towards steepest descent is indeed towards the global minima and not just towards a local minimum (as a ball with little to no momentum will struggle to 'get over' the shallow [saddle points](https://en.wikipedia.org/wiki/Saddle_point) of the differentiable function."
      ]
    },
    {
      "cell_type": "markdown",
      "id": "d69414eb",
      "metadata": {
        "id": "d69414eb"
      },
      "source": [
        "#### Step-wise Annealing"
      ]
    },
    {
      "cell_type": "markdown",
      "id": "af7af2d1",
      "metadata": {
        "id": "af7af2d1"
      },
      "source": [
        "One of the easiest learning rate schedules to implement is the [step-wise method](https://paperswithcode.com/method/step-decay). With this schedule, the learning rate is decreased by a static factor at evenly-spaced intervals during the training cycle (usually measured in epochs, i.e., full passes over a dataset). The scale factor $\\gamma$ serves as a hyperparameter governing how much to decrease the previous learning rate $\\eta_{i-1}$ by,\n",
        "\n",
        "$$\n",
        "\\begin{align}\n",
        "\\eta_{i} &= \\eta_{i-1} * \\gamma, \n",
        "\\end{align}\n",
        "$$\n",
        "\n",
        "for the updated learning rate value $\\eta_{n}$.\n",
        "\n",
        "Step-wise annealing can also be, well, _step-wise_. As the name implies, the number of current _steps_ $n$ can also be used to scale the initial fixed learning rate value $\\eta_{0}$,\n",
        "\n",
        "$$\n",
        "\\begin{align}\n",
        "\\eta_{i} = \\eta_{0} * d^{\\left\\lfloor\\frac{1 + n}{r}\\right\\rfloor},\n",
        "\\end{align}\n",
        "$$\n",
        "\n",
        "given a static decay factor $d$ (e.g., $d=0.5$ will decay the LR by half) and a drop-rate $r$ (e.g., $r=10$ will drop the LR every 10 iterations)."
      ]
    },
    {
      "cell_type": "markdown",
      "id": "81b09682",
      "metadata": {
        "id": "81b09682"
      },
      "source": [
        "#### Exponential Decay"
      ]
    },
    {
      "cell_type": "markdown",
      "id": "5cf3723d",
      "metadata": {
        "id": "5cf3723d"
      },
      "source": [
        "[Exponential Decay](https://paperswithcode.com/method/exponential-decay) is similar to step-wise annealing in that the LR is gradually decreased over time. However, instead of a linear step-based decay, a scaled, reflected exponential function is used to reduce the initial fixed learning rate $\\eta_{0}$ over time,\n",
        "\n",
        "$$\n",
        "\\begin{align}\n",
        "\\eta_{n} &= \\eta_{0} * \\mathcal{e}^{-dn}, \\\\\n",
        "\\end{align}\n",
        "$$\n",
        "\n",
        "given a static decay factor $d$ and the current number of iterations $n$. Depending on the choice of the decay factor $d$, the Exponential Decay schedule could (preferably) accelerate the learning rate decay more rapidly than with step-wise annealing."
      ]
    },
    {
      "cell_type": "markdown",
      "id": "d5ed3511",
      "metadata": {
        "id": "d5ed3511"
      },
      "source": [
        "### 1.2. Adaptive Learning Rate Methods"
      ]
    },
    {
      "cell_type": "markdown",
      "id": "29d592a1",
      "metadata": {
        "id": "29d592a1"
      },
      "source": [
        "Given that both the learning rate and its schedules have hyperparameters that need to be manually selected and defined prior to training, a learning rate schedule might not always be optimal. Instead, we can use [adaptive learning rate](https://en.wikipedia.org/wiki/Learning_rate#Adaptive_learning_rate) methods to utilise heuristic approaches to parameter selection that provide reliable results. Adaptive learning rate methods such as [Adagrad](https://en.wikipedia.org/wiki/Stochastic_gradient_descent#AdaGrad), [Adam](https://en.wikipedia.org/wiki/Stochastic_gradient_descent#Adam) and [RMSProp](https://en.wikipedia.org/wiki/Stochastic_gradient_descent#RMSProp) build upon the [stochastic gradient descent](https://en.wikipedia.org/wiki/Stochastic_gradient_descent#Adam) optimiser with adaptive learning rate tuning."
      ]
    },
    {
      "cell_type": "markdown",
      "id": "8df01f49",
      "metadata": {
        "id": "8df01f49"
      },
      "source": [
        "#### AdaGrad"
      ]
    },
    {
      "cell_type": "markdown",
      "id": "d430d289",
      "metadata": {
        "id": "d430d289"
      },
      "source": [
        "The [AdaGrad](https://en.wikipedia.org/wiki/Stochastic_gradient_descent#AdaGrad) (Adaptive Gradient) algorithm [1] was pioneered in 2011 by J. Duchi et al., and is a dynamic technique for the normalisation of parameter updates. In brief; weights who receive large gradient update values will have their effective learning rate reduced. Conversely, weights with small or infrequently-updated values will have their effective learning rate increased. Using a parameter referred to as a \"cache\" variable $c$, AdaGrad performs the following updates,\n",
        "\n",
        "$$\n",
        "\\begin{align}\n",
        "c &= c + dx^2, \\\\\n",
        "x &= x - \\alpha \\frac{dx}{\\sqrt{x} + \\epsilon}.\n",
        "\\end{align}\n",
        "$$\n",
        "\n",
        "The cache variable $c$ keeps track of the per-parameter sum of the squared gradients, which in turn is used to normalise the parameter updates. Here an $\\epsilon$ term is added to the denominator of the update term for numerical stability (to avoid a divide by zero error), credit: [G. Singh](https://medium.com/@gsinghviews/adaptive-learning-rate-methods-e6e00dcbae5e). \n",
        "\n",
        "To utilise AdaGrad in TensorFlow Keras, instantiate the [`tf.keras.optimizers.Adagrad`](https://www.tensorflow.org/api_docs/python/tf/keras/optimizers/Adagrad) optimizer."
      ]
    },
    {
      "cell_type": "markdown",
      "id": "095a84fd",
      "metadata": {
        "id": "095a84fd"
      },
      "source": [
        "#### RMSProp"
      ]
    },
    {
      "cell_type": "markdown",
      "id": "fff20a1c",
      "metadata": {
        "id": "fff20a1c"
      },
      "source": [
        "The [RMSProp](https://en.wikipedia.org/wiki/Stochastic_gradient_descent#RMSProp) (Root Mean Square Propagation) algorithm is another technique that updates the learning rate for each weight dynamically. RMSProp, however, seeks to penalise the weights that cause the cost function to oscillate too much. The expontentially-weighted moving average of the squared gradients are computed such that\n",
        "\n",
        "$$\n",
        "\\begin{align}\n",
        "c &= \\gamma * c + \\left(1 - \\gamma\\right) \\cdot dx^2, \\\\\n",
        "x &= x - \\alpha \\frac{dx}{\\sqrt{x} + \\epsilon}.\n",
        "\\end{align}\n",
        "$$\n",
        "\n",
        "As in AdaGrad, we still utilise a cache variable $c$ but instead the moving average of the squared gradients is computed. This is to handle the monotonically decreasing learning rate behaviour of AdaGrad. Here, $\\gamma$ is the _forgetting factor_ hyperparameter. Note that the weight updates are performed element-wise in both a horizontal ($w$) and vertical ($b$) direction. The goal of RMSProp is to slow down the movement in the vertical direction with larger horizontal derivatives while simultaneously increasing the magnitude of the horizontal weight updates. The net effect of RMSProp is a dampening of the oscillatory behaviour of the AdaGrad algorithm while maintaining learning speed-ups in the horizontal direction. \n",
        "\n",
        "To utilise RMSProp in TensorFlow Keras, instantiate the [`tf.keras.optimizers.RMSprop`](https://www.tensorflow.org/api_docs/python/tf/keras/optimizers/RMSprop) optimizer."
      ]
    },
    {
      "cell_type": "markdown",
      "id": "78fcd20c",
      "metadata": {
        "id": "78fcd20c"
      },
      "source": [
        "#### Adam"
      ]
    },
    {
      "cell_type": "markdown",
      "id": "ce557cd2",
      "metadata": {
        "id": "ce557cd2"
      },
      "source": [
        "The [Adam](https://en.wikipedia.org/wiki/Stochastic_gradient_descent#Adam) (Adaptive Moment Estimation) algorithm by Kingma et al., 2014 ]2\\ expands on the RMSProp optimizer by computing the biased first and second moments of the gradients $m$ and $v$,\n",
        "\n",
        "$$\n",
        "\\begin{align}\n",
        "m_{t} &= \\beta_{1} \\cdot m_{t-1} + \\left(1 - \\beta_{1}\\right) \\cdot dx, &\n",
        "v_{t} &= \\beta_{2} \\cdot v_{t-1} + \\left(1 - \\beta_{2}\\right) \\cdot dx^2, \\\\\n",
        "\\hat{v}_{t} & \\leftarrow v_{t} \\ \\big{/} \\left(1 - \\beta_{2}^{t}\\right) &\n",
        "\\hat{m}_{t} & \\leftarrow m_{t} \\ \\big{/} \\left(1 - \\beta_{1}^{t}\\right). \\\\\n",
        "\\end{align}\n",
        "$$\n",
        "which boil down to essentially computing the mean (moving average of the gradients) and variance (moving average of the _squared_ gradients). Parameters $\\beta_{1}$ and $\\beta_{2}$ are considered the _forgetting factors_ and selected in the range $[0, 1)$ as exponential decay rates for the moment estimates. The mean and variance calculations are bias-corrected (second line), and used to update the parameters $\\theta$ as follows,\n",
        "\n",
        "$$\n",
        "\\begin{align}\n",
        "\\theta_{t} \\leftarrow \\theta_{t-1} - \\alpha \\cdot \\hat{m}_{t} \\ \\big{/} \\left(\\sqrt{\\hat{v}_{t}} + \\epsilon\\right).\n",
        "\\end{align}\n",
        "$$\n",
        "\n",
        "The Adam optimizer borrows not only principles from the RMSProp optimizer but also the step-wise learning rate schedule; the last term in the update step $\\hat{m}_{t} \\ \\big{/} \\left(\\sqrt{\\hat{v}_{t}} + \\epsilon\\right)$ becomes closer to zero as the parameters approach optimal values, essentially acting as an automatic step-wise annealing.\n",
        "\n",
        "To utilise Adam in TensorFlow Keras, instantiate the [`tf.keras.optimizers.Adam`](https://www.tensorflow.org/api_docs/python/tf/keras/optimizers/Adam) optimizer."
      ]
    },
    {
      "cell_type": "markdown",
      "id": "c5fd5842",
      "metadata": {
        "id": "c5fd5842"
      },
      "source": [
        "## 2. Programming Task"
      ]
    },
    {
      "cell_type": "markdown",
      "id": "b086a763",
      "metadata": {
        "id": "b086a763"
      },
      "source": [
        "To do so, you will have to leverage Keras `callbacks`. Callbacks performs various action\n",
        "at different stages of training. For example, Keras uses a callback to save the models weights at \n",
        "the end of each training epoch."
      ]
    },
    {
      "cell_type": "code",
      "source": [
        "model_params = defaultdict(dict)"
      ],
      "metadata": {
        "id": "Oqzc5jQ3errs"
      },
      "id": "Oqzc5jQ3errs",
      "execution_count": 11,
      "outputs": []
    },
    {
      "cell_type": "code",
      "execution_count": 12,
      "id": "e7a24310",
      "metadata": {
        "id": "e7a24310"
      },
      "outputs": [],
      "source": [
        "### From Udacity's `utils.py`"
      ]
    },
    {
      "cell_type": "code",
      "execution_count": 13,
      "id": "c8095f72",
      "metadata": {
        "id": "c8095f72"
      },
      "outputs": [],
      "source": [
        "class LrLogger(tf.keras.callbacks.Callback):\n",
        "    def __init__(self):\n",
        "        super().__init__()\n",
        "        \n",
        "    def on_train_begin(self, logs=None):\n",
        "        history = self.model.history.history\n",
        "        history['lr'] = []\n",
        "\n",
        "    def on_epoch_end(self, epoch, logs=None):\n",
        "        history = self.model.history.history\n",
        "        optimizer = self.model.optimizer\n",
        "        decayed_lr = optimizer._decayed_lr('float32').numpy()\n",
        "        history['lr'].append(decayed_lr)"
      ]
    },
    {
      "cell_type": "markdown",
      "id": "4a3007d4",
      "metadata": {
        "id": "4a3007d4"
      },
      "source": [
        "You can either use pre-implemented schedulers (see Tips) or implement a scheduler yourself \n",
        "using your own custom decay function, as shown below:"
      ]
    },
    {
      "cell_type": "markdown",
      "id": "c06b89d7",
      "metadata": {
        "id": "c06b89d7"
      },
      "source": [
        "```\n",
        "def decay(model, callbacks, lr=0.001):\n",
        "    \"\"\" create custom decay that does not do anything \"\"\"\n",
        "    def scheduler(epoch, lr):\n",
        "        return lr \n",
        "\n",
        "    callbacks.append(tf.keras.callbacks.LearningRateScheduler(scheduler))\n",
        "\n",
        "    # compile model\n",
        "    model.compile()\n",
        "    \n",
        "    return model, callbacks \n",
        "```"
      ]
    },
    {
      "cell_type": "markdown",
      "source": [
        "### 2.1. Step-wise Annealing"
      ],
      "metadata": {
        "id": "E8ZMBPCYcU6x"
      },
      "id": "E8ZMBPCYcU6x"
    },
    {
      "cell_type": "code",
      "execution_count": 14,
      "id": "a25c785d",
      "metadata": {
        "id": "a25c785d"
      },
      "outputs": [],
      "source": [
        "def step_decay(\n",
        "        model: tf.keras.Model, callbacks: List[tf.keras.callbacks.Callback]=[], \n",
        "        initial_lr: float=0.001\n",
        ") -> Tuple[tf.keras.Model, List[tf.keras.callbacks.Callback]]:\n",
        "    \"\"\"Compiles and returns Model instance with step-wise decay LR schedule.\n",
        "    \n",
        "    :param model: the tf.keras.Model instance to compile.\n",
        "    :param callbacks: the list of tf.keras.callbacks to pass alongside model.\n",
        "    :param initial_lr: the value to fix the learning rate at before annealing.\n",
        "    :returns: tuple, the compiled Model instance and its callbacks.\n",
        "    \"\"\"\n",
        "    #  IMPLEMENT THIS FUNCTION\n",
        "    \n",
        "    def scheduler(epoch: int, lr: float):\n",
        "        \"\"\"Simple custom constant step-wise annealing schedule.\"\"\"\n",
        "        return lr / 2 if epoch % 10 == 0 and epoch > 0 else lr\n",
        "    \n",
        "    # Instantiate a custom Keras callback to perform LR annealing\n",
        "    lr_schedule = tf.keras.callbacks.LearningRateScheduler(\n",
        "                            schedule=scheduler, verbose=0\n",
        "    )\n",
        "    callbacks.append(lr_schedule)\n",
        "    # Instantiate the optimiser with the initial learning rate value\n",
        "    optimizer = tf.keras.optimizers.Adam(learning_rate=initial_lr)\n",
        "    # Compile the model\n",
        "    model.compile(optimizer=optimizer,\n",
        "                  loss=tf.keras.losses.SparseCategoricalCrossentropy(from_logits=False),\n",
        "                  metrics=['accuracy']\n",
        "    )\n",
        "    # Return the compiled model and the custom LR scheduler and any other callback\n",
        "    return model, callbacks"
      ]
    },
    {
      "cell_type": "code",
      "execution_count": 15,
      "id": "a7d7a4ed",
      "metadata": {
        "id": "a7d7a4ed"
      },
      "outputs": [],
      "source": [
        "model = tf.keras.Model()"
      ]
    },
    {
      "cell_type": "code",
      "execution_count": 16,
      "id": "8844b8d3",
      "metadata": {
        "id": "8844b8d3"
      },
      "outputs": [],
      "source": [
        "model, callbacks = step_decay(model=model, callbacks=[], initial_lr=0.001)"
      ]
    },
    {
      "cell_type": "markdown",
      "source": [
        "### 2.2. Exponential Decay"
      ],
      "metadata": {
        "id": "NyxhMhv5ciqm"
      },
      "id": "NyxhMhv5ciqm"
    },
    {
      "cell_type": "code",
      "execution_count": 17,
      "id": "91fabc36",
      "metadata": {
        "id": "91fabc36"
      },
      "outputs": [],
      "source": [
        "### From Udacity's `training.py`"
      ]
    },
    {
      "cell_type": "code",
      "execution_count": 18,
      "id": "7fee5007",
      "metadata": {
        "id": "7fee5007"
      },
      "outputs": [],
      "source": [
        "def exponential_decay(\n",
        "        model: tf.keras.Model, callbacks: List[tf.keras.callbacks.Callback]=[], \n",
        "        initial_lr: float=0.001\n",
        ") -> Tuple[tf.keras.Model, List[tf.keras.callbacks.Callback]]:\n",
        "    \"\"\"Compiles and returns Model instance with exponential decay LR schedule.\n",
        "    \n",
        "    :param model: the tf.keras.Model instance to compile.\n",
        "    :param callbacks: the list of tf.keras.callbacks to pass alongside model.\n",
        "    :param initial_lr: the value to fix the learning rate at before annealing.\n",
        "    :returns: tuple, the compiled Model instance and its callbacks.\n",
        "    \"\"\"\n",
        "    # IMPLEMENT THIS FUNCTION\n",
        "    \n",
        "    # Instantiate the learning rate schedule\n",
        "    lr_scheduler = tf.keras.optimizers.schedules.ExponentialDecay(\n",
        "                        initial_learning_rate=initial_lr,\n",
        "                        decay_steps=100,\n",
        "                        decay_rate=0.95,\n",
        "                        staircase=False\n",
        "    )\n",
        "    # Instantiate the optimiser\n",
        "    optimizer = tf.keras.optimizers.Adam(learning_rate=lr_scheduler)\n",
        "    # Compile the model\n",
        "    model.compile(optimizer=optimizer, \n",
        "                  loss=tf.keras.losses.SparseCategoricalCrossentropy(from_logits=False),\n",
        "                  metrics=['accuracy']\n",
        "    )\n",
        "    # Return the model and any specified callbacks\n",
        "    return model, callbacks"
      ]
    },
    {
      "cell_type": "code",
      "execution_count": 19,
      "id": "bce24d19",
      "metadata": {
        "id": "bce24d19"
      },
      "outputs": [],
      "source": [
        "model = tf.keras.Model()"
      ]
    },
    {
      "cell_type": "code",
      "execution_count": 20,
      "id": "816b3808",
      "metadata": {
        "id": "816b3808"
      },
      "outputs": [],
      "source": [
        "model, callbacks = exponential_decay(model=model, callbacks=[], initial_lr=0.001)"
      ]
    },
    {
      "cell_type": "markdown",
      "id": "aa94209e",
      "metadata": {
        "id": "aa94209e"
      },
      "source": [
        "Feel free to use any decay rates as well as a step size of your choice for the stepwise scheduler."
      ]
    },
    {
      "cell_type": "markdown",
      "source": [
        "### 2.3. Training and Validation"
      ],
      "metadata": {
        "id": "KJJhZo0Glz8q"
      },
      "id": "KJJhZo0Glz8q"
    },
    {
      "cell_type": "markdown",
      "source": [
        "The following helper functions are used for the training and validation loops."
      ],
      "metadata": {
        "id": "P48unFqOmSDo"
      },
      "id": "P48unFqOmSDo"
    },
    {
      "cell_type": "code",
      "source": [
        "### From J. Moran's `2022-09-12-Building-Custom-Convolutional-Neural-Networks.ipynb`"
      ],
      "metadata": {
        "id": "GhndUtx1lyeQ"
      },
      "id": "GhndUtx1lyeQ",
      "execution_count": 21,
      "outputs": []
    },
    {
      "cell_type": "code",
      "source": [
        "def get_module_logger(mod_name: str) -> logging.Logger:\n",
        "    \"\"\"Initialises a console logger instance.\n",
        "    \n",
        "    :param mod_name: the model name to assign to the logger.\n",
        "    :returns: a logger instance.\n",
        "    \"\"\"\n",
        "    \n",
        "    ### Setting up the console logger and formatter\n",
        "    logger = logging.getLogger(mod_name)\n",
        "    handler = logging.StreamHandler()\n",
        "    formatter = logging.Formatter('%(asctime)s %(levelname)-8s %(message)s')\n",
        "    handler.setFormatter(formatter)\n",
        "    logger.addHandler(handler)\n",
        "    logger.setLevel(logging.DEBUG)\n",
        "    ### Prevent messages going to root handler\n",
        "    logger.propagate = False\n",
        "    return logger"
      ],
      "metadata": {
        "id": "XV4-Vj14l_cI"
      },
      "id": "XV4-Vj14l_cI",
      "execution_count": 22,
      "outputs": []
    },
    {
      "cell_type": "code",
      "source": [
        "### From Udacity's `utils.py`"
      ],
      "metadata": {
        "id": "WvL_PojVmX3L"
      },
      "id": "WvL_PojVmX3L",
      "execution_count": 23,
      "outputs": []
    },
    {
      "cell_type": "code",
      "source": [
        "def display_metrics(history):\n",
        "    \"\"\" plot loss and accuracy from keras history object \"\"\"\n",
        "    f, ax = plt.subplots(1, 3, figsize=(15, 5))\n",
        "    ax[0].plot(history.history['loss'], linewidth=3)\n",
        "    ax[0].plot(history.history['val_loss'], linewidth=3)\n",
        "    ax[0].set_title('Loss', fontsize=16)\n",
        "    ax[0].set_ylabel('Loss', fontsize=16)\n",
        "    ax[0].set_xlabel('Epoch', fontsize=16)\n",
        "    ax[0].legend(['train loss', 'val loss'], loc='upper right')\n",
        "    ax[1].plot(history.history['accuracy'], linewidth=3)\n",
        "    ax[1].plot(history.history['val_accuracy'], linewidth=3)\n",
        "    ax[1].set_title('Accuracy', fontsize=16)\n",
        "    ax[1].set_ylabel('Accuracy', fontsize=16)\n",
        "    ax[1].set_xlabel('Epoch', fontsize=16)\n",
        "    ax[1].legend(['train acc', 'val acc'], loc='upper left')\n",
        "    ax[2].plot(history.history['lr'], linewidth=3)\n",
        "    ax[2].set_title('Learning rate', fontsize=16)\n",
        "    ax[2].set_ylabel('Learning Rate', fontsize=16)\n",
        "    ax[2].set_xlabel('Epoch', fontsize=16)\n",
        "    ax[2].legend(['learning rate'], loc='upper right')\n",
        "    # ax[2].ticklabel_format(axis='y', style='sci')\n",
        "    ax[2].yaxis.set_major_formatter(mtick.FormatStrFormatter('%.2e'))\n",
        "    plt.tight_layout()\n",
        "    plt.show()"
      ],
      "metadata": {
        "id": "-FXUQ5Q8lx9N"
      },
      "id": "-FXUQ5Q8lx9N",
      "execution_count": 24,
      "outputs": []
    },
    {
      "cell_type": "code",
      "source": [
        "logger_step = get_module_logger(step_decay.__name__)"
      ],
      "metadata": {
        "id": "9k_G4Lh1l_WG"
      },
      "id": "9k_G4Lh1l_WG",
      "execution_count": 25,
      "outputs": []
    },
    {
      "cell_type": "code",
      "source": [
        "logger_exp = get_module_logger(step_decay.__name__)"
      ],
      "metadata": {
        "id": "j62UE4BMmELi"
      },
      "id": "j62UE4BMmELi",
      "execution_count": 26,
      "outputs": []
    },
    {
      "cell_type": "markdown",
      "source": [
        "### 2.4. Evaluation on the GTSRB dataset"
      ],
      "metadata": {
        "id": "KEwnkHRrc2mX"
      },
      "id": "KEwnkHRrc2mX"
    },
    {
      "cell_type": "markdown",
      "id": "85ca5fe1",
      "metadata": {
        "id": "85ca5fe1"
      },
      "source": [
        "You can run `python training.py` to see the effect of different annealing strategies on your training and model performances. Make sure to feed in the GTSRB dataset as the image directory, and use the Desktop to view the visualization of final training metrics."
      ]
    },
    {
      "cell_type": "markdown",
      "source": [
        "#### Considerations for our input data"
      ],
      "metadata": {
        "id": "ZQfGG9udeTX6"
      },
      "id": "ZQfGG9udeTX6"
    },
    {
      "cell_type": "code",
      "source": [
        "DATASET_NAME = 'GTSRB'"
      ],
      "metadata": {
        "id": "T8V47lj1eV4Z"
      },
      "id": "T8V47lj1eV4Z",
      "execution_count": 27,
      "outputs": []
    },
    {
      "cell_type": "code",
      "source": [
        "N_CLASSES = 43                                    # GTSRB has 43 distinct digit classes"
      ],
      "metadata": {
        "id": "M_YZ21JveXOH"
      },
      "id": "M_YZ21JveXOH",
      "execution_count": 28,
      "outputs": []
    },
    {
      "cell_type": "code",
      "source": [
        "### Defining our input image specs"
      ],
      "metadata": {
        "id": "JK4XovB8eXJi"
      },
      "id": "JK4XovB8eXJi",
      "execution_count": 29,
      "outputs": []
    },
    {
      "cell_type": "code",
      "source": [
        "IMG_DIR = os.path.join(DIR_SRC, 'GTSRB/Final_Training/Images')"
      ],
      "metadata": {
        "id": "pyGzXzZteXFi"
      },
      "id": "pyGzXzZteXFi",
      "execution_count": 30,
      "outputs": []
    },
    {
      "cell_type": "code",
      "source": [
        "BATCH_SIZE = 128"
      ],
      "metadata": {
        "id": "ewTsseKJeXBe"
      },
      "id": "ewTsseKJeXBe",
      "execution_count": 31,
      "outputs": []
    },
    {
      "cell_type": "code",
      "source": [
        "IMG_COLOR_MODE = 'rgb'\n",
        "IMG_SIZE = (32, 32)                               # Each RGB image has 32x32 px resolution\n",
        "IMG_SHAPE = (32, 32, 3)                           # Each RGB image has 3 channels\n",
        "N_FEATURES = (32 * 32) * 3                        # Each pixel value is considered an attribute (feature)"
      ],
      "metadata": {
        "id": "DWxNN89oeeV9"
      },
      "id": "DWxNN89oeeV9",
      "execution_count": 32,
      "outputs": []
    },
    {
      "cell_type": "code",
      "source": [
        "model_params[DATASET_NAME].update({'n_classes': N_CLASSES})\n",
        "model_params[DATASET_NAME].update({'imdir': IMG_DIR})\n",
        "model_params[DATASET_NAME].update({'batch_size': BATCH_SIZE})\n",
        "model_params[DATASET_NAME].update({'color_mode': IMG_COLOR_MODE})\n",
        "model_params[DATASET_NAME].update({'image_size': IMG_SIZE})\n",
        "model_params[DATASET_NAME].update({'input_shape': IMG_SHAPE})\n",
        "model_params[DATASET_NAME].update({'n_features': N_FEATURES})"
      ],
      "metadata": {
        "id": "TozMeHl4eeQl"
      },
      "id": "TozMeHl4eeQl",
      "execution_count": 33,
      "outputs": []
    },
    {
      "cell_type": "code",
      "execution_count": 34,
      "id": "df3b8ca8",
      "metadata": {
        "id": "df3b8ca8"
      },
      "outputs": [],
      "source": [
        "### From J. Moran's `2022-09-05-Image-Classification-Feed-Forward-Neural-Networks.ipynb`"
      ]
    },
    {
      "cell_type": "code",
      "execution_count": 35,
      "id": "64829f0a",
      "metadata": {
        "id": "64829f0a"
      },
      "outputs": [],
      "source": [
        "def get_datasets(model_params: dict) -> Tuple[tf.data.Dataset, tf.data.Dataset]:\n",
        "    \"\"\"Return the training and validation datasets.\n",
        "    \n",
        "    :param model_params: the dict containing the dataset- and \n",
        "        model-specific arguments.\n",
        "    :returns: (train_dataset, validation_dataset), tuple of tf.data.Dataset \n",
        "        instances.\n",
        "    \"\"\"\n",
        "    \n",
        "    model_params = dict(model_params)\n",
        "    train_dataset = tf.keras.utils.image_dataset_from_directory(\n",
        "                        directory=model_params.get('imdir', None),\n",
        "                        labels='inferred',\n",
        "                        label_mode='int',\n",
        "                        color_mode=model_params.get('color_mode', None),\n",
        "                        batch_size=model_params.get('batch_size', None),\n",
        "                        image_size=model_params.get('image_size', None),\n",
        "                        shuffle=True,\n",
        "                        seed=123,\n",
        "                        validation_split=0.2,\n",
        "                        subset='training',\n",
        "    )\n",
        "    validation_dataset = tf.keras.utils.image_dataset_from_directory(\n",
        "                        directory=model_params.get('imdir', None),\n",
        "                        labels='inferred',\n",
        "                        label_mode='int',\n",
        "                        color_mode=model_params.get('color_mode', None),\n",
        "                        batch_size=model_params.get('batch_size', None),\n",
        "                        image_size=model_params.get('image_size', None),\n",
        "                        shuffle=True,\n",
        "                        seed=123,\n",
        "                        validation_split=0.2,\n",
        "                        subset='validation',\n",
        "    )\n",
        "    return train_dataset, validation_dataset"
      ]
    },
    {
      "cell_type": "code",
      "execution_count": 36,
      "id": "76681169",
      "metadata": {
        "id": "76681169"
      },
      "outputs": [],
      "source": [
        "### From Udacity's `utils.py`"
      ]
    },
    {
      "cell_type": "code",
      "execution_count": 37,
      "id": "e33af3f4",
      "metadata": {
        "id": "e33af3f4"
      },
      "outputs": [],
      "source": [
        "def get_module_logger(mod_name):\n",
        "    logger = logging.getLogger(mod_name)\n",
        "    handler = logging.StreamHandler()\n",
        "    formatter = logging.Formatter('%(asctime)s %(levelname)-8s %(message)s')\n",
        "    handler.setFormatter(formatter)\n",
        "    logger.addHandler(handler)\n",
        "    logger.setLevel(logging.DEBUG)\n",
        "    return logger"
      ]
    },
    {
      "cell_type": "code",
      "source": [
        "logger_step = get_module_logger(step_decay.__name__)"
      ],
      "metadata": {
        "id": "1E_j_PzohdQr"
      },
      "id": "1E_j_PzohdQr",
      "execution_count": 38,
      "outputs": []
    },
    {
      "cell_type": "code",
      "source": [
        "logger_exp = get_module_logger(exponential_decay.__name__)"
      ],
      "metadata": {
        "id": "JvT_s_ychdFm"
      },
      "id": "JvT_s_ychdFm",
      "execution_count": 39,
      "outputs": []
    },
    {
      "cell_type": "markdown",
      "source": [
        "#### Processing the GTSRB data"
      ],
      "metadata": {
        "id": "Wy-4WKkgfb4f"
      },
      "id": "Wy-4WKkgfb4f"
    },
    {
      "cell_type": "code",
      "execution_count": 40,
      "id": "583ba8cd",
      "metadata": {
        "id": "583ba8cd"
      },
      "outputs": [],
      "source": [
        "### From J. Moran's `2022-09-05-Image-Classification-Feed-Forward-Neural-Networks.ipynb`"
      ]
    },
    {
      "cell_type": "code",
      "execution_count": 41,
      "id": "0fef7ac6",
      "metadata": {
        "id": "0fef7ac6"
      },
      "outputs": [],
      "source": [
        "def process(dataset: tf.data.Dataset) -> Generator[tuple, None, None]:\n",
        "    \"\"\"Processes the input dataset and returns a generator object.\n",
        "\n",
        "    :param dataset: the tf.data.Dataset instance of batched image, label data.\n",
        "    :returns: the generator instance modifying the image attribute values.\n",
        "    \"\"\"\n",
        "\n",
        "    def process_generator()  -> Iterator[Tuple[tf.Tensor, tf.Tensor]]:\n",
        "        \"\"\"Scales the input image data.\n",
        "        \n",
        "        Unbatches the tf.data.Dataset and scales all image attributes,\n",
        "        i.e., pixel values, in the range [0, 1].\n",
        "\n",
        "        :returns: an iterator yielding the modfied image data and\n",
        "            corresponding label.\n",
        "        \"\"\"\n",
        "\n",
        "        for batch in dataset:\n",
        "            for image, label in zip(*batch):\n",
        "                image = tf.cast(image/255., tf.float32)\n",
        "                yield image, label\n",
        "    return process_generator"
      ]
    },
    {
      "cell_type": "code",
      "source": [
        "### Fetching the training and validation datasets\n",
        "train_dataset, validation_dataset = get_datasets(model_params[DATASET_NAME])"
      ],
      "metadata": {
        "colab": {
          "base_uri": "https://localhost:8080/"
        },
        "id": "8B8mNIl1fIq-",
        "outputId": "255a3ca5-1ade-4697-953d-7704068c1a08"
      },
      "id": "8B8mNIl1fIq-",
      "execution_count": 42,
      "outputs": [
        {
          "output_type": "stream",
          "name": "stdout",
          "text": [
            "Found 4300 files belonging to 43 classes.\n",
            "Using 3440 files for training.\n",
            "Found 4300 files belonging to 43 classes.\n",
            "Using 860 files for validation.\n"
          ]
        }
      ]
    },
    {
      "cell_type": "code",
      "source": [
        "### Number of features (pixel values) in a single image\n",
        "train_iter = iter(train_dataset)\n",
        "len(train_iter.get_next()[0][0].numpy().flatten())"
      ],
      "metadata": {
        "colab": {
          "base_uri": "https://localhost:8080/"
        },
        "id": "H640anbbfiXd",
        "outputId": "81396434-71c1-4c57-e451-1b1d1dccfc71"
      },
      "id": "H640anbbfiXd",
      "execution_count": 43,
      "outputs": [
        {
          "output_type": "execute_result",
          "data": {
            "text/plain": [
              "3072"
            ]
          },
          "metadata": {},
          "execution_count": 43
        }
      ]
    },
    {
      "cell_type": "code",
      "source": [
        "### Unbatching the datasets and scaling the images"
      ],
      "metadata": {
        "id": "Yl1zYxvIfvFK"
      },
      "id": "Yl1zYxvIfvFK",
      "execution_count": 44,
      "outputs": []
    },
    {
      "cell_type": "code",
      "source": [
        "train_dataset_scaled = tf.data.Dataset.from_generator(\n",
        "        generator=process(train_dataset), \n",
        "        output_signature=(\n",
        "            tf.TensorSpec(\n",
        "                shape=model_params[DATASET_NAME].get('input_shape', None),\n",
        "                dtype=tf.dtypes.float32), \n",
        "            tf.TensorSpec(\n",
        "                shape=(),\n",
        "                dtype=tf.dtypes.int32)\n",
        "        )\n",
        ")"
      ],
      "metadata": {
        "id": "ZM4ZEP8Sfi3b"
      },
      "id": "ZM4ZEP8Sfi3b",
      "execution_count": 45,
      "outputs": []
    },
    {
      "cell_type": "code",
      "source": [
        "validation_dataset_scaled = tf.data.Dataset.from_generator(\n",
        "        generator=process(validation_dataset), \n",
        "        output_signature=(\n",
        "            tf.TensorSpec(\n",
        "                shape=model_params[DATASET_NAME].get('input_shape', None),\n",
        "                dtype=tf.dtypes.float32), \n",
        "            tf.TensorSpec(\n",
        "                shape=(),\n",
        "                dtype=tf.dtypes.int32)\n",
        "        )\n",
        ")"
      ],
      "metadata": {
        "id": "n34bWaRLfjT0"
      },
      "id": "n34bWaRLfjT0",
      "execution_count": 46,
      "outputs": []
    },
    {
      "cell_type": "markdown",
      "source": [
        "#### Defining our model architectures"
      ],
      "metadata": {
        "id": "FZlaKKvHf0VH"
      },
      "id": "FZlaKKvHf0VH"
    },
    {
      "cell_type": "markdown",
      "source": [
        "##### Simple ConvNet"
      ],
      "metadata": {
        "id": "39_m0yFfugbK"
      },
      "id": "39_m0yFfugbK"
    },
    {
      "cell_type": "code",
      "source": [
        "MODEL_NAME = 'ConvNet'"
      ],
      "metadata": {
        "id": "eDA71Wxhh70L"
      },
      "id": "eDA71Wxhh70L",
      "execution_count": 47,
      "outputs": []
    },
    {
      "cell_type": "code",
      "execution_count": 48,
      "id": "cc4e04b4",
      "metadata": {
        "id": "cc4e04b4"
      },
      "outputs": [],
      "source": [
        "def create_network(\n",
        "        inputs: tf.keras.Input, outputs: tf.keras.layers.Layer, name: str=''\n",
        ") -> tf.keras.Model:\n",
        "    \"\"\"Creates a tf.keras.Sequential Model with the provided inputs and outputs.\n",
        "    \n",
        "    :param inputs: the tf.keras.Input layer of specified shape.\n",
        "    :param outputs: the tf.keras.layers.Layer instance of desired output,\n",
        "        this should be a Dense layer with units equal to num. classes.\n",
        "    :param name: str (optional), the name to assign to the model.\n",
        "    :returns: the tf.keras.Model instance.\n",
        "    \"\"\"\n",
        "    \n",
        "    net = tf.keras.models.Sequential([\n",
        "        inputs,\n",
        "        tf.keras.layers.Conv2D(\n",
        "            filters=6, kernel_size=(3, 3), strides=(1, 1), activation='relu'),\n",
        "        tf.keras.layers.MaxPooling2D(\n",
        "            pool_size=(2, 2), strides=(2, 2)),\n",
        "        tf.keras.layers.Conv2D(\n",
        "            filters=16, kernel_size=(3, 3), strides=(1, 1), activation='relu'),\n",
        "        tf.keras.layers.MaxPooling2D(\n",
        "            pool_size=(2, 2), strides=(2, 2)),\n",
        "        tf.keras.layers.Flatten(),\n",
        "        tf.keras.layers.Dense(\n",
        "            units=120, activation='relu'),\n",
        "        tf.keras.layers.Dense(\n",
        "            units=84, activation='relu'),\n",
        "        outputs\n",
        "    ], name=name)\n",
        "    return net"
      ]
    },
    {
      "cell_type": "code",
      "source": [
        "### Initialising our Sequential model"
      ],
      "metadata": {
        "id": "noAUE31FgBOt"
      },
      "id": "noAUE31FgBOt",
      "execution_count": 49,
      "outputs": []
    },
    {
      "cell_type": "code",
      "source": [
        "inputs = tf.keras.Input(shape=model_params[DATASET_NAME]['input_shape'])\n",
        "outputs = tf.keras.layers.Dense(units=model_params[DATASET_NAME]['n_classes'])"
      ],
      "metadata": {
        "id": "7GDbRkzKgBHx"
      },
      "id": "7GDbRkzKgBHx",
      "execution_count": 50,
      "outputs": []
    },
    {
      "cell_type": "code",
      "source": [
        "model = create_network(inputs, outputs)"
      ],
      "metadata": {
        "id": "g5lw8wHygBCU"
      },
      "id": "g5lw8wHygBCU",
      "execution_count": 51,
      "outputs": []
    },
    {
      "cell_type": "code",
      "source": [
        "model.summary()"
      ],
      "metadata": {
        "colab": {
          "base_uri": "https://localhost:8080/"
        },
        "id": "W3aXcUyigJDx",
        "outputId": "222d4d63-8ad6-4d8c-9ba5-269f56d5636e"
      },
      "id": "W3aXcUyigJDx",
      "execution_count": 52,
      "outputs": [
        {
          "output_type": "stream",
          "name": "stdout",
          "text": [
            "Model: \"sequential\"\n",
            "_________________________________________________________________\n",
            " Layer (type)                Output Shape              Param #   \n",
            "=================================================================\n",
            " conv2d (Conv2D)             (None, 30, 30, 6)         168       \n",
            "                                                                 \n",
            " max_pooling2d (MaxPooling2D  (None, 15, 15, 6)        0         \n",
            " )                                                               \n",
            "                                                                 \n",
            " conv2d_1 (Conv2D)           (None, 13, 13, 16)        880       \n",
            "                                                                 \n",
            " max_pooling2d_1 (MaxPooling  (None, 6, 6, 16)         0         \n",
            " 2D)                                                             \n",
            "                                                                 \n",
            " flatten (Flatten)           (None, 576)               0         \n",
            "                                                                 \n",
            " dense_1 (Dense)             (None, 120)               69240     \n",
            "                                                                 \n",
            " dense_2 (Dense)             (None, 84)                10164     \n",
            "                                                                 \n",
            " dense (Dense)               (None, 43)                3655      \n",
            "                                                                 \n",
            "=================================================================\n",
            "Total params: 84,107\n",
            "Trainable params: 84,107\n",
            "Non-trainable params: 0\n",
            "_________________________________________________________________\n"
          ]
        }
      ]
    },
    {
      "cell_type": "markdown",
      "source": [
        "##### Lightweight CNN"
      ],
      "metadata": {
        "id": "Eq7DOSJ1uk2K"
      },
      "id": "Eq7DOSJ1uk2K"
    },
    {
      "cell_type": "markdown",
      "source": [
        "Using a custom convolutional neural network architecture with a history of promising results on the GTSRB dataset (Zaibi et al., 2021)."
      ],
      "metadata": {
        "id": "TJ2wK9SCu7_r"
      },
      "id": "TJ2wK9SCu7_r"
    },
    {
      "cell_type": "code",
      "source": [
        "MODEL_NAME = 'Custom_LeNet-5'"
      ],
      "metadata": {
        "id": "ZjkQLVwHwSEW"
      },
      "id": "ZjkQLVwHwSEW",
      "execution_count": 73,
      "outputs": []
    },
    {
      "cell_type": "code",
      "source": [
        "### From J. Moran's `2022-09-12-Building-Custom-Convolutional-Neural-Networks.ipynb`"
      ],
      "metadata": {
        "id": "BZsaN0Kfur0F"
      },
      "id": "BZsaN0Kfur0F",
      "execution_count": 74,
      "outputs": []
    },
    {
      "cell_type": "code",
      "source": [
        "def create_custom_network(\n",
        "    input_shape: Tuple[int], output_shape: int, model_name: str='CustomModel'\n",
        ")-> tf.keras.Sequential:\n",
        "    \"\"\"Creates a modified LeNet-5 network (Zaibi et al., 2021).\n",
        "    \n",
        "    :param input_shape: tuple, the n-dimensional shape of the input images.\n",
        "    :param: output_shape: tuple, the 1D shape corresponding to number of\n",
        "        distinct classes to predict.\n",
        "    :returns: the modified LeNet-5 Model object.\n",
        "    \"\"\"\n",
        "    # IMPLEMENT THIS FUNCTION\n",
        "    \n",
        "    model = tf.keras.Sequential(layers=[\n",
        "        # The C1 (convolutional) layer\n",
        "        tf.keras.layers.Conv2D(\n",
        "                input_shape=input_shape,\n",
        "                filters=60, \n",
        "                kernel_size=(5,5), \n",
        "                strides=(1, 1), \n",
        "                padding='valid',\n",
        "                activation=tf.keras.layers.LeakyReLU(alpha=0.01),\n",
        "                name='C1'\n",
        "        ),\n",
        "        # The C2 (convolutional) layer\n",
        "        tf.keras.layers.Conv2D(\n",
        "                filters=60, \n",
        "                kernel_size=(5, 5), \n",
        "                strides=(1,1), \n",
        "                padding='valid',\n",
        "                activation=tf.keras.layers.LeakyReLU(alpha=0.01),\n",
        "                name='C2'\n",
        "        ),\n",
        "        # The Bn3 (Batch Normalization) layer\n",
        "        tf.keras.layers.BatchNormalization(\n",
        "                name='Bn3'\n",
        "        ),\n",
        "        # The M4 (Max Pooling) layer\n",
        "        tf.keras.layers.MaxPool2D(\n",
        "                pool_size=(2, 2),\n",
        "                strides=(2, 2),\n",
        "                padding='valid',\n",
        "                name='M4'\n",
        "        ),\n",
        "        # The C5 (convolutional) layer\n",
        "        tf.keras.layers.Conv2D(\n",
        "                filters=30, \n",
        "                kernel_size=(3, 3), \n",
        "                strides=(1, 1), \n",
        "                padding='valid',\n",
        "                activation=tf.keras.layers.LeakyReLU(alpha=0.01),\n",
        "                name='C5'\n",
        "        ),\n",
        "        # The C6 (convolutional) layer\n",
        "        tf.keras.layers.Conv2D(\n",
        "                filters=30, \n",
        "                kernel_size=(3, 3), \n",
        "                strides=(1, 1), \n",
        "                padding='valid',\n",
        "                activation=tf.keras.layers.LeakyReLU(alpha=0.01),\n",
        "                name='C6'\n",
        "        ),\n",
        "        # The M7 (Max Pooling) layer\n",
        "        tf.keras.layers.MaxPool2D(\n",
        "                pool_size=(2, 2),\n",
        "                strides=(2, 2),\n",
        "                padding='valid',\n",
        "                name='M7'\n",
        "        ),\n",
        "        # The D8 (Dropout regularization) layer\n",
        "        tf.keras.layers.Dropout(\n",
        "                rate=0.5,\n",
        "                name='D8'\n",
        "        ),\n",
        "        # The Flatten layer\n",
        "        tf.keras.layers.Flatten(),\n",
        "        # The F9 (fully-connected) layer\n",
        "        tf.keras.layers.Dense(\n",
        "                units=500,\n",
        "                activation=tf.keras.layers.LeakyReLU(alpha=0.01),\n",
        "                name='F9'\n",
        "        ),\n",
        "        # The Bn10 (Batch Normalization) layer\n",
        "        tf.keras.layers.BatchNormalization(\n",
        "                name='Bn10'\n",
        "        ),\n",
        "        # The D11 (Dropout regularization) layer\n",
        "        tf.keras.layers.Dropout(\n",
        "                rate=0.5,\n",
        "                name='D11'\n",
        "        ),\n",
        "        # The F12 (Output) layer\n",
        "        tf.keras.layers.Dense(\n",
        "                units=output_shape,\n",
        "                activation='softmax',\n",
        "                name='Output'\n",
        "        )\n",
        "    ], name=model_name)\n",
        "    return model"
      ],
      "metadata": {
        "id": "TGVc-NXvurVD"
      },
      "id": "TGVc-NXvurVD",
      "execution_count": 75,
      "outputs": []
    },
    {
      "cell_type": "code",
      "source": [
        "model_params[MODEL_NAME].update({'model_name': MODEL_NAME})"
      ],
      "metadata": {
        "id": "dbDcWf3OwQHE"
      },
      "id": "dbDcWf3OwQHE",
      "execution_count": 76,
      "outputs": []
    },
    {
      "cell_type": "markdown",
      "source": [
        "#### Testing our learning rate schedules"
      ],
      "metadata": {
        "id": "vu23KUR3gR8v"
      },
      "id": "vu23KUR3gR8v"
    },
    {
      "cell_type": "markdown",
      "source": [
        "##### Step-wise Annealing"
      ],
      "metadata": {
        "id": "piJBeil4gdr5"
      },
      "id": "piJBeil4gdr5"
    },
    {
      "cell_type": "markdown",
      "source": [
        "###### Simple ConvNet"
      ],
      "metadata": {
        "id": "L5F7aNTuvSdE"
      },
      "id": "L5F7aNTuvSdE"
    },
    {
      "cell_type": "code",
      "source": [
        "MODEL_NAME = 'ConvNet'"
      ],
      "metadata": {
        "id": "8YEs6jjQyPH5"
      },
      "id": "8YEs6jjQyPH5",
      "execution_count": null,
      "outputs": []
    },
    {
      "cell_type": "code",
      "source": [
        "### Defining our training hyperparameters"
      ],
      "metadata": {
        "id": "Q3rJ_lbejK2V"
      },
      "id": "Q3rJ_lbejK2V",
      "execution_count": 53,
      "outputs": []
    },
    {
      "cell_type": "code",
      "source": [
        "EPOCHS = 100"
      ],
      "metadata": {
        "id": "Iw2phMcLjEWA"
      },
      "id": "Iw2phMcLjEWA",
      "execution_count": 54,
      "outputs": []
    },
    {
      "cell_type": "code",
      "source": [
        "model_params[MODEL_NAME].update({'epochs': EPOCHS})"
      ],
      "metadata": {
        "id": "V9S-xiLvjKSO"
      },
      "id": "V9S-xiLvjKSO",
      "execution_count": 55,
      "outputs": []
    },
    {
      "cell_type": "code",
      "source": [
        "### Initialise the LR logger and custom callbacks\n",
        "logger = LrLogger()\n",
        "callbacks = [logger]"
      ],
      "metadata": {
        "id": "RpxSodaYfKti"
      },
      "id": "RpxSodaYfKti",
      "execution_count": 56,
      "outputs": []
    },
    {
      "cell_type": "code",
      "source": [
        "### Compile the ConvNet model with a custom `step_decay` LR schedule\n",
        "model, callbacks = step_decay(model, callbacks=callbacks, initial_lr=0.001)"
      ],
      "metadata": {
        "id": "7vgzA783gM-N"
      },
      "id": "7vgzA783gM-N",
      "execution_count": 57,
      "outputs": []
    },
    {
      "cell_type": "code",
      "source": [
        "### Batching the train and validation datasets"
      ],
      "metadata": {
        "id": "-HUd0-wmkKry"
      },
      "id": "-HUd0-wmkKry",
      "execution_count": 58,
      "outputs": []
    },
    {
      "cell_type": "code",
      "source": [
        "train_dataset_batched = train_dataset_scaled.batch(\n",
        "                            model_params[DATASET_NAME]['batch_size']\n",
        ")\n",
        "validation_dataset_batched = validation_dataset_scaled.batch(\n",
        "                            model_params[DATASET_NAME]['batch_size']\n",
        ")"
      ],
      "metadata": {
        "id": "ocwQk0GJkKho"
      },
      "id": "ocwQk0GJkKho",
      "execution_count": 59,
      "outputs": []
    },
    {
      "cell_type": "code",
      "source": [
        "### Fitting the model on the train data and passing in our callbacks"
      ],
      "metadata": {
        "id": "Ci_njeAugp4G"
      },
      "id": "Ci_njeAugp4G",
      "execution_count": 60,
      "outputs": []
    },
    {
      "cell_type": "code",
      "source": [
        "logger_step.info(f\"Training for {model_params[MODEL_NAME]['epochs']} \" +\n",
        "                 f\"epochs using {model_params[DATASET_NAME]['imdir']} data\")"
      ],
      "metadata": {
        "colab": {
          "base_uri": "https://localhost:8080/"
        },
        "id": "XsRSQNbRhFI-",
        "outputId": "62b9e9d4-f744-40ed-a487-9f3e67e45e94"
      },
      "id": "XsRSQNbRhFI-",
      "execution_count": 61,
      "outputs": [
        {
          "output_type": "stream",
          "name": "stderr",
          "text": [
            "2022-09-29 19:07:55,066 INFO     Training for 100 epochs using /content/data/GTSRB/Final_Training/Images data\n",
            "2022-09-29 19:07:55,066 INFO     Training for 100 epochs using /content/data/GTSRB/Final_Training/Images data\n",
            "2022-09-29 19:07:55,066 INFO     Training for 100 epochs using /content/data/GTSRB/Final_Training/Images data\n"
          ]
        }
      ]
    },
    {
      "cell_type": "code",
      "source": [
        "history_step = model.fit(x=train_dataset_batched, \n",
        "                         epochs=model_params[MODEL_NAME]['epochs'],\n",
        "                         batch_size=model_params[DATASET_NAME]['batch_size'],\n",
        "                         validation_data=validation_dataset_batched,\n",
        "                         callbacks=callbacks,\n",
        "                         shuffle=True\n",
        ")"
      ],
      "metadata": {
        "colab": {
          "base_uri": "https://localhost:8080/"
        },
        "id": "zNg6sNqMgpyV",
        "outputId": "d771e665-d4c4-48fb-cc05-f5cb580a64fa"
      },
      "id": "zNg6sNqMgpyV",
      "execution_count": 62,
      "outputs": [
        {
          "output_type": "stream",
          "name": "stdout",
          "text": [
            "Epoch 1/100\n",
            "27/27 [==============================] - 12s 341ms/step - loss: 8.4819 - accuracy: 0.0221 - val_loss: 7.3587 - val_accuracy: 0.0442 - lr: 0.0010\n",
            "Epoch 2/100\n",
            "27/27 [==============================] - 7s 225ms/step - loss: 7.4508 - accuracy: 0.0404 - val_loss: 6.6756 - val_accuracy: 0.0233 - lr: 0.0010\n",
            "Epoch 3/100\n",
            "27/27 [==============================] - 5s 171ms/step - loss: 6.9826 - accuracy: 0.0238 - val_loss: 6.1918 - val_accuracy: 0.0244 - lr: 0.0010\n",
            "Epoch 4/100\n",
            "27/27 [==============================] - 5s 169ms/step - loss: 6.5568 - accuracy: 0.0247 - val_loss: 6.0120 - val_accuracy: 0.0407 - lr: 0.0010\n",
            "Epoch 5/100\n",
            "27/27 [==============================] - 5s 167ms/step - loss: 6.5572 - accuracy: 0.0654 - val_loss: 6.5716 - val_accuracy: 0.0500 - lr: 0.0010\n",
            "Epoch 6/100\n",
            "27/27 [==============================] - 5s 179ms/step - loss: 6.3901 - accuracy: 0.0360 - val_loss: 5.5210 - val_accuracy: 0.0442 - lr: 0.0010\n",
            "Epoch 7/100\n",
            "27/27 [==============================] - 5s 169ms/step - loss: 5.6247 - accuracy: 0.0744 - val_loss: 5.2725 - val_accuracy: 0.1209 - lr: 0.0010\n",
            "Epoch 8/100\n",
            "27/27 [==============================] - 5s 168ms/step - loss: 5.3447 - accuracy: 0.1660 - val_loss: 5.4850 - val_accuracy: 0.1314 - lr: 0.0010\n",
            "Epoch 9/100\n",
            "27/27 [==============================] - 5s 173ms/step - loss: 7.3198 - accuracy: 0.0526 - val_loss: 6.4088 - val_accuracy: 0.0314 - lr: 0.0010\n",
            "Epoch 10/100\n",
            "27/27 [==============================] - 5s 168ms/step - loss: 6.4988 - accuracy: 0.0224 - val_loss: 5.6135 - val_accuracy: 0.0279 - lr: 0.0010\n",
            "Epoch 11/100\n",
            "27/27 [==============================] - 5s 167ms/step - loss: 6.0217 - accuracy: 0.0221 - val_loss: 5.5560 - val_accuracy: 0.0279 - lr: 5.0000e-04\n",
            "Epoch 12/100\n",
            "27/27 [==============================] - 5s 171ms/step - loss: 5.8780 - accuracy: 0.0221 - val_loss: 5.4073 - val_accuracy: 0.0279 - lr: 5.0000e-04\n",
            "Epoch 13/100\n",
            "27/27 [==============================] - 5s 169ms/step - loss: 5.7284 - accuracy: 0.0244 - val_loss: 5.2999 - val_accuracy: 0.0326 - lr: 5.0000e-04\n",
            "Epoch 14/100\n",
            "27/27 [==============================] - 5s 168ms/step - loss: 5.6300 - accuracy: 0.0509 - val_loss: 5.2864 - val_accuracy: 0.0663 - lr: 5.0000e-04\n",
            "Epoch 15/100\n",
            "27/27 [==============================] - 5s 177ms/step - loss: 5.4867 - accuracy: 0.0959 - val_loss: 5.8330 - val_accuracy: 0.0977 - lr: 5.0000e-04\n",
            "Epoch 16/100\n",
            "27/27 [==============================] - 5s 175ms/step - loss: 7.7480 - accuracy: 0.0544 - val_loss: 7.3373 - val_accuracy: 0.0279 - lr: 5.0000e-04\n",
            "Epoch 17/100\n",
            "27/27 [==============================] - 6s 202ms/step - loss: 7.2974 - accuracy: 0.0259 - val_loss: 6.4775 - val_accuracy: 0.0221 - lr: 5.0000e-04\n",
            "Epoch 18/100\n",
            "27/27 [==============================] - 5s 174ms/step - loss: 6.8261 - accuracy: 0.0238 - val_loss: 6.3488 - val_accuracy: 0.0233 - lr: 5.0000e-04\n",
            "Epoch 19/100\n",
            "27/27 [==============================] - 5s 170ms/step - loss: 6.7215 - accuracy: 0.0302 - val_loss: 6.2728 - val_accuracy: 0.0384 - lr: 5.0000e-04\n",
            "Epoch 20/100\n",
            "27/27 [==============================] - 5s 171ms/step - loss: 6.5907 - accuracy: 0.0549 - val_loss: 6.0655 - val_accuracy: 0.0884 - lr: 5.0000e-04\n",
            "Epoch 21/100\n",
            "27/27 [==============================] - 5s 170ms/step - loss: 6.4975 - accuracy: 0.1081 - val_loss: 6.1172 - val_accuracy: 0.1372 - lr: 2.5000e-04\n",
            "Epoch 22/100\n",
            "27/27 [==============================] - 5s 171ms/step - loss: 6.5054 - accuracy: 0.0506 - val_loss: 6.0666 - val_accuracy: 0.0279 - lr: 2.5000e-04\n",
            "Epoch 23/100\n",
            "27/27 [==============================] - 5s 170ms/step - loss: 6.2458 - accuracy: 0.0305 - val_loss: 5.7403 - val_accuracy: 0.0279 - lr: 2.5000e-04\n",
            "Epoch 24/100\n",
            "27/27 [==============================] - 5s 171ms/step - loss: 5.8921 - accuracy: 0.0294 - val_loss: 5.4646 - val_accuracy: 0.0256 - lr: 2.5000e-04\n",
            "Epoch 25/100\n",
            "27/27 [==============================] - 5s 173ms/step - loss: 5.6946 - accuracy: 0.0285 - val_loss: 5.2794 - val_accuracy: 0.0256 - lr: 2.5000e-04\n",
            "Epoch 26/100\n",
            "27/27 [==============================] - 5s 175ms/step - loss: 5.6207 - accuracy: 0.0299 - val_loss: 5.3406 - val_accuracy: 0.0267 - lr: 2.5000e-04\n",
            "Epoch 27/100\n",
            "27/27 [==============================] - 5s 175ms/step - loss: 5.5583 - accuracy: 0.0337 - val_loss: 5.2868 - val_accuracy: 0.0384 - lr: 2.5000e-04\n",
            "Epoch 28/100\n",
            "27/27 [==============================] - 5s 174ms/step - loss: 5.5084 - accuracy: 0.0474 - val_loss: 5.2481 - val_accuracy: 0.0477 - lr: 2.5000e-04\n",
            "Epoch 29/100\n",
            "27/27 [==============================] - 5s 172ms/step - loss: 5.5503 - accuracy: 0.0619 - val_loss: 5.1938 - val_accuracy: 0.0663 - lr: 2.5000e-04\n",
            "Epoch 30/100\n",
            "27/27 [==============================] - 5s 172ms/step - loss: 5.4773 - accuracy: 0.0823 - val_loss: 5.1947 - val_accuracy: 0.0837 - lr: 2.5000e-04\n",
            "Epoch 31/100\n",
            "27/27 [==============================] - 5s 171ms/step - loss: 5.3826 - accuracy: 0.0956 - val_loss: 5.1009 - val_accuracy: 0.0907 - lr: 1.2500e-04\n",
            "Epoch 32/100\n",
            "27/27 [==============================] - 5s 170ms/step - loss: 5.3028 - accuracy: 0.1128 - val_loss: 5.0770 - val_accuracy: 0.1105 - lr: 1.2500e-04\n",
            "Epoch 33/100\n",
            "27/27 [==============================] - 5s 182ms/step - loss: 5.2503 - accuracy: 0.1334 - val_loss: 5.0321 - val_accuracy: 0.1326 - lr: 1.2500e-04\n",
            "Epoch 34/100\n",
            "27/27 [==============================] - 5s 172ms/step - loss: 5.2083 - accuracy: 0.1547 - val_loss: 5.1046 - val_accuracy: 0.1523 - lr: 1.2500e-04\n",
            "Epoch 35/100\n",
            "27/27 [==============================] - 5s 171ms/step - loss: 5.1395 - accuracy: 0.1956 - val_loss: 5.0488 - val_accuracy: 0.1977 - lr: 1.2500e-04\n",
            "Epoch 36/100\n",
            "27/27 [==============================] - 5s 174ms/step - loss: 5.1310 - accuracy: 0.2227 - val_loss: 4.9402 - val_accuracy: 0.2035 - lr: 1.2500e-04\n",
            "Epoch 37/100\n",
            "27/27 [==============================] - 5s 183ms/step - loss: 5.0931 - accuracy: 0.2148 - val_loss: 4.8503 - val_accuracy: 0.2058 - lr: 1.2500e-04\n",
            "Epoch 38/100\n",
            "27/27 [==============================] - 5s 171ms/step - loss: 5.0301 - accuracy: 0.2378 - val_loss: 4.8187 - val_accuracy: 0.2395 - lr: 1.2500e-04\n",
            "Epoch 39/100\n",
            "27/27 [==============================] - 5s 173ms/step - loss: 5.0034 - accuracy: 0.2552 - val_loss: 4.8418 - val_accuracy: 0.2500 - lr: 1.2500e-04\n",
            "Epoch 40/100\n",
            "27/27 [==============================] - 5s 167ms/step - loss: 4.9409 - accuracy: 0.2669 - val_loss: 4.9377 - val_accuracy: 0.2616 - lr: 1.2500e-04\n",
            "Epoch 41/100\n",
            "27/27 [==============================] - 5s 169ms/step - loss: 4.8955 - accuracy: 0.2776 - val_loss: 4.9382 - val_accuracy: 0.2535 - lr: 6.2500e-05\n",
            "Epoch 42/100\n",
            "27/27 [==============================] - 5s 171ms/step - loss: 4.8645 - accuracy: 0.2660 - val_loss: 4.9997 - val_accuracy: 0.2419 - lr: 6.2500e-05\n",
            "Epoch 43/100\n",
            "27/27 [==============================] - 5s 170ms/step - loss: 4.7527 - accuracy: 0.2820 - val_loss: 4.8878 - val_accuracy: 0.2721 - lr: 6.2500e-05\n",
            "Epoch 44/100\n",
            "27/27 [==============================] - 5s 173ms/step - loss: 4.9533 - accuracy: 0.2799 - val_loss: 5.6358 - val_accuracy: 0.1907 - lr: 6.2500e-05\n",
            "Epoch 45/100\n",
            "27/27 [==============================] - 5s 169ms/step - loss: 5.5731 - accuracy: 0.2017 - val_loss: 5.5172 - val_accuracy: 0.1779 - lr: 6.2500e-05\n",
            "Epoch 46/100\n",
            "27/27 [==============================] - 5s 170ms/step - loss: 5.4484 - accuracy: 0.2128 - val_loss: 5.4071 - val_accuracy: 0.1977 - lr: 6.2500e-05\n",
            "Epoch 47/100\n",
            "27/27 [==============================] - 5s 169ms/step - loss: 5.3176 - accuracy: 0.2259 - val_loss: 5.1411 - val_accuracy: 0.2163 - lr: 6.2500e-05\n",
            "Epoch 48/100\n",
            "27/27 [==============================] - 5s 170ms/step - loss: 5.2386 - accuracy: 0.2398 - val_loss: 5.1452 - val_accuracy: 0.2291 - lr: 6.2500e-05\n",
            "Epoch 49/100\n",
            "27/27 [==============================] - 5s 169ms/step - loss: 5.2018 - accuracy: 0.2465 - val_loss: 5.1516 - val_accuracy: 0.2326 - lr: 6.2500e-05\n",
            "Epoch 50/100\n",
            "27/27 [==============================] - 5s 172ms/step - loss: 5.1721 - accuracy: 0.2596 - val_loss: 5.0690 - val_accuracy: 0.2453 - lr: 6.2500e-05\n",
            "Epoch 51/100\n",
            "27/27 [==============================] - 5s 168ms/step - loss: 5.1185 - accuracy: 0.2672 - val_loss: 5.0629 - val_accuracy: 0.2512 - lr: 3.1250e-05\n",
            "Epoch 52/100\n",
            "27/27 [==============================] - 5s 170ms/step - loss: 5.1130 - accuracy: 0.2727 - val_loss: 5.0976 - val_accuracy: 0.2488 - lr: 3.1250e-05\n",
            "Epoch 53/100\n",
            "27/27 [==============================] - 5s 171ms/step - loss: 5.0589 - accuracy: 0.2773 - val_loss: 5.0779 - val_accuracy: 0.2663 - lr: 3.1250e-05\n",
            "Epoch 54/100\n",
            "27/27 [==============================] - 5s 172ms/step - loss: 5.0088 - accuracy: 0.2834 - val_loss: 5.0329 - val_accuracy: 0.2767 - lr: 3.1250e-05\n",
            "Epoch 55/100\n",
            "27/27 [==============================] - 5s 170ms/step - loss: 4.9597 - accuracy: 0.2834 - val_loss: 4.9894 - val_accuracy: 0.2733 - lr: 3.1250e-05\n",
            "Epoch 56/100\n",
            "27/27 [==============================] - 5s 169ms/step - loss: 4.9626 - accuracy: 0.2834 - val_loss: 5.0169 - val_accuracy: 0.2733 - lr: 3.1250e-05\n",
            "Epoch 57/100\n",
            "27/27 [==============================] - 5s 169ms/step - loss: 4.9197 - accuracy: 0.2843 - val_loss: 4.9774 - val_accuracy: 0.2756 - lr: 3.1250e-05\n",
            "Epoch 58/100\n",
            "27/27 [==============================] - 5s 171ms/step - loss: 4.9099 - accuracy: 0.2863 - val_loss: 4.9696 - val_accuracy: 0.2767 - lr: 3.1250e-05\n",
            "Epoch 59/100\n",
            "27/27 [==============================] - 5s 168ms/step - loss: 4.9202 - accuracy: 0.2922 - val_loss: 4.9353 - val_accuracy: 0.2837 - lr: 3.1250e-05\n",
            "Epoch 60/100\n",
            "27/27 [==============================] - 5s 169ms/step - loss: 4.8948 - accuracy: 0.2951 - val_loss: 4.9713 - val_accuracy: 0.2814 - lr: 3.1250e-05\n",
            "Epoch 61/100\n",
            "27/27 [==============================] - 5s 170ms/step - loss: 4.8754 - accuracy: 0.2965 - val_loss: 4.8742 - val_accuracy: 0.2849 - lr: 1.5625e-05\n",
            "Epoch 62/100\n",
            "27/27 [==============================] - 5s 170ms/step - loss: 4.8225 - accuracy: 0.3003 - val_loss: 4.8740 - val_accuracy: 0.2860 - lr: 1.5625e-05\n",
            "Epoch 63/100\n",
            "27/27 [==============================] - 5s 171ms/step - loss: 4.8012 - accuracy: 0.3006 - val_loss: 4.8612 - val_accuracy: 0.2884 - lr: 1.5625e-05\n",
            "Epoch 64/100\n",
            "27/27 [==============================] - 5s 169ms/step - loss: 4.8148 - accuracy: 0.3044 - val_loss: 4.9121 - val_accuracy: 0.2837 - lr: 1.5625e-05\n",
            "Epoch 65/100\n",
            "27/27 [==============================] - 5s 171ms/step - loss: 4.8577 - accuracy: 0.3047 - val_loss: 4.9445 - val_accuracy: 0.2744 - lr: 1.5625e-05\n",
            "Epoch 66/100\n",
            "27/27 [==============================] - 5s 169ms/step - loss: 4.8355 - accuracy: 0.3093 - val_loss: 4.9060 - val_accuracy: 0.2849 - lr: 1.5625e-05\n",
            "Epoch 67/100\n",
            "27/27 [==============================] - 5s 169ms/step - loss: 4.7933 - accuracy: 0.3151 - val_loss: 4.8886 - val_accuracy: 0.2895 - lr: 1.5625e-05\n",
            "Epoch 68/100\n",
            "27/27 [==============================] - 5s 170ms/step - loss: 4.7825 - accuracy: 0.3160 - val_loss: 4.8707 - val_accuracy: 0.2895 - lr: 1.5625e-05\n",
            "Epoch 69/100\n",
            "27/27 [==============================] - 5s 172ms/step - loss: 4.7652 - accuracy: 0.3192 - val_loss: 4.8992 - val_accuracy: 0.2895 - lr: 1.5625e-05\n",
            "Epoch 70/100\n",
            "27/27 [==============================] - 5s 178ms/step - loss: 4.7504 - accuracy: 0.3212 - val_loss: 4.8846 - val_accuracy: 0.2895 - lr: 1.5625e-05\n",
            "Epoch 71/100\n",
            "27/27 [==============================] - 5s 168ms/step - loss: 4.7513 - accuracy: 0.3227 - val_loss: 4.8807 - val_accuracy: 0.2907 - lr: 7.8125e-06\n",
            "Epoch 72/100\n",
            "27/27 [==============================] - 5s 171ms/step - loss: 4.7366 - accuracy: 0.3235 - val_loss: 4.8778 - val_accuracy: 0.2953 - lr: 7.8125e-06\n",
            "Epoch 73/100\n",
            "27/27 [==============================] - 5s 169ms/step - loss: 4.7696 - accuracy: 0.3224 - val_loss: 4.9589 - val_accuracy: 0.2907 - lr: 7.8125e-06\n",
            "Epoch 74/100\n",
            "27/27 [==============================] - 5s 170ms/step - loss: 4.8170 - accuracy: 0.3203 - val_loss: 4.9398 - val_accuracy: 0.2965 - lr: 7.8125e-06\n",
            "Epoch 75/100\n",
            "27/27 [==============================] - 5s 171ms/step - loss: 4.8015 - accuracy: 0.3163 - val_loss: 4.8517 - val_accuracy: 0.2977 - lr: 7.8125e-06\n",
            "Epoch 76/100\n",
            "27/27 [==============================] - 5s 172ms/step - loss: 4.8223 - accuracy: 0.3145 - val_loss: 4.8610 - val_accuracy: 0.2953 - lr: 7.8125e-06\n",
            "Epoch 77/100\n",
            "27/27 [==============================] - 5s 176ms/step - loss: 4.8169 - accuracy: 0.3151 - val_loss: 4.8767 - val_accuracy: 0.2930 - lr: 7.8125e-06\n",
            "Epoch 78/100\n",
            "27/27 [==============================] - 5s 174ms/step - loss: 4.8072 - accuracy: 0.3163 - val_loss: 4.8696 - val_accuracy: 0.2965 - lr: 7.8125e-06\n",
            "Epoch 79/100\n",
            "27/27 [==============================] - 5s 173ms/step - loss: 4.8048 - accuracy: 0.3163 - val_loss: 4.8765 - val_accuracy: 0.2942 - lr: 7.8125e-06\n",
            "Epoch 80/100\n",
            "27/27 [==============================] - 5s 172ms/step - loss: 4.8009 - accuracy: 0.3166 - val_loss: 4.8756 - val_accuracy: 0.2942 - lr: 7.8125e-06\n",
            "Epoch 81/100\n",
            "27/27 [==============================] - 5s 167ms/step - loss: 4.7940 - accuracy: 0.3160 - val_loss: 4.8805 - val_accuracy: 0.2942 - lr: 3.9063e-06\n",
            "Epoch 82/100\n",
            "27/27 [==============================] - 5s 169ms/step - loss: 4.7916 - accuracy: 0.3169 - val_loss: 4.8763 - val_accuracy: 0.2953 - lr: 3.9063e-06\n",
            "Epoch 83/100\n",
            "27/27 [==============================] - 5s 169ms/step - loss: 4.7869 - accuracy: 0.3172 - val_loss: 4.8739 - val_accuracy: 0.2953 - lr: 3.9063e-06\n",
            "Epoch 84/100\n",
            "27/27 [==============================] - 5s 169ms/step - loss: 4.7843 - accuracy: 0.3172 - val_loss: 4.8720 - val_accuracy: 0.2965 - lr: 3.9063e-06\n",
            "Epoch 85/100\n",
            "27/27 [==============================] - 5s 172ms/step - loss: 4.7826 - accuracy: 0.3177 - val_loss: 4.8693 - val_accuracy: 0.2965 - lr: 3.9063e-06\n",
            "Epoch 86/100\n",
            "27/27 [==============================] - 5s 169ms/step - loss: 4.7810 - accuracy: 0.3183 - val_loss: 4.8628 - val_accuracy: 0.2965 - lr: 3.9063e-06\n",
            "Epoch 87/100\n",
            "27/27 [==============================] - 5s 170ms/step - loss: 4.7794 - accuracy: 0.3177 - val_loss: 4.8627 - val_accuracy: 0.2965 - lr: 3.9063e-06\n",
            "Epoch 88/100\n",
            "27/27 [==============================] - 5s 170ms/step - loss: 4.7774 - accuracy: 0.3186 - val_loss: 4.8615 - val_accuracy: 0.2965 - lr: 3.9063e-06\n",
            "Epoch 89/100\n",
            "27/27 [==============================] - 5s 170ms/step - loss: 4.7711 - accuracy: 0.3189 - val_loss: 4.8609 - val_accuracy: 0.2965 - lr: 3.9063e-06\n",
            "Epoch 90/100\n",
            "27/27 [==============================] - 5s 170ms/step - loss: 4.7695 - accuracy: 0.3189 - val_loss: 4.8608 - val_accuracy: 0.2965 - lr: 3.9063e-06\n",
            "Epoch 91/100\n",
            "27/27 [==============================] - 5s 169ms/step - loss: 4.7667 - accuracy: 0.3186 - val_loss: 4.8615 - val_accuracy: 0.2965 - lr: 1.9531e-06\n",
            "Epoch 92/100\n",
            "27/27 [==============================] - 5s 171ms/step - loss: 4.7659 - accuracy: 0.3189 - val_loss: 4.8667 - val_accuracy: 0.2965 - lr: 1.9531e-06\n",
            "Epoch 93/100\n",
            "27/27 [==============================] - 5s 168ms/step - loss: 4.7649 - accuracy: 0.3192 - val_loss: 4.8658 - val_accuracy: 0.2953 - lr: 1.9531e-06\n",
            "Epoch 94/100\n",
            "27/27 [==============================] - 5s 172ms/step - loss: 4.7628 - accuracy: 0.3192 - val_loss: 4.8655 - val_accuracy: 0.2953 - lr: 1.9531e-06\n",
            "Epoch 95/100\n",
            "27/27 [==============================] - 5s 168ms/step - loss: 4.7620 - accuracy: 0.3192 - val_loss: 4.8651 - val_accuracy: 0.2953 - lr: 1.9531e-06\n",
            "Epoch 96/100\n",
            "27/27 [==============================] - 5s 172ms/step - loss: 4.7612 - accuracy: 0.3195 - val_loss: 4.8645 - val_accuracy: 0.2953 - lr: 1.9531e-06\n",
            "Epoch 97/100\n",
            "27/27 [==============================] - 5s 170ms/step - loss: 4.7604 - accuracy: 0.3195 - val_loss: 4.8641 - val_accuracy: 0.2953 - lr: 1.9531e-06\n",
            "Epoch 98/100\n",
            "27/27 [==============================] - 5s 172ms/step - loss: 4.7596 - accuracy: 0.3192 - val_loss: 4.8637 - val_accuracy: 0.2965 - lr: 1.9531e-06\n",
            "Epoch 99/100\n",
            "27/27 [==============================] - 5s 167ms/step - loss: 4.7588 - accuracy: 0.3192 - val_loss: 4.8634 - val_accuracy: 0.2965 - lr: 1.9531e-06\n",
            "Epoch 100/100\n",
            "27/27 [==============================] - 5s 170ms/step - loss: 4.7580 - accuracy: 0.3192 - val_loss: 4.8630 - val_accuracy: 0.2965 - lr: 1.9531e-06\n"
          ]
        }
      ]
    },
    {
      "cell_type": "code",
      "source": [
        "### Plot the loss, accuracy and LR decay (if using callbacks)"
      ],
      "metadata": {
        "id": "4BBovrsfgpth"
      },
      "id": "4BBovrsfgpth",
      "execution_count": 63,
      "outputs": []
    },
    {
      "cell_type": "code",
      "source": [
        "display_metrics(history_step)"
      ],
      "metadata": {
        "colab": {
          "base_uri": "https://localhost:8080/",
          "height": 369
        },
        "id": "wJzIFiTBgpoj",
        "outputId": "c415b6d7-7120-4314-f4fd-6a0a18804363"
      },
      "id": "wJzIFiTBgpoj",
      "execution_count": 64,
      "outputs": [
        {
          "output_type": "display_data",
          "data": {
            "text/plain": [
              "<Figure size 1080x360 with 3 Axes>"
            ],
            "image/png": "[encoded data removed]"
          },
          "metadata": {
            "needs_background": "light"
          }
        }
      ]
    },
    {
      "cell_type": "markdown",
      "source": [
        "###### Lightweight CNN"
      ],
      "metadata": {
        "id": "IE-vfNlGvXOz"
      },
      "id": "IE-vfNlGvXOz"
    },
    {
      "cell_type": "code",
      "source": [
        "MODEL_NAME = 'Custom_LeNet-5'"
      ],
      "metadata": {
        "id": "eJuk9hYewpOc"
      },
      "id": "eJuk9hYewpOc",
      "execution_count": 79,
      "outputs": []
    },
    {
      "cell_type": "code",
      "source": [
        "EPOCHS = 30"
      ],
      "metadata": {
        "id": "aOVLTeNmxI__"
      },
      "id": "aOVLTeNmxI__",
      "execution_count": 85,
      "outputs": []
    },
    {
      "cell_type": "code",
      "source": [
        "model_params[MODEL_NAME].update({'epochs': EPOCHS})"
      ],
      "metadata": {
        "id": "_Ug2e6t_xLdO"
      },
      "id": "_Ug2e6t_xLdO",
      "execution_count": 86,
      "outputs": []
    },
    {
      "cell_type": "code",
      "source": [
        "### Initialise the LR logger and custom callbacks\n",
        "logger = LrLogger()\n",
        "callbacks = [logger]"
      ],
      "metadata": {
        "id": "JC4rWoogveNp"
      },
      "id": "JC4rWoogveNp",
      "execution_count": 80,
      "outputs": []
    },
    {
      "cell_type": "code",
      "source": [
        "### Instantiate the custom CNN model\n",
        "model = create_custom_network(\n",
        "            input_shape=model_params[DATASET_NAME]['input_shape'],\n",
        "            output_shape=model_params[DATASET_NAME]['n_classes'],\n",
        "            model_name=model_params[MODEL_NAME]['model_name']\n",
        ")"
      ],
      "metadata": {
        "id": "flLo7QBjvuXO"
      },
      "id": "flLo7QBjvuXO",
      "execution_count": 81,
      "outputs": []
    },
    {
      "cell_type": "code",
      "source": [
        "### Compile the model with a custom `step_decay` LR schedule\n",
        "model, callbacks = step_decay(model, callbacks=callbacks, initial_lr=0.001)"
      ],
      "metadata": {
        "id": "wB90DTZ6veI-"
      },
      "id": "wB90DTZ6veI-",
      "execution_count": 82,
      "outputs": []
    },
    {
      "cell_type": "code",
      "source": [
        "### Fitting the model on the train data and passing in our callbacks"
      ],
      "metadata": {
        "id": "Ka0kEs34vd_m"
      },
      "id": "Ka0kEs34vd_m",
      "execution_count": 83,
      "outputs": []
    },
    {
      "cell_type": "code",
      "source": [
        "logger_step.info(f\"Training for {model_params[MODEL_NAME]['epochs']} \" +\n",
        "                 f\"epochs using {model_params[DATASET_NAME]['imdir']} data\")"
      ],
      "metadata": {
        "colab": {
          "base_uri": "https://localhost:8080/"
        },
        "id": "O-RD80Yhvd22",
        "outputId": "1214a0f7-e8ef-46a5-e567-b2e18d30a97d"
      },
      "id": "O-RD80Yhvd22",
      "execution_count": 87,
      "outputs": [
        {
          "output_type": "stream",
          "name": "stderr",
          "text": [
            "2022-09-29 19:41:54,022 INFO     Training for 100 epochs using /content/data/GTSRB/Final_Training/Images data\n",
            "2022-09-29 19:41:54,022 INFO     Training for 100 epochs using /content/data/GTSRB/Final_Training/Images data\n",
            "2022-09-29 19:41:54,022 INFO     Training for 100 epochs using /content/data/GTSRB/Final_Training/Images data\n"
          ]
        }
      ]
    },
    {
      "cell_type": "code",
      "source": [
        "history_step = model.fit(x=train_dataset_batched, \n",
        "                         epochs=model_params[MODEL_NAME]['epochs'],\n",
        "                         batch_size=model_params[DATASET_NAME]['batch_size'],\n",
        "                         validation_data=validation_dataset_batched,\n",
        "                         callbacks=callbacks,\n",
        "                         shuffle=True\n",
        ")"
      ],
      "metadata": {
        "colab": {
          "base_uri": "https://localhost:8080/"
        },
        "id": "ErC4di7rxSyF",
        "outputId": "00240527-74a3-4eb2-d171-61475e566dd2"
      },
      "id": "ErC4di7rxSyF",
      "execution_count": 88,
      "outputs": [
        {
          "output_type": "stream",
          "name": "stdout",
          "text": [
            "Epoch 1/100\n",
            "27/27 [==============================] - 7s 204ms/step - loss: 4.5518 - accuracy: 0.0523 - val_loss: 3.6186 - val_accuracy: 0.1360 - lr: 0.0010\n",
            "Epoch 2/100\n",
            "27/27 [==============================] - 5s 180ms/step - loss: 3.0380 - accuracy: 0.2294 - val_loss: 3.4638 - val_accuracy: 0.2291 - lr: 0.0010\n",
            "Epoch 3/100\n",
            "27/27 [==============================] - 5s 182ms/step - loss: 2.0036 - accuracy: 0.4401 - val_loss: 3.3951 - val_accuracy: 0.1570 - lr: 0.0010\n",
            "Epoch 4/100\n",
            "27/27 [==============================] - 5s 180ms/step - loss: 1.3818 - accuracy: 0.5843 - val_loss: 3.5261 - val_accuracy: 0.0767 - lr: 0.0010\n",
            "Epoch 5/100\n",
            "27/27 [==============================] - 6s 198ms/step - loss: 0.9773 - accuracy: 0.7003 - val_loss: 3.5591 - val_accuracy: 0.0907 - lr: 0.0010\n",
            "Epoch 6/100\n",
            "27/27 [==============================] - 5s 184ms/step - loss: 0.7521 - accuracy: 0.7759 - val_loss: 3.5314 - val_accuracy: 0.1640 - lr: 0.0010\n",
            "Epoch 7/100\n",
            "27/27 [==============================] - 5s 181ms/step - loss: 0.5724 - accuracy: 0.8244 - val_loss: 3.2490 - val_accuracy: 0.2244 - lr: 0.0010\n",
            "Epoch 8/100\n",
            "27/27 [==============================] - 5s 183ms/step - loss: 0.4432 - accuracy: 0.8628 - val_loss: 2.9873 - val_accuracy: 0.2988 - lr: 0.0010\n",
            "Epoch 9/100\n",
            "27/27 [==============================] - 7s 251ms/step - loss: 0.3991 - accuracy: 0.8788 - val_loss: 2.9717 - val_accuracy: 0.2930 - lr: 0.0010\n",
            "Epoch 10/100\n",
            "27/27 [==============================] - 5s 192ms/step - loss: 0.3350 - accuracy: 0.8980 - val_loss: 2.2206 - val_accuracy: 0.5116 - lr: 0.0010\n",
            "Epoch 11/100\n",
            "27/27 [==============================] - 5s 181ms/step - loss: 0.2620 - accuracy: 0.9235 - val_loss: 2.2846 - val_accuracy: 0.4523 - lr: 5.0000e-04\n",
            "Epoch 12/100\n",
            "27/27 [==============================] - 7s 225ms/step - loss: 0.2311 - accuracy: 0.9328 - val_loss: 1.8779 - val_accuracy: 0.5570 - lr: 5.0000e-04\n",
            "Epoch 13/100\n",
            "27/27 [==============================] - 6s 213ms/step - loss: 0.2203 - accuracy: 0.9352 - val_loss: 1.8664 - val_accuracy: 0.5535 - lr: 5.0000e-04\n",
            "Epoch 14/100\n",
            "27/27 [==============================] - 6s 207ms/step - loss: 0.2012 - accuracy: 0.9390 - val_loss: 1.2823 - val_accuracy: 0.7198 - lr: 5.0000e-04\n",
            "Epoch 15/100\n",
            "27/27 [==============================] - 7s 224ms/step - loss: 0.1847 - accuracy: 0.9488 - val_loss: 1.0544 - val_accuracy: 0.8012 - lr: 5.0000e-04\n",
            "Epoch 16/100\n",
            "27/27 [==============================] - 7s 238ms/step - loss: 0.1754 - accuracy: 0.9462 - val_loss: 0.5456 - val_accuracy: 0.9081 - lr: 5.0000e-04\n",
            "Epoch 17/100\n",
            "27/27 [==============================] - 5s 182ms/step - loss: 0.1471 - accuracy: 0.9608 - val_loss: 0.5890 - val_accuracy: 0.9035 - lr: 5.0000e-04\n",
            "Epoch 18/100\n",
            "27/27 [==============================] - 5s 181ms/step - loss: 0.1536 - accuracy: 0.9517 - val_loss: 0.4056 - val_accuracy: 0.9256 - lr: 5.0000e-04\n",
            "Epoch 19/100\n",
            "27/27 [==============================] - 7s 252ms/step - loss: 0.1362 - accuracy: 0.9640 - val_loss: 0.3739 - val_accuracy: 0.9372 - lr: 5.0000e-04\n",
            "Epoch 20/100\n",
            "27/27 [==============================] - 11s 412ms/step - loss: 0.1328 - accuracy: 0.9622 - val_loss: 0.2362 - val_accuracy: 0.9558 - lr: 5.0000e-04\n",
            "Epoch 21/100\n",
            "27/27 [==============================] - 5s 185ms/step - loss: 0.1162 - accuracy: 0.9686 - val_loss: 0.1922 - val_accuracy: 0.9581 - lr: 2.5000e-04\n",
            "Epoch 22/100\n",
            "27/27 [==============================] - 11s 417ms/step - loss: 0.1133 - accuracy: 0.9672 - val_loss: 0.1487 - val_accuracy: 0.9674 - lr: 2.5000e-04\n",
            "Epoch 23/100\n",
            "27/27 [==============================] - 5s 184ms/step - loss: 0.1147 - accuracy: 0.9677 - val_loss: 0.1460 - val_accuracy: 0.9674 - lr: 2.5000e-04\n",
            "Epoch 24/100\n",
            "27/27 [==============================] - 6s 208ms/step - loss: 0.0986 - accuracy: 0.9750 - val_loss: 0.1166 - val_accuracy: 0.9791 - lr: 2.5000e-04\n",
            "Epoch 25/100\n",
            "27/27 [==============================] - 8s 305ms/step - loss: 0.0960 - accuracy: 0.9750 - val_loss: 0.1238 - val_accuracy: 0.9733 - lr: 2.5000e-04\n",
            "Epoch 26/100\n",
            "27/27 [==============================] - 5s 187ms/step - loss: 0.0981 - accuracy: 0.9698 - val_loss: 0.1016 - val_accuracy: 0.9791 - lr: 2.5000e-04\n",
            "Epoch 27/100\n",
            "27/27 [==============================] - 5s 184ms/step - loss: 0.0939 - accuracy: 0.9750 - val_loss: 0.1098 - val_accuracy: 0.9756 - lr: 2.5000e-04\n",
            "Epoch 28/100\n",
            "27/27 [==============================] - 5s 187ms/step - loss: 0.0897 - accuracy: 0.9767 - val_loss: 0.0909 - val_accuracy: 0.9767 - lr: 2.5000e-04\n",
            "Epoch 29/100\n",
            "27/27 [==============================] - 8s 294ms/step - loss: 0.0907 - accuracy: 0.9770 - val_loss: 0.0870 - val_accuracy: 0.9814 - lr: 2.5000e-04\n",
            "Epoch 30/100\n",
            "27/27 [==============================] - 6s 217ms/step - loss: 0.0905 - accuracy: 0.9770 - val_loss: 0.0859 - val_accuracy: 0.9837 - lr: 2.5000e-04\n",
            "Epoch 31/100\n",
            "27/27 [==============================] - 8s 286ms/step - loss: 0.0851 - accuracy: 0.9776 - val_loss: 0.0895 - val_accuracy: 0.9802 - lr: 1.2500e-04\n",
            "Epoch 32/100\n",
            "27/27 [==============================] - 5s 181ms/step - loss: 0.0685 - accuracy: 0.9843 - val_loss: 0.0853 - val_accuracy: 0.9826 - lr: 1.2500e-04\n",
            "Epoch 33/100\n",
            "27/27 [==============================] - 5s 181ms/step - loss: 0.0709 - accuracy: 0.9831 - val_loss: 0.0867 - val_accuracy: 0.9767 - lr: 1.2500e-04\n",
            "Epoch 34/100\n",
            "27/27 [==============================] - 5s 181ms/step - loss: 0.0817 - accuracy: 0.9797 - val_loss: 0.0842 - val_accuracy: 0.9814 - lr: 1.2500e-04\n",
            "Epoch 35/100\n",
            "27/27 [==============================] - 5s 181ms/step - loss: 0.0683 - accuracy: 0.9814 - val_loss: 0.0826 - val_accuracy: 0.9802 - lr: 1.2500e-04\n",
            "Epoch 36/100\n",
            "27/27 [==============================] - 6s 197ms/step - loss: 0.0696 - accuracy: 0.9834 - val_loss: 0.0791 - val_accuracy: 0.9837 - lr: 1.2500e-04\n",
            "Epoch 37/100\n",
            "27/27 [==============================] - 5s 193ms/step - loss: 0.0677 - accuracy: 0.9840 - val_loss: 0.0827 - val_accuracy: 0.9791 - lr: 1.2500e-04\n",
            "Epoch 38/100\n",
            "27/27 [==============================] - 5s 181ms/step - loss: 0.0649 - accuracy: 0.9872 - val_loss: 0.0808 - val_accuracy: 0.9802 - lr: 1.2500e-04\n",
            "Epoch 39/100\n",
            "27/27 [==============================] - 6s 207ms/step - loss: 0.0701 - accuracy: 0.9831 - val_loss: 0.0797 - val_accuracy: 0.9802 - lr: 1.2500e-04\n",
            "Epoch 40/100\n",
            "27/27 [==============================] - 5s 183ms/step - loss: 0.0683 - accuracy: 0.9837 - val_loss: 0.0745 - val_accuracy: 0.9791 - lr: 1.2500e-04\n",
            "Epoch 41/100\n",
            "27/27 [==============================] - 5s 179ms/step - loss: 0.0666 - accuracy: 0.9858 - val_loss: 0.0739 - val_accuracy: 0.9802 - lr: 6.2500e-05\n",
            "Epoch 42/100\n",
            "27/27 [==============================] - 5s 192ms/step - loss: 0.0636 - accuracy: 0.9846 - val_loss: 0.0765 - val_accuracy: 0.9814 - lr: 6.2500e-05\n",
            "Epoch 43/100\n",
            "27/27 [==============================] - 6s 202ms/step - loss: 0.0634 - accuracy: 0.9855 - val_loss: 0.0762 - val_accuracy: 0.9791 - lr: 6.2500e-05\n",
            "Epoch 44/100\n",
            "27/27 [==============================] - 6s 223ms/step - loss: 0.0719 - accuracy: 0.9826 - val_loss: 0.0757 - val_accuracy: 0.9826 - lr: 6.2500e-05\n",
            "Epoch 45/100\n",
            "27/27 [==============================] - 5s 179ms/step - loss: 0.0608 - accuracy: 0.9875 - val_loss: 0.0781 - val_accuracy: 0.9802 - lr: 6.2500e-05\n",
            "Epoch 46/100\n",
            "27/27 [==============================] - 5s 188ms/step - loss: 0.0638 - accuracy: 0.9846 - val_loss: 0.0767 - val_accuracy: 0.9802 - lr: 6.2500e-05\n",
            "Epoch 47/100\n",
            "27/27 [==============================] - 5s 194ms/step - loss: 0.0587 - accuracy: 0.9872 - val_loss: 0.0750 - val_accuracy: 0.9826 - lr: 6.2500e-05\n",
            "Epoch 48/100\n",
            "27/27 [==============================] - 5s 182ms/step - loss: 0.0598 - accuracy: 0.9858 - val_loss: 0.0741 - val_accuracy: 0.9826 - lr: 6.2500e-05\n",
            "Epoch 49/100\n",
            "27/27 [==============================] - 7s 241ms/step - loss: 0.0625 - accuracy: 0.9869 - val_loss: 0.0773 - val_accuracy: 0.9802 - lr: 6.2500e-05\n",
            "Epoch 50/100\n",
            "27/27 [==============================] - 5s 181ms/step - loss: 0.0598 - accuracy: 0.9863 - val_loss: 0.0767 - val_accuracy: 0.9814 - lr: 6.2500e-05\n",
            "Epoch 51/100\n",
            "27/27 [==============================] - 5s 186ms/step - loss: 0.0572 - accuracy: 0.9875 - val_loss: 0.0750 - val_accuracy: 0.9826 - lr: 3.1250e-05\n",
            "Epoch 52/100\n",
            "27/27 [==============================] - 6s 204ms/step - loss: 0.0619 - accuracy: 0.9840 - val_loss: 0.0733 - val_accuracy: 0.9826 - lr: 3.1250e-05\n",
            "Epoch 53/100\n",
            "27/27 [==============================] - 5s 178ms/step - loss: 0.0613 - accuracy: 0.9837 - val_loss: 0.0741 - val_accuracy: 0.9814 - lr: 3.1250e-05\n",
            "Epoch 54/100\n",
            "27/27 [==============================] - 6s 229ms/step - loss: 0.0545 - accuracy: 0.9869 - val_loss: 0.0738 - val_accuracy: 0.9826 - lr: 3.1250e-05\n",
            "Epoch 55/100\n",
            "27/27 [==============================] - 5s 179ms/step - loss: 0.0539 - accuracy: 0.9892 - val_loss: 0.0728 - val_accuracy: 0.9826 - lr: 3.1250e-05\n",
            "Epoch 56/100\n",
            "27/27 [==============================] - 5s 180ms/step - loss: 0.0566 - accuracy: 0.9863 - val_loss: 0.0732 - val_accuracy: 0.9814 - lr: 3.1250e-05\n",
            "Epoch 57/100\n",
            "27/27 [==============================] - 5s 179ms/step - loss: 0.0605 - accuracy: 0.9840 - val_loss: 0.0736 - val_accuracy: 0.9814 - lr: 3.1250e-05\n",
            "Epoch 58/100\n",
            "27/27 [==============================] - 5s 196ms/step - loss: 0.0551 - accuracy: 0.9858 - val_loss: 0.0729 - val_accuracy: 0.9814 - lr: 3.1250e-05\n",
            "Epoch 59/100\n",
            "27/27 [==============================] - 6s 199ms/step - loss: 0.0580 - accuracy: 0.9855 - val_loss: 0.0718 - val_accuracy: 0.9802 - lr: 3.1250e-05\n",
            "Epoch 60/100\n",
            "27/27 [==============================] - 5s 181ms/step - loss: 0.0485 - accuracy: 0.9890 - val_loss: 0.0719 - val_accuracy: 0.9826 - lr: 3.1250e-05\n",
            "Epoch 61/100\n",
            "27/27 [==============================] - 7s 266ms/step - loss: 0.0613 - accuracy: 0.9831 - val_loss: 0.0719 - val_accuracy: 0.9826 - lr: 1.5625e-05\n",
            "Epoch 62/100\n",
            "27/27 [==============================] - 6s 205ms/step - loss: 0.0574 - accuracy: 0.9849 - val_loss: 0.0716 - val_accuracy: 0.9826 - lr: 1.5625e-05\n",
            "Epoch 63/100\n",
            "27/27 [==============================] - 5s 179ms/step - loss: 0.0547 - accuracy: 0.9887 - val_loss: 0.0718 - val_accuracy: 0.9837 - lr: 1.5625e-05\n",
            "Epoch 64/100\n",
            "27/27 [==============================] - 5s 181ms/step - loss: 0.0525 - accuracy: 0.9884 - val_loss: 0.0721 - val_accuracy: 0.9837 - lr: 1.5625e-05\n",
            "Epoch 65/100\n",
            "27/27 [==============================] - 6s 230ms/step - loss: 0.0534 - accuracy: 0.9855 - val_loss: 0.0722 - val_accuracy: 0.9826 - lr: 1.5625e-05\n",
            "Epoch 66/100\n",
            "27/27 [==============================] - 5s 179ms/step - loss: 0.0576 - accuracy: 0.9855 - val_loss: 0.0712 - val_accuracy: 0.9826 - lr: 1.5625e-05\n",
            "Epoch 67/100\n",
            "27/27 [==============================] - 5s 180ms/step - loss: 0.0515 - accuracy: 0.9881 - val_loss: 0.0711 - val_accuracy: 0.9826 - lr: 1.5625e-05\n",
            "Epoch 68/100\n",
            "27/27 [==============================] - 6s 223ms/step - loss: 0.0553 - accuracy: 0.9869 - val_loss: 0.0707 - val_accuracy: 0.9814 - lr: 1.5625e-05\n",
            "Epoch 69/100\n",
            "27/27 [==============================] - 6s 214ms/step - loss: 0.0544 - accuracy: 0.9875 - val_loss: 0.0712 - val_accuracy: 0.9826 - lr: 1.5625e-05\n",
            "Epoch 70/100\n",
            "27/27 [==============================] - 5s 181ms/step - loss: 0.0559 - accuracy: 0.9852 - val_loss: 0.0714 - val_accuracy: 0.9849 - lr: 1.5625e-05\n",
            "Epoch 71/100\n",
            "27/27 [==============================] - 6s 202ms/step - loss: 0.0529 - accuracy: 0.9881 - val_loss: 0.0716 - val_accuracy: 0.9849 - lr: 7.8125e-06\n",
            "Epoch 72/100\n",
            "27/27 [==============================] - 6s 210ms/step - loss: 0.0525 - accuracy: 0.9875 - val_loss: 0.0714 - val_accuracy: 0.9849 - lr: 7.8125e-06\n",
            "Epoch 73/100\n",
            "27/27 [==============================] - 5s 179ms/step - loss: 0.0471 - accuracy: 0.9904 - val_loss: 0.0715 - val_accuracy: 0.9849 - lr: 7.8125e-06\n",
            "Epoch 74/100\n",
            "27/27 [==============================] - 5s 177ms/step - loss: 0.0503 - accuracy: 0.9887 - val_loss: 0.0719 - val_accuracy: 0.9849 - lr: 7.8125e-06\n",
            "Epoch 75/100\n",
            "27/27 [==============================] - 5s 182ms/step - loss: 0.0521 - accuracy: 0.9890 - val_loss: 0.0715 - val_accuracy: 0.9837 - lr: 7.8125e-06\n",
            "Epoch 76/100\n",
            "27/27 [==============================] - 5s 180ms/step - loss: 0.0504 - accuracy: 0.9887 - val_loss: 0.0714 - val_accuracy: 0.9837 - lr: 7.8125e-06\n",
            "Epoch 77/100\n",
            "27/27 [==============================] - 5s 186ms/step - loss: 0.0563 - accuracy: 0.9849 - val_loss: 0.0717 - val_accuracy: 0.9826 - lr: 7.8125e-06\n",
            "Epoch 78/100\n",
            "27/27 [==============================] - 5s 186ms/step - loss: 0.0532 - accuracy: 0.9869 - val_loss: 0.0714 - val_accuracy: 0.9837 - lr: 7.8125e-06\n",
            "Epoch 79/100\n",
            "27/27 [==============================] - 5s 188ms/step - loss: 0.0545 - accuracy: 0.9863 - val_loss: 0.0715 - val_accuracy: 0.9837 - lr: 7.8125e-06\n",
            "Epoch 80/100\n",
            "27/27 [==============================] - 6s 192ms/step - loss: 0.0535 - accuracy: 0.9875 - val_loss: 0.0714 - val_accuracy: 0.9837 - lr: 7.8125e-06\n",
            "Epoch 81/100\n",
            "27/27 [==============================] - 5s 181ms/step - loss: 0.0521 - accuracy: 0.9866 - val_loss: 0.0714 - val_accuracy: 0.9837 - lr: 3.9063e-06\n",
            "Epoch 82/100\n",
            "27/27 [==============================] - 6s 203ms/step - loss: 0.0492 - accuracy: 0.9878 - val_loss: 0.0711 - val_accuracy: 0.9837 - lr: 3.9063e-06\n",
            "Epoch 83/100\n",
            "27/27 [==============================] - 5s 183ms/step - loss: 0.0523 - accuracy: 0.9860 - val_loss: 0.0710 - val_accuracy: 0.9837 - lr: 3.9063e-06\n",
            "Epoch 84/100\n",
            "27/27 [==============================] - 6s 222ms/step - loss: 0.0504 - accuracy: 0.9884 - val_loss: 0.0709 - val_accuracy: 0.9837 - lr: 3.9063e-06\n",
            "Epoch 85/100\n",
            "27/27 [==============================] - 5s 180ms/step - loss: 0.0551 - accuracy: 0.9855 - val_loss: 0.0710 - val_accuracy: 0.9837 - lr: 3.9063e-06\n",
            "Epoch 86/100\n",
            "27/27 [==============================] - 5s 178ms/step - loss: 0.0549 - accuracy: 0.9872 - val_loss: 0.0707 - val_accuracy: 0.9837 - lr: 3.9063e-06\n",
            "Epoch 87/100\n",
            "27/27 [==============================] - 5s 179ms/step - loss: 0.0495 - accuracy: 0.9887 - val_loss: 0.0706 - val_accuracy: 0.9837 - lr: 3.9063e-06\n",
            "Epoch 88/100\n",
            "27/27 [==============================] - 5s 183ms/step - loss: 0.0519 - accuracy: 0.9890 - val_loss: 0.0704 - val_accuracy: 0.9837 - lr: 3.9063e-06\n",
            "Epoch 89/100\n",
            "27/27 [==============================] - 5s 181ms/step - loss: 0.0500 - accuracy: 0.9890 - val_loss: 0.0705 - val_accuracy: 0.9837 - lr: 3.9063e-06\n",
            "Epoch 90/100\n",
            "27/27 [==============================] - 5s 180ms/step - loss: 0.0457 - accuracy: 0.9907 - val_loss: 0.0706 - val_accuracy: 0.9849 - lr: 3.9063e-06\n",
            "Epoch 91/100\n",
            "27/27 [==============================] - 5s 180ms/step - loss: 0.0512 - accuracy: 0.9875 - val_loss: 0.0706 - val_accuracy: 0.9849 - lr: 1.9531e-06\n",
            "Epoch 92/100\n",
            "27/27 [==============================] - 6s 201ms/step - loss: 0.0478 - accuracy: 0.9901 - val_loss: 0.0705 - val_accuracy: 0.9849 - lr: 1.9531e-06\n",
            "Epoch 93/100\n",
            "27/27 [==============================] - 5s 180ms/step - loss: 0.0477 - accuracy: 0.9887 - val_loss: 0.0706 - val_accuracy: 0.9849 - lr: 1.9531e-06\n",
            "Epoch 94/100\n",
            "27/27 [==============================] - 5s 181ms/step - loss: 0.0482 - accuracy: 0.9919 - val_loss: 0.0707 - val_accuracy: 0.9849 - lr: 1.9531e-06\n",
            "Epoch 95/100\n",
            "27/27 [==============================] - 5s 185ms/step - loss: 0.0520 - accuracy: 0.9860 - val_loss: 0.0708 - val_accuracy: 0.9837 - lr: 1.9531e-06\n",
            "Epoch 96/100\n",
            "27/27 [==============================] - 5s 184ms/step - loss: 0.0454 - accuracy: 0.9887 - val_loss: 0.0708 - val_accuracy: 0.9849 - lr: 1.9531e-06\n",
            "Epoch 97/100\n",
            "27/27 [==============================] - 5s 182ms/step - loss: 0.0529 - accuracy: 0.9869 - val_loss: 0.0709 - val_accuracy: 0.9849 - lr: 1.9531e-06\n",
            "Epoch 98/100\n",
            "27/27 [==============================] - 5s 182ms/step - loss: 0.0543 - accuracy: 0.9869 - val_loss: 0.0711 - val_accuracy: 0.9849 - lr: 1.9531e-06\n",
            "Epoch 99/100\n",
            "27/27 [==============================] - 5s 180ms/step - loss: 0.0477 - accuracy: 0.9884 - val_loss: 0.0711 - val_accuracy: 0.9837 - lr: 1.9531e-06\n",
            "Epoch 100/100\n",
            "27/27 [==============================] - 5s 185ms/step - loss: 0.0483 - accuracy: 0.9884 - val_loss: 0.0711 - val_accuracy: 0.9837 - lr: 1.9531e-06\n"
          ]
        }
      ]
    },
    {
      "cell_type": "code",
      "source": [
        "### Plot the loss, accuracy and LR decay (if using callbacks)"
      ],
      "metadata": {
        "id": "xluSaA6ExcCF"
      },
      "id": "xluSaA6ExcCF",
      "execution_count": 89,
      "outputs": []
    },
    {
      "cell_type": "code",
      "source": [
        "display_metrics(history_step)"
      ],
      "metadata": {
        "colab": {
          "base_uri": "https://localhost:8080/",
          "height": 369
        },
        "id": "uNWkg8BJxcos",
        "outputId": "f719e9e1-880d-4cc9-ce08-308809ce08fd"
      },
      "id": "uNWkg8BJxcos",
      "execution_count": 90,
      "outputs": [
        {
          "output_type": "display_data",
          "data": {
            "text/plain": [
              "<Figure size 1080x360 with 3 Axes>"
            ],
            "image/png": "[encoded data removed]"
          },
          "metadata": {
            "needs_background": "light"
          }
        }
      ]
    },
    {
      "cell_type": "markdown",
      "source": [
        "##### Exponential Decay"
      ],
      "metadata": {
        "id": "QmeANnbBgkMI"
      },
      "id": "QmeANnbBgkMI"
    },
    {
      "cell_type": "markdown",
      "source": [
        "###### Simple ConvNet"
      ],
      "metadata": {
        "id": "vTzF4yc7xy4j"
      },
      "id": "vTzF4yc7xy4j"
    },
    {
      "cell_type": "code",
      "source": [
        "MODEL_NAME = 'ConvNet'"
      ],
      "metadata": {
        "id": "h9qw3jgHxyDy"
      },
      "id": "h9qw3jgHxyDy",
      "execution_count": null,
      "outputs": []
    },
    {
      "cell_type": "code",
      "source": [
        "### Initialise the LR logger and custom callbacks\n",
        "logger = LrLogger()"
      ],
      "metadata": {
        "id": "U32h7OeYniEx"
      },
      "id": "U32h7OeYniEx",
      "execution_count": 65,
      "outputs": []
    },
    {
      "cell_type": "code",
      "source": [
        "### Create a list of all desired TensorFlow Keras callbacks\n",
        "callbacks = [logger]"
      ],
      "metadata": {
        "id": "o4t3-gvcgNDs"
      },
      "id": "o4t3-gvcgNDs",
      "execution_count": 66,
      "outputs": []
    },
    {
      "cell_type": "code",
      "source": [
        "### Compile the model with a Keras `ExponentialDecay` LR schedule\n",
        "model = create_network(inputs, outputs)\n",
        "model, callbacks = exponential_decay(model, callbacks=callbacks, initial_lr=0.1)"
      ],
      "metadata": {
        "id": "ri_wk1n3gM5E"
      },
      "id": "ri_wk1n3gM5E",
      "execution_count": 67,
      "outputs": []
    },
    {
      "cell_type": "code",
      "source": [
        "### Fitting the model on the train data and passing in our callbacks"
      ],
      "metadata": {
        "id": "LuyhC1tUgxYD"
      },
      "id": "LuyhC1tUgxYD",
      "execution_count": 68,
      "outputs": []
    },
    {
      "cell_type": "code",
      "execution_count": 69,
      "id": "8ce029a7",
      "metadata": {
        "colab": {
          "base_uri": "https://localhost:8080/"
        },
        "id": "8ce029a7",
        "outputId": "6815e5f9-bb0e-4b12-c157-73902d8834c5"
      },
      "outputs": [
        {
          "output_type": "stream",
          "name": "stderr",
          "text": [
            "2022-09-29 19:16:17,700 INFO     Training for 100 epochs using /content/data/GTSRB/Final_Training/Images data\n",
            "INFO:exponential_decay:Training for 100 epochs using /content/data/GTSRB/Final_Training/Images data\n"
          ]
        }
      ],
      "source": [
        "logger_exp.info(f\"Training for {model_params[MODEL_NAME]['epochs']} \" +\n",
        "                 f\"epochs using {model_params[DATASET_NAME]['imdir']} data\")"
      ]
    },
    {
      "cell_type": "code",
      "source": [
        "history_exp = model.fit(x=train_dataset_batched, \n",
        "                        epochs=model_params[MODEL_NAME]['epochs'],\n",
        "                        batch_size=model_params[DATASET_NAME]['batch_size'],\n",
        "                        validation_data=validation_dataset_batched,\n",
        "                        callbacks=callbacks,\n",
        "                        shuffle=True\n",
        ")"
      ],
      "metadata": {
        "colab": {
          "base_uri": "https://localhost:8080/"
        },
        "id": "8EQ-bVc8gxNl",
        "outputId": "d98c6f23-0f58-4ac5-8fe4-4f9a8a5daf95"
      },
      "id": "8EQ-bVc8gxNl",
      "execution_count": 70,
      "outputs": [
        {
          "output_type": "stream",
          "name": "stdout",
          "text": [
            "Epoch 1/100\n",
            "27/27 [==============================] - 5s 173ms/step - loss: 15.6792 - accuracy: 0.0221 - val_loss: 16.1907 - val_accuracy: 0.0221\n",
            "Epoch 2/100\n",
            "27/27 [==============================] - 5s 168ms/step - loss: 15.7690 - accuracy: 0.0235 - val_loss: 16.1907 - val_accuracy: 0.0221\n",
            "Epoch 3/100\n",
            "27/27 [==============================] - 5s 167ms/step - loss: 15.7690 - accuracy: 0.0235 - val_loss: 16.1907 - val_accuracy: 0.0221\n",
            "Epoch 4/100\n",
            "27/27 [==============================] - 5s 169ms/step - loss: 15.7690 - accuracy: 0.0235 - val_loss: 16.1907 - val_accuracy: 0.0221\n",
            "Epoch 5/100\n",
            "27/27 [==============================] - 5s 168ms/step - loss: 15.7690 - accuracy: 0.0235 - val_loss: 16.1907 - val_accuracy: 0.0221\n",
            "Epoch 6/100\n",
            "27/27 [==============================] - 5s 170ms/step - loss: 15.7690 - accuracy: 0.0235 - val_loss: 16.1907 - val_accuracy: 0.0221\n",
            "Epoch 7/100\n",
            "27/27 [==============================] - 5s 188ms/step - loss: 15.7690 - accuracy: 0.0235 - val_loss: 16.1907 - val_accuracy: 0.0221\n",
            "Epoch 8/100\n",
            "27/27 [==============================] - 5s 169ms/step - loss: 15.7690 - accuracy: 0.0235 - val_loss: 16.1907 - val_accuracy: 0.0221\n",
            "Epoch 9/100\n",
            "27/27 [==============================] - 5s 168ms/step - loss: 15.7690 - accuracy: 0.0235 - val_loss: 16.1907 - val_accuracy: 0.0221\n",
            "Epoch 10/100\n",
            "27/27 [==============================] - 5s 172ms/step - loss: 15.7690 - accuracy: 0.0235 - val_loss: 16.1907 - val_accuracy: 0.0221\n",
            "Epoch 11/100\n",
            "27/27 [==============================] - 5s 168ms/step - loss: 15.7690 - accuracy: 0.0235 - val_loss: 16.1907 - val_accuracy: 0.0221\n",
            "Epoch 12/100\n",
            "27/27 [==============================] - 5s 169ms/step - loss: 15.7690 - accuracy: 0.0235 - val_loss: 16.1907 - val_accuracy: 0.0221\n",
            "Epoch 13/100\n",
            "27/27 [==============================] - 5s 170ms/step - loss: 15.7690 - accuracy: 0.0235 - val_loss: 16.1907 - val_accuracy: 0.0221\n",
            "Epoch 14/100\n",
            "27/27 [==============================] - 5s 169ms/step - loss: 15.7690 - accuracy: 0.0235 - val_loss: 16.1907 - val_accuracy: 0.0221\n",
            "Epoch 15/100\n",
            "27/27 [==============================] - 5s 165ms/step - loss: 15.7690 - accuracy: 0.0235 - val_loss: 16.1907 - val_accuracy: 0.0221\n",
            "Epoch 16/100\n",
            "27/27 [==============================] - 5s 167ms/step - loss: 15.7690 - accuracy: 0.0235 - val_loss: 16.1907 - val_accuracy: 0.0221\n",
            "Epoch 17/100\n",
            "27/27 [==============================] - 5s 168ms/step - loss: 15.7690 - accuracy: 0.0235 - val_loss: 16.1907 - val_accuracy: 0.0221\n",
            "Epoch 18/100\n",
            "27/27 [==============================] - 5s 171ms/step - loss: 15.7690 - accuracy: 0.0235 - val_loss: 16.1907 - val_accuracy: 0.0221\n",
            "Epoch 19/100\n",
            "27/27 [==============================] - 5s 170ms/step - loss: 15.7690 - accuracy: 0.0235 - val_loss: 16.1907 - val_accuracy: 0.0221\n",
            "Epoch 20/100\n",
            "27/27 [==============================] - 5s 170ms/step - loss: 15.7690 - accuracy: 0.0235 - val_loss: 16.1907 - val_accuracy: 0.0221\n",
            "Epoch 21/100\n",
            "27/27 [==============================] - 5s 171ms/step - loss: 15.7690 - accuracy: 0.0235 - val_loss: 16.1907 - val_accuracy: 0.0221\n",
            "Epoch 22/100\n",
            "27/27 [==============================] - 5s 169ms/step - loss: 15.7690 - accuracy: 0.0235 - val_loss: 16.1907 - val_accuracy: 0.0221\n",
            "Epoch 23/100\n",
            "27/27 [==============================] - 5s 171ms/step - loss: 15.7690 - accuracy: 0.0235 - val_loss: 16.1907 - val_accuracy: 0.0221\n",
            "Epoch 24/100\n",
            "27/27 [==============================] - 5s 170ms/step - loss: 15.7690 - accuracy: 0.0235 - val_loss: 16.1907 - val_accuracy: 0.0221\n",
            "Epoch 25/100\n",
            "27/27 [==============================] - 5s 171ms/step - loss: 15.7690 - accuracy: 0.0235 - val_loss: 16.1907 - val_accuracy: 0.0221\n",
            "Epoch 26/100\n",
            "27/27 [==============================] - 5s 167ms/step - loss: 15.7690 - accuracy: 0.0235 - val_loss: 16.1907 - val_accuracy: 0.0221\n",
            "Epoch 27/100\n",
            "27/27 [==============================] - 5s 172ms/step - loss: 15.7690 - accuracy: 0.0235 - val_loss: 16.1907 - val_accuracy: 0.0221\n",
            "Epoch 28/100\n",
            "27/27 [==============================] - 5s 169ms/step - loss: 15.7690 - accuracy: 0.0235 - val_loss: 16.1907 - val_accuracy: 0.0221\n",
            "Epoch 29/100\n",
            "27/27 [==============================] - 5s 171ms/step - loss: 15.7690 - accuracy: 0.0235 - val_loss: 16.1907 - val_accuracy: 0.0221\n",
            "Epoch 30/100\n",
            "27/27 [==============================] - 5s 168ms/step - loss: 15.7690 - accuracy: 0.0235 - val_loss: 16.1907 - val_accuracy: 0.0221\n",
            "Epoch 31/100\n",
            "27/27 [==============================] - 5s 170ms/step - loss: 15.7690 - accuracy: 0.0235 - val_loss: 16.1907 - val_accuracy: 0.0221\n",
            "Epoch 32/100\n",
            "27/27 [==============================] - 5s 168ms/step - loss: 15.7690 - accuracy: 0.0235 - val_loss: 16.1907 - val_accuracy: 0.0221\n",
            "Epoch 33/100\n",
            "27/27 [==============================] - 5s 170ms/step - loss: 15.7690 - accuracy: 0.0235 - val_loss: 16.1907 - val_accuracy: 0.0221\n",
            "Epoch 34/100\n",
            "27/27 [==============================] - 5s 168ms/step - loss: 15.7690 - accuracy: 0.0235 - val_loss: 16.1907 - val_accuracy: 0.0221\n",
            "Epoch 35/100\n",
            "27/27 [==============================] - 5s 170ms/step - loss: 15.7690 - accuracy: 0.0235 - val_loss: 16.1907 - val_accuracy: 0.0221\n",
            "Epoch 36/100\n",
            "27/27 [==============================] - 5s 168ms/step - loss: 15.7690 - accuracy: 0.0235 - val_loss: 16.1907 - val_accuracy: 0.0221\n",
            "Epoch 37/100\n",
            "27/27 [==============================] - 5s 167ms/step - loss: 15.7690 - accuracy: 0.0235 - val_loss: 16.1907 - val_accuracy: 0.0221\n",
            "Epoch 38/100\n",
            "27/27 [==============================] - 5s 171ms/step - loss: 15.7690 - accuracy: 0.0235 - val_loss: 16.1907 - val_accuracy: 0.0221\n",
            "Epoch 39/100\n",
            "27/27 [==============================] - 5s 166ms/step - loss: 15.7690 - accuracy: 0.0235 - val_loss: 16.1907 - val_accuracy: 0.0221\n",
            "Epoch 40/100\n",
            "27/27 [==============================] - 5s 167ms/step - loss: 15.7690 - accuracy: 0.0235 - val_loss: 16.1907 - val_accuracy: 0.0221\n",
            "Epoch 41/100\n",
            "27/27 [==============================] - 5s 174ms/step - loss: 15.7690 - accuracy: 0.0235 - val_loss: 16.1907 - val_accuracy: 0.0221\n",
            "Epoch 42/100\n",
            "27/27 [==============================] - 5s 171ms/step - loss: 15.7690 - accuracy: 0.0235 - val_loss: 16.1907 - val_accuracy: 0.0221\n",
            "Epoch 43/100\n",
            "27/27 [==============================] - 5s 173ms/step - loss: 15.7690 - accuracy: 0.0235 - val_loss: 16.1907 - val_accuracy: 0.0221\n",
            "Epoch 44/100\n",
            "27/27 [==============================] - 5s 192ms/step - loss: 15.7690 - accuracy: 0.0235 - val_loss: 16.1907 - val_accuracy: 0.0221\n",
            "Epoch 45/100\n",
            "27/27 [==============================] - 5s 166ms/step - loss: 15.7690 - accuracy: 0.0235 - val_loss: 16.1907 - val_accuracy: 0.0221\n",
            "Epoch 46/100\n",
            "27/27 [==============================] - 5s 169ms/step - loss: 15.7690 - accuracy: 0.0235 - val_loss: 16.1907 - val_accuracy: 0.0221\n",
            "Epoch 47/100\n",
            "27/27 [==============================] - 5s 169ms/step - loss: 15.7690 - accuracy: 0.0235 - val_loss: 16.1907 - val_accuracy: 0.0221\n",
            "Epoch 48/100\n",
            "27/27 [==============================] - 5s 169ms/step - loss: 15.7690 - accuracy: 0.0235 - val_loss: 16.1907 - val_accuracy: 0.0221\n",
            "Epoch 49/100\n",
            "27/27 [==============================] - 5s 168ms/step - loss: 15.7690 - accuracy: 0.0235 - val_loss: 16.1907 - val_accuracy: 0.0221\n",
            "Epoch 50/100\n",
            "27/27 [==============================] - 5s 170ms/step - loss: 15.7690 - accuracy: 0.0235 - val_loss: 16.1907 - val_accuracy: 0.0221\n",
            "Epoch 51/100\n",
            "27/27 [==============================] - 5s 171ms/step - loss: 15.7690 - accuracy: 0.0235 - val_loss: 16.1907 - val_accuracy: 0.0221\n",
            "Epoch 52/100\n",
            "27/27 [==============================] - 5s 170ms/step - loss: 15.7690 - accuracy: 0.0235 - val_loss: 16.1907 - val_accuracy: 0.0221\n",
            "Epoch 53/100\n",
            "27/27 [==============================] - 5s 170ms/step - loss: 15.7690 - accuracy: 0.0235 - val_loss: 16.1907 - val_accuracy: 0.0221\n",
            "Epoch 54/100\n",
            "27/27 [==============================] - 5s 173ms/step - loss: 15.7690 - accuracy: 0.0235 - val_loss: 16.1907 - val_accuracy: 0.0221\n",
            "Epoch 55/100\n",
            "27/27 [==============================] - 5s 170ms/step - loss: 15.7690 - accuracy: 0.0235 - val_loss: 16.1907 - val_accuracy: 0.0221\n",
            "Epoch 56/100\n",
            "27/27 [==============================] - 5s 167ms/step - loss: 15.7690 - accuracy: 0.0235 - val_loss: 16.1907 - val_accuracy: 0.0221\n",
            "Epoch 57/100\n",
            "27/27 [==============================] - 5s 166ms/step - loss: 15.7690 - accuracy: 0.0235 - val_loss: 16.1907 - val_accuracy: 0.0221\n",
            "Epoch 58/100\n",
            "27/27 [==============================] - 5s 182ms/step - loss: 15.7690 - accuracy: 0.0235 - val_loss: 16.1907 - val_accuracy: 0.0221\n",
            "Epoch 59/100\n",
            "27/27 [==============================] - 5s 170ms/step - loss: 15.7690 - accuracy: 0.0235 - val_loss: 16.1907 - val_accuracy: 0.0221\n",
            "Epoch 60/100\n",
            "27/27 [==============================] - 5s 170ms/step - loss: 15.7690 - accuracy: 0.0235 - val_loss: 16.1907 - val_accuracy: 0.0221\n",
            "Epoch 61/100\n",
            "27/27 [==============================] - 5s 168ms/step - loss: 15.7690 - accuracy: 0.0235 - val_loss: 16.1907 - val_accuracy: 0.0221\n",
            "Epoch 62/100\n",
            "27/27 [==============================] - 5s 168ms/step - loss: 15.7690 - accuracy: 0.0235 - val_loss: 16.1907 - val_accuracy: 0.0221\n",
            "Epoch 63/100\n",
            "27/27 [==============================] - 5s 168ms/step - loss: 15.7690 - accuracy: 0.0235 - val_loss: 16.1907 - val_accuracy: 0.0221\n",
            "Epoch 64/100\n",
            "27/27 [==============================] - 5s 169ms/step - loss: 15.7690 - accuracy: 0.0235 - val_loss: 16.1907 - val_accuracy: 0.0221\n",
            "Epoch 65/100\n",
            "27/27 [==============================] - 5s 169ms/step - loss: 15.7690 - accuracy: 0.0235 - val_loss: 16.1907 - val_accuracy: 0.0221\n",
            "Epoch 66/100\n",
            "27/27 [==============================] - 5s 166ms/step - loss: 15.7690 - accuracy: 0.0235 - val_loss: 16.1907 - val_accuracy: 0.0221\n",
            "Epoch 67/100\n",
            "27/27 [==============================] - 5s 166ms/step - loss: 15.7690 - accuracy: 0.0235 - val_loss: 16.1907 - val_accuracy: 0.0221\n",
            "Epoch 68/100\n",
            "27/27 [==============================] - 5s 166ms/step - loss: 15.7690 - accuracy: 0.0235 - val_loss: 16.1907 - val_accuracy: 0.0221\n",
            "Epoch 69/100\n",
            "27/27 [==============================] - 5s 168ms/step - loss: 15.7690 - accuracy: 0.0235 - val_loss: 16.1907 - val_accuracy: 0.0221\n",
            "Epoch 70/100\n",
            "27/27 [==============================] - 5s 168ms/step - loss: 15.7690 - accuracy: 0.0235 - val_loss: 16.1907 - val_accuracy: 0.0221\n",
            "Epoch 71/100\n",
            "27/27 [==============================] - 5s 170ms/step - loss: 15.7690 - accuracy: 0.0235 - val_loss: 16.1907 - val_accuracy: 0.0221\n",
            "Epoch 72/100\n",
            "27/27 [==============================] - 5s 170ms/step - loss: 15.7690 - accuracy: 0.0235 - val_loss: 16.1907 - val_accuracy: 0.0221\n",
            "Epoch 73/100\n",
            "27/27 [==============================] - 5s 168ms/step - loss: 15.7690 - accuracy: 0.0235 - val_loss: 16.1907 - val_accuracy: 0.0221\n",
            "Epoch 74/100\n",
            "27/27 [==============================] - 5s 174ms/step - loss: 15.7690 - accuracy: 0.0235 - val_loss: 16.1907 - val_accuracy: 0.0221\n",
            "Epoch 75/100\n",
            "27/27 [==============================] - 5s 171ms/step - loss: 15.7690 - accuracy: 0.0235 - val_loss: 16.1907 - val_accuracy: 0.0221\n",
            "Epoch 76/100\n",
            "27/27 [==============================] - 5s 169ms/step - loss: 15.7690 - accuracy: 0.0235 - val_loss: 16.1907 - val_accuracy: 0.0221\n",
            "Epoch 77/100\n",
            "27/27 [==============================] - 5s 169ms/step - loss: 15.7690 - accuracy: 0.0235 - val_loss: 16.1907 - val_accuracy: 0.0221\n",
            "Epoch 78/100\n",
            "27/27 [==============================] - 5s 173ms/step - loss: 15.7690 - accuracy: 0.0235 - val_loss: 16.1907 - val_accuracy: 0.0221\n",
            "Epoch 79/100\n",
            "27/27 [==============================] - 5s 176ms/step - loss: 15.7690 - accuracy: 0.0235 - val_loss: 16.1907 - val_accuracy: 0.0221\n",
            "Epoch 80/100\n",
            "27/27 [==============================] - 5s 170ms/step - loss: 15.7690 - accuracy: 0.0235 - val_loss: 16.1907 - val_accuracy: 0.0221\n",
            "Epoch 81/100\n",
            "27/27 [==============================] - 5s 194ms/step - loss: 15.7690 - accuracy: 0.0235 - val_loss: 16.1907 - val_accuracy: 0.0221\n",
            "Epoch 82/100\n",
            "27/27 [==============================] - 5s 173ms/step - loss: 15.7690 - accuracy: 0.0235 - val_loss: 16.1907 - val_accuracy: 0.0221\n",
            "Epoch 83/100\n",
            "27/27 [==============================] - 5s 169ms/step - loss: 15.7690 - accuracy: 0.0235 - val_loss: 16.1907 - val_accuracy: 0.0221\n",
            "Epoch 84/100\n",
            "27/27 [==============================] - 5s 170ms/step - loss: 15.7690 - accuracy: 0.0235 - val_loss: 16.1907 - val_accuracy: 0.0221\n",
            "Epoch 85/100\n",
            "27/27 [==============================] - 5s 169ms/step - loss: 15.7690 - accuracy: 0.0235 - val_loss: 16.1907 - val_accuracy: 0.0221\n",
            "Epoch 86/100\n",
            "27/27 [==============================] - 5s 168ms/step - loss: 15.7690 - accuracy: 0.0235 - val_loss: 16.1907 - val_accuracy: 0.0221\n",
            "Epoch 87/100\n",
            "27/27 [==============================] - 5s 169ms/step - loss: 15.7690 - accuracy: 0.0235 - val_loss: 16.1907 - val_accuracy: 0.0221\n",
            "Epoch 88/100\n",
            "27/27 [==============================] - 5s 167ms/step - loss: 15.7690 - accuracy: 0.0235 - val_loss: 16.1907 - val_accuracy: 0.0221\n",
            "Epoch 89/100\n",
            "27/27 [==============================] - 5s 167ms/step - loss: 15.7690 - accuracy: 0.0235 - val_loss: 16.1907 - val_accuracy: 0.0221\n",
            "Epoch 90/100\n",
            "27/27 [==============================] - 5s 167ms/step - loss: 15.7690 - accuracy: 0.0235 - val_loss: 16.1907 - val_accuracy: 0.0221\n",
            "Epoch 91/100\n",
            "27/27 [==============================] - 5s 171ms/step - loss: 15.7690 - accuracy: 0.0235 - val_loss: 16.1907 - val_accuracy: 0.0221\n",
            "Epoch 92/100\n",
            "27/27 [==============================] - 5s 171ms/step - loss: 15.7690 - accuracy: 0.0235 - val_loss: 16.1907 - val_accuracy: 0.0221\n",
            "Epoch 93/100\n",
            "27/27 [==============================] - 5s 170ms/step - loss: 15.7690 - accuracy: 0.0235 - val_loss: 16.1907 - val_accuracy: 0.0221\n",
            "Epoch 94/100\n",
            "27/27 [==============================] - 5s 167ms/step - loss: 15.7690 - accuracy: 0.0235 - val_loss: 16.1907 - val_accuracy: 0.0221\n",
            "Epoch 95/100\n",
            "27/27 [==============================] - 6s 229ms/step - loss: 15.7690 - accuracy: 0.0235 - val_loss: 16.1907 - val_accuracy: 0.0221\n",
            "Epoch 96/100\n",
            "27/27 [==============================] - 5s 168ms/step - loss: 15.7690 - accuracy: 0.0235 - val_loss: 16.1907 - val_accuracy: 0.0221\n",
            "Epoch 97/100\n",
            "27/27 [==============================] - 5s 172ms/step - loss: 15.7690 - accuracy: 0.0235 - val_loss: 16.1907 - val_accuracy: 0.0221\n",
            "Epoch 98/100\n",
            "27/27 [==============================] - 5s 171ms/step - loss: 15.7690 - accuracy: 0.0235 - val_loss: 16.1907 - val_accuracy: 0.0221\n",
            "Epoch 99/100\n",
            "27/27 [==============================] - 5s 169ms/step - loss: 15.7690 - accuracy: 0.0235 - val_loss: 16.1907 - val_accuracy: 0.0221\n",
            "Epoch 100/100\n",
            "27/27 [==============================] - 5s 170ms/step - loss: 15.7690 - accuracy: 0.0235 - val_loss: 16.1907 - val_accuracy: 0.0221\n"
          ]
        }
      ]
    },
    {
      "cell_type": "code",
      "source": [
        "### Plot the loss, accuracy and LR decay (if using callbacks)"
      ],
      "metadata": {
        "id": "MIImZ4-ioENM"
      },
      "id": "MIImZ4-ioENM",
      "execution_count": 71,
      "outputs": []
    },
    {
      "cell_type": "code",
      "source": [
        "display_metrics(history_exp)"
      ],
      "metadata": {
        "colab": {
          "base_uri": "https://localhost:8080/",
          "height": 369
        },
        "id": "rcx5DH3SgMz0",
        "outputId": "4992ec20-5e1b-47cb-8025-5eb637ec7e72"
      },
      "id": "rcx5DH3SgMz0",
      "execution_count": 72,
      "outputs": [
        {
          "output_type": "display_data",
          "data": {
            "text/plain": [
              "<Figure size 1080x360 with 3 Axes>"
            ],
            "image/png": "[encoded data removed]"
          },
          "metadata": {
            "needs_background": "light"
          }
        }
      ]
    },
    {
      "cell_type": "markdown",
      "source": [
        "###### Lightweight CNN"
      ],
      "metadata": {
        "id": "czrS82IBx34S"
      },
      "id": "czrS82IBx34S"
    },
    {
      "cell_type": "code",
      "source": [
        "MODEL_NAME = 'Custom_LeNet-5'"
      ],
      "metadata": {
        "id": "h4xEq3hjx7g_"
      },
      "id": "h4xEq3hjx7g_",
      "execution_count": null,
      "outputs": []
    },
    {
      "cell_type": "code",
      "source": [
        "### Initialise the LR logger and custom callbacks\n",
        "logger = LrLogger()"
      ],
      "metadata": {
        "id": "3iX6cZWkx8De"
      },
      "id": "3iX6cZWkx8De",
      "execution_count": null,
      "outputs": []
    },
    {
      "cell_type": "code",
      "source": [
        "### Create a list of all desired TensorFlow Keras callbacks\n",
        "callbacks = [logger]"
      ],
      "metadata": {
        "id": "CAOKFgMjyorA"
      },
      "id": "CAOKFgMjyorA",
      "execution_count": null,
      "outputs": []
    },
    {
      "cell_type": "code",
      "source": [
        "### Instantiate the custom CNN model\n",
        "model = create_custom_network(\n",
        "            input_shape=model_params[DATASET_NAME]['input_shape'],\n",
        "            output_shape=model_params[DATASET_NAME]['n_classes'],\n",
        "            model_name=model_params[MODEL_NAME]['model_name']\n",
        ")"
      ],
      "metadata": {
        "id": "7MjTEdD4ypPt"
      },
      "id": "7MjTEdD4ypPt",
      "execution_count": null,
      "outputs": []
    },
    {
      "cell_type": "code",
      "source": [
        "### Compile the model with a Keras `ExponentialDecay` LR schedule\n",
        "model, callbacks = exponential_decay(model, callbacks=callbacks, initial_lr=0.1)"
      ],
      "metadata": {
        "id": "hzv0cidvyvj_"
      },
      "id": "hzv0cidvyvj_",
      "execution_count": null,
      "outputs": []
    },
    {
      "cell_type": "code",
      "source": [
        "### Fitting the model on the train data and passing in our callbacks"
      ],
      "metadata": {
        "id": "5beVDCeHy6Cq"
      },
      "id": "5beVDCeHy6Cq",
      "execution_count": null,
      "outputs": []
    },
    {
      "cell_type": "code",
      "source": [
        "logger_exp.info(f\"Training for {model_params[MODEL_NAME]['epochs']} \" +\n",
        "                 f\"epochs using {model_params[DATASET_NAME]['imdir']} data\")"
      ],
      "metadata": {
        "id": "0qkwF0tDyvXE"
      },
      "id": "0qkwF0tDyvXE",
      "execution_count": null,
      "outputs": []
    },
    {
      "cell_type": "code",
      "source": [
        "history_exp = model.fit(x=train_dataset_batched, \n",
        "                        epochs=model_params[MODEL_NAME]['epochs'],\n",
        "                        batch_size=model_params[DATASET_NAME]['batch_size'],\n",
        "                        validation_data=validation_dataset_batched,\n",
        "                        callbacks=callbacks,\n",
        "                        shuffle=True\n",
        ")"
      ],
      "metadata": {
        "id": "p1M8MLc-y546"
      },
      "id": "p1M8MLc-y546",
      "execution_count": null,
      "outputs": []
    },
    {
      "cell_type": "code",
      "source": [
        "### Plot the loss, accuracy and LR decay (if using callbacks)"
      ],
      "metadata": {
        "id": "nmYY7i44zEiz"
      },
      "id": "nmYY7i44zEiz",
      "execution_count": null,
      "outputs": []
    },
    {
      "cell_type": "code",
      "source": [
        "display_metrics(history_exp)"
      ],
      "metadata": {
        "id": "J1JBYhfAzJL7"
      },
      "id": "J1JBYhfAzJL7",
      "execution_count": null,
      "outputs": []
    },
    {
      "cell_type": "markdown",
      "id": "9e6a5a84",
      "metadata": {
        "id": "9e6a5a84"
      },
      "source": [
        "## 3. Closing Remarks"
      ]
    },
    {
      "cell_type": "markdown",
      "id": "0b56e71a",
      "metadata": {
        "id": "0b56e71a"
      },
      "source": [
        "##### Alternatives\n",
        "* Test out various starting learning rate values.\n",
        "\n",
        "##### Extensions to task\n",
        "* Test learning rate strategies on other model architectures;\n",
        "* Visualise the learning rate schedule over time;\n",
        "* Implement other [popular](https://paperswithcode.com/methods/category/learning-rate-schedules) learning rate schedules in literature (e.g., [cosine annealing](https://paperswithcode.com/method/cosine-annealing), [linear warmup with linear decay](https://paperswithcode.com/method/linear-warmup-with-linear-decay));\n",
        "* Implement [adaptive learning rate](https://en.wikipedia.org/wiki/Learning_rate#Adaptive_learning_rate) methods."
      ]
    },
    {
      "cell_type": "markdown",
      "id": "69be83f5",
      "metadata": {
        "id": "69be83f5"
      },
      "source": [
        "## 4. Future Work"
      ]
    },
    {
      "cell_type": "markdown",
      "id": "3d4dc6fb",
      "metadata": {
        "id": "3d4dc6fb"
      },
      "source": [
        "- [ ] Visualise learning rate schedule over time;\n",
        "- [ ] Compare their performance / affect on model accuracy;\n",
        "- [ ] Implement other popular learning rate schedules."
      ]
    },
    {
      "cell_type": "markdown",
      "id": "6f7ab4a0",
      "metadata": {
        "id": "6f7ab4a0"
      },
      "source": [
        "## Credits"
      ]
    },
    {
      "cell_type": "markdown",
      "id": "101fc32a",
      "metadata": {
        "id": "101fc32a"
      },
      "source": [
        "This assignment was prepared by Thomas Hossler et al., Winter 2021 (link [here](https://www.udacity.com/course/self-driving-car-engineer-nanodegree--nd0013)).\n",
        "\n",
        "\n",
        "References\n",
        "* [1] Duchi, J. et al., Adaptive subgradient methods for online learning and stochastic optimization. Journal of Machine Learning Researcher. 12(61):2121–2159. [doi:10.5555/1953048.2021068](https://dl.acm.org/doi/10.5555/1953048.2021068).\n",
        "\n",
        "* [2] Kingma, D., et al., Adam: A Method for Stochastic Optimization. arXiv. [doi:10.48550/arXiv.1412.6980](https://arxiv.org/abs/1412.6980).\n",
        "\n",
        "\n",
        "Helpful resources:\n",
        "* [Learning Rate Schedule in Practice: an example with Keras and TensorFlow 2.0 by B. Chen | Medium](https://towardsdatascience.com/learning-rate-schedule-in-practice-an-example-with-keras-and-tensorflow-2-0-2f48b2888a0c)\n",
        "* [Adaptive Learning Rate Methods by G. Singh](https://medium.com/@gsinghviews/adaptive-learning-rate-methods-e6e00dcbae5e)\n",
        "* [RMSProp -- Improving Deep Neural Networks: Hyperparameter Tuning, Regularization and Optimization by A. Ng | Coursera](https://www.coursera.org/lecture/deep-neural-network/rmsprop-BhJlm)\n",
        "* [Everything you need to know about Adam Optimizer  by N. Nikhil | Medium](https://medium.com/@nishantnikhil/adam-optimizer-notes-ddac4fd7218)"
      ]
    }
  ],
  "metadata": {
    "kernelspec": {
      "display_name": "Python 3",
      "language": "python",
      "name": "python3"
    },
    "language_info": {
      "codemirror_mode": {
        "name": "ipython",
        "version": 3
      },
      "file_extension": ".py",
      "mimetype": "text/x-python",
      "name": "python",
      "nbconvert_exporter": "python",
      "pygments_lexer": "ipython3",
      "version": "3.8.13"
    },
    "toc": {
      "base_numbering": 1,
      "nav_menu": {},
      "number_sections": false,
      "sideBar": true,
      "skip_h1_title": false,
      "title_cell": "Table of Contents",
      "title_sidebar": "Contents",
      "toc_cell": false,
      "toc_position": {},
      "toc_section_display": true,
      "toc_window_display": true
    },
    "colab": {
      "provenance": [],
      "collapsed_sections": [
        "5ea67398",
        "d69414eb",
        "81b09682",
        "8df01f49",
        "095a84fd",
        "78fcd20c",
        "ZQfGG9udeTX6",
        "Wy-4WKkgfb4f",
        "9e6a5a84",
        "6f7ab4a0"
      ],
      "toc_visible": true
    },
    "accelerator": "GPU"
  },
  "nbformat": 4,
  "nbformat_minor": 5
}