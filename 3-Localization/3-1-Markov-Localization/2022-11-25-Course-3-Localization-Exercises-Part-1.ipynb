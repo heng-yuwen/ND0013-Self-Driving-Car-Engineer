{
 "cells": [
  {
   "cell_type": "markdown",
   "id": "f68bd059",
   "metadata": {},
   "source": [
    "# Course 3: Localization\n",
    "## Part 1: Markov Localization in Theory\n",
    "#### By Jonathan L. Moran (jonathan.moran107@gmail.com)\n",
    "From the Self-Driving Car Engineer Nanodegree programme offered at Udacity."
   ]
  },
  {
   "cell_type": "markdown",
   "id": "3865c0a4",
   "metadata": {},
   "source": [
    "## Objectives"
   ]
  },
  {
   "cell_type": "markdown",
   "id": "e10e2702",
   "metadata": {},
   "source": [
    "* Apply the [Bayes' theorem](https://en.wikipedia.org/wiki/Bayes%27_theorem) to vehicle localisation;\n",
    "* Practise computing posterior probabilities for several observations;\n",
    "* Use the [Markov Assumption](https://en.wikipedia.org/wiki/Markov_chain) and [law of total probability](https://en.wikipedia.org/wiki/Law_of_total_probability) to initialise a [Bayes' filter](https://en.wikipedia.org/wiki/Recursive_Bayesian_estimation) with meaningful estimates."
   ]
  },
  {
   "cell_type": "markdown",
   "id": "bb6cdf4b",
   "metadata": {},
   "source": [
    "## 1. Introduction"
   ]
  },
  {
   "cell_type": "code",
   "execution_count": 1,
   "id": "9955297e",
   "metadata": {},
   "outputs": [],
   "source": [
    "### Importing required modules"
   ]
  },
  {
   "cell_type": "code",
   "execution_count": 2,
   "id": "b19ddfd1",
   "metadata": {},
   "outputs": [],
   "source": [
    "from decimal import Decimal\n",
    "import numpy as np\n",
    "import pandas as pd\n",
    "import os"
   ]
  },
  {
   "cell_type": "code",
   "execution_count": 3,
   "id": "ac96e195",
   "metadata": {},
   "outputs": [],
   "source": [
    "!python --version"
   ]
  },
  {
   "cell_type": "code",
   "execution_count": 4,
   "id": "59e0db72",
   "metadata": {},
   "outputs": [],
   "source": [
    "### Setting environment variables and parameters"
   ]
  },
  {
   "cell_type": "code",
   "execution_count": 5,
   "id": "c4ee3565",
   "metadata": {},
   "outputs": [],
   "source": [
    "ENV_COLAB = False               # True if running in Google Colab instance"
   ]
  },
  {
   "cell_type": "code",
   "execution_count": 6,
   "id": "cd638462",
   "metadata": {},
   "outputs": [
    {
     "data": {
      "text/plain": [
       "'/Users/jonathanmoran/Development/ND0013-Self-Driving-Car-Engineer/3-Localization/3-1-Markov-Localization'"
      ]
     },
     "execution_count": 6,
     "metadata": {},
     "output_type": "execute_result"
    }
   ],
   "source": [
    "# Root directory\n",
    "DIR_BASE = '' if not ENV_COLAB else '/content/3-Localization'\n",
    "DIR_BASE = os.path.abspath(DIR_BASE)\n",
    "DIR_BASE"
   ]
  },
  {
   "cell_type": "markdown",
   "id": "17fcca63",
   "metadata": {},
   "source": [
    "In this part of the Markov Localization course we set up the foundations necessary to implement the [Bayes' filter](https://en.wikipedia.org/wiki/Recursive_Bayesian_estimation) for robot localisation. In this notebook we will not be writing much code, as we leave our C++ implementation tasks to the second notebook, [`2022-11-25-Course-3-Localization-Exercises-Part-2.ipynb`](). Instead, we will be practising working out the Bayes' theorem calculations by hand using probability values computed for simulated data."
   ]
  },
  {
   "cell_type": "markdown",
   "id": "7e8b6f0b",
   "metadata": {},
   "source": [
    "## 2. Programming Task"
   ]
  },
  {
   "cell_type": "markdown",
   "id": "5f9d181c",
   "metadata": {},
   "source": [
    "### 2.1. Calculate Localization Posterior"
   ]
  },
  {
   "cell_type": "markdown",
   "id": "882938d0",
   "metadata": {},
   "source": [
    "To continue developing our intuition for this filter and prepare for later coding exercises, let's walk through the calculations for determining posterior probabilities at several pseudo-positions $x$, for a single time-step. We will start with a time-step after the filter has already been initialised and run a few times. We will cover initialisation of the filter in an upcoming concept."
   ]
  },
  {
   "cell_type": "code",
   "execution_count": 7,
   "id": "0f7d1a64",
   "metadata": {},
   "outputs": [],
   "source": [
    "def value_to_decimal(value):\n",
    "    if value == 'NULL':\n",
    "        return np.nan\n",
    "    return '%.2E' % Decimal(value)"
   ]
  },
  {
   "cell_type": "code",
   "execution_count": 8,
   "id": "cc85c313",
   "metadata": {},
   "outputs": [],
   "source": [
    "file_path = os.path.join(DIR_BASE, 'data/2022-11-25-Lesson-3-1-Calculate-Localization-Posterior.csv') \n",
    "df = pd.read_csv(file_path, index_col=0)\n",
    "df = df.applymap(value_to_decimal)"
   ]
  },
  {
   "cell_type": "code",
   "execution_count": 9,
   "id": "b99c2fc6",
   "metadata": {},
   "outputs": [
    {
     "data": {
      "text/html": [
       "<div>\n",
       "<style scoped>\n",
       "    .dataframe tbody tr th:only-of-type {\n",
       "        vertical-align: middle;\n",
       "    }\n",
       "\n",
       "    .dataframe tbody tr th {\n",
       "        vertical-align: top;\n",
       "    }\n",
       "\n",
       "    .dataframe thead th {\n",
       "        text-align: right;\n",
       "    }\n",
       "</style>\n",
       "<table border=\"1\" class=\"dataframe\">\n",
       "  <thead>\n",
       "    <tr style=\"text-align: right;\">\n",
       "      <th></th>\n",
       "      <th>P(location)</th>\n",
       "      <th>P(observation | location)</th>\n",
       "      <th>Raw P(location | observation)</th>\n",
       "      <th>Normalized P(location | observation)</th>\n",
       "    </tr>\n",
       "    <tr>\n",
       "      <th>pseudo_position (x)</th>\n",
       "      <th></th>\n",
       "      <th></th>\n",
       "      <th></th>\n",
       "      <th></th>\n",
       "    </tr>\n",
       "  </thead>\n",
       "  <tbody>\n",
       "    <tr>\n",
       "      <th>1</th>\n",
       "      <td>1.67E-02</td>\n",
       "      <td>0.00E+00</td>\n",
       "      <td>0.00E+00</td>\n",
       "      <td>0.00E+00</td>\n",
       "    </tr>\n",
       "    <tr>\n",
       "      <th>2</th>\n",
       "      <td>3.86E-02</td>\n",
       "      <td>6.99E-03</td>\n",
       "      <td>NAN</td>\n",
       "      <td>2.59E-02</td>\n",
       "    </tr>\n",
       "    <tr>\n",
       "      <th>3</th>\n",
       "      <td>4.90E-02</td>\n",
       "      <td>8.52E-02</td>\n",
       "      <td>4.18E-03</td>\n",
       "      <td>4.01E-01</td>\n",
       "    </tr>\n",
       "    <tr>\n",
       "      <th>4</th>\n",
       "      <td>3.86E-02</td>\n",
       "      <td>NAN</td>\n",
       "      <td>5.42E-03</td>\n",
       "      <td>5.21E-01</td>\n",
       "    </tr>\n",
       "    <tr>\n",
       "      <th>5</th>\n",
       "      <td>1.69E-02</td>\n",
       "      <td>3.13E-02</td>\n",
       "      <td>5.31E-04</td>\n",
       "      <td>5.10E-02</td>\n",
       "    </tr>\n",
       "    <tr>\n",
       "      <th>6</th>\n",
       "      <td>6.51E-03</td>\n",
       "      <td>9.46E-04</td>\n",
       "      <td>6.16E-06</td>\n",
       "      <td>NAN</td>\n",
       "    </tr>\n",
       "    <tr>\n",
       "      <th>7</th>\n",
       "      <td>NAN</td>\n",
       "      <td>3.87E-06</td>\n",
       "      <td>6.55E-08</td>\n",
       "      <td>6.29E-06</td>\n",
       "    </tr>\n",
       "    <tr>\n",
       "      <th>8</th>\n",
       "      <td>3.86E-02</td>\n",
       "      <td>0.00E+00</td>\n",
       "      <td>0.00E+00</td>\n",
       "      <td>0.00E+00</td>\n",
       "    </tr>\n",
       "  </tbody>\n",
       "</table>\n",
       "</div>"
      ],
      "text/plain": [
       "                    P(location) P(observation | location)  \\\n",
       "pseudo_position (x)                                         \n",
       "1                      1.67E-02                  0.00E+00   \n",
       "2                      3.86E-02                  6.99E-03   \n",
       "3                      4.90E-02                  8.52E-02   \n",
       "4                      3.86E-02                       NAN   \n",
       "5                      1.69E-02                  3.13E-02   \n",
       "6                      6.51E-03                  9.46E-04   \n",
       "7                           NAN                  3.87E-06   \n",
       "8                      3.86E-02                  0.00E+00   \n",
       "\n",
       "                    Raw P(location | observation)  \\\n",
       "pseudo_position (x)                                 \n",
       "1                                        0.00E+00   \n",
       "2                                             NAN   \n",
       "3                                        4.18E-03   \n",
       "4                                        5.42E-03   \n",
       "5                                        5.31E-04   \n",
       "6                                        6.16E-06   \n",
       "7                                        6.55E-08   \n",
       "8                                        0.00E+00   \n",
       "\n",
       "                    Normalized P(location | observation)  \n",
       "pseudo_position (x)                                       \n",
       "1                                               0.00E+00  \n",
       "2                                               2.59E-02  \n",
       "3                                               4.01E-01  \n",
       "4                                               5.21E-01  \n",
       "5                                               5.10E-02  \n",
       "6                                                    NAN  \n",
       "7                                               6.29E-06  \n",
       "8                                               0.00E+00  "
      ]
     },
     "execution_count": 9,
     "metadata": {},
     "output_type": "execute_result"
    }
   ],
   "source": [
    "df"
   ]
  },
  {
   "cell_type": "markdown",
   "id": "d5a99562",
   "metadata": {},
   "source": [
    "Recall the general form of the Bayes' theorem:\n",
    "\n",
    "$$\n",
    "\\begin{align}\n",
    "P\\left(a\\vert b\\right) = \\frac{P\\left(b \\vert a\\right)P\\left(a\\right)}{P\\left(b\\right)}\n",
    "\\end{align}\n",
    "$$\n",
    "\n",
    "For the localisation problem, we have the following terms:\n",
    "* $P\\left(\\textrm{location} \\ \\vert \\ \\textrm{observation}\\right)$ — the posterior probability $P\\left(a \\vert b\\right)$, i.e., the _normalised_ probability of a position given the observation;\n",
    "* $P\\left(\\textrm{observation} \\ \\vert \\ \\textrm{location}\\right)$ — the likelihood $P\\left(b \\vert a\\right)$, i.e., the probability of an observation given a position;\n",
    "* $P\\left(\\textrm{location}\\right)$ — the prior probability $P\\left(a\\right)$, i.e., the probability of a position;\n",
    "* $P\\left(\\textrm{observation}\\right)$ — the prior probability $P\\left(b\\right)$, i.e., the probability of an observation.\n",
    "\n",
    "Note that in the table above we have the **Normalized P(location | observation)** term, which is the **Raw P(location | observation)** term after dividing by the $P\\left(\\textrm{observation}\\right)$ value — the total probability of $P\\left(b\\right)$. In other words, the entire fraction given on the right-hand side of the Bayes' rule.  Consequently, the **Raw P(location | observation)** term is the posterior probability prior to dividing by the total probability $P\\left(\\textrm{observation}\\right)$, i.e., the numerator of the fraction on the right-hand side of the Bayes' rule."
   ]
  },
  {
   "cell_type": "markdown",
   "id": "c724bbbc",
   "metadata": {},
   "source": [
    "#### The observation likelihood"
   ]
  },
  {
   "cell_type": "markdown",
   "id": "e417e647",
   "metadata": {},
   "source": [
    "To compute the observation likelihood term, $P\\left(\\textrm{observation} \\ \\vert \\ \\textrm{location} \\right)$, for the pseudo-position $x=4$, we use the following relation:\n",
    "\n",
    "$$\n",
    "\\begin{align}\n",
    "P\\left(\\textrm{b} \\vert \\textrm{a}\\right) = \\frac{P\\left(a \\vert b\\right)}{P\\left(a\\right)}\n",
    "\\end{align}\n",
    "$$\n",
    "\n",
    "which we obtain after re-arranging the general form of the Bayes' rule. Note that here this corresponds to dividing the posterior term **Raw P(location | observation)** by the location prior probability **P(location)**."
   ]
  },
  {
   "cell_type": "code",
   "execution_count": 10,
   "id": "09bb60e5",
   "metadata": {},
   "outputs": [
    {
     "data": {
      "text/plain": [
       "P(location)                             3.86E-02\n",
       "P(observation | location)                    NAN\n",
       "Raw P(location | observation)           5.42E-03\n",
       "Normalized P(location | observation)    5.21E-01\n",
       "Name: 4, dtype: object"
      ]
     },
     "execution_count": 10,
     "metadata": {},
     "output_type": "execute_result"
    }
   ],
   "source": [
    "### The pseudo-position x=4\n",
    "x_4 = df.iloc[3]\n",
    "x_4"
   ]
  },
  {
   "cell_type": "code",
   "execution_count": 11,
   "id": "f0e9d957",
   "metadata": {
    "scrolled": true
   },
   "outputs": [
    {
     "data": {
      "text/plain": [
       "'1.40E-01'"
      ]
     },
     "execution_count": 11,
     "metadata": {},
     "output_type": "execute_result"
    }
   ],
   "source": [
    "### Calculating the probability value\n",
    "x_4 = x_4.astype(np.float64)\n",
    "p_4 = value_to_decimal(x_4['Raw P(location | observation)'] / x_4['P(location)'])\n",
    "p_4"
   ]
  },
  {
   "cell_type": "code",
   "execution_count": 12,
   "id": "aaa75a3d",
   "metadata": {},
   "outputs": [],
   "source": [
    "### Setting the value in the DataFrame\n",
    "df['P(observation | location)'][4] = p_4"
   ]
  },
  {
   "cell_type": "markdown",
   "id": "4736a533",
   "metadata": {},
   "source": [
    "#### The posterior probability"
   ]
  },
  {
   "cell_type": "markdown",
   "id": "fe58681e",
   "metadata": {},
   "source": [
    "To compute the raw posterior probability term, **Raw P(location | observation)**, for the pseudo-position $x = 2$, we use the following relation:\n",
    "\n",
    "$$\n",
    "\\begin{align}\n",
    "P\\left(\\textrm{posterior}\\right) = P\\left(b \\vert a\\right) * P\\left(a\\right)\n",
    "\\end{align}\n",
    "$$\n",
    "\n",
    "which is non-normalised expression on the right-hand side of the Bayes' rule. In other words, the product of the likelihood $P\\left(b \\vert a\\right)$ and prior probability $P\\left(a\\right)$."
   ]
  },
  {
   "cell_type": "code",
   "execution_count": 13,
   "id": "7229f35a",
   "metadata": {},
   "outputs": [
    {
     "data": {
      "text/plain": [
       "P(location)                             3.86E-02\n",
       "P(observation | location)               6.99E-03\n",
       "Raw P(location | observation)                NAN\n",
       "Normalized P(location | observation)    2.59E-02\n",
       "Name: 2, dtype: object"
      ]
     },
     "execution_count": 13,
     "metadata": {},
     "output_type": "execute_result"
    }
   ],
   "source": [
    "### The pseudo-position x=2\n",
    "x_2 = df.iloc[1]\n",
    "x_2"
   ]
  },
  {
   "cell_type": "code",
   "execution_count": 14,
   "id": "293bbb8e",
   "metadata": {},
   "outputs": [
    {
     "data": {
      "text/plain": [
       "'2.70E-04'"
      ]
     },
     "execution_count": 14,
     "metadata": {},
     "output_type": "execute_result"
    }
   ],
   "source": [
    "### Calculating the probability value\n",
    "x_2 = x_2.astype(np.float64)\n",
    "p_2 = value_to_decimal(x_2['P(observation | location)'] * x_2['P(location)'])\n",
    "p_2"
   ]
  },
  {
   "cell_type": "code",
   "execution_count": 15,
   "id": "b0486377",
   "metadata": {},
   "outputs": [],
   "source": [
    "### Setting the value in the DataFrame\n",
    "df['Raw P(location | observation)'][2] = p_2"
   ]
  },
  {
   "cell_type": "markdown",
   "id": "bcb1a324",
   "metadata": {},
   "source": [
    "#### The normalised posterior probability"
   ]
  },
  {
   "cell_type": "markdown",
   "id": "e6b9686b",
   "metadata": {},
   "source": [
    "To compute the normalised posterior probability for the pseudo-position $x = 6$, we have to first obtain the sum of the **Raw P(location | observation)** terms to get the total posterior probability. Using the expression for the normalising constant $P\\left(b\\right) we have:\n",
    "\n",
    "$$\n",
    "\\begin{align}\n",
    "p\\left(\\theta\\right) = \\int p\\left(x \\vert \\theta\\right)p\\left(\\theta\\right)d\\theta = \\sum_{x=1}^{n} p\\left(x \\vert a\\right)p\\left(a\\right)\n",
    "\\end{align}\n",
    "$$\n",
    "\n",
    "which is the sum over all non-normalised posterior values as given by the [law of total probability](https://en.wikipedia.org/wiki/Bayesian_statistics#Bayes'_theorem). Assuming we have a discrete distribution given by psuedo-position variable $x$, this is nothing but the sum over the product of the likelihood and prior probability value."
   ]
  },
  {
   "cell_type": "markdown",
   "id": "c94f39c1",
   "metadata": {},
   "source": [
    "Therefore, we add all values **Raw P(location | observation)** from $x=1$ to $x=8$,"
   ]
  },
  {
   "cell_type": "code",
   "execution_count": 16,
   "id": "e1a3488c",
   "metadata": {},
   "outputs": [
    {
     "data": {
      "text/plain": [
       "pseudo_position (x)\n",
       "1    0.000000e+00\n",
       "2    2.700000e-04\n",
       "3    4.180000e-03\n",
       "4    5.420000e-03\n",
       "5    5.310000e-04\n",
       "6    6.160000e-06\n",
       "7    6.550000e-08\n",
       "8    0.000000e+00\n",
       "Name: Raw P(location | observation), dtype: float64"
      ]
     },
     "execution_count": 16,
     "metadata": {},
     "output_type": "execute_result"
    }
   ],
   "source": [
    "P_posterior_raw = df['Raw P(location | observation)'].astype(np.float64)\n",
    "P_posterior_raw"
   ]
  },
  {
   "cell_type": "code",
   "execution_count": 17,
   "id": "ba5b9cf3",
   "metadata": {},
   "outputs": [
    {
     "data": {
      "text/plain": [
       "0.0104072255"
      ]
     },
     "execution_count": 17,
     "metadata": {},
     "output_type": "execute_result"
    }
   ],
   "source": [
    "### Summing the non-normalised total posterior probability\n",
    "p_sum = P_posterior_raw.sum()\n",
    "p_sum"
   ]
  },
  {
   "cell_type": "markdown",
   "id": "91bf95c9",
   "metadata": {},
   "source": [
    "Then, to find the normalised posterior probability, we divide the raw posterior probability value **Raw P(location | observation)** at the given pseduo-position $x = 6$ by the total probability normalisation term we computed above."
   ]
  },
  {
   "cell_type": "code",
   "execution_count": 18,
   "id": "f7043b26",
   "metadata": {},
   "outputs": [
    {
     "data": {
      "text/plain": [
       "'5.92E-04'"
      ]
     },
     "execution_count": 18,
     "metadata": {},
     "output_type": "execute_result"
    }
   ],
   "source": [
    "### Calculating the normalised posterior probability\n",
    "p_6 = value_to_decimal(P_posterior_raw[6] / p_sum)\n",
    "p_6"
   ]
  },
  {
   "cell_type": "code",
   "execution_count": 19,
   "id": "5fb62ce6",
   "metadata": {},
   "outputs": [],
   "source": [
    "### Setting the value in the DataFrame\n",
    "df['Normalized P(location | observation)'][6] = p_6"
   ]
  },
  {
   "cell_type": "markdown",
   "id": "4c9343b6",
   "metadata": {},
   "source": [
    "#### The prior position probability"
   ]
  },
  {
   "cell_type": "markdown",
   "id": "4724c04f",
   "metadata": {},
   "source": [
    "To compute the prior position probability for the pseudo-position $x = 7$, we can divide the posterior probability $P\\left(\\textrm{posterior}\\right)$ by the prior observation probability $P\\left(b\\right)$. Recalling the formula for $P\\left(\\textrm{posterior}\\right)$,\n",
    "\n",
    "$$\n",
    "\\begin{align}\n",
    "P\\left(\\textrm{posterior}\\right) = P\\left(b \\vert a\\right) * P\\left(a\\right),\n",
    "\\end{align}\n",
    "$$\n",
    "\n",
    "and knowing that **Normalized P(location | observation)** is\n",
    "\n",
    "$$\n",
    "\\begin{align}\n",
    "P\\left(a \\vert b\\right) = \\frac{P\\left(b \\vert a\\right) * P\\left(a\\right)}{P\\left(b\\right)},\n",
    "\\end{align}\n",
    "$$\n",
    "\n",
    "we obtain the prior position probability by dividing the posterior **Raw P(location | observation)** by the observation likelihood **P(observation | location)**."
   ]
  },
  {
   "cell_type": "code",
   "execution_count": 20,
   "id": "6eec0b4b",
   "metadata": {},
   "outputs": [
    {
     "data": {
      "text/plain": [
       "P(location)                                  NAN\n",
       "P(observation | location)               3.87E-06\n",
       "Raw P(location | observation)           6.55E-08\n",
       "Normalized P(location | observation)    6.29E-06\n",
       "Name: 7, dtype: object"
      ]
     },
     "execution_count": 20,
     "metadata": {},
     "output_type": "execute_result"
    }
   ],
   "source": [
    "### The pseudo-position x=7\n",
    "x_7 = df.iloc[6]\n",
    "x_7"
   ]
  },
  {
   "cell_type": "code",
   "execution_count": 21,
   "id": "11eb153b",
   "metadata": {},
   "outputs": [
    {
     "data": {
      "text/plain": [
       "'1.69E-02'"
      ]
     },
     "execution_count": 21,
     "metadata": {},
     "output_type": "execute_result"
    }
   ],
   "source": [
    "### Calculating the prior position probability\n",
    "x_7 = x_7.astype(np.float64)\n",
    "p_7 = value_to_decimal(\n",
    "    x_7['Raw P(location | observation)'] / x_7['P(observation | location)']\n",
    ")\n",
    "p_7"
   ]
  },
  {
   "cell_type": "code",
   "execution_count": 22,
   "id": "da3afd91",
   "metadata": {},
   "outputs": [],
   "source": [
    "### Setting the value in the DataFrame\n",
    "df['P(location)'] = p_7"
   ]
  },
  {
   "cell_type": "markdown",
   "id": "be98c12e",
   "metadata": {},
   "source": [
    "#### The final DataFrame"
   ]
  },
  {
   "cell_type": "markdown",
   "id": "50793495",
   "metadata": {},
   "source": [
    "With the above calculations, we obtain a complete probability distribution with values:"
   ]
  },
  {
   "cell_type": "code",
   "execution_count": 23,
   "id": "f7d67fd8",
   "metadata": {},
   "outputs": [
    {
     "data": {
      "text/html": [
       "<div>\n",
       "<style scoped>\n",
       "    .dataframe tbody tr th:only-of-type {\n",
       "        vertical-align: middle;\n",
       "    }\n",
       "\n",
       "    .dataframe tbody tr th {\n",
       "        vertical-align: top;\n",
       "    }\n",
       "\n",
       "    .dataframe thead th {\n",
       "        text-align: right;\n",
       "    }\n",
       "</style>\n",
       "<table border=\"1\" class=\"dataframe\">\n",
       "  <thead>\n",
       "    <tr style=\"text-align: right;\">\n",
       "      <th></th>\n",
       "      <th>P(location)</th>\n",
       "      <th>P(observation | location)</th>\n",
       "      <th>Raw P(location | observation)</th>\n",
       "      <th>Normalized P(location | observation)</th>\n",
       "    </tr>\n",
       "    <tr>\n",
       "      <th>pseudo_position (x)</th>\n",
       "      <th></th>\n",
       "      <th></th>\n",
       "      <th></th>\n",
       "      <th></th>\n",
       "    </tr>\n",
       "  </thead>\n",
       "  <tbody>\n",
       "    <tr>\n",
       "      <th>1</th>\n",
       "      <td>1.69E-02</td>\n",
       "      <td>0.00E+00</td>\n",
       "      <td>0.00E+00</td>\n",
       "      <td>0.00E+00</td>\n",
       "    </tr>\n",
       "    <tr>\n",
       "      <th>2</th>\n",
       "      <td>1.69E-02</td>\n",
       "      <td>6.99E-03</td>\n",
       "      <td>2.70E-04</td>\n",
       "      <td>2.59E-02</td>\n",
       "    </tr>\n",
       "    <tr>\n",
       "      <th>3</th>\n",
       "      <td>1.69E-02</td>\n",
       "      <td>8.52E-02</td>\n",
       "      <td>4.18E-03</td>\n",
       "      <td>4.01E-01</td>\n",
       "    </tr>\n",
       "    <tr>\n",
       "      <th>4</th>\n",
       "      <td>1.69E-02</td>\n",
       "      <td>1.40E-01</td>\n",
       "      <td>5.42E-03</td>\n",
       "      <td>5.21E-01</td>\n",
       "    </tr>\n",
       "    <tr>\n",
       "      <th>5</th>\n",
       "      <td>1.69E-02</td>\n",
       "      <td>3.13E-02</td>\n",
       "      <td>5.31E-04</td>\n",
       "      <td>5.10E-02</td>\n",
       "    </tr>\n",
       "    <tr>\n",
       "      <th>6</th>\n",
       "      <td>1.69E-02</td>\n",
       "      <td>9.46E-04</td>\n",
       "      <td>6.16E-06</td>\n",
       "      <td>5.92E-04</td>\n",
       "    </tr>\n",
       "    <tr>\n",
       "      <th>7</th>\n",
       "      <td>1.69E-02</td>\n",
       "      <td>3.87E-06</td>\n",
       "      <td>6.55E-08</td>\n",
       "      <td>6.29E-06</td>\n",
       "    </tr>\n",
       "    <tr>\n",
       "      <th>8</th>\n",
       "      <td>1.69E-02</td>\n",
       "      <td>0.00E+00</td>\n",
       "      <td>0.00E+00</td>\n",
       "      <td>0.00E+00</td>\n",
       "    </tr>\n",
       "  </tbody>\n",
       "</table>\n",
       "</div>"
      ],
      "text/plain": [
       "                    P(location) P(observation | location)  \\\n",
       "pseudo_position (x)                                         \n",
       "1                      1.69E-02                  0.00E+00   \n",
       "2                      1.69E-02                  6.99E-03   \n",
       "3                      1.69E-02                  8.52E-02   \n",
       "4                      1.69E-02                  1.40E-01   \n",
       "5                      1.69E-02                  3.13E-02   \n",
       "6                      1.69E-02                  9.46E-04   \n",
       "7                      1.69E-02                  3.87E-06   \n",
       "8                      1.69E-02                  0.00E+00   \n",
       "\n",
       "                    Raw P(location | observation)  \\\n",
       "pseudo_position (x)                                 \n",
       "1                                        0.00E+00   \n",
       "2                                        2.70E-04   \n",
       "3                                        4.18E-03   \n",
       "4                                        5.42E-03   \n",
       "5                                        5.31E-04   \n",
       "6                                        6.16E-06   \n",
       "7                                        6.55E-08   \n",
       "8                                        0.00E+00   \n",
       "\n",
       "                    Normalized P(location | observation)  \n",
       "pseudo_position (x)                                       \n",
       "1                                               0.00E+00  \n",
       "2                                               2.59E-02  \n",
       "3                                               4.01E-01  \n",
       "4                                               5.21E-01  \n",
       "5                                               5.10E-02  \n",
       "6                                               5.92E-04  \n",
       "7                                               6.29E-06  \n",
       "8                                               0.00E+00  "
      ]
     },
     "execution_count": 23,
     "metadata": {},
     "output_type": "execute_result"
    }
   ],
   "source": [
    "df"
   ]
  },
  {
   "cell_type": "markdown",
   "id": "6e90817f",
   "metadata": {},
   "source": [
    "From the [law of total probability](https://en.wikipedia.org/wiki/Law_of_total_probability) we know that our posterior probability values for the discrete 1-D case should add up to $1.0$. \n",
    "\n",
    "To verify this, we take the sum of the resulting normalised posterior values:"
   ]
  },
  {
   "cell_type": "code",
   "execution_count": 24,
   "id": "ddb87c97",
   "metadata": {},
   "outputs": [
    {
     "data": {
      "text/plain": [
       "0.9994982900000001"
      ]
     },
     "execution_count": 24,
     "metadata": {},
     "output_type": "execute_result"
    }
   ],
   "source": [
    "### Summing the normalised posterior values\n",
    "df['Normalized P(location | observation)'].astype(np.float64).sum()"
   ]
  },
  {
   "cell_type": "markdown",
   "id": "d9ce88ca",
   "metadata": {},
   "source": [
    "such that we obtain a resulting total probability very close to $1.0$.\n",
    "\n",
    "Hooray! This was a great start to Bayesian statistics, which we will use together with the [Markov Assumption](https://en.wikipedia.org/wiki/Markov_chain) to perform inference over the map range space using a [Bayes' filter](https://en.wikipedia.org/wiki/Recursive_Bayesian_estimation). This will allow us to estimate vehicle location using nothing but a single pair of consecutive measurements and a 1-D range map, i.e., a set of landmark positions defined relative to the ego-vehicle heading. Let's go! "
   ]
  },
  {
   "cell_type": "markdown",
   "id": "dafea5bc",
   "metadata": {},
   "source": [
    "## Credits"
   ]
  },
  {
   "cell_type": "markdown",
   "id": "133efc0d",
   "metadata": {},
   "source": [
    "This assignment was prepared by Aaron Brown, Tiffany Huang and Maximilian Muffert of Mercedes-Benz Research & Development of North America (MBRDNA), 2021 (link [here]())."
   ]
  }
 ],
 "metadata": {
  "kernelspec": {
   "display_name": "Python 3",
   "language": "python",
   "name": "python3"
  },
  "language_info": {
   "codemirror_mode": {
    "name": "ipython",
    "version": 3
   },
   "file_extension": ".py",
   "mimetype": "text/x-python",
   "name": "python",
   "nbconvert_exporter": "python",
   "pygments_lexer": "ipython3",
   "version": "3.8.13"
  },
  "toc": {
   "base_numbering": 1,
   "nav_menu": {},
   "number_sections": false,
   "sideBar": true,
   "skip_h1_title": false,
   "title_cell": "Table of Contents",
   "title_sidebar": "Contents",
   "toc_cell": false,
   "toc_position": {},
   "toc_section_display": true,
   "toc_window_display": true
  }
 },
 "nbformat": 4,
 "nbformat_minor": 5
}
