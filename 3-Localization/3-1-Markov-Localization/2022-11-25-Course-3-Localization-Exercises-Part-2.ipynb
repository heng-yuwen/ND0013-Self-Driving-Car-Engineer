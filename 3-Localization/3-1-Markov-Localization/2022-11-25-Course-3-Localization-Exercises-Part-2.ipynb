{
 "cells": [
  {
   "cell_type": "markdown",
   "metadata": {},
   "source": [
    "# Course 3: Localization\n",
    "## Part 2: Markov Localization in C++\n",
    "#### By Jonathan L. Moran (jonathan.moran107@gmail.com)\n",
    "From the Self-Driving Car Engineer Nanodegree programme offered at Udacity."
   ]
  },
  {
   "cell_type": "markdown",
   "metadata": {},
   "source": [
    "## Objectives"
   ]
  },
  {
   "cell_type": "markdown",
   "metadata": {},
   "source": [
    "* Derive and implement the [Bayes filter](https://en.wikipedia.org/wiki/Recursive_Bayesian_estimation) for localisation;\n",
    "* Approximate vehicle location as a probability distribution, then perform probabilistic reasoning over time (filtering);\n",
    "* Use the [Markov Assumption](https://en.wikipedia.org/wiki/Markov_chain) and [law of total probability](https://en.wikipedia.org/wiki/Law_of_total_probability) to initialise the filter with meaningful estimates."
   ]
  },
  {
   "cell_type": "markdown",
   "metadata": {},
   "source": [
    "## 1. Introduction"
   ]
  },
  {
   "cell_type": "markdown",
   "metadata": {},
   "source": [
    "In this part of the Markov Localization lesson we will be programming in C++. In order to follow along with the code in this Jupyter notebook, a C++ kernel will need to be installed. We use the [`xeus-cling`](https://github.com/jupyter-xeus/xeus) kernel, which you can access via [this MyBinder-hosted](https://mybinder.org/v2/gh/QuantStack/xeus-cling/stable?filepath=notebooks/xcpp.ipynb) notebook instance."
   ]
  },
  {
   "cell_type": "markdown",
   "metadata": {},
   "source": [
    "## 2. Programming Task"
   ]
  },
  {
   "cell_type": "markdown",
   "metadata": {},
   "source": [
    "### 2.1. Initialize Priors Function"
   ]
  },
  {
   "cell_type": "markdown",
   "metadata": {},
   "source": [
    "In this task we will create a function that initialises priors (initial belief state for each position on the map) given landmark positions, a position standard deviation ($\\pm 1.0$), and the assumption that our car is parked next to a landmark.\n",
    "\n",
    "Note that the control standard deviation represents the spread from movement (movement is the result of our control input in this case). We input a control of moving $1.0$ step but our actual movement could be in the range of $\\pm 1.0$ control standard deviation. The position standard deviation is the spread in our actual position. For example, we may believe start at a particular location, but we could be anywhere in that location $\\pm$ our position standard deviation."
   ]
  },
  {
   "cell_type": "code",
   "execution_count": 4,
   "metadata": {},
   "outputs": [],
   "source": [
    "// From J. Moran's `1_initialize_priors.cc`"
   ]
  },
  {
   "cell_type": "code",
   "execution_count": 5,
   "metadata": {},
   "outputs": [],
   "source": [
    "#include <iostream>\n",
    "#include <vector>\n",
    "\n",
    "\n",
    "/* Calculates the 1-D location posterior, i.e., the vector of prior probabilty\n",
    " * values for each position in the discretised 1-D pose range space (map) with\n",
    " * step resolution of 1.0m. The range space is defined relative to the heading\n",
    " * of the ego-vehicle. Here we assume the vehicle starts at one of the\n",
    " * `n_landmarks` (static objects) with a position std. deviation of +/- 1.0m.\n",
    " */\n",
    "std::vector<float> initialize_priors(\n",
    "    int map_size,\n",
    "    std::vector<float> landmark_positions,\n",
    "    float position_stdev\n",
    ") {\n",
    "  // Initialise the prior probabilities\n",
    "  std::vector<float> priors(map_size, 0.0);\n",
    "  // Number of total landmarks in map view\n",
    "  int n_landmarks = landmark_positions.size();\n",
    "  // Number of neighbours for each landmark\n",
    "  int n_neighbours =  2 * int(position_stdev);\n",
    "  // Number of non-zero priors (landmarks plus neighbours)\n",
    "  int n_pos = n_landmarks + n_neighbours * n_landmarks;\n",
    "  // The prior probability of vehicle being at a position of interest\n",
    "  float p_prior = 1.0 / n_pos;\n",
    "  // Set the non-zero prior probability values\n",
    "  for (auto i : landmark_positions) {\n",
    "      // The landmark prior probability\n",
    "      priors[int(i)] = p_prior;\n",
    "      // The neighbouring positions' prior probabilities\n",
    "      priors[int(i - position_stdev)] = p_prior;  // Left of landmark\n",
    "      priors[int(i + position_stdev)] = p_prior;  // Right of landmark\n",
    "  }\n",
    "  return priors;\n",
    "}"
   ]
  },
  {
   "cell_type": "markdown",
   "metadata": {},
   "source": [
    "#### Testing the initialize priors function"
   ]
  },
  {
   "cell_type": "markdown",
   "metadata": {},
   "source": [
    "For simplicity we assumed a position standard deviation\n",
    "```cpp\n",
    "position_stdev = 1.0f\n",
    "```\n",
    "and coded a solution for initialising priors accordingly."
   ]
  },
  {
   "cell_type": "markdown",
   "metadata": {},
   "source": [
    "Expected result:\n",
    "\n",
    "```pseudo\n",
    "0\n",
    "0\n",
    "0\n",
    "0\n",
    "0.111111\n",
    "0.111111\n",
    "0.111111\n",
    "0\n",
    "0\n",
    "0.111111\n",
    "0.111111\n",
    "0.111111\n",
    "0\n",
    "0\n",
    "0\n",
    "0\n",
    "0\n",
    "0\n",
    "0\n",
    "0.111111\n",
    "0.111111\n",
    "0.111111\n",
    "0\n",
    "0\n",
    "0\n",
    "```"
   ]
  },
  {
   "cell_type": "code",
   "execution_count": 6,
   "metadata": {},
   "outputs": [],
   "source": [
    "// From J. Moran's `1_tests.cc`"
   ]
  },
  {
   "cell_type": "code",
   "execution_count": 7,
   "metadata": {},
   "outputs": [],
   "source": [
    "/* Tests the `initialize_priors` function inside `1_initialize_priors`.\n",
    " * Returns the initialised 1-D prior probability vector.\n",
    " */\n",
    "void test_initialize_priors() {\n",
    "  // Set standard deviation of position\n",
    "  float position_stdev = 1.0f;\n",
    "  // Set map horizon distance in meters\n",
    "  int map_size = 25;\n",
    "  // Initialise landmarks\n",
    "  std::vector<float> landmark_positions{5, 10, 20};\n",
    "  // Testing initialise priors function\n",
    "  std::vector<float> priors = initialize_priors(map_size,\n",
    "                                                landmark_positions,\n",
    "                                                position_stdev\n",
    "  );\n",
    "  // Print the probability values to `stdout`\n",
    "  for (int p = 0; p < priors.size(); ++p) {\n",
    "    std::cout << priors[p] << \"\\n\";\n",
    "  }\n",
    "}"
   ]
  },
  {
   "cell_type": "code",
   "execution_count": 8,
   "metadata": {},
   "outputs": [
    {
     "name": "stdout",
     "output_type": "stream",
     "text": [
      "0\n",
      "0\n",
      "0\n",
      "0\n",
      "0.111111\n",
      "0.111111\n",
      "0.111111\n",
      "0\n",
      "0\n",
      "0.111111\n",
      "0.111111\n",
      "0.111111\n",
      "0\n",
      "0\n",
      "0\n",
      "0\n",
      "0\n",
      "0\n",
      "0\n",
      "0.111111\n",
      "0.111111\n",
      "0.111111\n",
      "0\n",
      "0\n",
      "0\n"
     ]
    }
   ],
   "source": [
    "test_initialize_priors()"
   ]
  },
  {
   "cell_type": "markdown",
   "metadata": {},
   "source": [
    "Great — our results seem to match the expected! ✅\n",
    "\n",
    "Note that a more robust approach would be to create a function that accepts a position standard deviation as an argument and adjusts initialisation and normalisation based on its value."
   ]
  },
  {
   "cell_type": "markdown",
   "metadata": {},
   "source": [
    "### 2.2. Determine Probabilities"
   ]
  },
  {
   "cell_type": "markdown",
   "metadata": {},
   "source": [
    "Here we practise using `normpdf` in this workspace, setting a `value` to maximise the probability when given a parameter of `1.0`."
   ]
  },
  {
   "cell_type": "code",
   "execution_count": null,
   "metadata": {},
   "outputs": [],
   "source": [
    "// From J. Moran's `2_determine_probabilities.cc`"
   ]
  },
  {
   "cell_type": "code",
   "execution_count": 15,
   "metadata": {},
   "outputs": [],
   "source": [
    "#include <cassert>\n",
    "#include <math.h>\n",
    "\n",
    "// Define the normalisation term\n",
    "const static float kOneOverSqrt2Pi = 1.0 / sqrt(2 * M_PI);\n",
    "\n",
    "\n",
    "class Helpers {\n",
    "public:\n",
    "  /* Returns the probability function for value `x` assuming a\n",
    "   * normal distribution parameterised by (`mu`, `sigma`).\n",
    "   */\n",
    "  static float normpdf(float x, float mu, float std) {\n",
    "    // Distribution parameters must be scalars\n",
    "    // and std must be positive\n",
    "    assert(std > 0.0);\n",
    "    // Compute the probability function\n",
    "    return (kOneOverSqrt2Pi / std) * exp(-0.5 * pow((x - mu) / std, 2));\n",
    "  }\n",
    "};"
   ]
  },
  {
   "cell_type": "markdown",
   "metadata": {},
   "source": [
    "#### Testing determine probabilities function"
   ]
  },
  {
   "cell_type": "code",
   "execution_count": 16,
   "metadata": {},
   "outputs": [],
   "source": [
    "/* Tests the `normpdf` function inside `2_determine_probabilities`.\n",
    " * Returns the probability vector from the normal distribution\n",
    " * parameterised with the given scalar values of (`mu`, `sigma`).\n",
    " */\n",
    "void test_determine_probabilities() {\n",
    "  // The position `x`\n",
    "  float value = 1.0;\n",
    "  // The position / observation control parameter\n",
    "  float parameter = 1.0;    // Number of units moved each time-step\n",
    "  // The position / observation standard deviation\n",
    "  float stdev = 1.0;\n",
    "  // Compute the probability distribution for the given values\n",
    "  static float prob = Helpers::normpdf(value, parameter, stdev);\n",
    "  // Print the returned probability value\n",
    "  std::cout << prob << std::endl;\n",
    "}"
   ]
  },
  {
   "cell_type": "code",
   "execution_count": 17,
   "metadata": {},
   "outputs": [
    {
     "name": "stdout",
     "output_type": "stream",
     "text": [
      "0.398942\n"
     ]
    }
   ],
   "source": [
    "test_determine_probabilities()"
   ]
  },
  {
   "cell_type": "markdown",
   "metadata": {},
   "source": [
    "Here we select a position\n",
    "```cpp\n",
    "value = 1.0\n",
    "```\n",
    "which maximises the control parameter when `parameter = 1.0`.\n",
    "\n",
    "The resulting probability value will always be maximised when the control `parameter` and position `value` are equal. Generally speaking, we should observe a maximum probability value at:\n",
    "\n",
    "```cpp\n",
    "x = value - control\n",
    "```\n",
    "\n",
    "Note that we assume here a control parameter of `1.0` to represent the number of moves per unit of time. Therefore, the vehicle is assumed to have moved `1.0` units per time-step."
   ]
  },
  {
   "cell_type": "markdown",
   "metadata": {},
   "source": [
    "### 2.3. Motion Model Probability II"
   ]
  },
  {
   "cell_type": "markdown",
   "metadata": {},
   "source": [
    "TODO."
   ]
  },
  {
   "cell_type": "markdown",
   "metadata": {},
   "source": [
    "## Credits"
   ]
  },
  {
   "cell_type": "markdown",
   "metadata": {},
   "source": [
    "This assignment was prepared by Aaron Brown, Tiffany Huang and Maximilian Muffert of Mercedes-Benz Research & Development of North America (MBRDNA), 2021 (link [here]())."
   ]
  }
 ],
 "metadata": {
  "kernelspec": {
   "display_name": "C++14",
   "language": "C++14",
   "name": "xcpp14"
  },
  "language_info": {
   "codemirror_mode": "text/x-c++src",
   "file_extension": ".cpp",
   "mimetype": "text/x-c++src",
   "name": "c++",
   "version": "14"
  },
  "toc": {
   "base_numbering": 1,
   "nav_menu": {},
   "number_sections": false,
   "sideBar": true,
   "skip_h1_title": false,
   "title_cell": "Table of Contents",
   "title_sidebar": "Contents",
   "toc_cell": false,
   "toc_position": {},
   "toc_section_display": true,
   "toc_window_display": true
  }
 },
 "nbformat": 4,
 "nbformat_minor": 2
}
