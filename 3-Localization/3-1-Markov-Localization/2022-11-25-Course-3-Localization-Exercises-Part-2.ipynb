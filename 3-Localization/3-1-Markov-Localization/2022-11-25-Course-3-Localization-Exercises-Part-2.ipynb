{
 "cells": [
  {
   "cell_type": "markdown",
   "id": "133b1fb3",
   "metadata": {},
   "source": [
    "# Course 3: Localization\n",
    "## Part 2: Markov Localization in C++\n",
    "#### By Jonathan L. Moran (jonathan.moran107@gmail.com)\n",
    "From the Self-Driving Car Engineer Nanodegree programme offered at Udacity."
   ]
  },
  {
   "cell_type": "markdown",
   "id": "c493d184",
   "metadata": {},
   "source": [
    "## Objectives"
   ]
  },
  {
   "cell_type": "markdown",
   "id": "ebbd5a91",
   "metadata": {},
   "source": [
    "* Derive and implement the [Bayes filter](https://en.wikipedia.org/wiki/Recursive_Bayesian_estimation) for localisation;\n",
    "* Approximate vehicle location as a probability distribution, then perform probabilistic reasoning over time (filtering);\n",
    "* Use the [Markov Assumption](https://en.wikipedia.org/wiki/Markov_chain) and [law of total probability](https://en.wikipedia.org/wiki/Law_of_total_probability) to initialise the filter with meaningful estimates."
   ]
  },
  {
   "cell_type": "markdown",
   "id": "dec40d37",
   "metadata": {},
   "source": [
    "## 1. Introduction"
   ]
  },
  {
   "cell_type": "markdown",
   "id": "1daf09c3",
   "metadata": {},
   "source": [
    "In this part of the Markov Localization lesson we will be programming in C++. In order to follow along with the code in this Jupyter notebook, a C++ kernel will need to be installed. We use the [`xeus-cling`](https://github.com/jupyter-xeus/xeus) kernel, which you can access via [this MyBinder-hosted](https://mybinder.org/v2/gh/QuantStack/xeus-cling/stable?filepath=notebooks/xcpp.ipynb) notebook instance."
   ]
  },
  {
   "cell_type": "markdown",
   "id": "2b55c832",
   "metadata": {},
   "source": [
    "## 2. Programming Task"
   ]
  },
  {
   "cell_type": "markdown",
   "id": "350ad9bb",
   "metadata": {},
   "source": [
    "### 2.1. Initialize Priors Function"
   ]
  },
  {
   "cell_type": "markdown",
   "id": "3720f127",
   "metadata": {},
   "source": [
    "In this task we will create a function that initialises priors (initial belief state for each position on the map) given landmark positions, a position standard deviation ($\\pm 1.0$), and the assumption that our car is parked next to a landmark.\n",
    "\n",
    "Note that the control standard deviation represents the spread from movement (movement is the result of our control input in this case). We input a control of moving $1.0$ step but our actual movement could be in the range of $\\pm 1.0$ control standard deviation. The position standard deviation is the spread in our actual position. For example, we may believe start at a particular location, but we could be anywhere in that location $\\pm$ our position standard deviation."
   ]
  },
  {
   "cell_type": "code",
   "execution_count": 1,
   "id": "077e390b",
   "metadata": {},
   "outputs": [],
   "source": [
    "// From J. Moran's `1_initialize_priors.cc`"
   ]
  },
  {
   "cell_type": "code",
   "execution_count": 2,
   "id": "d903856f",
   "metadata": {},
   "outputs": [],
   "source": [
    "#include <iostream>\n",
    "#include <vector>\n",
    "\n",
    "\n",
    "/* Calculates the 1-D location posterior, i.e., the vector of prior probabilty\n",
    " * values for each position in the discretised 1-D pose range space (map) with\n",
    " * step resolution of 1.0m. The range space is defined relative to the heading\n",
    " * of the ego-vehicle. Here we assume the vehicle starts at one of the\n",
    " * `n_landmarks` (static objects) with a position std. deviation of +/- 1.0m.\n",
    " */\n",
    "std::vector<float> initialize_priors(\n",
    "    int map_size,\n",
    "    std::vector<float> landmark_positions,\n",
    "    float position_stdev\n",
    ") {\n",
    "  // Initialise the prior probabilities\n",
    "  std::vector<float> priors(map_size, 0.0);\n",
    "  // Number of total landmarks in map view\n",
    "  int n_landmarks = landmark_positions.size();\n",
    "  // Number of neighbours for each landmark\n",
    "  int n_neighbours =  2 * int(position_stdev);\n",
    "  // Number of non-zero priors (landmarks plus neighbours)\n",
    "  int n_pos = n_landmarks + n_neighbours * n_landmarks;\n",
    "  // The prior probability of vehicle being at a position of interest\n",
    "  float p_prior = 1.0 / n_pos;\n",
    "  // Set the non-zero prior probability values\n",
    "  for (auto i : landmark_positions) {\n",
    "      // The landmark prior probability\n",
    "      priors[int(i)] = p_prior;\n",
    "      // The neighbouring positions' prior probabilities\n",
    "      priors[int(i - position_stdev)] = p_prior;  // Left of landmark\n",
    "      priors[int(i + position_stdev)] = p_prior;  // Right of landmark\n",
    "  }\n",
    "  return priors;\n",
    "}"
   ]
  },
  {
   "cell_type": "markdown",
   "id": "8fb32371",
   "metadata": {},
   "source": [
    "#### Testing the initialize priors function"
   ]
  },
  {
   "cell_type": "markdown",
   "id": "31f083bb",
   "metadata": {},
   "source": [
    "For simplicity we assumed a position standard deviation\n",
    "```cpp\n",
    "position_stdev = 1.0f\n",
    "```\n",
    "and coded a solution for initialising priors accordingly."
   ]
  },
  {
   "cell_type": "markdown",
   "id": "8cc0a2c1",
   "metadata": {},
   "source": [
    "Expected result:\n",
    "\n",
    "```pseudo\n",
    "0\n",
    "0\n",
    "0\n",
    "0\n",
    "0.111111\n",
    "0.111111\n",
    "0.111111\n",
    "0\n",
    "0\n",
    "0.111111\n",
    "0.111111\n",
    "0.111111\n",
    "0\n",
    "0\n",
    "0\n",
    "0\n",
    "0\n",
    "0\n",
    "0\n",
    "0.111111\n",
    "0.111111\n",
    "0.111111\n",
    "0\n",
    "0\n",
    "0\n",
    "```"
   ]
  },
  {
   "cell_type": "code",
   "execution_count": 3,
   "id": "034a4679",
   "metadata": {},
   "outputs": [],
   "source": [
    "// From J. Moran's `1_tests.cc`"
   ]
  },
  {
   "cell_type": "code",
   "execution_count": 4,
   "id": "22ec769b",
   "metadata": {},
   "outputs": [],
   "source": [
    "/* Tests the `initialize_priors` function inside `1_initialize_priors`.\n",
    " * Returns the initialised 1-D prior probability vector.\n",
    " */\n",
    "void test_initialize_priors() {\n",
    "  // Set standard deviation of position\n",
    "  float position_stdev = 1.0f;\n",
    "  // Set map horizon distance in meters\n",
    "  int map_size = 25;\n",
    "  // Initialise landmarks\n",
    "  std::vector<float> landmark_positions{5, 10, 20};\n",
    "  // Testing initialise priors function\n",
    "  std::vector<float> priors = initialize_priors(map_size,\n",
    "                                                landmark_positions,\n",
    "                                                position_stdev\n",
    "  );\n",
    "  // Print the probability values to `stdout`\n",
    "  for (int p = 0; p < priors.size(); ++p) {\n",
    "    std::cout << priors[p] << \"\\n\";\n",
    "  }\n",
    "}"
   ]
  },
  {
   "cell_type": "code",
   "execution_count": 5,
   "id": "54cbaaa2",
   "metadata": {},
   "outputs": [
    {
     "name": "stdout",
     "output_type": "stream",
     "text": [
      "0\n",
      "0\n",
      "0\n",
      "0\n",
      "0.111111\n",
      "0.111111\n",
      "0.111111\n",
      "0\n",
      "0\n",
      "0.111111\n",
      "0.111111\n",
      "0.111111\n",
      "0\n",
      "0\n",
      "0\n",
      "0\n",
      "0\n",
      "0\n",
      "0\n",
      "0.111111\n",
      "0.111111\n",
      "0.111111\n",
      "0\n",
      "0\n",
      "0\n"
     ]
    }
   ],
   "source": [
    "test_initialize_priors()"
   ]
  },
  {
   "cell_type": "markdown",
   "id": "d81128de",
   "metadata": {},
   "source": [
    "Great — our results seem to match the expected! ✅\n",
    "\n",
    "Note that a more robust approach would be to create a function that accepts a position standard deviation as an argument and adjusts initialisation and normalisation based on its value."
   ]
  },
  {
   "cell_type": "markdown",
   "id": "8a5be8e1",
   "metadata": {},
   "source": [
    "### 2.2. Determine Probabilities"
   ]
  },
  {
   "cell_type": "markdown",
   "id": "b279570a",
   "metadata": {},
   "source": [
    "Here we practise using `normpdf` in this workspace, setting a `value` to maximise the probability when given a parameter of `1.0`."
   ]
  },
  {
   "cell_type": "code",
   "execution_count": 1,
   "id": "dc22ed8f",
   "metadata": {},
   "outputs": [],
   "source": [
    "// From J. Moran's `2_determine_probabilities.cc`"
   ]
  },
  {
   "cell_type": "code",
   "execution_count": 2,
   "id": "e859e767",
   "metadata": {},
   "outputs": [],
   "source": [
    "#include <cassert>\n",
    "#include <math.h>\n",
    "\n",
    "// Define the normalisation term\n",
    "const static float kOneOverSqrt2Pi = 1.0 / sqrt(2 * M_PI);\n",
    "\n",
    "\n",
    "class Helpers {\n",
    "public:\n",
    "  /* Returns the probability function for value `x` assuming a\n",
    "   * normal distribution parameterised by (`mu`, `sigma`).\n",
    "   */\n",
    "  static float normpdf(float x, float mu, float std) {\n",
    "    // Distribution parameters must be scalars\n",
    "    // and std must be positive\n",
    "    assert(std > 0.0);\n",
    "    // Compute the probability function\n",
    "    return (kOneOverSqrt2Pi / std) * exp(-0.5 * pow((x - mu) / std, 2));\n",
    "  }\n",
    "};"
   ]
  },
  {
   "cell_type": "markdown",
   "id": "70c6f9e8",
   "metadata": {},
   "source": [
    "#### Testing determine probabilities function"
   ]
  },
  {
   "cell_type": "markdown",
   "id": "54025ab5",
   "metadata": {},
   "source": [
    "Here we select a position\n",
    "```cpp\n",
    "value = 1.0\n",
    "```\n",
    "which maximises the control parameter when `parameter = 1.0`."
   ]
  },
  {
   "cell_type": "code",
   "execution_count": 3,
   "id": "84e84d7b",
   "metadata": {},
   "outputs": [],
   "source": [
    "// From J. Moran's `1_tests.cc`"
   ]
  },
  {
   "cell_type": "code",
   "execution_count": 5,
   "id": "56b75ee8",
   "metadata": {},
   "outputs": [],
   "source": [
    "#include <iostream>\n",
    "\n",
    "/* Tests the `normpdf` function inside `2_determine_probabilities`.\n",
    " * Returns the probability value obtained from the normal distribution\n",
    " * parameterised with the given scalar values of (`mu`, `sigma`).\n",
    " */\n",
    "void test_determine_probabilities() {\n",
    "  // The position `x`\n",
    "  float value = 1.0;\n",
    "  // The position / observation control parameter\n",
    "  float parameter = 1.0;    // Number of units moved each time-step\n",
    "  // The position / observation standard deviation\n",
    "  float stdev = 1.0;\n",
    "  // Compute the probability distribution for the given values\n",
    "  static float prob = Helpers::normpdf(value, parameter, stdev);\n",
    "  // Print the returned probability value\n",
    "  std::cout << prob << std::endl;\n",
    "}"
   ]
  },
  {
   "cell_type": "code",
   "execution_count": 6,
   "id": "7bc42af6",
   "metadata": {},
   "outputs": [
    {
     "name": "stdout",
     "output_type": "stream",
     "text": [
      "0.398942\n"
     ]
    }
   ],
   "source": [
    "test_determine_probabilities()"
   ]
  },
  {
   "cell_type": "markdown",
   "id": "1fc05ec4",
   "metadata": {},
   "source": [
    "The resulting probability value will always be maximised when the control `parameter` and position `value` are equal. Generally speaking, we should observe a maximum probability value at:\n",
    "\n",
    "```cpp\n",
    "x = value - control\n",
    "```\n",
    "\n",
    "Note that we assume here a control parameter of `1.0` to represent the number of moves per unit of time. Therefore, the vehicle is assumed to have moved `1.0` units per time-step."
   ]
  },
  {
   "cell_type": "markdown",
   "id": "6ef53604",
   "metadata": {},
   "source": [
    "### 2.3. Motion Model Probability II"
   ]
  },
  {
   "cell_type": "markdown",
   "id": "2430d55b",
   "metadata": {},
   "source": [
    "In this task we extend the functionality of the `normpdf` function from Sect. 2.2. in order to compute the probability for a given pseudo-position.\n",
    "\n",
    "Here, we simply modify the `value` parameter to be the pseudo-position delta, i.e., the difference between the pseudo- and pre-pseudo positions. "
   ]
  },
  {
   "cell_type": "markdown",
   "id": "baef73fb",
   "metadata": {},
   "source": [
    "Assuming we have an initial pseudo-position of\n",
    "```cpp\n",
    "x_pseudo = 7\n",
    "```\n",
    "and an initial pre-pseudo position\n",
    "```cpp\n",
    "x_pre_pseudo = 5\n",
    "```\n",
    "we can therefore compute the `value` parameter as such:\n",
    "```cpp\n",
    "value = x_pseudo - x_pre_pseudo;\n",
    "```\n",
    "which results in a value of $5$.\n",
    "\n",
    "\n",
    "Let's see what the probability value is from the `normpdf` function for this position delta:"
   ]
  },
  {
   "cell_type": "code",
   "execution_count": 7,
   "id": "94ce4f06",
   "metadata": {},
   "outputs": [],
   "source": [
    "// From J. Moran's `1_tests.cc`"
   ]
  },
  {
   "cell_type": "code",
   "execution_count": 8,
   "id": "ba545c7f",
   "metadata": {},
   "outputs": [],
   "source": [
    "#include <iostream>\n",
    "\n",
    "/* Tests the `normpdf` function inside `2_determine_probabilities`.\n",
    " * Returns the probability value obtained from the normal distribution\n",
    " * parameterised with the given scalar values of (`mu`, `sigma`).\n",
    " */\n",
    "void test_motion_model_probability() {\n",
    "  // Defining the distribution parameters\n",
    "  float control_parameter = 1.0f;    // Number of units moved each time-step\n",
    "  float position_stdev = 1.0f;       // Position / observation standard deviation\n",
    "  // Computing the position delta\n",
    "  int x_pseudo = 7;\n",
    "  int x_pre_pseudo = 5;\n",
    "  float x_delta = x_pseudo - x_pre_pseudo;\n",
    "  std::cout << \"Position delta: \" << x_delta << \"\\n\";\n",
    "  // Computing the probability value\n",
    "  static float prob = Helpers::normpdf(x_delta,\n",
    "                                       control_parameter,\n",
    "                                       position_stdev\n",
    "  );\n",
    "  // Printing the returned probability value\n",
    "  std::cout << prob << \"\\n\";\n",
    "}"
   ]
  },
  {
   "cell_type": "markdown",
   "id": "438519b3",
   "metadata": {},
   "source": [
    "#### Testing the motion model probability function"
   ]
  },
  {
   "cell_type": "code",
   "execution_count": 9,
   "id": "ae648235",
   "metadata": {},
   "outputs": [
    {
     "name": "stdout",
     "output_type": "stream",
     "text": [
      "Position delta: 2\n",
      "0.241971\n"
     ]
    }
   ],
   "source": [
    "test_motion_model_probability()"
   ]
  },
  {
   "cell_type": "markdown",
   "id": "da6210fe",
   "metadata": {},
   "source": [
    "### 2.4. Coding the Motion Model"
   ]
  },
  {
   "cell_type": "markdown",
   "id": "36b2245e",
   "metadata": {},
   "source": [
    "TODO."
   ]
  },
  {
   "cell_type": "markdown",
   "id": "b53f3dca",
   "metadata": {},
   "source": [
    "### 2.5. Get Pseudo Ranges"
   ]
  },
  {
   "cell_type": "markdown",
   "id": "7436633f",
   "metadata": {},
   "source": [
    "In the previous exercises in [`2022-11-25-Course-3-Localization-Exercises-Part-1.ipynb`](https://github.com/jonathanloganmoran/ND0013-Self-Driving-Car-Engineer/blob/3.1/3-Localization/3-1-Markov-Localization/2022-11-25-Course-3-Localization-Exercises-Part-1.ipynb) we manually executed the steps for determining pseudo-range estimates and the overall observation model probability. Now, let's implement a function that accepts a vector of landmark positions — the pseudo positions `x`, that returns a vector of sorted (ascending) pseudo-range estimates. The output vector of this function will be later used as input to our observation model function.\n",
    "\n",
    "To implement the `pseudo_range_estimator` function, we must do the following for each pseudo-position $x_{t}^{(i)}$:\n",
    "\n",
    "1. Loop over all landmark positions:\n",
    "    * (a) Calculate the distance between each pseudo-position $x_{t}^{(i)}$ and the given landmark;\n",
    "    * (b) Append the distance to the pseudo-range vector if its value is positive (i.e., the landmark is in front of the pseudo-position);\n",
    "2. Return the resulting pseudo-range vector, sorted in ascending order.\n",
    "\n",
    "Note that the resulting pseudo-range vector may not contain all values from the input `x`. That is because we assume not all values of `x` have landmark positions in front of the vehicle's current position. "
   ]
  },
  {
   "cell_type": "code",
   "execution_count": 1,
   "id": "4e0d572a",
   "metadata": {},
   "outputs": [],
   "source": [
    "// From J. Moran's `3_get_pseudo_ranges.cc`"
   ]
  },
  {
   "cell_type": "code",
   "execution_count": 10,
   "id": "936b0661",
   "metadata": {},
   "outputs": [],
   "source": [
    "#include <algorithm>\n",
    "#include <vector>\n",
    "\n",
    "/* Returns the pseudo-range estimates for a given set\n",
    "* of landmark positions. The positions are defined\n",
    "* in 1-D global map coordinates with respect to the\n",
    "* heading of the ego-vehicle (i.e., the forward motion).\n",
    "*/\n",
    "std::vector<float> pseudo_range_estimator(\n",
    "  std::vector<float> landmark_positions,\n",
    "  float pseudo_position\n",
    ") {\n",
    "  // Initialise the pseudo-observation vector and distance\n",
    "  std::vector<float> pseudo_ranges(0.0, landmark_positions.size());\n",
    "  float dist = 0.0;\n",
    "  // 1. Loop over landmarks\n",
    "  for (auto l_pos : landmark_positions) {\n",
    "    // 1a. Compute the distance between position and landmark\n",
    "    dist = l_pos - pseudo_position;\n",
    "    if (dist > 0.0) {\n",
    "      // Landmark is in front of pseudo-position, append to list\n",
    "      pseudo_ranges.push_back(dist);\n",
    "    }\n",
    "    else {\n",
    "      // Skip the landmark, could be behind vehicle\n",
    "      continue;\n",
    "    }\n",
    "  }\n",
    "  // Sort the resulting vector in ascending order\n",
    "  std::sort(pseudo_ranges.begin(), pseudo_ranges.end());\n",
    "  return pseudo_ranges;\n",
    "}"
   ]
  },
  {
   "cell_type": "markdown",
   "id": "149b2856",
   "metadata": {},
   "source": [
    "#### Testing the pseudo-ranges function"
   ]
  },
  {
   "cell_type": "code",
   "execution_count": 11,
   "id": "930b3d24",
   "metadata": {},
   "outputs": [],
   "source": [
    "// From J. Moran's `1_tests.cc`"
   ]
  },
  {
   "cell_type": "code",
   "execution_count": 12,
   "id": "a09fd37e",
   "metadata": {},
   "outputs": [],
   "source": [
    "#include <iostream>\n",
    "#include <vector>\n",
    "\n",
    "\n",
    "/* Tests the `pseudo_range_estimator` function inside `3_get_pseudo_ranges.cc`.\n",
    " * Returns the pseudo-range vector containing the landmark distances relative\n",
    " * to the given `pseudo_position`.\n",
    " */\n",
    "void test_pseudo_range_estimator() {\n",
    "  // The landmark positions in 1-D map space\n",
    "  std::vector<float> landmark_positions{5, 10, 12, 20};\n",
    "  // The number of discrete positions `x` on the map\n",
    "  int map_size = 25;\n",
    "  // Number of metres moved by the vehicle per time-step\n",
    "  float movement_per_timestep = 1.0f;\n",
    "  // The standard deviation of the control\n",
    "  float control_stdev = 1.0f;\n",
    "  // Compute the pseudo-ranges for each position on the map\n",
    "  for (int i = 0; i < map_size; i++) {\n",
    "    float pseudo_position = float(i);\n",
    "    std::vector<float> pseudo_ranges = pseudo_range_estimator(landmark_positions,\n",
    "                                                              pseudo_position\n",
    "    );\n",
    "    // Print the resulting pseudo-range vector values\n",
    "    if (pseudo_ranges.size()) {\n",
    "      for (auto val : pseudo_ranges) {\n",
    "        std::cout << \"x: \" << i << \"\\t\" << val << \"\\n\";\n",
    "      }\n",
    "      std::cout << \"-----------------------\" << \"\\n\";\n",
    "    }\n",
    "    else {\n",
    "      // No landmarks in front of vehicle\n",
    "      continue;\n",
    "    }\n",
    "  }\n",
    "}"
   ]
  },
  {
   "cell_type": "code",
   "execution_count": 13,
   "id": "4a062a82",
   "metadata": {},
   "outputs": [
    {
     "name": "stdout",
     "output_type": "stream",
     "text": [
      "x: 0\t5\n",
      "x: 0\t10\n",
      "x: 0\t12\n",
      "x: 0\t20\n",
      "-----------------------\n",
      "x: 1\t4\n",
      "x: 1\t9\n",
      "x: 1\t11\n",
      "x: 1\t19\n",
      "-----------------------\n",
      "x: 2\t3\n",
      "x: 2\t8\n",
      "x: 2\t10\n",
      "x: 2\t18\n",
      "-----------------------\n",
      "x: 3\t2\n",
      "x: 3\t7\n",
      "x: 3\t9\n",
      "x: 3\t17\n",
      "-----------------------\n",
      "x: 4\t1\n",
      "x: 4\t6\n",
      "x: 4\t8\n",
      "x: 4\t16\n",
      "-----------------------\n",
      "x: 5\t5\n",
      "x: 5\t7\n",
      "x: 5\t15\n",
      "-----------------------\n",
      "x: 6\t4\n",
      "x: 6\t6\n",
      "x: 6\t14\n",
      "-----------------------\n",
      "x: 7\t3\n",
      "x: 7\t5\n",
      "x: 7\t13\n",
      "-----------------------\n",
      "x: 8\t2\n",
      "x: 8\t4\n",
      "x: 8\t12\n",
      "-----------------------\n",
      "x: 9\t1\n",
      "x: 9\t3\n",
      "x: 9\t11\n",
      "-----------------------\n",
      "x: 10\t2\n",
      "x: 10\t10\n",
      "-----------------------\n",
      "x: 11\t1\n",
      "x: 11\t9\n",
      "-----------------------\n",
      "x: 12\t8\n",
      "-----------------------\n",
      "x: 13\t7\n",
      "-----------------------\n",
      "x: 14\t6\n",
      "-----------------------\n",
      "x: 15\t5\n",
      "-----------------------\n",
      "x: 16\t4\n",
      "-----------------------\n",
      "x: 17\t3\n",
      "-----------------------\n",
      "x: 18\t2\n",
      "-----------------------\n",
      "x: 19\t1\n",
      "-----------------------\n"
     ]
    }
   ],
   "source": [
    "test_pseudo_range_estimator()"
   ]
  },
  {
   "cell_type": "markdown",
   "id": "eee34a71",
   "metadata": {},
   "source": [
    "Fantastic — Our results match the expected output! 🎉"
   ]
  },
  {
   "cell_type": "markdown",
   "id": "5276b994",
   "metadata": {},
   "source": [
    "## Credits"
   ]
  },
  {
   "cell_type": "markdown",
   "id": "7ef07a6e",
   "metadata": {},
   "source": [
    "This assignment was prepared by Aaron Brown, Tiffany Huang and Maximilian Muffert of Mercedes-Benz Research & Development of North America (MBRDNA), 2021 (link [here](https://www.udacity.com/course/self-driving-car-engineer-nanodegree--nd0013))."
   ]
  }
 ],
 "metadata": {
  "kernelspec": {
   "display_name": "C++14",
   "language": "C++14",
   "name": "xcpp14"
  },
  "language_info": {
   "codemirror_mode": "text/x-c++src",
   "file_extension": ".cpp",
   "mimetype": "text/x-c++src",
   "name": "c++",
   "version": "14"
  }
 },
 "nbformat": 4,
 "nbformat_minor": 5
}
