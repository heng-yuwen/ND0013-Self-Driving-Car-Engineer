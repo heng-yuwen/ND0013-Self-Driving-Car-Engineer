{
 "cells": [
  {
   "cell_type": "markdown",
   "id": "452f9cf6",
   "metadata": {},
   "source": [
    "# Course 4: Planning\n",
    "## Part 1: Behaviour Planning in C++\n",
    "#### By Jonathan L. Moran (jonathan.moran107@gmail.com)\n",
    "From the Self-Driving Car Engineer Nanodegree programme offered at Udacity."
   ]
  },
  {
   "cell_type": "markdown",
   "id": "19f92845",
   "metadata": {},
   "source": [
    "## Objectives\n",
    "* TODO."
   ]
  },
  {
   "cell_type": "markdown",
   "id": "0ca719a6",
   "metadata": {},
   "source": [
    "## 1. Introduction"
   ]
  },
  {
   "cell_type": "markdown",
   "id": "cea1e25a",
   "metadata": {},
   "source": [
    "TODO."
   ]
  },
  {
   "cell_type": "markdown",
   "id": "0c8526fa",
   "metadata": {},
   "source": [
    "## 2. Programming Task"
   ]
  },
  {
   "cell_type": "markdown",
   "id": "be9fc66a",
   "metadata": {},
   "source": [
    "### 2.1. Implement a Cost Function in C++"
   ]
  },
  {
   "cell_type": "markdown",
   "id": "bf09244b",
   "metadata": {},
   "source": [
    "In previous quizzes, you designed a cost function to choose a lane when trying to reach a goal in the highway driving scenario:\n",
    "$$\n",
    "\\begin{align}\n",
    "\\mathrm{cost} = 1 - \\mathrm{e}^{-\\frac{\\vert \\Delta d \\vert}{\\Delta s}}.\n",
    "\\end{align}\n",
    "$$\n",
    "\n",
    "Here, $\\Delta d$ was the lateral distance between the goal lane and the final chosen lane, and $\\Delta s$ was the longitudinal distance from the vehicle current position to the goal position. \n",
    "\n",
    "In this exercise, we will implement a cost function in C++ that also includes states for planning a lane change right or left (denoted $\\mathrm{PLCR}$ and $\\mathrm{PLCL}$, respectively). The cost function should incoporate these states. As input to the cost function, we have the following:\n",
    "* **Intended lane**: the intended lane for the given behaviour. For the $\\mathrm{PLCR}$, $\\mathrm{PCLC}$, $\\mathrm{LCR}$, and $\\mathrm{LCL}$, this corresponds to the lane immediately adjacent to the current (one lane over);\n",
    "* **Final lane**: the immediate resulting lane of the given behaviour. For $\\mathrm{LCR}$ and $\\mathrm{LCL}$, this would correspond to one lane over;\n",
    "* **Distance to the goal**: $\\Delta s$, the longitudinal distance from the vehicle to the goal;\n",
    "* **Goal lane**: lane in which the goal marker is situated.\n",
    "\n",
    "The goal of this exercise is to modify the $\\vert \\Delta d \\vert$ in the equation above so that it satisfies:\n",
    "* $\\vert \\Delta d \\vert$ decreases when both the intended and final lane are closer to the goal lane;\n",
    "* Each possible behaviour state $\\mathrm{KL}$, $\\mathrm{PLCR}$ / $\\mathrm{PLCL}$, $\\mathrm{LCR}$ / $\\mathrm{LCL}$ has a unique cost;\n",
    "* The values produced by the cost function are in range $[0, 1]$.  "
   ]
  },
  {
   "cell_type": "code",
   "execution_count": null,
   "id": "fe3c58d0",
   "metadata": {},
   "outputs": [],
   "source": [
    "// From J. Moran's `1_cost.cpp`"
   ]
  },
  {
   "cell_type": "code",
   "execution_count": null,
   "id": "01d06cf9",
   "metadata": {},
   "outputs": [],
   "source": [
    "#include <cmath>\n",
    "\n",
    "\n",
    "double goal_distance_cost(\n",
    "    int goal_lane, \n",
    "    int intended_lane, \n",
    "    int final_lane, \n",
    "    double distance_to_goal\n",
    ") {\n",
    "  // The cost increases with both the distance of intended lane from the goal\n",
    "  //   and the distance of the final lane from the goal. The cost of being out \n",
    "  //   of the goal lane also becomes larger as the vehicle approaches the goal.\n",
    "    \n",
    "  /**\n",
    "   * TODO: Replace cost = 0 with an appropriate cost function.\n",
    "   */\n",
    "  double cost = 0;\n",
    "    \n",
    "  return cost;\n",
    "}"
   ]
  },
  {
   "cell_type": "code",
   "execution_count": null,
   "id": "a1dc87ab",
   "metadata": {},
   "outputs": [],
   "source": [
    "// From J. Moran's `1_tests.cpp`"
   ]
  },
  {
   "cell_type": "code",
   "execution_count": null,
   "id": "91ae3255",
   "metadata": {},
   "outputs": [],
   "source": [
    "void test_goal_distance_cost() {\n",
    "}"
   ]
  }
 ],
 "metadata": {
  "kernelspec": {
   "display_name": "C++14",
   "language": "C++14",
   "name": "xcpp14"
  },
  "language_info": {
   "codemirror_mode": "text/x-c++src",
   "file_extension": ".cpp",
   "mimetype": "text/x-c++src",
   "name": "c++",
   "version": "14"
  }
 },
 "nbformat": 4,
 "nbformat_minor": 5
}
