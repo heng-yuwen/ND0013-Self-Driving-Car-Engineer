{
 "cells": [
  {
   "cell_type": "markdown",
   "id": "d6247af7",
   "metadata": {},
   "source": [
    "# Course 4: Planning\n",
    "## Part 3: Polynomial Trajectory Generation\n",
    "#### By Jonathan L. Moran (jonathan.moran107@gmail.com)\n",
    "From the Self-Driving Car Engineer Nanodegree programme offered at Udacity."
   ]
  },
  {
   "cell_type": "markdown",
   "id": "59dd7587",
   "metadata": {},
   "source": [
    "## Objectives"
   ]
  },
  {
   "cell_type": "markdown",
   "id": "a4b6bb09",
   "metadata": {},
   "source": [
    "* Write a polynomial trajectory generator in Python;\n",
    "* Test the polynomial trajectory generator on two simulated vehicles;\n",
    "* Weight the provided cost functions appropriately so the behaviour of the test vehicle is ideal."
   ]
  },
  {
   "cell_type": "markdown",
   "id": "908ff366",
   "metadata": {},
   "source": [
    "## 1. Introduction"
   ]
  },
  {
   "cell_type": "code",
   "execution_count": 1,
   "id": "fe67b26b",
   "metadata": {},
   "outputs": [],
   "source": [
    "### Importing the required modules"
   ]
  },
  {
   "cell_type": "code",
   "execution_count": 27,
   "id": "2b6b34ba",
   "metadata": {},
   "outputs": [],
   "source": [
    "from math import exp, sqrt\n",
    "from matplotlib import pyplot as plt\n",
    "import numpy as np\n",
    "import random\n",
    "import sys\n",
    "from typing import Callable, List, Tuple, TypedDict, Union"
   ]
  },
  {
   "cell_type": "markdown",
   "id": "b5673e6b",
   "metadata": {},
   "source": [
    "## 2. Programming Task"
   ]
  },
  {
   "cell_type": "markdown",
   "id": "ff1972e1",
   "metadata": {},
   "source": [
    "### 2.1. Polynomial Trajectory Generation in Python"
   ]
  },
  {
   "cell_type": "markdown",
   "id": "0c5dbdf1",
   "metadata": {},
   "source": [
    "#### Hyperparameters / constants"
   ]
  },
  {
   "cell_type": "code",
   "execution_count": 3,
   "id": "2853bef4",
   "metadata": {},
   "outputs": [],
   "source": [
    "### Setting the environment variables"
   ]
  },
  {
   "cell_type": "code",
   "execution_count": 4,
   "id": "20059b7f",
   "metadata": {},
   "outputs": [],
   "source": [
    "N_SAMPLES = 10\n",
    "# Maximum speed limit (enforced for ego-vehicle)\n",
    "SPEED_LIMIT = 30\n",
    "# Radius of vehicle perimetre,\n",
    "# modelled as a circle to simplify collision detection \n",
    "VEHICLE_RADIUS = 1.5            # metres (m)"
   ]
  },
  {
   "cell_type": "code",
   "execution_count": 5,
   "id": "d102eaeb",
   "metadata": {},
   "outputs": [],
   "source": [
    "### Setting the ego-vehicle trajectory variables"
   ]
  },
  {
   "cell_type": "code",
   "execution_count": 6,
   "id": "c6275565",
   "metadata": {},
   "outputs": [],
   "source": [
    "# Longitudinal distance kinematic state vector\n",
    "# i.e., $[s, \\dot{s}, \\ddot{s}]$\n",
    "SIGMA_S = [10.0, 4.0, 2.0]\n",
    "# Lateral distance kinematic state vector\n",
    "# i.e., $[d, \\dot{d}, \\ddot{d}]$\n",
    "SIGMA_D = [1.0, 1.0, 1.0]\n",
    "# Total elapsed time to complete manoeuvre\n",
    "SIGMA_T = 2.0"
   ]
  },
  {
   "cell_type": "code",
   "execution_count": 7,
   "id": "d3fa5119",
   "metadata": {},
   "outputs": [],
   "source": [
    "### Setting the vehicle kinematics (all actors)"
   ]
  },
  {
   "cell_type": "code",
   "execution_count": 8,
   "id": "b6bc2cdb",
   "metadata": {},
   "outputs": [],
   "source": [
    "# Maximum jerk and acceleration\n",
    "MAX_JERK = 10                   # m/s^3\n",
    "MAX_ACCEL = 10                  # m/s^2\n",
    "\n",
    "# Expected maximum jerk and acceleration allowed in one-second interval\n",
    "EXPECTED_JERK_IN_ONE_SEC = 2    # m/s^3\n",
    "EXPECTED_ACC_IN_ONE_SEC = 1     # m/s^2"
   ]
  },
  {
   "cell_type": "markdown",
   "id": "be1daa87",
   "metadata": {},
   "source": [
    "#### `Vehicle` actor class"
   ]
  },
  {
   "cell_type": "markdown",
   "id": "dfb5609e",
   "metadata": {},
   "source": [
    "Below we define the `Vehicle` actor, i.e., a class with an assigned `start_state`. This `start_state` is a list of coefficients describing the vehicle boundary conditions at time $t = 0$. Therefore, `start_state` represents the following:\n",
    "\n",
    "$$\n",
    "\\begin{align}\n",
    "\\texttt{start_state} = \\left[s, \\ \\dot{s}, \\ \\ddot{s}, \\ d, \\ \\dot{d}, \\ \\ddot{d}\\right].\n",
    "\\end{align}\n",
    "$$\n",
    "\n",
    "The member function `state_in` computes the kinematics state vector for the given time-step `t`, and returns the `state` corresponding to the 1D kinematics evaluated with respect to the starting boundary conditions.    "
   ]
  },
  {
   "cell_type": "code",
   "execution_count": 9,
   "id": "c46b8e92",
   "metadata": {},
   "outputs": [],
   "source": [
    "### From J. Moran's `helpers.py`"
   ]
  },
  {
   "cell_type": "code",
   "execution_count": 11,
   "id": "45750804",
   "metadata": {},
   "outputs": [],
   "source": [
    "class Vehicle(object):\n",
    "    \"\"\"Defines the vehicle actor.\n",
    "    \n",
    "    Note: Non-ego vehicle move with constant acceleration.\n",
    "    \"\"\"\n",
    "    \n",
    "    def __init__(self, \n",
    "            start: List[float]\n",
    "    ):\n",
    "        \"\"\"Initialises a `Vehicle` instance with `start` state.\n",
    "        \n",
    "        Here `state` is the starting kinematics state vector which has\n",
    "        the form: $[s, \\dot{s}, \\ddot{s}, d, \\dot{d}, \\ddot{d}]$.\n",
    "        \n",
    "        :param start: Vehicle starting kinematics state vector.\n",
    "        \"\"\"\n",
    "        \n",
    "        self.start_state = start\n",
    "    \n",
    "    def state_in(self, \n",
    "            t: float\n",
    "    ) -> List[float]:\n",
    "        \"\"\"Returns the kinematics state vector for the given time-step.\n",
    "        \n",
    "        Here the returned `state` vector is the evaluated 1D kinematics\n",
    "        equations for longitudinal / lateral position along $s$- and $d$-axis\n",
    "        for the given time-step `t`.\n",
    "        \n",
    "        :param t: Time-step of the vehicle to evaluate kinematics w.r.t. \n",
    "        :return state: Kinematics state vector of the vehicle at time-step `t`.\n",
    "        \"\"\"\n",
    "        \n",
    "        s = self.start_state[:3]\n",
    "        d = self.start_state[3:]\n",
    "        state = [\n",
    "            s[0] + (s[1] * t) + s[2] * t**2 / 2.0,\n",
    "            s[1] + s[2] * t,\n",
    "            s[2],\n",
    "            d[0] + (d[1] * t) + d[2] * t**2 / 2.0,\n",
    "            d[1] + d[2] * t,\n",
    "            d[2],\n",
    "        ]\n",
    "        return state"
   ]
  },
  {
   "cell_type": "code",
   "execution_count": 13,
   "id": "c2ad9ce1",
   "metadata": {},
   "outputs": [],
   "source": [
    "### For typing hints\n",
    "Vehicles = TypedDict('Vehicles', v_id = int, vehicle = Vehicle)"
   ]
  },
  {
   "cell_type": "markdown",
   "id": "1f82ad90",
   "metadata": {},
   "source": [
    "Note that in the cost functions below, `traj` is the single trajectory to evaluate the cost with respect to. Each `traj` is a `tuple` with three elements: the list of coefficients of the quintic polynomial describing $s(t)$ — the longitudinal motion of the trajectory, the list of coefficients of the quintic polynomial describing $d(t)$ — the lateral motion of the trajectory, and a `float` describing the total elapsed time (in seconds) the trajectory should be executed for in order to reach the goal state. This elapsed time is defined with respect to the assumed current time $t = 0$."
   ]
  },
  {
   "cell_type": "code",
   "execution_count": 14,
   "id": "8b7f630a",
   "metadata": {},
   "outputs": [],
   "source": [
    "### From J. Moran's `helpers.py`"
   ]
  },
  {
   "cell_type": "code",
   "execution_count": 20,
   "id": "6c57ec70",
   "metadata": {},
   "outputs": [],
   "source": [
    "def logistic(\n",
    "        x: float\n",
    ") -> float:\n",
    "    \"\"\"Computes the sigmoid function.\n",
    "    \n",
    "    A function that returns a value between 0 and 1 for `x` in the \n",
    "    range [0, infinity] and -1 to 1 for x in the range [-infinity, infinity].\n",
    "\n",
    "    :param x: Value to evaluate the sigmoid function at.\n",
    "    :returns: Value computed by the sigmoid function.\n",
    "    \"\"\"\n",
    "    \n",
    "    return 2.0 / (1 + exp(-x)) - 1.0\n",
    "\n",
    "\n",
    "def to_equation(\n",
    "        coefficients: List[float]\n",
    ") -> Callable[[float], float]:\n",
    "    \"\"\"Returns a polynomial function with the given `coefficients`.\n",
    "    \n",
    "    :param coefficients: Set of coefficient values to use in the polynomial.\n",
    "    \"\"\"\n",
    "    \n",
    "    def f(t):\n",
    "        '''Returns a polynomial function w.r.t. time `t`.'''\n",
    "        total = 0.0\n",
    "        for i, c in enumerate(coefficients):\n",
    "            total += c * t ** i\n",
    "        return total\n",
    "    return f\n",
    "\n",
    "\n",
    "def differentiate(\n",
    "        coefficients: List[float]\n",
    ") -> List[float]:\n",
    "    \"\"\"Returns the coefficients of the derivative of the polynomial.\n",
    "    \n",
    "    :param coefficients: Set of coefficient values of the polynomial.\n",
    "    :returns: new_cos, Set of coefficients of the differentiated polynomial.\n",
    "    \"\"\"\n",
    "    \n",
    "    new_cos = []\n",
    "    for deg, prev_co in enumerate(coefficients[1:]):\n",
    "        new_cos.append((deg + 1) * prev_co)\n",
    "    return new_cos\n",
    "\n",
    "\n",
    "def nearest_approach_to_any_vehicle(\n",
    "        traj: Tuple[List[float], List[float], float],\n",
    "        vehicles: Vehicles\n",
    ") -> float:\n",
    "    \"\"\"Returns the closest distance to any vehicle during the given trajectory.\n",
    "    \n",
    "    :param traj: Trajectory to evaluate.\n",
    "    :param vehicles: Dict of `Vehicle` instances to consider the distance to.\n",
    "    :returns: closest, Distance to the closest vehicle from this trajectory.\n",
    "    \"\"\"\n",
    "    \n",
    "    closest = sys.maxsize\n",
    "    for v in vehicles.values():\n",
    "        d = nearest_approach(traj, v)\n",
    "        if d < closest:\n",
    "            closest = d\n",
    "    return closest\n",
    "\n",
    "\n",
    "def nearest_approach(\n",
    "        traj: Tuple[List[float], List[float], float], \n",
    "        vehicle: Vehicle\n",
    ") -> float:\n",
    "    \"\"\"Returns the closest distance from ego to given vehicle during the trajectory.\n",
    "    \n",
    "    Here the distance to the `vehicle` from the ego is considered at all time-steps\n",
    "    in the trajectory. The closest distance from which the ego gets to the `vehicle`\n",
    "    is returned. \n",
    "    \n",
    "    :param traj: Trajectory to evaluate.\n",
    "    :param vehicle: Single `Vehicle` to consider the distance to.\n",
    "    :returns: closest, Distance closest to the `vehicle` from this trajectory.\n",
    "    \"\"\"\n",
    "    \n",
    "    closest = sys.maxsize\n",
    "    s_,d_,T = traj\n",
    "    s = to_equation(s_)\n",
    "    d = to_equation(d_)\n",
    "    for i in range(100):\n",
    "        t = float(i) / 100 * T\n",
    "        cur_s = s(t)\n",
    "        cur_d = d(t)\n",
    "        targ_s, _, _, targ_d, _, _ = vehicle.state_in(t)\n",
    "        dist = sqrt((cur_s-targ_s)**2 + (cur_d-targ_d)**2)\n",
    "        if dist < closest:\n",
    "            closest = dist\n",
    "    return closest\n",
    "\n",
    "\n",
    "def show_trajectory(\n",
    "        s_coeffs: List[float],\n",
    "        d_coeffs: List[float], \n",
    "        T: float,\n",
    "        vehicle: Vehicle=None\n",
    "):\n",
    "    \"\"\"Displays the trajectory over time on a Matplotlib figure.\n",
    "    \n",
    "    :param s_coeffs: Coefficients of polynomial along the longitudinal distance axis.\n",
    "    :param d_coeffs: Coefficients of the polynomial along the lateral distance axis.\n",
    "    :param T: Total elapsed time (s) starting from $t = 0$.\n",
    "    :param vehicle: optional, Vehicle to render on the plot.\n",
    "    \"\"\"\n",
    "    \n",
    "    s = to_equation(s_coeffs)\n",
    "    d = to_equation(d_coeffs)\n",
    "    X = []\n",
    "    Y = []\n",
    "    if vehicle:\n",
    "        X2 = []\n",
    "        Y2 = []\n",
    "    t = 0\n",
    "    while t <= T + 0.01:\n",
    "        X.append(s(t))\n",
    "        Y.append(d(t))\n",
    "        if vehicle:\n",
    "            s_, _, _, d_, _, _ = vehicle.state_in(t)\n",
    "            X2.append(s_)\n",
    "            Y2.append(d_)\n",
    "        t += 0.25\n",
    "    plt.scatter(X, Y, color=\"blue\")\n",
    "    if vehicle:\n",
    "        plt.scatter(X2, Y2, color=\"red\")\n",
    "    plt.show()\n",
    "\n",
    "    \n",
    "def get_f_and_N_derivatives(\n",
    "        coeffs, \n",
    "        N=3\n",
    "):\n",
    "    \"\"\"Computes `N`th derivative of the polynomial formed by `coeffs`.\n",
    "    \n",
    "    :param coeffs: Coefficient values of the polynomial.\n",
    "    :param N: Number of times to differentiate the polynomial.\n",
    "    :returns: functions, coefficients of the polynomial for each differentiation step. \n",
    "    \"\"\"\n",
    "    \n",
    "    functions = [to_equation(coeffs)]\n",
    "    for i in range(N):\n",
    "        coeffs = differentiate(coeffs)\n",
    "        functions.append(to_equation(coeffs))\n",
    "    return functions"
   ]
  },
  {
   "cell_type": "markdown",
   "id": "7c8eaffe",
   "metadata": {},
   "source": [
    "#### Cost functions"
   ]
  },
  {
   "cell_type": "markdown",
   "id": "2cc7586d",
   "metadata": {},
   "source": [
    "The following is a set of cost functions evaluating a variety of cases that arise during a typical highway driving scenario. Here we penalise trajectories which, for example, have at any point during their execution, a distance assumed to be within twice the radius of any neighbouring vehicles. On the other hand, we reward trajectories which, for example, have an average speed or elapsed time-to-goal that are close to their respective target values.\n",
    "\n",
    "Note that this is not a comprehensive list of all cost functions that should be considered in the real-world; here we neglect to consider scenarios such as merges, intersections, unexpected emergencies or road hazards, etc. We also omit the implementation of two of the provided cost functions — `stays_on_road_cost` and `exceeds speed limit_cost`, for now. "
   ]
  },
  {
   "cell_type": "code",
   "execution_count": 21,
   "id": "1f234af4",
   "metadata": {},
   "outputs": [],
   "source": [
    "### From J. Moran's `cost_functions.py`"
   ]
  },
  {
   "cell_type": "code",
   "execution_count": 22,
   "id": "7f8a9fe9",
   "metadata": {},
   "outputs": [],
   "source": [
    "def time_diff_cost(\n",
    "        traj: Tuple[List[float], List[float], float],\n",
    "        target_vehicle: int,\n",
    "        delta: List[float],\n",
    "        T: float,\n",
    "        predictions: Vehicles\n",
    ") -> float:\n",
    "    \"\"\"Evaluates the time-difference cost function.\n",
    "    \n",
    "    Penalises trajectories that span a duration which is longer or \n",
    "    shorter than the duration requested.\n",
    "    \n",
    "    :param traj: Trajectory to evaluate.\n",
    "    :param target_vehicle: Integer id of target vehicle state (not used).\n",
    "    :param delta: List of offset values between ego- and `target_vehicle`.\n",
    "    :param T: Total elapsed time (s) starting from $t = 0$.\n",
    "    :param predictions: Dict of estimated vehicle trajectories. \n",
    "    :returns: Cost function evaluated for the given time-difference. \n",
    "    \"\"\"\n",
    "    \n",
    "    _, _, t = traj\n",
    "    return logistic(float(abs(t - T)) / T)\n",
    "\n",
    "\n",
    "def s_diff_cost(\n",
    "        traj: Tuple[List[float], List[float], float],\n",
    "        target_vehicle: int,\n",
    "        delta: List[float],\n",
    "        T: float,\n",
    "        predictions: Vehicles\n",
    ") -> float:\n",
    "    \"\"\"Evaluates the longitudinal distance difference cost function.\n",
    "    \n",
    "    Penalises trajectories whose longitudinal distance, i.e., $s$-coordinate\n",
    "    and its derivatives, differ from the goal. \n",
    "    \n",
    "    :param traj: Trajectory to evaluate.\n",
    "    :param target_vehicle: Target vehicle id from `predictions` to fetch the state of.\n",
    "    :param delta: List of offset values between ego- and `target_vehicle`.\n",
    "    :param T: Total elapsed time (s) starting from $t = 0$.\n",
    "    :param predictions: Dict of estimated vehicle trajectories.\n",
    "    :returns: Cost function evaluated for the given longitudinal distance difference. \n",
    "    \"\"\"\n",
    "    \n",
    "    s, _, T = traj\n",
    "    target = predictions[target_vehicle].state_in(T)\n",
    "    target = list(np.array(target) + np.array(delta))\n",
    "    s_targ = target[:3]\n",
    "    S = [f(T) for f in get_f_and_N_derivatives(s, 2)]\n",
    "    cost = 0\n",
    "    for actual, expected, sigma in zip(S, s_targ, SIGMA_S):\n",
    "        diff = float(abs(actual - expected))\n",
    "        cost += logistic(diff / sigma)\n",
    "    return cost\n",
    "\n",
    "\n",
    "def d_diff_cost(\n",
    "        traj: Tuple[List[float], List[float], float],\n",
    "        target_vehicle: int,\n",
    "        delta: List[float],\n",
    "        T: float,\n",
    "        predictions: Vehicles\n",
    ") -> float:\n",
    "    \"\"\"Evaluates the lateral distance difference cost function.\n",
    "    \n",
    "    Penalises trajectories whose lateral distance, i.e., $d$-coordinate\n",
    "    and its derivatives, differ from the goal. \n",
    "    \n",
    "    :param traj: Trajectory to evaluate.\n",
    "    :param target_vehicle: Target vehicle id from `predictions` to fetch the state of.\n",
    "    :param delta: List of offset values between ego- and `target_vehicle`.\n",
    "    :param T: Total elapsed time (s) starting from $t = 0$.\n",
    "    :param predictions: Dict of estimated vehicle trajectories.\n",
    "    :returns: Cost function evaluated for the given lateral distance difference. \n",
    "    \"\"\"\n",
    "    \n",
    "    _, d_coeffs, T = traj\n",
    "    d_dot_coeffs = differentiate(d_coeffs)\n",
    "    d_ddot_coeffs = differentiate(d_dot_coeffs)\n",
    "    d = to_equation(d_coeffs)\n",
    "    d_dot = to_equation(d_dot_coeffs)\n",
    "    d_ddot = to_equation(d_ddot_coeffs)\n",
    "    D = [d(T), d_dot(T), d_ddot(T)]\n",
    "    target = predictions[target_vehicle].state_in(T)\n",
    "    target = list(np.array(target) + np.array(delta))\n",
    "    d_targ = target[3:]\n",
    "    cost = 0\n",
    "    for actual, expected, sigma in zip(D, d_targ, SIGMA_D):\n",
    "        diff = float(abs(actual - expected))\n",
    "        cost += logistic(diff / sigma)\n",
    "    return cost\n",
    "\n",
    "\n",
    "def collision_cost(\n",
    "        traj: Tuple[List[float], List[float], float],\n",
    "        target_vehicle: int,\n",
    "        delta: List[float],\n",
    "        T: float,\n",
    "        predictions: Vehicles\n",
    ") -> float:\n",
    "    \"\"\"Evaluates the collision cost function.\n",
    "    \n",
    "    Binary cost function which penalises an imminent collision.\n",
    "    Returns `1.0` if ego-vehicle is within distance less than twice\n",
    "    the radius of a neighbouring vehicle, otherwise `0.0`.\n",
    "    \n",
    "    :param traj: Trajectory to evaluate.\n",
    "    :param target_vehicle: Target vehicle id from `predictions` to fetch the state of.\n",
    "    :param delta: List of offset values between ego- and `target_vehicle`.\n",
    "    :param T: Total elapsed time (s) starting from $t = 0$.\n",
    "    :param predictions: Dict of estimated vehicle trajectories.\n",
    "    :returns: Binary collision cost evaluated for the given trajectory.     \n",
    "    \"\"\"\n",
    "    \n",
    "    nearest = nearest_approach_to_any_vehicle(traj, predictions)\n",
    "    if nearest < 2 * VEHICLE_RADIUS:\n",
    "        return 1.0\n",
    "    else:\n",
    "        return 0.0\n",
    "\n",
    "    \n",
    "def buffer_cost(\n",
    "        traj: Tuple[List[float], List[float], float],\n",
    "        target_vehicle: int,\n",
    "        delta: List[float],\n",
    "        T: float,\n",
    "        predictions: Vehicles\n",
    ") -> float:\n",
    "    \"\"\"Evaluates the buffer cost function.\n",
    "    \n",
    "    Penalises trajectories which closely approach other vehicles.\n",
    "    \n",
    "    :param traj: Trajectory to evaluate.\n",
    "    :param target_vehicle: Target vehicle id from `predictions` to fetch the state of.\n",
    "    :param delta: List of offset values between ego- and `target_vehicle`.\n",
    "    :param T: Total elapsed time (s) starting from $t = 0$.\n",
    "    :param predictions: Dict of estimated vehicle trajectories.\n",
    "    :returns: Binary collision cost evaluated for the given trajectory.     \n",
    "    \"\"\"\n",
    "    nearest = nearest_approach_to_any_vehicle(traj, predictions)\n",
    "    return logistic(2 * VEHICLE_RADIUS / nearest)\n",
    "\n",
    "\n",
    "def stays_on_road_cost(\n",
    "        traj: Tuple[List[float], List[float], float],\n",
    "        target_vehicle: int,\n",
    "        delta: List[float],\n",
    "        T: float,\n",
    "        predictions: Vehicles\n",
    ") -> float:\n",
    "    \"\"\"Evaluates the road boundary cost function.\n",
    "    \n",
    "    NOTE: NOT YET IMPLEMENTED.\n",
    "    \"\"\"\n",
    "    pass\n",
    "\n",
    "\n",
    "def exceeds_speed_limit_cost(\n",
    "        traj: Tuple[List[float], List[float], float],\n",
    "        target_vehicle: int,\n",
    "        delta: List[float],\n",
    "        T: float,\n",
    "        predictions: Vehicles\n",
    ") -> float:\n",
    "    \"\"\"Evaluates the maximum speed cost function.\n",
    "    \n",
    "    NOTE: NOT YET IMPLEMENTED.\n",
    "    \"\"\"\n",
    "    pass\n",
    "\n",
    "\n",
    "def efficiency_cost(\n",
    "        traj: Tuple[List[float], List[float], float],\n",
    "        target_vehicle: int,\n",
    "        delta: List[float],\n",
    "        T: float,\n",
    "        predictions: Vehicles\n",
    ") -> float:\n",
    "    \"\"\"Evaluates the efficiency cost function.\n",
    "    \n",
    "    Rewards trajectories whose average speed closely matches target speed.\n",
    "    \n",
    "    :param traj: Trajectory to evaluate.\n",
    "    :param target_vehicle: Target vehicle id from `predictions` to fetch the state of.\n",
    "    :param delta: List of offset values between ego- and `target_vehicle`.\n",
    "    :param T: Total elapsed time (s) starting from $t = 0$.\n",
    "    :param predictions: Dict of estimated vehicle trajectories.\n",
    "    :returns: Efficiency cost evaluated for the given trajectory.  \n",
    "    \"\"\"\n",
    "    \n",
    "    s, _, t = traj\n",
    "    s = to_equation(s)\n",
    "    avg_v = float(s(t)) / t\n",
    "    targ_s, _, _, _, _, _ = predictions[target_vehicle].state_in(t)\n",
    "    targ_v = float(targ_s) / t\n",
    "    return logistic(2 * float(targ_v - avg_v) / avg_v)\n",
    "\n",
    "\n",
    "def total_accel_cost(\n",
    "        traj: Tuple[List[float], List[float], float],\n",
    "        target_vehicle: int,\n",
    "        delta: List[float],\n",
    "        T: float,\n",
    "        predictions: Vehicles\n",
    ") -> float:\n",
    "    \"\"\"Evaluates the total acceleration cost function.\n",
    "    \n",
    "    Penalises trajectories with acceleration above the expected\n",
    "    one-second acceleration value (`EXPECTED_ACC_IN_ONE_SEC`).\n",
    "    \n",
    "    :param traj: Trajectory to evaluate.\n",
    "    :param target_vehicle: Target vehicle id from `predictions` to fetch the state of.\n",
    "    :param delta: List of offset values between ego- and `target_vehicle`.\n",
    "    :param T: Total elapsed time (s) starting from $t = 0$.\n",
    "    :param predictions: Dict of estimated vehicle trajectories.\n",
    "    :returns: Acceleration cost evaluated for the given trajectory. \n",
    "    \"\"\"\n",
    "    \n",
    "    s, d, t = traj\n",
    "    s_dot = differentiate(s)\n",
    "    s_d_dot = differentiate(s_dot)\n",
    "    a = to_equation(s_d_dot)\n",
    "    total_acc = 0\n",
    "    dt = float(T) / 100.0\n",
    "    for i in range(100):\n",
    "        t = dt * i\n",
    "        acc = a(t)\n",
    "        total_acc += abs(acc * dt)\n",
    "    acc_per_second = total_acc / T\n",
    "    return logistic(acc_per_second / EXPECTED_ACC_IN_ONE_SEC)\n",
    "\n",
    "\n",
    "def total_jerk_cost(\n",
    "        traj: Tuple[List[float], List[float], float],\n",
    "        target_vehicle: int,\n",
    "        delta: List[float],\n",
    "        T: float,\n",
    "        predictions: Vehicles\n",
    ") -> float:\n",
    "    \"\"\"Evalautes the total jerk cost function.\n",
    "    \n",
    "    Penalises trajectories with jerk above the expected\n",
    "    one-second jerk value (`EXPECTED_JERK_IN_ONE_SEC`).\n",
    "    \n",
    "    :param traj: Trajectory to evaluate.\n",
    "    :param target_vehicle: Target vehicle id from `predictions` to fetch the state of.\n",
    "    :param delta: List of offset values between ego- and `target_vehicle`.\n",
    "    :param T: Total elapsed time (s) starting from $t = 0$.\n",
    "    :param predictions: Dict of estimated vehicle trajectories.\n",
    "    :returns: Total jerk binary cost evaluated for the given trajectory. \n",
    "    \"\"\"\n",
    "    \n",
    "    s, d, t = traj\n",
    "    s_dot = differentiate(s)\n",
    "    s_d_dot = differentiate(s_dot)\n",
    "    jerk = to_equation(differentiate(s_d_dot))\n",
    "    total_jerk = 0\n",
    "    dt = float(T) / 100.0\n",
    "    for i in range(100):\n",
    "        t = dt * i\n",
    "        j = jerk(t)\n",
    "        total_jerk += abs(j * dt)\n",
    "    jerk_per_second = total_jerk / T\n",
    "    return logistic(jerk_per_second / EXPECTED_JERK_IN_ONE_SEC)\n",
    "\n",
    "\n",
    "def max_accel_cost(\n",
    "        traj: Tuple[List[float], List[float], float],\n",
    "        target_vehicle: int,\n",
    "        delta: List[float],\n",
    "        T: float,\n",
    "        predictions: Vehicles\n",
    ") -> float:\n",
    "    \"\"\"Evaluates the maximum acceleration cost function.\n",
    "    \n",
    "    Binary cost penalising trajectories whose acceleration exceeds the\n",
    "    maximum allowed acceleration (`MAX_ACCEL`).\n",
    "    \n",
    "    :param traj: Trajectory to evaluate.\n",
    "    :param target_vehicle: Target vehicle id from `predictions` to fetch the state of.\n",
    "    :param delta: List of offset values between ego- and `target_vehicle`.\n",
    "    :param T: Total elapsed time (s) starting from $t = 0$.\n",
    "    :param predictions: Dict of estimated vehicle trajectories.\n",
    "    :returns: Maximum accleration binary cost evaluated for the given trajectory. \n",
    "    \"\"\"\n",
    "    \n",
    "    s, d, t = traj\n",
    "    s_dot = differentiate(s)\n",
    "    s_d_dot = differentiate(s_dot)\n",
    "    a = to_equation(s_d_dot)\n",
    "    all_accs = [a(float(T) / 100 * i) for i in range(100)]\n",
    "    max_acc = max(all_accs, key=abs)\n",
    "    if abs(max_acc) > MAX_ACCEL:\n",
    "        return 1\n",
    "    else:\n",
    "        return 0\n",
    "    \n",
    "\n",
    "def max_jerk_cost(\n",
    "        traj: Tuple[List[float], List[float], float],\n",
    "        target_vehicle: int,\n",
    "        delta: List[float],\n",
    "        T: float,\n",
    "        predictions: Vehicles\n",
    ") -> float:\n",
    "    \"\"\"Evaluates the maximum jerk cost function.\n",
    "    \n",
    "    Binary cost penalising trajectories whose jerk exceeds the\n",
    "    maximum allowed jerk (`MAX_JERK`).\n",
    "\n",
    "    :param traj: Trajectory to evaluate.\n",
    "    :param target_vehicle: Target vehicle id from `predictions` to fetch the state of.\n",
    "    :param delta: List of offset values between ego- and `target_vehicle`.\n",
    "    :param T: Total elapsed time (s) starting from $t = 0$.\n",
    "    :param predictions: Dict of estimated vehicle trajectories.\n",
    "    :returns: Maximum jerk binary cost evaluated for the given trajectory. \n",
    "    \"\"\"\n",
    "    \n",
    "    s, d, t = traj\n",
    "    s_dot = differentiate(s)\n",
    "    s_d_dot = differentiate(s_dot)\n",
    "    jerk = differentiate(s_d_dot)\n",
    "    jerk = to_equation(jerk)\n",
    "    all_jerks = [jerk(float(T) / 100 * i) for i in range(100)]\n",
    "    max_jerk = max(all_jerks, key=abs)\n",
    "    if abs(max_jerk) > MAX_JERK:\n",
    "        return 1\n",
    "    else:\n",
    "        return 0"
   ]
  },
  {
   "cell_type": "markdown",
   "id": "240703d6",
   "metadata": {},
   "source": [
    "#### Cost function weights"
   ]
  },
  {
   "cell_type": "markdown",
   "id": "e2b08bba",
   "metadata": {},
   "source": [
    "Assigned below are the weight values multiplied to their respective returned cost function values for each given trajectory to consider. The weighted sum of the cost function returns will be calculated, and the trajectory whose total weighted sum is minimal will be selected for execution by the ego-vehicle."
   ]
  },
  {
   "cell_type": "code",
   "execution_count": 23,
   "id": "723e21fb",
   "metadata": {},
   "outputs": [],
   "source": [
    "### TODO: Adjust weights assigned to the existing cost functions"
   ]
  },
  {
   "cell_type": "code",
   "execution_count": 24,
   "id": "c302f864",
   "metadata": {},
   "outputs": [],
   "source": [
    "WEIGHTED_COST_FUNCTIONS = [\n",
    "    (time_diff_cost,    1),\n",
    "    (s_diff_cost,       1),\n",
    "    (d_diff_cost,       1),\n",
    "    (efficiency_cost,   1),\n",
    "    (max_jerk_cost,     1),\n",
    "    (total_jerk_cost,   1),\n",
    "    (collision_cost,    1),\n",
    "    (buffer_cost,       1),\n",
    "    (max_accel_cost,    1),\n",
    "    (total_accel_cost,  1),\n",
    "]"
   ]
  },
  {
   "cell_type": "markdown",
   "id": "8849dad1",
   "metadata": {},
   "source": [
    "#### Polynomial Trajectory Generator"
   ]
  },
  {
   "cell_type": "markdown",
   "id": "5b311273",
   "metadata": {},
   "source": [
    "Below we implement the Polynomial Trajectory Generator programme.\n",
    "\n",
    "The `PTG` function finds the best trajectory by computing the minimum weighted cost over all possible trajectory perturbations. Each trajectory from the start to goal state is described by a set of two quintic polynomials parameterised by the coefficients of the boundary conditions `start_s`, `start_d`. These starting kinematic state vectors are used along with the derived minimised-jerk trajectory equation to compute the trajectories in 1D with respect to the total elapsed time `T` to the goal state. \n",
    "\n",
    "Each quintic polynomial describes the motion of the ego-vehicle along either the longitudinal $s$-axis or lateral $d$-axis (using the [Frenet](https://fjp.at/posts/optimal-frenet/) coordinate frame). The trajectory, a tuple of\n",
    "\n",
    "$$\n",
    "\\begin{align}\n",
    "\\texttt{traj = (s_coefficients, d_coefficients, t)},\n",
    "\\end{align}\n",
    "$$\n",
    "\n",
    "describe the estimated jerk-minimum trajectory to the goal. The resulting quintic polynomials belonging to the trajectory are perturbed (deviated) using the [`random.gauss`](https://docs.python.org/3/library/random.html#random.gauss) floating-point number generator. Here we parameterise the Gaussian to sample from using the original coefficients of the quintic polynomials of either $s(t)$ or $d(t)$ as the `mean` parameter, and the `sigma` parameter is given as the pre-defined constant `SIGMA_S` or `SIGMA_D`, respectively.\n",
    "\n",
    "From these set of perturbed trajectories we select the cost-minimal to execute. In other words, we run each trajectory through the set of cost functions weighted by the values given in `WEIGHTED_COST_FUNCTIONS`, then return the single trajectory with the lowest weighted-sum cost score.  "
   ]
  },
  {
   "cell_type": "code",
   "execution_count": 28,
   "id": "1965ed3a",
   "metadata": {},
   "outputs": [],
   "source": [
    "#from cost_functions import *\n",
    "#from constants import *\n",
    "\n",
    "\n",
    "def PTG(\n",
    "        start_s: List[float],\n",
    "        start_d: List[float],\n",
    "        target_vehicle: int,\n",
    "        delta: List[int],\n",
    "        T: float,\n",
    "        predictions: Vehicles\n",
    ") -> Tuple[List[float], List[float], float]:\n",
    "    \"\"\"Finds the best trajectory according to `WEIGHTED_COST_FUNCTIONS`.\n",
    "\n",
    "    :param start_s: Starting longitudinal motion state vector,\n",
    "        i.e., list of `[s, s_dot, s_ddot]` values.\n",
    "    :param start_d: Starting lateral motion state vector,\n",
    "        i.e., list of `[d, d_dot, d_ddot]` values.\n",
    "    :param target_vehicle: integer id of the leading vehicle which trajectories\n",
    "        are set relative to, used to retrieve the state from `predictions` dict.\n",
    "    :param delta: list of goal offset values between ego- and `target_vehicle`,\n",
    "        e.g., for `t=5`, we have `target_vehicle` at `[100, 10, 0, 0, 0, 0]` and\n",
    "        `delta` of `[-10, 0, 0, 4, 0, 0]`, then our goal state at `t=5` will be\n",
    "        `[90, 10, 0, 4, 0, 0]`. In other words, we describe the following goal:\n",
    "        \"follow 10 metres behind and 4 metres to the right of `target_vehicle`.\"\n",
    "    :param T: Total elapsed time at which the ego-vehicle will reach the goal,\n",
    "        relative to the current time-step assumed to be $t = 0$.\n",
    "    :param predictions: dict of `{v_id : vehicle}` instances. Each `Vehicle`\n",
    "        has method `vehicle.state_in(t)` which returns the expected kinematics,\n",
    "        i.e., `[s, s_dot, s_ddot, d, d_dot, d_ddot]`, at time `t`.\n",
    "    :returns: `(best_s, best_d, best_t)`, tuple of trajectory values s.t. `best_s`\n",
    "        and `best_d` are the quintic polynomial coefficient vectors of $s(t)$, $d(t)$,\n",
    "        respectively, and `best_t` is the elapsed time associated with the trajectory.\n",
    "    \"\"\"\n",
    "    \n",
    "    # Get the target `Vehicle` state\n",
    "    target = predictions[target_vehicle]\n",
    "    # Generate alternative goal states\n",
    "    all_goals = []\n",
    "    timestep = 0.5\n",
    "    t = T - 4 * timestep\n",
    "    while t <= T + 4 * timestep:\n",
    "        target_state = np.array(target.state_in(t)) + np.array(delta)\n",
    "        goal_s = target_state[:3]\n",
    "        goal_d = target_state[3:]\n",
    "        goals = [(goal_s, goal_d, t)]\n",
    "        for _ in range(N_SAMPLES):\n",
    "            perturbed = perturb_goal(goal_s, goal_d)\n",
    "            goals.append((perturbed[0], perturbed[1], t))\n",
    "        all_goals += goals\n",
    "        t += timestep\n",
    "    # Find the best trajectory with minimised weighted cost\n",
    "    trajectories = []\n",
    "    for goal in all_goals:\n",
    "        s_goal, d_goal, t = goal\n",
    "        s_coefficients = JMT(start_s, s_goal, t)\n",
    "        d_coefficients = JMT(start_d, d_goal, t)\n",
    "        trajectories.append(tuple([s_coefficients, d_coefficients, t]))\n",
    "    best = min(\n",
    "        trajectories, \n",
    "        key=lambda tr: calculate_cost(\n",
    "            tr, target_vehicle, delta, T, predictions, WEIGHTED_COST_FUNCTIONS\n",
    "        )\n",
    "    )\n",
    "    # Compute the weighted cost of the best trajectory found\n",
    "    calculate_cost(\n",
    "        best, \n",
    "        target_vehicle, \n",
    "        delta, \n",
    "        T, \n",
    "        predictions, \n",
    "        WEIGHTED_COST_FUNCTIONS, \n",
    "        verbose=True\n",
    "    )\n",
    "    return best\n",
    "\n",
    "\n",
    "def calculate_cost(\n",
    "        trajectory: Tuple[List[float], List[float], float],\n",
    "        target_vehicle: int, \n",
    "        delta: List[float],\n",
    "        goal_t: float,\n",
    "        predictions: Vehicles,\n",
    "        cost_functions_with_weights: List[Union[\n",
    "            Callable[[Vehicle, int, float, float, Vehicles], float],\n",
    "            float\n",
    "        ]],\n",
    "        verbose=False\n",
    ") -> float:\n",
    "    \"\"\"Computes the weighted cost of the given cost functions.\n",
    "    \n",
    "    :param trajectory: Trajectory to compute the cost relative to.\n",
    "    :param target_vehicle: Target vehicle id to fetch the state of.\n",
    "    :param delta: List of offset values between ego- and `target_vehicle`.\n",
    "    :param goal_t: Total elapsed execution time (s) to complete the trajectory.\n",
    "    :param predictions: Dict of estimated vehicle trajectories.\n",
    "    :returns: Maximum jerk binary cost evaluated for the given trajectory. \n",
    "    \"\"\"\n",
    "    \n",
    "    cost = 0.0\n",
    "    for cf, weight in cost_functions_with_weights:\n",
    "        new_cost = weight * cf(trajectory, target_vehicle, delta, goal_t, predictions)\n",
    "        cost += new_cost\n",
    "        if verbose:\n",
    "            print(f\"cost for {cf.__name__} is \\t {new_cost}\")\n",
    "    return cost\n",
    "\n",
    "\n",
    "def perturb_goal(\n",
    "        goal_s: np.ndarray,\n",
    "        goal_d: np.ndarray\n",
    ") -> Tuple[List[float], List[float]]:\n",
    "    \"\"\"Returns a perturbed version of the goal state.\n",
    "    \"\"\"\n",
    "    \n",
    "    new_s_goal = []\n",
    "    for mu, sig in zip(goal_s, SIGMA_S):\n",
    "        new_s_goal.append(random.gauss(mu, sig))\n",
    "    new_d_goal = []\n",
    "    for mu, sig in zip(goal_d, SIGMA_D):\n",
    "        new_d_goal.append(random.gauss(mu, sig))\n",
    "    return tuple([new_s_goal, new_d_goal])\n",
    "\n",
    "\n",
    "def JMT(\n",
    "        start: List[float],\n",
    "        end: List[float],\n",
    "        T: float\n",
    ") -> np.ndarray:\n",
    "    \"\"\"Computes the jerk-minimising trajectory from the `start` to `end` states.\n",
    "    \n",
    "    :param start: Starting state vector to compute the trajectory from.\n",
    "    :param end: Final state vector to compute the trajectory to.\n",
    "    :param T: Total elapsed time to perform the trajectory relative to current $t = 0$.\n",
    "    :returns alphas: Set of coefficients $\\alpha_{0}$ through $\\alpha_{5}$ belonging to\n",
    "        the quintic polynomial of the minimised-jerk trajectory. \n",
    "    \"\"\"\n",
    "    \n",
    "    ### Get the first three known coefficients\n",
    "    a_0, a_1, a_2 = start[0], start[1], start[2] / 2.0\n",
    "    ### Compute the integration constants\n",
    "    c_0 = a_0 + a_1 * T + a_2 * T**2\n",
    "    c_1 = a_1 + 2* a_2 * T\n",
    "    c_2 = 2 * a_2\n",
    "    ### Form the matrix equation\n",
    "    A = np.array([\n",
    "        [T**3, T**4, T**5],\n",
    "        [3 * T**2, 4 * T**3, 5 * T**4],\n",
    "        [6 * T, 12 * T**2, 20 * T**3],\n",
    "    ])\n",
    "    B = np.array([\n",
    "        end[0] - c_0,\n",
    "        end[1] - c_1,\n",
    "        end[2] - c_2\n",
    "    ])\n",
    "    ### Solve the matrix equation\n",
    "    a_3_4_5 = np.linalg.solve(A, B)\n",
    "    ### Append the last three computed coefficients to the first three knowns\n",
    "    alphas = np.concatenate([\n",
    "        np.array([a_0, a_1, a_2]), \n",
    "        a_3_4_5\n",
    "    ])\n",
    "    return alphas"
   ]
  },
  {
   "cell_type": "markdown",
   "id": "29831fc4",
   "metadata": {},
   "source": [
    "#### Evaluating the Polynomial Trajectory Generator"
   ]
  },
  {
   "cell_type": "code",
   "execution_count": 29,
   "id": "0c523baf",
   "metadata": {},
   "outputs": [],
   "source": [
    "def evaluate_PTG(\n",
    "    start_s: List[float],\n",
    "    start_d: List[float],\n",
    "    target_vehicle: int,\n",
    "    delta: List[float],\n",
    "    T: float, \n",
    "    predictions: Vehicles\n",
    "):\n",
    "    \"\"\"Evaluates the Polynomial Trajectory Generator programme.\n",
    "    \n",
    "    :param start_s: Starting longitudinal motion state vector,\n",
    "        i.e., list of `[s, s_dot, s_ddot]` values.\n",
    "    :param start_d: Starting lateral motion state vector,\n",
    "        i.e., list of `[d, d_dot, d_ddot]` values.\n",
    "    :param target_vehicle: integer id of the leading vehicle which trajectories\n",
    "        are set relative to, used to retrieve the state from `predictions` dict.\n",
    "    :param delta: list of goal offset values between ego- and `target_vehicle`,\n",
    "        e.g., for `t=5`, we have `target_vehicle` at `[100, 10, 0, 0, 0, 0]` and\n",
    "        `delta` of `[-10, 0, 0, 4, 0, 0]`, then our goal state at `t=5` will be\n",
    "        `[90, 10, 0, 4, 0, 0]`. In other words, we describe the following goal:\n",
    "        \"follow 10 metres behind and 4 metres to the right of `target_vehicle`.\"\n",
    "    :param T: Total elapsed time at which the ego-vehicle will reach the goal,\n",
    "        relative to the current time-step assumed to be $t = 0$.\n",
    "    :param predictions: dict of `{v_id : vehicle}` instances. Each `Vehicle`\n",
    "        has method `vehicle.state_in(t)` which returns the expected kinematics,\n",
    "        i.e., `[s, s_dot, s_ddot, d, d_dot, d_ddot]`, at time `t`.\n",
    "    \"\"\"\n",
    "    \n",
    "    ### Compute the best (cost-minimal) trajectory\n",
    "    best = PTG(\n",
    "        start_s, \n",
    "        start_d, \n",
    "        target_vehicle, \n",
    "        delta, \n",
    "        T, \n",
    "        predictions\n",
    "    )\n",
    "    ### Display the best trajectory in a Matplotlib figure\n",
    "    show_trajectory(best[0], best[1], best[2], vehicle)"
   ]
  },
  {
   "cell_type": "markdown",
   "id": "b9c9ac29",
   "metadata": {},
   "source": [
    "##### Experiment 1: Move ego- to target-vehicle lane"
   ]
  },
  {
   "cell_type": "markdown",
   "id": "8ef852bd",
   "metadata": {},
   "source": [
    "In this first experiment, we request a trajectory which moves our ego-vehicle (in blue) to the lane of the other vehicle (in red). \n",
    "\n",
    "Note that we will *not* be adjusting the weight values of the cost functions, nor implementing the other two cost functions at this time."
   ]
  },
  {
   "cell_type": "markdown",
   "id": "bb785808",
   "metadata": {},
   "source": [
    "First, we select a starting state for the ego-vehicle given by the following kinematics values:"
   ]
  },
  {
   "cell_type": "code",
   "execution_count": 43,
   "id": "61da8a1c",
   "metadata": {},
   "outputs": [],
   "source": [
    "### Initial 1D kinematics state vectors in Frenet coordinate frame\n",
    "# Boundary conditions along the longitudinal $s$-axis\n",
    "# i.e., $[s, \\dot{s}, \\ddot{s}]$\n",
    "start_s = [10, 10, 0]\n",
    "# Boundary conditions along the lateral $d$-axis\n",
    "# i.e., $[d, \\dot{d}, \\ddot{d}]$\n",
    "start_d = [4, 0, 0]"
   ]
  },
  {
   "cell_type": "markdown",
   "id": "37c48953",
   "metadata": {},
   "source": [
    "Then, we define the initial non-ego vehicle $state$ vector\n",
    "$$\n",
    "\\begin{align}\n",
    "state = \\left[s, \\ \\dot{s}, \\ \\ddot{s}, \\ d, \\ \\dot{d}, \\ \\ddot{d}\\right],\n",
    "\\end{align}\n",
    "$$\n",
    "i.e., the boundary conditions, to be:"
   ]
  },
  {
   "cell_type": "code",
   "execution_count": 44,
   "id": "546d326f",
   "metadata": {},
   "outputs": [],
   "source": [
    "### Non-ego vehicle instance (with initial boundary conditions)\n",
    "vehicle = Vehicle([0, 10, 0, 0, 0, 0])"
   ]
  },
  {
   "cell_type": "markdown",
   "id": "fea440a9",
   "metadata": {},
   "source": [
    "which, in other words, means that the non-ego vehicle starts at a position $(s, d) = (0, 0) \\ m$, with a starting velocity $(\\dot{s}, \\dot{d}) = (10, 0) \\  m/s$, and an acceleration $(\\ddot{s}, \\ddot{d}) = (0, 0) \\ m/s^2$."
   ]
  },
  {
   "cell_type": "code",
   "execution_count": 45,
   "id": "b2ec9d53",
   "metadata": {},
   "outputs": [],
   "source": [
    "### Set of non-ego vehicle actors \n",
    "target = 0                          # id of the non-ego actor in `predictions`\n",
    "predictions = {target: vehicle}"
   ]
  },
  {
   "cell_type": "markdown",
   "id": "377f4c67",
   "metadata": {},
   "source": [
    "Now, we define the variables of our intended ego-vehicle trajectory. Here, we set the `delta` kinematics state vector which is the desired offset of the ego-vehicle from the final ending non-ego vehicle state:"
   ]
  },
  {
   "cell_type": "code",
   "execution_count": 46,
   "id": "89674806",
   "metadata": {},
   "outputs": [],
   "source": [
    "### Starting state variables\n",
    "# List of offset values between ego- and `target_vehicle`\n",
    "delta = [0, 0, 0, 0, 0, 0]\n",
    "# Elapsed time to complete manoeuvre\n",
    "T = 5.0                    # seconds"
   ]
  },
  {
   "cell_type": "markdown",
   "id": "5f937716",
   "metadata": {},
   "source": [
    "The `delta` vector will be added to the non-ego vehicle's final `end` state vector to define the ego-vehicle's desired final end state. In other words, we want to create a trajectory with desired execution time `T` that will bring our ego-vehicle to a `final` position given by `final = end + delta`, where `end` is the ending state of the non-ego vehicle after `T` seconds as given by the 1D kinematics.\n",
    "\n",
    "In this experiment, with a `delta` of all zeros, we are essentially seeking a trajectory that will bring the ego-vehicle (shown in blue below) to the exact ending position of the non-ego vehicle (in red)."
   ]
  },
  {
   "cell_type": "code",
   "execution_count": 47,
   "id": "d7b50d73",
   "metadata": {},
   "outputs": [],
   "source": [
    "### Run the Polynomial Trajectory Generator programme with starting variables"
   ]
  },
  {
   "cell_type": "code",
   "execution_count": 48,
   "id": "17a42768",
   "metadata": {},
   "outputs": [
    {
     "data": {
      "image/png": "[encoded data removed]",
      "text/plain": [
       "<Figure size 640x480 with 1 Axes>"
      ]
     },
     "metadata": {},
     "output_type": "display_data"
    }
   ],
   "source": [
    "evaluate_PTG(\n",
    "    start_s,\n",
    "    start_d,\n",
    "    target,\n",
    "    delta,\n",
    "    T,\n",
    "    predictions\n",
    ")"
   ]
  },
  {
   "cell_type": "markdown",
   "id": "bcd7fd29",
   "metadata": {},
   "source": [
    "In the experiment results above we see that the ego-vehicle (blue) fails to properly execute the intended manoeuvre — and rightfully so. While we indicated a desired final ego-vehicle state positioned exactly at the ending state of the non-ego vehicle, our weighted cost function analysis surfaced a trajectory from the list of perturbations that resulted in an execution of the ego-vehicle near the desired position *without* incurring a collision.\n",
    "\n",
    "However, since the cost function weights were assumed to be uniformly set to a value `1.0`, a preference was not given to any of the floating point-valued costs. In other words, our trajectory planner selected without bias the trajectories which satisfied the binary-cost functions (`collision_cost`, `max_jerk_cost`, `max_accel_cost`). These three, in particular, are defined to output a cost score of `1.0` for any trajectories which do not obey these safety (`collision_cost`) and feasibility (`max_jerk_cost` / `max_accel_cost`) considerations."
   ]
  },
  {
   "cell_type": "markdown",
   "id": "1f576cfd",
   "metadata": {},
   "source": [
    "Now, in order to enforce a _feasible_ and _safe_, _comfortable_, and _efficient_ ride, we will want to give appropriate weight to the relevant cost functions.\n",
    "\n",
    "For example, if we wanted to say, _safely_ move the ego-vehicle (in blue) to a position _comfortably_ behind the other vehicle (in red) as efficiently as possible, we might want to prioritise (in addition to `collision_cost`, `max_jerk_cost`, `max_accel_cost`) the remainder of the cost functions in a way that not only enforces moving to the exact end goal state, but also keeps the ego-vehicle at a final distance safely behind the other with a manoeuvre that doesn't startle the passenger (i.e., introduce significant jerk). As an order of precendence for this desired trajectory, we might have:\n",
    "> `max_jerk_cost` & `max_accel_cost` & `collision_cost` > `buffer_cost` > `total_jerk_cost` > `total_accel_cost` > `stays_on_road_cost` > `exceeds_speed_limit` > `d_diff_cost` > `s_diff_cost` > `time_diff_cost` > `efficiency_cost`.\n",
    "\n",
    "The above gives priority first to feasibility (as defined by physics and vehicle mechanics), passenger and neighbouring vehicle safety (defined as \"do not crash and maintain a safe following distance\"), comfort (as defined by total jerk and acceleration experienced during the manoeuvre), external safety (as defined by the road speed limit), desired trajectory (as defined by the deviation from intended position w.r.t. time), and lastly, efficiency (prioritises average manoeuvre speeds which match target vehicle speed).\n",
    "\n",
    "Note that the above is given only as a recommendation based on what I note is personal preference. This ordering does not give preference to regulatory interests, which might enforce _not_ exceeding the speed limit over e.g., passenger comfort.   "
   ]
  },
  {
   "cell_type": "markdown",
   "id": "05c962d9",
   "metadata": {},
   "source": [
    "In this experiment we demonstrate the example configuration described in the docstring comments of the `evaluate_PTG` function. In other words, we create an experiment run assuming the following:"
   ]
  },
  {
   "cell_type": "markdown",
   "id": "63a2d41d",
   "metadata": {},
   "source": [
    "#### Experiment 2: Reach the end goal at all costs"
   ]
  },
  {
   "cell_type": "markdown",
   "id": "8cf2186f",
   "metadata": {},
   "source": [
    "In line with the previous experiment, here we enforce a manoeuvre that brings the ego-vehicle into the lane of the other vehicle with a final offset of:\n",
    "```python\n",
    "delta = [0, 0, 0, 0, 0, 0]\n",
    "```\n",
    "In other words, we want our ego-vehicle to match exactly the final state of the other vehicle. This is, of course, nonsensical, but in this experiment run we demonstrate the effect of giving *zero weight* to the cost function preventing us from colliding. \n",
    "\n",
    "So, let's do exactly that."
   ]
  },
  {
   "cell_type": "markdown",
   "id": "36c5b012",
   "metadata": {},
   "source": [
    "Here we reinitialise the cost function weights, but this time giving the `collision_cost` a weight value of `0.0`:"
   ]
  },
  {
   "cell_type": "code",
   "execution_count": 53,
   "id": "a3df486c",
   "metadata": {},
   "outputs": [],
   "source": [
    "WEIGHTED_COST_FUNCTIONS = [\n",
    "    (time_diff_cost,    1),\n",
    "    (s_diff_cost,       1),\n",
    "    (d_diff_cost,       1),\n",
    "    (efficiency_cost,   1),\n",
    "    (max_jerk_cost,     1),\n",
    "    (total_jerk_cost,   1),\n",
    "    # Here we set collision cost weight value to zero (i.e., no contribution)\n",
    "    (collision_cost,    0),\n",
    "    (buffer_cost,       1),\n",
    "    (max_accel_cost,    1),\n",
    "    (total_accel_cost,  1),\n",
    "]"
   ]
  },
  {
   "cell_type": "markdown",
   "id": "8f3e5cac",
   "metadata": {},
   "source": [
    "This means that, for any trajectory with an imminent collision, we'll simply ignore its weighted `+1.0` cost contribution returned by `collision_cost` in the overall calculation. Since the weight of value `0.0` will be multiplied by the binary collision value of `1.0`, we'll end up with of course a collision cost penalty of `0.0`. "
   ]
  },
  {
   "cell_type": "code",
   "execution_count": 56,
   "id": "529ccacf",
   "metadata": {},
   "outputs": [
    {
     "data": {
      "image/png": "[encoded data removed]",
      "text/plain": [
       "<Figure size 640x480 with 1 Axes>"
      ]
     },
     "metadata": {},
     "output_type": "display_data"
    }
   ],
   "source": [
    "evaluate_PTG(\n",
    "    start_s=[10, 10, 0],\n",
    "    start_d=[4, 0, 0],\n",
    "    target_vehicle=0,\n",
    "    delta=[0, 0, 0, 0, 0, 0],\n",
    "    T=5,\n",
    "    predictions={0: Vehicle([0, 10, 0, 0, 0, 0])}\n",
    ")"
   ]
  },
  {
   "cell_type": "markdown",
   "id": "b6b7811d",
   "metadata": {},
   "source": [
    "In the above result, we see exactly what we were expecting — a final ego-vehicle state (in blue) matching exactly the other vehicle (in blue). And, to no surprise, the ego-vehicle collided with the other vehicle in order to meet this demand."
   ]
  },
  {
   "cell_type": "markdown",
   "id": "c7e54d7e",
   "metadata": {},
   "source": [
    "##### Experiment 3: Manually configuring the weights"
   ]
  },
  {
   "cell_type": "markdown",
   "id": "b84aad5f",
   "metadata": {},
   "source": [
    "Now, let's shake things up a bit. We'll keep roughly the same goal state as before, i.e., match the other vehicle's final state, but instead modify `delta` to put our ego-vehicle `-10` metres behind the other vehicle. Then, let's reconfigure the `collision_cost` weight back to a value of `1.0`. This way, we'll try to find a manoeuvre that avoids a collision and keeps a respectable distance from the other vehicle. However, this comes with some cost — we'll be sacrificing here our expectations regarding the time and exact position we've set for our ego-vehicle to end up at. We'll also be weighing the `efficiency_cost` and comfort costs (`total_accel_cost`, `total_jerk_cost`) a bit less in order to make this trajectory possible."
   ]
  },
  {
   "cell_type": "code",
   "execution_count": 101,
   "id": "15be33fb",
   "metadata": {},
   "outputs": [],
   "source": [
    "WEIGHTED_COST_FUNCTIONS = [\n",
    "    (time_diff_cost,    0.7),\n",
    "    (s_diff_cost,       0.8),\n",
    "    (d_diff_cost,       0.75),\n",
    "    (efficiency_cost,   0.5),\n",
    "    (max_jerk_cost,     1),\n",
    "    (total_jerk_cost,   0.8),\n",
    "    # Here we set collision cost weight value to zero (i.e., no contribution)\n",
    "    (collision_cost,    1),\n",
    "    (buffer_cost,       1),\n",
    "    (max_accel_cost,    1),\n",
    "    (total_accel_cost,  0.8),\n",
    "]"
   ]
  },
  {
   "cell_type": "code",
   "execution_count": 102,
   "id": "b8f9197f",
   "metadata": {},
   "outputs": [
    {
     "data": {
      "image/png": "[encoded data removed]",
      "text/plain": [
       "<Figure size 640x480 with 1 Axes>"
      ]
     },
     "metadata": {},
     "output_type": "display_data"
    }
   ],
   "source": [
    "evaluate_PTG(\n",
    "    start_s=[10, 10, 0],\n",
    "    start_d=[4, 0, 0],\n",
    "    target_vehicle=0,\n",
    "    delta=[-10, 0, 0, 0, 0, 0],\n",
    "    T=5,\n",
    "    predictions={0: Vehicle([0, 10, 0, 0, 0, 0])}\n",
    ")"
   ]
  },
  {
   "cell_type": "markdown",
   "id": "a530de1b",
   "metadata": {},
   "source": [
    "From the above experiment run we see that the vehicle arrived at a goal position matching the other vehicle in just the lateral direction; in the longitudinal direction our ego-vehicle is slightly in front of the other vehicle. While this trajectory did not result in a collision, the acceleration in the longitudinal direction, $\\ddot{s}$, seems to be quite high during the manoeuvre of the lane change (as indicated by the farther spread out 'dots' — a bigger displacement per time-step is apparent). \n",
    "\n",
    "The results of this experiment reflect the trade-offs we made while selecting the cost function weight values."
   ]
  },
  {
   "cell_type": "markdown",
   "id": "c090e6af",
   "metadata": {},
   "source": [
    "#### In Summary"
   ]
  },
  {
   "cell_type": "markdown",
   "id": "98e996f0",
   "metadata": {},
   "source": [
    "From the experiments above we observed the effect of cost function weight values on the trajectory planner. When equal weight is given to the cost function values, we are able to safely execute a trajectory that puts our ego-vehicle at the intended goal (unless a collision is imminent or the manoeuvre is not feasible). When we adjust the weight values for, say, collision avoidance, we see the trajectory planner selecting a route that, to no surprise, results in a collision.\n",
    "\n",
    "This demonstrates the importance of designing robust cost functions that prioritise feasibility, safety, comfort, and efficiency."
   ]
  },
  {
   "cell_type": "markdown",
   "id": "3eefb2f9",
   "metadata": {},
   "source": [
    "## 3. Closing Remarks\n",
    "##### Alternatives\n",
    "* Replicate other driving scenarios to repeat the simulation with (e.g., vehicle to take over the lane of speeds up, preventing the lane change and leading to a potentially aggressive / dangerous ego-vehicle manoeuvre);\n",
    "* Adjust the weight values in consideration of other goals (e.g., prioritise not exceeding max speed).\n",
    "\n",
    "##### Extensions of task\n",
    "* Finish the `stays_on_road_cost` and `exceeds_speed_limit_cost` functions;\n",
    "* Add additional traffic to the highway scene (i.e., simulate additional vehicle actors / lanes);\n",
    "* Create additional cost functions not mentioned here."
   ]
  },
  {
   "cell_type": "markdown",
   "id": "7a0312f1",
   "metadata": {},
   "source": [
    "## 4. Future Work"
   ]
  },
  {
   "cell_type": "markdown",
   "id": "ea5b626c",
   "metadata": {},
   "source": [
    "* ⬜️ Finish the `stays_on_road_cost` and `exceeds_speed_limit_cost` functions;\n",
    "* ⬜️ Experiment with different cost function weight configurations;\n",
    "* ⬜️ Add additional traffic to the scene."
   ]
  },
  {
   "cell_type": "markdown",
   "id": "aa795116",
   "metadata": {},
   "source": [
    "## Credits"
   ]
  },
  {
   "cell_type": "markdown",
   "id": "31a001e6",
   "metadata": {},
   "source": [
    "This assignment was prepared by Sebastian Thrun and Emmanuel Boidot of Mercedes-Benz R&D, Winter 2021 (link [here](https://www.udacity.com/course/self-driving-car-engineer-nanodegree--nd0013))."
   ]
  }
 ],
 "metadata": {
  "kernelspec": {
   "display_name": "Python 3",
   "language": "python",
   "name": "python3"
  },
  "language_info": {
   "codemirror_mode": {
    "name": "ipython",
    "version": 3
   },
   "file_extension": ".py",
   "mimetype": "text/x-python",
   "name": "python",
   "nbconvert_exporter": "python",
   "pygments_lexer": "ipython3",
   "version": "3.8.13"
  },
  "toc": {
   "base_numbering": 1,
   "nav_menu": {},
   "number_sections": false,
   "sideBar": true,
   "skip_h1_title": false,
   "title_cell": "Table of Contents",
   "title_sidebar": "Contents",
   "toc_cell": false,
   "toc_position": {},
   "toc_section_display": true,
   "toc_window_display": true
  }
 },
 "nbformat": 4,
 "nbformat_minor": 5
}
