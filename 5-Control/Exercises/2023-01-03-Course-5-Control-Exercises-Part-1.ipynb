{
 "cells": [
  {
   "cell_type": "markdown",
   "id": "794f103d",
   "metadata": {},
   "source": [
    "# Course 5: Control\n",
    "## Part 1: PID Control in Python\n",
    "#### By Jonathan L. Moran (jonathan.moran107@gmail.com)\n",
    "From the Self-Driving Car Engineer Nanodegree programme offered at Udacity."
   ]
  },
  {
   "cell_type": "markdown",
   "id": "c9a1d272",
   "metadata": {},
   "source": [
    "## 1. Introduction"
   ]
  },
  {
   "cell_type": "code",
   "execution_count": null,
   "id": "c960f34d",
   "metadata": {},
   "outputs": [],
   "source": [
    "#### Importing the required modules"
   ]
  },
  {
   "cell_type": "code",
   "execution_count": null,
   "id": "031330ba",
   "metadata": {},
   "outputs": [],
   "source": [
    "import matplotlib as mpl\n",
    "import matplotlib.pyplot as plt\n",
    "import numpy as np\n",
    "import random\n",
    "from typing import List, Tuple"
   ]
  },
  {
   "cell_type": "markdown",
   "id": "315c5a65",
   "metadata": {},
   "source": [
    "### Background"
   ]
  },
  {
   "cell_type": "markdown",
   "id": "a39c3139",
   "metadata": {},
   "source": [
    "In this following section we implement several controllers, some with open-loop and others with closed-loop feedback, in order to manoeuvre a simulated robot towards a goal trajectory (denoted the \"reference trajectory\").\n",
    "\n",
    "In this problem set-up we define our reference trajectory as a horizontal line situated about the $x$-axis origin. Our robot is placed in this 2D environment and has the following state variables:\n",
    "* **Position** — 2D location $(x, y)$ of the robot in the environment;\n",
    "* **Orientation** — heading angle $\\theta$ (i.e., direction) of the robot.\n",
    "\n",
    "In addition to these state variables, the robot is manoeuvred with respect to the following:\n",
    "* **Steering angle** — angle $\\delta$ to move the front-axel (used in kinematic bicycle motion model);\n",
    "* **Distance** — total distance travelled in the given time-step.\n",
    "\n",
    "In order to manoeuvre a turn, the [kinematic bicycle motion](https://dingyan89.medium.com/simple-understanding-of-kinematic-bicycle-model-81cac6420357) model is approximated for the given steering angle $\\delta$ and robot `length` $L$. Here we add random noise to both the drift / distance measurements as well as the steering angle. These noise values have been sampled from a Gaussian normal distribution."
   ]
  },
  {
   "cell_type": "markdown",
   "id": "f798d126",
   "metadata": {},
   "source": [
    "### 1.1. Proportional Control"
   ]
  },
  {
   "cell_type": "markdown",
   "id": "2c7ac8a0",
   "metadata": {},
   "source": [
    "[Proportional control](https://en.wikipedia.org/wiki/Proportional_control) is a type of linear open-loop [feedback](https://en.wikipedia.org/wiki/Feedback) [control system](https://en.wikipedia.org/wiki/Control_system) used to correct an error signal using proportional gain constant. This type of open-loop feedback controller can be expressed mathematically as:\n",
    "$$\n",
    "\\begin{align}\n",
    "    P_{\\mathrm{out}} &= K_{p} e(t) + p_{0},\n",
    "\\end{align}\n",
    "$$\n",
    "\n",
    "where $P_{\\mathrm{out}}$ is the output of the controller with instantaneous process error $e(t)$ and a proportional gain factor $K_{p}$. The controller output with zero error term, $p_{0}$ is assumed to be zero for our purposes in this notebook."
   ]
  },
  {
   "cell_type": "markdown",
   "id": "49f614e0",
   "metadata": {},
   "source": [
    "#### For robot trajectory tracking"
   ]
  },
  {
   "cell_type": "markdown",
   "id": "68a460ba",
   "metadata": {},
   "source": [
    "In the case of the simulated robot, we assume a static gain factor $K_{p} = \\tau$ applied to the control variable $e(t) = \\mathrm{CTE}_{t}$. Here our cross-track error $\\mathrm{CTE}$ is assumed to be the $y$-coordinate of the robot at the given time-step. This error signal is defined relative to the assumed horizontal reference trajectory about the $x$-axis. \n",
    "\n",
    "In order to correct for perturbations between the desired and actual steering angle commands being executed by the robot, the controller produces an output proportional to the error signal. Here, that is the cross-track error — the distance between the desired reference trajectory at $y = 0$ and the current position of the robot given by the $y$-coordinate value. The proportional gain factor $K_{p}$ is selected proportional to this error.\n",
    "\n",
    "Since our Robot is a dynamical system, we assume the presence of both measurement steering / distance noise as well as steering process noise. The proportional gain controller is used to counter-act this error. As we will see in the produced graphs, the robot is able to successfully reach the target reference trajectory after some elapsed time; however, with this open-loop proportional-gain controller we notice the presence of oscillations about the reference trajectory. In other words, the robot \"overshoot\" the reference trajectory before settling at the target. "
   ]
  },
  {
   "cell_type": "markdown",
   "id": "fd5ac73b",
   "metadata": {},
   "source": [
    "## 2. Programming Task"
   ]
  },
  {
   "cell_type": "markdown",
   "id": "3cc109cf",
   "metadata": {},
   "source": [
    "In this section we implement the open- and closed-loop feedback controllers and demonstrate their performance in trajectory tracking using a simulated robot. See Sect. 1: Background for more information on the `Robot` class implemented below."
   ]
  },
  {
   "cell_type": "markdown",
   "id": "5d0bf09d",
   "metadata": {},
   "source": [
    "#### The `Robot`  class"
   ]
  },
  {
   "cell_type": "code",
   "execution_count": null,
   "id": "b8804024",
   "metadata": {},
   "outputs": [],
   "source": [
    "class Robot(object):\n",
    "    '''The simulated Robot class.\n",
    "    \n",
    "    The robot moves about the 2D environment given a position (x, y) and\n",
    "    heading (`orientation`) angle, i.e., direction of motion.\n",
    "\n",
    "    :param x: Position of the robot along the $x$-axis.\n",
    "    :param y: Position of the robot along the $y$-axis.\n",
    "    :param orientation: Heading angle of the robot, i.e.,\n",
    "        the direction parameter $\\theta$ used in the bicycle motion model.\n",
    "    :param length: Length of the robot, i.e.,\n",
    "        the parameter $L$ used in the bicycle motion model.\n",
    "    :param steering_noise: Steering measurement noise sampled from a\n",
    "        Gaussian normal distribution.\n",
    "    :param distance_noise: Distance measurement noise sampled from a\n",
    "        Gaussian normal distribution.\n",
    "    :param steering_drift: Perturbation of the steering angle sampled from a\n",
    "        Gaussian normal distribution.\n",
    "    '''\n",
    "\n",
    "    def __init__(self,\n",
    "            length: float=20.0\n",
    "    ):\n",
    "        \"\"\"Creates a `Robot` instance.\n",
    "\n",
    "        Initialises the robot 2D location and orientation angle to the\n",
    "        position along the origin (0, 0) with a heading of `0.0`.\n",
    "\n",
    "        :param length: Desired length to initialise the robot with. \n",
    "        \"\"\"\n",
    "\n",
    "        self.x = 0.0\n",
    "        self.y = 0.0\n",
    "        self.orientation = 0.0\n",
    "        self.length = length\n",
    "        self.steering_noise = 0.0\n",
    "        self.distance_noise = 0.0\n",
    "        self.steering_drift = 0.0\n",
    "\n",
    "    def set(self, \n",
    "            x: float, \n",
    "            y: float,\n",
    "            orientation: float\n",
    "    ):\n",
    "        \"\"\"Sets the robot's 2D location and orientation to the given values.\n",
    "        \n",
    "        :param x: Position along the $x$-axis to assign to the robot.\n",
    "        :param y: Position along the $y$-axis to assign to the robot.\n",
    "        :param orientation: Heading angle to assign to the robot. \n",
    "        \"\"\"\n",
    "\n",
    "        self.x = x\n",
    "        self.y = y\n",
    "        self.orientation = orientation % (2.0 * np.pi)\n",
    "\n",
    "    def set_noise(self, \n",
    "            steering_noise: float, \n",
    "            distance_noise: float\n",
    "    ):\n",
    "        \"\"\"Sets the steering- and measurement- noise parameters.\n",
    "\n",
    "        This update function allows for the use of dynamic noise values,\n",
    "        which is often useful in particle filters.\n",
    "\n",
    "        :param steering_noise: Noise value to use for the steering measurement.\n",
    "        :param distance_noise: Noise value to use for the distance measurement.\n",
    "        \"\"\"\n",
    "\n",
    "        self.steering_noise = steering_noise\n",
    "        self.distance_noise = distance_noise\n",
    "\n",
    "    def set_steering_drift(self, \n",
    "            drift: float\n",
    "    ):\n",
    "        \"\"\"Sets the systematical steering drift parameter.\n",
    "\n",
    "        :param drift: Drift value to use for the steering angle.\n",
    "        \"\"\"\n",
    "\n",
    "        self.steering_drift = drift\n",
    "\n",
    "    def move(self, \n",
    "            steering: float, \n",
    "            distance: float, \n",
    "            tolerance: float=0.001, \n",
    "            max_steering_angle: float=np.pi / 4.0\n",
    "    ):\n",
    "        \"\"\"Move the robot to the next time-step with the provided controls.\n",
    "\n",
    "        :param steering: Front-wheel steering angle $\\delta$.\n",
    "        :param distance: Total distance travelled by vehicle in this time-step,\n",
    "            must be non-negative.\n",
    "        :param tolerance: Tolerance value for the manoeuvre,\n",
    "            values outside this threshold indicate a turning manoeuvre.\n",
    "        :param max_steering angle: Maximum front-wheel steering angle.\n",
    "        \"\"\"\n",
    "\n",
    "        # Thresholding of input steering angle and distance values \n",
    "        if steering > max_steering_angle:\n",
    "            steering = max_steering_angle\n",
    "        if steering < -max_steering_angle:\n",
    "            steering = -max_steering_angle\n",
    "        if distance < 0.0:\n",
    "            distance = 0.0\n",
    "        # Computing the noise values\n",
    "        steering2 = random.gauss(steering, self.steering_noise)\n",
    "        distance2 = random.gauss(distance, self.distance_noise)\n",
    "        # Applying the steering drift parameter to the steering angle\n",
    "        steering2 += self.steering_drift\n",
    "        # Compute the radius of the turn / manoeuvre to execute\n",
    "        turn_radius = np.tan(steering2) * distance2 / self.length\n",
    "        if abs(turn_radius) < tolerance:\n",
    "            # Compute the straight-line distance approximation of the manoeuvre\n",
    "            self.x += distance2 * np.cos(self.orientation)\n",
    "            self.y += distance2 * np.sin(self.orientation)\n",
    "            self.orientation = (self.orientation + turn) % (2.0 * np.pi)\n",
    "        else:\n",
    "            # Evaluate the approximate kinematic bicycle motion model\n",
    "            # for the desired turning manoeuvre\n",
    "            radius = distance2 / turn_radius\n",
    "            # Compute the changing rate of $x$, $y$, $\\delta$\n",
    "            cx = self.x - (np.sin(self.orientation) * radius)\n",
    "            cy = self.y + (np.cos(self.orientation) * radius)\n",
    "            self.orientation = (self.orientation + turn_radius) % (2.0 * np.pi)\n",
    "            self.x = cx + (np.sin(self.orientation) * radius)\n",
    "            self.y = cy - (np.cos(self.orientation) * radius)\n",
    "\n",
    "    def __repr__(self):\n",
    "        \"\"\"Overrides the default print function with vehicle state values.\"\"\"\n",
    "        return '[x=%.5f y=%.5f orient=%.5f]' % (self.x, self.y, self.orientation)"
   ]
  },
  {
   "cell_type": "markdown",
   "id": "1acb3320",
   "metadata": {},
   "source": [
    "### 2.1. Proportional Control"
   ]
  },
  {
   "cell_type": "markdown",
   "id": "a6d49071",
   "metadata": {},
   "source": [
    "Here we implement the proportional gain controller as defined in the `run` method below."
   ]
  },
  {
   "cell_type": "code",
   "execution_count": null,
   "id": "f043901b",
   "metadata": {},
   "outputs": [],
   "source": [
    "### From J. Moran's `1_proportional_control.py`"
   ]
  },
  {
   "cell_type": "code",
   "execution_count": null,
   "id": "d443d299",
   "metadata": {},
   "outputs": [],
   "source": [
    "def run(\n",
    "        robot: Robot, \n",
    "        tau: float, \n",
    "        n: int=100, \n",
    "        speed: float=1.0\n",
    ") -> Tuple[List[float], List[float]]:\n",
    "    \"\"\"Simulates the robot movement across `n` time-steps.\n",
    "\n",
    "    The proportional controller used here follows the equation:\n",
    "        $\\alpha = -\\tau * \\mathrm{CTE}$,\n",
    "    where the steering input angle $\\alpha$ is computed w.r.t. the\n",
    "    cross-track error $\\mathrm{CTE}$ which is proportional to the gain\n",
    "    factor $\\tau$ (i.e., the \"response strength\"). \n",
    "    \n",
    "    The proportional controller implemented here is used to direct the\n",
    "    robot motion towards the horizontal reference trajectory by giving\n",
    "    steering angle commands computed w.r.t. the normally-distributed\n",
    "    steering drift, as well as both steering- and distance measurement\n",
    "    noise.\n",
    "\n",
    "    :param robot: `Robot` class instance representing the vehicle to manoeuvre. \n",
    "    :param tau: Proportional gain constant.\n",
    "    :param n: Number of time-steps to simulate.\n",
    "    :param speed: Velocity (m/s) at which to drive the vehicle.\n",
    "    \"\"\"\n",
    "\n",
    "    # The list of $x$- and $y$-values for the simulated trajectory\n",
    "    x_trajectory = []\n",
    "    y_trajectory = []\n",
    "    # Simulate the robot movement across `n` time-steps\n",
    "    for i in range(n):\n",
    "        # Get the current cross-track error relative to reference trajectory\n",
    "        cte = robot.y\n",
    "        # Compute the steering angle w.r.t. the proportional gain controller\n",
    "        steer = -tau * cte\n",
    "        # Execute the steering command\n",
    "        robot.move(steer, speed)\n",
    "        # Append the updated robot position coordinates to the trajectory lists\n",
    "        _x, _y = robot.x, robot.y\n",
    "        x_trajectory.append(_x)\n",
    "        y_trajectory.append(_y)\n",
    "    return x_trajectory, y_trajectory"
   ]
  },
  {
   "cell_type": "markdown",
   "id": "ebc1766d",
   "metadata": {},
   "source": [
    "##### Testing the proportional gain controller"
   ]
  },
  {
   "cell_type": "code",
   "execution_count": null,
   "id": "f458c87a",
   "metadata": {},
   "outputs": [],
   "source": [
    "### From J. Moran's `1_proportional_control.py`"
   ]
  },
  {
   "cell_type": "code",
   "execution_count": null,
   "id": "2823ce73",
   "metadata": {},
   "outputs": [],
   "source": [
    "### Initialise the robot instance using default values\n",
    "robot = Robot()\n",
    "### Perform a single control run to position (0, 1)\n",
    "# with heading angle `0.0`\n",
    "robot.set(0.0, 1.0, 0.0)\n",
    "### Execute the trajectory using the proportional controller            \n",
    "x_trajectory, y_trajectory = run(robot, 0.1)\n",
    "n = len(x_trajectory)\n",
    "### Plot the robot position and orientation relative to the reference\n",
    "# Setting the default font to use with Matplotlib\n",
    "mpl.rc('font', family='Times New Roman')\n",
    "fig, (ax1, ax2) = plt.subplots(2, 1, figsize=(24, 20),\n",
    "        tight_layout=True\n",
    ")\n",
    "plt.suptitle('Robot Trajectory Tracking in 2D Using Proportional Gain Controller',\n",
    "        fontsize=24\n",
    ")\n",
    "ax1.set_title('Simulated across 100 time-steps',\n",
    "        fontsize=18\n",
    ")\n",
    "ax1.plot(x_trajectory, y_trajectory,\n",
    "        'g', label='P-controller'\n",
    ")\n",
    "ax1.plot(x_trajectory, np.zeros(n),\n",
    "        'r', label='Reference'\n",
    ")\n",
    "ax2.plot(x_trajectory, y_trajectory, \n",
    "        'g', label='P-controller'\n",
    ")\n",
    "ax2.plot(x_trajectory, np.zeros(n), \n",
    "        'r', label='Reference'\n",
    ")\n",
    "plt.legend(loc='lower right', fontsize='xx-large')\n",
    "plt.show()"
   ]
  },
  {
   "cell_type": "markdown",
   "id": "c211e225",
   "metadata": {},
   "source": [
    "## 3. Closing Remarks"
   ]
  },
  {
   "cell_type": "markdown",
   "id": "81805798",
   "metadata": {},
   "source": [
    "##### Alternatives\n",
    "* TODO.\n",
    "\n",
    "##### Extensions of task\n",
    "* TODO."
   ]
  },
  {
   "cell_type": "markdown",
   "id": "e1a6e5d4",
   "metadata": {},
   "source": [
    "## 4. Future Work\n",
    "* ⬜️ TODO."
   ]
  },
  {
   "cell_type": "markdown",
   "id": "90be64a7",
   "metadata": {},
   "source": [
    "## Credits"
   ]
  },
  {
   "cell_type": "markdown",
   "id": "1c0d8c7e",
   "metadata": {},
   "source": [
    "This assignment was prepared by Sebastian Thrun, 2021 (link [here](https://www.udacity.com/course/self-driving-car-engineer-nanodegree--nd0013)).\n",
    "\n",
    "References\n",
    "* TODO.\n",
    "\n",
    "Helpful resources:\n",
    "* [Simple Understanding of Kinematic Bicycle Model by Y. Ding | Medium](https://dingyan89.medium.com/simple-understanding-of-kinematic-bicycle-model-81cac6420357)."
   ]
  }
 ],
 "metadata": {
  "kernelspec": {
   "display_name": "Python 3",
   "language": "python",
   "name": "python3"
  },
  "language_info": {
   "codemirror_mode": {
    "name": "ipython",
    "version": 3
   },
   "file_extension": ".py",
   "mimetype": "text/x-python",
   "name": "python",
   "nbconvert_exporter": "python",
   "pygments_lexer": "ipython3",
   "version": "3.8.13"
  },
  "toc": {
   "base_numbering": 1,
   "nav_menu": {},
   "number_sections": false,
   "sideBar": true,
   "skip_h1_title": false,
   "title_cell": "Table of Contents",
   "title_sidebar": "Contents",
   "toc_cell": false,
   "toc_position": {},
   "toc_section_display": true,
   "toc_window_display": true
  }
 },
 "nbformat": 4,
 "nbformat_minor": 5
}
